{
  "nbformat": 4,
  "nbformat_minor": 0,
  "metadata": {
    "kernelspec": {
      "display_name": "Python 3",
      "language": "python",
      "name": "python3"
    },
    "language_info": {
      "codemirror_mode": {
        "name": "ipython",
        "version": 3
      },
      "file_extension": ".py",
      "mimetype": "text/x-python",
      "name": "python",
      "nbconvert_exporter": "python",
      "pygments_lexer": "ipython3",
      "version": "3.7.4"
    },
    "colab": {
      "name": "Assignment6.ipynb",
      "provenance": [],
      "collapsed_sections": [
        "K1HMuvy2yiEQ",
        "Hj5e4iWAyiER",
        "DnCLInNjyiER",
        "tHBM6h_PNDts"
      ],
      "toc_visible": true,
      "include_colab_link": true
    },
    "accelerator": "GPU"
  },
  "cells": [
    {
      "cell_type": "markdown",
      "metadata": {
        "id": "view-in-github",
        "colab_type": "text"
      },
      "source": [
        "<a href=\"https://colab.research.google.com/github/JaredGlaub/NeuralNetworks/blob/main/Assignment6.ipynb\" target=\"_parent\"><img src=\"https://colab.research.google.com/assets/colab-badge.svg\" alt=\"Open In Colab\"/></a>"
      ]
    },
    {
      "cell_type": "markdown",
      "metadata": {
        "id": "_38jZJR8yiEH"
      },
      "source": [
        "## Practical Machine Learning\n",
        "### Assignment 6 - Neural Networks\n",
        "\n",
        "Description:\n",
        "This individual assignment involves fitting a neural network to the MNIST data, testing alternative network structures, activation functions, optimization methods, and/or hyperparameter settings. As in Assignment 5, we will assess classification performance accuracy and processing time. Python TensorFlow should be used for Assignment 6. (If you experience difficulty installing TensorFlow, Python scikit-learn may be used as an alternative for Assignment 6.)\n",
        "\n",
        "The Benchmark Experiment\n",
        "Tested neural network structures should be explored within a benchmark experiment, a factorial design with at least two levels on each of two experimental factors (at least a 2x2 completely crossed design). But due to the time required to fit each neural network, we will observe only one trial for each cell in the design. Also, we will be using a simple training-and-test split with the split having been performed previously. That is, we use the training and test sets that come with MNIST.\n",
        "\n",
        "An example experiment could include two values for the number of nodes per inner layer and two values for the number of inner layers. Various machine learning hyperparameter settings may be used.\n",
        "\n",
        "Students are encouraged to work in STUDY TEAMS on this assignment, with the understanding that each student must run the code himself/herself and write an independent report of the experimental results. \n",
        "\n",
        "An example of the results from this assignment should be provided in a table such as the following:\n",
        "Image added to the assignment section within Canvas.\n",
        "\n",
        "In summary, this assignment asks you to fit a number of neural networks, comparing processing time and performance across experimental treatments.\n",
        "\n",
        "Management Question\n",
        "Suppose you are a financial institution evaluating machine learning technologies for optical character recognition. Initial testing is on the MNIST digits. What can you conclude from your benchmark study? Which neural network typology and hyperparameter settings would you recommend as being the most trustworthy?\n",
        "\n",
        "Programming Resources\n",
        "Géron, A. (2017). Hands-on machine learning with Scikit-Learn & TensorFlow: Concepts, tools, and techniques to build intelligent systems. Sebastopol, CA: O’Reilly. [ISBN-13 978-1-491-96229-9]. Chapter 11: Training Deep Neural Networks (pp. 275–312). Chapter 11 code (a Jupyter Notebook file 11_deep_learning.ipynb) shows how to use TensorFlow with the MNIST data set:\n",
        "Source code available at via Github\n",
        "\n",
        "\n",
        "##### Extensive coding examples are provided under:\n",
        "Modules 6 / Additional Resources \n",
        "\n",
        "For students wanting to compare TensorFlow with scikit-learn or other systems for building neural networks, it is good to have common input data. See the programs under:\n",
        "Modules 6 / Additional Resources / Jump-Start MNIST Data Prep\n",
        "\n",
        "For a demonstration of scikit-learn fitting of neural networks, a demonstration is shown under:\n",
        "Modules 6 / Additional Resources / Jump-Start MNIST Scikit-Learn Neural Networks\n",
        "\n",
        "\n",
        "TensorFlow documentation and tutorials are available online at\n",
        "https://www.tensorflow.org/api_docs/python \n",
        "https://www.tensorflow.org/tutorials/index.html\n",
        "\n",
        "Visualization of TensorFlow work is provided through TensorBoard, with documentation at\n",
        "https://www.tensorflow.org/get_started/summaries_and_tensorboard \n",
        "https://www.tensorflow.org/get_started/graph_viz \n",
        "\n",
        "For tutorials from the TensorFlow Developers Summit 2017\n",
        "https://www.youtube.com/playlist?list=PLOU2XLYxmsIKGc_NBoIhTn2Qhraji53cv \n",
        "\n",
        "There is also a Lynda.com course introducing TensorFlow. See the reference under Modules / Technology Resources.\n",
        "\n",
        "Background information on neural network structure and parameter estimation and the mathematics of optimization (backpropagation) may be found at:\n",
        "https://www.youtube.com/watch?v=aircAruvnKk \n",
        "\n",
        "\n",
        "An advanced Google presentation from the TensorFlow Developers Summit 2017 demonstrates the wide range of possibilities available through TensorBoard:\n",
        "https://www.youtube.com/watch?v=eBbEDRsCmv4&list=PLOU2XLYxmsIKGc_NBoIhTn2Qhraji53cv&index=5\n",
        "\n",
        "\n",
        "Grading Guidelines (50 points)\n",
        "(1) Data preparation, exploration, visualization (10 points)\n",
        "(2) Review research design and modeling methods (10 points)\n",
        "(3) Review results, evaluate models (10 points)\n",
        "(4) Implementation and programming (10 points)\n",
        "(5) Exposition, problem description, and management recommendations (10 points)\n",
        "\n",
        " \n",
        "Deliverables and File Formats\n",
        "Please upload the completed jupyter notebook (PREFERRED)\n",
        "\n",
        "OR\n",
        "\n",
        "Create a folder or directory with all supplementary files with your last name at the beginning of the folder name, compress that folder with zip compression, and post the zip-archived folder under the assignment link in Canvas. The following files should be included in an archive folder/directory that is uploaded as a single zip-compressed file. (Use zip, not StuffIt or any 7z or other compression method.)\n",
        "\n",
        "1. Provide a double-spaced paper with a two-page maximum for the text. The paper should include (1) a summary and problem definition for management; (2) discussion of the research design, measurement and statistical methods, traditional and machine learning methods employed; (3) overview of programming work; and (4) review of results with recommendations for management. (The paper must be provided as an Adobe Acrobat pdf file. MS Word files are NOT acceptable.)\n",
        "\n",
        "2. Files or links to files should be provided in the format as used by the Python program.\n",
        "\n",
        "3. Complete program code in Python used to access and analyze the data. The code should be submitted as a plain text file, so it can be executed as a program in a single Python program execution within an interactive Python shell. (You may include a Python notebook in addition to the complete program code.) If there are calls to Python modules, ensure that the directory structure is maintained so that the main program may be fully executed. \n",
        "\n",
        "4. Output from the program, such as console listing/logs, text files, and graphics output for visualizations. If you use Professional Studies database servers or systems, include Linux logs of your sessions as plain text files.\n",
        "\n",
        "5. List file names and descriptions of files in the zip-compressed folder/directory.\n",
        "\n",
        "\n",
        "Formatting Python Code\n",
        "Refer to Google’s Python Style Guide for ideas about formatting Python code\n",
        "\n",
        "Also refer to Google’s TensorFlow Style Guide\n",
        "\n",
        "Comment often and in detail, highlighting major sections of code, describing the thinking behind the modeling and programming methods being employed.\n",
        "\n",
        "\n",
        "Purpose: \n",
        "The goal of this assignment is to fit a number of neural networks, comparing processing time and performance across experimental treatments. During this process we need to also address the below question that solves a business need.\n",
        "\n",
        "Additional resouces on OCR:\n",
        "https://www.ritchieng.com/machine-learning-photo-ocr/ \n",
        "\n",
        "Frameworks:\n",
        "Python TensorFlow should be used and in case you are experiencing difficulty installing TensorFlow, Python Scikit Learn can be used\n",
        "\n",
        "The following steps might help: \n",
        "- Set up Parameters such as, learning_rate, training_epochs, batch_size = 128, step = 1 along with network parameters inputs, classes, nodes & layers. \n",
        "- Define Layers, creating a NN with weights & biases \n",
        "- setup the cost Function & the optimizer\n",
        "- train model and identify model accuracy ( make sure to time the runs )\n",
        "- Repeating for different Number of Nodes/Layers\n"
      ]
    },
    {
      "cell_type": "markdown",
      "metadata": {
        "id": "Mb_z39hQLlL6"
      },
      "source": [
        "### Preprocessing"
      ]
    },
    {
      "cell_type": "code",
      "metadata": {
        "id": "CdABkUEuyiEJ"
      },
      "source": [
        "# Ignore warnings\n",
        "import warnings\n",
        "warnings.filterwarnings(\"ignore\")"
      ],
      "execution_count": null,
      "outputs": []
    },
    {
      "cell_type": "code",
      "metadata": {
        "colab": {
          "base_uri": "https://localhost:8080/"
        },
        "id": "kb1aE23eyiEK",
        "outputId": "5cf3f8c2-26f9-40b7-b414-9a6185801ab9"
      },
      "source": [
        "# Common imports: Numpy, os and time.\n",
        "import numpy as np\n",
        "import os\n",
        "import time\n",
        "\n",
        "%matplotlib inline\n",
        "import matplotlib\n",
        "import matplotlib.pyplot as plt\n",
        "\n",
        "# Table creation for Tensor Flow Neural Network Benchmark Experiment Results\n",
        "import sys\n",
        "!{sys.executable} -m pip install tabulate\n",
        "from tabulate import tabulate\n",
        "\n",
        "# Tensor Flow Neural Network\n",
        "import keras\n",
        "#import tensorflow as tf\n",
        "from tensorflow.keras import backend\n",
        "\n",
        "import tensorflow.compat.v1 as tf\n",
        "tf.disable_v2_behavior()\n",
        "\n",
        "# dataframe submission of predictions\n",
        "import pandas as pd\n",
        "\n",
        "# to make this notebook's output stable across runs\n",
        "def reset_graph(seed=42):\n",
        "    #tf.reset_default_graph()\n",
        "    tf.compat.v1.get_default_graph()\n",
        "    #tf.set_random_seed(seed)\n",
        "    tf.random.set_random_seed(seed)\n",
        "    np.random.seed(seed)   "
      ],
      "execution_count": null,
      "outputs": [
        {
          "output_type": "stream",
          "text": [
            "Requirement already satisfied: tabulate in /usr/local/lib/python3.7/dist-packages (0.8.9)\n",
            "WARNING:tensorflow:From /usr/local/lib/python3.7/dist-packages/tensorflow/python/compat/v2_compat.py:96: disable_resource_variables (from tensorflow.python.ops.variable_scope) is deprecated and will be removed in a future version.\n",
            "Instructions for updating:\n",
            "non-resource variables are not supported in the long term\n"
          ],
          "name": "stdout"
        }
      ]
    },
    {
      "cell_type": "code",
      "metadata": {
        "colab": {
          "base_uri": "https://localhost:8080/"
        },
        "id": "CPzb-yM5yiEL",
        "outputId": "b447f8b4-0768-4c1f-930d-18d1f6990993"
      },
      "source": [
        "# Load MNIST Data Set\n",
        "(X_train, y_train), (X_test, y_test) = tf.keras.datasets.mnist.load_data()\n",
        "\n",
        "X_train = X_train.astype(np.float32).reshape(-1, 28*28) / 255.0\n",
        "X_test = X_test.astype(np.float32).reshape(-1, 28*28) / 255.0\n",
        "\n",
        "y_train = y_train.astype(np.int32)\n",
        "y_test = y_test.astype(np.int32)\n",
        "\n",
        "X_valid, X_train = X_train[:5000], X_train[5000:]\n",
        "y_valid, y_train = y_train[:5000], y_train[5000:]"
      ],
      "execution_count": null,
      "outputs": [
        {
          "output_type": "stream",
          "text": [
            "Downloading data from https://storage.googleapis.com/tensorflow/tf-keras-datasets/mnist.npz\n",
            "11493376/11490434 [==============================] - 0s 0us/step\n"
          ],
          "name": "stdout"
        }
      ]
    },
    {
      "cell_type": "code",
      "metadata": {
        "colab": {
          "base_uri": "https://localhost:8080/"
        },
        "id": "pS5O4aJsyiEL",
        "outputId": "f86a5bc7-0cff-42e1-e3ca-5c573dc53b9f"
      },
      "source": [
        "#Check the shape of MNIST data aset\n",
        "print(\"Shape of Training data: \", X_train.shape)\n",
        "print(\"Shape of Validate data: \", X_valid.shape)\n",
        "print(\"Shape of Test data: \", X_test.shape)\n",
        "\n",
        "print(\"\\nShape of Training data: \", y_train.shape)\n",
        "print(\"Shape of Validate data: \", y_valid.shape)\n",
        "print(\"Shape of Test data: \", y_test.shape)"
      ],
      "execution_count": null,
      "outputs": [
        {
          "output_type": "stream",
          "text": [
            "Shape of Training data:  (55000, 784)\n",
            "Shape of Validate data:  (5000, 784)\n",
            "Shape of Test data:  (10000, 784)\n",
            "\n",
            "Shape of Training data:  (55000,)\n",
            "Shape of Validate data:  (5000,)\n",
            "Shape of Test data:  (10000,)\n"
          ],
          "name": "stdout"
        }
      ]
    },
    {
      "cell_type": "code",
      "metadata": {
        "colab": {
          "base_uri": "https://localhost:8080/",
          "height": 265
        },
        "id": "YhtzP8rMyiEM",
        "outputId": "5a83222b-38b7-4a72-cb11-d7b9927c5364"
      },
      "source": [
        "some_digit = X_train[36001]\n",
        "some_digit_image = some_digit.reshape(28, 28)\n",
        "plt.imshow(some_digit_image, cmap = matplotlib.cm.binary,interpolation=\"nearest\")\n",
        "plt.axis(\"off\")\n",
        "\n",
        "plt.show()\n",
        "print(\"The target value is\", y_train[36001])"
      ],
      "execution_count": null,
      "outputs": [
        {
          "output_type": "display_data",
          "data": {
            "image/png": "[encoded data removed]",
            "text/plain": [
              "<Figure size 432x288 with 1 Axes>"
            ]
          },
          "metadata": {
            "tags": [],
            "needs_background": "light"
          }
        },
        {
          "output_type": "stream",
          "text": [
            "The target value is 5\n"
          ],
          "name": "stdout"
        }
      ]
    },
    {
      "cell_type": "code",
      "metadata": {
        "colab": {
          "base_uri": "https://localhost:8080/",
          "height": 520
        },
        "id": "AvVlN6vUyiEM",
        "outputId": "75fc92cd-4611-49c5-a119-88da8e434a78"
      },
      "source": [
        "# additonal plots that show a number of rows\n",
        "\n",
        "def plot_digit(data):\n",
        "    image = data.reshape(28, 28)\n",
        "    plt.imshow(image, cmap = matplotlib.cm.binary,\n",
        "               interpolation=\"nearest\")\n",
        "    plt.axis(\"off\")\n",
        "    \n",
        "# EXTRA\n",
        "def plot_digits(instances, images_per_row=10, **options):\n",
        "    size = 28\n",
        "    images_per_row = min(len(instances), images_per_row)\n",
        "    images = [instance.reshape(size,size) for instance in instances]\n",
        "    n_rows = (len(instances) - 1) // images_per_row + 1\n",
        "    row_images = []\n",
        "    n_empty = n_rows * images_per_row - len(instances)\n",
        "    images.append(np.zeros((size, size * n_empty)))\n",
        "    for row in range(n_rows):\n",
        "        rimages = images[row * images_per_row : (row + 1) * images_per_row]\n",
        "        row_images.append(np.concatenate(rimages, axis=1))\n",
        "    image = np.concatenate(row_images, axis=0)\n",
        "    plt.imshow(image, cmap = matplotlib.cm.binary, **options)\n",
        "    plt.axis(\"off\")\n",
        "    \n",
        "plt.figure(figsize=(9,9))\n",
        "example_images = np.r_[X_train[:12000:600], X_train[13000:30600:600], X_train[30600:60000:590]]\n",
        "plot_digits(example_images, images_per_row=10)\n",
        "plt.show()"
      ],
      "execution_count": null,
      "outputs": [
        {
          "output_type": "display_data",
          "data": {
            "image/png": "[encoded data removed]",
            "text/plain": [
              "<Figure size 648x648 with 1 Axes>"
            ]
          },
          "metadata": {
            "tags": [],
            "needs_background": "light"
          }
        }
      ]
    },
    {
      "cell_type": "markdown",
      "metadata": {
        "id": "uCqbGy1QyiEN"
      },
      "source": [
        "#####  Model 1 : 2 layers, 1st layers: 300 neurons, 2nd layers: 100 neurons"
      ]
    },
    {
      "cell_type": "code",
      "metadata": {
        "id": "6HIi9q8OyiEN"
      },
      "source": [
        "# CONSTRUCTION PHASE\n",
        "\n",
        "# Specify the number of inputs and outputs, and set the number of hidden neurons in each layer\n",
        "# Neural Network - 2 layers\n",
        "\n",
        "n_inputs = 28*28  # MNIST features = 28 pixels n 28 pixels for input\n",
        "n_hidden1_M1 = 300 # 300 hidden neurons in the 1st layer\n",
        "n_hidden2_M1 = 100 # 100 hidden neurons in the 2nd layer\n",
        "n_outputs = 10 # 10 outputs (0-9)"
      ],
      "execution_count": null,
      "outputs": []
    },
    {
      "cell_type": "code",
      "metadata": {
        "id": "qtYANUdnyiEN"
      },
      "source": [
        "# Setup placeholder nodes to represent the training data and targets\n",
        "reset_graph() #reset previous graph not to disturve the following process. \n",
        "\n",
        "X = tf.placeholder(tf.float32, shape=(None, n_inputs), name=\"X\")\n",
        "y = tf.placeholder(tf.int32, shape=(None), name=\"y\")"
      ],
      "execution_count": null,
      "outputs": []
    },
    {
      "cell_type": "code",
      "metadata": {
        "collapsed": true,
        "id": "rPufDdEVyiEO"
      },
      "source": [
        "# Create Neural Network　with tf.layers.dense()\n",
        "with tf.name_scope(\"dnn\"):\n",
        "    hidden1 = tf.layers.dense(X, n_hidden1_M1, name=\"hidden1\",\n",
        "                              activation=tf.nn.relu)\n",
        "    hidden2 = tf.layers.dense(hidden1, n_hidden2_M1, name=\"hidden2\",\n",
        "                              activation=tf.nn.relu)\n",
        "    logits = tf.layers.dense(hidden2, n_outputs, name=\"outputs\")"
      ],
      "execution_count": null,
      "outputs": []
    },
    {
      "cell_type": "code",
      "metadata": {
        "collapsed": true,
        "id": "TpAgrfQnyiEO"
      },
      "source": [
        "# Cost function for training Neural Network\n",
        "with tf.name_scope(\"loss\"):\n",
        "    xentropy = tf.nn.sparse_softmax_cross_entropy_with_logits(labels=y,\n",
        "                                                              logits=logits)\n",
        "    loss = tf.reduce_mean(xentropy, name=\"loss\")"
      ],
      "execution_count": null,
      "outputs": []
    },
    {
      "cell_type": "code",
      "metadata": {
        "id": "GJsNciCiyiEO"
      },
      "source": [
        "# Gradient Descent Optimizer to minimize the cost function by learning_rate = 0.01 \n",
        "learning_rate = 0.01\n",
        "\n",
        "with tf.name_scope(\"train\"):\n",
        "    optimizer = tf.train.GradientDescentOptimizer(learning_rate)\n",
        "    training_op = optimizer.minimize(loss)"
      ],
      "execution_count": null,
      "outputs": []
    },
    {
      "cell_type": "code",
      "metadata": {
        "id": "Gz0GxhZ_yiEO"
      },
      "source": [
        "# Measure classification performance by in_top_k().\n",
        "with tf.name_scope(\"eval\"):\n",
        "    correct = tf.nn.in_top_k(logits, y, 1)\n",
        "    accuracy = tf.reduce_mean(tf.cast(correct, tf.float32))"
      ],
      "execution_count": null,
      "outputs": []
    },
    {
      "cell_type": "code",
      "metadata": {
        "collapsed": true,
        "id": "cLZn3N_OyiEO"
      },
      "source": [
        "# Node to initialize all the variables\n",
        "init = tf.global_variables_initializer()"
      ],
      "execution_count": null,
      "outputs": []
    },
    {
      "cell_type": "code",
      "metadata": {
        "collapsed": true,
        "id": "ZLlbA5ZmyiEP"
      },
      "source": [
        "# Create saver to save trained parameters.\n",
        "saver = tf.train.Saver(save_relative_paths=True) "
      ],
      "execution_count": null,
      "outputs": []
    },
    {
      "cell_type": "code",
      "metadata": {
        "collapsed": true,
        "id": "ayk_MCjZyiEP"
      },
      "source": [
        "# EXECUTION PHASE\n",
        "\n",
        "# Set number of epochs and batch size for training model.\n",
        "n_epochs = 40\n",
        "batch_size = 50"
      ],
      "execution_count": null,
      "outputs": []
    },
    {
      "cell_type": "code",
      "metadata": {
        "collapsed": true,
        "id": "U_SihgYUyiEP"
      },
      "source": [
        "# Record start time for neral network training\n",
        "start_time_M1 = time.clock()"
      ],
      "execution_count": null,
      "outputs": []
    },
    {
      "cell_type": "code",
      "metadata": {
        "collapsed": true,
        "id": "CCrl3P0WyiEP"
      },
      "source": [
        "# Create function to shuffle training data\n",
        "def shuffle_batch(X, y, batch_size):\n",
        "    rnd_idx = np.random.permutation(len(X))\n",
        "    n_batches = len(X) // batch_size\n",
        "    for batch_idx in np.array_split(rnd_idx, n_batches):\n",
        "        X_batch, y_batch = X[batch_idx], y[batch_idx]\n",
        "        yield X_batch, y_batch"
      ],
      "execution_count": null,
      "outputs": []
    },
    {
      "cell_type": "code",
      "metadata": {
        "colab": {
          "base_uri": "https://localhost:8080/"
        },
        "id": "F5cmr44iyiEP",
        "outputId": "3eeb5987-6ea1-4994-b485-0d26e9b40741"
      },
      "source": [
        "#Training model by using neural network\n",
        "with tf.Session() as sess:\n",
        "    init.run()\n",
        "    for epoch in range(n_epochs):\n",
        "        for X_batch, y_batch in shuffle_batch(X_train, y_train, batch_size):\n",
        "            sess.run(training_op, feed_dict={X: X_batch, y: y_batch})\n",
        "        acc_batch_M1 = accuracy.eval(feed_dict={X: X_batch, y: y_batch})\n",
        "        acc_val_M1 = accuracy.eval(feed_dict={X: X_valid, y: y_valid})\n",
        "        print(epoch, \"Batch accuracy:\", acc_batch_M1, \"Val accuracy:\", acc_val_M1)\n",
        "\n",
        "    save_path = saver.save(sess, \"./my_model_final.ckpt\")"
      ],
      "execution_count": null,
      "outputs": [
        {
          "output_type": "stream",
          "text": [
            "0 Batch accuracy: 0.9 Val accuracy: 0.906\n",
            "1 Batch accuracy: 0.92 Val accuracy: 0.9272\n",
            "2 Batch accuracy: 0.94 Val accuracy: 0.9348\n",
            "3 Batch accuracy: 0.9 Val accuracy: 0.9402\n",
            "4 Batch accuracy: 0.94 Val accuracy: 0.9438\n",
            "5 Batch accuracy: 0.94 Val accuracy: 0.9482\n",
            "6 Batch accuracy: 1.0 Val accuracy: 0.9536\n",
            "7 Batch accuracy: 0.94 Val accuracy: 0.9584\n",
            "8 Batch accuracy: 0.96 Val accuracy: 0.9606\n",
            "9 Batch accuracy: 0.9 Val accuracy: 0.9616\n",
            "10 Batch accuracy: 0.9 Val accuracy: 0.9634\n",
            "11 Batch accuracy: 1.0 Val accuracy: 0.965\n",
            "12 Batch accuracy: 0.98 Val accuracy: 0.966\n",
            "13 Batch accuracy: 0.98 Val accuracy: 0.9664\n",
            "14 Batch accuracy: 1.0 Val accuracy: 0.9672\n",
            "15 Batch accuracy: 0.92 Val accuracy: 0.969\n",
            "16 Batch accuracy: 1.0 Val accuracy: 0.9698\n",
            "17 Batch accuracy: 1.0 Val accuracy: 0.9698\n",
            "18 Batch accuracy: 0.98 Val accuracy: 0.9706\n",
            "19 Batch accuracy: 0.96 Val accuracy: 0.9728\n",
            "20 Batch accuracy: 1.0 Val accuracy: 0.974\n",
            "21 Batch accuracy: 1.0 Val accuracy: 0.973\n",
            "22 Batch accuracy: 0.96 Val accuracy: 0.9732\n",
            "23 Batch accuracy: 0.98 Val accuracy: 0.973\n",
            "24 Batch accuracy: 0.98 Val accuracy: 0.9742\n",
            "25 Batch accuracy: 1.0 Val accuracy: 0.9764\n",
            "26 Batch accuracy: 0.96 Val accuracy: 0.976\n",
            "27 Batch accuracy: 1.0 Val accuracy: 0.9754\n",
            "28 Batch accuracy: 0.94 Val accuracy: 0.9758\n",
            "29 Batch accuracy: 1.0 Val accuracy: 0.9782\n",
            "30 Batch accuracy: 0.98 Val accuracy: 0.9756\n",
            "31 Batch accuracy: 0.94 Val accuracy: 0.977\n",
            "32 Batch accuracy: 0.96 Val accuracy: 0.9768\n",
            "33 Batch accuracy: 0.98 Val accuracy: 0.9778\n",
            "34 Batch accuracy: 1.0 Val accuracy: 0.9774\n",
            "35 Batch accuracy: 0.98 Val accuracy: 0.9766\n",
            "36 Batch accuracy: 0.96 Val accuracy: 0.9768\n",
            "37 Batch accuracy: 1.0 Val accuracy: 0.9786\n",
            "38 Batch accuracy: 0.98 Val accuracy: 0.978\n",
            "39 Batch accuracy: 1.0 Val accuracy: 0.9792\n"
          ],
          "name": "stdout"
        }
      ]
    },
    {
      "cell_type": "code",
      "metadata": {
        "colab": {
          "base_uri": "https://localhost:8080/"
        },
        "id": "_O1N3uiOyiEQ",
        "outputId": "ea663692-789e-4d44-8217-5e1b66f24b08"
      },
      "source": [
        "# Make prediction by using test data\n",
        "with tf.Session() as sess:\n",
        "    saver.restore(sess, \"./my_model_final.ckpt\") # or better, use save_path\n",
        "    X_new_scaled = X_test[:20]\n",
        "    Z = logits.eval(feed_dict={X: X_new_scaled})\n",
        "    y_pred_M1 = np.argmax(Z, axis=1)\n",
        "    accuracy_M1 = accuracy.eval(feed_dict={X: X_test, \n",
        "                                        y: y_test})\n",
        "    final_z = logits.eval(feed_dict={X: X_test})"
      ],
      "execution_count": null,
      "outputs": [
        {
          "output_type": "stream",
          "text": [
            "INFO:tensorflow:Restoring parameters from ./my_model_final.ckpt\n"
          ],
          "name": "stdout"
        }
      ]
    },
    {
      "cell_type": "code",
      "metadata": {
        "colab": {
          "base_uri": "https://localhost:8080/"
        },
        "id": "-2aGvkvPyiEQ",
        "outputId": "04c67ff1-c19f-4be2-945f-d89fc46342a4"
      },
      "source": [
        "# Print prediction classess and actual classess.\n",
        "print(\"-------- Model 1 --------\")\n",
        "print(\"300 neurons (1st layer), 100 neurons (2nd layer)\")\n",
        "print(\"\\nPredicted classes:\", y_pred_M1)\n",
        "print(\"Actual classes:\", y_test[:20])\n",
        "print(\"Test Set Accracy:\", accuracy_M1)\n",
        "\n",
        "# Record end time for neral network training\n",
        "stop_time_M1 = time.clock()\n",
        "\n",
        "#Total processing time\n",
        "runtime_M1 = stop_time_M1 - start_time_M1 \n",
        "\n",
        "print(\"\\nStart time:\", start_time_M1)\n",
        "print(\"Stop time:\", stop_time_M1)\n",
        "print(\"processing time:\", runtime_M1)"
      ],
      "execution_count": null,
      "outputs": [
        {
          "output_type": "stream",
          "text": [
            "-------- Model 1 --------\n",
            "300 neurons (1st layer), 100 neurons (2nd layer)\n",
            "\n",
            "Predicted classes: [7 2 1 0 4 1 4 9 5 9 0 6 9 0 1 5 9 7 3 4]\n",
            "Actual classes: [7 2 1 0 4 1 4 9 5 9 0 6 9 0 1 5 9 7 3 4]\n",
            "Test Set Accracy: 0.9782\n",
            "\n",
            "Start time: 465.363374\n",
            "Stop time: 620.511231\n",
            "processing time: 155.14785699999993\n"
          ],
          "name": "stdout"
        }
      ]
    },
    {
      "cell_type": "markdown",
      "metadata": {
        "id": "K1HMuvy2yiEQ"
      },
      "source": [
        "##### Model 2 :  2 layers, 1st layer: 600 neurons, 2nd layer: 200 neurons"
      ]
    },
    {
      "cell_type": "code",
      "metadata": {
        "id": "4BRpRIaoDJ8J"
      },
      "source": [
        "# CONSTRUCTION PHASE\n",
        "\n",
        "# Specify the number of inputs and outputs, and set the number of hidden neurons in each layer\n",
        "# Neural Network - 2 layers\n",
        "\n",
        "n_inputs = 28*28  # MNIST features = 28 pixcels n 28 pixcels for input\n",
        "n_hidden1_M2 = 600 # 300 hidden neurons in the 1st layer\n",
        "n_hidden2_M2 = 200 # 100 hidden neurons in the 2nd layer\n",
        "n_outputs = 10 # 10 outputs (0-9)"
      ],
      "execution_count": null,
      "outputs": []
    },
    {
      "cell_type": "code",
      "metadata": {
        "id": "3ucU_xAfDKxy"
      },
      "source": [
        "# Setup placeholder nodes to represent the training data and targets\n",
        "tf.reset_default_graph()  #reset previous graph not to disturve the following process. \n",
        "\n",
        "X = tf.placeholder(tf.float32, shape=(None, n_inputs), name=\"X\")\n",
        "y = tf.placeholder(tf.int32, shape=(None), name=\"y\")"
      ],
      "execution_count": null,
      "outputs": []
    },
    {
      "cell_type": "code",
      "metadata": {
        "id": "Aqj4sMIHDPbO"
      },
      "source": [
        "# Create Neural Network　with tf.layers.dense()\n",
        "with tf.name_scope(\"dnn\"):\n",
        "    hidden1 = tf.layers.dense(X, n_hidden1_M1, name=\"hidden1\",\n",
        "                              activation=tf.nn.relu)\n",
        "    hidden2 = tf.layers.dense(hidden1, n_hidden2_M1, name=\"hidden2\",\n",
        "                              activation=tf.nn.relu)\n",
        "    logits = tf.layers.dense(hidden2, n_outputs, name=\"outputs\")"
      ],
      "execution_count": null,
      "outputs": []
    },
    {
      "cell_type": "code",
      "metadata": {
        "id": "Es5SFYKUDSFh"
      },
      "source": [
        "# Cost function for training Neural Network\n",
        "with tf.name_scope(\"loss\"):\n",
        "    xentropy = tf.nn.sparse_softmax_cross_entropy_with_logits(labels=y,\n",
        "                                                              logits=logits)\n",
        "    loss = tf.reduce_mean(xentropy, name=\"loss\")"
      ],
      "execution_count": null,
      "outputs": []
    },
    {
      "cell_type": "code",
      "metadata": {
        "id": "EXbpn133DXsG"
      },
      "source": [
        "# Gradient Descent Optimizer to minimize the cost function by learning_rate = 0.01, small so increase epochs\n",
        "learning_rate = 0.01\n",
        "\n",
        "with tf.name_scope(\"train\"):\n",
        "    optimizer = tf.train.GradientDescentOptimizer(learning_rate)\n",
        "    training_op = optimizer.minimize(loss)"
      ],
      "execution_count": null,
      "outputs": []
    },
    {
      "cell_type": "code",
      "metadata": {
        "id": "8qU49YPIDbA1"
      },
      "source": [
        "# Measure classification performance by in_top_k().\n",
        "with tf.name_scope(\"eval\"):\n",
        "    correct = tf.nn.in_top_k(logits, y, 1)\n",
        "    accuracy = tf.reduce_mean(tf.cast(correct, tf.float32))"
      ],
      "execution_count": null,
      "outputs": []
    },
    {
      "cell_type": "code",
      "metadata": {
        "id": "Hr4tEAvVDhsp"
      },
      "source": [
        "# Node to initialize all the variables\n",
        "init = tf.global_variables_initializer()"
      ],
      "execution_count": null,
      "outputs": []
    },
    {
      "cell_type": "code",
      "metadata": {
        "id": "s4_JSg5jDiLp"
      },
      "source": [
        "# Create saver to save trained parameters.\n",
        "saver = tf.train.Saver(save_relative_paths=True) "
      ],
      "execution_count": null,
      "outputs": []
    },
    {
      "cell_type": "code",
      "metadata": {
        "id": "eqWvlLEeDiRi"
      },
      "source": [
        "# EXECUTION PHASE\n",
        "\n",
        "# Set number of epochs and batch size for training model.\n",
        "n_epochs = 40\n",
        "batch_size = 50"
      ],
      "execution_count": null,
      "outputs": []
    },
    {
      "cell_type": "code",
      "metadata": {
        "id": "2WCkjN5xDiYt"
      },
      "source": [
        "# Record start time for neral network training\n",
        "start_time_M2 = time.clock()"
      ],
      "execution_count": null,
      "outputs": []
    },
    {
      "cell_type": "code",
      "metadata": {
        "id": "XoQGINOxDiiy"
      },
      "source": [
        "# Create function to shuffle training data\n",
        "def shuffle_batch(X, y, batch_size):\n",
        "    rnd_idx = np.random.permutation(len(X))\n",
        "    n_batches = len(X) // batch_size\n",
        "    for batch_idx in np.array_split(rnd_idx, n_batches):\n",
        "        X_batch, y_batch = X[batch_idx], y[batch_idx]\n",
        "        yield X_batch, y_batch"
      ],
      "execution_count": null,
      "outputs": []
    },
    {
      "cell_type": "code",
      "metadata": {
        "colab": {
          "base_uri": "https://localhost:8080/"
        },
        "id": "OYfTyq7tDinl",
        "outputId": "bffddf3e-d2ee-4beb-9ab1-dc547f6f5572"
      },
      "source": [
        "#Training model by using neural network\n",
        "with tf.Session() as sess:\n",
        "    init.run()\n",
        "    for epoch in range(n_epochs):\n",
        "        for X_batch, y_batch in shuffle_batch(X_train, y_train, batch_size):\n",
        "            sess.run(training_op, feed_dict={X: X_batch, y: y_batch})\n",
        "        acc_batch_M1 = accuracy.eval(feed_dict={X: X_batch, y: y_batch})\n",
        "        acc_val_M1 = accuracy.eval(feed_dict={X: X_valid, y: y_valid})\n",
        "        print(epoch, \"Batch accuracy:\", acc_batch_M1, \"Val accuracy:\", acc_val_M1)\n",
        "\n",
        "    save_path = saver.save(sess, \"./my_model_final.ckpt\")"
      ],
      "execution_count": null,
      "outputs": [
        {
          "output_type": "stream",
          "text": [
            "0 Batch accuracy: 0.94 Val accuracy: 0.9016\n",
            "1 Batch accuracy: 0.98 Val accuracy: 0.9202\n",
            "2 Batch accuracy: 0.96 Val accuracy: 0.931\n",
            "3 Batch accuracy: 0.94 Val accuracy: 0.9388\n",
            "4 Batch accuracy: 0.9 Val accuracy: 0.9454\n",
            "5 Batch accuracy: 0.96 Val accuracy: 0.9494\n",
            "6 Batch accuracy: 1.0 Val accuracy: 0.952\n",
            "7 Batch accuracy: 0.94 Val accuracy: 0.9554\n",
            "8 Batch accuracy: 1.0 Val accuracy: 0.9578\n",
            "9 Batch accuracy: 1.0 Val accuracy: 0.9616\n",
            "10 Batch accuracy: 0.98 Val accuracy: 0.9644\n",
            "11 Batch accuracy: 0.96 Val accuracy: 0.9642\n",
            "12 Batch accuracy: 0.96 Val accuracy: 0.9672\n",
            "13 Batch accuracy: 0.98 Val accuracy: 0.9684\n",
            "14 Batch accuracy: 0.96 Val accuracy: 0.9696\n",
            "15 Batch accuracy: 0.96 Val accuracy: 0.9702\n",
            "16 Batch accuracy: 1.0 Val accuracy: 0.971\n",
            "17 Batch accuracy: 0.96 Val accuracy: 0.9712\n",
            "18 Batch accuracy: 0.98 Val accuracy: 0.974\n",
            "19 Batch accuracy: 0.96 Val accuracy: 0.973\n",
            "20 Batch accuracy: 1.0 Val accuracy: 0.9744\n",
            "21 Batch accuracy: 0.98 Val accuracy: 0.9748\n",
            "22 Batch accuracy: 1.0 Val accuracy: 0.975\n",
            "23 Batch accuracy: 1.0 Val accuracy: 0.976\n",
            "24 Batch accuracy: 1.0 Val accuracy: 0.9758\n",
            "25 Batch accuracy: 1.0 Val accuracy: 0.9766\n",
            "26 Batch accuracy: 1.0 Val accuracy: 0.9766\n",
            "27 Batch accuracy: 0.98 Val accuracy: 0.9784\n",
            "28 Batch accuracy: 0.98 Val accuracy: 0.9784\n",
            "29 Batch accuracy: 1.0 Val accuracy: 0.979\n",
            "30 Batch accuracy: 1.0 Val accuracy: 0.9786\n",
            "31 Batch accuracy: 1.0 Val accuracy: 0.9798\n",
            "32 Batch accuracy: 1.0 Val accuracy: 0.9796\n",
            "33 Batch accuracy: 1.0 Val accuracy: 0.9798\n",
            "34 Batch accuracy: 1.0 Val accuracy: 0.9802\n",
            "35 Batch accuracy: 1.0 Val accuracy: 0.9766\n",
            "36 Batch accuracy: 1.0 Val accuracy: 0.981\n",
            "37 Batch accuracy: 1.0 Val accuracy: 0.9798\n",
            "38 Batch accuracy: 1.0 Val accuracy: 0.9812\n",
            "39 Batch accuracy: 1.0 Val accuracy: 0.9808\n"
          ],
          "name": "stdout"
        }
      ]
    },
    {
      "cell_type": "code",
      "metadata": {
        "colab": {
          "base_uri": "https://localhost:8080/"
        },
        "id": "fKoM_kULDyVW",
        "outputId": "89fd8634-5a2d-4f9f-b30c-e15dc12f64fe"
      },
      "source": [
        "# Make prediction by using test data\n",
        "with tf.Session() as sess:\n",
        "    saver.restore(sess, \"./my_model_final.ckpt\") # or better, use save_path\n",
        "    X_new_scaled = X_test[:20]\n",
        "    Z = logits.eval(feed_dict={X: X_new_scaled})\n",
        "    y_pred_M2 = np.argmax(Z, axis=1)\n",
        "    accuracy_M2 = accuracy.eval(feed_dict={X: X_test, \n",
        "                                        y: y_test})"
      ],
      "execution_count": null,
      "outputs": [
        {
          "output_type": "stream",
          "text": [
            "INFO:tensorflow:Restoring parameters from ./my_model_final.ckpt\n"
          ],
          "name": "stdout"
        }
      ]
    },
    {
      "cell_type": "code",
      "metadata": {
        "colab": {
          "base_uri": "https://localhost:8080/"
        },
        "id": "8PgLFbJUD0-x",
        "outputId": "71a9e939-cabc-4319-fc81-12439d26b0f5"
      },
      "source": [
        "# Print prediction classess and actual classess.\n",
        "print(\"-------- Model 2 --------\")\n",
        "print(\"600 neurons (1st layer), 200 neurons (2nd layer)\")\n",
        "print(\"\\nPredicted classes:\", y_pred_M2)\n",
        "print(\"Actual classes:\", y_test[:20])\n",
        "print(\"Test Set Accracy:\", accuracy_M2)\n",
        "\n",
        "# Record end time for neral network training\n",
        "stop_time_M2 = time.clock()\n",
        "\n",
        "#Total processing time\n",
        "runtime_M2 = stop_time_M2 - start_time_M2\n",
        "\n",
        "print(\"\\nStart time:\", start_time_M2)\n",
        "print(\"Stop time:\", stop_time_M2)\n",
        "print(\"processing time:\", runtime_M2)"
      ],
      "execution_count": null,
      "outputs": [
        {
          "output_type": "stream",
          "text": [
            "-------- Model 2 --------\n",
            "600 neurons (1st layer), 200 neurons (2nd layer)\n",
            "\n",
            "Predicted classes: [7 2 1 0 4 1 4 9 5 9 0 6 9 0 1 5 9 7 3 4]\n",
            "Actual classes: [7 2 1 0 4 1 4 9 5 9 0 6 9 0 1 5 9 7 3 4]\n",
            "Test Set Accracy: 0.9781\n",
            "\n",
            "Start time: 305.339565\n",
            "Stop time: 463.803155\n",
            "processing time: 158.46359\n"
          ],
          "name": "stdout"
        }
      ]
    },
    {
      "cell_type": "markdown",
      "metadata": {
        "id": "Hj5e4iWAyiER"
      },
      "source": [
        "##### Model 3 : 5 layers, 1st layer: 300 2nd layer: 100 3rd layer: 300 4th layer: 100 5th layer: 300"
      ]
    },
    {
      "cell_type": "code",
      "metadata": {
        "id": "WwTQ0o0fFn80"
      },
      "source": [
        "# CONSTRUCTION PHASE\n",
        "\n",
        "# Specify the number of inputs and outputs, and set the number of hidden neurons in each layer\n",
        "# Neural Network - 2 layers\n",
        "\n",
        "n_inputs = 28*28  # MNIST features = 28 pixcels n 28 pixcels for input\n",
        "n_hidden1_M3 = 300 # 300 hidden neurons in the 1st layer\n",
        "n_hidden2_M3 = 100 # 100 hidden neurons in the 2nd layer\n",
        "n_hidden3_M3 = 300 # 300 hidden neurons in the 1st layer\n",
        "n_hidden4_M3 = 100 # 100 hidden neurons in the 2nd layer\n",
        "n_hidden5_M3 = 300 # 300 hidden neurons in the 1st layer\n",
        "n_outputs = 10 # 10 outputs (0-9)"
      ],
      "execution_count": null,
      "outputs": []
    },
    {
      "cell_type": "code",
      "metadata": {
        "id": "s2OKfa0UFoRn"
      },
      "source": [
        "# Setup placeholder nodes to represent the training data and targets\n",
        "tf.reset_default_graph()  #reset previous graph not to disturve the following process. \n",
        "\n",
        "X = tf.placeholder(tf.float32, shape=(None, n_inputs), name=\"X\")\n",
        "y = tf.placeholder(tf.int32, shape=(None), name=\"y\")"
      ],
      "execution_count": null,
      "outputs": []
    },
    {
      "cell_type": "code",
      "metadata": {
        "id": "jg-5WR8ZFoWk"
      },
      "source": [
        "# Create Neural Network　with tf.layers.dense()\n",
        "with tf.name_scope(\"dnn\"):\n",
        "    hidden1 = tf.layers.dense(X, n_hidden1_M1, name=\"hidden1\",\n",
        "                              activation=tf.nn.relu)\n",
        "    hidden2 = tf.layers.dense(hidden1, n_hidden2_M3, name=\"hidden2\",\n",
        "                              activation=tf.nn.relu)\n",
        "    hidden3 = tf.layers.dense(hidden1, n_hidden3_M3, name=\"hidden3\",\n",
        "                              activation=tf.nn.relu)\n",
        "    hidden4 = tf.layers.dense(hidden1, n_hidden4_M3, name=\"hidden4\",\n",
        "                              activation=tf.nn.relu)\n",
        "    hidden5 = tf.layers.dense(hidden1, n_hidden5_M3, name=\"hidden5\",\n",
        "                              activation=tf.nn.relu)\n",
        "    logits = tf.layers.dense(hidden2, n_outputs, name=\"outputs\")"
      ],
      "execution_count": null,
      "outputs": []
    },
    {
      "cell_type": "code",
      "metadata": {
        "id": "j9GjWi_gFoaV"
      },
      "source": [
        "# Cost function for training Neural Network\n",
        "with tf.name_scope(\"loss\"):\n",
        "    xentropy = tf.nn.sparse_softmax_cross_entropy_with_logits(labels=y,\n",
        "                                                              logits=logits)\n",
        "    loss = tf.reduce_mean(xentropy, name=\"loss\")"
      ],
      "execution_count": null,
      "outputs": []
    },
    {
      "cell_type": "code",
      "metadata": {
        "id": "utqONBcNFofJ"
      },
      "source": [
        "# Gradient Descent Optimizer to minimize the cost function by learning_rate = 0.01 \n",
        "learning_rate = 0.01\n",
        "\n",
        "with tf.name_scope(\"train\"):\n",
        "    optimizer = tf.train.GradientDescentOptimizer(learning_rate)\n",
        "    training_op = optimizer.minimize(loss)"
      ],
      "execution_count": null,
      "outputs": []
    },
    {
      "cell_type": "code",
      "metadata": {
        "id": "zHOe6JneFoii"
      },
      "source": [
        "# Measure classification performance by in_top_k().\n",
        "with tf.name_scope(\"eval\"):\n",
        "    correct = tf.nn.in_top_k(logits, y, 1)\n",
        "    accuracy = tf.reduce_mean(tf.cast(correct, tf.float32))"
      ],
      "execution_count": null,
      "outputs": []
    },
    {
      "cell_type": "code",
      "metadata": {
        "id": "NLkA5LaeFonS"
      },
      "source": [
        "# Node to initialize all the variables\n",
        "init = tf.global_variables_initializer()"
      ],
      "execution_count": null,
      "outputs": []
    },
    {
      "cell_type": "code",
      "metadata": {
        "id": "gYQmA5nbFosp"
      },
      "source": [
        "# Create saver to save trained parameters.\n",
        "saver = tf.train.Saver(save_relative_paths=True) "
      ],
      "execution_count": null,
      "outputs": []
    },
    {
      "cell_type": "code",
      "metadata": {
        "id": "bGYobO8CFoyp"
      },
      "source": [
        "# EXECUTION PHASE\n",
        "\n",
        "# Set number of epochs and batch size for training model.\n",
        "n_epochs = 40\n",
        "batch_size = 50"
      ],
      "execution_count": null,
      "outputs": []
    },
    {
      "cell_type": "code",
      "metadata": {
        "id": "zBxtaNlRFo3a"
      },
      "source": [
        "# Record start time for neral network training\n",
        "start_time_M3 = time.clock()"
      ],
      "execution_count": null,
      "outputs": []
    },
    {
      "cell_type": "code",
      "metadata": {
        "id": "p0yV5TQ5Fo8o"
      },
      "source": [
        "# Create function to shuffle training data\n",
        "def shuffle_batch(X, y, batch_size):\n",
        "    rnd_idx = np.random.permutation(len(X))\n",
        "    n_batches = len(X) // batch_size\n",
        "    for batch_idx in np.array_split(rnd_idx, n_batches):\n",
        "        X_batch, y_batch = X[batch_idx], y[batch_idx]\n",
        "        yield X_batch, y_batch"
      ],
      "execution_count": null,
      "outputs": []
    },
    {
      "cell_type": "code",
      "metadata": {
        "colab": {
          "base_uri": "https://localhost:8080/"
        },
        "id": "ZtOUTn8vFpA6",
        "outputId": "a0768884-b985-496b-a972-7af997e73270"
      },
      "source": [
        "#Training model by using neural network\n",
        "with tf.Session() as sess:\n",
        "    init.run()\n",
        "    for epoch in range(n_epochs):\n",
        "        for X_batch, y_batch in shuffle_batch(X_train, y_train, batch_size):\n",
        "            sess.run(training_op, feed_dict={X: X_batch, y: y_batch})\n",
        "        acc_batch_M3 = accuracy.eval(feed_dict={X: X_batch, y: y_batch})\n",
        "        acc_val_M3 = accuracy.eval(feed_dict={X: X_valid, y: y_valid})\n",
        "        print(epoch, \"Batch accuracy:\", acc_batch_M3, \"Val accuracy:\", acc_val_M3)\n",
        "\n",
        "    save_path = saver.save(sess, \"./my_model_final.ckpt\")"
      ],
      "execution_count": null,
      "outputs": [
        {
          "output_type": "stream",
          "text": [
            "0 Batch accuracy: 0.9 Val accuracy: 0.9014\n",
            "1 Batch accuracy: 0.94 Val accuracy: 0.9232\n",
            "2 Batch accuracy: 0.84 Val accuracy: 0.9312\n",
            "3 Batch accuracy: 0.96 Val accuracy: 0.942\n",
            "4 Batch accuracy: 1.0 Val accuracy: 0.9462\n",
            "5 Batch accuracy: 0.94 Val accuracy: 0.9498\n",
            "6 Batch accuracy: 0.98 Val accuracy: 0.9544\n",
            "7 Batch accuracy: 0.96 Val accuracy: 0.9566\n",
            "8 Batch accuracy: 0.96 Val accuracy: 0.9606\n",
            "9 Batch accuracy: 0.96 Val accuracy: 0.9624\n",
            "10 Batch accuracy: 0.94 Val accuracy: 0.9646\n",
            "11 Batch accuracy: 1.0 Val accuracy: 0.9672\n",
            "12 Batch accuracy: 0.96 Val accuracy: 0.9686\n",
            "13 Batch accuracy: 0.98 Val accuracy: 0.9704\n",
            "14 Batch accuracy: 0.98 Val accuracy: 0.971\n",
            "15 Batch accuracy: 0.98 Val accuracy: 0.972\n",
            "16 Batch accuracy: 1.0 Val accuracy: 0.9714\n",
            "17 Batch accuracy: 1.0 Val accuracy: 0.9722\n",
            "18 Batch accuracy: 1.0 Val accuracy: 0.9726\n",
            "19 Batch accuracy: 1.0 Val accuracy: 0.9736\n",
            "20 Batch accuracy: 1.0 Val accuracy: 0.9742\n",
            "21 Batch accuracy: 0.96 Val accuracy: 0.975\n",
            "22 Batch accuracy: 1.0 Val accuracy: 0.976\n",
            "23 Batch accuracy: 0.98 Val accuracy: 0.975\n",
            "24 Batch accuracy: 0.98 Val accuracy: 0.9766\n",
            "25 Batch accuracy: 0.98 Val accuracy: 0.9766\n",
            "26 Batch accuracy: 0.98 Val accuracy: 0.9756\n",
            "27 Batch accuracy: 1.0 Val accuracy: 0.978\n",
            "28 Batch accuracy: 1.0 Val accuracy: 0.9784\n",
            "29 Batch accuracy: 1.0 Val accuracy: 0.9778\n",
            "30 Batch accuracy: 1.0 Val accuracy: 0.979\n",
            "31 Batch accuracy: 1.0 Val accuracy: 0.9776\n",
            "32 Batch accuracy: 0.98 Val accuracy: 0.9766\n",
            "33 Batch accuracy: 0.98 Val accuracy: 0.9792\n",
            "34 Batch accuracy: 0.96 Val accuracy: 0.9784\n",
            "35 Batch accuracy: 1.0 Val accuracy: 0.9792\n",
            "36 Batch accuracy: 1.0 Val accuracy: 0.9786\n",
            "37 Batch accuracy: 0.98 Val accuracy: 0.9784\n",
            "38 Batch accuracy: 1.0 Val accuracy: 0.9802\n",
            "39 Batch accuracy: 1.0 Val accuracy: 0.9804\n"
          ],
          "name": "stdout"
        }
      ]
    },
    {
      "cell_type": "code",
      "metadata": {
        "colab": {
          "base_uri": "https://localhost:8080/"
        },
        "id": "RB7kXztOFpFw",
        "outputId": "576b4cd6-e1b1-41cf-8922-d39d25be35bc"
      },
      "source": [
        "# Make prediction by using test data\n",
        "with tf.Session() as sess:\n",
        "    saver.restore(sess, \"./my_model_final.ckpt\") # or better, use save_path\n",
        "    X_new_scaled = X_test[:20]\n",
        "    Z = logits.eval(feed_dict={X: X_new_scaled})\n",
        "    y_pred_M3 = np.argmax(Z, axis=1)\n",
        "    accuracy_M3 = accuracy.eval(feed_dict={X: X_test, \n",
        "                                        y: y_test})"
      ],
      "execution_count": null,
      "outputs": [
        {
          "output_type": "stream",
          "text": [
            "INFO:tensorflow:Restoring parameters from ./my_model_final.ckpt\n"
          ],
          "name": "stdout"
        }
      ]
    },
    {
      "cell_type": "code",
      "metadata": {
        "colab": {
          "base_uri": "https://localhost:8080/"
        },
        "id": "uPZpCYxnFpKZ",
        "outputId": "1c55b2f4-56fa-447c-dd1f-fe326ae579bc"
      },
      "source": [
        "# Print prediction classess and actual classess.\n",
        "print(\"-------- Model 3 --------\")\n",
        "print(\"300 neurons (1st layer), 100 neurons (2nd layer), 300 neurons (2nd layer), 100 neurons (2nd layer), 300 neurons (2nd layer)\")\n",
        "print(\"\\nPredicted classes:\", y_pred_M3)\n",
        "print(\"Actual classes:\", y_test[:20])\n",
        "print(\"Test Set Accracy:\", accuracy_M3)\n",
        "\n",
        "# Record end time for neral network training\n",
        "stop_time_M3 = time.clock()\n",
        "\n",
        "#Total processing time\n",
        "runtime_M3 = stop_time_M3 - start_time_M3\n",
        "\n",
        "print(\"\\nStart time:\", start_time_M3)\n",
        "print(\"Stop time:\", stop_time_M3)\n",
        "print(\"processing time:\", runtime_M3)"
      ],
      "execution_count": null,
      "outputs": [
        {
          "output_type": "stream",
          "text": [
            "-------- Model 3 --------\n",
            "300 neurons (1st layer), 100 neurons (2nd layer), 300 neurons (2nd layer), 100 neurons (2nd layer), 300 neurons (2nd layer)\n",
            "\n",
            "Predicted classes: [7 2 1 0 4 1 4 9 6 9 0 6 9 0 1 5 9 7 3 4]\n",
            "Actual classes: [7 2 1 0 4 1 4 9 5 9 0 6 9 0 1 5 9 7 3 4]\n",
            "Test Set Accracy: 0.9769\n",
            "\n",
            "Start time: 621.056229\n",
            "Stop time: 783.233679\n",
            "processing time: 162.17745000000002\n"
          ],
          "name": "stdout"
        }
      ]
    },
    {
      "cell_type": "markdown",
      "metadata": {
        "id": "DnCLInNjyiER"
      },
      "source": [
        "##### Model 4 : 5 layers, 1st layer: 600 2nd layer: 200 3rd layer: 600 4th layer: 200 5th layer: 600"
      ]
    },
    {
      "cell_type": "code",
      "metadata": {
        "id": "-UQLDDbaHhNx"
      },
      "source": [
        "# CONSTRUCTION PHASE\n",
        "\n",
        "# Specify the number of inputs and outputs, and set the number of hidden neurons in each layer\n",
        "# Neural Network - 2 layers\n",
        "\n",
        "n_inputs = 28*28  # MNIST features = 28 pixcels n 28 pixcels for input\n",
        "n_hidden1_M4 = 600 # 600 hidden neurons in the 1st layer\n",
        "n_hidden2_M4 = 200 # 300 hidden neurons in the 2nd layer\n",
        "n_hidden3_M4 = 600\n",
        "n_hidden4_M4 = 200\n",
        "n_hidden5_M4 = 600 \n",
        "n_outputs = 10 # 10 outputs (0-9)"
      ],
      "execution_count": null,
      "outputs": []
    },
    {
      "cell_type": "code",
      "metadata": {
        "id": "zpSN3Ea4Hhc1"
      },
      "source": [
        "# Setup placeholder nodes to represent the training data and targets\n",
        "tf.reset_default_graph()  #reset previous graph not to disturve the following process. \n",
        "\n",
        "X = tf.placeholder(tf.float32, shape=(None, n_inputs), name=\"X\")\n",
        "y = tf.placeholder(tf.int32, shape=(None), name=\"y\")"
      ],
      "execution_count": null,
      "outputs": []
    },
    {
      "cell_type": "code",
      "metadata": {
        "id": "61qqZRM6HhgL"
      },
      "source": [
        "# Create Neural Network　with tf.layers.dense()\n",
        "with tf.name_scope(\"dnn\"):\n",
        "    hidden1 = tf.layers.dense(X, n_hidden1_M1, name=\"hidden1\",\n",
        "                              activation=tf.nn.relu)\n",
        "    hidden2 = tf.layers.dense(hidden1, n_hidden2_M4, name=\"hidden2\",\n",
        "                              activation=tf.nn.relu)\n",
        "    hidden3 = tf.layers.dense(hidden1, n_hidden3_M4, name=\"hidden3\",\n",
        "                              activation=tf.nn.relu)\n",
        "    hidden4 = tf.layers.dense(hidden1, n_hidden4_M4, name=\"hidden4\",\n",
        "                              activation=tf.nn.relu)\n",
        "    hidden5 = tf.layers.dense(hidden1, n_hidden5_M4, name=\"hidden5\",\n",
        "                              activation=tf.nn.relu)\n",
        "    logits = tf.layers.dense(hidden2, n_outputs, name=\"outputs\")"
      ],
      "execution_count": null,
      "outputs": []
    },
    {
      "cell_type": "code",
      "metadata": {
        "id": "bxQfuIuCHhkG"
      },
      "source": [
        "# Cost function for training Neural Network\n",
        "with tf.name_scope(\"loss\"):\n",
        "    xentropy = tf.nn.sparse_softmax_cross_entropy_with_logits(labels=y,\n",
        "                                                              logits=logits)\n",
        "    loss = tf.reduce_mean(xentropy, name=\"loss\")"
      ],
      "execution_count": null,
      "outputs": []
    },
    {
      "cell_type": "code",
      "metadata": {
        "id": "apKDFP-AHhoD"
      },
      "source": [
        "# Gradient Descent Optimizer to minimize the cost function by learning_rate = 0.01 \n",
        "learning_rate = 0.01\n",
        "\n",
        "with tf.name_scope(\"train\"):\n",
        "    optimizer = tf.train.GradientDescentOptimizer(learning_rate)\n",
        "    training_op = optimizer.minimize(loss)"
      ],
      "execution_count": null,
      "outputs": []
    },
    {
      "cell_type": "code",
      "metadata": {
        "id": "c7WaUBkpHhr7"
      },
      "source": [
        "# Measure classification performance by in_top_k().\n",
        "with tf.name_scope(\"eval\"):\n",
        "    correct = tf.nn.in_top_k(logits, y, 1)\n",
        "    accuracy = tf.reduce_mean(tf.cast(correct, tf.float32))"
      ],
      "execution_count": null,
      "outputs": []
    },
    {
      "cell_type": "code",
      "metadata": {
        "id": "LZzH2n7sHhwt"
      },
      "source": [
        "# Node to initialize all the variables\n",
        "init = tf.global_variables_initializer()"
      ],
      "execution_count": null,
      "outputs": []
    },
    {
      "cell_type": "code",
      "metadata": {
        "id": "zP012AhFHh1B"
      },
      "source": [
        "# Create saver to save trained parameters.\n",
        "saver = tf.train.Saver(save_relative_paths=True) "
      ],
      "execution_count": null,
      "outputs": []
    },
    {
      "cell_type": "code",
      "metadata": {
        "id": "Rdfpva7tHh7B"
      },
      "source": [
        "# EXECUTION PHASE\n",
        "\n",
        "# Set number of epochs and batch size for training model.\n",
        "n_epochs = 40\n",
        "batch_size = 50"
      ],
      "execution_count": null,
      "outputs": []
    },
    {
      "cell_type": "code",
      "metadata": {
        "id": "UGzfj0FrHh9_"
      },
      "source": [
        "# Record start time for neral network training\n",
        "start_time_M4 = time.clock()"
      ],
      "execution_count": null,
      "outputs": []
    },
    {
      "cell_type": "code",
      "metadata": {
        "id": "NtyZA8IGHiCh"
      },
      "source": [
        "# Create function to shuffle training data\n",
        "def shuffle_batch(X, y, batch_size):\n",
        "    rnd_idx = np.random.permutation(len(X))\n",
        "    n_batches = len(X) // batch_size\n",
        "    for batch_idx in np.array_split(rnd_idx, n_batches):\n",
        "        X_batch, y_batch = X[batch_idx], y[batch_idx]\n",
        "        yield X_batch, y_batch"
      ],
      "execution_count": null,
      "outputs": []
    },
    {
      "cell_type": "code",
      "metadata": {
        "colab": {
          "base_uri": "https://localhost:8080/"
        },
        "id": "ahm_21ODHiGL",
        "outputId": "615c29a7-b766-43e4-9540-b497dc36d452"
      },
      "source": [
        "#Training model by using neural network\n",
        "with tf.Session() as sess:\n",
        "    init.run()\n",
        "    for epoch in range(n_epochs):\n",
        "        for X_batch, y_batch in shuffle_batch(X_train, y_train, batch_size):\n",
        "            sess.run(training_op, feed_dict={X: X_batch, y: y_batch})\n",
        "        acc_batch_M4 = accuracy.eval(feed_dict={X: X_batch, y: y_batch})\n",
        "        acc_val_M4 = accuracy.eval(feed_dict={X: X_valid, y: y_valid})\n",
        "        print(epoch, \"Batch accuracy:\", acc_batch_M4, \"Val accuracy:\", acc_val_M4)\n",
        "\n",
        "    save_path = saver.save(sess, \"./my_model_final.ckpt\")"
      ],
      "execution_count": null,
      "outputs": [
        {
          "output_type": "stream",
          "text": [
            "0 Batch accuracy: 0.94 Val accuracy: 0.9014\n",
            "1 Batch accuracy: 0.9 Val accuracy: 0.9206\n",
            "2 Batch accuracy: 0.92 Val accuracy: 0.9306\n",
            "3 Batch accuracy: 0.92 Val accuracy: 0.9386\n",
            "4 Batch accuracy: 0.94 Val accuracy: 0.943\n",
            "5 Batch accuracy: 0.92 Val accuracy: 0.9482\n",
            "6 Batch accuracy: 0.98 Val accuracy: 0.9536\n",
            "7 Batch accuracy: 0.96 Val accuracy: 0.9582\n",
            "8 Batch accuracy: 0.94 Val accuracy: 0.9586\n",
            "9 Batch accuracy: 0.96 Val accuracy: 0.9614\n",
            "10 Batch accuracy: 1.0 Val accuracy: 0.9648\n",
            "11 Batch accuracy: 0.98 Val accuracy: 0.965\n",
            "12 Batch accuracy: 0.98 Val accuracy: 0.9648\n",
            "13 Batch accuracy: 0.96 Val accuracy: 0.9672\n",
            "14 Batch accuracy: 0.98 Val accuracy: 0.9686\n",
            "15 Batch accuracy: 0.98 Val accuracy: 0.9698\n",
            "16 Batch accuracy: 1.0 Val accuracy: 0.9708\n",
            "17 Batch accuracy: 0.98 Val accuracy: 0.9706\n",
            "18 Batch accuracy: 0.94 Val accuracy: 0.9716\n",
            "19 Batch accuracy: 1.0 Val accuracy: 0.9716\n",
            "20 Batch accuracy: 1.0 Val accuracy: 0.9724\n",
            "21 Batch accuracy: 1.0 Val accuracy: 0.9732\n",
            "22 Batch accuracy: 1.0 Val accuracy: 0.9744\n",
            "23 Batch accuracy: 0.96 Val accuracy: 0.9744\n",
            "24 Batch accuracy: 1.0 Val accuracy: 0.9738\n",
            "25 Batch accuracy: 0.98 Val accuracy: 0.9726\n",
            "26 Batch accuracy: 1.0 Val accuracy: 0.9756\n",
            "27 Batch accuracy: 1.0 Val accuracy: 0.974\n",
            "28 Batch accuracy: 1.0 Val accuracy: 0.9752\n",
            "29 Batch accuracy: 1.0 Val accuracy: 0.9766\n",
            "30 Batch accuracy: 0.98 Val accuracy: 0.9758\n",
            "31 Batch accuracy: 1.0 Val accuracy: 0.9758\n",
            "32 Batch accuracy: 1.0 Val accuracy: 0.9764\n",
            "33 Batch accuracy: 0.98 Val accuracy: 0.9784\n",
            "34 Batch accuracy: 1.0 Val accuracy: 0.9768\n",
            "35 Batch accuracy: 1.0 Val accuracy: 0.9774\n",
            "36 Batch accuracy: 1.0 Val accuracy: 0.9778\n",
            "37 Batch accuracy: 1.0 Val accuracy: 0.9786\n",
            "38 Batch accuracy: 0.98 Val accuracy: 0.9788\n",
            "39 Batch accuracy: 1.0 Val accuracy: 0.9766\n"
          ],
          "name": "stdout"
        }
      ]
    },
    {
      "cell_type": "code",
      "metadata": {
        "colab": {
          "base_uri": "https://localhost:8080/"
        },
        "id": "PTaBx9x9HiKq",
        "outputId": "b4ff34d9-1903-4e1b-df30-73cc1cfc9ee4"
      },
      "source": [
        "# Make prediction by using test data\n",
        "with tf.Session() as sess:\n",
        "    saver.restore(sess, \"./my_model_final.ckpt\") # or better, use save_path\n",
        "    X_new_scaled = X_test[:20]\n",
        "    Z = logits.eval(feed_dict={X: X_new_scaled})\n",
        "    y_pred_M4 = np.argmax(Z, axis=1)\n",
        "    accuracy_M4 = accuracy.eval(feed_dict={X: X_test, \n",
        "                                        y: y_test})"
      ],
      "execution_count": null,
      "outputs": [
        {
          "output_type": "stream",
          "text": [
            "INFO:tensorflow:Restoring parameters from ./my_model_final.ckpt\n"
          ],
          "name": "stdout"
        }
      ]
    },
    {
      "cell_type": "code",
      "metadata": {
        "colab": {
          "base_uri": "https://localhost:8080/"
        },
        "id": "hp5-vB1fHiP6",
        "outputId": "b68cefe7-bff7-4be7-8278-8e1c62c3bdd8"
      },
      "source": [
        "# Print prediction classess and actual classess.\n",
        "print(\"-------- Model 4 --------\")\n",
        "print(\"600 neurons (1st layer), 200 neurons (2nd layer), 600 neurons (3rd layer), 200 neurons (4th layer), 600 neurons (5th layer)\")\n",
        "print(\"\\nPredicted classes:\", y_pred_M4)\n",
        "print(\"Actual classes:\", y_test[:20])\n",
        "print(\"Test Set Accracy:\", accuracy_M4)\n",
        "\n",
        "# Record end time for neral network training\n",
        "stop_time_M4 = time.clock()\n",
        "\n",
        "#Total processing time\n",
        "runtime_M4 = stop_time_M4 - start_time_M4\n",
        "\n",
        "print(\"\\nStart time:\", start_time_M4)\n",
        "print(\"Stop time:\", stop_time_M4)\n",
        "print(\"processing time:\", runtime_M4)"
      ],
      "execution_count": null,
      "outputs": [
        {
          "output_type": "stream",
          "text": [
            "-------- Model 4 --------\n",
            "600 neurons (1st layer), 200 neurons (2nd layer), 600 neurons (3rd layer), 200 neurons (4th layer), 600 neurons (5th layer)\n",
            "\n",
            "Predicted classes: [7 2 1 0 4 1 4 9 5 9 0 6 9 0 1 5 9 7 3 4]\n",
            "Actual classes: [7 2 1 0 4 1 4 9 5 9 0 6 9 0 1 5 9 7 3 4]\n",
            "Test Set Accracy: 0.976\n",
            "\n",
            "Start time: 783.759644\n",
            "Stop time: 960.181853\n",
            "processing time: 176.42220900000007\n"
          ],
          "name": "stdout"
        }
      ]
    },
    {
      "cell_type": "markdown",
      "metadata": {
        "id": "9clN1-xsyiER"
      },
      "source": [
        "##### Tensor Flow Neural Network Benchmark Experiment Results (Tabular Format )"
      ]
    },
    {
      "cell_type": "code",
      "metadata": {
        "collapsed": true,
        "colab": {
          "base_uri": "https://localhost:8080/"
        },
        "id": "iyBrc9EEyiER",
        "outputId": "fbe2d81e-9272-4dc6-a010-052fcc5edd6b"
      },
      "source": [
        "## Create Table for Tensor Flow Neural Network Benchmark Experiment Results\n",
        "col_labels = ['Model', 'Number of Layers', 'Nodes per Layer', 'Processing Time','Test Set Accuracy']\n",
        "\n",
        "table_vals = [[1, 2, \"300, 100\", runtime_M1, accuracy_M1],\n",
        "              [2, 2, \"600, 200\", runtime_M2, accuracy_M2],\n",
        "              [3, 5, \"300, 100, 300, 100, 300\", runtime_M3, accuracy_M3],\n",
        "              [4, 5, \"600, 200, 600, 200, 600\", runtime_M4, accuracy_M4]]\n",
        "\n",
        "table = tabulate(table_vals, headers=col_labels, tablefmt=\"simple\",numalign=\"left\")\n",
        "print('-------- Table for Neural Network Benchmark Experiment Results: Activation Function = ReLU\\n' )\n",
        "print(table)"
      ],
      "execution_count": null,
      "outputs": [
        {
          "output_type": "stream",
          "text": [
            "-------- Table for Neural Network Benchmark Experiment Results: Activation Function = ReLU\n",
            "\n",
            "Model    Number of Layers    Nodes per Layer          Processing Time    Training Set Accuracy\n",
            "-------  ------------------  -----------------------  -----------------  -----------------------\n",
            "1        2                   300, 100                 155.148            0.9782\n",
            "2        2                   600, 200                 158.464            0.9781\n",
            "3        5                   300, 100, 300, 100, 300  162.177            0.9769\n",
            "4        5                   600, 200, 600, 200, 600  176.422            0.976\n"
          ],
          "name": "stdout"
        }
      ]
    },
    {
      "cell_type": "markdown",
      "metadata": {
        "id": "OQwdibzqMhQh"
      },
      "source": [
        "### Kaggle Submission"
      ]
    },
    {
      "cell_type": "code",
      "metadata": {
        "id": "l7u_r8BwKtK_"
      },
      "source": [
        "# CNN model packages \n",
        "from keras import  backend as K\n",
        "from keras.callbacks import EarlyStopping\n",
        "from keras.layers.core import  Lambda , Dense, Flatten, Dropout\n",
        "from keras.layers import BatchNormalization, Convolution2D , MaxPooling2D\n",
        "from keras.models import  Sequential\n",
        "from keras.optimizers import Adam, RMSprop\n",
        "from keras.preprocessing.image import ImageDataGenerator\n",
        "from keras.utils.np_utils import to_categorical\n",
        "\n",
        "from sklearn.model_selection import train_test_split"
      ],
      "execution_count": null,
      "outputs": []
    },
    {
      "cell_type": "code",
      "metadata": {
        "colab": {
          "base_uri": "https://localhost:8080/"
        },
        "id": "d44xXe4bMtSF",
        "outputId": "a82fb953-0a2c-4b7f-ad24-01063d4e72cd"
      },
      "source": [
        "#S2 Mount Google Drive to Colab Enviorment\n",
        "from google.colab import drive\n",
        "drive.mount('/content/gdrive', force_remount=True)"
      ],
      "execution_count": null,
      "outputs": [
        {
          "output_type": "stream",
          "text": [
            "Mounted at /content/gdrive\n"
          ],
          "name": "stdout"
        }
      ]
    },
    {
      "cell_type": "code",
      "metadata": {
        "colab": {
          "base_uri": "https://localhost:8080/"
        },
        "id": "2jgV_6HwMloC",
        "outputId": "e10bdf63-c3ff-48fb-d345-1c03455c06ae"
      },
      "source": [
        "#S3 Establish working directory\n",
        "\n",
        "import os # Operation System\n",
        "os.getcwd()\n",
        "%cd /content/gdrive/MyDrive/422Data/Assignment6/\n",
        "!pwd\n",
        "!ls\n",
        "print('Working Directory')\n",
        "print(os.getcwd())\n",
        "work_dir = \"/content/gdrive/MyDrive/422Data/Assignment6\""
      ],
      "execution_count": null,
      "outputs": [
        {
          "output_type": "stream",
          "text": [
            "/content/gdrive/MyDrive/422Data/Assignment6\n",
            "/content/gdrive/MyDrive/422Data/Assignment6\n",
            "images\ttest.csv  train.csv\n",
            "Working Directory\n",
            "/content/gdrive/MyDrive/422Data/Assignment6\n"
          ],
          "name": "stdout"
        }
      ]
    },
    {
      "cell_type": "code",
      "metadata": {
        "colab": {
          "base_uri": "https://localhost:8080/"
        },
        "id": "e6rTbo7zNl6y",
        "outputId": "117af236-3050-41cf-829e-54a152d18c01"
      },
      "source": [
        "# read data for the MNIST Kaggle Competition\n",
        "# creating data frame restdata\n",
        "train = pd.read_csv(work_dir + '/train.csv')\n",
        "test = pd.read_csv(work_dir + '/test.csv')\n",
        "\n",
        "\n",
        "# check the pandas DataFrame object boston_input\n",
        "print('\\nMNIST DataFrame (first and last five rows):')\n",
        "print(train.head())\n",
        "print(test.head())"
      ],
      "execution_count": null,
      "outputs": [
        {
          "output_type": "stream",
          "text": [
            "\n",
            "MNIST DataFrame (first and last five rows):\n",
            "   label  pixel0  pixel1  pixel2  ...  pixel780  pixel781  pixel782  pixel783\n",
            "0      1       0       0       0  ...         0         0         0         0\n",
            "1      0       0       0       0  ...         0         0         0         0\n",
            "2      1       0       0       0  ...         0         0         0         0\n",
            "3      4       0       0       0  ...         0         0         0         0\n",
            "4      0       0       0       0  ...         0         0         0         0\n",
            "\n",
            "[5 rows x 785 columns]\n",
            "   pixel0  pixel1  pixel2  pixel3  ...  pixel780  pixel781  pixel782  pixel783\n",
            "0       0       0       0       0  ...         0         0         0         0\n",
            "1       0       0       0       0  ...         0         0         0         0\n",
            "2       0       0       0       0  ...         0         0         0         0\n",
            "3       0       0       0       0  ...         0         0         0         0\n",
            "4       0       0       0       0  ...         0         0         0         0\n",
            "\n",
            "[5 rows x 784 columns]\n"
          ],
          "name": "stdout"
        }
      ]
    },
    {
      "cell_type": "code",
      "metadata": {
        "id": "50M7esFlL7x1"
      },
      "source": [
        "# preprocess and normalize\n",
        "\n",
        "# store as correct types within df\n",
        "x_train = (train.iloc[:,1:].values).astype('float32') # x train\n",
        "y_train = train.iloc[:,0].values.astype('int32') # y train\n",
        "x_test = test.values.astype('float32')  # x test\n",
        "\n",
        "#add grayscale dim\n",
        "x_train = x_train.reshape(x_train.shape[0], 28, 28,1) \n",
        "x_test = x_test.reshape(test.shape[0], 28, 28,1)"
      ],
      "execution_count": null,
      "outputs": []
    },
    {
      "cell_type": "code",
      "metadata": {
        "colab": {
          "base_uri": "https://localhost:8080/"
        },
        "id": "gwk_FV4xe8Ji",
        "outputId": "92a22214-9a2e-436d-85b3-c7b6aa95c649"
      },
      "source": [
        "x_train.shape"
      ],
      "execution_count": null,
      "outputs": [
        {
          "output_type": "execute_result",
          "data": {
            "text/plain": [
              "(42000, 28, 28, 1)"
            ]
          },
          "metadata": {
            "tags": []
          },
          "execution_count": 11
        }
      ]
    },
    {
      "cell_type": "code",
      "metadata": {
        "id": "5sqaNmoeWTAQ"
      },
      "source": [
        "y_train= to_categorical(y_train)\n",
        "mean_px = x_train.mean().astype(np.float32)\n",
        "std_px = x_train.std().astype(np.float32)"
      ],
      "execution_count": null,
      "outputs": []
    },
    {
      "cell_type": "code",
      "metadata": {
        "id": "RYR-6sdgcb3F"
      },
      "source": [
        "def standardize(x): \n",
        "    return (x-mean_px)/std_px"
      ],
      "execution_count": null,
      "outputs": []
    },
    {
      "cell_type": "code",
      "metadata": {
        "colab": {
          "base_uri": "https://localhost:8080/"
        },
        "id": "oYesZwIlcTZp",
        "outputId": "276e2b30-0916-433d-a565-0ef03bbb8b9c"
      },
      "source": [
        "model = Sequential()\n",
        "model.add(Lambda(standardize,input_shape=(28,28,1)))\n",
        "model.add(Flatten())\n",
        "model.add(Dense(10, activation='softmax'))\n",
        "print(\"input shape \",model.input_shape)\n",
        "print(\"output shape \",model.output_shape)"
      ],
      "execution_count": null,
      "outputs": [
        {
          "output_type": "stream",
          "text": [
            "input shape  (None, 28, 28, 1)\n",
            "output shape  (None, 10)\n"
          ],
          "name": "stdout"
        }
      ]
    },
    {
      "cell_type": "code",
      "metadata": {
        "id": "LzFTOCRCchpm"
      },
      "source": [
        "learning_rate = 0.001\n",
        "\n",
        "model.compile(optimizer=tf.train.GradientDescentOptimizer(learning_rate),\n",
        " loss='categorical_crossentropy',\n",
        " metrics=['accuracy'])"
      ],
      "execution_count": null,
      "outputs": []
    },
    {
      "cell_type": "code",
      "metadata": {
        "id": "_byscPG7cwjr"
      },
      "source": [
        "from keras.preprocessing import image\n",
        "gen = image.ImageDataGenerator()"
      ],
      "execution_count": null,
      "outputs": []
    },
    {
      "cell_type": "code",
      "metadata": {
        "id": "mxznFw7Wc0Q_"
      },
      "source": [
        "RANDOM_SEED = 85\n",
        "X = x_train\n",
        "y = y_train\n",
        "x_train, x_val, y_train, y_val = train_test_split(x_train, y_train, test_size=0.10, random_state=RANDOM_SEED)\n",
        "batches = gen.flow(x_train, y_train, batch_size=56)\n",
        "val_batches=gen.flow(x_val, y_val, batch_size=56)"
      ],
      "execution_count": null,
      "outputs": []
    },
    {
      "cell_type": "code",
      "metadata": {
        "id": "ultpmiN9fTFX"
      },
      "source": [
        "# history=model.fit_generator(generator=batches, steps_per_epoch=batches.n, epochs=3, \n",
        "#                     validation_data=val_batches, validation_steps=val_batches.n)"
      ],
      "execution_count": null,
      "outputs": []
    },
    {
      "cell_type": "code",
      "metadata": {
        "id": "q6L09Y3PhG2c"
      },
      "source": [
        "def get_fc_model():\n",
        "    model = Sequential([\n",
        "        Lambda(standardize, input_shape=(28,28,1)),\n",
        "        Flatten(),\n",
        "        Dense(512, activation='relu'),\n",
        "        Dense(10, activation='softmax')\n",
        "        ])\n",
        "    model.compile(optimizer='Adam', loss='categorical_crossentropy',\n",
        "                  metrics=['accuracy'])\n",
        "    return model"
      ],
      "execution_count": null,
      "outputs": []
    },
    {
      "cell_type": "code",
      "metadata": {
        "id": "PxwMZkX4hHaB"
      },
      "source": [
        "fc = get_fc_model()\n",
        "fc.optimizer.lr=0.001"
      ],
      "execution_count": null,
      "outputs": []
    },
    {
      "cell_type": "code",
      "metadata": {
        "colab": {
          "base_uri": "https://localhost:8080/"
        },
        "id": "4N9iJeCBhOT5",
        "outputId": "2906c737-df78-45d3-b94f-fef5ca9a3411"
      },
      "source": [
        "history=fc.fit_generator(generator=batches, steps_per_epoch=batches.n, epochs=1, \n",
        "                    validation_data=val_batches, validation_steps=val_batches.n)"
      ],
      "execution_count": null,
      "outputs": [
        {
          "output_type": "stream",
          "text": [
            "37800/37800 [==============================] - 233s 6ms/step - batch: 18899.5000 - size: 56.0000 - loss: 0.0169 - acc: 0.9948 - val_loss: 0.1770 - val_acc: 0.9824\n"
          ],
          "name": "stdout"
        }
      ]
    },
    {
      "cell_type": "code",
      "metadata": {
        "id": "KRxebFlAjDZJ"
      },
      "source": [
        "# use batch normalization like in earlier attempts, 2 dense layers with 300, 100\n",
        "\n",
        "from keras.layers.normalization import BatchNormalization\n",
        "\n",
        "def get_bn_model():\n",
        "    model = Sequential([\n",
        "        Lambda(standardize, input_shape=(28,28,1)),\n",
        "        Convolution2D(32,(3,3), activation='relu'),\n",
        "        BatchNormalization(axis=1),\n",
        "        Convolution2D(32,(3,3), activation='relu'),\n",
        "        MaxPooling2D(),\n",
        "        BatchNormalization(axis=1),\n",
        "        Convolution2D(64,(3,3), activation='relu'),\n",
        "        BatchNormalization(axis=1),\n",
        "        Convolution2D(64,(3,3), activation='relu'),\n",
        "        MaxPooling2D(),\n",
        "        Flatten(),\n",
        "        BatchNormalization(),\n",
        "        Dense(300, activation='relu'),\n",
        "        BatchNormalization(),\n",
        "        Dense(100, activation='relu'),\n",
        "        BatchNormalization(),\n",
        "        Dense(10, activation='softmax')\n",
        "        ])\n",
        "    model.compile(Adam(), loss='categorical_crossentropy', metrics=['accuracy'])\n",
        "    return model"
      ],
      "execution_count": null,
      "outputs": []
    },
    {
      "cell_type": "code",
      "metadata": {
        "colab": {
          "base_uri": "https://localhost:8080/"
        },
        "id": "fenEz6nmkUxc",
        "outputId": "33711624-a68c-47e7-fa56-b63bfb42145d"
      },
      "source": [
        "model= get_bn_model() #hosted machine + GPU takes time 2hrs -> 5 min\n",
        "model.optimizer.lr=0.001\n",
        "history=model.fit_generator(generator=batches, steps_per_epoch=batches.n, epochs=1, \n",
        "                    validation_data=val_batches, validation_steps=val_batches.n)"
      ],
      "execution_count": null,
      "outputs": [
        {
          "output_type": "stream",
          "text": [
            "37800/37800 [==============================] - 332s 9ms/step - batch: 18899.5000 - size: 56.0000 - loss: 0.0091 - acc: 0.9971 - val_loss: 0.0228 - val_acc: 0.9948\n"
          ],
          "name": "stdout"
        }
      ]
    },
    {
      "cell_type": "code",
      "metadata": {
        "id": "QfrOHCeNk71O"
      },
      "source": [
        "history=model.fit_generator(generator=batches, steps_per_epoch=batches.n, epochs=3, \n",
        "                    validation_data=val_batches, validation_steps=val_batches.n)\n",
        "\n",
        "submissions=pd.DataFrame({\"ImageId\": list(range(1,len(predictions)+1)),\n",
        "                         \"Label\": predictions})\n",
        "submissions.to_csv(\"CNN_2layer_300_100.csv\", index=False, header=True)"
      ],
      "execution_count": null,
      "outputs": []
    },
    {
      "cell_type": "code",
      "metadata": {
        "colab": {
          "base_uri": "https://localhost:8080/"
        },
        "id": "sLcuG4CNpA2C",
        "outputId": "d2d103eb-8b84-47ee-a128-aa4af9791896"
      },
      "source": [
        "model = get_bn_model() #hosted machine + GPU takes time 2hrs -> 5 min, 3 epoch overfits vs 1 epoch\n",
        "model.optimizer.lr = 0.001\n",
        "\n",
        "start = time.clock()\n",
        "\n",
        "history = model.fit_generator(generator=batches, steps_per_epoch=batches.n, epochs=3, \n",
        "                    validation_data=val_batches, validation_steps=val_batches.n)\n",
        "\n",
        "stop = time.clock()\n",
        "end = stop - start\n",
        "print('Runtime for 2 layer CNN:', end)"
      ],
      "execution_count": null,
      "outputs": [
        {
          "output_type": "stream",
          "text": [
            "Epoch 1/3\n",
            "37800/37800 [==============================] - 332s 9ms/step - batch: 18899.5000 - size: 56.0000 - loss: 0.0090 - acc: 0.9972 - val_loss: 0.0308 - val_acc: 0.9933\n",
            "Epoch 2/3\n",
            "37800/37800 [==============================] - 331s 9ms/step - batch: 18899.5000 - size: 56.0000 - loss: 0.0013 - acc: 0.9996 - val_loss: 0.0416 - val_acc: 0.9924\n",
            "Epoch 3/3\n",
            "37800/37800 [==============================] - 331s 9ms/step - batch: 18899.5000 - size: 56.0000 - loss: 7.5403e-04 - acc: 0.9998 - val_loss: 0.0468 - val_acc: 0.9931\n",
            "Runtime for 2 layer CNN: 1211.591518\n"
          ],
          "name": "stdout"
        }
      ]
    },
    {
      "cell_type": "code",
      "metadata": {
        "colab": {
          "base_uri": "https://localhost:8080/"
        },
        "id": "EJsWs5WPvxkT",
        "outputId": "88677f30-db9f-4a4f-bcbb-e7d8797aebe0"
      },
      "source": [
        "# add data augmentation to model to lessen edge cases\n",
        "gen = ImageDataGenerator(\n",
        "        rotation_range=10,  # randomly rotate images in the range (degrees, 0 to 180)\n",
        "        zoom_range = 0.1, # Randomly zoom image \n",
        "        width_shift_range=0.1,  # randomly shift images horizontally (fraction of total width)\n",
        "        height_shift_range=0.1,  # randomly shift images vertically (fraction of total height)\n",
        "\n",
        "batches = gen.flow(X, y, batch_size=64)\n",
        "history=model.fit_generator(generator=batches, steps_per_epoch=batches.n, epochs=3)"
      ],
      "execution_count": null,
      "outputs": [
        {
          "output_type": "stream",
          "text": [
            "Epoch 1/3\n",
            "42000/42000 [==============================] - 906s 22ms/step - batch: 20999.5000 - size: 63.9269 - loss: 0.0143 - acc: 0.9957\n",
            "Epoch 2/3\n",
            "42000/42000 [==============================] - 910s 22ms/step - batch: 20999.5000 - size: 63.9269 - loss: 0.0054 - acc: 0.9982\n",
            "Epoch 3/3\n",
            "42000/42000 [==============================] - 901s 21ms/step - batch: 20999.5000 - size: 63.9269 - loss: 0.0038 - acc: 0.9987\n"
          ],
          "name": "stdout"
        }
      ]
    },
    {
      "cell_type": "code",
      "metadata": {
        "id": "e0qJfvjyw1vB"
      },
      "source": [
        "#initialize prediction before submitting\n",
        "predictions = model.predict_classes(x_test, verbose=0)"
      ],
      "execution_count": null,
      "outputs": []
    },
    {
      "cell_type": "code",
      "metadata": {
        "id": "COgPnYCqpSWD"
      },
      "source": [
        "np.savetxt('2LayerCNN_3_Augmented.csv', \n",
        "           np.c_[range(1,len(predictions)+1),predictions], \n",
        "           delimiter=',', \n",
        "           header = 'ImageId,Label', \n",
        "           comments = '', \n",
        "           fmt='%d')"
      ],
      "execution_count": null,
      "outputs": []
    },
    {
      "cell_type": "code",
      "metadata": {
        "id": "UjIhDN4XsdHx"
      },
      "source": [
        "submissions=pd.DataFrame({\"ImageId\": list(range(1,len(predictions)+1)),\n",
        "                         \"Label\": predictions})\n",
        "submissions.to_csv(\"CNN_2layer_300_100.csv\", index=False, header=True)"
      ],
      "execution_count": null,
      "outputs": []
    }
  ]
}