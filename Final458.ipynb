{
  "nbformat": 4,
  "nbformat_minor": 0,
  "metadata": {
    "colab": {
      "name": "Final458.ipynb",
      "provenance": [],
      "collapsed_sections": [
        "SPNVv1A4e8bf",
        "TejuKb2HeWWI",
        "qjhVmpRHf5fg",
        "v6gLb5QmfUpm",
        "3GfVHqwILgvh",
        "bwKkIdbd1FAt",
        "JWknwiIDzbBP",
        "Sy6oHmpMzRQi",
        "ZThUwLyVwEia",
        "y_AX-sT-gDAZ"
      ],
      "machine_shape": "hm",
      "authorship_tag": "ABX9TyMeBU51oxVeru8kaHBABF4A",
      "include_colab_link": true
    },
    "kernelspec": {
      "name": "python3",
      "display_name": "Python 3"
    },
    "language_info": {
      "name": "python"
    },
    "accelerator": "GPU",
    "widgets": {
      "application/vnd.jupyter.widget-state+json": {
        "6874ac97e95041c9a9c96095dd60a2b2": {
          "model_module": "@jupyter-widgets/controls",
          "model_name": "HBoxModel",
          "model_module_version": "1.5.0",
          "state": {
            "_view_name": "HBoxView",
            "_dom_classes": [],
            "_model_name": "HBoxModel",
            "_view_module": "@jupyter-widgets/controls",
            "_model_module_version": "1.5.0",
            "_view_count": null,
            "_view_module_version": "1.5.0",
            "box_style": "",
            "layout": "IPY_MODEL_1a926b4988f04fcba1b5a0bd792fa841",
            "_model_module": "@jupyter-widgets/controls",
            "children": [
              "IPY_MODEL_3031fb196d8d41a3af3f7e81a1335d14",
              "IPY_MODEL_68b3d730e3054df6ad6659793f5bf691",
              "IPY_MODEL_23d4c7e8ad1f45bf9da85e0c469f4015"
            ]
          }
        },
        "1a926b4988f04fcba1b5a0bd792fa841": {
          "model_module": "@jupyter-widgets/base",
          "model_name": "LayoutModel",
          "model_module_version": "1.2.0",
          "state": {
            "_view_name": "LayoutView",
            "grid_template_rows": null,
            "right": null,
            "justify_content": null,
            "_view_module": "@jupyter-widgets/base",
            "overflow": null,
            "_model_module_version": "1.2.0",
            "_view_count": null,
            "flex_flow": null,
            "width": null,
            "min_width": null,
            "border": null,
            "align_items": null,
            "bottom": null,
            "_model_module": "@jupyter-widgets/base",
            "top": null,
            "grid_column": null,
            "overflow_y": null,
            "overflow_x": null,
            "grid_auto_flow": null,
            "grid_area": null,
            "grid_template_columns": null,
            "flex": null,
            "_model_name": "LayoutModel",
            "justify_items": null,
            "grid_row": null,
            "max_height": null,
            "align_content": null,
            "visibility": null,
            "align_self": null,
            "height": null,
            "min_height": null,
            "padding": null,
            "grid_auto_rows": null,
            "grid_gap": null,
            "max_width": null,
            "order": null,
            "_view_module_version": "1.2.0",
            "grid_template_areas": null,
            "object_position": null,
            "object_fit": null,
            "grid_auto_columns": null,
            "margin": null,
            "display": null,
            "left": null
          }
        },
        "3031fb196d8d41a3af3f7e81a1335d14": {
          "model_module": "@jupyter-widgets/controls",
          "model_name": "HTMLModel",
          "model_module_version": "1.5.0",
          "state": {
            "_view_name": "HTMLView",
            "style": "IPY_MODEL_5c3010e0ca6d4d228919613e3ad89f0c",
            "_dom_classes": [],
            "description": "",
            "_model_name": "HTMLModel",
            "placeholder": "​",
            "_view_module": "@jupyter-widgets/controls",
            "_model_module_version": "1.5.0",
            "value": "Downloading: 100%",
            "_view_count": null,
            "_view_module_version": "1.5.0",
            "description_tooltip": null,
            "_model_module": "@jupyter-widgets/controls",
            "layout": "IPY_MODEL_7bd00caa55984d988ee26957c1f8c18c"
          }
        },
        "68b3d730e3054df6ad6659793f5bf691": {
          "model_module": "@jupyter-widgets/controls",
          "model_name": "FloatProgressModel",
          "model_module_version": "1.5.0",
          "state": {
            "_view_name": "ProgressView",
            "style": "IPY_MODEL_cafdecd57b8a47cbb57de526b694c567",
            "_dom_classes": [],
            "description": "",
            "_model_name": "FloatProgressModel",
            "bar_style": "success",
            "max": 231508,
            "_view_module": "@jupyter-widgets/controls",
            "_model_module_version": "1.5.0",
            "value": 231508,
            "_view_count": null,
            "_view_module_version": "1.5.0",
            "orientation": "horizontal",
            "min": 0,
            "description_tooltip": null,
            "_model_module": "@jupyter-widgets/controls",
            "layout": "IPY_MODEL_b42d54020e4b4527aaf5140cea1ef505"
          }
        },
        "23d4c7e8ad1f45bf9da85e0c469f4015": {
          "model_module": "@jupyter-widgets/controls",
          "model_name": "HTMLModel",
          "model_module_version": "1.5.0",
          "state": {
            "_view_name": "HTMLView",
            "style": "IPY_MODEL_dec25f8fcf90443286c275ece34e853b",
            "_dom_classes": [],
            "description": "",
            "_model_name": "HTMLModel",
            "placeholder": "​",
            "_view_module": "@jupyter-widgets/controls",
            "_model_module_version": "1.5.0",
            "value": " 232k/232k [00:00&lt;00:00, 1.04MB/s]",
            "_view_count": null,
            "_view_module_version": "1.5.0",
            "description_tooltip": null,
            "_model_module": "@jupyter-widgets/controls",
            "layout": "IPY_MODEL_e992a2b7065f470e8e2c79b78182694a"
          }
        },
        "5c3010e0ca6d4d228919613e3ad89f0c": {
          "model_module": "@jupyter-widgets/controls",
          "model_name": "DescriptionStyleModel",
          "model_module_version": "1.5.0",
          "state": {
            "_view_name": "StyleView",
            "_model_name": "DescriptionStyleModel",
            "description_width": "",
            "_view_module": "@jupyter-widgets/base",
            "_model_module_version": "1.5.0",
            "_view_count": null,
            "_view_module_version": "1.2.0",
            "_model_module": "@jupyter-widgets/controls"
          }
        },
        "7bd00caa55984d988ee26957c1f8c18c": {
          "model_module": "@jupyter-widgets/base",
          "model_name": "LayoutModel",
          "model_module_version": "1.2.0",
          "state": {
            "_view_name": "LayoutView",
            "grid_template_rows": null,
            "right": null,
            "justify_content": null,
            "_view_module": "@jupyter-widgets/base",
            "overflow": null,
            "_model_module_version": "1.2.0",
            "_view_count": null,
            "flex_flow": null,
            "width": null,
            "min_width": null,
            "border": null,
            "align_items": null,
            "bottom": null,
            "_model_module": "@jupyter-widgets/base",
            "top": null,
            "grid_column": null,
            "overflow_y": null,
            "overflow_x": null,
            "grid_auto_flow": null,
            "grid_area": null,
            "grid_template_columns": null,
            "flex": null,
            "_model_name": "LayoutModel",
            "justify_items": null,
            "grid_row": null,
            "max_height": null,
            "align_content": null,
            "visibility": null,
            "align_self": null,
            "height": null,
            "min_height": null,
            "padding": null,
            "grid_auto_rows": null,
            "grid_gap": null,
            "max_width": null,
            "order": null,
            "_view_module_version": "1.2.0",
            "grid_template_areas": null,
            "object_position": null,
            "object_fit": null,
            "grid_auto_columns": null,
            "margin": null,
            "display": null,
            "left": null
          }
        },
        "cafdecd57b8a47cbb57de526b694c567": {
          "model_module": "@jupyter-widgets/controls",
          "model_name": "ProgressStyleModel",
          "model_module_version": "1.5.0",
          "state": {
            "_view_name": "StyleView",
            "_model_name": "ProgressStyleModel",
            "description_width": "",
            "_view_module": "@jupyter-widgets/base",
            "_model_module_version": "1.5.0",
            "_view_count": null,
            "_view_module_version": "1.2.0",
            "bar_color": null,
            "_model_module": "@jupyter-widgets/controls"
          }
        },
        "b42d54020e4b4527aaf5140cea1ef505": {
          "model_module": "@jupyter-widgets/base",
          "model_name": "LayoutModel",
          "model_module_version": "1.2.0",
          "state": {
            "_view_name": "LayoutView",
            "grid_template_rows": null,
            "right": null,
            "justify_content": null,
            "_view_module": "@jupyter-widgets/base",
            "overflow": null,
            "_model_module_version": "1.2.0",
            "_view_count": null,
            "flex_flow": null,
            "width": null,
            "min_width": null,
            "border": null,
            "align_items": null,
            "bottom": null,
            "_model_module": "@jupyter-widgets/base",
            "top": null,
            "grid_column": null,
            "overflow_y": null,
            "overflow_x": null,
            "grid_auto_flow": null,
            "grid_area": null,
            "grid_template_columns": null,
            "flex": null,
            "_model_name": "LayoutModel",
            "justify_items": null,
            "grid_row": null,
            "max_height": null,
            "align_content": null,
            "visibility": null,
            "align_self": null,
            "height": null,
            "min_height": null,
            "padding": null,
            "grid_auto_rows": null,
            "grid_gap": null,
            "max_width": null,
            "order": null,
            "_view_module_version": "1.2.0",
            "grid_template_areas": null,
            "object_position": null,
            "object_fit": null,
            "grid_auto_columns": null,
            "margin": null,
            "display": null,
            "left": null
          }
        },
        "dec25f8fcf90443286c275ece34e853b": {
          "model_module": "@jupyter-widgets/controls",
          "model_name": "DescriptionStyleModel",
          "model_module_version": "1.5.0",
          "state": {
            "_view_name": "StyleView",
            "_model_name": "DescriptionStyleModel",
            "description_width": "",
            "_view_module": "@jupyter-widgets/base",
            "_model_module_version": "1.5.0",
            "_view_count": null,
            "_view_module_version": "1.2.0",
            "_model_module": "@jupyter-widgets/controls"
          }
        },
        "e992a2b7065f470e8e2c79b78182694a": {
          "model_module": "@jupyter-widgets/base",
          "model_name": "LayoutModel",
          "model_module_version": "1.2.0",
          "state": {
            "_view_name": "LayoutView",
            "grid_template_rows": null,
            "right": null,
            "justify_content": null,
            "_view_module": "@jupyter-widgets/base",
            "overflow": null,
            "_model_module_version": "1.2.0",
            "_view_count": null,
            "flex_flow": null,
            "width": null,
            "min_width": null,
            "border": null,
            "align_items": null,
            "bottom": null,
            "_model_module": "@jupyter-widgets/base",
            "top": null,
            "grid_column": null,
            "overflow_y": null,
            "overflow_x": null,
            "grid_auto_flow": null,
            "grid_area": null,
            "grid_template_columns": null,
            "flex": null,
            "_model_name": "LayoutModel",
            "justify_items": null,
            "grid_row": null,
            "max_height": null,
            "align_content": null,
            "visibility": null,
            "align_self": null,
            "height": null,
            "min_height": null,
            "padding": null,
            "grid_auto_rows": null,
            "grid_gap": null,
            "max_width": null,
            "order": null,
            "_view_module_version": "1.2.0",
            "grid_template_areas": null,
            "object_position": null,
            "object_fit": null,
            "grid_auto_columns": null,
            "margin": null,
            "display": null,
            "left": null
          }
        },
        "b2c939057dfa49338e630d23d35ba07a": {
          "model_module": "@jupyter-widgets/controls",
          "model_name": "HBoxModel",
          "model_module_version": "1.5.0",
          "state": {
            "_view_name": "HBoxView",
            "_dom_classes": [],
            "_model_name": "HBoxModel",
            "_view_module": "@jupyter-widgets/controls",
            "_model_module_version": "1.5.0",
            "_view_count": null,
            "_view_module_version": "1.5.0",
            "box_style": "",
            "layout": "IPY_MODEL_1809ef5cb80c485f99e378b1efd8c392",
            "_model_module": "@jupyter-widgets/controls",
            "children": [
              "IPY_MODEL_ef79d20aa4194bffabf06dc9bbd5d299",
              "IPY_MODEL_a588399994f14ed582d28871deb2e132",
              "IPY_MODEL_49a4cee6ebce4c0fbc300b5d8ce6c867"
            ]
          }
        },
        "1809ef5cb80c485f99e378b1efd8c392": {
          "model_module": "@jupyter-widgets/base",
          "model_name": "LayoutModel",
          "model_module_version": "1.2.0",
          "state": {
            "_view_name": "LayoutView",
            "grid_template_rows": null,
            "right": null,
            "justify_content": null,
            "_view_module": "@jupyter-widgets/base",
            "overflow": null,
            "_model_module_version": "1.2.0",
            "_view_count": null,
            "flex_flow": null,
            "width": null,
            "min_width": null,
            "border": null,
            "align_items": null,
            "bottom": null,
            "_model_module": "@jupyter-widgets/base",
            "top": null,
            "grid_column": null,
            "overflow_y": null,
            "overflow_x": null,
            "grid_auto_flow": null,
            "grid_area": null,
            "grid_template_columns": null,
            "flex": null,
            "_model_name": "LayoutModel",
            "justify_items": null,
            "grid_row": null,
            "max_height": null,
            "align_content": null,
            "visibility": null,
            "align_self": null,
            "height": null,
            "min_height": null,
            "padding": null,
            "grid_auto_rows": null,
            "grid_gap": null,
            "max_width": null,
            "order": null,
            "_view_module_version": "1.2.0",
            "grid_template_areas": null,
            "object_position": null,
            "object_fit": null,
            "grid_auto_columns": null,
            "margin": null,
            "display": null,
            "left": null
          }
        },
        "ef79d20aa4194bffabf06dc9bbd5d299": {
          "model_module": "@jupyter-widgets/controls",
          "model_name": "HTMLModel",
          "model_module_version": "1.5.0",
          "state": {
            "_view_name": "HTMLView",
            "style": "IPY_MODEL_8130be4959fd4a7da69defb7e66c5f48",
            "_dom_classes": [],
            "description": "",
            "_model_name": "HTMLModel",
            "placeholder": "​",
            "_view_module": "@jupyter-widgets/controls",
            "_model_module_version": "1.5.0",
            "value": "Downloading: 100%",
            "_view_count": null,
            "_view_module_version": "1.5.0",
            "description_tooltip": null,
            "_model_module": "@jupyter-widgets/controls",
            "layout": "IPY_MODEL_7424ee4173f64a17a22473698940e80c"
          }
        },
        "a588399994f14ed582d28871deb2e132": {
          "model_module": "@jupyter-widgets/controls",
          "model_name": "FloatProgressModel",
          "model_module_version": "1.5.0",
          "state": {
            "_view_name": "ProgressView",
            "style": "IPY_MODEL_f29e40593aed4e8aa94f3b1d81d54ab7",
            "_dom_classes": [],
            "description": "",
            "_model_name": "FloatProgressModel",
            "bar_style": "success",
            "max": 28,
            "_view_module": "@jupyter-widgets/controls",
            "_model_module_version": "1.5.0",
            "value": 28,
            "_view_count": null,
            "_view_module_version": "1.5.0",
            "orientation": "horizontal",
            "min": 0,
            "description_tooltip": null,
            "_model_module": "@jupyter-widgets/controls",
            "layout": "IPY_MODEL_7690234ccf6443ae9a2ff79faddcf32c"
          }
        },
        "49a4cee6ebce4c0fbc300b5d8ce6c867": {
          "model_module": "@jupyter-widgets/controls",
          "model_name": "HTMLModel",
          "model_module_version": "1.5.0",
          "state": {
            "_view_name": "HTMLView",
            "style": "IPY_MODEL_96f79e0ead0d45a1a7ab82a81fb8beea",
            "_dom_classes": [],
            "description": "",
            "_model_name": "HTMLModel",
            "placeholder": "​",
            "_view_module": "@jupyter-widgets/controls",
            "_model_module_version": "1.5.0",
            "value": " 28.0/28.0 [00:00&lt;00:00, 1.24kB/s]",
            "_view_count": null,
            "_view_module_version": "1.5.0",
            "description_tooltip": null,
            "_model_module": "@jupyter-widgets/controls",
            "layout": "IPY_MODEL_bdca5a4dbc534975873b4ada17de5327"
          }
        },
        "8130be4959fd4a7da69defb7e66c5f48": {
          "model_module": "@jupyter-widgets/controls",
          "model_name": "DescriptionStyleModel",
          "model_module_version": "1.5.0",
          "state": {
            "_view_name": "StyleView",
            "_model_name": "DescriptionStyleModel",
            "description_width": "",
            "_view_module": "@jupyter-widgets/base",
            "_model_module_version": "1.5.0",
            "_view_count": null,
            "_view_module_version": "1.2.0",
            "_model_module": "@jupyter-widgets/controls"
          }
        },
        "7424ee4173f64a17a22473698940e80c": {
          "model_module": "@jupyter-widgets/base",
          "model_name": "LayoutModel",
          "model_module_version": "1.2.0",
          "state": {
            "_view_name": "LayoutView",
            "grid_template_rows": null,
            "right": null,
            "justify_content": null,
            "_view_module": "@jupyter-widgets/base",
            "overflow": null,
            "_model_module_version": "1.2.0",
            "_view_count": null,
            "flex_flow": null,
            "width": null,
            "min_width": null,
            "border": null,
            "align_items": null,
            "bottom": null,
            "_model_module": "@jupyter-widgets/base",
            "top": null,
            "grid_column": null,
            "overflow_y": null,
            "overflow_x": null,
            "grid_auto_flow": null,
            "grid_area": null,
            "grid_template_columns": null,
            "flex": null,
            "_model_name": "LayoutModel",
            "justify_items": null,
            "grid_row": null,
            "max_height": null,
            "align_content": null,
            "visibility": null,
            "align_self": null,
            "height": null,
            "min_height": null,
            "padding": null,
            "grid_auto_rows": null,
            "grid_gap": null,
            "max_width": null,
            "order": null,
            "_view_module_version": "1.2.0",
            "grid_template_areas": null,
            "object_position": null,
            "object_fit": null,
            "grid_auto_columns": null,
            "margin": null,
            "display": null,
            "left": null
          }
        },
        "f29e40593aed4e8aa94f3b1d81d54ab7": {
          "model_module": "@jupyter-widgets/controls",
          "model_name": "ProgressStyleModel",
          "model_module_version": "1.5.0",
          "state": {
            "_view_name": "StyleView",
            "_model_name": "ProgressStyleModel",
            "description_width": "",
            "_view_module": "@jupyter-widgets/base",
            "_model_module_version": "1.5.0",
            "_view_count": null,
            "_view_module_version": "1.2.0",
            "bar_color": null,
            "_model_module": "@jupyter-widgets/controls"
          }
        },
        "7690234ccf6443ae9a2ff79faddcf32c": {
          "model_module": "@jupyter-widgets/base",
          "model_name": "LayoutModel",
          "model_module_version": "1.2.0",
          "state": {
            "_view_name": "LayoutView",
            "grid_template_rows": null,
            "right": null,
            "justify_content": null,
            "_view_module": "@jupyter-widgets/base",
            "overflow": null,
            "_model_module_version": "1.2.0",
            "_view_count": null,
            "flex_flow": null,
            "width": null,
            "min_width": null,
            "border": null,
            "align_items": null,
            "bottom": null,
            "_model_module": "@jupyter-widgets/base",
            "top": null,
            "grid_column": null,
            "overflow_y": null,
            "overflow_x": null,
            "grid_auto_flow": null,
            "grid_area": null,
            "grid_template_columns": null,
            "flex": null,
            "_model_name": "LayoutModel",
            "justify_items": null,
            "grid_row": null,
            "max_height": null,
            "align_content": null,
            "visibility": null,
            "align_self": null,
            "height": null,
            "min_height": null,
            "padding": null,
            "grid_auto_rows": null,
            "grid_gap": null,
            "max_width": null,
            "order": null,
            "_view_module_version": "1.2.0",
            "grid_template_areas": null,
            "object_position": null,
            "object_fit": null,
            "grid_auto_columns": null,
            "margin": null,
            "display": null,
            "left": null
          }
        },
        "96f79e0ead0d45a1a7ab82a81fb8beea": {
          "model_module": "@jupyter-widgets/controls",
          "model_name": "DescriptionStyleModel",
          "model_module_version": "1.5.0",
          "state": {
            "_view_name": "StyleView",
            "_model_name": "DescriptionStyleModel",
            "description_width": "",
            "_view_module": "@jupyter-widgets/base",
            "_model_module_version": "1.5.0",
            "_view_count": null,
            "_view_module_version": "1.2.0",
            "_model_module": "@jupyter-widgets/controls"
          }
        },
        "bdca5a4dbc534975873b4ada17de5327": {
          "model_module": "@jupyter-widgets/base",
          "model_name": "LayoutModel",
          "model_module_version": "1.2.0",
          "state": {
            "_view_name": "LayoutView",
            "grid_template_rows": null,
            "right": null,
            "justify_content": null,
            "_view_module": "@jupyter-widgets/base",
            "overflow": null,
            "_model_module_version": "1.2.0",
            "_view_count": null,
            "flex_flow": null,
            "width": null,
            "min_width": null,
            "border": null,
            "align_items": null,
            "bottom": null,
            "_model_module": "@jupyter-widgets/base",
            "top": null,
            "grid_column": null,
            "overflow_y": null,
            "overflow_x": null,
            "grid_auto_flow": null,
            "grid_area": null,
            "grid_template_columns": null,
            "flex": null,
            "_model_name": "LayoutModel",
            "justify_items": null,
            "grid_row": null,
            "max_height": null,
            "align_content": null,
            "visibility": null,
            "align_self": null,
            "height": null,
            "min_height": null,
            "padding": null,
            "grid_auto_rows": null,
            "grid_gap": null,
            "max_width": null,
            "order": null,
            "_view_module_version": "1.2.0",
            "grid_template_areas": null,
            "object_position": null,
            "object_fit": null,
            "grid_auto_columns": null,
            "margin": null,
            "display": null,
            "left": null
          }
        },
        "e3020cb9a4374a12b056ecc4c5b02d41": {
          "model_module": "@jupyter-widgets/controls",
          "model_name": "HBoxModel",
          "model_module_version": "1.5.0",
          "state": {
            "_view_name": "HBoxView",
            "_dom_classes": [],
            "_model_name": "HBoxModel",
            "_view_module": "@jupyter-widgets/controls",
            "_model_module_version": "1.5.0",
            "_view_count": null,
            "_view_module_version": "1.5.0",
            "box_style": "",
            "layout": "IPY_MODEL_8de68321a4a64dc09e372408d7ab4449",
            "_model_module": "@jupyter-widgets/controls",
            "children": [
              "IPY_MODEL_7ed8c5f900564a72ae1dc15a926fb925",
              "IPY_MODEL_528ffb6efe8e4fa7b2beb1909f32b971",
              "IPY_MODEL_995020038b174e7fb07af5c59a77679f"
            ]
          }
        },
        "8de68321a4a64dc09e372408d7ab4449": {
          "model_module": "@jupyter-widgets/base",
          "model_name": "LayoutModel",
          "model_module_version": "1.2.0",
          "state": {
            "_view_name": "LayoutView",
            "grid_template_rows": null,
            "right": null,
            "justify_content": null,
            "_view_module": "@jupyter-widgets/base",
            "overflow": null,
            "_model_module_version": "1.2.0",
            "_view_count": null,
            "flex_flow": null,
            "width": null,
            "min_width": null,
            "border": null,
            "align_items": null,
            "bottom": null,
            "_model_module": "@jupyter-widgets/base",
            "top": null,
            "grid_column": null,
            "overflow_y": null,
            "overflow_x": null,
            "grid_auto_flow": null,
            "grid_area": null,
            "grid_template_columns": null,
            "flex": null,
            "_model_name": "LayoutModel",
            "justify_items": null,
            "grid_row": null,
            "max_height": null,
            "align_content": null,
            "visibility": null,
            "align_self": null,
            "height": null,
            "min_height": null,
            "padding": null,
            "grid_auto_rows": null,
            "grid_gap": null,
            "max_width": null,
            "order": null,
            "_view_module_version": "1.2.0",
            "grid_template_areas": null,
            "object_position": null,
            "object_fit": null,
            "grid_auto_columns": null,
            "margin": null,
            "display": null,
            "left": null
          }
        },
        "7ed8c5f900564a72ae1dc15a926fb925": {
          "model_module": "@jupyter-widgets/controls",
          "model_name": "HTMLModel",
          "model_module_version": "1.5.0",
          "state": {
            "_view_name": "HTMLView",
            "style": "IPY_MODEL_b63f4a1ae9124597b4cbe16c04344d06",
            "_dom_classes": [],
            "description": "",
            "_model_name": "HTMLModel",
            "placeholder": "​",
            "_view_module": "@jupyter-widgets/controls",
            "_model_module_version": "1.5.0",
            "value": "Downloading: 100%",
            "_view_count": null,
            "_view_module_version": "1.5.0",
            "description_tooltip": null,
            "_model_module": "@jupyter-widgets/controls",
            "layout": "IPY_MODEL_cb019af890624156afeb937f0e8c958b"
          }
        },
        "528ffb6efe8e4fa7b2beb1909f32b971": {
          "model_module": "@jupyter-widgets/controls",
          "model_name": "FloatProgressModel",
          "model_module_version": "1.5.0",
          "state": {
            "_view_name": "ProgressView",
            "style": "IPY_MODEL_df6d05e2971a4bb68810118b0d5dbff0",
            "_dom_classes": [],
            "description": "",
            "_model_name": "FloatProgressModel",
            "bar_style": "success",
            "max": 466062,
            "_view_module": "@jupyter-widgets/controls",
            "_model_module_version": "1.5.0",
            "value": 466062,
            "_view_count": null,
            "_view_module_version": "1.5.0",
            "orientation": "horizontal",
            "min": 0,
            "description_tooltip": null,
            "_model_module": "@jupyter-widgets/controls",
            "layout": "IPY_MODEL_2d7c6a732f10493d9cbdbfe0c518a15a"
          }
        },
        "995020038b174e7fb07af5c59a77679f": {
          "model_module": "@jupyter-widgets/controls",
          "model_name": "HTMLModel",
          "model_module_version": "1.5.0",
          "state": {
            "_view_name": "HTMLView",
            "style": "IPY_MODEL_67cc2446b9bf4495825058b023bdd292",
            "_dom_classes": [],
            "description": "",
            "_model_name": "HTMLModel",
            "placeholder": "​",
            "_view_module": "@jupyter-widgets/controls",
            "_model_module_version": "1.5.0",
            "value": " 466k/466k [00:00&lt;00:00, 1.13MB/s]",
            "_view_count": null,
            "_view_module_version": "1.5.0",
            "description_tooltip": null,
            "_model_module": "@jupyter-widgets/controls",
            "layout": "IPY_MODEL_1ef643185d054e65b0fc80ea53bd8835"
          }
        },
        "b63f4a1ae9124597b4cbe16c04344d06": {
          "model_module": "@jupyter-widgets/controls",
          "model_name": "DescriptionStyleModel",
          "model_module_version": "1.5.0",
          "state": {
            "_view_name": "StyleView",
            "_model_name": "DescriptionStyleModel",
            "description_width": "",
            "_view_module": "@jupyter-widgets/base",
            "_model_module_version": "1.5.0",
            "_view_count": null,
            "_view_module_version": "1.2.0",
            "_model_module": "@jupyter-widgets/controls"
          }
        },
        "cb019af890624156afeb937f0e8c958b": {
          "model_module": "@jupyter-widgets/base",
          "model_name": "LayoutModel",
          "model_module_version": "1.2.0",
          "state": {
            "_view_name": "LayoutView",
            "grid_template_rows": null,
            "right": null,
            "justify_content": null,
            "_view_module": "@jupyter-widgets/base",
            "overflow": null,
            "_model_module_version": "1.2.0",
            "_view_count": null,
            "flex_flow": null,
            "width": null,
            "min_width": null,
            "border": null,
            "align_items": null,
            "bottom": null,
            "_model_module": "@jupyter-widgets/base",
            "top": null,
            "grid_column": null,
            "overflow_y": null,
            "overflow_x": null,
            "grid_auto_flow": null,
            "grid_area": null,
            "grid_template_columns": null,
            "flex": null,
            "_model_name": "LayoutModel",
            "justify_items": null,
            "grid_row": null,
            "max_height": null,
            "align_content": null,
            "visibility": null,
            "align_self": null,
            "height": null,
            "min_height": null,
            "padding": null,
            "grid_auto_rows": null,
            "grid_gap": null,
            "max_width": null,
            "order": null,
            "_view_module_version": "1.2.0",
            "grid_template_areas": null,
            "object_position": null,
            "object_fit": null,
            "grid_auto_columns": null,
            "margin": null,
            "display": null,
            "left": null
          }
        },
        "df6d05e2971a4bb68810118b0d5dbff0": {
          "model_module": "@jupyter-widgets/controls",
          "model_name": "ProgressStyleModel",
          "model_module_version": "1.5.0",
          "state": {
            "_view_name": "StyleView",
            "_model_name": "ProgressStyleModel",
            "description_width": "",
            "_view_module": "@jupyter-widgets/base",
            "_model_module_version": "1.5.0",
            "_view_count": null,
            "_view_module_version": "1.2.0",
            "bar_color": null,
            "_model_module": "@jupyter-widgets/controls"
          }
        },
        "2d7c6a732f10493d9cbdbfe0c518a15a": {
          "model_module": "@jupyter-widgets/base",
          "model_name": "LayoutModel",
          "model_module_version": "1.2.0",
          "state": {
            "_view_name": "LayoutView",
            "grid_template_rows": null,
            "right": null,
            "justify_content": null,
            "_view_module": "@jupyter-widgets/base",
            "overflow": null,
            "_model_module_version": "1.2.0",
            "_view_count": null,
            "flex_flow": null,
            "width": null,
            "min_width": null,
            "border": null,
            "align_items": null,
            "bottom": null,
            "_model_module": "@jupyter-widgets/base",
            "top": null,
            "grid_column": null,
            "overflow_y": null,
            "overflow_x": null,
            "grid_auto_flow": null,
            "grid_area": null,
            "grid_template_columns": null,
            "flex": null,
            "_model_name": "LayoutModel",
            "justify_items": null,
            "grid_row": null,
            "max_height": null,
            "align_content": null,
            "visibility": null,
            "align_self": null,
            "height": null,
            "min_height": null,
            "padding": null,
            "grid_auto_rows": null,
            "grid_gap": null,
            "max_width": null,
            "order": null,
            "_view_module_version": "1.2.0",
            "grid_template_areas": null,
            "object_position": null,
            "object_fit": null,
            "grid_auto_columns": null,
            "margin": null,
            "display": null,
            "left": null
          }
        },
        "67cc2446b9bf4495825058b023bdd292": {
          "model_module": "@jupyter-widgets/controls",
          "model_name": "DescriptionStyleModel",
          "model_module_version": "1.5.0",
          "state": {
            "_view_name": "StyleView",
            "_model_name": "DescriptionStyleModel",
            "description_width": "",
            "_view_module": "@jupyter-widgets/base",
            "_model_module_version": "1.5.0",
            "_view_count": null,
            "_view_module_version": "1.2.0",
            "_model_module": "@jupyter-widgets/controls"
          }
        },
        "1ef643185d054e65b0fc80ea53bd8835": {
          "model_module": "@jupyter-widgets/base",
          "model_name": "LayoutModel",
          "model_module_version": "1.2.0",
          "state": {
            "_view_name": "LayoutView",
            "grid_template_rows": null,
            "right": null,
            "justify_content": null,
            "_view_module": "@jupyter-widgets/base",
            "overflow": null,
            "_model_module_version": "1.2.0",
            "_view_count": null,
            "flex_flow": null,
            "width": null,
            "min_width": null,
            "border": null,
            "align_items": null,
            "bottom": null,
            "_model_module": "@jupyter-widgets/base",
            "top": null,
            "grid_column": null,
            "overflow_y": null,
            "overflow_x": null,
            "grid_auto_flow": null,
            "grid_area": null,
            "grid_template_columns": null,
            "flex": null,
            "_model_name": "LayoutModel",
            "justify_items": null,
            "grid_row": null,
            "max_height": null,
            "align_content": null,
            "visibility": null,
            "align_self": null,
            "height": null,
            "min_height": null,
            "padding": null,
            "grid_auto_rows": null,
            "grid_gap": null,
            "max_width": null,
            "order": null,
            "_view_module_version": "1.2.0",
            "grid_template_areas": null,
            "object_position": null,
            "object_fit": null,
            "grid_auto_columns": null,
            "margin": null,
            "display": null,
            "left": null
          }
        },
        "455477a5b3a04546b21a65df671ca084": {
          "model_module": "@jupyter-widgets/controls",
          "model_name": "HBoxModel",
          "model_module_version": "1.5.0",
          "state": {
            "_view_name": "HBoxView",
            "_dom_classes": [],
            "_model_name": "HBoxModel",
            "_view_module": "@jupyter-widgets/controls",
            "_model_module_version": "1.5.0",
            "_view_count": null,
            "_view_module_version": "1.5.0",
            "box_style": "",
            "layout": "IPY_MODEL_a89e9cbfe9a14b078b9382e4b332a1cd",
            "_model_module": "@jupyter-widgets/controls",
            "children": [
              "IPY_MODEL_8b0ef5bbc5bb4fe18297b3e60cc1211c",
              "IPY_MODEL_6e722fe05ad0484e8866417054deafdf",
              "IPY_MODEL_3ff7014031cb4d5988c6774a334250de"
            ]
          }
        },
        "a89e9cbfe9a14b078b9382e4b332a1cd": {
          "model_module": "@jupyter-widgets/base",
          "model_name": "LayoutModel",
          "model_module_version": "1.2.0",
          "state": {
            "_view_name": "LayoutView",
            "grid_template_rows": null,
            "right": null,
            "justify_content": null,
            "_view_module": "@jupyter-widgets/base",
            "overflow": null,
            "_model_module_version": "1.2.0",
            "_view_count": null,
            "flex_flow": null,
            "width": null,
            "min_width": null,
            "border": null,
            "align_items": null,
            "bottom": null,
            "_model_module": "@jupyter-widgets/base",
            "top": null,
            "grid_column": null,
            "overflow_y": null,
            "overflow_x": null,
            "grid_auto_flow": null,
            "grid_area": null,
            "grid_template_columns": null,
            "flex": null,
            "_model_name": "LayoutModel",
            "justify_items": null,
            "grid_row": null,
            "max_height": null,
            "align_content": null,
            "visibility": null,
            "align_self": null,
            "height": null,
            "min_height": null,
            "padding": null,
            "grid_auto_rows": null,
            "grid_gap": null,
            "max_width": null,
            "order": null,
            "_view_module_version": "1.2.0",
            "grid_template_areas": null,
            "object_position": null,
            "object_fit": null,
            "grid_auto_columns": null,
            "margin": null,
            "display": null,
            "left": null
          }
        },
        "8b0ef5bbc5bb4fe18297b3e60cc1211c": {
          "model_module": "@jupyter-widgets/controls",
          "model_name": "HTMLModel",
          "model_module_version": "1.5.0",
          "state": {
            "_view_name": "HTMLView",
            "style": "IPY_MODEL_1fd21c2dc2e544cb9a6af5b996783aac",
            "_dom_classes": [],
            "description": "",
            "_model_name": "HTMLModel",
            "placeholder": "​",
            "_view_module": "@jupyter-widgets/controls",
            "_model_module_version": "1.5.0",
            "value": "Downloading: 100%",
            "_view_count": null,
            "_view_module_version": "1.5.0",
            "description_tooltip": null,
            "_model_module": "@jupyter-widgets/controls",
            "layout": "IPY_MODEL_a78ace3c06fb4b8c90c02e2cd01990bf"
          }
        },
        "6e722fe05ad0484e8866417054deafdf": {
          "model_module": "@jupyter-widgets/controls",
          "model_name": "FloatProgressModel",
          "model_module_version": "1.5.0",
          "state": {
            "_view_name": "ProgressView",
            "style": "IPY_MODEL_a58e540faadc41ce8dbbc8d1b09be668",
            "_dom_classes": [],
            "description": "",
            "_model_name": "FloatProgressModel",
            "bar_style": "success",
            "max": 570,
            "_view_module": "@jupyter-widgets/controls",
            "_model_module_version": "1.5.0",
            "value": 570,
            "_view_count": null,
            "_view_module_version": "1.5.0",
            "orientation": "horizontal",
            "min": 0,
            "description_tooltip": null,
            "_model_module": "@jupyter-widgets/controls",
            "layout": "IPY_MODEL_7bd646b8134546508607db08b3ded06a"
          }
        },
        "3ff7014031cb4d5988c6774a334250de": {
          "model_module": "@jupyter-widgets/controls",
          "model_name": "HTMLModel",
          "model_module_version": "1.5.0",
          "state": {
            "_view_name": "HTMLView",
            "style": "IPY_MODEL_4139dcc80df1414b9299f7d5b8deda68",
            "_dom_classes": [],
            "description": "",
            "_model_name": "HTMLModel",
            "placeholder": "​",
            "_view_module": "@jupyter-widgets/controls",
            "_model_module_version": "1.5.0",
            "value": " 570/570 [00:00&lt;00:00, 20.3kB/s]",
            "_view_count": null,
            "_view_module_version": "1.5.0",
            "description_tooltip": null,
            "_model_module": "@jupyter-widgets/controls",
            "layout": "IPY_MODEL_f8528be12e544d009f42d75886d2ae71"
          }
        },
        "1fd21c2dc2e544cb9a6af5b996783aac": {
          "model_module": "@jupyter-widgets/controls",
          "model_name": "DescriptionStyleModel",
          "model_module_version": "1.5.0",
          "state": {
            "_view_name": "StyleView",
            "_model_name": "DescriptionStyleModel",
            "description_width": "",
            "_view_module": "@jupyter-widgets/base",
            "_model_module_version": "1.5.0",
            "_view_count": null,
            "_view_module_version": "1.2.0",
            "_model_module": "@jupyter-widgets/controls"
          }
        },
        "a78ace3c06fb4b8c90c02e2cd01990bf": {
          "model_module": "@jupyter-widgets/base",
          "model_name": "LayoutModel",
          "model_module_version": "1.2.0",
          "state": {
            "_view_name": "LayoutView",
            "grid_template_rows": null,
            "right": null,
            "justify_content": null,
            "_view_module": "@jupyter-widgets/base",
            "overflow": null,
            "_model_module_version": "1.2.0",
            "_view_count": null,
            "flex_flow": null,
            "width": null,
            "min_width": null,
            "border": null,
            "align_items": null,
            "bottom": null,
            "_model_module": "@jupyter-widgets/base",
            "top": null,
            "grid_column": null,
            "overflow_y": null,
            "overflow_x": null,
            "grid_auto_flow": null,
            "grid_area": null,
            "grid_template_columns": null,
            "flex": null,
            "_model_name": "LayoutModel",
            "justify_items": null,
            "grid_row": null,
            "max_height": null,
            "align_content": null,
            "visibility": null,
            "align_self": null,
            "height": null,
            "min_height": null,
            "padding": null,
            "grid_auto_rows": null,
            "grid_gap": null,
            "max_width": null,
            "order": null,
            "_view_module_version": "1.2.0",
            "grid_template_areas": null,
            "object_position": null,
            "object_fit": null,
            "grid_auto_columns": null,
            "margin": null,
            "display": null,
            "left": null
          }
        },
        "a58e540faadc41ce8dbbc8d1b09be668": {
          "model_module": "@jupyter-widgets/controls",
          "model_name": "ProgressStyleModel",
          "model_module_version": "1.5.0",
          "state": {
            "_view_name": "StyleView",
            "_model_name": "ProgressStyleModel",
            "description_width": "",
            "_view_module": "@jupyter-widgets/base",
            "_model_module_version": "1.5.0",
            "_view_count": null,
            "_view_module_version": "1.2.0",
            "bar_color": null,
            "_model_module": "@jupyter-widgets/controls"
          }
        },
        "7bd646b8134546508607db08b3ded06a": {
          "model_module": "@jupyter-widgets/base",
          "model_name": "LayoutModel",
          "model_module_version": "1.2.0",
          "state": {
            "_view_name": "LayoutView",
            "grid_template_rows": null,
            "right": null,
            "justify_content": null,
            "_view_module": "@jupyter-widgets/base",
            "overflow": null,
            "_model_module_version": "1.2.0",
            "_view_count": null,
            "flex_flow": null,
            "width": null,
            "min_width": null,
            "border": null,
            "align_items": null,
            "bottom": null,
            "_model_module": "@jupyter-widgets/base",
            "top": null,
            "grid_column": null,
            "overflow_y": null,
            "overflow_x": null,
            "grid_auto_flow": null,
            "grid_area": null,
            "grid_template_columns": null,
            "flex": null,
            "_model_name": "LayoutModel",
            "justify_items": null,
            "grid_row": null,
            "max_height": null,
            "align_content": null,
            "visibility": null,
            "align_self": null,
            "height": null,
            "min_height": null,
            "padding": null,
            "grid_auto_rows": null,
            "grid_gap": null,
            "max_width": null,
            "order": null,
            "_view_module_version": "1.2.0",
            "grid_template_areas": null,
            "object_position": null,
            "object_fit": null,
            "grid_auto_columns": null,
            "margin": null,
            "display": null,
            "left": null
          }
        },
        "4139dcc80df1414b9299f7d5b8deda68": {
          "model_module": "@jupyter-widgets/controls",
          "model_name": "DescriptionStyleModel",
          "model_module_version": "1.5.0",
          "state": {
            "_view_name": "StyleView",
            "_model_name": "DescriptionStyleModel",
            "description_width": "",
            "_view_module": "@jupyter-widgets/base",
            "_model_module_version": "1.5.0",
            "_view_count": null,
            "_view_module_version": "1.2.0",
            "_model_module": "@jupyter-widgets/controls"
          }
        },
        "f8528be12e544d009f42d75886d2ae71": {
          "model_module": "@jupyter-widgets/base",
          "model_name": "LayoutModel",
          "model_module_version": "1.2.0",
          "state": {
            "_view_name": "LayoutView",
            "grid_template_rows": null,
            "right": null,
            "justify_content": null,
            "_view_module": "@jupyter-widgets/base",
            "overflow": null,
            "_model_module_version": "1.2.0",
            "_view_count": null,
            "flex_flow": null,
            "width": null,
            "min_width": null,
            "border": null,
            "align_items": null,
            "bottom": null,
            "_model_module": "@jupyter-widgets/base",
            "top": null,
            "grid_column": null,
            "overflow_y": null,
            "overflow_x": null,
            "grid_auto_flow": null,
            "grid_area": null,
            "grid_template_columns": null,
            "flex": null,
            "_model_name": "LayoutModel",
            "justify_items": null,
            "grid_row": null,
            "max_height": null,
            "align_content": null,
            "visibility": null,
            "align_self": null,
            "height": null,
            "min_height": null,
            "padding": null,
            "grid_auto_rows": null,
            "grid_gap": null,
            "max_width": null,
            "order": null,
            "_view_module_version": "1.2.0",
            "grid_template_areas": null,
            "object_position": null,
            "object_fit": null,
            "grid_auto_columns": null,
            "margin": null,
            "display": null,
            "left": null
          }
        },
        "a4a0de77ccaf4b1590ce3b7811418adc": {
          "model_module": "@jupyter-widgets/controls",
          "model_name": "HBoxModel",
          "model_module_version": "1.5.0",
          "state": {
            "_view_name": "HBoxView",
            "_dom_classes": [],
            "_model_name": "HBoxModel",
            "_view_module": "@jupyter-widgets/controls",
            "_model_module_version": "1.5.0",
            "_view_count": null,
            "_view_module_version": "1.5.0",
            "box_style": "",
            "layout": "IPY_MODEL_9fdc47843b02436b9005f68c67de5481",
            "_model_module": "@jupyter-widgets/controls",
            "children": [
              "IPY_MODEL_d6e811de0dd446d0b0f004d74887f213",
              "IPY_MODEL_1d345352c1654d27a0597c3f41390c2f",
              "IPY_MODEL_413f7a5a48ed4b7eb984fe1f6fd239b2"
            ]
          }
        },
        "9fdc47843b02436b9005f68c67de5481": {
          "model_module": "@jupyter-widgets/base",
          "model_name": "LayoutModel",
          "model_module_version": "1.2.0",
          "state": {
            "_view_name": "LayoutView",
            "grid_template_rows": null,
            "right": null,
            "justify_content": null,
            "_view_module": "@jupyter-widgets/base",
            "overflow": null,
            "_model_module_version": "1.2.0",
            "_view_count": null,
            "flex_flow": null,
            "width": null,
            "min_width": null,
            "border": null,
            "align_items": null,
            "bottom": null,
            "_model_module": "@jupyter-widgets/base",
            "top": null,
            "grid_column": null,
            "overflow_y": null,
            "overflow_x": null,
            "grid_auto_flow": null,
            "grid_area": null,
            "grid_template_columns": null,
            "flex": null,
            "_model_name": "LayoutModel",
            "justify_items": null,
            "grid_row": null,
            "max_height": null,
            "align_content": null,
            "visibility": null,
            "align_self": null,
            "height": null,
            "min_height": null,
            "padding": null,
            "grid_auto_rows": null,
            "grid_gap": null,
            "max_width": null,
            "order": null,
            "_view_module_version": "1.2.0",
            "grid_template_areas": null,
            "object_position": null,
            "object_fit": null,
            "grid_auto_columns": null,
            "margin": null,
            "display": null,
            "left": null
          }
        },
        "d6e811de0dd446d0b0f004d74887f213": {
          "model_module": "@jupyter-widgets/controls",
          "model_name": "HTMLModel",
          "model_module_version": "1.5.0",
          "state": {
            "_view_name": "HTMLView",
            "style": "IPY_MODEL_eb615b2a68d042dd80705ffe32f0d1df",
            "_dom_classes": [],
            "description": "",
            "_model_name": "HTMLModel",
            "placeholder": "​",
            "_view_module": "@jupyter-widgets/controls",
            "_model_module_version": "1.5.0",
            "value": "Downloading: 100%",
            "_view_count": null,
            "_view_module_version": "1.5.0",
            "description_tooltip": null,
            "_model_module": "@jupyter-widgets/controls",
            "layout": "IPY_MODEL_f9306ab550264aad9b0615b63fda9f47"
          }
        },
        "1d345352c1654d27a0597c3f41390c2f": {
          "model_module": "@jupyter-widgets/controls",
          "model_name": "FloatProgressModel",
          "model_module_version": "1.5.0",
          "state": {
            "_view_name": "ProgressView",
            "style": "IPY_MODEL_28aa51098cd348189b9a692ca7d2dac1",
            "_dom_classes": [],
            "description": "",
            "_model_name": "FloatProgressModel",
            "bar_style": "success",
            "max": 440473133,
            "_view_module": "@jupyter-widgets/controls",
            "_model_module_version": "1.5.0",
            "value": 440473133,
            "_view_count": null,
            "_view_module_version": "1.5.0",
            "orientation": "horizontal",
            "min": 0,
            "description_tooltip": null,
            "_model_module": "@jupyter-widgets/controls",
            "layout": "IPY_MODEL_d92db659cc794e1eada7a5d0918dd5ef"
          }
        },
        "413f7a5a48ed4b7eb984fe1f6fd239b2": {
          "model_module": "@jupyter-widgets/controls",
          "model_name": "HTMLModel",
          "model_module_version": "1.5.0",
          "state": {
            "_view_name": "HTMLView",
            "style": "IPY_MODEL_4e5c174bfbe54fe9b56be53b727f1815",
            "_dom_classes": [],
            "description": "",
            "_model_name": "HTMLModel",
            "placeholder": "​",
            "_view_module": "@jupyter-widgets/controls",
            "_model_module_version": "1.5.0",
            "value": " 440M/440M [00:07&lt;00:00, 57.9MB/s]",
            "_view_count": null,
            "_view_module_version": "1.5.0",
            "description_tooltip": null,
            "_model_module": "@jupyter-widgets/controls",
            "layout": "IPY_MODEL_e8bfcb41ebb54a3ebb5c067bc8b19b31"
          }
        },
        "eb615b2a68d042dd80705ffe32f0d1df": {
          "model_module": "@jupyter-widgets/controls",
          "model_name": "DescriptionStyleModel",
          "model_module_version": "1.5.0",
          "state": {
            "_view_name": "StyleView",
            "_model_name": "DescriptionStyleModel",
            "description_width": "",
            "_view_module": "@jupyter-widgets/base",
            "_model_module_version": "1.5.0",
            "_view_count": null,
            "_view_module_version": "1.2.0",
            "_model_module": "@jupyter-widgets/controls"
          }
        },
        "f9306ab550264aad9b0615b63fda9f47": {
          "model_module": "@jupyter-widgets/base",
          "model_name": "LayoutModel",
          "model_module_version": "1.2.0",
          "state": {
            "_view_name": "LayoutView",
            "grid_template_rows": null,
            "right": null,
            "justify_content": null,
            "_view_module": "@jupyter-widgets/base",
            "overflow": null,
            "_model_module_version": "1.2.0",
            "_view_count": null,
            "flex_flow": null,
            "width": null,
            "min_width": null,
            "border": null,
            "align_items": null,
            "bottom": null,
            "_model_module": "@jupyter-widgets/base",
            "top": null,
            "grid_column": null,
            "overflow_y": null,
            "overflow_x": null,
            "grid_auto_flow": null,
            "grid_area": null,
            "grid_template_columns": null,
            "flex": null,
            "_model_name": "LayoutModel",
            "justify_items": null,
            "grid_row": null,
            "max_height": null,
            "align_content": null,
            "visibility": null,
            "align_self": null,
            "height": null,
            "min_height": null,
            "padding": null,
            "grid_auto_rows": null,
            "grid_gap": null,
            "max_width": null,
            "order": null,
            "_view_module_version": "1.2.0",
            "grid_template_areas": null,
            "object_position": null,
            "object_fit": null,
            "grid_auto_columns": null,
            "margin": null,
            "display": null,
            "left": null
          }
        },
        "28aa51098cd348189b9a692ca7d2dac1": {
          "model_module": "@jupyter-widgets/controls",
          "model_name": "ProgressStyleModel",
          "model_module_version": "1.5.0",
          "state": {
            "_view_name": "StyleView",
            "_model_name": "ProgressStyleModel",
            "description_width": "",
            "_view_module": "@jupyter-widgets/base",
            "_model_module_version": "1.5.0",
            "_view_count": null,
            "_view_module_version": "1.2.0",
            "bar_color": null,
            "_model_module": "@jupyter-widgets/controls"
          }
        },
        "d92db659cc794e1eada7a5d0918dd5ef": {
          "model_module": "@jupyter-widgets/base",
          "model_name": "LayoutModel",
          "model_module_version": "1.2.0",
          "state": {
            "_view_name": "LayoutView",
            "grid_template_rows": null,
            "right": null,
            "justify_content": null,
            "_view_module": "@jupyter-widgets/base",
            "overflow": null,
            "_model_module_version": "1.2.0",
            "_view_count": null,
            "flex_flow": null,
            "width": null,
            "min_width": null,
            "border": null,
            "align_items": null,
            "bottom": null,
            "_model_module": "@jupyter-widgets/base",
            "top": null,
            "grid_column": null,
            "overflow_y": null,
            "overflow_x": null,
            "grid_auto_flow": null,
            "grid_area": null,
            "grid_template_columns": null,
            "flex": null,
            "_model_name": "LayoutModel",
            "justify_items": null,
            "grid_row": null,
            "max_height": null,
            "align_content": null,
            "visibility": null,
            "align_self": null,
            "height": null,
            "min_height": null,
            "padding": null,
            "grid_auto_rows": null,
            "grid_gap": null,
            "max_width": null,
            "order": null,
            "_view_module_version": "1.2.0",
            "grid_template_areas": null,
            "object_position": null,
            "object_fit": null,
            "grid_auto_columns": null,
            "margin": null,
            "display": null,
            "left": null
          }
        },
        "4e5c174bfbe54fe9b56be53b727f1815": {
          "model_module": "@jupyter-widgets/controls",
          "model_name": "DescriptionStyleModel",
          "model_module_version": "1.5.0",
          "state": {
            "_view_name": "StyleView",
            "_model_name": "DescriptionStyleModel",
            "description_width": "",
            "_view_module": "@jupyter-widgets/base",
            "_model_module_version": "1.5.0",
            "_view_count": null,
            "_view_module_version": "1.2.0",
            "_model_module": "@jupyter-widgets/controls"
          }
        },
        "e8bfcb41ebb54a3ebb5c067bc8b19b31": {
          "model_module": "@jupyter-widgets/base",
          "model_name": "LayoutModel",
          "model_module_version": "1.2.0",
          "state": {
            "_view_name": "LayoutView",
            "grid_template_rows": null,
            "right": null,
            "justify_content": null,
            "_view_module": "@jupyter-widgets/base",
            "overflow": null,
            "_model_module_version": "1.2.0",
            "_view_count": null,
            "flex_flow": null,
            "width": null,
            "min_width": null,
            "border": null,
            "align_items": null,
            "bottom": null,
            "_model_module": "@jupyter-widgets/base",
            "top": null,
            "grid_column": null,
            "overflow_y": null,
            "overflow_x": null,
            "grid_auto_flow": null,
            "grid_area": null,
            "grid_template_columns": null,
            "flex": null,
            "_model_name": "LayoutModel",
            "justify_items": null,
            "grid_row": null,
            "max_height": null,
            "align_content": null,
            "visibility": null,
            "align_self": null,
            "height": null,
            "min_height": null,
            "padding": null,
            "grid_auto_rows": null,
            "grid_gap": null,
            "max_width": null,
            "order": null,
            "_view_module_version": "1.2.0",
            "grid_template_areas": null,
            "object_position": null,
            "object_fit": null,
            "grid_auto_columns": null,
            "margin": null,
            "display": null,
            "left": null
          }
        },
        "508f8b7e060848469f29a1547febc69f": {
          "model_module": "@jupyter-widgets/controls",
          "model_name": "HBoxModel",
          "model_module_version": "1.5.0",
          "state": {
            "_view_name": "HBoxView",
            "_dom_classes": [],
            "_model_name": "HBoxModel",
            "_view_module": "@jupyter-widgets/controls",
            "_model_module_version": "1.5.0",
            "_view_count": null,
            "_view_module_version": "1.5.0",
            "box_style": "",
            "layout": "IPY_MODEL_936337a91c1d433f817f5bded8bbccc5",
            "_model_module": "@jupyter-widgets/controls",
            "children": [
              "IPY_MODEL_d412b3e3e7a646d4ad4dfac707edb0e0",
              "IPY_MODEL_e55e73ff086542288c14c8826400a0eb",
              "IPY_MODEL_c86299b765ae4864ada85b8b50df53e9"
            ]
          }
        },
        "936337a91c1d433f817f5bded8bbccc5": {
          "model_module": "@jupyter-widgets/base",
          "model_name": "LayoutModel",
          "model_module_version": "1.2.0",
          "state": {
            "_view_name": "LayoutView",
            "grid_template_rows": null,
            "right": null,
            "justify_content": null,
            "_view_module": "@jupyter-widgets/base",
            "overflow": null,
            "_model_module_version": "1.2.0",
            "_view_count": null,
            "flex_flow": null,
            "width": null,
            "min_width": null,
            "border": null,
            "align_items": null,
            "bottom": null,
            "_model_module": "@jupyter-widgets/base",
            "top": null,
            "grid_column": null,
            "overflow_y": null,
            "overflow_x": null,
            "grid_auto_flow": null,
            "grid_area": null,
            "grid_template_columns": null,
            "flex": null,
            "_model_name": "LayoutModel",
            "justify_items": null,
            "grid_row": null,
            "max_height": null,
            "align_content": null,
            "visibility": null,
            "align_self": null,
            "height": null,
            "min_height": null,
            "padding": null,
            "grid_auto_rows": null,
            "grid_gap": null,
            "max_width": null,
            "order": null,
            "_view_module_version": "1.2.0",
            "grid_template_areas": null,
            "object_position": null,
            "object_fit": null,
            "grid_auto_columns": null,
            "margin": null,
            "display": null,
            "left": null
          }
        },
        "d412b3e3e7a646d4ad4dfac707edb0e0": {
          "model_module": "@jupyter-widgets/controls",
          "model_name": "HTMLModel",
          "model_module_version": "1.5.0",
          "state": {
            "_view_name": "HTMLView",
            "style": "IPY_MODEL_6734b57d2567418892cc560dccca9aa8",
            "_dom_classes": [],
            "description": "",
            "_model_name": "HTMLModel",
            "placeholder": "​",
            "_view_module": "@jupyter-widgets/controls",
            "_model_module_version": "1.5.0",
            "value": "Downloading: 100%",
            "_view_count": null,
            "_view_module_version": "1.5.0",
            "description_tooltip": null,
            "_model_module": "@jupyter-widgets/controls",
            "layout": "IPY_MODEL_682c34f28f6d49caae93d9dbf2aaad2c"
          }
        },
        "e55e73ff086542288c14c8826400a0eb": {
          "model_module": "@jupyter-widgets/controls",
          "model_name": "FloatProgressModel",
          "model_module_version": "1.5.0",
          "state": {
            "_view_name": "ProgressView",
            "style": "IPY_MODEL_2eea981c3c7049d98526ddba423b4358",
            "_dom_classes": [],
            "description": "",
            "_model_name": "FloatProgressModel",
            "bar_style": "success",
            "max": 231508,
            "_view_module": "@jupyter-widgets/controls",
            "_model_module_version": "1.5.0",
            "value": 231508,
            "_view_count": null,
            "_view_module_version": "1.5.0",
            "orientation": "horizontal",
            "min": 0,
            "description_tooltip": null,
            "_model_module": "@jupyter-widgets/controls",
            "layout": "IPY_MODEL_5fb22fa8a3a24a4691f3faeda6431835"
          }
        },
        "c86299b765ae4864ada85b8b50df53e9": {
          "model_module": "@jupyter-widgets/controls",
          "model_name": "HTMLModel",
          "model_module_version": "1.5.0",
          "state": {
            "_view_name": "HTMLView",
            "style": "IPY_MODEL_6a116b59c0c243429190e8d55dd63d47",
            "_dom_classes": [],
            "description": "",
            "_model_name": "HTMLModel",
            "placeholder": "​",
            "_view_module": "@jupyter-widgets/controls",
            "_model_module_version": "1.5.0",
            "value": " 232k/232k [00:00&lt;00:00, 904kB/s]",
            "_view_count": null,
            "_view_module_version": "1.5.0",
            "description_tooltip": null,
            "_model_module": "@jupyter-widgets/controls",
            "layout": "IPY_MODEL_74d7f9fdb2b144e09dee09a235ea25fa"
          }
        },
        "6734b57d2567418892cc560dccca9aa8": {
          "model_module": "@jupyter-widgets/controls",
          "model_name": "DescriptionStyleModel",
          "model_module_version": "1.5.0",
          "state": {
            "_view_name": "StyleView",
            "_model_name": "DescriptionStyleModel",
            "description_width": "",
            "_view_module": "@jupyter-widgets/base",
            "_model_module_version": "1.5.0",
            "_view_count": null,
            "_view_module_version": "1.2.0",
            "_model_module": "@jupyter-widgets/controls"
          }
        },
        "682c34f28f6d49caae93d9dbf2aaad2c": {
          "model_module": "@jupyter-widgets/base",
          "model_name": "LayoutModel",
          "model_module_version": "1.2.0",
          "state": {
            "_view_name": "LayoutView",
            "grid_template_rows": null,
            "right": null,
            "justify_content": null,
            "_view_module": "@jupyter-widgets/base",
            "overflow": null,
            "_model_module_version": "1.2.0",
            "_view_count": null,
            "flex_flow": null,
            "width": null,
            "min_width": null,
            "border": null,
            "align_items": null,
            "bottom": null,
            "_model_module": "@jupyter-widgets/base",
            "top": null,
            "grid_column": null,
            "overflow_y": null,
            "overflow_x": null,
            "grid_auto_flow": null,
            "grid_area": null,
            "grid_template_columns": null,
            "flex": null,
            "_model_name": "LayoutModel",
            "justify_items": null,
            "grid_row": null,
            "max_height": null,
            "align_content": null,
            "visibility": null,
            "align_self": null,
            "height": null,
            "min_height": null,
            "padding": null,
            "grid_auto_rows": null,
            "grid_gap": null,
            "max_width": null,
            "order": null,
            "_view_module_version": "1.2.0",
            "grid_template_areas": null,
            "object_position": null,
            "object_fit": null,
            "grid_auto_columns": null,
            "margin": null,
            "display": null,
            "left": null
          }
        },
        "2eea981c3c7049d98526ddba423b4358": {
          "model_module": "@jupyter-widgets/controls",
          "model_name": "ProgressStyleModel",
          "model_module_version": "1.5.0",
          "state": {
            "_view_name": "StyleView",
            "_model_name": "ProgressStyleModel",
            "description_width": "",
            "_view_module": "@jupyter-widgets/base",
            "_model_module_version": "1.5.0",
            "_view_count": null,
            "_view_module_version": "1.2.0",
            "bar_color": null,
            "_model_module": "@jupyter-widgets/controls"
          }
        },
        "5fb22fa8a3a24a4691f3faeda6431835": {
          "model_module": "@jupyter-widgets/base",
          "model_name": "LayoutModel",
          "model_module_version": "1.2.0",
          "state": {
            "_view_name": "LayoutView",
            "grid_template_rows": null,
            "right": null,
            "justify_content": null,
            "_view_module": "@jupyter-widgets/base",
            "overflow": null,
            "_model_module_version": "1.2.0",
            "_view_count": null,
            "flex_flow": null,
            "width": null,
            "min_width": null,
            "border": null,
            "align_items": null,
            "bottom": null,
            "_model_module": "@jupyter-widgets/base",
            "top": null,
            "grid_column": null,
            "overflow_y": null,
            "overflow_x": null,
            "grid_auto_flow": null,
            "grid_area": null,
            "grid_template_columns": null,
            "flex": null,
            "_model_name": "LayoutModel",
            "justify_items": null,
            "grid_row": null,
            "max_height": null,
            "align_content": null,
            "visibility": null,
            "align_self": null,
            "height": null,
            "min_height": null,
            "padding": null,
            "grid_auto_rows": null,
            "grid_gap": null,
            "max_width": null,
            "order": null,
            "_view_module_version": "1.2.0",
            "grid_template_areas": null,
            "object_position": null,
            "object_fit": null,
            "grid_auto_columns": null,
            "margin": null,
            "display": null,
            "left": null
          }
        },
        "6a116b59c0c243429190e8d55dd63d47": {
          "model_module": "@jupyter-widgets/controls",
          "model_name": "DescriptionStyleModel",
          "model_module_version": "1.5.0",
          "state": {
            "_view_name": "StyleView",
            "_model_name": "DescriptionStyleModel",
            "description_width": "",
            "_view_module": "@jupyter-widgets/base",
            "_model_module_version": "1.5.0",
            "_view_count": null,
            "_view_module_version": "1.2.0",
            "_model_module": "@jupyter-widgets/controls"
          }
        },
        "74d7f9fdb2b144e09dee09a235ea25fa": {
          "model_module": "@jupyter-widgets/base",
          "model_name": "LayoutModel",
          "model_module_version": "1.2.0",
          "state": {
            "_view_name": "LayoutView",
            "grid_template_rows": null,
            "right": null,
            "justify_content": null,
            "_view_module": "@jupyter-widgets/base",
            "overflow": null,
            "_model_module_version": "1.2.0",
            "_view_count": null,
            "flex_flow": null,
            "width": null,
            "min_width": null,
            "border": null,
            "align_items": null,
            "bottom": null,
            "_model_module": "@jupyter-widgets/base",
            "top": null,
            "grid_column": null,
            "overflow_y": null,
            "overflow_x": null,
            "grid_auto_flow": null,
            "grid_area": null,
            "grid_template_columns": null,
            "flex": null,
            "_model_name": "LayoutModel",
            "justify_items": null,
            "grid_row": null,
            "max_height": null,
            "align_content": null,
            "visibility": null,
            "align_self": null,
            "height": null,
            "min_height": null,
            "padding": null,
            "grid_auto_rows": null,
            "grid_gap": null,
            "max_width": null,
            "order": null,
            "_view_module_version": "1.2.0",
            "grid_template_areas": null,
            "object_position": null,
            "object_fit": null,
            "grid_auto_columns": null,
            "margin": null,
            "display": null,
            "left": null
          }
        },
        "9b8a9b9ce12e4b5db5177ed1f72b7acc": {
          "model_module": "@jupyter-widgets/controls",
          "model_name": "HBoxModel",
          "model_module_version": "1.5.0",
          "state": {
            "_view_name": "HBoxView",
            "_dom_classes": [],
            "_model_name": "HBoxModel",
            "_view_module": "@jupyter-widgets/controls",
            "_model_module_version": "1.5.0",
            "_view_count": null,
            "_view_module_version": "1.5.0",
            "box_style": "",
            "layout": "IPY_MODEL_7ce36cd4b1fa45f9814aced3f6d119b1",
            "_model_module": "@jupyter-widgets/controls",
            "children": [
              "IPY_MODEL_e37343ff28864b0ea4d919fbd3669b00",
              "IPY_MODEL_94062037d87a461bac960edba47510d7",
              "IPY_MODEL_e6c510e7cd1a42109f073525d78d02a7"
            ]
          }
        },
        "7ce36cd4b1fa45f9814aced3f6d119b1": {
          "model_module": "@jupyter-widgets/base",
          "model_name": "LayoutModel",
          "model_module_version": "1.2.0",
          "state": {
            "_view_name": "LayoutView",
            "grid_template_rows": null,
            "right": null,
            "justify_content": null,
            "_view_module": "@jupyter-widgets/base",
            "overflow": null,
            "_model_module_version": "1.2.0",
            "_view_count": null,
            "flex_flow": null,
            "width": null,
            "min_width": null,
            "border": null,
            "align_items": null,
            "bottom": null,
            "_model_module": "@jupyter-widgets/base",
            "top": null,
            "grid_column": null,
            "overflow_y": null,
            "overflow_x": null,
            "grid_auto_flow": null,
            "grid_area": null,
            "grid_template_columns": null,
            "flex": null,
            "_model_name": "LayoutModel",
            "justify_items": null,
            "grid_row": null,
            "max_height": null,
            "align_content": null,
            "visibility": null,
            "align_self": null,
            "height": null,
            "min_height": null,
            "padding": null,
            "grid_auto_rows": null,
            "grid_gap": null,
            "max_width": null,
            "order": null,
            "_view_module_version": "1.2.0",
            "grid_template_areas": null,
            "object_position": null,
            "object_fit": null,
            "grid_auto_columns": null,
            "margin": null,
            "display": null,
            "left": null
          }
        },
        "e37343ff28864b0ea4d919fbd3669b00": {
          "model_module": "@jupyter-widgets/controls",
          "model_name": "HTMLModel",
          "model_module_version": "1.5.0",
          "state": {
            "_view_name": "HTMLView",
            "style": "IPY_MODEL_6e5b89146cee467aa573f0c14f09ec51",
            "_dom_classes": [],
            "description": "",
            "_model_name": "HTMLModel",
            "placeholder": "​",
            "_view_module": "@jupyter-widgets/controls",
            "_model_module_version": "1.5.0",
            "value": "Downloading: 100%",
            "_view_count": null,
            "_view_module_version": "1.5.0",
            "description_tooltip": null,
            "_model_module": "@jupyter-widgets/controls",
            "layout": "IPY_MODEL_7a878b6532684b77a6edaf7f139df845"
          }
        },
        "94062037d87a461bac960edba47510d7": {
          "model_module": "@jupyter-widgets/controls",
          "model_name": "FloatProgressModel",
          "model_module_version": "1.5.0",
          "state": {
            "_view_name": "ProgressView",
            "style": "IPY_MODEL_fe63aeea1c544bdf82c9856982bc0fa9",
            "_dom_classes": [],
            "description": "",
            "_model_name": "FloatProgressModel",
            "bar_style": "success",
            "max": 28,
            "_view_module": "@jupyter-widgets/controls",
            "_model_module_version": "1.5.0",
            "value": 28,
            "_view_count": null,
            "_view_module_version": "1.5.0",
            "orientation": "horizontal",
            "min": 0,
            "description_tooltip": null,
            "_model_module": "@jupyter-widgets/controls",
            "layout": "IPY_MODEL_4f3149e72c224c6d8e17de9512bb0969"
          }
        },
        "e6c510e7cd1a42109f073525d78d02a7": {
          "model_module": "@jupyter-widgets/controls",
          "model_name": "HTMLModel",
          "model_module_version": "1.5.0",
          "state": {
            "_view_name": "HTMLView",
            "style": "IPY_MODEL_72a1864eef3b46f987bda4363db3b0af",
            "_dom_classes": [],
            "description": "",
            "_model_name": "HTMLModel",
            "placeholder": "​",
            "_view_module": "@jupyter-widgets/controls",
            "_model_module_version": "1.5.0",
            "value": " 28.0/28.0 [00:00&lt;00:00, 1.19kB/s]",
            "_view_count": null,
            "_view_module_version": "1.5.0",
            "description_tooltip": null,
            "_model_module": "@jupyter-widgets/controls",
            "layout": "IPY_MODEL_c207aed6d3f74f42933bf793b180a10e"
          }
        },
        "6e5b89146cee467aa573f0c14f09ec51": {
          "model_module": "@jupyter-widgets/controls",
          "model_name": "DescriptionStyleModel",
          "model_module_version": "1.5.0",
          "state": {
            "_view_name": "StyleView",
            "_model_name": "DescriptionStyleModel",
            "description_width": "",
            "_view_module": "@jupyter-widgets/base",
            "_model_module_version": "1.5.0",
            "_view_count": null,
            "_view_module_version": "1.2.0",
            "_model_module": "@jupyter-widgets/controls"
          }
        },
        "7a878b6532684b77a6edaf7f139df845": {
          "model_module": "@jupyter-widgets/base",
          "model_name": "LayoutModel",
          "model_module_version": "1.2.0",
          "state": {
            "_view_name": "LayoutView",
            "grid_template_rows": null,
            "right": null,
            "justify_content": null,
            "_view_module": "@jupyter-widgets/base",
            "overflow": null,
            "_model_module_version": "1.2.0",
            "_view_count": null,
            "flex_flow": null,
            "width": null,
            "min_width": null,
            "border": null,
            "align_items": null,
            "bottom": null,
            "_model_module": "@jupyter-widgets/base",
            "top": null,
            "grid_column": null,
            "overflow_y": null,
            "overflow_x": null,
            "grid_auto_flow": null,
            "grid_area": null,
            "grid_template_columns": null,
            "flex": null,
            "_model_name": "LayoutModel",
            "justify_items": null,
            "grid_row": null,
            "max_height": null,
            "align_content": null,
            "visibility": null,
            "align_self": null,
            "height": null,
            "min_height": null,
            "padding": null,
            "grid_auto_rows": null,
            "grid_gap": null,
            "max_width": null,
            "order": null,
            "_view_module_version": "1.2.0",
            "grid_template_areas": null,
            "object_position": null,
            "object_fit": null,
            "grid_auto_columns": null,
            "margin": null,
            "display": null,
            "left": null
          }
        },
        "fe63aeea1c544bdf82c9856982bc0fa9": {
          "model_module": "@jupyter-widgets/controls",
          "model_name": "ProgressStyleModel",
          "model_module_version": "1.5.0",
          "state": {
            "_view_name": "StyleView",
            "_model_name": "ProgressStyleModel",
            "description_width": "",
            "_view_module": "@jupyter-widgets/base",
            "_model_module_version": "1.5.0",
            "_view_count": null,
            "_view_module_version": "1.2.0",
            "bar_color": null,
            "_model_module": "@jupyter-widgets/controls"
          }
        },
        "4f3149e72c224c6d8e17de9512bb0969": {
          "model_module": "@jupyter-widgets/base",
          "model_name": "LayoutModel",
          "model_module_version": "1.2.0",
          "state": {
            "_view_name": "LayoutView",
            "grid_template_rows": null,
            "right": null,
            "justify_content": null,
            "_view_module": "@jupyter-widgets/base",
            "overflow": null,
            "_model_module_version": "1.2.0",
            "_view_count": null,
            "flex_flow": null,
            "width": null,
            "min_width": null,
            "border": null,
            "align_items": null,
            "bottom": null,
            "_model_module": "@jupyter-widgets/base",
            "top": null,
            "grid_column": null,
            "overflow_y": null,
            "overflow_x": null,
            "grid_auto_flow": null,
            "grid_area": null,
            "grid_template_columns": null,
            "flex": null,
            "_model_name": "LayoutModel",
            "justify_items": null,
            "grid_row": null,
            "max_height": null,
            "align_content": null,
            "visibility": null,
            "align_self": null,
            "height": null,
            "min_height": null,
            "padding": null,
            "grid_auto_rows": null,
            "grid_gap": null,
            "max_width": null,
            "order": null,
            "_view_module_version": "1.2.0",
            "grid_template_areas": null,
            "object_position": null,
            "object_fit": null,
            "grid_auto_columns": null,
            "margin": null,
            "display": null,
            "left": null
          }
        },
        "72a1864eef3b46f987bda4363db3b0af": {
          "model_module": "@jupyter-widgets/controls",
          "model_name": "DescriptionStyleModel",
          "model_module_version": "1.5.0",
          "state": {
            "_view_name": "StyleView",
            "_model_name": "DescriptionStyleModel",
            "description_width": "",
            "_view_module": "@jupyter-widgets/base",
            "_model_module_version": "1.5.0",
            "_view_count": null,
            "_view_module_version": "1.2.0",
            "_model_module": "@jupyter-widgets/controls"
          }
        },
        "c207aed6d3f74f42933bf793b180a10e": {
          "model_module": "@jupyter-widgets/base",
          "model_name": "LayoutModel",
          "model_module_version": "1.2.0",
          "state": {
            "_view_name": "LayoutView",
            "grid_template_rows": null,
            "right": null,
            "justify_content": null,
            "_view_module": "@jupyter-widgets/base",
            "overflow": null,
            "_model_module_version": "1.2.0",
            "_view_count": null,
            "flex_flow": null,
            "width": null,
            "min_width": null,
            "border": null,
            "align_items": null,
            "bottom": null,
            "_model_module": "@jupyter-widgets/base",
            "top": null,
            "grid_column": null,
            "overflow_y": null,
            "overflow_x": null,
            "grid_auto_flow": null,
            "grid_area": null,
            "grid_template_columns": null,
            "flex": null,
            "_model_name": "LayoutModel",
            "justify_items": null,
            "grid_row": null,
            "max_height": null,
            "align_content": null,
            "visibility": null,
            "align_self": null,
            "height": null,
            "min_height": null,
            "padding": null,
            "grid_auto_rows": null,
            "grid_gap": null,
            "max_width": null,
            "order": null,
            "_view_module_version": "1.2.0",
            "grid_template_areas": null,
            "object_position": null,
            "object_fit": null,
            "grid_auto_columns": null,
            "margin": null,
            "display": null,
            "left": null
          }
        },
        "fd92b45ad38a4243b6aa4256fa7c4d9c": {
          "model_module": "@jupyter-widgets/controls",
          "model_name": "HBoxModel",
          "model_module_version": "1.5.0",
          "state": {
            "_view_name": "HBoxView",
            "_dom_classes": [],
            "_model_name": "HBoxModel",
            "_view_module": "@jupyter-widgets/controls",
            "_model_module_version": "1.5.0",
            "_view_count": null,
            "_view_module_version": "1.5.0",
            "box_style": "",
            "layout": "IPY_MODEL_7e035478dba848018a9c273a3c039b7e",
            "_model_module": "@jupyter-widgets/controls",
            "children": [
              "IPY_MODEL_571b0158b5934959bec4bc79d80c6757",
              "IPY_MODEL_b101caa134fb48f1ad8888aec920f528",
              "IPY_MODEL_c1b5f3c47a904f01918b09072a38cc7c"
            ]
          }
        },
        "7e035478dba848018a9c273a3c039b7e": {
          "model_module": "@jupyter-widgets/base",
          "model_name": "LayoutModel",
          "model_module_version": "1.2.0",
          "state": {
            "_view_name": "LayoutView",
            "grid_template_rows": null,
            "right": null,
            "justify_content": null,
            "_view_module": "@jupyter-widgets/base",
            "overflow": null,
            "_model_module_version": "1.2.0",
            "_view_count": null,
            "flex_flow": null,
            "width": null,
            "min_width": null,
            "border": null,
            "align_items": null,
            "bottom": null,
            "_model_module": "@jupyter-widgets/base",
            "top": null,
            "grid_column": null,
            "overflow_y": null,
            "overflow_x": null,
            "grid_auto_flow": null,
            "grid_area": null,
            "grid_template_columns": null,
            "flex": null,
            "_model_name": "LayoutModel",
            "justify_items": null,
            "grid_row": null,
            "max_height": null,
            "align_content": null,
            "visibility": null,
            "align_self": null,
            "height": null,
            "min_height": null,
            "padding": null,
            "grid_auto_rows": null,
            "grid_gap": null,
            "max_width": null,
            "order": null,
            "_view_module_version": "1.2.0",
            "grid_template_areas": null,
            "object_position": null,
            "object_fit": null,
            "grid_auto_columns": null,
            "margin": null,
            "display": null,
            "left": null
          }
        },
        "571b0158b5934959bec4bc79d80c6757": {
          "model_module": "@jupyter-widgets/controls",
          "model_name": "HTMLModel",
          "model_module_version": "1.5.0",
          "state": {
            "_view_name": "HTMLView",
            "style": "IPY_MODEL_1484aa951143428596fd39e914a07762",
            "_dom_classes": [],
            "description": "",
            "_model_name": "HTMLModel",
            "placeholder": "​",
            "_view_module": "@jupyter-widgets/controls",
            "_model_module_version": "1.5.0",
            "value": "Downloading: 100%",
            "_view_count": null,
            "_view_module_version": "1.5.0",
            "description_tooltip": null,
            "_model_module": "@jupyter-widgets/controls",
            "layout": "IPY_MODEL_ff6aabf126b14e898ca1cb3c1365bc1c"
          }
        },
        "b101caa134fb48f1ad8888aec920f528": {
          "model_module": "@jupyter-widgets/controls",
          "model_name": "FloatProgressModel",
          "model_module_version": "1.5.0",
          "state": {
            "_view_name": "ProgressView",
            "style": "IPY_MODEL_3f45071ad80a44e1b5fb1eb19acd92d5",
            "_dom_classes": [],
            "description": "",
            "_model_name": "FloatProgressModel",
            "bar_style": "success",
            "max": 466062,
            "_view_module": "@jupyter-widgets/controls",
            "_model_module_version": "1.5.0",
            "value": 466062,
            "_view_count": null,
            "_view_module_version": "1.5.0",
            "orientation": "horizontal",
            "min": 0,
            "description_tooltip": null,
            "_model_module": "@jupyter-widgets/controls",
            "layout": "IPY_MODEL_1a0af19b8017419ea298ba8743973f26"
          }
        },
        "c1b5f3c47a904f01918b09072a38cc7c": {
          "model_module": "@jupyter-widgets/controls",
          "model_name": "HTMLModel",
          "model_module_version": "1.5.0",
          "state": {
            "_view_name": "HTMLView",
            "style": "IPY_MODEL_c58fe99105d5417c870b53e7b8b44d5a",
            "_dom_classes": [],
            "description": "",
            "_model_name": "HTMLModel",
            "placeholder": "​",
            "_view_module": "@jupyter-widgets/controls",
            "_model_module_version": "1.5.0",
            "value": " 466k/466k [00:00&lt;00:00, 1.34MB/s]",
            "_view_count": null,
            "_view_module_version": "1.5.0",
            "description_tooltip": null,
            "_model_module": "@jupyter-widgets/controls",
            "layout": "IPY_MODEL_11e0ddd11bbb4ac3bf539f27aeebd6fb"
          }
        },
        "1484aa951143428596fd39e914a07762": {
          "model_module": "@jupyter-widgets/controls",
          "model_name": "DescriptionStyleModel",
          "model_module_version": "1.5.0",
          "state": {
            "_view_name": "StyleView",
            "_model_name": "DescriptionStyleModel",
            "description_width": "",
            "_view_module": "@jupyter-widgets/base",
            "_model_module_version": "1.5.0",
            "_view_count": null,
            "_view_module_version": "1.2.0",
            "_model_module": "@jupyter-widgets/controls"
          }
        },
        "ff6aabf126b14e898ca1cb3c1365bc1c": {
          "model_module": "@jupyter-widgets/base",
          "model_name": "LayoutModel",
          "model_module_version": "1.2.0",
          "state": {
            "_view_name": "LayoutView",
            "grid_template_rows": null,
            "right": null,
            "justify_content": null,
            "_view_module": "@jupyter-widgets/base",
            "overflow": null,
            "_model_module_version": "1.2.0",
            "_view_count": null,
            "flex_flow": null,
            "width": null,
            "min_width": null,
            "border": null,
            "align_items": null,
            "bottom": null,
            "_model_module": "@jupyter-widgets/base",
            "top": null,
            "grid_column": null,
            "overflow_y": null,
            "overflow_x": null,
            "grid_auto_flow": null,
            "grid_area": null,
            "grid_template_columns": null,
            "flex": null,
            "_model_name": "LayoutModel",
            "justify_items": null,
            "grid_row": null,
            "max_height": null,
            "align_content": null,
            "visibility": null,
            "align_self": null,
            "height": null,
            "min_height": null,
            "padding": null,
            "grid_auto_rows": null,
            "grid_gap": null,
            "max_width": null,
            "order": null,
            "_view_module_version": "1.2.0",
            "grid_template_areas": null,
            "object_position": null,
            "object_fit": null,
            "grid_auto_columns": null,
            "margin": null,
            "display": null,
            "left": null
          }
        },
        "3f45071ad80a44e1b5fb1eb19acd92d5": {
          "model_module": "@jupyter-widgets/controls",
          "model_name": "ProgressStyleModel",
          "model_module_version": "1.5.0",
          "state": {
            "_view_name": "StyleView",
            "_model_name": "ProgressStyleModel",
            "description_width": "",
            "_view_module": "@jupyter-widgets/base",
            "_model_module_version": "1.5.0",
            "_view_count": null,
            "_view_module_version": "1.2.0",
            "bar_color": null,
            "_model_module": "@jupyter-widgets/controls"
          }
        },
        "1a0af19b8017419ea298ba8743973f26": {
          "model_module": "@jupyter-widgets/base",
          "model_name": "LayoutModel",
          "model_module_version": "1.2.0",
          "state": {
            "_view_name": "LayoutView",
            "grid_template_rows": null,
            "right": null,
            "justify_content": null,
            "_view_module": "@jupyter-widgets/base",
            "overflow": null,
            "_model_module_version": "1.2.0",
            "_view_count": null,
            "flex_flow": null,
            "width": null,
            "min_width": null,
            "border": null,
            "align_items": null,
            "bottom": null,
            "_model_module": "@jupyter-widgets/base",
            "top": null,
            "grid_column": null,
            "overflow_y": null,
            "overflow_x": null,
            "grid_auto_flow": null,
            "grid_area": null,
            "grid_template_columns": null,
            "flex": null,
            "_model_name": "LayoutModel",
            "justify_items": null,
            "grid_row": null,
            "max_height": null,
            "align_content": null,
            "visibility": null,
            "align_self": null,
            "height": null,
            "min_height": null,
            "padding": null,
            "grid_auto_rows": null,
            "grid_gap": null,
            "max_width": null,
            "order": null,
            "_view_module_version": "1.2.0",
            "grid_template_areas": null,
            "object_position": null,
            "object_fit": null,
            "grid_auto_columns": null,
            "margin": null,
            "display": null,
            "left": null
          }
        },
        "c58fe99105d5417c870b53e7b8b44d5a": {
          "model_module": "@jupyter-widgets/controls",
          "model_name": "DescriptionStyleModel",
          "model_module_version": "1.5.0",
          "state": {
            "_view_name": "StyleView",
            "_model_name": "DescriptionStyleModel",
            "description_width": "",
            "_view_module": "@jupyter-widgets/base",
            "_model_module_version": "1.5.0",
            "_view_count": null,
            "_view_module_version": "1.2.0",
            "_model_module": "@jupyter-widgets/controls"
          }
        },
        "11e0ddd11bbb4ac3bf539f27aeebd6fb": {
          "model_module": "@jupyter-widgets/base",
          "model_name": "LayoutModel",
          "model_module_version": "1.2.0",
          "state": {
            "_view_name": "LayoutView",
            "grid_template_rows": null,
            "right": null,
            "justify_content": null,
            "_view_module": "@jupyter-widgets/base",
            "overflow": null,
            "_model_module_version": "1.2.0",
            "_view_count": null,
            "flex_flow": null,
            "width": null,
            "min_width": null,
            "border": null,
            "align_items": null,
            "bottom": null,
            "_model_module": "@jupyter-widgets/base",
            "top": null,
            "grid_column": null,
            "overflow_y": null,
            "overflow_x": null,
            "grid_auto_flow": null,
            "grid_area": null,
            "grid_template_columns": null,
            "flex": null,
            "_model_name": "LayoutModel",
            "justify_items": null,
            "grid_row": null,
            "max_height": null,
            "align_content": null,
            "visibility": null,
            "align_self": null,
            "height": null,
            "min_height": null,
            "padding": null,
            "grid_auto_rows": null,
            "grid_gap": null,
            "max_width": null,
            "order": null,
            "_view_module_version": "1.2.0",
            "grid_template_areas": null,
            "object_position": null,
            "object_fit": null,
            "grid_auto_columns": null,
            "margin": null,
            "display": null,
            "left": null
          }
        },
        "959bb0d9fc4840e2a8052e221597219f": {
          "model_module": "@jupyter-widgets/controls",
          "model_name": "HBoxModel",
          "model_module_version": "1.5.0",
          "state": {
            "_view_name": "HBoxView",
            "_dom_classes": [],
            "_model_name": "HBoxModel",
            "_view_module": "@jupyter-widgets/controls",
            "_model_module_version": "1.5.0",
            "_view_count": null,
            "_view_module_version": "1.5.0",
            "box_style": "",
            "layout": "IPY_MODEL_8739196dc051434fadd30e921f6f81ee",
            "_model_module": "@jupyter-widgets/controls",
            "children": [
              "IPY_MODEL_658026a93db341978f28cbc4d5d440cd",
              "IPY_MODEL_884809c4230b41e0ac73fb3505e351e6",
              "IPY_MODEL_b01e5ac702ec40639a5505935bab3af0"
            ]
          }
        },
        "8739196dc051434fadd30e921f6f81ee": {
          "model_module": "@jupyter-widgets/base",
          "model_name": "LayoutModel",
          "model_module_version": "1.2.0",
          "state": {
            "_view_name": "LayoutView",
            "grid_template_rows": null,
            "right": null,
            "justify_content": null,
            "_view_module": "@jupyter-widgets/base",
            "overflow": null,
            "_model_module_version": "1.2.0",
            "_view_count": null,
            "flex_flow": null,
            "width": null,
            "min_width": null,
            "border": null,
            "align_items": null,
            "bottom": null,
            "_model_module": "@jupyter-widgets/base",
            "top": null,
            "grid_column": null,
            "overflow_y": null,
            "overflow_x": null,
            "grid_auto_flow": null,
            "grid_area": null,
            "grid_template_columns": null,
            "flex": null,
            "_model_name": "LayoutModel",
            "justify_items": null,
            "grid_row": null,
            "max_height": null,
            "align_content": null,
            "visibility": null,
            "align_self": null,
            "height": null,
            "min_height": null,
            "padding": null,
            "grid_auto_rows": null,
            "grid_gap": null,
            "max_width": null,
            "order": null,
            "_view_module_version": "1.2.0",
            "grid_template_areas": null,
            "object_position": null,
            "object_fit": null,
            "grid_auto_columns": null,
            "margin": null,
            "display": null,
            "left": null
          }
        },
        "658026a93db341978f28cbc4d5d440cd": {
          "model_module": "@jupyter-widgets/controls",
          "model_name": "HTMLModel",
          "model_module_version": "1.5.0",
          "state": {
            "_view_name": "HTMLView",
            "style": "IPY_MODEL_fb416768944c49ef8f3b6dc070ab1f70",
            "_dom_classes": [],
            "description": "",
            "_model_name": "HTMLModel",
            "placeholder": "​",
            "_view_module": "@jupyter-widgets/controls",
            "_model_module_version": "1.5.0",
            "value": "Downloading: 100%",
            "_view_count": null,
            "_view_module_version": "1.5.0",
            "description_tooltip": null,
            "_model_module": "@jupyter-widgets/controls",
            "layout": "IPY_MODEL_41fcd7072fdc4788befa61a6495277e8"
          }
        },
        "884809c4230b41e0ac73fb3505e351e6": {
          "model_module": "@jupyter-widgets/controls",
          "model_name": "FloatProgressModel",
          "model_module_version": "1.5.0",
          "state": {
            "_view_name": "ProgressView",
            "style": "IPY_MODEL_63ed4ae2bb05465b97317c5295161352",
            "_dom_classes": [],
            "description": "",
            "_model_name": "FloatProgressModel",
            "bar_style": "success",
            "max": 442,
            "_view_module": "@jupyter-widgets/controls",
            "_model_module_version": "1.5.0",
            "value": 442,
            "_view_count": null,
            "_view_module_version": "1.5.0",
            "orientation": "horizontal",
            "min": 0,
            "description_tooltip": null,
            "_model_module": "@jupyter-widgets/controls",
            "layout": "IPY_MODEL_23a8878986964037a3376785204945c0"
          }
        },
        "b01e5ac702ec40639a5505935bab3af0": {
          "model_module": "@jupyter-widgets/controls",
          "model_name": "HTMLModel",
          "model_module_version": "1.5.0",
          "state": {
            "_view_name": "HTMLView",
            "style": "IPY_MODEL_6b833aae230f4453a57c8df4f56af7da",
            "_dom_classes": [],
            "description": "",
            "_model_name": "HTMLModel",
            "placeholder": "​",
            "_view_module": "@jupyter-widgets/controls",
            "_model_module_version": "1.5.0",
            "value": " 442/442 [00:00&lt;00:00, 17.0kB/s]",
            "_view_count": null,
            "_view_module_version": "1.5.0",
            "description_tooltip": null,
            "_model_module": "@jupyter-widgets/controls",
            "layout": "IPY_MODEL_c57d14e9df064a85aeb8960a8a692e34"
          }
        },
        "fb416768944c49ef8f3b6dc070ab1f70": {
          "model_module": "@jupyter-widgets/controls",
          "model_name": "DescriptionStyleModel",
          "model_module_version": "1.5.0",
          "state": {
            "_view_name": "StyleView",
            "_model_name": "DescriptionStyleModel",
            "description_width": "",
            "_view_module": "@jupyter-widgets/base",
            "_model_module_version": "1.5.0",
            "_view_count": null,
            "_view_module_version": "1.2.0",
            "_model_module": "@jupyter-widgets/controls"
          }
        },
        "41fcd7072fdc4788befa61a6495277e8": {
          "model_module": "@jupyter-widgets/base",
          "model_name": "LayoutModel",
          "model_module_version": "1.2.0",
          "state": {
            "_view_name": "LayoutView",
            "grid_template_rows": null,
            "right": null,
            "justify_content": null,
            "_view_module": "@jupyter-widgets/base",
            "overflow": null,
            "_model_module_version": "1.2.0",
            "_view_count": null,
            "flex_flow": null,
            "width": null,
            "min_width": null,
            "border": null,
            "align_items": null,
            "bottom": null,
            "_model_module": "@jupyter-widgets/base",
            "top": null,
            "grid_column": null,
            "overflow_y": null,
            "overflow_x": null,
            "grid_auto_flow": null,
            "grid_area": null,
            "grid_template_columns": null,
            "flex": null,
            "_model_name": "LayoutModel",
            "justify_items": null,
            "grid_row": null,
            "max_height": null,
            "align_content": null,
            "visibility": null,
            "align_self": null,
            "height": null,
            "min_height": null,
            "padding": null,
            "grid_auto_rows": null,
            "grid_gap": null,
            "max_width": null,
            "order": null,
            "_view_module_version": "1.2.0",
            "grid_template_areas": null,
            "object_position": null,
            "object_fit": null,
            "grid_auto_columns": null,
            "margin": null,
            "display": null,
            "left": null
          }
        },
        "63ed4ae2bb05465b97317c5295161352": {
          "model_module": "@jupyter-widgets/controls",
          "model_name": "ProgressStyleModel",
          "model_module_version": "1.5.0",
          "state": {
            "_view_name": "StyleView",
            "_model_name": "ProgressStyleModel",
            "description_width": "",
            "_view_module": "@jupyter-widgets/base",
            "_model_module_version": "1.5.0",
            "_view_count": null,
            "_view_module_version": "1.2.0",
            "bar_color": null,
            "_model_module": "@jupyter-widgets/controls"
          }
        },
        "23a8878986964037a3376785204945c0": {
          "model_module": "@jupyter-widgets/base",
          "model_name": "LayoutModel",
          "model_module_version": "1.2.0",
          "state": {
            "_view_name": "LayoutView",
            "grid_template_rows": null,
            "right": null,
            "justify_content": null,
            "_view_module": "@jupyter-widgets/base",
            "overflow": null,
            "_model_module_version": "1.2.0",
            "_view_count": null,
            "flex_flow": null,
            "width": null,
            "min_width": null,
            "border": null,
            "align_items": null,
            "bottom": null,
            "_model_module": "@jupyter-widgets/base",
            "top": null,
            "grid_column": null,
            "overflow_y": null,
            "overflow_x": null,
            "grid_auto_flow": null,
            "grid_area": null,
            "grid_template_columns": null,
            "flex": null,
            "_model_name": "LayoutModel",
            "justify_items": null,
            "grid_row": null,
            "max_height": null,
            "align_content": null,
            "visibility": null,
            "align_self": null,
            "height": null,
            "min_height": null,
            "padding": null,
            "grid_auto_rows": null,
            "grid_gap": null,
            "max_width": null,
            "order": null,
            "_view_module_version": "1.2.0",
            "grid_template_areas": null,
            "object_position": null,
            "object_fit": null,
            "grid_auto_columns": null,
            "margin": null,
            "display": null,
            "left": null
          }
        },
        "6b833aae230f4453a57c8df4f56af7da": {
          "model_module": "@jupyter-widgets/controls",
          "model_name": "DescriptionStyleModel",
          "model_module_version": "1.5.0",
          "state": {
            "_view_name": "StyleView",
            "_model_name": "DescriptionStyleModel",
            "description_width": "",
            "_view_module": "@jupyter-widgets/base",
            "_model_module_version": "1.5.0",
            "_view_count": null,
            "_view_module_version": "1.2.0",
            "_model_module": "@jupyter-widgets/controls"
          }
        },
        "c57d14e9df064a85aeb8960a8a692e34": {
          "model_module": "@jupyter-widgets/base",
          "model_name": "LayoutModel",
          "model_module_version": "1.2.0",
          "state": {
            "_view_name": "LayoutView",
            "grid_template_rows": null,
            "right": null,
            "justify_content": null,
            "_view_module": "@jupyter-widgets/base",
            "overflow": null,
            "_model_module_version": "1.2.0",
            "_view_count": null,
            "flex_flow": null,
            "width": null,
            "min_width": null,
            "border": null,
            "align_items": null,
            "bottom": null,
            "_model_module": "@jupyter-widgets/base",
            "top": null,
            "grid_column": null,
            "overflow_y": null,
            "overflow_x": null,
            "grid_auto_flow": null,
            "grid_area": null,
            "grid_template_columns": null,
            "flex": null,
            "_model_name": "LayoutModel",
            "justify_items": null,
            "grid_row": null,
            "max_height": null,
            "align_content": null,
            "visibility": null,
            "align_self": null,
            "height": null,
            "min_height": null,
            "padding": null,
            "grid_auto_rows": null,
            "grid_gap": null,
            "max_width": null,
            "order": null,
            "_view_module_version": "1.2.0",
            "grid_template_areas": null,
            "object_position": null,
            "object_fit": null,
            "grid_auto_columns": null,
            "margin": null,
            "display": null,
            "left": null
          }
        },
        "bed68aa6a9064ef18a8892f4cbad7654": {
          "model_module": "@jupyter-widgets/controls",
          "model_name": "HBoxModel",
          "model_module_version": "1.5.0",
          "state": {
            "_view_name": "HBoxView",
            "_dom_classes": [],
            "_model_name": "HBoxModel",
            "_view_module": "@jupyter-widgets/controls",
            "_model_module_version": "1.5.0",
            "_view_count": null,
            "_view_module_version": "1.5.0",
            "box_style": "",
            "layout": "IPY_MODEL_a73df0df38434cfa9acbff14cb1bc52a",
            "_model_module": "@jupyter-widgets/controls",
            "children": [
              "IPY_MODEL_56d5d9e5c2b44949851bdb7090fff584",
              "IPY_MODEL_a3897e3d3b4342558468132968166ac9",
              "IPY_MODEL_479c10b5e5074bc3ba26989454fda236"
            ]
          }
        },
        "a73df0df38434cfa9acbff14cb1bc52a": {
          "model_module": "@jupyter-widgets/base",
          "model_name": "LayoutModel",
          "model_module_version": "1.2.0",
          "state": {
            "_view_name": "LayoutView",
            "grid_template_rows": null,
            "right": null,
            "justify_content": null,
            "_view_module": "@jupyter-widgets/base",
            "overflow": null,
            "_model_module_version": "1.2.0",
            "_view_count": null,
            "flex_flow": null,
            "width": null,
            "min_width": null,
            "border": null,
            "align_items": null,
            "bottom": null,
            "_model_module": "@jupyter-widgets/base",
            "top": null,
            "grid_column": null,
            "overflow_y": null,
            "overflow_x": null,
            "grid_auto_flow": null,
            "grid_area": null,
            "grid_template_columns": null,
            "flex": null,
            "_model_name": "LayoutModel",
            "justify_items": null,
            "grid_row": null,
            "max_height": null,
            "align_content": null,
            "visibility": null,
            "align_self": null,
            "height": null,
            "min_height": null,
            "padding": null,
            "grid_auto_rows": null,
            "grid_gap": null,
            "max_width": null,
            "order": null,
            "_view_module_version": "1.2.0",
            "grid_template_areas": null,
            "object_position": null,
            "object_fit": null,
            "grid_auto_columns": null,
            "margin": null,
            "display": null,
            "left": null
          }
        },
        "56d5d9e5c2b44949851bdb7090fff584": {
          "model_module": "@jupyter-widgets/controls",
          "model_name": "HTMLModel",
          "model_module_version": "1.5.0",
          "state": {
            "_view_name": "HTMLView",
            "style": "IPY_MODEL_61a1be824f904abca0d10cdd04a202d2",
            "_dom_classes": [],
            "description": "",
            "_model_name": "HTMLModel",
            "placeholder": "​",
            "_view_module": "@jupyter-widgets/controls",
            "_model_module_version": "1.5.0",
            "value": "Downloading: 100%",
            "_view_count": null,
            "_view_module_version": "1.5.0",
            "description_tooltip": null,
            "_model_module": "@jupyter-widgets/controls",
            "layout": "IPY_MODEL_36902bbe7b6f42929fc43e9989f05143"
          }
        },
        "a3897e3d3b4342558468132968166ac9": {
          "model_module": "@jupyter-widgets/controls",
          "model_name": "FloatProgressModel",
          "model_module_version": "1.5.0",
          "state": {
            "_view_name": "ProgressView",
            "style": "IPY_MODEL_269a38a1644642a298261dda7235ec88",
            "_dom_classes": [],
            "description": "",
            "_model_name": "FloatProgressModel",
            "bar_style": "success",
            "max": 267967963,
            "_view_module": "@jupyter-widgets/controls",
            "_model_module_version": "1.5.0",
            "value": 267967963,
            "_view_count": null,
            "_view_module_version": "1.5.0",
            "orientation": "horizontal",
            "min": 0,
            "description_tooltip": null,
            "_model_module": "@jupyter-widgets/controls",
            "layout": "IPY_MODEL_4041e8a560dc4d01aa8028134ba1733e"
          }
        },
        "479c10b5e5074bc3ba26989454fda236": {
          "model_module": "@jupyter-widgets/controls",
          "model_name": "HTMLModel",
          "model_module_version": "1.5.0",
          "state": {
            "_view_name": "HTMLView",
            "style": "IPY_MODEL_a89c36252b2b48c596e4f0b7921a3e53",
            "_dom_classes": [],
            "description": "",
            "_model_name": "HTMLModel",
            "placeholder": "​",
            "_view_module": "@jupyter-widgets/controls",
            "_model_module_version": "1.5.0",
            "value": " 268M/268M [00:04&lt;00:00, 53.1MB/s]",
            "_view_count": null,
            "_view_module_version": "1.5.0",
            "description_tooltip": null,
            "_model_module": "@jupyter-widgets/controls",
            "layout": "IPY_MODEL_c0261ba5ba034dbea89f008c827d245e"
          }
        },
        "61a1be824f904abca0d10cdd04a202d2": {
          "model_module": "@jupyter-widgets/controls",
          "model_name": "DescriptionStyleModel",
          "model_module_version": "1.5.0",
          "state": {
            "_view_name": "StyleView",
            "_model_name": "DescriptionStyleModel",
            "description_width": "",
            "_view_module": "@jupyter-widgets/base",
            "_model_module_version": "1.5.0",
            "_view_count": null,
            "_view_module_version": "1.2.0",
            "_model_module": "@jupyter-widgets/controls"
          }
        },
        "36902bbe7b6f42929fc43e9989f05143": {
          "model_module": "@jupyter-widgets/base",
          "model_name": "LayoutModel",
          "model_module_version": "1.2.0",
          "state": {
            "_view_name": "LayoutView",
            "grid_template_rows": null,
            "right": null,
            "justify_content": null,
            "_view_module": "@jupyter-widgets/base",
            "overflow": null,
            "_model_module_version": "1.2.0",
            "_view_count": null,
            "flex_flow": null,
            "width": null,
            "min_width": null,
            "border": null,
            "align_items": null,
            "bottom": null,
            "_model_module": "@jupyter-widgets/base",
            "top": null,
            "grid_column": null,
            "overflow_y": null,
            "overflow_x": null,
            "grid_auto_flow": null,
            "grid_area": null,
            "grid_template_columns": null,
            "flex": null,
            "_model_name": "LayoutModel",
            "justify_items": null,
            "grid_row": null,
            "max_height": null,
            "align_content": null,
            "visibility": null,
            "align_self": null,
            "height": null,
            "min_height": null,
            "padding": null,
            "grid_auto_rows": null,
            "grid_gap": null,
            "max_width": null,
            "order": null,
            "_view_module_version": "1.2.0",
            "grid_template_areas": null,
            "object_position": null,
            "object_fit": null,
            "grid_auto_columns": null,
            "margin": null,
            "display": null,
            "left": null
          }
        },
        "269a38a1644642a298261dda7235ec88": {
          "model_module": "@jupyter-widgets/controls",
          "model_name": "ProgressStyleModel",
          "model_module_version": "1.5.0",
          "state": {
            "_view_name": "StyleView",
            "_model_name": "ProgressStyleModel",
            "description_width": "",
            "_view_module": "@jupyter-widgets/base",
            "_model_module_version": "1.5.0",
            "_view_count": null,
            "_view_module_version": "1.2.0",
            "bar_color": null,
            "_model_module": "@jupyter-widgets/controls"
          }
        },
        "4041e8a560dc4d01aa8028134ba1733e": {
          "model_module": "@jupyter-widgets/base",
          "model_name": "LayoutModel",
          "model_module_version": "1.2.0",
          "state": {
            "_view_name": "LayoutView",
            "grid_template_rows": null,
            "right": null,
            "justify_content": null,
            "_view_module": "@jupyter-widgets/base",
            "overflow": null,
            "_model_module_version": "1.2.0",
            "_view_count": null,
            "flex_flow": null,
            "width": null,
            "min_width": null,
            "border": null,
            "align_items": null,
            "bottom": null,
            "_model_module": "@jupyter-widgets/base",
            "top": null,
            "grid_column": null,
            "overflow_y": null,
            "overflow_x": null,
            "grid_auto_flow": null,
            "grid_area": null,
            "grid_template_columns": null,
            "flex": null,
            "_model_name": "LayoutModel",
            "justify_items": null,
            "grid_row": null,
            "max_height": null,
            "align_content": null,
            "visibility": null,
            "align_self": null,
            "height": null,
            "min_height": null,
            "padding": null,
            "grid_auto_rows": null,
            "grid_gap": null,
            "max_width": null,
            "order": null,
            "_view_module_version": "1.2.0",
            "grid_template_areas": null,
            "object_position": null,
            "object_fit": null,
            "grid_auto_columns": null,
            "margin": null,
            "display": null,
            "left": null
          }
        },
        "a89c36252b2b48c596e4f0b7921a3e53": {
          "model_module": "@jupyter-widgets/controls",
          "model_name": "DescriptionStyleModel",
          "model_module_version": "1.5.0",
          "state": {
            "_view_name": "StyleView",
            "_model_name": "DescriptionStyleModel",
            "description_width": "",
            "_view_module": "@jupyter-widgets/base",
            "_model_module_version": "1.5.0",
            "_view_count": null,
            "_view_module_version": "1.2.0",
            "_model_module": "@jupyter-widgets/controls"
          }
        },
        "c0261ba5ba034dbea89f008c827d245e": {
          "model_module": "@jupyter-widgets/base",
          "model_name": "LayoutModel",
          "model_module_version": "1.2.0",
          "state": {
            "_view_name": "LayoutView",
            "grid_template_rows": null,
            "right": null,
            "justify_content": null,
            "_view_module": "@jupyter-widgets/base",
            "overflow": null,
            "_model_module_version": "1.2.0",
            "_view_count": null,
            "flex_flow": null,
            "width": null,
            "min_width": null,
            "border": null,
            "align_items": null,
            "bottom": null,
            "_model_module": "@jupyter-widgets/base",
            "top": null,
            "grid_column": null,
            "overflow_y": null,
            "overflow_x": null,
            "grid_auto_flow": null,
            "grid_area": null,
            "grid_template_columns": null,
            "flex": null,
            "_model_name": "LayoutModel",
            "justify_items": null,
            "grid_row": null,
            "max_height": null,
            "align_content": null,
            "visibility": null,
            "align_self": null,
            "height": null,
            "min_height": null,
            "padding": null,
            "grid_auto_rows": null,
            "grid_gap": null,
            "max_width": null,
            "order": null,
            "_view_module_version": "1.2.0",
            "grid_template_areas": null,
            "object_position": null,
            "object_fit": null,
            "grid_auto_columns": null,
            "margin": null,
            "display": null,
            "left": null
          }
        },
        "3e791c36eaa24feaa1e97c0ca340f802": {
          "model_module": "@jupyter-widgets/controls",
          "model_name": "HBoxModel",
          "model_module_version": "1.5.0",
          "state": {
            "_view_name": "HBoxView",
            "_dom_classes": [],
            "_model_name": "HBoxModel",
            "_view_module": "@jupyter-widgets/controls",
            "_model_module_version": "1.5.0",
            "_view_count": null,
            "_view_module_version": "1.5.0",
            "box_style": "",
            "layout": "IPY_MODEL_893076d7adcd4a7fbb3b6fa5f1222b1c",
            "_model_module": "@jupyter-widgets/controls",
            "children": [
              "IPY_MODEL_55812b63821d47febdf4e960037cefb5",
              "IPY_MODEL_706516d57b614a5bb1c29b3eb4768215",
              "IPY_MODEL_a5e7e6f8bc194ae5a5d2eb3ad9507c90"
            ]
          }
        },
        "893076d7adcd4a7fbb3b6fa5f1222b1c": {
          "model_module": "@jupyter-widgets/base",
          "model_name": "LayoutModel",
          "model_module_version": "1.2.0",
          "state": {
            "_view_name": "LayoutView",
            "grid_template_rows": null,
            "right": null,
            "justify_content": null,
            "_view_module": "@jupyter-widgets/base",
            "overflow": null,
            "_model_module_version": "1.2.0",
            "_view_count": null,
            "flex_flow": null,
            "width": null,
            "min_width": null,
            "border": null,
            "align_items": null,
            "bottom": null,
            "_model_module": "@jupyter-widgets/base",
            "top": null,
            "grid_column": null,
            "overflow_y": null,
            "overflow_x": null,
            "grid_auto_flow": null,
            "grid_area": null,
            "grid_template_columns": null,
            "flex": null,
            "_model_name": "LayoutModel",
            "justify_items": null,
            "grid_row": null,
            "max_height": null,
            "align_content": null,
            "visibility": null,
            "align_self": null,
            "height": null,
            "min_height": null,
            "padding": null,
            "grid_auto_rows": null,
            "grid_gap": null,
            "max_width": null,
            "order": null,
            "_view_module_version": "1.2.0",
            "grid_template_areas": null,
            "object_position": null,
            "object_fit": null,
            "grid_auto_columns": null,
            "margin": null,
            "display": null,
            "left": null
          }
        },
        "55812b63821d47febdf4e960037cefb5": {
          "model_module": "@jupyter-widgets/controls",
          "model_name": "HTMLModel",
          "model_module_version": "1.5.0",
          "state": {
            "_view_name": "HTMLView",
            "style": "IPY_MODEL_4089c7151ca1404e9705b32252a5be1b",
            "_dom_classes": [],
            "description": "",
            "_model_name": "HTMLModel",
            "placeholder": "​",
            "_view_module": "@jupyter-widgets/controls",
            "_model_module_version": "1.5.0",
            "value": "Downloading: 100%",
            "_view_count": null,
            "_view_module_version": "1.5.0",
            "description_tooltip": null,
            "_model_module": "@jupyter-widgets/controls",
            "layout": "IPY_MODEL_ff73de40f1714131bf8b71c0a0812d0c"
          }
        },
        "706516d57b614a5bb1c29b3eb4768215": {
          "model_module": "@jupyter-widgets/controls",
          "model_name": "FloatProgressModel",
          "model_module_version": "1.5.0",
          "state": {
            "_view_name": "ProgressView",
            "style": "IPY_MODEL_a38a08830daf4ca0b7d1a043b1756ba9",
            "_dom_classes": [],
            "description": "",
            "_model_name": "FloatProgressModel",
            "bar_style": "success",
            "max": 231508,
            "_view_module": "@jupyter-widgets/controls",
            "_model_module_version": "1.5.0",
            "value": 231508,
            "_view_count": null,
            "_view_module_version": "1.5.0",
            "orientation": "horizontal",
            "min": 0,
            "description_tooltip": null,
            "_model_module": "@jupyter-widgets/controls",
            "layout": "IPY_MODEL_f5dc61afbe2b4323babc7406f7c7f55a"
          }
        },
        "a5e7e6f8bc194ae5a5d2eb3ad9507c90": {
          "model_module": "@jupyter-widgets/controls",
          "model_name": "HTMLModel",
          "model_module_version": "1.5.0",
          "state": {
            "_view_name": "HTMLView",
            "style": "IPY_MODEL_32f9ee91670246c68fde011bbfb4c1d5",
            "_dom_classes": [],
            "description": "",
            "_model_name": "HTMLModel",
            "placeholder": "​",
            "_view_module": "@jupyter-widgets/controls",
            "_model_module_version": "1.5.0",
            "value": " 232k/232k [00:00&lt;00:00, 994kB/s]",
            "_view_count": null,
            "_view_module_version": "1.5.0",
            "description_tooltip": null,
            "_model_module": "@jupyter-widgets/controls",
            "layout": "IPY_MODEL_f79611dfb176488d8cefa06167050ba8"
          }
        },
        "4089c7151ca1404e9705b32252a5be1b": {
          "model_module": "@jupyter-widgets/controls",
          "model_name": "DescriptionStyleModel",
          "model_module_version": "1.5.0",
          "state": {
            "_view_name": "StyleView",
            "_model_name": "DescriptionStyleModel",
            "description_width": "",
            "_view_module": "@jupyter-widgets/base",
            "_model_module_version": "1.5.0",
            "_view_count": null,
            "_view_module_version": "1.2.0",
            "_model_module": "@jupyter-widgets/controls"
          }
        },
        "ff73de40f1714131bf8b71c0a0812d0c": {
          "model_module": "@jupyter-widgets/base",
          "model_name": "LayoutModel",
          "model_module_version": "1.2.0",
          "state": {
            "_view_name": "LayoutView",
            "grid_template_rows": null,
            "right": null,
            "justify_content": null,
            "_view_module": "@jupyter-widgets/base",
            "overflow": null,
            "_model_module_version": "1.2.0",
            "_view_count": null,
            "flex_flow": null,
            "width": null,
            "min_width": null,
            "border": null,
            "align_items": null,
            "bottom": null,
            "_model_module": "@jupyter-widgets/base",
            "top": null,
            "grid_column": null,
            "overflow_y": null,
            "overflow_x": null,
            "grid_auto_flow": null,
            "grid_area": null,
            "grid_template_columns": null,
            "flex": null,
            "_model_name": "LayoutModel",
            "justify_items": null,
            "grid_row": null,
            "max_height": null,
            "align_content": null,
            "visibility": null,
            "align_self": null,
            "height": null,
            "min_height": null,
            "padding": null,
            "grid_auto_rows": null,
            "grid_gap": null,
            "max_width": null,
            "order": null,
            "_view_module_version": "1.2.0",
            "grid_template_areas": null,
            "object_position": null,
            "object_fit": null,
            "grid_auto_columns": null,
            "margin": null,
            "display": null,
            "left": null
          }
        },
        "a38a08830daf4ca0b7d1a043b1756ba9": {
          "model_module": "@jupyter-widgets/controls",
          "model_name": "ProgressStyleModel",
          "model_module_version": "1.5.0",
          "state": {
            "_view_name": "StyleView",
            "_model_name": "ProgressStyleModel",
            "description_width": "",
            "_view_module": "@jupyter-widgets/base",
            "_model_module_version": "1.5.0",
            "_view_count": null,
            "_view_module_version": "1.2.0",
            "bar_color": null,
            "_model_module": "@jupyter-widgets/controls"
          }
        },
        "f5dc61afbe2b4323babc7406f7c7f55a": {
          "model_module": "@jupyter-widgets/base",
          "model_name": "LayoutModel",
          "model_module_version": "1.2.0",
          "state": {
            "_view_name": "LayoutView",
            "grid_template_rows": null,
            "right": null,
            "justify_content": null,
            "_view_module": "@jupyter-widgets/base",
            "overflow": null,
            "_model_module_version": "1.2.0",
            "_view_count": null,
            "flex_flow": null,
            "width": null,
            "min_width": null,
            "border": null,
            "align_items": null,
            "bottom": null,
            "_model_module": "@jupyter-widgets/base",
            "top": null,
            "grid_column": null,
            "overflow_y": null,
            "overflow_x": null,
            "grid_auto_flow": null,
            "grid_area": null,
            "grid_template_columns": null,
            "flex": null,
            "_model_name": "LayoutModel",
            "justify_items": null,
            "grid_row": null,
            "max_height": null,
            "align_content": null,
            "visibility": null,
            "align_self": null,
            "height": null,
            "min_height": null,
            "padding": null,
            "grid_auto_rows": null,
            "grid_gap": null,
            "max_width": null,
            "order": null,
            "_view_module_version": "1.2.0",
            "grid_template_areas": null,
            "object_position": null,
            "object_fit": null,
            "grid_auto_columns": null,
            "margin": null,
            "display": null,
            "left": null
          }
        },
        "32f9ee91670246c68fde011bbfb4c1d5": {
          "model_module": "@jupyter-widgets/controls",
          "model_name": "DescriptionStyleModel",
          "model_module_version": "1.5.0",
          "state": {
            "_view_name": "StyleView",
            "_model_name": "DescriptionStyleModel",
            "description_width": "",
            "_view_module": "@jupyter-widgets/base",
            "_model_module_version": "1.5.0",
            "_view_count": null,
            "_view_module_version": "1.2.0",
            "_model_module": "@jupyter-widgets/controls"
          }
        },
        "f79611dfb176488d8cefa06167050ba8": {
          "model_module": "@jupyter-widgets/base",
          "model_name": "LayoutModel",
          "model_module_version": "1.2.0",
          "state": {
            "_view_name": "LayoutView",
            "grid_template_rows": null,
            "right": null,
            "justify_content": null,
            "_view_module": "@jupyter-widgets/base",
            "overflow": null,
            "_model_module_version": "1.2.0",
            "_view_count": null,
            "flex_flow": null,
            "width": null,
            "min_width": null,
            "border": null,
            "align_items": null,
            "bottom": null,
            "_model_module": "@jupyter-widgets/base",
            "top": null,
            "grid_column": null,
            "overflow_y": null,
            "overflow_x": null,
            "grid_auto_flow": null,
            "grid_area": null,
            "grid_template_columns": null,
            "flex": null,
            "_model_name": "LayoutModel",
            "justify_items": null,
            "grid_row": null,
            "max_height": null,
            "align_content": null,
            "visibility": null,
            "align_self": null,
            "height": null,
            "min_height": null,
            "padding": null,
            "grid_auto_rows": null,
            "grid_gap": null,
            "max_width": null,
            "order": null,
            "_view_module_version": "1.2.0",
            "grid_template_areas": null,
            "object_position": null,
            "object_fit": null,
            "grid_auto_columns": null,
            "margin": null,
            "display": null,
            "left": null
          }
        },
        "2d3e86e40b9e4cefad2ea337ac2bc447": {
          "model_module": "@jupyter-widgets/controls",
          "model_name": "HBoxModel",
          "model_module_version": "1.5.0",
          "state": {
            "_view_name": "HBoxView",
            "_dom_classes": [],
            "_model_name": "HBoxModel",
            "_view_module": "@jupyter-widgets/controls",
            "_model_module_version": "1.5.0",
            "_view_count": null,
            "_view_module_version": "1.5.0",
            "box_style": "",
            "layout": "IPY_MODEL_949750dcc1d444a989d04309dc94f3e5",
            "_model_module": "@jupyter-widgets/controls",
            "children": [
              "IPY_MODEL_7a80b753fe2f484cb17b4871130b19a6",
              "IPY_MODEL_727bd7cf2ca14088a12a6fd0ab7ab0b1",
              "IPY_MODEL_a651f266c6694944a7c91a4e3adab1b8"
            ]
          }
        },
        "949750dcc1d444a989d04309dc94f3e5": {
          "model_module": "@jupyter-widgets/base",
          "model_name": "LayoutModel",
          "model_module_version": "1.2.0",
          "state": {
            "_view_name": "LayoutView",
            "grid_template_rows": null,
            "right": null,
            "justify_content": null,
            "_view_module": "@jupyter-widgets/base",
            "overflow": null,
            "_model_module_version": "1.2.0",
            "_view_count": null,
            "flex_flow": null,
            "width": null,
            "min_width": null,
            "border": null,
            "align_items": null,
            "bottom": null,
            "_model_module": "@jupyter-widgets/base",
            "top": null,
            "grid_column": null,
            "overflow_y": null,
            "overflow_x": null,
            "grid_auto_flow": null,
            "grid_area": null,
            "grid_template_columns": null,
            "flex": null,
            "_model_name": "LayoutModel",
            "justify_items": null,
            "grid_row": null,
            "max_height": null,
            "align_content": null,
            "visibility": null,
            "align_self": null,
            "height": null,
            "min_height": null,
            "padding": null,
            "grid_auto_rows": null,
            "grid_gap": null,
            "max_width": null,
            "order": null,
            "_view_module_version": "1.2.0",
            "grid_template_areas": null,
            "object_position": null,
            "object_fit": null,
            "grid_auto_columns": null,
            "margin": null,
            "display": null,
            "left": null
          }
        },
        "7a80b753fe2f484cb17b4871130b19a6": {
          "model_module": "@jupyter-widgets/controls",
          "model_name": "HTMLModel",
          "model_module_version": "1.5.0",
          "state": {
            "_view_name": "HTMLView",
            "style": "IPY_MODEL_c7d155f18d0145ecb08c051bdced9c9c",
            "_dom_classes": [],
            "description": "",
            "_model_name": "HTMLModel",
            "placeholder": "​",
            "_view_module": "@jupyter-widgets/controls",
            "_model_module_version": "1.5.0",
            "value": "Downloading: 100%",
            "_view_count": null,
            "_view_module_version": "1.5.0",
            "description_tooltip": null,
            "_model_module": "@jupyter-widgets/controls",
            "layout": "IPY_MODEL_21fcb58ea53847a2958d703662519f66"
          }
        },
        "727bd7cf2ca14088a12a6fd0ab7ab0b1": {
          "model_module": "@jupyter-widgets/controls",
          "model_name": "FloatProgressModel",
          "model_module_version": "1.5.0",
          "state": {
            "_view_name": "ProgressView",
            "style": "IPY_MODEL_ef9cff2d0a9b464299480520f4aa0a14",
            "_dom_classes": [],
            "description": "",
            "_model_name": "FloatProgressModel",
            "bar_style": "success",
            "max": 28,
            "_view_module": "@jupyter-widgets/controls",
            "_model_module_version": "1.5.0",
            "value": 28,
            "_view_count": null,
            "_view_module_version": "1.5.0",
            "orientation": "horizontal",
            "min": 0,
            "description_tooltip": null,
            "_model_module": "@jupyter-widgets/controls",
            "layout": "IPY_MODEL_a5771726b81c422d99e4b44ad1dd632f"
          }
        },
        "a651f266c6694944a7c91a4e3adab1b8": {
          "model_module": "@jupyter-widgets/controls",
          "model_name": "HTMLModel",
          "model_module_version": "1.5.0",
          "state": {
            "_view_name": "HTMLView",
            "style": "IPY_MODEL_3294db61e98743449b2ff4262c1dfb55",
            "_dom_classes": [],
            "description": "",
            "_model_name": "HTMLModel",
            "placeholder": "​",
            "_view_module": "@jupyter-widgets/controls",
            "_model_module_version": "1.5.0",
            "value": " 28.0/28.0 [00:00&lt;00:00, 1.16kB/s]",
            "_view_count": null,
            "_view_module_version": "1.5.0",
            "description_tooltip": null,
            "_model_module": "@jupyter-widgets/controls",
            "layout": "IPY_MODEL_81193d9c37cd465688f37f25b4a59344"
          }
        },
        "c7d155f18d0145ecb08c051bdced9c9c": {
          "model_module": "@jupyter-widgets/controls",
          "model_name": "DescriptionStyleModel",
          "model_module_version": "1.5.0",
          "state": {
            "_view_name": "StyleView",
            "_model_name": "DescriptionStyleModel",
            "description_width": "",
            "_view_module": "@jupyter-widgets/base",
            "_model_module_version": "1.5.0",
            "_view_count": null,
            "_view_module_version": "1.2.0",
            "_model_module": "@jupyter-widgets/controls"
          }
        },
        "21fcb58ea53847a2958d703662519f66": {
          "model_module": "@jupyter-widgets/base",
          "model_name": "LayoutModel",
          "model_module_version": "1.2.0",
          "state": {
            "_view_name": "LayoutView",
            "grid_template_rows": null,
            "right": null,
            "justify_content": null,
            "_view_module": "@jupyter-widgets/base",
            "overflow": null,
            "_model_module_version": "1.2.0",
            "_view_count": null,
            "flex_flow": null,
            "width": null,
            "min_width": null,
            "border": null,
            "align_items": null,
            "bottom": null,
            "_model_module": "@jupyter-widgets/base",
            "top": null,
            "grid_column": null,
            "overflow_y": null,
            "overflow_x": null,
            "grid_auto_flow": null,
            "grid_area": null,
            "grid_template_columns": null,
            "flex": null,
            "_model_name": "LayoutModel",
            "justify_items": null,
            "grid_row": null,
            "max_height": null,
            "align_content": null,
            "visibility": null,
            "align_self": null,
            "height": null,
            "min_height": null,
            "padding": null,
            "grid_auto_rows": null,
            "grid_gap": null,
            "max_width": null,
            "order": null,
            "_view_module_version": "1.2.0",
            "grid_template_areas": null,
            "object_position": null,
            "object_fit": null,
            "grid_auto_columns": null,
            "margin": null,
            "display": null,
            "left": null
          }
        },
        "ef9cff2d0a9b464299480520f4aa0a14": {
          "model_module": "@jupyter-widgets/controls",
          "model_name": "ProgressStyleModel",
          "model_module_version": "1.5.0",
          "state": {
            "_view_name": "StyleView",
            "_model_name": "ProgressStyleModel",
            "description_width": "",
            "_view_module": "@jupyter-widgets/base",
            "_model_module_version": "1.5.0",
            "_view_count": null,
            "_view_module_version": "1.2.0",
            "bar_color": null,
            "_model_module": "@jupyter-widgets/controls"
          }
        },
        "a5771726b81c422d99e4b44ad1dd632f": {
          "model_module": "@jupyter-widgets/base",
          "model_name": "LayoutModel",
          "model_module_version": "1.2.0",
          "state": {
            "_view_name": "LayoutView",
            "grid_template_rows": null,
            "right": null,
            "justify_content": null,
            "_view_module": "@jupyter-widgets/base",
            "overflow": null,
            "_model_module_version": "1.2.0",
            "_view_count": null,
            "flex_flow": null,
            "width": null,
            "min_width": null,
            "border": null,
            "align_items": null,
            "bottom": null,
            "_model_module": "@jupyter-widgets/base",
            "top": null,
            "grid_column": null,
            "overflow_y": null,
            "overflow_x": null,
            "grid_auto_flow": null,
            "grid_area": null,
            "grid_template_columns": null,
            "flex": null,
            "_model_name": "LayoutModel",
            "justify_items": null,
            "grid_row": null,
            "max_height": null,
            "align_content": null,
            "visibility": null,
            "align_self": null,
            "height": null,
            "min_height": null,
            "padding": null,
            "grid_auto_rows": null,
            "grid_gap": null,
            "max_width": null,
            "order": null,
            "_view_module_version": "1.2.0",
            "grid_template_areas": null,
            "object_position": null,
            "object_fit": null,
            "grid_auto_columns": null,
            "margin": null,
            "display": null,
            "left": null
          }
        },
        "3294db61e98743449b2ff4262c1dfb55": {
          "model_module": "@jupyter-widgets/controls",
          "model_name": "DescriptionStyleModel",
          "model_module_version": "1.5.0",
          "state": {
            "_view_name": "StyleView",
            "_model_name": "DescriptionStyleModel",
            "description_width": "",
            "_view_module": "@jupyter-widgets/base",
            "_model_module_version": "1.5.0",
            "_view_count": null,
            "_view_module_version": "1.2.0",
            "_model_module": "@jupyter-widgets/controls"
          }
        },
        "81193d9c37cd465688f37f25b4a59344": {
          "model_module": "@jupyter-widgets/base",
          "model_name": "LayoutModel",
          "model_module_version": "1.2.0",
          "state": {
            "_view_name": "LayoutView",
            "grid_template_rows": null,
            "right": null,
            "justify_content": null,
            "_view_module": "@jupyter-widgets/base",
            "overflow": null,
            "_model_module_version": "1.2.0",
            "_view_count": null,
            "flex_flow": null,
            "width": null,
            "min_width": null,
            "border": null,
            "align_items": null,
            "bottom": null,
            "_model_module": "@jupyter-widgets/base",
            "top": null,
            "grid_column": null,
            "overflow_y": null,
            "overflow_x": null,
            "grid_auto_flow": null,
            "grid_area": null,
            "grid_template_columns": null,
            "flex": null,
            "_model_name": "LayoutModel",
            "justify_items": null,
            "grid_row": null,
            "max_height": null,
            "align_content": null,
            "visibility": null,
            "align_self": null,
            "height": null,
            "min_height": null,
            "padding": null,
            "grid_auto_rows": null,
            "grid_gap": null,
            "max_width": null,
            "order": null,
            "_view_module_version": "1.2.0",
            "grid_template_areas": null,
            "object_position": null,
            "object_fit": null,
            "grid_auto_columns": null,
            "margin": null,
            "display": null,
            "left": null
          }
        },
        "b1ffb0b8af624f12ae9cd8473dcf4c46": {
          "model_module": "@jupyter-widgets/controls",
          "model_name": "HBoxModel",
          "model_module_version": "1.5.0",
          "state": {
            "_view_name": "HBoxView",
            "_dom_classes": [],
            "_model_name": "HBoxModel",
            "_view_module": "@jupyter-widgets/controls",
            "_model_module_version": "1.5.0",
            "_view_count": null,
            "_view_module_version": "1.5.0",
            "box_style": "",
            "layout": "IPY_MODEL_398a94ed53c943c8be29e2959ac2173b",
            "_model_module": "@jupyter-widgets/controls",
            "children": [
              "IPY_MODEL_e5ff3d6c820242c8b684df1e688390b7",
              "IPY_MODEL_7e7dbef3d79d4815b0c18daec1ad70d0",
              "IPY_MODEL_62b78cc94a6b4a01b6250c7f9cc97bd8"
            ]
          }
        },
        "398a94ed53c943c8be29e2959ac2173b": {
          "model_module": "@jupyter-widgets/base",
          "model_name": "LayoutModel",
          "model_module_version": "1.2.0",
          "state": {
            "_view_name": "LayoutView",
            "grid_template_rows": null,
            "right": null,
            "justify_content": null,
            "_view_module": "@jupyter-widgets/base",
            "overflow": null,
            "_model_module_version": "1.2.0",
            "_view_count": null,
            "flex_flow": null,
            "width": null,
            "min_width": null,
            "border": null,
            "align_items": null,
            "bottom": null,
            "_model_module": "@jupyter-widgets/base",
            "top": null,
            "grid_column": null,
            "overflow_y": null,
            "overflow_x": null,
            "grid_auto_flow": null,
            "grid_area": null,
            "grid_template_columns": null,
            "flex": null,
            "_model_name": "LayoutModel",
            "justify_items": null,
            "grid_row": null,
            "max_height": null,
            "align_content": null,
            "visibility": null,
            "align_self": null,
            "height": null,
            "min_height": null,
            "padding": null,
            "grid_auto_rows": null,
            "grid_gap": null,
            "max_width": null,
            "order": null,
            "_view_module_version": "1.2.0",
            "grid_template_areas": null,
            "object_position": null,
            "object_fit": null,
            "grid_auto_columns": null,
            "margin": null,
            "display": null,
            "left": null
          }
        },
        "e5ff3d6c820242c8b684df1e688390b7": {
          "model_module": "@jupyter-widgets/controls",
          "model_name": "HTMLModel",
          "model_module_version": "1.5.0",
          "state": {
            "_view_name": "HTMLView",
            "style": "IPY_MODEL_c72ae0f985fc4f4dae3a628309c3a67e",
            "_dom_classes": [],
            "description": "",
            "_model_name": "HTMLModel",
            "placeholder": "​",
            "_view_module": "@jupyter-widgets/controls",
            "_model_module_version": "1.5.0",
            "value": "Downloading: 100%",
            "_view_count": null,
            "_view_module_version": "1.5.0",
            "description_tooltip": null,
            "_model_module": "@jupyter-widgets/controls",
            "layout": "IPY_MODEL_b41aa69b6bd64ae8a0ba9caf854265c1"
          }
        },
        "7e7dbef3d79d4815b0c18daec1ad70d0": {
          "model_module": "@jupyter-widgets/controls",
          "model_name": "FloatProgressModel",
          "model_module_version": "1.5.0",
          "state": {
            "_view_name": "ProgressView",
            "style": "IPY_MODEL_92e654abaa2d4c62a5f37925a6f200f7",
            "_dom_classes": [],
            "description": "",
            "_model_name": "FloatProgressModel",
            "bar_style": "success",
            "max": 466062,
            "_view_module": "@jupyter-widgets/controls",
            "_model_module_version": "1.5.0",
            "value": 466062,
            "_view_count": null,
            "_view_module_version": "1.5.0",
            "orientation": "horizontal",
            "min": 0,
            "description_tooltip": null,
            "_model_module": "@jupyter-widgets/controls",
            "layout": "IPY_MODEL_e8eb3a1db17b4a2b9957fae7b824db98"
          }
        },
        "62b78cc94a6b4a01b6250c7f9cc97bd8": {
          "model_module": "@jupyter-widgets/controls",
          "model_name": "HTMLModel",
          "model_module_version": "1.5.0",
          "state": {
            "_view_name": "HTMLView",
            "style": "IPY_MODEL_2157c5c39f5e469683ad24f2c45a5548",
            "_dom_classes": [],
            "description": "",
            "_model_name": "HTMLModel",
            "placeholder": "​",
            "_view_module": "@jupyter-widgets/controls",
            "_model_module_version": "1.5.0",
            "value": " 466k/466k [00:00&lt;00:00, 1.20MB/s]",
            "_view_count": null,
            "_view_module_version": "1.5.0",
            "description_tooltip": null,
            "_model_module": "@jupyter-widgets/controls",
            "layout": "IPY_MODEL_7f5891a50cac48e9b4f3e9e68e65b833"
          }
        },
        "c72ae0f985fc4f4dae3a628309c3a67e": {
          "model_module": "@jupyter-widgets/controls",
          "model_name": "DescriptionStyleModel",
          "model_module_version": "1.5.0",
          "state": {
            "_view_name": "StyleView",
            "_model_name": "DescriptionStyleModel",
            "description_width": "",
            "_view_module": "@jupyter-widgets/base",
            "_model_module_version": "1.5.0",
            "_view_count": null,
            "_view_module_version": "1.2.0",
            "_model_module": "@jupyter-widgets/controls"
          }
        },
        "b41aa69b6bd64ae8a0ba9caf854265c1": {
          "model_module": "@jupyter-widgets/base",
          "model_name": "LayoutModel",
          "model_module_version": "1.2.0",
          "state": {
            "_view_name": "LayoutView",
            "grid_template_rows": null,
            "right": null,
            "justify_content": null,
            "_view_module": "@jupyter-widgets/base",
            "overflow": null,
            "_model_module_version": "1.2.0",
            "_view_count": null,
            "flex_flow": null,
            "width": null,
            "min_width": null,
            "border": null,
            "align_items": null,
            "bottom": null,
            "_model_module": "@jupyter-widgets/base",
            "top": null,
            "grid_column": null,
            "overflow_y": null,
            "overflow_x": null,
            "grid_auto_flow": null,
            "grid_area": null,
            "grid_template_columns": null,
            "flex": null,
            "_model_name": "LayoutModel",
            "justify_items": null,
            "grid_row": null,
            "max_height": null,
            "align_content": null,
            "visibility": null,
            "align_self": null,
            "height": null,
            "min_height": null,
            "padding": null,
            "grid_auto_rows": null,
            "grid_gap": null,
            "max_width": null,
            "order": null,
            "_view_module_version": "1.2.0",
            "grid_template_areas": null,
            "object_position": null,
            "object_fit": null,
            "grid_auto_columns": null,
            "margin": null,
            "display": null,
            "left": null
          }
        },
        "92e654abaa2d4c62a5f37925a6f200f7": {
          "model_module": "@jupyter-widgets/controls",
          "model_name": "ProgressStyleModel",
          "model_module_version": "1.5.0",
          "state": {
            "_view_name": "StyleView",
            "_model_name": "ProgressStyleModel",
            "description_width": "",
            "_view_module": "@jupyter-widgets/base",
            "_model_module_version": "1.5.0",
            "_view_count": null,
            "_view_module_version": "1.2.0",
            "bar_color": null,
            "_model_module": "@jupyter-widgets/controls"
          }
        },
        "e8eb3a1db17b4a2b9957fae7b824db98": {
          "model_module": "@jupyter-widgets/base",
          "model_name": "LayoutModel",
          "model_module_version": "1.2.0",
          "state": {
            "_view_name": "LayoutView",
            "grid_template_rows": null,
            "right": null,
            "justify_content": null,
            "_view_module": "@jupyter-widgets/base",
            "overflow": null,
            "_model_module_version": "1.2.0",
            "_view_count": null,
            "flex_flow": null,
            "width": null,
            "min_width": null,
            "border": null,
            "align_items": null,
            "bottom": null,
            "_model_module": "@jupyter-widgets/base",
            "top": null,
            "grid_column": null,
            "overflow_y": null,
            "overflow_x": null,
            "grid_auto_flow": null,
            "grid_area": null,
            "grid_template_columns": null,
            "flex": null,
            "_model_name": "LayoutModel",
            "justify_items": null,
            "grid_row": null,
            "max_height": null,
            "align_content": null,
            "visibility": null,
            "align_self": null,
            "height": null,
            "min_height": null,
            "padding": null,
            "grid_auto_rows": null,
            "grid_gap": null,
            "max_width": null,
            "order": null,
            "_view_module_version": "1.2.0",
            "grid_template_areas": null,
            "object_position": null,
            "object_fit": null,
            "grid_auto_columns": null,
            "margin": null,
            "display": null,
            "left": null
          }
        },
        "2157c5c39f5e469683ad24f2c45a5548": {
          "model_module": "@jupyter-widgets/controls",
          "model_name": "DescriptionStyleModel",
          "model_module_version": "1.5.0",
          "state": {
            "_view_name": "StyleView",
            "_model_name": "DescriptionStyleModel",
            "description_width": "",
            "_view_module": "@jupyter-widgets/base",
            "_model_module_version": "1.5.0",
            "_view_count": null,
            "_view_module_version": "1.2.0",
            "_model_module": "@jupyter-widgets/controls"
          }
        },
        "7f5891a50cac48e9b4f3e9e68e65b833": {
          "model_module": "@jupyter-widgets/base",
          "model_name": "LayoutModel",
          "model_module_version": "1.2.0",
          "state": {
            "_view_name": "LayoutView",
            "grid_template_rows": null,
            "right": null,
            "justify_content": null,
            "_view_module": "@jupyter-widgets/base",
            "overflow": null,
            "_model_module_version": "1.2.0",
            "_view_count": null,
            "flex_flow": null,
            "width": null,
            "min_width": null,
            "border": null,
            "align_items": null,
            "bottom": null,
            "_model_module": "@jupyter-widgets/base",
            "top": null,
            "grid_column": null,
            "overflow_y": null,
            "overflow_x": null,
            "grid_auto_flow": null,
            "grid_area": null,
            "grid_template_columns": null,
            "flex": null,
            "_model_name": "LayoutModel",
            "justify_items": null,
            "grid_row": null,
            "max_height": null,
            "align_content": null,
            "visibility": null,
            "align_self": null,
            "height": null,
            "min_height": null,
            "padding": null,
            "grid_auto_rows": null,
            "grid_gap": null,
            "max_width": null,
            "order": null,
            "_view_module_version": "1.2.0",
            "grid_template_areas": null,
            "object_position": null,
            "object_fit": null,
            "grid_auto_columns": null,
            "margin": null,
            "display": null,
            "left": null
          }
        },
        "a1f71ebb364e4067837fa9197c87fc89": {
          "model_module": "@jupyter-widgets/controls",
          "model_name": "HBoxModel",
          "model_module_version": "1.5.0",
          "state": {
            "_view_name": "HBoxView",
            "_dom_classes": [],
            "_model_name": "HBoxModel",
            "_view_module": "@jupyter-widgets/controls",
            "_model_module_version": "1.5.0",
            "_view_count": null,
            "_view_module_version": "1.5.0",
            "box_style": "",
            "layout": "IPY_MODEL_1fb74d0af3e040978ab54126369345dc",
            "_model_module": "@jupyter-widgets/controls",
            "children": [
              "IPY_MODEL_5d8ac3538f4c4802abf43e53949e8e82",
              "IPY_MODEL_736571f430d5410983c719acb6605a76",
              "IPY_MODEL_e9d2975d75ea44f8a3a27906a51c86e2"
            ]
          }
        },
        "1fb74d0af3e040978ab54126369345dc": {
          "model_module": "@jupyter-widgets/base",
          "model_name": "LayoutModel",
          "model_module_version": "1.2.0",
          "state": {
            "_view_name": "LayoutView",
            "grid_template_rows": null,
            "right": null,
            "justify_content": null,
            "_view_module": "@jupyter-widgets/base",
            "overflow": null,
            "_model_module_version": "1.2.0",
            "_view_count": null,
            "flex_flow": null,
            "width": null,
            "min_width": null,
            "border": null,
            "align_items": null,
            "bottom": null,
            "_model_module": "@jupyter-widgets/base",
            "top": null,
            "grid_column": null,
            "overflow_y": null,
            "overflow_x": null,
            "grid_auto_flow": null,
            "grid_area": null,
            "grid_template_columns": null,
            "flex": null,
            "_model_name": "LayoutModel",
            "justify_items": null,
            "grid_row": null,
            "max_height": null,
            "align_content": null,
            "visibility": null,
            "align_self": null,
            "height": null,
            "min_height": null,
            "padding": null,
            "grid_auto_rows": null,
            "grid_gap": null,
            "max_width": null,
            "order": null,
            "_view_module_version": "1.2.0",
            "grid_template_areas": null,
            "object_position": null,
            "object_fit": null,
            "grid_auto_columns": null,
            "margin": null,
            "display": null,
            "left": null
          }
        },
        "5d8ac3538f4c4802abf43e53949e8e82": {
          "model_module": "@jupyter-widgets/controls",
          "model_name": "HTMLModel",
          "model_module_version": "1.5.0",
          "state": {
            "_view_name": "HTMLView",
            "style": "IPY_MODEL_6d2e56e56023407bba922e69335e1340",
            "_dom_classes": [],
            "description": "",
            "_model_name": "HTMLModel",
            "placeholder": "​",
            "_view_module": "@jupyter-widgets/controls",
            "_model_module_version": "1.5.0",
            "value": "Downloading: 100%",
            "_view_count": null,
            "_view_module_version": "1.5.0",
            "description_tooltip": null,
            "_model_module": "@jupyter-widgets/controls",
            "layout": "IPY_MODEL_629230fb267c4ed888d52c614bdf6466"
          }
        },
        "736571f430d5410983c719acb6605a76": {
          "model_module": "@jupyter-widgets/controls",
          "model_name": "FloatProgressModel",
          "model_module_version": "1.5.0",
          "state": {
            "_view_name": "ProgressView",
            "style": "IPY_MODEL_5f9413aa9abb4253a302349e2102d237",
            "_dom_classes": [],
            "description": "",
            "_model_name": "FloatProgressModel",
            "bar_style": "success",
            "max": 442,
            "_view_module": "@jupyter-widgets/controls",
            "_model_module_version": "1.5.0",
            "value": 442,
            "_view_count": null,
            "_view_module_version": "1.5.0",
            "orientation": "horizontal",
            "min": 0,
            "description_tooltip": null,
            "_model_module": "@jupyter-widgets/controls",
            "layout": "IPY_MODEL_ddc665f807aa4f47b81b3f1d256449c0"
          }
        },
        "e9d2975d75ea44f8a3a27906a51c86e2": {
          "model_module": "@jupyter-widgets/controls",
          "model_name": "HTMLModel",
          "model_module_version": "1.5.0",
          "state": {
            "_view_name": "HTMLView",
            "style": "IPY_MODEL_00ad766f68a642debf3cbf4e7cff20a6",
            "_dom_classes": [],
            "description": "",
            "_model_name": "HTMLModel",
            "placeholder": "​",
            "_view_module": "@jupyter-widgets/controls",
            "_model_module_version": "1.5.0",
            "value": " 442/442 [00:00&lt;00:00, 19.0kB/s]",
            "_view_count": null,
            "_view_module_version": "1.5.0",
            "description_tooltip": null,
            "_model_module": "@jupyter-widgets/controls",
            "layout": "IPY_MODEL_df33d81806614d4da0a32a868583ee6a"
          }
        },
        "6d2e56e56023407bba922e69335e1340": {
          "model_module": "@jupyter-widgets/controls",
          "model_name": "DescriptionStyleModel",
          "model_module_version": "1.5.0",
          "state": {
            "_view_name": "StyleView",
            "_model_name": "DescriptionStyleModel",
            "description_width": "",
            "_view_module": "@jupyter-widgets/base",
            "_model_module_version": "1.5.0",
            "_view_count": null,
            "_view_module_version": "1.2.0",
            "_model_module": "@jupyter-widgets/controls"
          }
        },
        "629230fb267c4ed888d52c614bdf6466": {
          "model_module": "@jupyter-widgets/base",
          "model_name": "LayoutModel",
          "model_module_version": "1.2.0",
          "state": {
            "_view_name": "LayoutView",
            "grid_template_rows": null,
            "right": null,
            "justify_content": null,
            "_view_module": "@jupyter-widgets/base",
            "overflow": null,
            "_model_module_version": "1.2.0",
            "_view_count": null,
            "flex_flow": null,
            "width": null,
            "min_width": null,
            "border": null,
            "align_items": null,
            "bottom": null,
            "_model_module": "@jupyter-widgets/base",
            "top": null,
            "grid_column": null,
            "overflow_y": null,
            "overflow_x": null,
            "grid_auto_flow": null,
            "grid_area": null,
            "grid_template_columns": null,
            "flex": null,
            "_model_name": "LayoutModel",
            "justify_items": null,
            "grid_row": null,
            "max_height": null,
            "align_content": null,
            "visibility": null,
            "align_self": null,
            "height": null,
            "min_height": null,
            "padding": null,
            "grid_auto_rows": null,
            "grid_gap": null,
            "max_width": null,
            "order": null,
            "_view_module_version": "1.2.0",
            "grid_template_areas": null,
            "object_position": null,
            "object_fit": null,
            "grid_auto_columns": null,
            "margin": null,
            "display": null,
            "left": null
          }
        },
        "5f9413aa9abb4253a302349e2102d237": {
          "model_module": "@jupyter-widgets/controls",
          "model_name": "ProgressStyleModel",
          "model_module_version": "1.5.0",
          "state": {
            "_view_name": "StyleView",
            "_model_name": "ProgressStyleModel",
            "description_width": "",
            "_view_module": "@jupyter-widgets/base",
            "_model_module_version": "1.5.0",
            "_view_count": null,
            "_view_module_version": "1.2.0",
            "bar_color": null,
            "_model_module": "@jupyter-widgets/controls"
          }
        },
        "ddc665f807aa4f47b81b3f1d256449c0": {
          "model_module": "@jupyter-widgets/base",
          "model_name": "LayoutModel",
          "model_module_version": "1.2.0",
          "state": {
            "_view_name": "LayoutView",
            "grid_template_rows": null,
            "right": null,
            "justify_content": null,
            "_view_module": "@jupyter-widgets/base",
            "overflow": null,
            "_model_module_version": "1.2.0",
            "_view_count": null,
            "flex_flow": null,
            "width": null,
            "min_width": null,
            "border": null,
            "align_items": null,
            "bottom": null,
            "_model_module": "@jupyter-widgets/base",
            "top": null,
            "grid_column": null,
            "overflow_y": null,
            "overflow_x": null,
            "grid_auto_flow": null,
            "grid_area": null,
            "grid_template_columns": null,
            "flex": null,
            "_model_name": "LayoutModel",
            "justify_items": null,
            "grid_row": null,
            "max_height": null,
            "align_content": null,
            "visibility": null,
            "align_self": null,
            "height": null,
            "min_height": null,
            "padding": null,
            "grid_auto_rows": null,
            "grid_gap": null,
            "max_width": null,
            "order": null,
            "_view_module_version": "1.2.0",
            "grid_template_areas": null,
            "object_position": null,
            "object_fit": null,
            "grid_auto_columns": null,
            "margin": null,
            "display": null,
            "left": null
          }
        },
        "00ad766f68a642debf3cbf4e7cff20a6": {
          "model_module": "@jupyter-widgets/controls",
          "model_name": "DescriptionStyleModel",
          "model_module_version": "1.5.0",
          "state": {
            "_view_name": "StyleView",
            "_model_name": "DescriptionStyleModel",
            "description_width": "",
            "_view_module": "@jupyter-widgets/base",
            "_model_module_version": "1.5.0",
            "_view_count": null,
            "_view_module_version": "1.2.0",
            "_model_module": "@jupyter-widgets/controls"
          }
        },
        "df33d81806614d4da0a32a868583ee6a": {
          "model_module": "@jupyter-widgets/base",
          "model_name": "LayoutModel",
          "model_module_version": "1.2.0",
          "state": {
            "_view_name": "LayoutView",
            "grid_template_rows": null,
            "right": null,
            "justify_content": null,
            "_view_module": "@jupyter-widgets/base",
            "overflow": null,
            "_model_module_version": "1.2.0",
            "_view_count": null,
            "flex_flow": null,
            "width": null,
            "min_width": null,
            "border": null,
            "align_items": null,
            "bottom": null,
            "_model_module": "@jupyter-widgets/base",
            "top": null,
            "grid_column": null,
            "overflow_y": null,
            "overflow_x": null,
            "grid_auto_flow": null,
            "grid_area": null,
            "grid_template_columns": null,
            "flex": null,
            "_model_name": "LayoutModel",
            "justify_items": null,
            "grid_row": null,
            "max_height": null,
            "align_content": null,
            "visibility": null,
            "align_self": null,
            "height": null,
            "min_height": null,
            "padding": null,
            "grid_auto_rows": null,
            "grid_gap": null,
            "max_width": null,
            "order": null,
            "_view_module_version": "1.2.0",
            "grid_template_areas": null,
            "object_position": null,
            "object_fit": null,
            "grid_auto_columns": null,
            "margin": null,
            "display": null,
            "left": null
          }
        },
        "5f7d435c5d2f4f74922c10f06764506a": {
          "model_module": "@jupyter-widgets/controls",
          "model_name": "HBoxModel",
          "model_module_version": "1.5.0",
          "state": {
            "_view_name": "HBoxView",
            "_dom_classes": [],
            "_model_name": "HBoxModel",
            "_view_module": "@jupyter-widgets/controls",
            "_model_module_version": "1.5.0",
            "_view_count": null,
            "_view_module_version": "1.5.0",
            "box_style": "",
            "layout": "IPY_MODEL_29c9a6f9d7574e7eb0907a3809a928da",
            "_model_module": "@jupyter-widgets/controls",
            "children": [
              "IPY_MODEL_e8ae9d9787cb402283dce2506643d647",
              "IPY_MODEL_6cbc3443cea2496aa51a33797e603ca4",
              "IPY_MODEL_91df9bca4b5f430fa507f6e34ffa53a4"
            ]
          }
        },
        "29c9a6f9d7574e7eb0907a3809a928da": {
          "model_module": "@jupyter-widgets/base",
          "model_name": "LayoutModel",
          "model_module_version": "1.2.0",
          "state": {
            "_view_name": "LayoutView",
            "grid_template_rows": null,
            "right": null,
            "justify_content": null,
            "_view_module": "@jupyter-widgets/base",
            "overflow": null,
            "_model_module_version": "1.2.0",
            "_view_count": null,
            "flex_flow": null,
            "width": null,
            "min_width": null,
            "border": null,
            "align_items": null,
            "bottom": null,
            "_model_module": "@jupyter-widgets/base",
            "top": null,
            "grid_column": null,
            "overflow_y": null,
            "overflow_x": null,
            "grid_auto_flow": null,
            "grid_area": null,
            "grid_template_columns": null,
            "flex": null,
            "_model_name": "LayoutModel",
            "justify_items": null,
            "grid_row": null,
            "max_height": null,
            "align_content": null,
            "visibility": null,
            "align_self": null,
            "height": null,
            "min_height": null,
            "padding": null,
            "grid_auto_rows": null,
            "grid_gap": null,
            "max_width": null,
            "order": null,
            "_view_module_version": "1.2.0",
            "grid_template_areas": null,
            "object_position": null,
            "object_fit": null,
            "grid_auto_columns": null,
            "margin": null,
            "display": null,
            "left": null
          }
        },
        "e8ae9d9787cb402283dce2506643d647": {
          "model_module": "@jupyter-widgets/controls",
          "model_name": "HTMLModel",
          "model_module_version": "1.5.0",
          "state": {
            "_view_name": "HTMLView",
            "style": "IPY_MODEL_f98cc19cc6eb4421bfa696367ee303fc",
            "_dom_classes": [],
            "description": "",
            "_model_name": "HTMLModel",
            "placeholder": "​",
            "_view_module": "@jupyter-widgets/controls",
            "_model_module_version": "1.5.0",
            "value": "Downloading: 100%",
            "_view_count": null,
            "_view_module_version": "1.5.0",
            "description_tooltip": null,
            "_model_module": "@jupyter-widgets/controls",
            "layout": "IPY_MODEL_53b1d431cccd4ec6aeb34231765ef9b3"
          }
        },
        "6cbc3443cea2496aa51a33797e603ca4": {
          "model_module": "@jupyter-widgets/controls",
          "model_name": "FloatProgressModel",
          "model_module_version": "1.5.0",
          "state": {
            "_view_name": "ProgressView",
            "style": "IPY_MODEL_348e9c671f0c4a9d94c9f1d46ebac511",
            "_dom_classes": [],
            "description": "",
            "_model_name": "FloatProgressModel",
            "bar_style": "success",
            "max": 363423424,
            "_view_module": "@jupyter-widgets/controls",
            "_model_module_version": "1.5.0",
            "value": 363423424,
            "_view_count": null,
            "_view_module_version": "1.5.0",
            "orientation": "horizontal",
            "min": 0,
            "description_tooltip": null,
            "_model_module": "@jupyter-widgets/controls",
            "layout": "IPY_MODEL_48ea3a834b83436ebbee866df5c3a537"
          }
        },
        "91df9bca4b5f430fa507f6e34ffa53a4": {
          "model_module": "@jupyter-widgets/controls",
          "model_name": "HTMLModel",
          "model_module_version": "1.5.0",
          "state": {
            "_view_name": "HTMLView",
            "style": "IPY_MODEL_955dc838ff10462386fefaed6088f440",
            "_dom_classes": [],
            "description": "",
            "_model_name": "HTMLModel",
            "placeholder": "​",
            "_view_module": "@jupyter-widgets/controls",
            "_model_module_version": "1.5.0",
            "value": " 363M/363M [00:10&lt;00:00, 37.8MB/s]",
            "_view_count": null,
            "_view_module_version": "1.5.0",
            "description_tooltip": null,
            "_model_module": "@jupyter-widgets/controls",
            "layout": "IPY_MODEL_8b55ba9cd1d94a948702837adba8fd66"
          }
        },
        "f98cc19cc6eb4421bfa696367ee303fc": {
          "model_module": "@jupyter-widgets/controls",
          "model_name": "DescriptionStyleModel",
          "model_module_version": "1.5.0",
          "state": {
            "_view_name": "StyleView",
            "_model_name": "DescriptionStyleModel",
            "description_width": "",
            "_view_module": "@jupyter-widgets/base",
            "_model_module_version": "1.5.0",
            "_view_count": null,
            "_view_module_version": "1.2.0",
            "_model_module": "@jupyter-widgets/controls"
          }
        },
        "53b1d431cccd4ec6aeb34231765ef9b3": {
          "model_module": "@jupyter-widgets/base",
          "model_name": "LayoutModel",
          "model_module_version": "1.2.0",
          "state": {
            "_view_name": "LayoutView",
            "grid_template_rows": null,
            "right": null,
            "justify_content": null,
            "_view_module": "@jupyter-widgets/base",
            "overflow": null,
            "_model_module_version": "1.2.0",
            "_view_count": null,
            "flex_flow": null,
            "width": null,
            "min_width": null,
            "border": null,
            "align_items": null,
            "bottom": null,
            "_model_module": "@jupyter-widgets/base",
            "top": null,
            "grid_column": null,
            "overflow_y": null,
            "overflow_x": null,
            "grid_auto_flow": null,
            "grid_area": null,
            "grid_template_columns": null,
            "flex": null,
            "_model_name": "LayoutModel",
            "justify_items": null,
            "grid_row": null,
            "max_height": null,
            "align_content": null,
            "visibility": null,
            "align_self": null,
            "height": null,
            "min_height": null,
            "padding": null,
            "grid_auto_rows": null,
            "grid_gap": null,
            "max_width": null,
            "order": null,
            "_view_module_version": "1.2.0",
            "grid_template_areas": null,
            "object_position": null,
            "object_fit": null,
            "grid_auto_columns": null,
            "margin": null,
            "display": null,
            "left": null
          }
        },
        "348e9c671f0c4a9d94c9f1d46ebac511": {
          "model_module": "@jupyter-widgets/controls",
          "model_name": "ProgressStyleModel",
          "model_module_version": "1.5.0",
          "state": {
            "_view_name": "StyleView",
            "_model_name": "ProgressStyleModel",
            "description_width": "",
            "_view_module": "@jupyter-widgets/base",
            "_model_module_version": "1.5.0",
            "_view_count": null,
            "_view_module_version": "1.2.0",
            "bar_color": null,
            "_model_module": "@jupyter-widgets/controls"
          }
        },
        "48ea3a834b83436ebbee866df5c3a537": {
          "model_module": "@jupyter-widgets/base",
          "model_name": "LayoutModel",
          "model_module_version": "1.2.0",
          "state": {
            "_view_name": "LayoutView",
            "grid_template_rows": null,
            "right": null,
            "justify_content": null,
            "_view_module": "@jupyter-widgets/base",
            "overflow": null,
            "_model_module_version": "1.2.0",
            "_view_count": null,
            "flex_flow": null,
            "width": null,
            "min_width": null,
            "border": null,
            "align_items": null,
            "bottom": null,
            "_model_module": "@jupyter-widgets/base",
            "top": null,
            "grid_column": null,
            "overflow_y": null,
            "overflow_x": null,
            "grid_auto_flow": null,
            "grid_area": null,
            "grid_template_columns": null,
            "flex": null,
            "_model_name": "LayoutModel",
            "justify_items": null,
            "grid_row": null,
            "max_height": null,
            "align_content": null,
            "visibility": null,
            "align_self": null,
            "height": null,
            "min_height": null,
            "padding": null,
            "grid_auto_rows": null,
            "grid_gap": null,
            "max_width": null,
            "order": null,
            "_view_module_version": "1.2.0",
            "grid_template_areas": null,
            "object_position": null,
            "object_fit": null,
            "grid_auto_columns": null,
            "margin": null,
            "display": null,
            "left": null
          }
        },
        "955dc838ff10462386fefaed6088f440": {
          "model_module": "@jupyter-widgets/controls",
          "model_name": "DescriptionStyleModel",
          "model_module_version": "1.5.0",
          "state": {
            "_view_name": "StyleView",
            "_model_name": "DescriptionStyleModel",
            "description_width": "",
            "_view_module": "@jupyter-widgets/base",
            "_model_module_version": "1.5.0",
            "_view_count": null,
            "_view_module_version": "1.2.0",
            "_model_module": "@jupyter-widgets/controls"
          }
        },
        "8b55ba9cd1d94a948702837adba8fd66": {
          "model_module": "@jupyter-widgets/base",
          "model_name": "LayoutModel",
          "model_module_version": "1.2.0",
          "state": {
            "_view_name": "LayoutView",
            "grid_template_rows": null,
            "right": null,
            "justify_content": null,
            "_view_module": "@jupyter-widgets/base",
            "overflow": null,
            "_model_module_version": "1.2.0",
            "_view_count": null,
            "flex_flow": null,
            "width": null,
            "min_width": null,
            "border": null,
            "align_items": null,
            "bottom": null,
            "_model_module": "@jupyter-widgets/base",
            "top": null,
            "grid_column": null,
            "overflow_y": null,
            "overflow_x": null,
            "grid_auto_flow": null,
            "grid_area": null,
            "grid_template_columns": null,
            "flex": null,
            "_model_name": "LayoutModel",
            "justify_items": null,
            "grid_row": null,
            "max_height": null,
            "align_content": null,
            "visibility": null,
            "align_self": null,
            "height": null,
            "min_height": null,
            "padding": null,
            "grid_auto_rows": null,
            "grid_gap": null,
            "max_width": null,
            "order": null,
            "_view_module_version": "1.2.0",
            "grid_template_areas": null,
            "object_position": null,
            "object_fit": null,
            "grid_auto_columns": null,
            "margin": null,
            "display": null,
            "left": null
          }
        }
      }
    }
  },
  "cells": [
    {
      "cell_type": "markdown",
      "metadata": {
        "id": "view-in-github",
        "colab_type": "text"
      },
      "source": [
        "<a href=\"https://colab.research.google.com/github/JaredGlaub/NeuralNetworks/blob/main/Final458.ipynb\" target=\"_parent\"><img src=\"https://colab.research.google.com/assets/colab-badge.svg\" alt=\"Open In Colab\"/></a>"
      ]
    },
    {
      "cell_type": "markdown",
      "metadata": {
        "id": "SPNVv1A4e8bf"
      },
      "source": [
        "#### Import Statements"
      ]
    },
    {
      "cell_type": "code",
      "metadata": {
        "colab": {
          "base_uri": "https://localhost:8080/"
        },
        "id": "r0hUsn7-g38f",
        "outputId": "38389acf-8914-435b-b752-95755d2ab212"
      },
      "source": [
        "!pip install gdown\n",
        "!pip install contractions\n",
        "!pip install transformers"
      ],
      "execution_count": null,
      "outputs": [
        {
          "output_type": "stream",
          "text": [
            "Requirement already satisfied: gdown in /usr/local/lib/python3.7/dist-packages (3.6.4)\n",
            "Requirement already satisfied: requests in /usr/local/lib/python3.7/dist-packages (from gdown) (2.23.0)\n",
            "Requirement already satisfied: six in /usr/local/lib/python3.7/dist-packages (from gdown) (1.15.0)\n",
            "Requirement already satisfied: tqdm in /usr/local/lib/python3.7/dist-packages (from gdown) (4.62.0)\n",
            "Requirement already satisfied: idna<3,>=2.5 in /usr/local/lib/python3.7/dist-packages (from requests->gdown) (2.10)\n",
            "Requirement already satisfied: urllib3!=1.25.0,!=1.25.1,<1.26,>=1.21.1 in /usr/local/lib/python3.7/dist-packages (from requests->gdown) (1.24.3)\n",
            "Requirement already satisfied: chardet<4,>=3.0.2 in /usr/local/lib/python3.7/dist-packages (from requests->gdown) (3.0.4)\n",
            "Requirement already satisfied: certifi>=2017.4.17 in /usr/local/lib/python3.7/dist-packages (from requests->gdown) (2021.5.30)\n",
            "Collecting contractions\n",
            "  Downloading contractions-0.0.52-py2.py3-none-any.whl (7.2 kB)\n",
            "Collecting textsearch>=0.0.21\n",
            "  Downloading textsearch-0.0.21-py2.py3-none-any.whl (7.5 kB)\n",
            "Collecting pyahocorasick\n",
            "  Downloading pyahocorasick-1.4.2.tar.gz (321 kB)\n",
            "\u001b[K     |████████████████████████████████| 321 kB 8.4 MB/s \n",
            "\u001b[?25hCollecting anyascii\n",
            "  Downloading anyascii-0.2.0-py3-none-any.whl (283 kB)\n",
            "\u001b[K     |████████████████████████████████| 283 kB 62.3 MB/s \n",
            "\u001b[?25hBuilding wheels for collected packages: pyahocorasick\n",
            "  Building wheel for pyahocorasick (setup.py) ... \u001b[?25l\u001b[?25hdone\n",
            "  Created wheel for pyahocorasick: filename=pyahocorasick-1.4.2-cp37-cp37m-linux_x86_64.whl size=85440 sha256=2a50009c7867467f72241d2665b8444037cde9d023e7232d24e2562d806c71d5\n",
            "  Stored in directory: /root/.cache/pip/wheels/25/19/a6/8f363d9939162782bb8439d886469756271abc01f76fbd790f\n",
            "Successfully built pyahocorasick\n",
            "Installing collected packages: pyahocorasick, anyascii, textsearch, contractions\n",
            "Successfully installed anyascii-0.2.0 contractions-0.0.52 pyahocorasick-1.4.2 textsearch-0.0.21\n",
            "Collecting transformers\n",
            "  Downloading transformers-4.9.2-py3-none-any.whl (2.6 MB)\n",
            "\u001b[K     |████████████████████████████████| 2.6 MB 8.2 MB/s \n",
            "\u001b[?25hRequirement already satisfied: packaging in /usr/local/lib/python3.7/dist-packages (from transformers) (21.0)\n",
            "Requirement already satisfied: numpy>=1.17 in /usr/local/lib/python3.7/dist-packages (from transformers) (1.19.5)\n",
            "Collecting pyyaml>=5.1\n",
            "  Downloading PyYAML-5.4.1-cp37-cp37m-manylinux1_x86_64.whl (636 kB)\n",
            "\u001b[K     |████████████████████████████████| 636 kB 80.4 MB/s \n",
            "\u001b[?25hRequirement already satisfied: tqdm>=4.27 in /usr/local/lib/python3.7/dist-packages (from transformers) (4.62.0)\n",
            "Collecting tokenizers<0.11,>=0.10.1\n",
            "  Downloading tokenizers-0.10.3-cp37-cp37m-manylinux_2_5_x86_64.manylinux1_x86_64.manylinux_2_12_x86_64.manylinux2010_x86_64.whl (3.3 MB)\n",
            "\u001b[K     |████████████████████████████████| 3.3 MB 63.1 MB/s \n",
            "\u001b[?25hRequirement already satisfied: filelock in /usr/local/lib/python3.7/dist-packages (from transformers) (3.0.12)\n",
            "Collecting huggingface-hub==0.0.12\n",
            "  Downloading huggingface_hub-0.0.12-py3-none-any.whl (37 kB)\n",
            "Requirement already satisfied: importlib-metadata in /usr/local/lib/python3.7/dist-packages (from transformers) (4.6.4)\n",
            "Collecting sacremoses\n",
            "  Downloading sacremoses-0.0.45-py3-none-any.whl (895 kB)\n",
            "\u001b[K     |████████████████████████████████| 895 kB 73.6 MB/s \n",
            "\u001b[?25hRequirement already satisfied: requests in /usr/local/lib/python3.7/dist-packages (from transformers) (2.23.0)\n",
            "Requirement already satisfied: regex!=2019.12.17 in /usr/local/lib/python3.7/dist-packages (from transformers) (2019.12.20)\n",
            "Requirement already satisfied: typing-extensions in /usr/local/lib/python3.7/dist-packages (from huggingface-hub==0.0.12->transformers) (3.7.4.3)\n",
            "Requirement already satisfied: pyparsing>=2.0.2 in /usr/local/lib/python3.7/dist-packages (from packaging->transformers) (2.4.7)\n",
            "Requirement already satisfied: zipp>=0.5 in /usr/local/lib/python3.7/dist-packages (from importlib-metadata->transformers) (3.5.0)\n",
            "Requirement already satisfied: chardet<4,>=3.0.2 in /usr/local/lib/python3.7/dist-packages (from requests->transformers) (3.0.4)\n",
            "Requirement already satisfied: urllib3!=1.25.0,!=1.25.1,<1.26,>=1.21.1 in /usr/local/lib/python3.7/dist-packages (from requests->transformers) (1.24.3)\n",
            "Requirement already satisfied: certifi>=2017.4.17 in /usr/local/lib/python3.7/dist-packages (from requests->transformers) (2021.5.30)\n",
            "Requirement already satisfied: idna<3,>=2.5 in /usr/local/lib/python3.7/dist-packages (from requests->transformers) (2.10)\n",
            "Requirement already satisfied: six in /usr/local/lib/python3.7/dist-packages (from sacremoses->transformers) (1.15.0)\n",
            "Requirement already satisfied: click in /usr/local/lib/python3.7/dist-packages (from sacremoses->transformers) (7.1.2)\n",
            "Requirement already satisfied: joblib in /usr/local/lib/python3.7/dist-packages (from sacremoses->transformers) (1.0.1)\n",
            "Installing collected packages: tokenizers, sacremoses, pyyaml, huggingface-hub, transformers\n",
            "  Attempting uninstall: pyyaml\n",
            "    Found existing installation: PyYAML 3.13\n",
            "    Uninstalling PyYAML-3.13:\n",
            "      Successfully uninstalled PyYAML-3.13\n",
            "Successfully installed huggingface-hub-0.0.12 pyyaml-5.4.1 sacremoses-0.0.45 tokenizers-0.10.3 transformers-4.9.2\n"
          ],
          "name": "stdout"
        }
      ]
    },
    {
      "cell_type": "code",
      "metadata": {
        "colab": {
          "base_uri": "https://localhost:8080/"
        },
        "id": "XkReSlzOdeYO",
        "outputId": "6db091a0-4b61-4341-bafa-c3892e8408fa"
      },
      "source": [
        "# Helper libraries\n",
        "import datetime\n",
        "from packaging import version\n",
        "import matplotlib.pyplot as plt\n",
        "import seaborn as sns\n",
        "\n",
        "import sklearn\n",
        "from sklearn.metrics import confusion_matrix\n",
        "from collections import Counter\n",
        "\n",
        "import gzip\n",
        "import json\n",
        "import re\n",
        "import sys\n",
        "\n",
        "import gdown\n",
        "import numpy as np\n",
        "import os\n",
        "import pandas as pd\n",
        "import time\n",
        "\n",
        "# TensorFlow and tf.keras\n",
        "import tensorflow as tf\n",
        "import tensorflow_datasets as tfds\n",
        "from tensorflow import keras\n",
        "from tensorflow.keras.callbacks import ReduceLROnPlateau\n",
        "from tensorflow.keras.preprocessing import image\n",
        "from tensorflow.keras.utils import to_categorical\n",
        "from tensorflow.keras import models, layers, regularizers\n",
        "from tensorflow.keras.models import Sequential\n",
        "# from tensorflow.keras.layers import Conv2D, MaxPooling2D\n",
        "# from tensorflow.keras.layers import Dropout, Flatten, Input, Dense, BatchNormalization\n",
        "import tensorflow_hub as hub\n",
        "\n",
        "import re\n",
        "import nltk\n",
        "nltk.download('stopwords')\n",
        "nltk.download('wordnet')\n",
        "from nltk.corpus import stopwords\n",
        "from nltk.stem import WordNetLemmatizer\n",
        "\n",
        "from sklearn.model_selection import train_test_split\n",
        "\n",
        "from transformers import BertTokenizer, TFBertForSequenceClassification, DistilBertTokenizer, DistilBertConfig, TFDistilBertModel\n",
        "from transformers import InputExample, InputFeatures\n",
        "import transformers as tr\n",
        "import torch\n",
        "\n",
        "# import libraries\n",
        "\n",
        "from tqdm import tqdm\n",
        "from sklearn.feature_extraction.text import CountVectorizer\n",
        "from mlxtend.plotting import plot_confusion_matrix\n",
        "from sklearn.metrics import confusion_matrix, precision_score, recall_score\n",
        "\n",
        "from tensorflow.keras.models import Model, Sequential\n",
        "# from tensorflow.keras import layers\n",
        "from tensorflow.keras.layers import Embedding, LSTM, Conv2D, Conv1D, MaxPooling1D, Dense, Dropout, GlobalMaxPooling1D, Input, Bidirectional, concatenate, Flatten, GlobalAveragePooling1D\n",
        "from tensorflow.keras.preprocessing.text import Tokenizer\n",
        "from tensorflow.keras.optimizers import Adam\n",
        "from tensorflow.keras.preprocessing.sequence import pad_sequences\n",
        "from tensorflow.keras.callbacks import ModelCheckpoint, EarlyStopping\n",
        "from tensorflow.keras.utils import plot_model"
      ],
      "execution_count": null,
      "outputs": [
        {
          "output_type": "stream",
          "text": [
            "[nltk_data] Downloading package stopwords to /root/nltk_data...\n",
            "[nltk_data]   Unzipping corpora/stopwords.zip.\n",
            "[nltk_data] Downloading package wordnet to /root/nltk_data...\n",
            "[nltk_data]   Unzipping corpora/wordnet.zip.\n"
          ],
          "name": "stdout"
        }
      ]
    },
    {
      "cell_type": "code",
      "metadata": {
        "id": "uzPyirmfeLkp"
      },
      "source": [
        "%matplotlib inline\n",
        "np.set_printoptions(precision=3, suppress=True)"
      ],
      "execution_count": null,
      "outputs": []
    },
    {
      "cell_type": "code",
      "metadata": {
        "colab": {
          "base_uri": "https://localhost:8080/"
        },
        "id": "jYHQ-jPCeNsj",
        "outputId": "8ffe95b0-e5e2-457d-ad84-75d003cb199e"
      },
      "source": [
        "print(\"This notebook requires TensorFlow 2.0 or above\")\n",
        "print(\"TensorFlow version: \", tf.__version__)\n",
        "print(\"Keras version: \", keras.__version__)\n",
        "assert version.parse(tf.__version__).release[0] >=2"
      ],
      "execution_count": null,
      "outputs": [
        {
          "output_type": "stream",
          "text": [
            "This notebook requires TensorFlow 2.0 or above\n",
            "TensorFlow version:  2.6.0\n",
            "Keras version:  2.6.0\n"
          ],
          "name": "stdout"
        }
      ]
    },
    {
      "cell_type": "markdown",
      "metadata": {
        "id": "TejuKb2HeWWI"
      },
      "source": [
        "#### Connect Google Drive to Colab"
      ]
    },
    {
      "cell_type": "code",
      "metadata": {
        "colab": {
          "base_uri": "https://localhost:8080/"
        },
        "id": "paDdoMLfePSJ",
        "outputId": "978c65fb-c607-46cc-aa7a-e6070a77c18f"
      },
      "source": [
        "#Mount Google Drive to Colab Enviorment\n",
        "from google.colab import drive\n",
        "drive.mount('/content/gdrive', force_remount=True)"
      ],
      "execution_count": null,
      "outputs": [
        {
          "output_type": "stream",
          "text": [
            "Mounted at /content/gdrive\n"
          ],
          "name": "stdout"
        }
      ]
    },
    {
      "cell_type": "code",
      "metadata": {
        "colab": {
          "base_uri": "https://localhost:8080/"
        },
        "id": "MxwQk0GneXHh",
        "outputId": "0ffb1271-407f-4bda-9af0-bdbb958b129c"
      },
      "source": [
        "#Establish working directory\n",
        "os.getcwd()\n",
        "%cd /content/gdrive/MyDrive/458Data/Final/"
      ],
      "execution_count": null,
      "outputs": [
        {
          "output_type": "stream",
          "text": [
            "/content/gdrive/MyDrive/458Data/Final\n"
          ],
          "name": "stdout"
        }
      ]
    },
    {
      "cell_type": "markdown",
      "metadata": {
        "id": "qjhVmpRHf5fg"
      },
      "source": [
        "#### Preprocess according to Dataset Instructions"
      ]
    },
    {
      "cell_type": "code",
      "metadata": {
        "id": "fLZzzqakf6sb"
      },
      "source": [
        "DIR = './'\n",
        "DIR_GENRE = './genre/'"
      ],
      "execution_count": null,
      "outputs": []
    },
    {
      "cell_type": "code",
      "metadata": {
        "id": "t8z5_GB2rhKX"
      },
      "source": [
        "def load_data(file_name, head = 5000):\n",
        "    count = 1\n",
        "    data = []\n",
        "    with gzip.open(file_name) as fin:\n",
        "        for l in fin:\n",
        "            d = json.loads(l)\n",
        "            count += 1\n",
        "            data.append(d)\n",
        "            \n",
        "            # break if reaches the 100th line\n",
        "            if (head is not None) and (count > head):\n",
        "                break\n",
        "    return data"
      ],
      "execution_count": null,
      "outputs": []
    },
    {
      "cell_type": "code",
      "metadata": {
        "colab": {
          "base_uri": "https://localhost:8080/"
        },
        "id": "H_nt47uFrhz_",
        "outputId": "f40b312a-e112-4836-f387-b0abd6356ba9"
      },
      "source": [
        "reviews = load_data(os.path.join(DIR, 'goodreads_reviews_dedup.json.gz'))\n",
        "np.random.choice(reviews)"
      ],
      "execution_count": null,
      "outputs": [
        {
          "output_type": "execute_result",
          "data": {
            "text/plain": [
              "{'book_id': '29056083',\n",
              " 'date_added': 'Tue Aug 09 10:38:53 -0700 2016',\n",
              " 'date_updated': 'Wed Aug 10 09:32:22 -0700 2016',\n",
              " 'n_comments': 0,\n",
              " 'n_votes': 0,\n",
              " 'rating': 2,\n",
              " 'read_at': 'Thu Aug 04 00:00:00 -0700 2016',\n",
              " 'review_id': '0bc5640f507446f9f8f45c864cdb8f7c',\n",
              " 'review_text': \"** spoiler alert ** \\n This book was very disappointing. There were many issues with the play. \\n 1) The plot was all recycled from the previous novels. We've seen the Triwizard tournament before and been over how Harry's family died before and so on. \\n 2) Harry potter books always offered a lesson to readers, and again this play's 'lesson' was one already learnt in Harry Potter and the Prisoner of Azkaban. \\n 3) Characters were much weaker in comparison to their former selves, especially Ginny. \\n 4) Stage directions of heart ache and so on hinted at a homosexual relationship. This would have been nice as the series heavily missed representations of the LGBT community. \\n 5) Also, when was Bellatrix supposed to be pregnant? She couldn't have got pregnant before the fourth book as Voldemort did not have corporeal form until the end of this text, and for the fifth, sixth and seventh we see Bellatrix often. Therefore, how was she never seen to be pregnant? \\n I just found the whole thing unnecessary, not very well thought out and annoying as it messed with the past novels. Not a fan.\",\n",
              " 'started_at': 'Tue Aug 02 00:00:00 -0700 2016',\n",
              " 'user_id': '74923eed26118d852196f9aa18070272'}"
            ]
          },
          "metadata": {},
          "execution_count": 10
        }
      ]
    },
    {
      "cell_type": "code",
      "metadata": {
        "id": "mZKCJfkBPrQd"
      },
      "source": [
        "# reviews[0]['review_text']"
      ],
      "execution_count": null,
      "outputs": []
    },
    {
      "cell_type": "code",
      "metadata": {
        "colab": {
          "base_uri": "https://localhost:8080/"
        },
        "id": "de2pMPhUdq6W",
        "outputId": "95ab7381-b95f-427a-fac3-4e02f0fa87a4"
      },
      "source": [
        "len(reviews)"
      ],
      "execution_count": null,
      "outputs": [
        {
          "output_type": "execute_result",
          "data": {
            "text/plain": [
              "5000"
            ]
          },
          "metadata": {},
          "execution_count": 12
        }
      ]
    },
    {
      "cell_type": "code",
      "metadata": {
        "id": "YGMvXszKRz_7"
      },
      "source": [
        "reviewText = pd.DataFrame(reviews).drop(columns=['date_added', 'date_updated', 'read_at', 'started_at', 'user_id'])\n",
        "reviewText = reviewText[:4130]"
      ],
      "execution_count": null,
      "outputs": []
    },
    {
      "cell_type": "code",
      "metadata": {
        "colab": {
          "base_uri": "https://localhost:8080/"
        },
        "id": "HeG9CL5YTRvN",
        "outputId": "e33e58fd-9e0a-4b04-8a3b-6fdb25c567ec"
      },
      "source": [
        "reviewText.head(1)"
      ],
      "execution_count": null,
      "outputs": [
        {
          "output_type": "execute_result",
          "data": {
            "text/html": [
              "<div>\n",
              "<style scoped>\n",
              "    .dataframe tbody tr th:only-of-type {\n",
              "        vertical-align: middle;\n",
              "    }\n",
              "\n",
              "    .dataframe tbody tr th {\n",
              "        vertical-align: top;\n",
              "    }\n",
              "\n",
              "    .dataframe thead th {\n",
              "        text-align: right;\n",
              "    }\n",
              "</style>\n",
              "<table border=\"1\" class=\"dataframe\">\n",
              "  <thead>\n",
              "    <tr style=\"text-align: right;\">\n",
              "      <th></th>\n",
              "      <th>book_id</th>\n",
              "      <th>review_id</th>\n",
              "      <th>rating</th>\n",
              "      <th>review_text</th>\n",
              "      <th>n_votes</th>\n",
              "      <th>n_comments</th>\n",
              "    </tr>\n",
              "  </thead>\n",
              "  <tbody>\n",
              "    <tr>\n",
              "      <th>0</th>\n",
              "      <td>24375664</td>\n",
              "      <td>5cd416f3efc3f944fce4ce2db2290d5e</td>\n",
              "      <td>5</td>\n",
              "      <td>Mind blowingly cool. Best science fiction I've...</td>\n",
              "      <td>16</td>\n",
              "      <td>0</td>\n",
              "    </tr>\n",
              "  </tbody>\n",
              "</table>\n",
              "</div>"
            ],
            "text/plain": [
              "    book_id                         review_id  ...  n_votes n_comments\n",
              "0  24375664  5cd416f3efc3f944fce4ce2db2290d5e  ...       16          0\n",
              "\n",
              "[1 rows x 6 columns]"
            ]
          },
          "metadata": {},
          "execution_count": 14
        }
      ]
    },
    {
      "cell_type": "code",
      "metadata": {
        "id": "yDz1JWAdeDc_"
      },
      "source": [
        "data = reviewText.drop(columns=['book_id', 'review_id', 'n_votes', 'n_comments'])"
      ],
      "execution_count": null,
      "outputs": []
    },
    {
      "cell_type": "code",
      "metadata": {
        "colab": {
          "base_uri": "https://localhost:8080/"
        },
        "id": "8Y6XYKl2eVF0",
        "outputId": "c7c6aabd-d6ee-4af9-a97b-6fb6194d9d4b"
      },
      "source": [
        "reviewText['review_text']"
      ],
      "execution_count": null,
      "outputs": [
        {
          "output_type": "execute_result",
          "data": {
            "text/plain": [
              "0       Mind blowingly cool. Best science fiction I've...\n",
              "1       This is a special book. It started slow for ab...\n",
              "2       I haven't read a fun mystery book in a while a...\n",
              "3       Fun, fast paced, and disturbing tale of murder...\n",
              "4       A fun book that gives you a sense of living in...\n",
              "                              ...                        \n",
              "4125    The nature / nurture question was presented to...\n",
              "4126    I normally love Nelson Demille novels right fr...\n",
              "4127    I was sad that there won't be more novels by t...\n",
              "4128    I loved this book. I thought it was compelling...\n",
              "4129    A delightful escapte into another time. Also a...\n",
              "Name: review_text, Length: 4130, dtype: object"
            ]
          },
          "metadata": {},
          "execution_count": 16
        }
      ]
    },
    {
      "cell_type": "code",
      "metadata": {
        "id": "YYi2MXnaaqpm"
      },
      "source": [
        "train, test = train_test_split(data, test_size=0.10, random_state=1)"
      ],
      "execution_count": null,
      "outputs": []
    },
    {
      "cell_type": "code",
      "metadata": {
        "id": "eSsWJlfEemIq"
      },
      "source": [
        "train, valid = train_test_split(data, test_size=0.10, random_state=1)"
      ],
      "execution_count": null,
      "outputs": []
    },
    {
      "cell_type": "code",
      "metadata": {
        "id": "Qv22_am6e3s8"
      },
      "source": [
        "train = train.reset_index().drop(columns = ['index'])\n",
        "valid = valid.reset_index().drop(columns = ['index'])\n",
        "test = test.reset_index().drop(columns = ['index'])"
      ],
      "execution_count": null,
      "outputs": []
    },
    {
      "cell_type": "code",
      "metadata": {
        "colab": {
          "base_uri": "https://localhost:8080/"
        },
        "id": "511ZXJulSK13",
        "outputId": "9549e7a8-50db-493c-aed6-c856706a432f"
      },
      "source": [
        "len(test)"
      ],
      "execution_count": null,
      "outputs": [
        {
          "output_type": "execute_result",
          "data": {
            "text/plain": [
              "413"
            ]
          },
          "metadata": {},
          "execution_count": 20
        }
      ]
    },
    {
      "cell_type": "code",
      "metadata": {
        "id": "lrDs-XhekpZ1"
      },
      "source": [
        "# reviewText['review_text'][4130]\n"
      ],
      "execution_count": null,
      "outputs": []
    },
    {
      "cell_type": "code",
      "metadata": {
        "colab": {
          "base_uri": "https://localhost:8080/"
        },
        "id": "DD4RwmvclxSb",
        "outputId": "1d0a9968-1a2e-473f-b147-660ca6172890"
      },
      "source": [
        "len(reviewText)"
      ],
      "execution_count": null,
      "outputs": [
        {
          "output_type": "execute_result",
          "data": {
            "text/plain": [
              "4130"
            ]
          },
          "metadata": {},
          "execution_count": 22
        }
      ]
    },
    {
      "cell_type": "code",
      "metadata": {
        "id": "TF4o0htoa9_F"
      },
      "source": [
        "# manipulate descriptions into more usable strings\n",
        "# training set\n",
        "def stringBuilder(data_name):\n",
        "  documents = []\n",
        "  stemmer = WordNetLemmatizer()\n",
        "  data_name['review_text'].reset_index().drop(columns = ['index'])\n",
        "  length = len(data_name['review_text'])\n",
        "\n",
        "  for sen in range(0, length):\n",
        "      # Remove all the special characters\n",
        "      document = re.sub(r'\\W', ' ', str(data_name['review_text'][sen]))\n",
        "      \n",
        "      # remove all single characters\n",
        "      document = re.sub(r'\\s+[a-zA-Z]\\s+', ' ', document)\n",
        "      \n",
        "      # Remove single characters from the start\n",
        "      # document = re.sub(r'\\^[a-zA-Z]\\s+', ' ', document)\n",
        "      \n",
        "      # Substituting multiple spaces with single space\n",
        "      document = re.sub(r'\\s+', ' ', document, flags=re.I)\n",
        "\n",
        "      # Converting to Lowercase\n",
        "      document = document.lower()\n",
        "      \n",
        "      # Lemmatization\n",
        "      document = document.split()\n",
        "\n",
        "      document = [stemmer.lemmatize(word) for word in document]\n",
        "      document = ' '.join(document)\n",
        "      \n",
        "      documents.append(document)\n",
        "  data_name['review_text'] = documents\n",
        "  return data_name"
      ],
      "execution_count": null,
      "outputs": []
    },
    {
      "cell_type": "code",
      "metadata": {
        "id": "Mj7irHl92w89"
      },
      "source": [
        "cleanedTrain = stringBuilder(train)\n",
        "cleanedValid = stringBuilder(valid)\n",
        "cleanedTest = stringBuilder(test)"
      ],
      "execution_count": null,
      "outputs": []
    },
    {
      "cell_type": "code",
      "metadata": {
        "colab": {
          "base_uri": "https://localhost:8080/"
        },
        "id": "AEH9eD6OOCZl",
        "outputId": "1e7ddce3-fdd6-4625-b679-17934ecd8559"
      },
      "source": [
        "# len(cleanedTrain['review_text'][3])\n",
        "cleanedTrain['review_text'][1]"
      ],
      "execution_count": null,
      "outputs": [
        {
          "output_type": "execute_result",
          "data": {
            "application/vnd.google.colaboratory.intrinsic+json": {
              "type": "string"
            },
            "text/plain": [
              "'yay book about adult love it accidental alpha is allison and wade story it can definitely be read a standalone but it is recommended your read is for alpha male the first book in the series the prologue punched me in the gut and couldn even imagine where this story would go but the author treat the serious subject with humor grace and lot of alpha steam and alison loved her and all of her insecurity m more wine than grape she declared suddenly bringing my hand to stop mid squeeze wa thrilled that wade wa there for allison and he wa all man all the time and he acted with honesty and truth right up front loved the dual pov which kept this book moving along at really fast pace read this in one sitting and really enjoyed it and wade d love more hero just like him funny sexy protective he the whole package wa she wearing bra it didn look like she wa wearing bra no joke if d ever doubted it before there wa no question now wa boob man an allison boob man roll tongue back in mouth do it now allison wa reluctant to get involved with wade but hey she not immune to the tim mcgraw lookalike and his humor and gentleness combined won her over there lot of funny scene and dialogue in this book which balanced out the serious undertone d known he wa attractive god d made fool of myself the first time d noticed just how much so and arguably also the second but this time wa different this time he looked real he looked like full grown man far away from old but way the hell past boy he didn look like an imitation of tim mcgraw surrounded by the allure of being celebrity he looked like wade and he looked dangerously tempting ah crap accidental alpha is an enjoyable quick read filled with the some fantastic character there sexy time mixed right in with the great dialogue heavy subject matter and just the right amount of emotion it look like the next one to have his own story will be hunter after what happens in accidental alpha m looking forward to his book'"
            ]
          },
          "metadata": {},
          "execution_count": 25
        }
      ]
    },
    {
      "cell_type": "code",
      "metadata": {
        "id": "Vr6WUNy1PS7A"
      },
      "source": [
        "train_examples = cleanedTrain['review_text']\n",
        "train_labels = cleanedTrain['rating']\n",
        "\n",
        "valid_examples = cleanedValid['review_text']\n",
        "valid_labels = cleanedValid['rating']\n",
        "\n",
        "test_examples = cleanedTest['review_text']\n",
        "test_labels = cleanedTest['rating']"
      ],
      "execution_count": null,
      "outputs": []
    },
    {
      "cell_type": "code",
      "metadata": {
        "id": "_CTibvhnZkRM"
      },
      "source": [
        "# # initialize list for training times\n",
        "# train_times = []"
      ],
      "execution_count": null,
      "outputs": []
    },
    {
      "cell_type": "markdown",
      "metadata": {
        "id": "v6gLb5QmfUpm"
      },
      "source": [
        "#### BERT\n"
      ]
    },
    {
      "cell_type": "code",
      "metadata": {
        "id": "Chf1nJTwPwXW"
      },
      "source": [
        "def get_split(paragraph):\n",
        "  total = []\n",
        "  partial = []\n",
        "  if len(paragraph.split())//150 >0: #divide by 150 remove remainder\n",
        "    n = len(paragraph.split())//150\n",
        "  else: \n",
        "    n = 1\n",
        "  for w in range(n):\n",
        "    if w == 0:\n",
        "      partial = paragraph.split()[:200] #last portion\n",
        "      total.append(\" \".join(partial))\n",
        "    else:\n",
        "      partial = paragraph.split()[w*150:w*150 + 200] #split text and move position\n",
        "      total.append(\" \".join(partial))\n",
        "  return total"
      ],
      "execution_count": null,
      "outputs": []
    },
    {
      "cell_type": "code",
      "metadata": {
        "id": "6ppB84Q6PwXW"
      },
      "source": [
        "cleanedTrain[\"review_split\"] = cleanedTrain['review_text'].apply(get_split)"
      ],
      "execution_count": null,
      "outputs": []
    },
    {
      "cell_type": "code",
      "metadata": {
        "id": "_OttoGr9PwXX"
      },
      "source": [
        "model_class, tokenizer_class, pretrained_weights = (tr.BertModel, tr.BertTokenizer, 'bert-base-uncased')"
      ],
      "execution_count": null,
      "outputs": []
    },
    {
      "cell_type": "code",
      "metadata": {
        "colab": {
          "base_uri": "https://localhost:8080/",
          "height": 248,
          "referenced_widgets": [
            "6874ac97e95041c9a9c96095dd60a2b2",
            "1a926b4988f04fcba1b5a0bd792fa841",
            "3031fb196d8d41a3af3f7e81a1335d14",
            "68b3d730e3054df6ad6659793f5bf691",
            "23d4c7e8ad1f45bf9da85e0c469f4015",
            "5c3010e0ca6d4d228919613e3ad89f0c",
            "7bd00caa55984d988ee26957c1f8c18c",
            "cafdecd57b8a47cbb57de526b694c567",
            "b42d54020e4b4527aaf5140cea1ef505",
            "dec25f8fcf90443286c275ece34e853b",
            "e992a2b7065f470e8e2c79b78182694a",
            "b2c939057dfa49338e630d23d35ba07a",
            "1809ef5cb80c485f99e378b1efd8c392",
            "ef79d20aa4194bffabf06dc9bbd5d299",
            "a588399994f14ed582d28871deb2e132",
            "49a4cee6ebce4c0fbc300b5d8ce6c867",
            "8130be4959fd4a7da69defb7e66c5f48",
            "7424ee4173f64a17a22473698940e80c",
            "f29e40593aed4e8aa94f3b1d81d54ab7",
            "7690234ccf6443ae9a2ff79faddcf32c",
            "96f79e0ead0d45a1a7ab82a81fb8beea",
            "bdca5a4dbc534975873b4ada17de5327",
            "e3020cb9a4374a12b056ecc4c5b02d41",
            "8de68321a4a64dc09e372408d7ab4449",
            "7ed8c5f900564a72ae1dc15a926fb925",
            "528ffb6efe8e4fa7b2beb1909f32b971",
            "995020038b174e7fb07af5c59a77679f",
            "b63f4a1ae9124597b4cbe16c04344d06",
            "cb019af890624156afeb937f0e8c958b",
            "df6d05e2971a4bb68810118b0d5dbff0",
            "2d7c6a732f10493d9cbdbfe0c518a15a",
            "67cc2446b9bf4495825058b023bdd292",
            "1ef643185d054e65b0fc80ea53bd8835",
            "455477a5b3a04546b21a65df671ca084",
            "a89e9cbfe9a14b078b9382e4b332a1cd",
            "8b0ef5bbc5bb4fe18297b3e60cc1211c",
            "6e722fe05ad0484e8866417054deafdf",
            "3ff7014031cb4d5988c6774a334250de",
            "1fd21c2dc2e544cb9a6af5b996783aac",
            "a78ace3c06fb4b8c90c02e2cd01990bf",
            "a58e540faadc41ce8dbbc8d1b09be668",
            "7bd646b8134546508607db08b3ded06a",
            "4139dcc80df1414b9299f7d5b8deda68",
            "f8528be12e544d009f42d75886d2ae71",
            "a4a0de77ccaf4b1590ce3b7811418adc",
            "9fdc47843b02436b9005f68c67de5481",
            "d6e811de0dd446d0b0f004d74887f213",
            "1d345352c1654d27a0597c3f41390c2f",
            "413f7a5a48ed4b7eb984fe1f6fd239b2",
            "eb615b2a68d042dd80705ffe32f0d1df",
            "f9306ab550264aad9b0615b63fda9f47",
            "28aa51098cd348189b9a692ca7d2dac1",
            "d92db659cc794e1eada7a5d0918dd5ef",
            "4e5c174bfbe54fe9b56be53b727f1815",
            "e8bfcb41ebb54a3ebb5c067bc8b19b31"
          ]
        },
        "id": "u1wQ3Ab0PwXX",
        "outputId": "8ca96d83-f3b0-4206-fe0b-e3c003ad67b8"
      },
      "source": [
        "tokenizer = tokenizer_class.from_pretrained(pretrained_weights)\n",
        "model = model_class.from_pretrained(pretrained_weights)"
      ],
      "execution_count": null,
      "outputs": [
        {
          "output_type": "display_data",
          "data": {
            "application/vnd.jupyter.widget-view+json": {
              "model_id": "6874ac97e95041c9a9c96095dd60a2b2",
              "version_minor": 0,
              "version_major": 2
            },
            "text/plain": [
              "Downloading:   0%|          | 0.00/232k [00:00<?, ?B/s]"
            ]
          },
          "metadata": {}
        },
        {
          "output_type": "display_data",
          "data": {
            "application/vnd.jupyter.widget-view+json": {
              "model_id": "b2c939057dfa49338e630d23d35ba07a",
              "version_minor": 0,
              "version_major": 2
            },
            "text/plain": [
              "Downloading:   0%|          | 0.00/28.0 [00:00<?, ?B/s]"
            ]
          },
          "metadata": {}
        },
        {
          "output_type": "display_data",
          "data": {
            "application/vnd.jupyter.widget-view+json": {
              "model_id": "e3020cb9a4374a12b056ecc4c5b02d41",
              "version_minor": 0,
              "version_major": 2
            },
            "text/plain": [
              "Downloading:   0%|          | 0.00/466k [00:00<?, ?B/s]"
            ]
          },
          "metadata": {}
        },
        {
          "output_type": "display_data",
          "data": {
            "application/vnd.jupyter.widget-view+json": {
              "model_id": "455477a5b3a04546b21a65df671ca084",
              "version_minor": 0,
              "version_major": 2
            },
            "text/plain": [
              "Downloading:   0%|          | 0.00/570 [00:00<?, ?B/s]"
            ]
          },
          "metadata": {}
        },
        {
          "output_type": "display_data",
          "data": {
            "application/vnd.jupyter.widget-view+json": {
              "model_id": "a4a0de77ccaf4b1590ce3b7811418adc",
              "version_minor": 0,
              "version_major": 2
            },
            "text/plain": [
              "Downloading:   0%|          | 0.00/440M [00:00<?, ?B/s]"
            ]
          },
          "metadata": {}
        },
        {
          "output_type": "stream",
          "text": [
            "Some weights of the model checkpoint at bert-base-uncased were not used when initializing BertModel: ['cls.predictions.transform.dense.bias', 'cls.seq_relationship.weight', 'cls.predictions.transform.LayerNorm.weight', 'cls.predictions.transform.dense.weight', 'cls.predictions.transform.LayerNorm.bias', 'cls.predictions.bias', 'cls.seq_relationship.bias', 'cls.predictions.decoder.weight']\n",
            "- This IS expected if you are initializing BertModel from the checkpoint of a model trained on another task or with another architecture (e.g. initializing a BertForSequenceClassification model from a BertForPreTraining model).\n",
            "- This IS NOT expected if you are initializing BertModel from the checkpoint of a model that you expect to be exactly identical (initializing a BertForSequenceClassification model from a BertForSequenceClassification model).\n"
          ],
          "name": "stderr"
        }
      ]
    },
    {
      "cell_type": "code",
      "metadata": {
        "id": "ZIwCZ_MkPwXX"
      },
      "source": [
        "tokenized = cleanedTrain['review_split'].apply((lambda x: tokenizer.encode(x, add_special_tokens=True)))"
      ],
      "execution_count": null,
      "outputs": []
    },
    {
      "cell_type": "code",
      "metadata": {
        "id": "FlJwoh5DPwXX"
      },
      "source": [
        "max_len = 0\n",
        "for i in tokenized.values:\n",
        "    if len(i) > max_len:\n",
        "        max_len = len(i)\n",
        "\n",
        "padded = np.array([i + [0]*(max_len-len(i)) for i in tokenized.values])"
      ],
      "execution_count": null,
      "outputs": []
    },
    {
      "cell_type": "code",
      "metadata": {
        "colab": {
          "base_uri": "https://localhost:8080/"
        },
        "id": "VXhi5QyEPwXX",
        "outputId": "abbac5c7-c120-41b1-fca5-1353bd4241b6"
      },
      "source": [
        "np.array(padded).shape"
      ],
      "execution_count": null,
      "outputs": [
        {
          "output_type": "execute_result",
          "data": {
            "text/plain": [
              "(3717, 13)"
            ]
          },
          "metadata": {},
          "execution_count": 35
        }
      ]
    },
    {
      "cell_type": "code",
      "metadata": {
        "colab": {
          "base_uri": "https://localhost:8080/"
        },
        "id": "kYu6_vLIPwXX",
        "outputId": "fd5ece55-7100-4b4d-a018-3805d8fcc0f2"
      },
      "source": [
        "attention_mask = np.where(padded != 0, 1, 0)\n",
        "attention_mask.shape"
      ],
      "execution_count": null,
      "outputs": [
        {
          "output_type": "execute_result",
          "data": {
            "text/plain": [
              "(3717, 13)"
            ]
          },
          "metadata": {},
          "execution_count": 36
        }
      ]
    },
    {
      "cell_type": "code",
      "metadata": {
        "id": "Fv-wpIHHPwXY"
      },
      "source": [
        "input_ids = torch.tensor(padded)  \n",
        "attention_mask = torch.tensor(attention_mask)\n",
        "\n",
        "with torch.no_grad():\n",
        "    last_hidden_states = model(input_ids, attention_mask=attention_mask)"
      ],
      "execution_count": null,
      "outputs": []
    },
    {
      "cell_type": "code",
      "metadata": {
        "id": "izc44CAcPwXY"
      },
      "source": [
        "features = last_hidden_states[0][:,0,:].numpy()"
      ],
      "execution_count": null,
      "outputs": []
    },
    {
      "cell_type": "code",
      "metadata": {
        "id": "EhtT_yMzPwXY"
      },
      "source": [
        "labels = cleanedTrain['rating']"
      ],
      "execution_count": null,
      "outputs": []
    },
    {
      "cell_type": "code",
      "metadata": {
        "id": "P0X-nE-zPwXY"
      },
      "source": [
        "train_features, test_features, train_labels, test_labels = train_test_split(features, labels)"
      ],
      "execution_count": null,
      "outputs": []
    },
    {
      "cell_type": "code",
      "metadata": {
        "id": "kVCGuLP7PwXY"
      },
      "source": [
        "train_features, valid_features, train_labels, valid_labels = train_test_split(train_features, train_labels) "
      ],
      "execution_count": null,
      "outputs": []
    },
    {
      "cell_type": "code",
      "metadata": {
        "id": "oMlhaO2_QSmV"
      },
      "source": [
        "# halve the number of labels so 0,1 is a group and so on.\n",
        "train_labels = np.where((train_labels <= 1), 0,train_labels) & np.where((train_labels >= 0), 0,train_labels)\n",
        "train_labels = np.where((train_labels <= 3), 1,train_labels) & np.where((train_labels >= 2), 1,train_labels)\n",
        "train_labels = np.where((train_labels <= 5), 2,train_labels) & np.where((train_labels >= 4), 2,train_labels)\n",
        "\n",
        "valid_labels = np.where((valid_labels <= 1), 0,valid_labels) & np.where((valid_labels >= 0), 0,valid_labels)\n",
        "valid_labels = np.where((valid_labels <= 3), 1,valid_labels) & np.where((valid_labels >= 2), 1,valid_labels)\n",
        "valid_labels = np.where((valid_labels <= 5), 2,valid_labels) & np.where((valid_labels >= 4), 2,valid_labels)\n",
        "\n",
        "test_labels = np.where((test_labels <= 1), 0,test_labels) & np.where((test_labels >= 0), 0,test_labels)\n",
        "test_labels = np.where((test_labels <= 3), 1,test_labels) & np.where((test_labels >= 2), 1,test_labels)\n",
        "test_labels = np.where((test_labels <= 5), 2,test_labels) & np.where((test_labels >= 4), 2,test_labels)"
      ],
      "execution_count": null,
      "outputs": []
    },
    {
      "cell_type": "code",
      "metadata": {
        "id": "XkKaohu2QSmW"
      },
      "source": [
        "ml_model = keras.Sequential([\n",
        "                      tf.keras.layers.Reshape((1,768))       \n",
        "                      ,tf.keras.layers.Dense(3, activation= 'softmax')\n",
        "                      ])"
      ],
      "execution_count": null,
      "outputs": []
    },
    {
      "cell_type": "code",
      "metadata": {
        "id": "VST2FHQlQSmW"
      },
      "source": [
        "ml_model.compile(optimizer='nadam'\n",
        "              ,loss=tf.keras.losses.SparseCategoricalCrossentropy() # if we set from_logits=True we do not have specify a softmax activation function in the last layer\n",
        "              ,metrics=['accuracy'])"
      ],
      "execution_count": null,
      "outputs": []
    },
    {
      "cell_type": "code",
      "metadata": {
        "colab": {
          "base_uri": "https://localhost:8080/"
        },
        "id": "rCy0s7q4QSmW",
        "outputId": "d8730688-990a-42dd-dcae-e40de96708a4"
      },
      "source": [
        "ml_model_hist = ml_model.fit(train_features\n",
        "                    ,train_labels   \n",
        "                    ,epochs=20\n",
        "                    ,validation_data=(valid_features,valid_labels)\n",
        "                    ,batch_size = 15\n",
        "                    ,callbacks=[tf.keras.callbacks.EarlyStopping(monitor='accuracy', patience=2)]\n",
        "                    )"
      ],
      "execution_count": null,
      "outputs": [
        {
          "output_type": "stream",
          "text": [
            "Epoch 1/20\n",
            "140/140 [==============================] - 3s 4ms/step - loss: 0.0379 - accuracy: 0.9923 - val_loss: 0.0023 - val_accuracy: 1.0000\n",
            "Epoch 2/20\n",
            "140/140 [==============================] - 0s 3ms/step - loss: 0.0012 - accuracy: 1.0000 - val_loss: 0.0011 - val_accuracy: 1.0000\n",
            "Epoch 3/20\n",
            "140/140 [==============================] - 0s 3ms/step - loss: 5.8331e-04 - accuracy: 1.0000 - val_loss: 6.5232e-04 - val_accuracy: 1.0000\n",
            "Epoch 4/20\n",
            "140/140 [==============================] - 0s 3ms/step - loss: 3.6302e-04 - accuracy: 1.0000 - val_loss: 4.5956e-04 - val_accuracy: 1.0000\n"
          ],
          "name": "stdout"
        }
      ]
    },
    {
      "cell_type": "code",
      "metadata": {
        "colab": {
          "base_uri": "https://localhost:8080/"
        },
        "id": "FyWesWZQQSmW",
        "outputId": "4e52c342-6d31-474f-a8e5-1c4c02d00b20"
      },
      "source": [
        "test_loss, test_acc = ml_model.evaluate(test_features, test_labels)\n",
        "\n",
        "print('Test Loss: {}'.format(test_loss))\n",
        "print('Test Accuracy: {}'.format(test_acc))\n",
        "\n",
        "benchmarkacc = test_acc\n",
        "benchmarkloss = test_loss"
      ],
      "execution_count": null,
      "outputs": [
        {
          "output_type": "stream",
          "text": [
            "30/30 [==============================] - 0s 2ms/step - loss: 4.3947e-04 - accuracy: 1.0000\n",
            "Test Loss: 0.0004394697898533195\n",
            "Test Accuracy: 1.0\n"
          ],
          "name": "stdout"
        }
      ]
    },
    {
      "cell_type": "markdown",
      "metadata": {
        "id": "3GfVHqwILgvh"
      },
      "source": [
        "#### DistillBERT"
      ]
    },
    {
      "cell_type": "code",
      "metadata": {
        "id": "yzX-ZhE_VLb4"
      },
      "source": [
        "def get_split(text1):\n",
        "  l_total = []\n",
        "  l_parcial = []\n",
        "  if len(text1.split())//150 >0:\n",
        "    n = len(text1.split())//150\n",
        "  else: \n",
        "    n = 1\n",
        "  for w in range(n):\n",
        "    if w == 0:\n",
        "      l_parcial = text1.split()[:200]\n",
        "      l_total.append(\" \".join(l_parcial))\n",
        "    else:\n",
        "      l_parcial = text1.split()[w*150:w*150 + 200]\n",
        "      l_total.append(\" \".join(l_parcial))\n",
        "  return l_total"
      ],
      "execution_count": null,
      "outputs": []
    },
    {
      "cell_type": "code",
      "metadata": {
        "id": "FlkbDTDpVMBO"
      },
      "source": [
        "cleanedTrain[\"review_split\"] = cleanedTrain['review_text'].apply(get_split)"
      ],
      "execution_count": null,
      "outputs": []
    },
    {
      "cell_type": "code",
      "metadata": {
        "id": "RZi3_ngeLjUT"
      },
      "source": [
        "model_class, tokenizer_class, pretrained_weights = (tr.DistilBertModel, tr.DistilBertTokenizer, 'distilbert-base-uncased')"
      ],
      "execution_count": null,
      "outputs": []
    },
    {
      "cell_type": "code",
      "metadata": {
        "colab": {
          "base_uri": "https://localhost:8080/",
          "height": 248,
          "referenced_widgets": [
            "508f8b7e060848469f29a1547febc69f",
            "936337a91c1d433f817f5bded8bbccc5",
            "d412b3e3e7a646d4ad4dfac707edb0e0",
            "e55e73ff086542288c14c8826400a0eb",
            "c86299b765ae4864ada85b8b50df53e9",
            "6734b57d2567418892cc560dccca9aa8",
            "682c34f28f6d49caae93d9dbf2aaad2c",
            "2eea981c3c7049d98526ddba423b4358",
            "5fb22fa8a3a24a4691f3faeda6431835",
            "6a116b59c0c243429190e8d55dd63d47",
            "74d7f9fdb2b144e09dee09a235ea25fa",
            "9b8a9b9ce12e4b5db5177ed1f72b7acc",
            "7ce36cd4b1fa45f9814aced3f6d119b1",
            "e37343ff28864b0ea4d919fbd3669b00",
            "94062037d87a461bac960edba47510d7",
            "e6c510e7cd1a42109f073525d78d02a7",
            "6e5b89146cee467aa573f0c14f09ec51",
            "7a878b6532684b77a6edaf7f139df845",
            "fe63aeea1c544bdf82c9856982bc0fa9",
            "4f3149e72c224c6d8e17de9512bb0969",
            "72a1864eef3b46f987bda4363db3b0af",
            "c207aed6d3f74f42933bf793b180a10e",
            "fd92b45ad38a4243b6aa4256fa7c4d9c",
            "7e035478dba848018a9c273a3c039b7e",
            "571b0158b5934959bec4bc79d80c6757",
            "b101caa134fb48f1ad8888aec920f528",
            "c1b5f3c47a904f01918b09072a38cc7c",
            "1484aa951143428596fd39e914a07762",
            "ff6aabf126b14e898ca1cb3c1365bc1c",
            "3f45071ad80a44e1b5fb1eb19acd92d5",
            "1a0af19b8017419ea298ba8743973f26",
            "c58fe99105d5417c870b53e7b8b44d5a",
            "11e0ddd11bbb4ac3bf539f27aeebd6fb",
            "959bb0d9fc4840e2a8052e221597219f",
            "8739196dc051434fadd30e921f6f81ee",
            "658026a93db341978f28cbc4d5d440cd",
            "884809c4230b41e0ac73fb3505e351e6",
            "b01e5ac702ec40639a5505935bab3af0",
            "fb416768944c49ef8f3b6dc070ab1f70",
            "41fcd7072fdc4788befa61a6495277e8",
            "63ed4ae2bb05465b97317c5295161352",
            "23a8878986964037a3376785204945c0",
            "6b833aae230f4453a57c8df4f56af7da",
            "c57d14e9df064a85aeb8960a8a692e34",
            "bed68aa6a9064ef18a8892f4cbad7654",
            "a73df0df38434cfa9acbff14cb1bc52a",
            "56d5d9e5c2b44949851bdb7090fff584",
            "a3897e3d3b4342558468132968166ac9",
            "479c10b5e5074bc3ba26989454fda236",
            "61a1be824f904abca0d10cdd04a202d2",
            "36902bbe7b6f42929fc43e9989f05143",
            "269a38a1644642a298261dda7235ec88",
            "4041e8a560dc4d01aa8028134ba1733e",
            "a89c36252b2b48c596e4f0b7921a3e53",
            "c0261ba5ba034dbea89f008c827d245e"
          ]
        },
        "id": "O_TmI8zpMSeG",
        "outputId": "84fa10ab-da60-4c7c-e091-0b195d703130"
      },
      "source": [
        "tokenizer = tokenizer_class.from_pretrained(pretrained_weights)\n",
        "model = model_class.from_pretrained(pretrained_weights)"
      ],
      "execution_count": null,
      "outputs": [
        {
          "output_type": "display_data",
          "data": {
            "application/vnd.jupyter.widget-view+json": {
              "model_id": "508f8b7e060848469f29a1547febc69f",
              "version_minor": 0,
              "version_major": 2
            },
            "text/plain": [
              "Downloading:   0%|          | 0.00/232k [00:00<?, ?B/s]"
            ]
          },
          "metadata": {}
        },
        {
          "output_type": "display_data",
          "data": {
            "application/vnd.jupyter.widget-view+json": {
              "model_id": "9b8a9b9ce12e4b5db5177ed1f72b7acc",
              "version_minor": 0,
              "version_major": 2
            },
            "text/plain": [
              "Downloading:   0%|          | 0.00/28.0 [00:00<?, ?B/s]"
            ]
          },
          "metadata": {}
        },
        {
          "output_type": "display_data",
          "data": {
            "application/vnd.jupyter.widget-view+json": {
              "model_id": "fd92b45ad38a4243b6aa4256fa7c4d9c",
              "version_minor": 0,
              "version_major": 2
            },
            "text/plain": [
              "Downloading:   0%|          | 0.00/466k [00:00<?, ?B/s]"
            ]
          },
          "metadata": {}
        },
        {
          "output_type": "display_data",
          "data": {
            "application/vnd.jupyter.widget-view+json": {
              "model_id": "959bb0d9fc4840e2a8052e221597219f",
              "version_minor": 0,
              "version_major": 2
            },
            "text/plain": [
              "Downloading:   0%|          | 0.00/442 [00:00<?, ?B/s]"
            ]
          },
          "metadata": {}
        },
        {
          "output_type": "display_data",
          "data": {
            "application/vnd.jupyter.widget-view+json": {
              "model_id": "bed68aa6a9064ef18a8892f4cbad7654",
              "version_minor": 0,
              "version_major": 2
            },
            "text/plain": [
              "Downloading:   0%|          | 0.00/268M [00:00<?, ?B/s]"
            ]
          },
          "metadata": {}
        },
        {
          "output_type": "stream",
          "text": [
            "Some weights of the model checkpoint at distilbert-base-uncased were not used when initializing DistilBertModel: ['vocab_transform.weight', 'vocab_layer_norm.weight', 'vocab_projector.bias', 'vocab_projector.weight', 'vocab_transform.bias', 'vocab_layer_norm.bias']\n",
            "- This IS expected if you are initializing DistilBertModel from the checkpoint of a model trained on another task or with another architecture (e.g. initializing a BertForSequenceClassification model from a BertForPreTraining model).\n",
            "- This IS NOT expected if you are initializing DistilBertModel from the checkpoint of a model that you expect to be exactly identical (initializing a BertForSequenceClassification model from a BertForSequenceClassification model).\n"
          ],
          "name": "stderr"
        }
      ]
    },
    {
      "cell_type": "code",
      "metadata": {
        "id": "3nprw7IdMWDi"
      },
      "source": [
        "tokenized = cleanedTrain['review_split'].apply((lambda x: tokenizer.encode(x, add_special_tokens=True)))"
      ],
      "execution_count": null,
      "outputs": []
    },
    {
      "cell_type": "code",
      "metadata": {
        "id": "mU91tlmfN8al"
      },
      "source": [
        "max_len = 0\n",
        "for i in tokenized.values:\n",
        "    if len(i) > max_len:\n",
        "        max_len = len(i)\n",
        "\n",
        "padded = np.array([i + [0]*(max_len-len(i)) for i in tokenized.values])"
      ],
      "execution_count": null,
      "outputs": []
    },
    {
      "cell_type": "code",
      "metadata": {
        "colab": {
          "base_uri": "https://localhost:8080/"
        },
        "id": "GkqHGS_5ZVZq",
        "outputId": "9f247892-05df-41db-a9d6-1a35981ad67f"
      },
      "source": [
        "np.array(padded).shape"
      ],
      "execution_count": null,
      "outputs": [
        {
          "output_type": "execute_result",
          "data": {
            "text/plain": [
              "(3717, 13)"
            ]
          },
          "metadata": {},
          "execution_count": 53
        }
      ]
    },
    {
      "cell_type": "code",
      "metadata": {
        "colab": {
          "base_uri": "https://localhost:8080/"
        },
        "id": "ZN8DYMhbZWho",
        "outputId": "c708be5b-91eb-447e-d56c-5c5346bb188a"
      },
      "source": [
        "attention_mask = np.where(padded != 0, 1, 0)\n",
        "attention_mask.shape"
      ],
      "execution_count": null,
      "outputs": [
        {
          "output_type": "execute_result",
          "data": {
            "text/plain": [
              "(3717, 13)"
            ]
          },
          "metadata": {},
          "execution_count": 54
        }
      ]
    },
    {
      "cell_type": "code",
      "metadata": {
        "id": "JthzfOFNZZvs"
      },
      "source": [
        "input_ids = torch.tensor(padded)  \n",
        "attention_mask = torch.tensor(attention_mask)\n",
        "\n",
        "with torch.no_grad():\n",
        "    last_hidden_states = model(input_ids, attention_mask=attention_mask)"
      ],
      "execution_count": null,
      "outputs": []
    },
    {
      "cell_type": "code",
      "metadata": {
        "id": "ys4jKeaRNAVy"
      },
      "source": [
        "features = last_hidden_states[0][:,0,:].numpy()"
      ],
      "execution_count": null,
      "outputs": []
    },
    {
      "cell_type": "code",
      "metadata": {
        "id": "u3spAkBnapwe"
      },
      "source": [
        "labels = cleanedTrain['rating']"
      ],
      "execution_count": null,
      "outputs": []
    },
    {
      "cell_type": "code",
      "metadata": {
        "id": "Tkz7qMCVbBJo"
      },
      "source": [
        "train_features, test_features, train_labels, test_labels = train_test_split(features, labels)"
      ],
      "execution_count": null,
      "outputs": []
    },
    {
      "cell_type": "code",
      "metadata": {
        "id": "CVhVJysv0YS_"
      },
      "source": [
        "train_features, valid_features, train_labels, valid_labels = train_test_split(train_features, train_labels) "
      ],
      "execution_count": null,
      "outputs": []
    },
    {
      "cell_type": "markdown",
      "metadata": {
        "id": "bwKkIdbd1FAt"
      },
      "source": [
        "#### Test 1"
      ]
    },
    {
      "cell_type": "code",
      "metadata": {
        "colab": {
          "base_uri": "https://localhost:8080/"
        },
        "id": "KiG-JVmlbKqo",
        "outputId": "98ba1b00-649d-4afc-b03d-bdec638afec2"
      },
      "source": [
        "from sklearn.linear_model import LogisticRegression\n",
        "\n",
        "lr_clf = LogisticRegression(solver='lbfgs', max_iter=1000)\n",
        "lr_clf.fit(train_features, train_labels)"
      ],
      "execution_count": null,
      "outputs": [
        {
          "output_type": "execute_result",
          "data": {
            "text/plain": [
              "LogisticRegression(C=1.0, class_weight=None, dual=False, fit_intercept=True,\n",
              "                   intercept_scaling=1, l1_ratio=None, max_iter=1000,\n",
              "                   multi_class='auto', n_jobs=None, penalty='l2',\n",
              "                   random_state=None, solver='lbfgs', tol=0.0001, verbose=0,\n",
              "                   warm_start=False)"
            ]
          },
          "metadata": {},
          "execution_count": 60
        }
      ]
    },
    {
      "cell_type": "code",
      "metadata": {
        "colab": {
          "base_uri": "https://localhost:8080/"
        },
        "id": "6tG5bN9ObSzi",
        "outputId": "379b9e34-3267-44ec-fe58-0c1748aa0261"
      },
      "source": [
        "lr_clf.score(test_features, test_labels)"
      ],
      "execution_count": null,
      "outputs": [
        {
          "output_type": "execute_result",
          "data": {
            "text/plain": [
              "0.3967741935483871"
            ]
          },
          "metadata": {},
          "execution_count": 61
        }
      ]
    },
    {
      "cell_type": "code",
      "metadata": {
        "colab": {
          "base_uri": "https://localhost:8080/"
        },
        "id": "wZIPioxab7FU",
        "outputId": "0d700a9e-63fa-4787-f675-ef08b126c1fa"
      },
      "source": [
        "from sklearn.dummy import DummyClassifier\n",
        "from sklearn.model_selection import cross_val_score\n",
        "\n",
        "clf = DummyClassifier()\n",
        "\n",
        "scores = cross_val_score(clf, train_features, train_labels)\n",
        "print(\"Dummy classifier score: %0.3f (+/- %0.2f)\" % (scores.mean(), scores.std() * 2))"
      ],
      "execution_count": null,
      "outputs": [
        {
          "output_type": "stream",
          "text": [
            "Dummy classifier score: 0.304 (+/- 0.05)\n"
          ],
          "name": "stdout"
        },
        {
          "output_type": "stream",
          "text": [
            "/usr/local/lib/python3.7/dist-packages/sklearn/dummy.py:132: FutureWarning: The default value of strategy will change from stratified to prior in 0.24.\n",
            "  \"stratified to prior in 0.24.\", FutureWarning)\n"
          ],
          "name": "stderr"
        }
      ]
    },
    {
      "cell_type": "markdown",
      "metadata": {
        "id": "JWknwiIDzbBP"
      },
      "source": [
        "#### Test 2"
      ]
    },
    {
      "cell_type": "code",
      "metadata": {
        "id": "4iI9yuzgzFtb"
      },
      "source": [
        "model_6cats = keras.Sequential([\n",
        "                      tf.keras.layers.Reshape((1,768))       \n",
        "                      ,tf.keras.layers.Dense(6, activation= 'softmax')\n",
        "                      ])"
      ],
      "execution_count": null,
      "outputs": []
    },
    {
      "cell_type": "code",
      "metadata": {
        "id": "rubp9ypzzio8"
      },
      "source": [
        "model_6cats.compile(optimizer='nadam'\n",
        "              ,loss=tf.keras.losses.SparseCategoricalCrossentropy() # if we set from_logits=True we do not have specify a softmax activation function in the last layer\n",
        "              ,metrics=['accuracy'])"
      ],
      "execution_count": null,
      "outputs": []
    },
    {
      "cell_type": "code",
      "metadata": {
        "colab": {
          "base_uri": "https://localhost:8080/"
        },
        "id": "CzZtrUZnzkWe",
        "outputId": "270b1c32-55c1-4c86-8a8d-13993d36e7f5"
      },
      "source": [
        "model_6cats_hist = model_6cats.fit(train_features\n",
        "                    ,train_labels   \n",
        "                    ,epochs=20\n",
        "                    ,validation_data=(valid_features,valid_labels)\n",
        "                    ,batch_size = 15\n",
        "                    ,callbacks=[tf.keras.callbacks.EarlyStopping(monitor='accuracy', patience=2)]\n",
        "                    )"
      ],
      "execution_count": null,
      "outputs": [
        {
          "output_type": "stream",
          "text": [
            "Epoch 1/20\n",
            "140/140 [==============================] - 1s 4ms/step - loss: 1.4316 - accuracy: 0.3651 - val_loss: 1.4255 - val_accuracy: 0.4189\n",
            "Epoch 2/20\n",
            "140/140 [==============================] - 0s 3ms/step - loss: 1.4082 - accuracy: 0.3746 - val_loss: 1.4054 - val_accuracy: 0.4319\n",
            "Epoch 3/20\n",
            "140/140 [==============================] - 0s 3ms/step - loss: 1.4086 - accuracy: 0.3737 - val_loss: 1.4240 - val_accuracy: 0.3085\n",
            "Epoch 4/20\n",
            "140/140 [==============================] - 0s 3ms/step - loss: 1.4086 - accuracy: 0.3684 - val_loss: 1.4278 - val_accuracy: 0.3085\n"
          ],
          "name": "stdout"
        }
      ]
    },
    {
      "cell_type": "markdown",
      "metadata": {
        "id": "Sy6oHmpMzRQi"
      },
      "source": [
        "#### Test 3"
      ]
    },
    {
      "cell_type": "code",
      "metadata": {
        "id": "SuVKz13LzUCl"
      },
      "source": [
        "# halve the number of labels so 0,1 is a group and so on.\n",
        "train_labels = np.where((train_labels <= 1), 0,train_labels) & np.where((train_labels >= 0), 0,train_labels)\n",
        "train_labels = np.where((train_labels <= 3), 1,train_labels) & np.where((train_labels >= 2), 1,train_labels)\n",
        "train_labels = np.where((train_labels <= 5), 2,train_labels) & np.where((train_labels >= 4), 2,train_labels)\n",
        "\n",
        "valid_labels = np.where((valid_labels <= 1), 0,valid_labels) & np.where((valid_labels >= 0), 0,valid_labels)\n",
        "valid_labels = np.where((valid_labels <= 3), 1,valid_labels) & np.where((valid_labels >= 2), 1,valid_labels)\n",
        "valid_labels = np.where((valid_labels <= 5), 2,valid_labels) & np.where((valid_labels >= 4), 2,valid_labels)\n",
        "\n",
        "test_labels = np.where((test_labels <= 1), 0,test_labels) & np.where((test_labels >= 0), 0,test_labels)\n",
        "test_labels = np.where((test_labels <= 3), 1,test_labels) & np.where((test_labels >= 2), 1,test_labels)\n",
        "test_labels = np.where((test_labels <= 5), 2,test_labels) & np.where((test_labels >= 4), 2,test_labels)"
      ],
      "execution_count": null,
      "outputs": []
    },
    {
      "cell_type": "code",
      "metadata": {
        "id": "Pb8SFw-Yc2C5"
      },
      "source": [
        "ml_model = keras.Sequential([\n",
        "                      tf.keras.layers.Reshape((1,768))       \n",
        "                      ,tf.keras.layers.Dense(3, activation= 'softmax')\n",
        "                      ])"
      ],
      "execution_count": null,
      "outputs": []
    },
    {
      "cell_type": "code",
      "metadata": {
        "id": "mBEWpLCHfGL7"
      },
      "source": [
        "ml_model.compile(optimizer='nadam'\n",
        "              ,loss=tf.keras.losses.SparseCategoricalCrossentropy() # if we set from_logits=True we do not have specify a softmax activation function in the last layer\n",
        "              ,metrics=['accuracy'])"
      ],
      "execution_count": null,
      "outputs": []
    },
    {
      "cell_type": "code",
      "metadata": {
        "colab": {
          "base_uri": "https://localhost:8080/"
        },
        "id": "PX44SEbNfND9",
        "outputId": "688a44ff-f4fc-4538-e198-444165bd7cce"
      },
      "source": [
        "ml_model_hist = ml_model.fit(train_features\n",
        "                    ,train_labels   \n",
        "                    ,epochs=20\n",
        "                    ,validation_data=(valid_features,valid_labels)\n",
        "                    ,batch_size = 15\n",
        "                    ,callbacks=[tf.keras.callbacks.EarlyStopping(monitor='accuracy', patience=2)]\n",
        "                    )"
      ],
      "execution_count": null,
      "outputs": [
        {
          "output_type": "stream",
          "text": [
            "Epoch 1/20\n",
            "140/140 [==============================] - 1s 4ms/step - loss: 0.0139 - accuracy: 1.0000 - val_loss: 0.0010 - val_accuracy: 1.0000\n",
            "Epoch 2/20\n",
            "140/140 [==============================] - 0s 3ms/step - loss: 6.4723e-04 - accuracy: 1.0000 - val_loss: 3.9810e-04 - val_accuracy: 1.0000\n",
            "Epoch 3/20\n",
            "140/140 [==============================] - 0s 3ms/step - loss: 2.9743e-04 - accuracy: 1.0000 - val_loss: 2.1853e-04 - val_accuracy: 1.0000\n"
          ],
          "name": "stdout"
        }
      ]
    },
    {
      "cell_type": "code",
      "metadata": {
        "colab": {
          "base_uri": "https://localhost:8080/"
        },
        "id": "pXOL84m6qx_6",
        "outputId": "c1fa77c9-e26b-4882-caca-edcf9c73cf12"
      },
      "source": [
        "test_loss, test_acc = ml_model.evaluate(test_features, test_labels)\n",
        "\n",
        "print('Test Loss: {}'.format(test_loss))\n",
        "print('Test Accuracy: {}'.format(test_acc))\n",
        "\n",
        "benchmarkacc = test_acc\n",
        "benchmarkloss = test_loss"
      ],
      "execution_count": null,
      "outputs": [
        {
          "output_type": "stream",
          "text": [
            "30/30 [==============================] - 0s 2ms/step - loss: 2.3023e-04 - accuracy: 1.0000\n",
            "Test Loss: 0.00023022577806841582\n",
            "Test Accuracy: 1.0\n"
          ],
          "name": "stdout"
        }
      ]
    },
    {
      "cell_type": "markdown",
      "metadata": {
        "id": "ZThUwLyVwEia"
      },
      "source": [
        "#### BERT with AGNews"
      ]
    },
    {
      "cell_type": "code",
      "metadata": {
        "colab": {
          "base_uri": "https://localhost:8080/"
        },
        "id": "TXpRc0osS7j-",
        "outputId": "d5185064-2df1-4b06-d149-b1cd73e6168d"
      },
      "source": [
        "# re-download dataset for new cleaning\n",
        "!python -m tensorflow_datasets.scripts.download_and_prepare --register_checksums --datasets=ag_news_subset\n",
        "\n",
        "dataset, info = tfds.load('ag_news_subset', with_info=True,  split=['train[:95%]','train[95%:]', 'test[:]'],\n",
        "                          as_supervised=True)\n",
        "train_dataset_AG, validation_dataset_AG, test_dataset_AG = dataset"
      ],
      "execution_count": null,
      "outputs": [
        {
          "output_type": "stream",
          "text": [
            "2021-08-29 01:26:40.028721: I tensorflow/stream_executor/cuda/cuda_gpu_executor.cc:937] successful NUMA node read from SysFS had negative value (-1), but there must be at least one NUMA node, so returning NUMA node zero\n",
            "2021-08-29 01:26:40.355300: I tensorflow/stream_executor/cuda/cuda_gpu_executor.cc:937] successful NUMA node read from SysFS had negative value (-1), but there must be at least one NUMA node, so returning NUMA node zero\n",
            "2021-08-29 01:26:40.355949: I tensorflow/stream_executor/cuda/cuda_gpu_executor.cc:937] successful NUMA node read from SysFS had negative value (-1), but there must be at least one NUMA node, so returning NUMA node zero\n",
            "I0829 01:26:40.356614 140504745355136 download_and_prepare.py:200] Running download_and_prepare for dataset(s):\n",
            "ag_news_subset\n",
            "2021-08-29 01:26:40.365271: I tensorflow/core/platform/cloud/google_auth_provider.cc:180] Attempting an empty bearer token since no token was retrieved from files, and GCE metadata check was skipped.\n",
            "2021-08-29 01:26:40.456030: I tensorflow/core/platform/cloud/google_auth_provider.cc:180] Attempting an empty bearer token since no token was retrieved from files, and GCE metadata check was skipped.\n",
            "2021-08-29 01:26:40.532706: I tensorflow/core/platform/cloud/google_auth_provider.cc:180] Attempting an empty bearer token since no token was retrieved from files, and GCE metadata check was skipped.\n",
            "I0829 01:26:40.607329 140504745355136 dataset_info.py:434] Load pre-computed DatasetInfo (eg: splits, num examples,...) from GCS: ag_news_subset/1.0.0\n",
            "2021-08-29 01:26:40.615419: I tensorflow/core/platform/cloud/google_auth_provider.cc:180] Attempting an empty bearer token since no token was retrieved from files, and GCE metadata check was skipped.\n",
            "2021-08-29 01:26:40.755996: I tensorflow/core/platform/cloud/google_auth_provider.cc:180] Attempting an empty bearer token since no token was retrieved from files, and GCE metadata check was skipped.\n",
            "I0829 01:26:40.861356 140504745355136 dataset_info.py:361] Load dataset info from /tmp/tmpnd433maqtfds\n",
            "I0829 01:26:40.863109 140504745355136 download_and_prepare.py:138] download_and_prepare for dataset ag_news_subset/1.0.0...\n",
            "I0829 01:26:40.863425 140504745355136 dataset_builder.py:357] Generating dataset ag_news_subset (/root/tensorflow_datasets/ag_news_subset/1.0.0)\n",
            "\u001b[1mDownloading and preparing dataset ag_news_subset/1.0.0 (download: 11.24 MiB, generated: 35.79 MiB, total: 47.03 MiB) to /root/tensorflow_datasets/ag_news_subset/1.0.0...\u001b[0m\n",
            "2021-08-29 01:26:41.003937: I tensorflow/core/platform/cloud/google_auth_provider.cc:180] Attempting an empty bearer token since no token was retrieved from files, and GCE metadata check was skipped.\n",
            "2021-08-29 01:26:41.078145: I tensorflow/core/platform/cloud/google_auth_provider.cc:180] Attempting an empty bearer token since no token was retrieved from files, and GCE metadata check was skipped.\n",
            "Dl Completed...: 0 url [00:00, ? url/s]\n",
            "Dl Size...: 0 MiB [00:00, ? MiB/s]\u001b[A\n",
            "\n",
            "Extraction completed...: 0 file [00:00, ? file/s]\u001b[A\u001b[AI0829 01:26:41.160066 140504745355136 download_manager.py:476] Downloading https://drive.google.com/uc?export=download&id=0Bz8a_Dbh9QhbUDNpeUdjb0wxRms into /root/tensorflow_datasets/downloads/ucexport_download_id_0Bz8a_Dbh9QhbUDNpeUdjb0wxj4g1umFAV8OV-uDwxSJR0LdxO_k1jxMuFWwAfNX9jos.tmp.559125c7dd594b62b6c5a3031b3b5ffb...\n",
            "Dl Completed...:   0% 0/1 [00:00<?, ? url/s]\n",
            "Dl Size...: 0 MiB [00:00, ? MiB/s]\u001b[A\n",
            "\n",
            "Dl Completed...:   0% 0/1 [00:07<?, ? url/s]\n",
            "Dl Size...: 0 MiB [00:07, ? MiB/s]\u001b[A\n",
            "\n",
            "Extraction completed...: 0 file [00:07, ? file/s]\u001b[A\u001b[A\n",
            "Dl Completed...:   0% 0/1 [00:07<?, ? url/s]\n",
            "Dl Size...: 1 MiB [00:07,  7.19s/ MiB]\u001b[A\n",
            "\n",
            "Dl Completed...:   0% 0/1 [00:07<?, ? url/s]\n",
            "Dl Size...: 2 MiB [00:07,  7.19s/ MiB]\u001b[A\n",
            "\n",
            "Dl Completed...:   0% 0/1 [00:07<?, ? url/s]\n",
            "Dl Size...: 3 MiB [00:07,  7.19s/ MiB]\u001b[A\n",
            "\n",
            "Dl Completed...:   0% 0/1 [00:07<?, ? url/s]\n",
            "Dl Size...: 4 MiB [00:07,  7.19s/ MiB]\u001b[A\n",
            "\n",
            "Dl Completed...:   0% 0/1 [00:07<?, ? url/s]\n",
            "Dl Size...: 5 MiB [00:07,  7.19s/ MiB]\u001b[A\n",
            "\n",
            "Dl Completed...:   0% 0/1 [00:07<?, ? url/s]\n",
            "Dl Size...: 6 MiB [00:07,  7.19s/ MiB]\u001b[A\n",
            "\n",
            "Dl Completed...:   0% 0/1 [00:07<?, ? url/s]\n",
            "Dl Size...: 7 MiB [00:07,  7.19s/ MiB]\u001b[A\n",
            "\n",
            "Extraction completed...: 0 file [00:07, ? file/s]\u001b[A\u001b[A\n",
            "Dl Completed...:   0% 0/1 [00:07<?, ? url/s]\n",
            "Dl Size...: 8 MiB [00:07,  1.48 MiB/s]\u001b[A\n",
            "\n",
            "Dl Completed...:   0% 0/1 [00:07<?, ? url/s]\n",
            "Dl Size...: 9 MiB [00:07,  1.48 MiB/s]\u001b[A\n",
            "\n",
            "Dl Completed...:   0% 0/1 [00:07<?, ? url/s]\n",
            "Dl Size...: 10 MiB [00:07,  1.48 MiB/s]\u001b[A\n",
            "\n",
            "Dl Completed...:   0% 0/1 [00:07<?, ? url/s]\n",
            "Dl Size...: 11 MiB [00:07,  1.48 MiB/s]\u001b[A\n",
            "\n",
            "Dl Completed...: 100% 1/1 [00:07<00:00,  7.38s/ url]\n",
            "Dl Size...: 11 MiB [00:07,  1.48 MiB/s]\u001b[A\n",
            "\n",
            "Dl Completed...: 100% 1/1 [00:07<00:00,  7.38s/ url]\n",
            "Dl Size...: 11 MiB [00:07,  1.48 MiB/s]\u001b[A\n",
            "\n",
            "Extraction completed...:   0% 0/1 [00:07<?, ? file/s]\u001b[A\u001b[A\n",
            "\n",
            "Dl Completed...: 100% 1/1 [00:07<00:00,  7.38s/ url]\n",
            "Dl Size...: 11 MiB [00:07,  1.48 MiB/s]\u001b[A\n",
            "\n",
            "Extraction completed...: 100% 1/1 [00:07<00:00,  7.68s/ file]\u001b[A\u001b[A\n",
            "Extraction completed...: 100% 1/1 [00:07<00:00,  7.69s/ file]\n",
            "\n",
            "Dl Size...: 11 MiB [00:07,  1.43 MiB/s]\n",
            "\n",
            "Dl Completed...: 100% 1/1 [00:07<00:00,  7.69s/ url]\n",
            "I0829 01:26:48.844497 140504745355136 dataset_builder.py:970] Generating split train\n",
            "Shuffling and writing examples to /root/tensorflow_datasets/ag_news_subset/1.0.0.incompleteWSWZQD/ag_news_subset-train.tfrecord\n",
            " 88% 105418/120000 [00:00<00:00, 409029.36 examples/s]I0829 01:27:09.368467 140504745355136 tfrecords_writer.py:226] Done writing /root/tensorflow_datasets/ag_news_subset/1.0.0.incompleteWSWZQD/ag_news_subset-train.tfrecord. Shard lengths: [120000]\n",
            "I0829 01:27:09.370569 140504745355136 dataset_builder.py:970] Generating split test\n",
            "Shuffling and writing examples to /root/tensorflow_datasets/ag_news_subset/1.0.0.incompleteWSWZQD/ag_news_subset-test.tfrecord\n",
            "  0% 0/7600 [00:00<?, ? examples/s]I0829 01:27:10.666511 140504745355136 tfrecords_writer.py:226] Done writing /root/tensorflow_datasets/ag_news_subset/1.0.0.incompleteWSWZQD/ag_news_subset-test.tfrecord. Shard lengths: [7600]\n",
            "I0829 01:27:10.667878 140504745355136 dataset_builder.py:412] Skipping computing stats for mode ComputeStatsMode.SKIP.\n",
            "\u001b[1mDataset ag_news_subset downloaded and prepared to /root/tensorflow_datasets/ag_news_subset/1.0.0. Subsequent calls will reuse this data.\u001b[0m\n",
            "\u001b[1mname: \"ag_news_subset\"\n",
            "description: \"AG is a collection of more than 1 million news articles.\\nNews articles have been gathered from more than 2000  news sources by ComeToMyHead in more than 1 year of activity.\\nComeToMyHead is an academic news search engine which has been running since July, 2004.\\nThe dataset is provided by the academic comunity for research purposes in data mining (clustering, classification, etc),\\ninformation retrieval (ranking, search, etc), xml, data compression, data streaming,\\nand any other non-commercial activity.\\nFor more information, please refer to the link http://www.di.unipi.it/~gulli/AG_corpus_of_news_articles.html .\\n\\nThe AG\\'s news topic classification dataset is constructed by Xiang Zhang (xiang.zhang@nyu.edu) from the dataset above.\\nIt is used as a text classification benchmark in the following paper:\\nXiang Zhang, Junbo Zhao, Yann LeCun. Character-level Convolutional Networks for Text Classification. Advances in Neural Information Processing Systems 28 (NIPS 2015).\\n\\nThe AG\\'s news topic classification dataset is constructed by choosing 4 largest classes from the original corpus.\\nEach class contains 30,000 training samples and 1,900 testing samples.\\nThe total number of training samples is 120,000 and testing 7,600.\"\n",
            "citation: \"@misc{zhang2015characterlevel,\\n    title={Character-level Convolutional Networks for Text Classification},\\n    author={Xiang Zhang and Junbo Zhao and Yann LeCun},\\n    year={2015},\\n    eprint={1509.01626},\\n    archivePrefix={arXiv},\\n    primaryClass={cs.LG}\\n}\"\n",
            "location {\n",
            "  urls: \"https://arxiv.org/abs/1509.01626\"\n",
            "}\n",
            "splits {\n",
            "  name: \"test\"\n",
            "  shard_lengths: 7600\n",
            "  num_bytes: 2226751\n",
            "}\n",
            "splits {\n",
            "  name: \"train\"\n",
            "  shard_lengths: 120000\n",
            "  num_bytes: 35301386\n",
            "}\n",
            "supervised_keys {\n",
            "  input: \"description\"\n",
            "  output: \"label\"\n",
            "}\n",
            "version: \"1.0.0\"\n",
            "download_size: 11784327\n",
            "\u001b[0m\n"
          ],
          "name": "stdout"
        },
        {
          "output_type": "stream",
          "text": [
            "INFO:absl:Load dataset info from /root/tensorflow_datasets/ag_news_subset/1.0.0\n",
            "INFO:absl:Reusing dataset ag_news_subset (/root/tensorflow_datasets/ag_news_subset/1.0.0)\n",
            "INFO:absl:Constructing tf.data.Dataset for split ['train[:95%]', 'train[95%:]', 'test[:]'], from /root/tensorflow_datasets/ag_news_subset/1.0.0\n"
          ],
          "name": "stderr"
        }
      ]
    },
    {
      "cell_type": "code",
      "metadata": {
        "id": "2nC9q_aCY2nL"
      },
      "source": [
        "train_AG = pd.DataFrame(tfds.as_dataframe(train_dataset_AG.take(len(train_dataset_AG)),info))\n",
        "test_AG =  pd.DataFrame(tfds.as_dataframe(test_dataset_AG.take(len(test_dataset_AG)),info))"
      ],
      "execution_count": null,
      "outputs": []
    },
    {
      "cell_type": "code",
      "metadata": {
        "id": "zrmU-55-S_qR"
      },
      "source": [
        "# manipulate descriptions into more usable strings\n",
        "def stringBuilderAG(data_name):\n",
        "  documents = []\n",
        "  stemmer = WordNetLemmatizer()\n",
        "  data_name['description']\n",
        "  length = len(data_name['description'])\n",
        "\n",
        "  for sen in range(0, length):\n",
        "      # Remove all the special characters\n",
        "      document = re.sub(r'\\W', ' ', str(data_name['description'][sen]))\n",
        "      \n",
        "      # remove all single characters\n",
        "      document = re.sub(r'\\s+[a-zA-Z]\\s+', ' ', document)\n",
        "      \n",
        "      # Remove single characters from the start\n",
        "      document = re.sub(r'\\^[a-zA-Z]\\s+', ' ', document)\n",
        "      \n",
        "      # Substituting multiple spaces with single space\n",
        "      document = re.sub(r'\\s+', ' ', document, flags=re.I)\n",
        "\n",
        "      # Removing prefixed 'b'\n",
        "      document = re.sub(r'^b\\s+', '', document)\n",
        "    \n",
        "      # Removing quot\n",
        "      document = re.sub(r'quot', '', document)\n",
        "\n",
        "      # Removing 39\n",
        "      document = re.sub(r'39', '', document)\n",
        "\n",
        "      # Converting to Lowercase\n",
        "      document = document.lower()\n",
        "      \n",
        "      # Lemmatization\n",
        "      document = document.split()\n",
        "\n",
        "      document = [stemmer.lemmatize(word) for word in document]\n",
        "      document = ' '.join(document)\n",
        "      \n",
        "      documents.append(document)\n",
        "  data_name['description'] = documents\n",
        "  return data_name"
      ],
      "execution_count": null,
      "outputs": []
    },
    {
      "cell_type": "code",
      "metadata": {
        "id": "806sASaFTFAl"
      },
      "source": [
        "cleanedTrainAG = stringBuilderAG(train_AG)\n",
        "cleanedTestAG = stringBuilderAG(test_AG)"
      ],
      "execution_count": null,
      "outputs": []
    },
    {
      "cell_type": "code",
      "metadata": {
        "id": "1CorEYGzTcS_"
      },
      "source": [
        "# cleanedTrainAG[\"review_split\"] = cleanedTrainAG['description'].apply(get_split)\n",
        "# cleanedTestAG[\"review_split\"] = cleanedTestAG['description'].apply(get_split)"
      ],
      "execution_count": null,
      "outputs": []
    },
    {
      "cell_type": "code",
      "metadata": {
        "id": "WpQN3hAfwRDO"
      },
      "source": [
        "# take fraction sample of original data\n",
        "cleanedTrainAG = cleanedTrainAG.sample(frac = 0.05, random_state=1, replace=False)\n",
        "cleanedValidAG = cleanedTrainAG.sample(frac = 0.05, random_state=1, replace=False)\n",
        "cleanedTestAG = cleanedTestAG.sample(frac = 0.05, random_state=1, replace=False)"
      ],
      "execution_count": null,
      "outputs": []
    },
    {
      "cell_type": "code",
      "metadata": {
        "colab": {
          "base_uri": "https://localhost:8080/",
          "height": 145,
          "referenced_widgets": [
            "3e791c36eaa24feaa1e97c0ca340f802",
            "893076d7adcd4a7fbb3b6fa5f1222b1c",
            "55812b63821d47febdf4e960037cefb5",
            "706516d57b614a5bb1c29b3eb4768215",
            "a5e7e6f8bc194ae5a5d2eb3ad9507c90",
            "4089c7151ca1404e9705b32252a5be1b",
            "ff73de40f1714131bf8b71c0a0812d0c",
            "a38a08830daf4ca0b7d1a043b1756ba9",
            "f5dc61afbe2b4323babc7406f7c7f55a",
            "32f9ee91670246c68fde011bbfb4c1d5",
            "f79611dfb176488d8cefa06167050ba8",
            "2d3e86e40b9e4cefad2ea337ac2bc447",
            "949750dcc1d444a989d04309dc94f3e5",
            "7a80b753fe2f484cb17b4871130b19a6",
            "727bd7cf2ca14088a12a6fd0ab7ab0b1",
            "a651f266c6694944a7c91a4e3adab1b8",
            "c7d155f18d0145ecb08c051bdced9c9c",
            "21fcb58ea53847a2958d703662519f66",
            "ef9cff2d0a9b464299480520f4aa0a14",
            "a5771726b81c422d99e4b44ad1dd632f",
            "3294db61e98743449b2ff4262c1dfb55",
            "81193d9c37cd465688f37f25b4a59344",
            "b1ffb0b8af624f12ae9cd8473dcf4c46",
            "398a94ed53c943c8be29e2959ac2173b",
            "e5ff3d6c820242c8b684df1e688390b7",
            "7e7dbef3d79d4815b0c18daec1ad70d0",
            "62b78cc94a6b4a01b6250c7f9cc97bd8",
            "c72ae0f985fc4f4dae3a628309c3a67e",
            "b41aa69b6bd64ae8a0ba9caf854265c1",
            "92e654abaa2d4c62a5f37925a6f200f7",
            "e8eb3a1db17b4a2b9957fae7b824db98",
            "2157c5c39f5e469683ad24f2c45a5548",
            "7f5891a50cac48e9b4f3e9e68e65b833",
            "a1f71ebb364e4067837fa9197c87fc89",
            "1fb74d0af3e040978ab54126369345dc",
            "5d8ac3538f4c4802abf43e53949e8e82",
            "736571f430d5410983c719acb6605a76",
            "e9d2975d75ea44f8a3a27906a51c86e2",
            "6d2e56e56023407bba922e69335e1340",
            "629230fb267c4ed888d52c614bdf6466",
            "5f9413aa9abb4253a302349e2102d237",
            "ddc665f807aa4f47b81b3f1d256449c0",
            "00ad766f68a642debf3cbf4e7cff20a6",
            "df33d81806614d4da0a32a868583ee6a"
          ]
        },
        "id": "zpqvvynodxzf",
        "outputId": "1ffbeaf7-3f59-49c2-d000-daa5beb0029c"
      },
      "source": [
        "from transformers import DistilBertTokenizer, DistilBertConfig, TFDistilBertModel\n",
        "from tqdm import tqdm\n",
        "\n",
        "maxlen = cleanedTrainAG['description'].map(lambda x: len(x.split())).max()\n",
        "\n",
        "vocab_size = 20000\n",
        "embed_size = 32\n",
        "distil_bert = 'distilbert-base-uncased'\n",
        "\n",
        "tokenizer = DistilBertTokenizer.from_pretrained(distil_bert, do_lower_case=True, add_special_tokens=True,\n",
        "                                                max_length=maxlen, pad_to_max_length=True)\n",
        "\n",
        "def tokenize(sentences, tokenizer):\n",
        "    input_ids, input_masks, input_segments = [],[],[]\n",
        "\n",
        "    for sentence in tqdm(sentences):\n",
        "        inputs = tokenizer.encode_plus(sentence, add_special_tokens=True, max_length=maxlen, pad_to_max_length=True, \n",
        "                                             return_attention_mask=True, return_token_type_ids=True)\n",
        "        input_ids.append(inputs['input_ids'])\n",
        "        input_masks.append(inputs['attention_mask'])\n",
        "        input_segments.append(inputs['token_type_ids'])        \n",
        "    input_ids = tf.convert_to_tensor(input_ids)\n",
        "    input_masks = tf.convert_to_tensor(input_masks)\n",
        "    input_segments = tf.convert_to_tensor(input_segments)\n",
        "    \n",
        "    # return np.asarray(input_ids, dtype='int32'), np.asarray(input_masks, dtype='int32'), np.asarray(input_segments, dtype='int32')\n",
        "    return input_ids, input_masks, input_segments"
      ],
      "execution_count": null,
      "outputs": [
        {
          "output_type": "display_data",
          "data": {
            "application/vnd.jupyter.widget-view+json": {
              "model_id": "3e791c36eaa24feaa1e97c0ca340f802",
              "version_minor": 0,
              "version_major": 2
            },
            "text/plain": [
              "Downloading:   0%|          | 0.00/232k [00:00<?, ?B/s]"
            ]
          },
          "metadata": {}
        },
        {
          "output_type": "display_data",
          "data": {
            "application/vnd.jupyter.widget-view+json": {
              "model_id": "2d3e86e40b9e4cefad2ea337ac2bc447",
              "version_minor": 0,
              "version_major": 2
            },
            "text/plain": [
              "Downloading:   0%|          | 0.00/28.0 [00:00<?, ?B/s]"
            ]
          },
          "metadata": {}
        },
        {
          "output_type": "display_data",
          "data": {
            "application/vnd.jupyter.widget-view+json": {
              "model_id": "b1ffb0b8af624f12ae9cd8473dcf4c46",
              "version_minor": 0,
              "version_major": 2
            },
            "text/plain": [
              "Downloading:   0%|          | 0.00/466k [00:00<?, ?B/s]"
            ]
          },
          "metadata": {}
        },
        {
          "output_type": "display_data",
          "data": {
            "application/vnd.jupyter.widget-view+json": {
              "model_id": "a1f71ebb364e4067837fa9197c87fc89",
              "version_minor": 0,
              "version_major": 2
            },
            "text/plain": [
              "Downloading:   0%|          | 0.00/442 [00:00<?, ?B/s]"
            ]
          },
          "metadata": {}
        }
      ]
    },
    {
      "cell_type": "code",
      "metadata": {
        "colab": {
          "base_uri": "https://localhost:8080/"
        },
        "id": "4eBtV-Z-gtXp",
        "outputId": "c979f682-52db-48a3-c757-f83b39a3622d"
      },
      "source": [
        "# Tokenize desc and title train data\n",
        "X_train = tokenize(cleanedTrainAG['description'], tokenizer)\n",
        "x_valid = tokenize(cleanedValidAG['description'], tokenizer)\n",
        "x_test = tokenize(cleanedTestAG['description'], tokenizer)"
      ],
      "execution_count": null,
      "outputs": [
        {
          "output_type": "stream",
          "text": [
            "  0%|          | 0/5700 [00:00<?, ?it/s]Truncation was not explicitly activated but `max_length` is provided a specific value, please use `truncation=True` to explicitly truncate examples to max length. Defaulting to 'longest_first' truncation strategy. If you encode pairs of sequences (GLUE-style) with the tokenizer you can select this strategy more precisely by providing a specific strategy to `truncation`.\n",
            "/usr/local/lib/python3.7/dist-packages/transformers/tokenization_utils_base.py:2190: FutureWarning: The `pad_to_max_length` argument is deprecated and will be removed in a future version, use `padding=True` or `padding='longest'` to pad to the longest sequence in the batch, or use `padding='max_length'` to pad to a max length. In this case, you can give a specific length with `max_length` (e.g. `max_length=45`) or leave max_length to None to pad to the maximal input size of the model (e.g. 512 for Bert).\n",
            "  FutureWarning,\n",
            "100%|██████████| 5700/5700 [00:04<00:00, 1167.78it/s]\n",
            "100%|██████████| 285/285 [00:00<00:00, 1140.56it/s]\n",
            "100%|██████████| 380/380 [00:00<00:00, 1194.63it/s]\n"
          ],
          "name": "stderr"
        }
      ]
    },
    {
      "cell_type": "code",
      "metadata": {
        "colab": {
          "base_uri": "https://localhost:8080/",
          "height": 1000,
          "referenced_widgets": [
            "5f7d435c5d2f4f74922c10f06764506a",
            "29c9a6f9d7574e7eb0907a3809a928da",
            "e8ae9d9787cb402283dce2506643d647",
            "6cbc3443cea2496aa51a33797e603ca4",
            "91df9bca4b5f430fa507f6e34ffa53a4",
            "f98cc19cc6eb4421bfa696367ee303fc",
            "53b1d431cccd4ec6aeb34231765ef9b3",
            "348e9c671f0c4a9d94c9f1d46ebac511",
            "48ea3a834b83436ebbee866df5c3a537",
            "955dc838ff10462386fefaed6088f440",
            "8b55ba9cd1d94a948702837adba8fd66"
          ]
        },
        "id": "0ZsHoF5uhVIQ",
        "outputId": "549d9a3a-10e5-4aed-e715-1a9d3da34123"
      },
      "source": [
        "config = DistilBertConfig(dropout=0.2, attention_dropout=0.2)\n",
        "config.output_hidden_states = False\n",
        "transformer_model = TFDistilBertModel.from_pretrained(distil_bert, config=config)\n",
        "\n",
        "input_ids_in = tf.keras.layers.Input(shape=(maxlen,), name='input_token', dtype='int32')\n",
        "input_masks_in = tf.keras.layers.Input(shape=(maxlen,), name='masked_token', dtype='int32') \n",
        "input_segments_in = tf.keras.layers.Input(shape=(maxlen,), name='segment_token', dtype='int32')\n",
        "\n",
        "embedding_layer = transformer_model(input_ids_in, attention_mask = input_masks_in)[0]\n",
        "X = tf.keras.layers.Bidirectional(tf.keras.layers.LSTM(64, return_sequences=True))(embedding_layer)\n",
        "X = tf.keras.layers.GlobalMaxPool1D()(X)\n",
        "X = tf.keras.layers.Dense(64, activation='relu')(X)\n",
        "X = tf.keras.layers.Dropout(0.6)(X)\n",
        "X = tf.keras.layers.Dense(4, activation='sigmoid')(X)\n",
        "# X = layers.concatenate([input_ids_in, input_masks_in])\n",
        "model = tf.keras.Model([input_ids_in, input_masks_in, input_segments_in], outputs = X)\n",
        "\n",
        "for layer in model.layers[:3]:\n",
        "    layer.trainable = False\n",
        "\n",
        "model.summary()"
      ],
      "execution_count": null,
      "outputs": [
        {
          "output_type": "display_data",
          "data": {
            "application/vnd.jupyter.widget-view+json": {
              "model_id": "5f7d435c5d2f4f74922c10f06764506a",
              "version_minor": 0,
              "version_major": 2
            },
            "text/plain": [
              "Downloading:   0%|          | 0.00/363M [00:00<?, ?B/s]"
            ]
          },
          "metadata": {}
        },
        {
          "output_type": "stream",
          "text": [
            "Some layers from the model checkpoint at distilbert-base-uncased were not used when initializing TFDistilBertModel: ['vocab_layer_norm', 'activation_13', 'vocab_transform', 'vocab_projector']\n",
            "- This IS expected if you are initializing TFDistilBertModel from the checkpoint of a model trained on another task or with another architecture (e.g. initializing a BertForSequenceClassification model from a BertForPreTraining model).\n",
            "- This IS NOT expected if you are initializing TFDistilBertModel from the checkpoint of a model that you expect to be exactly identical (initializing a BertForSequenceClassification model from a BertForSequenceClassification model).\n",
            "All the layers of TFDistilBertModel were initialized from the model checkpoint at distilbert-base-uncased.\n",
            "If your task is similar to the task the model of the checkpoint was trained on, you can already use TFDistilBertModel for predictions without further training.\n"
          ],
          "name": "stderr"
        },
        {
          "output_type": "stream",
          "text": [
            "WARNING:tensorflow:The parameters `output_attentions`, `output_hidden_states` and `use_cache` cannot be updated when calling a model.They have to be set to True/False in the config object (i.e.: `config=XConfig.from_pretrained('name', output_attentions=True)`).\n",
            "WARNING:tensorflow:AutoGraph could not transform <bound method Socket.send of <zmq.Socket(zmq.PUSH) at 0x7fe1d3227f30>> and will run it as-is.\n",
            "Please report this to the TensorFlow team. When filing the bug, set the verbosity to 10 (on Linux, `export AUTOGRAPH_VERBOSITY=10`) and attach the full output.\n",
            "Cause: module, class, method, function, traceback, frame, or code object was expected, got cython_function_or_method\n",
            "To silence this warning, decorate the function with @tf.autograph.experimental.do_not_convert\n"
          ],
          "name": "stdout"
        },
        {
          "output_type": "stream",
          "text": [
            "WARNING:tensorflow:AutoGraph could not transform <bound method Socket.send of <zmq.Socket(zmq.PUSH) at 0x7fe1d3227f30>> and will run it as-is.\n",
            "Please report this to the TensorFlow team. When filing the bug, set the verbosity to 10 (on Linux, `export AUTOGRAPH_VERBOSITY=10`) and attach the full output.\n",
            "Cause: module, class, method, function, traceback, frame, or code object was expected, got cython_function_or_method\n",
            "To silence this warning, decorate the function with @tf.autograph.experimental.do_not_convert\n"
          ],
          "name": "stderr"
        },
        {
          "output_type": "stream",
          "text": [
            "WARNING: AutoGraph could not transform <bound method Socket.send of <zmq.Socket(zmq.PUSH) at 0x7fe1d3227f30>> and will run it as-is.\n",
            "Please report this to the TensorFlow team. When filing the bug, set the verbosity to 10 (on Linux, `export AUTOGRAPH_VERBOSITY=10`) and attach the full output.\n",
            "Cause: module, class, method, function, traceback, frame, or code object was expected, got cython_function_or_method\n",
            "To silence this warning, decorate the function with @tf.autograph.experimental.do_not_convert\n"
          ],
          "name": "stdout"
        },
        {
          "output_type": "stream",
          "text": [
            "WARNING:tensorflow:The parameters `output_attentions`, `output_hidden_states` and `use_cache` cannot be updated when calling a model.They have to be set to True/False in the config object (i.e.: `config=XConfig.from_pretrained('name', output_attentions=True)`).\n"
          ],
          "name": "stderr"
        },
        {
          "output_type": "stream",
          "text": [
            "WARNING:tensorflow:AutoGraph could not transform <function wrap at 0x7fe1fe3dd950> and will run it as-is.\n",
            "Cause: while/else statement not yet supported\n",
            "To silence this warning, decorate the function with @tf.autograph.experimental.do_not_convert\n"
          ],
          "name": "stdout"
        },
        {
          "output_type": "stream",
          "text": [
            "WARNING:tensorflow:AutoGraph could not transform <function wrap at 0x7fe1fe3dd950> and will run it as-is.\n",
            "Cause: while/else statement not yet supported\n",
            "To silence this warning, decorate the function with @tf.autograph.experimental.do_not_convert\n"
          ],
          "name": "stderr"
        },
        {
          "output_type": "stream",
          "text": [
            "WARNING:tensorflow:The parameter `return_dict` cannot be set in graph mode and will always be set to `True`.\n",
            "WARNING: AutoGraph could not transform <function wrap at 0x7fe1fe3dd950> and will run it as-is.\n",
            "Cause: while/else statement not yet supported\n",
            "To silence this warning, decorate the function with @tf.autograph.experimental.do_not_convert\n"
          ],
          "name": "stdout"
        },
        {
          "output_type": "stream",
          "text": [
            "WARNING:tensorflow:The parameter `return_dict` cannot be set in graph mode and will always be set to `True`.\n"
          ],
          "name": "stderr"
        },
        {
          "output_type": "stream",
          "text": [
            "Model: \"model\"\n",
            "__________________________________________________________________________________________________\n",
            "Layer (type)                    Output Shape         Param #     Connected to                     \n",
            "==================================================================================================\n",
            "input_token (InputLayer)        [(None, 155)]        0                                            \n",
            "__________________________________________________________________________________________________\n",
            "masked_token (InputLayer)       [(None, 155)]        0                                            \n",
            "__________________________________________________________________________________________________\n",
            "tf_distil_bert_model (TFDistilB TFBaseModelOutput(la 66362880    input_token[0][0]                \n",
            "                                                                 masked_token[0][0]               \n",
            "__________________________________________________________________________________________________\n",
            "bidirectional (Bidirectional)   (None, 155, 128)     426496      tf_distil_bert_model[0][0]       \n",
            "__________________________________________________________________________________________________\n",
            "global_max_pooling1d (GlobalMax (None, 128)          0           bidirectional[0][0]              \n",
            "__________________________________________________________________________________________________\n",
            "dense (Dense)                   (None, 64)           8256        global_max_pooling1d[0][0]       \n",
            "__________________________________________________________________________________________________\n",
            "dropout_19 (Dropout)            (None, 64)           0           dense[0][0]                      \n",
            "__________________________________________________________________________________________________\n",
            "segment_token (InputLayer)      [(None, 155)]        0                                            \n",
            "__________________________________________________________________________________________________\n",
            "dense_1 (Dense)                 (None, 4)            260         dropout_19[0][0]                 \n",
            "==================================================================================================\n",
            "Total params: 66,797,892\n",
            "Trainable params: 435,012\n",
            "Non-trainable params: 66,362,880\n",
            "__________________________________________________________________________________________________\n"
          ],
          "name": "stdout"
        }
      ]
    },
    {
      "cell_type": "code",
      "metadata": {
        "colab": {
          "base_uri": "https://localhost:8080/"
        },
        "id": "lrXlTHWW6nCs",
        "outputId": "2bd9b12b-5e03-4c49-a809-751bd0a59bb3"
      },
      "source": [
        "embedding_layer"
      ],
      "execution_count": null,
      "outputs": [
        {
          "output_type": "execute_result",
          "data": {
            "text/plain": [
              "<KerasTensor: shape=(None, 155, 768) dtype=float32 (created by layer 'tf_distil_bert_model')>"
            ]
          },
          "metadata": {},
          "execution_count": 36
        }
      ]
    },
    {
      "cell_type": "code",
      "metadata": {
        "id": "bquMQBNphZrY"
      },
      "source": [
        "from tensorflow.keras.callbacks import ModelCheckpoint, EarlyStopping\n",
        "\n",
        "callbacks = [\n",
        "    ModelCheckpoint(\n",
        "        filepath='weights.h5',\n",
        "        monitor='val_accuracy', \n",
        "        mode='max', \n",
        "        save_best_only=True,\n",
        "        save_weights_only=True,\n",
        "        verbose=1\n",
        "    )\n",
        "]"
      ],
      "execution_count": null,
      "outputs": []
    },
    {
      "cell_type": "code",
      "metadata": {
        "id": "P_6V96vCi3EQ"
      },
      "source": [
        "y_train = cleanedTrainAG['label']\n",
        "y_valid = cleanedValidAG['label']\n",
        "y_test = cleanedTestAG['label']"
      ],
      "execution_count": null,
      "outputs": []
    },
    {
      "cell_type": "code",
      "metadata": {
        "colab": {
          "base_uri": "https://localhost:8080/"
        },
        "id": "DUWk0Gcc-SsZ",
        "outputId": "4f4e5aaf-b527-4bc6-9a20-62eef2b0203b"
      },
      "source": [
        "len(X_train)"
      ],
      "execution_count": null,
      "outputs": [
        {
          "output_type": "execute_result",
          "data": {
            "text/plain": [
              "3"
            ]
          },
          "metadata": {},
          "execution_count": 39
        }
      ]
    },
    {
      "cell_type": "code",
      "metadata": {
        "colab": {
          "base_uri": "https://localhost:8080/"
        },
        "id": "N7Z6M2rGhchw",
        "outputId": "777b9497-3ec6-463e-cf40-13a15fd45ea2"
      },
      "source": [
        "model.compile(loss='sparse_categorical_crossentropy', optimizer='adam', metrics=['accuracy'])\n",
        "model_history = model.fit(X_train, y_train, batch_size=512, validation_data=(x_valid, y_valid), epochs=10, callbacks=[tf.keras.callbacks.EarlyStopping(monitor='val_accuracy', patience=2)])"
      ],
      "execution_count": null,
      "outputs": [
        {
          "output_type": "stream",
          "text": [
            "Epoch 1/10\n",
            "WARNING:tensorflow:The parameters `output_attentions`, `output_hidden_states` and `use_cache` cannot be updated when calling a model.They have to be set to True/False in the config object (i.e.: `config=XConfig.from_pretrained('name', output_attentions=True)`).\n"
          ],
          "name": "stdout"
        },
        {
          "output_type": "stream",
          "text": [
            "WARNING:tensorflow:The parameters `output_attentions`, `output_hidden_states` and `use_cache` cannot be updated when calling a model.They have to be set to True/False in the config object (i.e.: `config=XConfig.from_pretrained('name', output_attentions=True)`).\n"
          ],
          "name": "stderr"
        },
        {
          "output_type": "stream",
          "text": [
            "WARNING:tensorflow:The parameter `return_dict` cannot be set in graph mode and will always be set to `True`.\n"
          ],
          "name": "stdout"
        },
        {
          "output_type": "stream",
          "text": [
            "WARNING:tensorflow:The parameter `return_dict` cannot be set in graph mode and will always be set to `True`.\n"
          ],
          "name": "stderr"
        },
        {
          "output_type": "stream",
          "text": [
            "WARNING:tensorflow:The parameters `output_attentions`, `output_hidden_states` and `use_cache` cannot be updated when calling a model.They have to be set to True/False in the config object (i.e.: `config=XConfig.from_pretrained('name', output_attentions=True)`).\n"
          ],
          "name": "stdout"
        },
        {
          "output_type": "stream",
          "text": [
            "WARNING:tensorflow:The parameters `output_attentions`, `output_hidden_states` and `use_cache` cannot be updated when calling a model.They have to be set to True/False in the config object (i.e.: `config=XConfig.from_pretrained('name', output_attentions=True)`).\n"
          ],
          "name": "stderr"
        },
        {
          "output_type": "stream",
          "text": [
            "WARNING:tensorflow:The parameter `return_dict` cannot be set in graph mode and will always be set to `True`.\n"
          ],
          "name": "stdout"
        },
        {
          "output_type": "stream",
          "text": [
            "WARNING:tensorflow:The parameter `return_dict` cannot be set in graph mode and will always be set to `True`.\n"
          ],
          "name": "stderr"
        },
        {
          "output_type": "stream",
          "text": [
            "12/12 [==============================] - ETA: 0s - loss: 0.9729 - accuracy: 0.6351WARNING:tensorflow:The parameters `output_attentions`, `output_hidden_states` and `use_cache` cannot be updated when calling a model.They have to be set to True/False in the config object (i.e.: `config=XConfig.from_pretrained('name', output_attentions=True)`).\n"
          ],
          "name": "stdout"
        },
        {
          "output_type": "stream",
          "text": [
            "WARNING:tensorflow:The parameters `output_attentions`, `output_hidden_states` and `use_cache` cannot be updated when calling a model.They have to be set to True/False in the config object (i.e.: `config=XConfig.from_pretrained('name', output_attentions=True)`).\n"
          ],
          "name": "stderr"
        },
        {
          "output_type": "stream",
          "text": [
            "WARNING:tensorflow:The parameter `return_dict` cannot be set in graph mode and will always be set to `True`.\n"
          ],
          "name": "stdout"
        },
        {
          "output_type": "stream",
          "text": [
            "WARNING:tensorflow:The parameter `return_dict` cannot be set in graph mode and will always be set to `True`.\n"
          ],
          "name": "stderr"
        },
        {
          "output_type": "stream",
          "text": [
            "\b\b\b\b\b\b\b\b\b\b\b\b\b\b\b\b\b\b\b\b\b\b\b\b\b\b\b\b\b\b\b\b\b\b\b\b\b\b\b\b\b\b\b\b\b\b\b\b\b\b\b\b\b\b\b\b\b\b\b\b\b\b\b\b\b\b\b\b\b\b\b\b\b\b\b\b\b\b\b\b\b\b\r12/12 [==============================] - 43s 3s/step - loss: 0.9729 - accuracy: 0.6351 - val_loss: 0.4396 - val_accuracy: 0.8561\n",
            "Epoch 2/10\n",
            "12/12 [==============================] - 33s 3s/step - loss: 0.5267 - accuracy: 0.8321 - val_loss: 0.3333 - val_accuracy: 0.8877\n",
            "Epoch 3/10\n",
            "12/12 [==============================] - 35s 3s/step - loss: 0.4594 - accuracy: 0.8611 - val_loss: 0.3452 - val_accuracy: 0.8947\n",
            "Epoch 4/10\n",
            "12/12 [==============================] - 34s 3s/step - loss: 0.4367 - accuracy: 0.8609 - val_loss: 0.3043 - val_accuracy: 0.8982\n",
            "Epoch 5/10\n",
            "12/12 [==============================] - 34s 3s/step - loss: 0.4134 - accuracy: 0.8661 - val_loss: 0.3055 - val_accuracy: 0.9053\n",
            "Epoch 6/10\n",
            "12/12 [==============================] - 34s 3s/step - loss: 0.3950 - accuracy: 0.8786 - val_loss: 0.3119 - val_accuracy: 0.8982\n",
            "Epoch 7/10\n",
            "12/12 [==============================] - 34s 3s/step - loss: 0.3834 - accuracy: 0.8858 - val_loss: 0.2853 - val_accuracy: 0.9053\n"
          ],
          "name": "stdout"
        }
      ]
    },
    {
      "cell_type": "code",
      "metadata": {
        "colab": {
          "base_uri": "https://localhost:8080/"
        },
        "id": "RMj-UvCOwzit",
        "outputId": "2d63d7c5-adcb-41f3-9f3e-dad2667189e3"
      },
      "source": [
        "test_loss, test_acc = model.evaluate(x_test, y_test)\n",
        "\n",
        "print('Test Loss: {}'.format(test_loss))\n",
        "print('Test Accuracy: {}'.format(test_acc))\n",
        "\n",
        "benchmarkacc = test_acc\n",
        "benchmarkloss = test_loss"
      ],
      "execution_count": null,
      "outputs": [
        {
          "output_type": "stream",
          "text": [
            "12/12 [==============================] - 2s 174ms/step - loss: 0.3830 - accuracy: 0.8816\n",
            "Test Loss: 0.38302671909332275\n",
            "Test Accuracy: 0.8815789222717285\n"
          ],
          "name": "stdout"
        }
      ]
    },
    {
      "cell_type": "code",
      "metadata": {
        "colab": {
          "base_uri": "https://localhost:8080/"
        },
        "id": "tRWwxys3zqDG",
        "outputId": "b615946d-4b3e-4e63-ba57-9fff3c1e10a7"
      },
      "source": [
        "preds = model.predict(x_test)"
      ],
      "execution_count": null,
      "outputs": [
        {
          "output_type": "stream",
          "text": [
            "WARNING:tensorflow:The parameters `output_attentions`, `output_hidden_states` and `use_cache` cannot be updated when calling a model.They have to be set to True/False in the config object (i.e.: `config=XConfig.from_pretrained('name', output_attentions=True)`).\n"
          ],
          "name": "stdout"
        },
        {
          "output_type": "stream",
          "text": [
            "WARNING:tensorflow:The parameters `output_attentions`, `output_hidden_states` and `use_cache` cannot be updated when calling a model.They have to be set to True/False in the config object (i.e.: `config=XConfig.from_pretrained('name', output_attentions=True)`).\n"
          ],
          "name": "stderr"
        },
        {
          "output_type": "stream",
          "text": [
            "WARNING:tensorflow:The parameter `return_dict` cannot be set in graph mode and will always be set to `True`.\n"
          ],
          "name": "stdout"
        },
        {
          "output_type": "stream",
          "text": [
            "WARNING:tensorflow:The parameter `return_dict` cannot be set in graph mode and will always be set to `True`.\n"
          ],
          "name": "stderr"
        }
      ]
    },
    {
      "cell_type": "code",
      "metadata": {
        "colab": {
          "base_uri": "https://localhost:8080/",
          "height": 250
        },
        "id": "bzlkG8EB0F3F",
        "outputId": "a8e06895-d3ef-4f17-fa23-1ac6c29d119c"
      },
      "source": [
        "cm = sns.light_palette((260, 75, 60), input=\"husl\", as_cmap=True)\n",
        "df = pd.DataFrame(preds[0:10],columns = ['World','Sports','Business','Sci/Tech'])\n",
        "df.style.format(\"{:.2%}\").background_gradient(cmap=cm)"
      ],
      "execution_count": null,
      "outputs": [
        {
          "output_type": "execute_result",
          "data": {
            "text/html": [
              "<style  type=\"text/css\" >\n",
              "#T_39b1cb12_0869_11ec_a031_0242ac1c0002row0_col0,#T_39b1cb12_0869_11ec_a031_0242ac1c0002row1_col1,#T_39b1cb12_0869_11ec_a031_0242ac1c0002row4_col1,#T_39b1cb12_0869_11ec_a031_0242ac1c0002row5_col3,#T_39b1cb12_0869_11ec_a031_0242ac1c0002row6_col0,#T_39b1cb12_0869_11ec_a031_0242ac1c0002row7_col1,#T_39b1cb12_0869_11ec_a031_0242ac1c0002row9_col2{\n",
              "            background-color:  #778ce4;\n",
              "            color:  #000000;\n",
              "        }#T_39b1cb12_0869_11ec_a031_0242ac1c0002row0_col1,#T_39b1cb12_0869_11ec_a031_0242ac1c0002row8_col1,#T_39b1cb12_0869_11ec_a031_0242ac1c0002row9_col1{\n",
              "            background-color:  #eff0f2;\n",
              "            color:  #000000;\n",
              "        }#T_39b1cb12_0869_11ec_a031_0242ac1c0002row0_col2,#T_39b1cb12_0869_11ec_a031_0242ac1c0002row1_col3,#T_39b1cb12_0869_11ec_a031_0242ac1c0002row4_col3{\n",
              "            background-color:  #ecedf2;\n",
              "            color:  #000000;\n",
              "        }#T_39b1cb12_0869_11ec_a031_0242ac1c0002row0_col3{\n",
              "            background-color:  #e9ebf1;\n",
              "            color:  #000000;\n",
              "        }#T_39b1cb12_0869_11ec_a031_0242ac1c0002row1_col0{\n",
              "            background-color:  #afbaea;\n",
              "            color:  #000000;\n",
              "        }#T_39b1cb12_0869_11ec_a031_0242ac1c0002row1_col2{\n",
              "            background-color:  #dee1f0;\n",
              "            color:  #000000;\n",
              "        }#T_39b1cb12_0869_11ec_a031_0242ac1c0002row2_col0{\n",
              "            background-color:  #bac3ec;\n",
              "            color:  #000000;\n",
              "        }#T_39b1cb12_0869_11ec_a031_0242ac1c0002row2_col1,#T_39b1cb12_0869_11ec_a031_0242ac1c0002row4_col2,#T_39b1cb12_0869_11ec_a031_0242ac1c0002row5_col0,#T_39b1cb12_0869_11ec_a031_0242ac1c0002row7_col3{\n",
              "            background-color:  #f0f1f2;\n",
              "            color:  #000000;\n",
              "        }#T_39b1cb12_0869_11ec_a031_0242ac1c0002row2_col2,#T_39b1cb12_0869_11ec_a031_0242ac1c0002row3_col0{\n",
              "            background-color:  #7a8ee4;\n",
              "            color:  #000000;\n",
              "        }#T_39b1cb12_0869_11ec_a031_0242ac1c0002row2_col3{\n",
              "            background-color:  #c9d0ee;\n",
              "            color:  #000000;\n",
              "        }#T_39b1cb12_0869_11ec_a031_0242ac1c0002row3_col1{\n",
              "            background-color:  #ebecf2;\n",
              "            color:  #000000;\n",
              "        }#T_39b1cb12_0869_11ec_a031_0242ac1c0002row3_col2{\n",
              "            background-color:  #edeef2;\n",
              "            color:  #000000;\n",
              "        }#T_39b1cb12_0869_11ec_a031_0242ac1c0002row3_col3{\n",
              "            background-color:  #d7dbef;\n",
              "            color:  #000000;\n",
              "        }#T_39b1cb12_0869_11ec_a031_0242ac1c0002row4_col0{\n",
              "            background-color:  #a2b0e9;\n",
              "            color:  #000000;\n",
              "        }#T_39b1cb12_0869_11ec_a031_0242ac1c0002row5_col1{\n",
              "            background-color:  #efeff2;\n",
              "            color:  #000000;\n",
              "        }#T_39b1cb12_0869_11ec_a031_0242ac1c0002row5_col2{\n",
              "            background-color:  #b0bbea;\n",
              "            color:  #000000;\n",
              "        }#T_39b1cb12_0869_11ec_a031_0242ac1c0002row6_col1{\n",
              "            background-color:  #f0f0f2;\n",
              "            color:  #000000;\n",
              "        }#T_39b1cb12_0869_11ec_a031_0242ac1c0002row6_col2{\n",
              "            background-color:  #e9eaf1;\n",
              "            color:  #000000;\n",
              "        }#T_39b1cb12_0869_11ec_a031_0242ac1c0002row6_col3{\n",
              "            background-color:  #ebedf2;\n",
              "            color:  #000000;\n",
              "        }#T_39b1cb12_0869_11ec_a031_0242ac1c0002row7_col0{\n",
              "            background-color:  #a0aee9;\n",
              "            color:  #000000;\n",
              "        }#T_39b1cb12_0869_11ec_a031_0242ac1c0002row7_col2,#T_39b1cb12_0869_11ec_a031_0242ac1c0002row8_col3{\n",
              "            background-color:  #eaebf1;\n",
              "            color:  #000000;\n",
              "        }#T_39b1cb12_0869_11ec_a031_0242ac1c0002row8_col0{\n",
              "            background-color:  #788ce4;\n",
              "            color:  #000000;\n",
              "        }#T_39b1cb12_0869_11ec_a031_0242ac1c0002row8_col2{\n",
              "            background-color:  #cbd1ee;\n",
              "            color:  #000000;\n",
              "        }#T_39b1cb12_0869_11ec_a031_0242ac1c0002row9_col0{\n",
              "            background-color:  #bcc5ec;\n",
              "            color:  #000000;\n",
              "        }#T_39b1cb12_0869_11ec_a031_0242ac1c0002row9_col3{\n",
              "            background-color:  #cdd4ee;\n",
              "            color:  #000000;\n",
              "        }</style><table id=\"T_39b1cb12_0869_11ec_a031_0242ac1c0002\" ><thead>    <tr>        <th class=\"blank level0\" ></th>        <th class=\"col_heading level0 col0\" >World</th>        <th class=\"col_heading level0 col1\" >Sports</th>        <th class=\"col_heading level0 col2\" >Business</th>        <th class=\"col_heading level0 col3\" >Sci/Tech</th>    </tr></thead><tbody>\n",
              "                <tr>\n",
              "                        <th id=\"T_39b1cb12_0869_11ec_a031_0242ac1c0002level0_row0\" class=\"row_heading level0 row0\" >0</th>\n",
              "                        <td id=\"T_39b1cb12_0869_11ec_a031_0242ac1c0002row0_col0\" class=\"data row0 col0\" >99.14%</td>\n",
              "                        <td id=\"T_39b1cb12_0869_11ec_a031_0242ac1c0002row0_col1\" class=\"data row0 col1\" >6.29%</td>\n",
              "                        <td id=\"T_39b1cb12_0869_11ec_a031_0242ac1c0002row0_col2\" class=\"data row0 col2\" >15.45%</td>\n",
              "                        <td id=\"T_39b1cb12_0869_11ec_a031_0242ac1c0002row0_col3\" class=\"data row0 col3\" >12.16%</td>\n",
              "            </tr>\n",
              "            <tr>\n",
              "                        <th id=\"T_39b1cb12_0869_11ec_a031_0242ac1c0002level0_row1\" class=\"row_heading level0 row1\" >1</th>\n",
              "                        <td id=\"T_39b1cb12_0869_11ec_a031_0242ac1c0002row1_col0\" class=\"data row1 col0\" >58.21%</td>\n",
              "                        <td id=\"T_39b1cb12_0869_11ec_a031_0242ac1c0002row1_col1\" class=\"data row1 col1\" >99.25%</td>\n",
              "                        <td id=\"T_39b1cb12_0869_11ec_a031_0242ac1c0002row1_col2\" class=\"data row1 col2\" >25.39%</td>\n",
              "                        <td id=\"T_39b1cb12_0869_11ec_a031_0242ac1c0002row1_col3\" class=\"data row1 col3\" >10.19%</td>\n",
              "            </tr>\n",
              "            <tr>\n",
              "                        <th id=\"T_39b1cb12_0869_11ec_a031_0242ac1c0002level0_row2\" class=\"row_heading level0 row2\" >2</th>\n",
              "                        <td id=\"T_39b1cb12_0869_11ec_a031_0242ac1c0002row2_col0\" class=\"data row2 col0\" >50.16%</td>\n",
              "                        <td id=\"T_39b1cb12_0869_11ec_a031_0242ac1c0002row2_col1\" class=\"data row2 col1\" >5.41%</td>\n",
              "                        <td id=\"T_39b1cb12_0869_11ec_a031_0242ac1c0002row2_col2\" class=\"data row2 col2\" >95.13%</td>\n",
              "                        <td id=\"T_39b1cb12_0869_11ec_a031_0242ac1c0002row2_col3\" class=\"data row2 col3\" >35.89%</td>\n",
              "            </tr>\n",
              "            <tr>\n",
              "                        <th id=\"T_39b1cb12_0869_11ec_a031_0242ac1c0002level0_row3\" class=\"row_heading level0 row3\" >3</th>\n",
              "                        <td id=\"T_39b1cb12_0869_11ec_a031_0242ac1c0002row3_col0\" class=\"data row3 col0\" >97.05%</td>\n",
              "                        <td id=\"T_39b1cb12_0869_11ec_a031_0242ac1c0002row3_col1\" class=\"data row3 col1\" >9.55%</td>\n",
              "                        <td id=\"T_39b1cb12_0869_11ec_a031_0242ac1c0002row3_col2\" class=\"data row3 col2\" >15.10%</td>\n",
              "                        <td id=\"T_39b1cb12_0869_11ec_a031_0242ac1c0002row3_col3\" class=\"data row3 col3\" >25.85%</td>\n",
              "            </tr>\n",
              "            <tr>\n",
              "                        <th id=\"T_39b1cb12_0869_11ec_a031_0242ac1c0002level0_row4\" class=\"row_heading level0 row4\" >4</th>\n",
              "                        <td id=\"T_39b1cb12_0869_11ec_a031_0242ac1c0002row4_col0\" class=\"data row4 col0\" >67.55%</td>\n",
              "                        <td id=\"T_39b1cb12_0869_11ec_a031_0242ac1c0002row4_col1\" class=\"data row4 col1\" >99.42%</td>\n",
              "                        <td id=\"T_39b1cb12_0869_11ec_a031_0242ac1c0002row4_col2\" class=\"data row4 col2\" >12.45%</td>\n",
              "                        <td id=\"T_39b1cb12_0869_11ec_a031_0242ac1c0002row4_col3\" class=\"data row4 col3\" >9.92%</td>\n",
              "            </tr>\n",
              "            <tr>\n",
              "                        <th id=\"T_39b1cb12_0869_11ec_a031_0242ac1c0002level0_row5\" class=\"row_heading level0 row5\" >5</th>\n",
              "                        <td id=\"T_39b1cb12_0869_11ec_a031_0242ac1c0002row5_col0\" class=\"data row5 col0\" >10.83%</td>\n",
              "                        <td id=\"T_39b1cb12_0869_11ec_a031_0242ac1c0002row5_col1\" class=\"data row5 col1\" >6.87%</td>\n",
              "                        <td id=\"T_39b1cb12_0869_11ec_a031_0242ac1c0002row5_col2\" class=\"data row5 col2\" >57.66%</td>\n",
              "                        <td id=\"T_39b1cb12_0869_11ec_a031_0242ac1c0002row5_col3\" class=\"data row5 col3\" >96.62%</td>\n",
              "            </tr>\n",
              "            <tr>\n",
              "                        <th id=\"T_39b1cb12_0869_11ec_a031_0242ac1c0002level0_row6\" class=\"row_heading level0 row6\" >6</th>\n",
              "                        <td id=\"T_39b1cb12_0869_11ec_a031_0242ac1c0002row6_col0\" class=\"data row6 col0\" >99.13%</td>\n",
              "                        <td id=\"T_39b1cb12_0869_11ec_a031_0242ac1c0002row6_col1\" class=\"data row6 col1\" >6.08%</td>\n",
              "                        <td id=\"T_39b1cb12_0869_11ec_a031_0242ac1c0002row6_col2\" class=\"data row6 col2\" >17.77%</td>\n",
              "                        <td id=\"T_39b1cb12_0869_11ec_a031_0242ac1c0002row6_col3\" class=\"data row6 col3\" >10.59%</td>\n",
              "            </tr>\n",
              "            <tr>\n",
              "                        <th id=\"T_39b1cb12_0869_11ec_a031_0242ac1c0002level0_row7\" class=\"row_heading level0 row7\" >7</th>\n",
              "                        <td id=\"T_39b1cb12_0869_11ec_a031_0242ac1c0002row7_col0\" class=\"data row7 col0\" >68.82%</td>\n",
              "                        <td id=\"T_39b1cb12_0869_11ec_a031_0242ac1c0002row7_col1\" class=\"data row7 col1\" >99.36%</td>\n",
              "                        <td id=\"T_39b1cb12_0869_11ec_a031_0242ac1c0002row7_col2\" class=\"data row7 col2\" >17.31%</td>\n",
              "                        <td id=\"T_39b1cb12_0869_11ec_a031_0242ac1c0002row7_col3\" class=\"data row7 col3\" >6.83%</td>\n",
              "            </tr>\n",
              "            <tr>\n",
              "                        <th id=\"T_39b1cb12_0869_11ec_a031_0242ac1c0002level0_row8\" class=\"row_heading level0 row8\" >8</th>\n",
              "                        <td id=\"T_39b1cb12_0869_11ec_a031_0242ac1c0002row8_col0\" class=\"data row8 col0\" >98.26%</td>\n",
              "                        <td id=\"T_39b1cb12_0869_11ec_a031_0242ac1c0002row8_col1\" class=\"data row8 col1\" >6.36%</td>\n",
              "                        <td id=\"T_39b1cb12_0869_11ec_a031_0242ac1c0002row8_col2\" class=\"data row8 col2\" >38.75%</td>\n",
              "                        <td id=\"T_39b1cb12_0869_11ec_a031_0242ac1c0002row8_col3\" class=\"data row8 col3\" >11.97%</td>\n",
              "            </tr>\n",
              "            <tr>\n",
              "                        <th id=\"T_39b1cb12_0869_11ec_a031_0242ac1c0002level0_row9\" class=\"row_heading level0 row9\" >9</th>\n",
              "                        <td id=\"T_39b1cb12_0869_11ec_a031_0242ac1c0002row9_col0\" class=\"data row9 col0\" >48.64%</td>\n",
              "                        <td id=\"T_39b1cb12_0869_11ec_a031_0242ac1c0002row9_col1\" class=\"data row9 col1\" >6.38%</td>\n",
              "                        <td id=\"T_39b1cb12_0869_11ec_a031_0242ac1c0002row9_col2\" class=\"data row9 col2\" >97.38%</td>\n",
              "                        <td id=\"T_39b1cb12_0869_11ec_a031_0242ac1c0002row9_col3\" class=\"data row9 col3\" >32.65%</td>\n",
              "            </tr>\n",
              "    </tbody></table>"
            ],
            "text/plain": [
              "<pandas.io.formats.style.Styler at 0x7fe08d982190>"
            ]
          },
          "metadata": {},
          "execution_count": 43
        }
      ]
    },
    {
      "cell_type": "code",
      "metadata": {
        "colab": {
          "base_uri": "https://localhost:8080/"
        },
        "id": "cDXwdc3F0JjD",
        "outputId": "3bcbf6b3-b226-44a0-ed3c-11e87f03d4ec"
      },
      "source": [
        "history_dictionary = model_history.history\n",
        "history_dictionary.keys()"
      ],
      "execution_count": null,
      "outputs": [
        {
          "output_type": "execute_result",
          "data": {
            "text/plain": [
              "dict_keys(['loss', 'accuracy', 'val_loss', 'val_accuracy'])"
            ]
          },
          "metadata": {},
          "execution_count": 44
        }
      ]
    },
    {
      "cell_type": "code",
      "metadata": {
        "colab": {
          "base_uri": "https://localhost:8080/",
          "height": 204
        },
        "id": "iN83M7oQ1DVZ",
        "outputId": "5420f021-0de2-4db8-b07f-6308c70e7b1e"
      },
      "source": [
        "history_dictionary_df=pd.DataFrame(history_dictionary)\n",
        "history_dictionary_df.tail().round(3)"
      ],
      "execution_count": null,
      "outputs": [
        {
          "output_type": "execute_result",
          "data": {
            "text/html": [
              "<div>\n",
              "<style scoped>\n",
              "    .dataframe tbody tr th:only-of-type {\n",
              "        vertical-align: middle;\n",
              "    }\n",
              "\n",
              "    .dataframe tbody tr th {\n",
              "        vertical-align: top;\n",
              "    }\n",
              "\n",
              "    .dataframe thead th {\n",
              "        text-align: right;\n",
              "    }\n",
              "</style>\n",
              "<table border=\"1\" class=\"dataframe\">\n",
              "  <thead>\n",
              "    <tr style=\"text-align: right;\">\n",
              "      <th></th>\n",
              "      <th>loss</th>\n",
              "      <th>accuracy</th>\n",
              "      <th>val_loss</th>\n",
              "      <th>val_accuracy</th>\n",
              "    </tr>\n",
              "  </thead>\n",
              "  <tbody>\n",
              "    <tr>\n",
              "      <th>2</th>\n",
              "      <td>0.459</td>\n",
              "      <td>0.861</td>\n",
              "      <td>0.345</td>\n",
              "      <td>0.895</td>\n",
              "    </tr>\n",
              "    <tr>\n",
              "      <th>3</th>\n",
              "      <td>0.437</td>\n",
              "      <td>0.861</td>\n",
              "      <td>0.304</td>\n",
              "      <td>0.898</td>\n",
              "    </tr>\n",
              "    <tr>\n",
              "      <th>4</th>\n",
              "      <td>0.413</td>\n",
              "      <td>0.866</td>\n",
              "      <td>0.306</td>\n",
              "      <td>0.905</td>\n",
              "    </tr>\n",
              "    <tr>\n",
              "      <th>5</th>\n",
              "      <td>0.395</td>\n",
              "      <td>0.879</td>\n",
              "      <td>0.312</td>\n",
              "      <td>0.898</td>\n",
              "    </tr>\n",
              "    <tr>\n",
              "      <th>6</th>\n",
              "      <td>0.383</td>\n",
              "      <td>0.886</td>\n",
              "      <td>0.285</td>\n",
              "      <td>0.905</td>\n",
              "    </tr>\n",
              "  </tbody>\n",
              "</table>\n",
              "</div>"
            ],
            "text/plain": [
              "    loss  accuracy  val_loss  val_accuracy\n",
              "2  0.459     0.861     0.345         0.895\n",
              "3  0.437     0.861     0.304         0.898\n",
              "4  0.413     0.866     0.306         0.905\n",
              "5  0.395     0.879     0.312         0.898\n",
              "6  0.383     0.886     0.285         0.905"
            ]
          },
          "metadata": {},
          "execution_count": 45
        }
      ]
    },
    {
      "cell_type": "code",
      "metadata": {
        "id": "inn-KTtd1IjH"
      },
      "source": [
        "losses = model_history.history['loss']\n",
        "accs = model_history.history['accuracy']\n",
        "val_losses = model_history.history['val_loss']\n",
        "val_accs = model_history.history['val_accuracy']\n",
        "epochs = len(losses)"
      ],
      "execution_count": null,
      "outputs": []
    },
    {
      "cell_type": "code",
      "metadata": {
        "colab": {
          "base_uri": "https://localhost:8080/",
          "height": 267
        },
        "id": "8MVJ7O2-1LVM",
        "outputId": "341e5b0b-0f94-47f8-9d5b-ff62e9524649"
      },
      "source": [
        "plt.figure(figsize=(16, 4))\n",
        "for i, metrics in enumerate(zip([losses, accs], [val_losses, val_accs], ['Loss', 'Accuracy'])):\n",
        "    plt.subplot(1, 2, i + 1)\n",
        "    plt.plot(range(epochs), metrics[0], label='Training {}'.format(metrics[2]))\n",
        "    plt.plot(range(epochs), metrics[1], label='Validation {}'.format(metrics[2]))\n",
        "    plt.legend()\n",
        "plt.show()"
      ],
      "execution_count": null,
      "outputs": [
        {
          "output_type": "display_data",
          "data": {
            "image/png": "[encoded data removed]",
            "text/plain": [
              "<Figure size 1152x288 with 2 Axes>"
            ]
          },
          "metadata": {
            "needs_background": "light"
          }
        }
      ]
    },
    {
      "cell_type": "markdown",
      "metadata": {
        "id": "y_AX-sT-gDAZ"
      },
      "source": [
        "#### PCA for visualization"
      ]
    },
    {
      "cell_type": "code",
      "metadata": {
        "colab": {
          "base_uri": "https://localhost:8080/"
        },
        "id": "hSxGTyiYgKzy",
        "outputId": "f10bff31-c807-4f3d-8288-a7cf81f48858"
      },
      "source": [
        "# Extracts the outputs of the 2 layers:\n",
        "layer_outputs = [layer.output for layer in model.layers]\n",
        "\n",
        "# Creates a model that will return these outputs, given the model input:\n",
        "activation_model = models.Model(inputs=model.input, outputs=layer_outputs)\n",
        "\n",
        "print(f\"There are {len(layer_outputs)} layers\")\n",
        "layer_outputs; # description of the layers"
      ],
      "execution_count": null,
      "outputs": [
        {
          "output_type": "stream",
          "text": [
            "There are 9 layers\n"
          ],
          "name": "stdout"
        }
      ]
    },
    {
      "cell_type": "code",
      "metadata": {
        "colab": {
          "base_uri": "https://localhost:8080/"
        },
        "id": "RC2gcIS1i0zY",
        "outputId": "7d0bee87-c36c-4a86-a329-702ddda99f05"
      },
      "source": [
        "# Get the outputs of all the hidden nodes for each of the 60000 training images\n",
        "activations = activation_model.predict(X_train)\n",
        "hidden_layer_activation = activations[0]\n",
        "output_layer_activations = activations[1]\n",
        "hidden_layer_activation.shape   #  each of the 128 hidden nodes has one activation value per training image"
      ],
      "execution_count": null,
      "outputs": [
        {
          "output_type": "stream",
          "text": [
            "WARNING:tensorflow:The parameters `output_attentions`, `output_hidden_states` and `use_cache` cannot be updated when calling a model.They have to be set to True/False in the config object (i.e.: `config=XConfig.from_pretrained('name', output_attentions=True)`).\n"
          ],
          "name": "stdout"
        },
        {
          "output_type": "stream",
          "text": [
            "WARNING:tensorflow:The parameters `output_attentions`, `output_hidden_states` and `use_cache` cannot be updated when calling a model.They have to be set to True/False in the config object (i.e.: `config=XConfig.from_pretrained('name', output_attentions=True)`).\n"
          ],
          "name": "stderr"
        },
        {
          "output_type": "stream",
          "text": [
            "WARNING:tensorflow:The parameter `return_dict` cannot be set in graph mode and will always be set to `True`.\n"
          ],
          "name": "stdout"
        },
        {
          "output_type": "stream",
          "text": [
            "WARNING:tensorflow:The parameter `return_dict` cannot be set in graph mode and will always be set to `True`.\n"
          ],
          "name": "stderr"
        },
        {
          "output_type": "execute_result",
          "data": {
            "text/plain": [
              "(5700, 155)"
            ]
          },
          "metadata": {},
          "execution_count": 49
        }
      ]
    },
    {
      "cell_type": "code",
      "metadata": {
        "colab": {
          "base_uri": "https://localhost:8080/"
        },
        "id": "f3qOsvW6jfjS",
        "outputId": "62489a07-53d4-43ee-8ed2-c712696367e9"
      },
      "source": [
        "output_layer_activations.shape"
      ],
      "execution_count": null,
      "outputs": [
        {
          "output_type": "execute_result",
          "data": {
            "text/plain": [
              "(5700, 155)"
            ]
          },
          "metadata": {},
          "execution_count": 50
        }
      ]
    },
    {
      "cell_type": "code",
      "metadata": {
        "colab": {
          "base_uri": "https://localhost:8080/"
        },
        "id": "6-uRrhGsjDNH",
        "outputId": "7f9e3ff0-e296-42ed-c23c-dc77d6a152c0"
      },
      "source": [
        "print(f\"The maximum activation value of the hidden nodes in the hidden layer is \\\n",
        "{hidden_layer_activation.max()}\")"
      ],
      "execution_count": null,
      "outputs": [
        {
          "output_type": "stream",
          "text": [
            "The maximum activation value of the hidden nodes in the hidden layer is 29599\n"
          ],
          "name": "stdout"
        }
      ]
    },
    {
      "cell_type": "code",
      "metadata": {
        "colab": {
          "base_uri": "https://localhost:8080/"
        },
        "id": "xKKJjOvjjD7e",
        "outputId": "ec60f42b-4e9c-4cd8-e36d-48b2d0424d47"
      },
      "source": [
        "# Some stats about the output layer as an aside...\n",
        "np.set_printoptions(suppress = True)  # display probabilities as decimals and NOT in scientific notation\n",
        "ouput_layer_activation = activations[1]\n",
        "print(f\"The output node has shape {ouput_layer_activation.shape}\")\n",
        "# print(f\"The output for the first image are {ouput_layer_activation[0].round(4)}\")\n",
        "# print(f\"The sum of the probabilities is (approximately) {ouput_layer_activation[0].sum()}\")"
      ],
      "execution_count": null,
      "outputs": [
        {
          "output_type": "stream",
          "text": [
            "The output node has shape (5700, 155)\n"
          ],
          "name": "stdout"
        }
      ]
    },
    {
      "cell_type": "code",
      "metadata": {
        "colab": {
          "base_uri": "https://localhost:8080/",
          "height": 1000
        },
        "id": "kiJ6wSNvjHJN",
        "outputId": "b6fd5fbf-fbd1-4326-c180-3dd12a9a2520"
      },
      "source": [
        "#Get the dataframe of all the node values\n",
        "activation_data = {'actual_class':y_train}\n",
        "for k in range(0,44): \n",
        "    activation_data[f\"act_val_{k}\"] = hidden_layer_activation[:,k]\n",
        "\n",
        "activation_df = pd.DataFrame(activation_data).reset_index()\n",
        "activation_df.head(15).round(3).T"
      ],
      "execution_count": null,
      "outputs": [
        {
          "output_type": "execute_result",
          "data": {
            "text/html": [
              "<div>\n",
              "<style scoped>\n",
              "    .dataframe tbody tr th:only-of-type {\n",
              "        vertical-align: middle;\n",
              "    }\n",
              "\n",
              "    .dataframe tbody tr th {\n",
              "        vertical-align: top;\n",
              "    }\n",
              "\n",
              "    .dataframe thead th {\n",
              "        text-align: right;\n",
              "    }\n",
              "</style>\n",
              "<table border=\"1\" class=\"dataframe\">\n",
              "  <thead>\n",
              "    <tr style=\"text-align: right;\">\n",
              "      <th></th>\n",
              "      <th>0</th>\n",
              "      <th>1</th>\n",
              "      <th>2</th>\n",
              "      <th>3</th>\n",
              "      <th>4</th>\n",
              "      <th>5</th>\n",
              "      <th>6</th>\n",
              "      <th>7</th>\n",
              "      <th>8</th>\n",
              "      <th>9</th>\n",
              "      <th>10</th>\n",
              "      <th>11</th>\n",
              "      <th>12</th>\n",
              "      <th>13</th>\n",
              "      <th>14</th>\n",
              "    </tr>\n",
              "  </thead>\n",
              "  <tbody>\n",
              "    <tr>\n",
              "      <th>index</th>\n",
              "      <td>21719</td>\n",
              "      <td>25741</td>\n",
              "      <td>15850</td>\n",
              "      <td>31992</td>\n",
              "      <td>79027</td>\n",
              "      <td>87727</td>\n",
              "      <td>36520</td>\n",
              "      <td>75681</td>\n",
              "      <td>83773</td>\n",
              "      <td>19871</td>\n",
              "      <td>26162</td>\n",
              "      <td>639</td>\n",
              "      <td>61672</td>\n",
              "      <td>46741</td>\n",
              "      <td>16580</td>\n",
              "    </tr>\n",
              "    <tr>\n",
              "      <th>actual_class</th>\n",
              "      <td>0</td>\n",
              "      <td>1</td>\n",
              "      <td>2</td>\n",
              "      <td>1</td>\n",
              "      <td>3</td>\n",
              "      <td>0</td>\n",
              "      <td>3</td>\n",
              "      <td>1</td>\n",
              "      <td>2</td>\n",
              "      <td>3</td>\n",
              "      <td>2</td>\n",
              "      <td>3</td>\n",
              "      <td>0</td>\n",
              "      <td>2</td>\n",
              "      <td>2</td>\n",
              "    </tr>\n",
              "    <tr>\n",
              "      <th>act_val_0</th>\n",
              "      <td>101</td>\n",
              "      <td>101</td>\n",
              "      <td>101</td>\n",
              "      <td>101</td>\n",
              "      <td>101</td>\n",
              "      <td>101</td>\n",
              "      <td>101</td>\n",
              "      <td>101</td>\n",
              "      <td>101</td>\n",
              "      <td>101</td>\n",
              "      <td>101</td>\n",
              "      <td>101</td>\n",
              "      <td>101</td>\n",
              "      <td>101</td>\n",
              "      <td>101</td>\n",
              "    </tr>\n",
              "    <tr>\n",
              "      <th>act_val_1</th>\n",
              "      <td>9706</td>\n",
              "      <td>25170</td>\n",
              "      <td>1996</td>\n",
              "      <td>3664</td>\n",
              "      <td>1996</td>\n",
              "      <td>2280</td>\n",
              "      <td>21144</td>\n",
              "      <td>2014</td>\n",
              "      <td>2039</td>\n",
              "      <td>2007</td>\n",
              "      <td>13929</td>\n",
              "      <td>2899</td>\n",
              "      <td>2414</td>\n",
              "      <td>5522</td>\n",
              "      <td>1996</td>\n",
              "    </tr>\n",
              "    <tr>\n",
              "      <th>act_val_2</th>\n",
              "      <td>1996</td>\n",
              "      <td>3363</td>\n",
              "      <td>3021</td>\n",
              "      <td>4938</td>\n",
              "      <td>3405</td>\n",
              "      <td>1055</td>\n",
              "      <td>2278</td>\n",
              "      <td>14262</td>\n",
              "      <td>3429</td>\n",
              "      <td>2069</td>\n",
              "      <td>12436</td>\n",
              "      <td>26665</td>\n",
              "      <td>21358</td>\n",
              "      <td>26665</td>\n",
              "      <td>4610</td>\n",
              "    </tr>\n",
              "    <tr>\n",
              "      <th>act_val_3</th>\n",
              "      <td>2047</td>\n",
              "      <td>7291</td>\n",
              "      <td>4171</td>\n",
              "      <td>3766</td>\n",
              "      <td>3068</td>\n",
              "      <td>3884</td>\n",
              "      <td>5641</td>\n",
              "      <td>2546</td>\n",
              "      <td>3867</td>\n",
              "      <td>2048</td>\n",
              "      <td>1057</td>\n",
              "      <td>2880</td>\n",
              "      <td>2361</td>\n",
              "      <td>1996</td>\n",
              "      <td>3473</td>\n",
              "    </tr>\n",
              "    <tr>\n",
              "      <th>act_val_4</th>\n",
              "      <td>1050</td>\n",
              "      <td>3195</td>\n",
              "      <td>3338</td>\n",
              "      <td>6183</td>\n",
              "      <td>3390</td>\n",
              "      <td>3095</td>\n",
              "      <td>2340</td>\n",
              "      <td>2089</td>\n",
              "      <td>2013</td>\n",
              "      <td>2733</td>\n",
              "      <td>2250</td>\n",
              "      <td>2007</td>\n",
              "      <td>4501</td>\n",
              "      <td>7922</td>\n",
              "      <td>2012</td>\n",
              "    </tr>\n",
              "    <tr>\n",
              "      <th>act_val_5</th>\n",
              "      <td>8911</td>\n",
              "      <td>7921</td>\n",
              "      <td>2096</td>\n",
              "      <td>2005</td>\n",
              "      <td>2047</td>\n",
              "      <td>6722</td>\n",
              "      <td>2432</td>\n",
              "      <td>2031</td>\n",
              "      <td>2257</td>\n",
              "      <td>2000</td>\n",
              "      <td>4576</td>\n",
              "      <td>1996</td>\n",
              "      <td>2343</td>\n",
              "      <td>13011</td>\n",
              "      <td>5024</td>\n",
              "    </tr>\n",
              "    <tr>\n",
              "      <th>act_val_6</th>\n",
              "      <td>2005</td>\n",
              "      <td>1998</td>\n",
              "      <td>4276</td>\n",
              "      <td>3598</td>\n",
              "      <td>2461</td>\n",
              "      <td>14914</td>\n",
              "      <td>4924</td>\n",
              "      <td>9630</td>\n",
              "      <td>2429</td>\n",
              "      <td>2175</td>\n",
              "      <td>2177</td>\n",
              "      <td>24665</td>\n",
              "      <td>2566</td>\n",
              "      <td>2091</td>\n",
              "      <td>3296</td>\n",
              "    </tr>\n",
              "    <tr>\n",
              "      <th>act_val_7</th>\n",
              "      <td>11491</td>\n",
              "      <td>2585</td>\n",
              "      <td>2055</td>\n",
              "      <td>2006</td>\n",
              "      <td>1997</td>\n",
              "      <td>2012</td>\n",
              "      <td>5641</td>\n",
              "      <td>1996</td>\n",
              "      <td>2000</td>\n",
              "      <td>2077</td>\n",
              "      <td>2056</td>\n",
              "      <td>6559</td>\n",
              "      <td>26132</td>\n",
              "      <td>2006</td>\n",
              "      <td>3446</td>\n",
              "    </tr>\n",
              "    <tr>\n",
              "      <th>act_val_8</th>\n",
              "      <td>2165</td>\n",
              "      <td>17712</td>\n",
              "      <td>8574</td>\n",
              "      <td>1996</td>\n",
              "      <td>9870</td>\n",
              "      <td>4994</td>\n",
              "      <td>2423</td>\n",
              "      <td>4306</td>\n",
              "      <td>5002</td>\n",
              "      <td>3103</td>\n",
              "      <td>5958</td>\n",
              "      <td>6238</td>\n",
              "      <td>14163</td>\n",
              "      <td>5958</td>\n",
              "      <td>1997</td>\n",
              "    </tr>\n",
              "    <tr>\n",
              "      <th>act_val_9</th>\n",
              "      <td>2491</td>\n",
              "      <td>2545</td>\n",
              "      <td>4551</td>\n",
              "      <td>9617</td>\n",
              "      <td>2114</td>\n",
              "      <td>6928</td>\n",
              "      <td>5139</td>\n",
              "      <td>2039</td>\n",
              "      <td>2207</td>\n",
              "      <td>12702</td>\n",
              "      <td>2008</td>\n",
              "      <td>5371</td>\n",
              "      <td>7377</td>\n",
              "      <td>2044</td>\n",
              "      <td>1017</td>\n",
              "    </tr>\n",
              "    <tr>\n",
              "      <th>act_val_10</th>\n",
              "      <td>4465</td>\n",
              "      <td>6476</td>\n",
              "      <td>2058</td>\n",
              "      <td>13186</td>\n",
              "      <td>6206</td>\n",
              "      <td>2008</td>\n",
              "      <td>3607</td>\n",
              "      <td>2021</td>\n",
              "      <td>2011</td>\n",
              "      <td>29390</td>\n",
              "      <td>2009</td>\n",
              "      <td>6202</td>\n",
              "      <td>11335</td>\n",
              "      <td>3730</td>\n",
              "      <td>1021</td>\n",
              "    </tr>\n",
              "    <tr>\n",
              "      <th>act_val_11</th>\n",
              "      <td>1997</td>\n",
              "      <td>2093</td>\n",
              "      <td>2184</td>\n",
              "      <td>10711</td>\n",
              "      <td>8816</td>\n",
              "      <td>2010</td>\n",
              "      <td>5292</td>\n",
              "      <td>9060</td>\n",
              "      <td>1996</td>\n",
              "      <td>8039</td>\n",
              "      <td>5292</td>\n",
              "      <td>2897</td>\n",
              "      <td>2546</td>\n",
              "      <td>1055</td>\n",
              "      <td>3867</td>\n",
              "    </tr>\n",
              "    <tr>\n",
              "      <th>act_val_12</th>\n",
              "      <td>1996</td>\n",
              "      <td>2492</td>\n",
              "      <td>2095</td>\n",
              "      <td>5292</td>\n",
              "      <td>2075</td>\n",
              "      <td>3131</td>\n",
              "      <td>5147</td>\n",
              "      <td>17183</td>\n",
              "      <td>2041</td>\n",
              "      <td>2046</td>\n",
              "      <td>2584</td>\n",
              "      <td>2031</td>\n",
              "      <td>2052</td>\n",
              "      <td>5814</td>\n",
              "      <td>1999</td>\n",
              "    </tr>\n",
              "    <tr>\n",
              "      <th>act_val_13</th>\n",
              "      <td>6514</td>\n",
              "      <td>3125</td>\n",
              "      <td>2003</td>\n",
              "      <td>13261</td>\n",
              "      <td>9432</td>\n",
              "      <td>2730</td>\n",
              "      <td>3390</td>\n",
              "      <td>4765</td>\n",
              "      <td>24759</td>\n",
              "      <td>1996</td>\n",
              "      <td>3820</td>\n",
              "      <td>3530</td>\n",
              "      <td>6160</td>\n",
              "      <td>2951</td>\n",
              "      <td>2251</td>\n",
              "    </tr>\n",
              "    <tr>\n",
              "      <th>act_val_14</th>\n",
              "      <td>2874</td>\n",
              "      <td>2000</td>\n",
              "      <td>2036</td>\n",
              "      <td>3116</td>\n",
              "      <td>17419</td>\n",
              "      <td>2012</td>\n",
              "      <td>2047</td>\n",
              "      <td>2666</td>\n",
              "      <td>10732</td>\n",
              "      <td>2330</td>\n",
              "      <td>2007</td>\n",
              "      <td>2000</td>\n",
              "      <td>2329</td>\n",
              "      <td>17999</td>\n",
              "      <td>2257</td>\n",
              "    </tr>\n",
              "    <tr>\n",
              "      <th>act_val_15</th>\n",
              "      <td>2029</td>\n",
              "      <td>2599</td>\n",
              "      <td>2881</td>\n",
              "      <td>6928</td>\n",
              "      <td>2382</td>\n",
              "      <td>2560</td>\n",
              "      <td>2944</td>\n",
              "      <td>3567</td>\n",
              "      <td>3672</td>\n",
              "      <td>3120</td>\n",
              "      <td>2236</td>\n",
              "      <td>3477</td>\n",
              "      <td>6624</td>\n",
              "      <td>1996</td>\n",
              "      <td>1998</td>\n",
              "    </tr>\n",
              "    <tr>\n",
              "      <th>act_val_16</th>\n",
              "      <td>5292</td>\n",
              "      <td>1996</td>\n",
              "      <td>3828</td>\n",
              "      <td>2007</td>\n",
              "      <td>1996</td>\n",
              "      <td>2382</td>\n",
              "      <td>1997</td>\n",
              "      <td>2018</td>\n",
              "      <td>3813</td>\n",
              "      <td>2005</td>\n",
              "      <td>3751</td>\n",
              "      <td>3156</td>\n",
              "      <td>1999</td>\n",
              "      <td>3193</td>\n",
              "      <td>2244</td>\n",
              "    </tr>\n",
              "    <tr>\n",
              "      <th>act_val_17</th>\n",
              "      <td>2815</td>\n",
              "      <td>4407</td>\n",
              "      <td>2008</td>\n",
              "      <td>1996</td>\n",
              "      <td>2168</td>\n",
              "      <td>23206</td>\n",
              "      <td>23715</td>\n",
              "      <td>1996</td>\n",
              "      <td>12932</td>\n",
              "      <td>4710</td>\n",
              "      <td>2522</td>\n",
              "      <td>2199</td>\n",
              "      <td>19905</td>\n",
              "      <td>2008</td>\n",
              "      <td>5533</td>\n",
              "    </tr>\n",
              "    <tr>\n",
              "      <th>act_val_18</th>\n",
              "      <td>6171</td>\n",
              "      <td>6755</td>\n",
              "      <td>2172</td>\n",
              "      <td>1039</td>\n",
              "      <td>2154</td>\n",
              "      <td>6831</td>\n",
              "      <td>7596</td>\n",
              "      <td>2197</td>\n",
              "      <td>3897</td>\n",
              "      <td>2007</td>\n",
              "      <td>2006</td>\n",
              "      <td>2000</td>\n",
              "      <td>2007</td>\n",
              "      <td>1996</td>\n",
              "      <td>2011</td>\n",
              "    </tr>\n",
              "    <tr>\n",
              "      <th>act_val_19</th>\n",
              "      <td>4055</td>\n",
              "      <td>2000</td>\n",
              "      <td>2011</td>\n",
              "      <td>2473</td>\n",
              "      <td>19905</td>\n",
              "      <td>1999</td>\n",
              "      <td>1996</td>\n",
              "      <td>4756</td>\n",
              "      <td>1998</td>\n",
              "      <td>2009</td>\n",
              "      <td>2948</td>\n",
              "      <td>7392</td>\n",
              "      <td>2634</td>\n",
              "      <td>2976</td>\n",
              "      <td>18348</td>\n",
              "    </tr>\n",
              "    <tr>\n",
              "      <th>act_val_20</th>\n",
              "      <td>2247</td>\n",
              "      <td>2037</td>\n",
              "      <td>5494</td>\n",
              "      <td>2002</td>\n",
              "      <td>15767</td>\n",
              "      <td>5712</td>\n",
              "      <td>29412</td>\n",
              "      <td>2043</td>\n",
              "      <td>4234</td>\n",
              "      <td>5943</td>\n",
              "      <td>26707</td>\n",
              "      <td>3715</td>\n",
              "      <td>2058</td>\n",
              "      <td>3914</td>\n",
              "      <td>5157</td>\n",
              "    </tr>\n",
              "    <tr>\n",
              "      <th>act_val_21</th>\n",
              "      <td>5636</td>\n",
              "      <td>3587</td>\n",
              "      <td>7713</td>\n",
              "      <td>2442</td>\n",
              "      <td>2090</td>\n",
              "      <td>2076</td>\n",
              "      <td>1016</td>\n",
              "      <td>2016</td>\n",
              "      <td>4102</td>\n",
              "      <td>2483</td>\n",
              "      <td>1998</td>\n",
              "      <td>2027</td>\n",
              "      <td>13329</td>\n",
              "      <td>2089</td>\n",
              "      <td>2005</td>\n",
              "    </tr>\n",
              "    <tr>\n",
              "      <th>act_val_22</th>\n",
              "      <td>2240</td>\n",
              "      <td>3442</td>\n",
              "      <td>1998</td>\n",
              "      <td>17812</td>\n",
              "      <td>9385</td>\n",
              "      <td>1996</td>\n",
              "      <td>20720</td>\n",
              "      <td>28315</td>\n",
              "      <td>2007</td>\n",
              "      <td>2184</td>\n",
              "      <td>12135</td>\n",
              "      <td>3498</td>\n",
              "      <td>1998</td>\n",
              "      <td>4030</td>\n",
              "      <td>9935</td>\n",
              "    </tr>\n",
              "    <tr>\n",
              "      <th>act_val_23</th>\n",
              "      <td>2144</td>\n",
              "      <td>2663</td>\n",
              "      <td>6274</td>\n",
              "      <td>102</td>\n",
              "      <td>102</td>\n",
              "      <td>2162</td>\n",
              "      <td>1996</td>\n",
              "      <td>5669</td>\n",
              "      <td>2095</td>\n",
              "      <td>4082</td>\n",
              "      <td>2744</td>\n",
              "      <td>3584</td>\n",
              "      <td>2052</td>\n",
              "      <td>2030</td>\n",
              "      <td>1998</td>\n",
              "    </tr>\n",
              "    <tr>\n",
              "      <th>act_val_24</th>\n",
              "      <td>1996</td>\n",
              "      <td>2321</td>\n",
              "      <td>7661</td>\n",
              "      <td>0</td>\n",
              "      <td>0</td>\n",
              "      <td>1999</td>\n",
              "      <td>7596</td>\n",
              "      <td>7673</td>\n",
              "      <td>3283</td>\n",
              "      <td>2291</td>\n",
              "      <td>2000</td>\n",
              "      <td>2189</td>\n",
              "      <td>5333</td>\n",
              "      <td>2130</td>\n",
              "      <td>2060</td>\n",
              "    </tr>\n",
              "    <tr>\n",
              "      <th>act_val_25</th>\n",
              "      <td>2203</td>\n",
              "      <td>2184</td>\n",
              "      <td>7408</td>\n",
              "      <td>0</td>\n",
              "      <td>0</td>\n",
              "      <td>2494</td>\n",
              "      <td>18461</td>\n",
              "      <td>6178</td>\n",
              "      <td>3105</td>\n",
              "      <td>1996</td>\n",
              "      <td>2393</td>\n",
              "      <td>8816</td>\n",
              "      <td>1996</td>\n",
              "      <td>8184</td>\n",
              "      <td>2502</td>\n",
              "    </tr>\n",
              "    <tr>\n",
              "      <th>act_val_26</th>\n",
              "      <td>1997</td>\n",
              "      <td>2058</td>\n",
              "      <td>102</td>\n",
              "      <td>0</td>\n",
              "      <td>0</td>\n",
              "      <td>1998</td>\n",
              "      <td>2125</td>\n",
              "      <td>4360</td>\n",
              "      <td>3013</td>\n",
              "      <td>2358</td>\n",
              "      <td>1996</td>\n",
              "      <td>2326</td>\n",
              "      <td>3043</td>\n",
              "      <td>9190</td>\n",
              "      <td>7281</td>\n",
              "    </tr>\n",
              "    <tr>\n",
              "      <th>act_val_27</th>\n",
              "      <td>2639</td>\n",
              "      <td>1996</td>\n",
              "      <td>0</td>\n",
              "      <td>0</td>\n",
              "      <td>0</td>\n",
              "      <td>2008</td>\n",
              "      <td>2012</td>\n",
              "      <td>3775</td>\n",
              "      <td>2020</td>\n",
              "      <td>2050</td>\n",
              "      <td>8582</td>\n",
              "      <td>2302</td>\n",
              "      <td>2007</td>\n",
              "      <td>2009</td>\n",
              "      <td>8875</td>\n",
              "    </tr>\n",
              "    <tr>\n",
              "      <th>act_val_28</th>\n",
              "      <td>2162</td>\n",
              "      <td>6222</td>\n",
              "      <td>0</td>\n",
              "      <td>0</td>\n",
              "      <td>0</td>\n",
              "      <td>3884</td>\n",
              "      <td>1023</td>\n",
              "      <td>1020</td>\n",
              "      <td>2039</td>\n",
              "      <td>102</td>\n",
              "      <td>2896</td>\n",
              "      <td>6656</td>\n",
              "      <td>2329</td>\n",
              "      <td>18711</td>\n",
              "      <td>102</td>\n",
              "    </tr>\n",
              "    <tr>\n",
              "      <th>act_val_29</th>\n",
              "      <td>102</td>\n",
              "      <td>10000</td>\n",
              "      <td>0</td>\n",
              "      <td>0</td>\n",
              "      <td>0</td>\n",
              "      <td>19974</td>\n",
              "      <td>2382</td>\n",
              "      <td>1014</td>\n",
              "      <td>4601</td>\n",
              "      <td>0</td>\n",
              "      <td>3465</td>\n",
              "      <td>3405</td>\n",
              "      <td>3539</td>\n",
              "      <td>3049</td>\n",
              "      <td>0</td>\n",
              "    </tr>\n",
              "    <tr>\n",
              "      <th>act_val_30</th>\n",
              "      <td>0</td>\n",
              "      <td>1999</td>\n",
              "      <td>0</td>\n",
              "      <td>0</td>\n",
              "      <td>0</td>\n",
              "      <td>2915</td>\n",
              "      <td>7610</td>\n",
              "      <td>1016</td>\n",
              "      <td>3867</td>\n",
              "      <td>0</td>\n",
              "      <td>1998</td>\n",
              "      <td>3068</td>\n",
              "      <td>2704</td>\n",
              "      <td>102</td>\n",
              "      <td>0</td>\n",
              "    </tr>\n",
              "    <tr>\n",
              "      <th>act_val_31</th>\n",
              "      <td>0</td>\n",
              "      <td>2120</td>\n",
              "      <td>0</td>\n",
              "      <td>0</td>\n",
              "      <td>0</td>\n",
              "      <td>1998</td>\n",
              "      <td>2013</td>\n",
              "      <td>1020</td>\n",
              "      <td>102</td>\n",
              "      <td>0</td>\n",
              "      <td>5547</td>\n",
              "      <td>3119</td>\n",
              "      <td>4116</td>\n",
              "      <td>0</td>\n",
              "      <td>0</td>\n",
              "    </tr>\n",
              "    <tr>\n",
              "      <th>act_val_32</th>\n",
              "      <td>0</td>\n",
              "      <td>2374</td>\n",
              "      <td>0</td>\n",
              "      <td>0</td>\n",
              "      <td>0</td>\n",
              "      <td>2730</td>\n",
              "      <td>1996</td>\n",
              "      <td>1021</td>\n",
              "      <td>0</td>\n",
              "      <td>0</td>\n",
              "      <td>7016</td>\n",
              "      <td>2177</td>\n",
              "      <td>10503</td>\n",
              "      <td>0</td>\n",
              "      <td>0</td>\n",
              "    </tr>\n",
              "    <tr>\n",
              "      <th>act_val_33</th>\n",
              "      <td>0</td>\n",
              "      <td>2223</td>\n",
              "      <td>0</td>\n",
              "      <td>0</td>\n",
              "      <td>0</td>\n",
              "      <td>5303</td>\n",
              "      <td>20228</td>\n",
              "      <td>1020</td>\n",
              "      <td>0</td>\n",
              "      <td>0</td>\n",
              "      <td>1037</td>\n",
              "      <td>2056</td>\n",
              "      <td>2076</td>\n",
              "      <td>0</td>\n",
              "      <td>0</td>\n",
              "    </tr>\n",
              "    <tr>\n",
              "      <th>act_val_34</th>\n",
              "      <td>0</td>\n",
              "      <td>2377</td>\n",
              "      <td>0</td>\n",
              "      <td>0</td>\n",
              "      <td>0</td>\n",
              "      <td>8956</td>\n",
              "      <td>6810</td>\n",
              "      <td>1021</td>\n",
              "      <td>0</td>\n",
              "      <td>0</td>\n",
              "      <td>2009</td>\n",
              "      <td>2006</td>\n",
              "      <td>2831</td>\n",
              "      <td>0</td>\n",
              "      <td>0</td>\n",
              "    </tr>\n",
              "    <tr>\n",
              "      <th>act_val_35</th>\n",
              "      <td>0</td>\n",
              "      <td>4465</td>\n",
              "      <td>0</td>\n",
              "      <td>0</td>\n",
              "      <td>0</td>\n",
              "      <td>102</td>\n",
              "      <td>29064</td>\n",
              "      <td>1019</td>\n",
              "      <td>0</td>\n",
              "      <td>0</td>\n",
              "      <td>6148</td>\n",
              "      <td>6928</td>\n",
              "      <td>1999</td>\n",
              "      <td>0</td>\n",
              "      <td>0</td>\n",
              "    </tr>\n",
              "    <tr>\n",
              "      <th>act_val_36</th>\n",
              "      <td>0</td>\n",
              "      <td>102</td>\n",
              "      <td>0</td>\n",
              "      <td>0</td>\n",
              "      <td>0</td>\n",
              "      <td>0</td>\n",
              "      <td>4888</td>\n",
              "      <td>2005</td>\n",
              "      <td>0</td>\n",
              "      <td>0</td>\n",
              "      <td>2000</td>\n",
              "      <td>102</td>\n",
              "      <td>2414</td>\n",
              "      <td>0</td>\n",
              "      <td>0</td>\n",
              "    </tr>\n",
              "    <tr>\n",
              "      <th>act_val_37</th>\n",
              "      <td>0</td>\n",
              "      <td>0</td>\n",
              "      <td>0</td>\n",
              "      <td>0</td>\n",
              "      <td>0</td>\n",
              "      <td>0</td>\n",
              "      <td>11687</td>\n",
              "      <td>2173</td>\n",
              "      <td>0</td>\n",
              "      <td>0</td>\n",
              "      <td>4468</td>\n",
              "      <td>0</td>\n",
              "      <td>2002</td>\n",
              "      <td>0</td>\n",
              "      <td>0</td>\n",
              "    </tr>\n",
              "    <tr>\n",
              "      <th>act_val_38</th>\n",
              "      <td>0</td>\n",
              "      <td>0</td>\n",
              "      <td>0</td>\n",
              "      <td>0</td>\n",
              "      <td>0</td>\n",
              "      <td>0</td>\n",
              "      <td>4755</td>\n",
              "      <td>1999</td>\n",
              "      <td>0</td>\n",
              "      <td>0</td>\n",
              "      <td>28763</td>\n",
              "      <td>0</td>\n",
              "      <td>2409</td>\n",
              "      <td>0</td>\n",
              "      <td>0</td>\n",
              "    </tr>\n",
              "    <tr>\n",
              "      <th>act_val_39</th>\n",
              "      <td>0</td>\n",
              "      <td>0</td>\n",
              "      <td>0</td>\n",
              "      <td>0</td>\n",
              "      <td>0</td>\n",
              "      <td>0</td>\n",
              "      <td>5871</td>\n",
              "      <td>1996</td>\n",
              "      <td>0</td>\n",
              "      <td>0</td>\n",
              "      <td>102</td>\n",
              "      <td>0</td>\n",
              "      <td>1996</td>\n",
              "      <td>0</td>\n",
              "      <td>0</td>\n",
              "    </tr>\n",
              "    <tr>\n",
              "      <th>act_val_40</th>\n",
              "      <td>0</td>\n",
              "      <td>0</td>\n",
              "      <td>0</td>\n",
              "      <td>0</td>\n",
              "      <td>0</td>\n",
              "      <td>0</td>\n",
              "      <td>2944</td>\n",
              "      <td>1057</td>\n",
              "      <td>0</td>\n",
              "      <td>0</td>\n",
              "      <td>0</td>\n",
              "      <td>0</td>\n",
              "      <td>2051</td>\n",
              "      <td>0</td>\n",
              "      <td>0</td>\n",
              "    </tr>\n",
              "    <tr>\n",
              "      <th>act_val_41</th>\n",
              "      <td>0</td>\n",
              "      <td>0</td>\n",
              "      <td>0</td>\n",
              "      <td>0</td>\n",
              "      <td>0</td>\n",
              "      <td>0</td>\n",
              "      <td>102</td>\n",
              "      <td>2330</td>\n",
              "      <td>0</td>\n",
              "      <td>0</td>\n",
              "      <td>0</td>\n",
              "      <td>0</td>\n",
              "      <td>1999</td>\n",
              "      <td>0</td>\n",
              "      <td>0</td>\n",
              "    </tr>\n",
              "    <tr>\n",
              "      <th>act_val_42</th>\n",
              "      <td>0</td>\n",
              "      <td>0</td>\n",
              "      <td>0</td>\n",
              "      <td>0</td>\n",
              "      <td>0</td>\n",
              "      <td>0</td>\n",
              "      <td>0</td>\n",
              "      <td>2345</td>\n",
              "      <td>0</td>\n",
              "      <td>0</td>\n",
              "      <td>0</td>\n",
              "      <td>0</td>\n",
              "      <td>2019</td>\n",
              "      <td>0</td>\n",
              "      <td>0</td>\n",
              "    </tr>\n",
              "    <tr>\n",
              "      <th>act_val_43</th>\n",
              "      <td>0</td>\n",
              "      <td>0</td>\n",
              "      <td>0</td>\n",
              "      <td>0</td>\n",
              "      <td>0</td>\n",
              "      <td>0</td>\n",
              "      <td>0</td>\n",
              "      <td>102</td>\n",
              "      <td>0</td>\n",
              "      <td>0</td>\n",
              "      <td>0</td>\n",
              "      <td>0</td>\n",
              "      <td>4357</td>\n",
              "      <td>0</td>\n",
              "      <td>0</td>\n",
              "    </tr>\n",
              "  </tbody>\n",
              "</table>\n",
              "</div>"
            ],
            "text/plain": [
              "                 0      1      2      3   ...     11     12     13     14\n",
              "index         21719  25741  15850  31992  ...    639  61672  46741  16580\n",
              "actual_class      0      1      2      1  ...      3      0      2      2\n",
              "act_val_0       101    101    101    101  ...    101    101    101    101\n",
              "act_val_1      9706  25170   1996   3664  ...   2899   2414   5522   1996\n",
              "act_val_2      1996   3363   3021   4938  ...  26665  21358  26665   4610\n",
              "act_val_3      2047   7291   4171   3766  ...   2880   2361   1996   3473\n",
              "act_val_4      1050   3195   3338   6183  ...   2007   4501   7922   2012\n",
              "act_val_5      8911   7921   2096   2005  ...   1996   2343  13011   5024\n",
              "act_val_6      2005   1998   4276   3598  ...  24665   2566   2091   3296\n",
              "act_val_7     11491   2585   2055   2006  ...   6559  26132   2006   3446\n",
              "act_val_8      2165  17712   8574   1996  ...   6238  14163   5958   1997\n",
              "act_val_9      2491   2545   4551   9617  ...   5371   7377   2044   1017\n",
              "act_val_10     4465   6476   2058  13186  ...   6202  11335   3730   1021\n",
              "act_val_11     1997   2093   2184  10711  ...   2897   2546   1055   3867\n",
              "act_val_12     1996   2492   2095   5292  ...   2031   2052   5814   1999\n",
              "act_val_13     6514   3125   2003  13261  ...   3530   6160   2951   2251\n",
              "act_val_14     2874   2000   2036   3116  ...   2000   2329  17999   2257\n",
              "act_val_15     2029   2599   2881   6928  ...   3477   6624   1996   1998\n",
              "act_val_16     5292   1996   3828   2007  ...   3156   1999   3193   2244\n",
              "act_val_17     2815   4407   2008   1996  ...   2199  19905   2008   5533\n",
              "act_val_18     6171   6755   2172   1039  ...   2000   2007   1996   2011\n",
              "act_val_19     4055   2000   2011   2473  ...   7392   2634   2976  18348\n",
              "act_val_20     2247   2037   5494   2002  ...   3715   2058   3914   5157\n",
              "act_val_21     5636   3587   7713   2442  ...   2027  13329   2089   2005\n",
              "act_val_22     2240   3442   1998  17812  ...   3498   1998   4030   9935\n",
              "act_val_23     2144   2663   6274    102  ...   3584   2052   2030   1998\n",
              "act_val_24     1996   2321   7661      0  ...   2189   5333   2130   2060\n",
              "act_val_25     2203   2184   7408      0  ...   8816   1996   8184   2502\n",
              "act_val_26     1997   2058    102      0  ...   2326   3043   9190   7281\n",
              "act_val_27     2639   1996      0      0  ...   2302   2007   2009   8875\n",
              "act_val_28     2162   6222      0      0  ...   6656   2329  18711    102\n",
              "act_val_29      102  10000      0      0  ...   3405   3539   3049      0\n",
              "act_val_30        0   1999      0      0  ...   3068   2704    102      0\n",
              "act_val_31        0   2120      0      0  ...   3119   4116      0      0\n",
              "act_val_32        0   2374      0      0  ...   2177  10503      0      0\n",
              "act_val_33        0   2223      0      0  ...   2056   2076      0      0\n",
              "act_val_34        0   2377      0      0  ...   2006   2831      0      0\n",
              "act_val_35        0   4465      0      0  ...   6928   1999      0      0\n",
              "act_val_36        0    102      0      0  ...    102   2414      0      0\n",
              "act_val_37        0      0      0      0  ...      0   2002      0      0\n",
              "act_val_38        0      0      0      0  ...      0   2409      0      0\n",
              "act_val_39        0      0      0      0  ...      0   1996      0      0\n",
              "act_val_40        0      0      0      0  ...      0   2051      0      0\n",
              "act_val_41        0      0      0      0  ...      0   1999      0      0\n",
              "act_val_42        0      0      0      0  ...      0   2019      0      0\n",
              "act_val_43        0      0      0      0  ...      0   4357      0      0\n",
              "\n",
              "[46 rows x 15 columns]"
            ]
          },
          "metadata": {},
          "execution_count": 117
        }
      ]
    },
    {
      "cell_type": "code",
      "metadata": {
        "colab": {
          "base_uri": "https://localhost:8080/",
          "height": 280
        },
        "id": "ygrGGARxkC9m",
        "outputId": "8321d949-5085-4fd9-bba8-ba2eb3f0519a"
      },
      "source": [
        "# To see how closely the hidden node activation values correlate with the class labels\n",
        "# Let us use seaborn for the boxplots this time.\n",
        "bplot = sns.boxplot(y='act_val_1', x='actual_class', \n",
        "                 data=activation_df[['act_val_1','actual_class']], \n",
        "                 width=0.5,\n",
        "                 palette=\"colorblind\")"
      ],
      "execution_count": null,
      "outputs": [
        {
          "output_type": "display_data",
          "data": {
            "image/png": "[encoded data removed]",
            "text/plain": [
              "<Figure size 432x288 with 1 Axes>"
            ]
          },
          "metadata": {
            "needs_background": "light"
          }
        }
      ]
    },
    {
      "cell_type": "code",
      "metadata": {
        "colab": {
          "base_uri": "https://localhost:8080/",
          "height": 173
        },
        "id": "P6pY1BQLkFQ4",
        "outputId": "33ed528a-6f64-41a9-b241-618950e5d11c"
      },
      "source": [
        "# displaying the range of activation values for each class labels\n",
        "activation_df.groupby(\"actual_class\")[\"act_val_1\"].apply(lambda x: [round(min(x.tolist()),2),\n",
        " round(max(x.tolist()),2)]).reset_index().rename(columns={\"act_val_1\": \"range_of_act_values\"})"
      ],
      "execution_count": null,
      "outputs": [
        {
          "output_type": "execute_result",
          "data": {
            "text/html": [
              "<div>\n",
              "<style scoped>\n",
              "    .dataframe tbody tr th:only-of-type {\n",
              "        vertical-align: middle;\n",
              "    }\n",
              "\n",
              "    .dataframe tbody tr th {\n",
              "        vertical-align: top;\n",
              "    }\n",
              "\n",
              "    .dataframe thead th {\n",
              "        text-align: right;\n",
              "    }\n",
              "</style>\n",
              "<table border=\"1\" class=\"dataframe\">\n",
              "  <thead>\n",
              "    <tr style=\"text-align: right;\">\n",
              "      <th></th>\n",
              "      <th>actual_class</th>\n",
              "      <th>range_of_act_values</th>\n",
              "    </tr>\n",
              "  </thead>\n",
              "  <tbody>\n",
              "    <tr>\n",
              "      <th>0</th>\n",
              "      <td>0</td>\n",
              "      <td>[1017, 29445]</td>\n",
              "    </tr>\n",
              "    <tr>\n",
              "      <th>1</th>\n",
              "      <td>1</td>\n",
              "      <td>[1015, 29536]</td>\n",
              "    </tr>\n",
              "    <tr>\n",
              "      <th>2</th>\n",
              "      <td>2</td>\n",
              "      <td>[1017, 29533]</td>\n",
              "    </tr>\n",
              "    <tr>\n",
              "      <th>3</th>\n",
              "      <td>3</td>\n",
              "      <td>[1015, 29525]</td>\n",
              "    </tr>\n",
              "  </tbody>\n",
              "</table>\n",
              "</div>"
            ],
            "text/plain": [
              "   actual_class range_of_act_values\n",
              "0             0       [1017, 29445]\n",
              "1             1       [1015, 29536]\n",
              "2             2       [1017, 29533]\n",
              "3             3       [1015, 29525]"
            ]
          },
          "metadata": {},
          "execution_count": 119
        }
      ]
    },
    {
      "cell_type": "code",
      "metadata": {
        "colab": {
          "base_uri": "https://localhost:8080/",
          "height": 498
        },
        "id": "naL3oaLwmsse",
        "outputId": "996af2d4-0971-47b1-bf0a-888b4122a96f"
      },
      "source": [
        "plt.figure(figsize=(8, 8))\n",
        "color = sns.color_palette(\"hls\", 10)\n",
        "sns.scatterplot(x=\"act_val_1\", y=\"act_val_2\", hue=\"actual_class\", data = activation_df, legend=\"full\")\n",
        "plt.legend(loc='upper left');"
      ],
      "execution_count": null,
      "outputs": [
        {
          "output_type": "display_data",
          "data": {
            "image/png": "[encoded data removed]",
            "text/plain": [
              "<Figure size 576x576 with 1 Axes>"
            ]
          },
          "metadata": {
            "needs_background": "light"
          }
        }
      ]
    },
    {
      "cell_type": "code",
      "metadata": {
        "id": "WxMR0S3bqtUI"
      },
      "source": [
        "from sklearn.decomposition import PCA\n",
        "# Separating out the features\n",
        "features = [*activation_data][1:] # ['pix_val_0', 'pix_val_1',...]\n",
        "x = activation_df.loc[:, features].values \n",
        "\n",
        "pca = PCA(n_components=2)\n",
        "principalComponents = pca.fit_transform(x)\n",
        "principalDf = pd.DataFrame(data = principalComponents\n",
        "             , columns = ['principal component 1', 'principal component 2'])"
      ],
      "execution_count": null,
      "outputs": []
    },
    {
      "cell_type": "code",
      "metadata": {
        "colab": {
          "base_uri": "https://localhost:8080/",
          "height": 419
        },
        "id": "lgj0nZlIrkGI",
        "outputId": "a086f13d-ddeb-4d03-c058-ad44b637f2a2"
      },
      "source": [
        "principalDf"
      ],
      "execution_count": null,
      "outputs": [
        {
          "output_type": "execute_result",
          "data": {
            "text/html": [
              "<div>\n",
              "<style scoped>\n",
              "    .dataframe tbody tr th:only-of-type {\n",
              "        vertical-align: middle;\n",
              "    }\n",
              "\n",
              "    .dataframe tbody tr th {\n",
              "        vertical-align: top;\n",
              "    }\n",
              "\n",
              "    .dataframe thead th {\n",
              "        text-align: right;\n",
              "    }\n",
              "</style>\n",
              "<table border=\"1\" class=\"dataframe\">\n",
              "  <thead>\n",
              "    <tr style=\"text-align: right;\">\n",
              "      <th></th>\n",
              "      <th>principal component 1</th>\n",
              "      <th>principal component 2</th>\n",
              "    </tr>\n",
              "  </thead>\n",
              "  <tbody>\n",
              "    <tr>\n",
              "      <th>0</th>\n",
              "      <td>-10761.764220</td>\n",
              "      <td>-1293.448573</td>\n",
              "    </tr>\n",
              "    <tr>\n",
              "      <th>1</th>\n",
              "      <td>-1515.007212</td>\n",
              "      <td>10101.971050</td>\n",
              "    </tr>\n",
              "    <tr>\n",
              "      <th>2</th>\n",
              "      <td>-10108.414865</td>\n",
              "      <td>-6280.990470</td>\n",
              "    </tr>\n",
              "    <tr>\n",
              "      <th>3</th>\n",
              "      <td>-10187.796959</td>\n",
              "      <td>-3948.529825</td>\n",
              "    </tr>\n",
              "    <tr>\n",
              "      <th>4</th>\n",
              "      <td>-9262.236228</td>\n",
              "      <td>-6651.212531</td>\n",
              "    </tr>\n",
              "    <tr>\n",
              "      <th>...</th>\n",
              "      <td>...</td>\n",
              "      <td>...</td>\n",
              "    </tr>\n",
              "    <tr>\n",
              "      <th>5695</th>\n",
              "      <td>-10917.264718</td>\n",
              "      <td>-774.545504</td>\n",
              "    </tr>\n",
              "    <tr>\n",
              "      <th>5696</th>\n",
              "      <td>-1143.423281</td>\n",
              "      <td>5355.734094</td>\n",
              "    </tr>\n",
              "    <tr>\n",
              "      <th>5697</th>\n",
              "      <td>1248.678467</td>\n",
              "      <td>12580.409127</td>\n",
              "    </tr>\n",
              "    <tr>\n",
              "      <th>5698</th>\n",
              "      <td>-14333.096426</td>\n",
              "      <td>2699.126744</td>\n",
              "    </tr>\n",
              "    <tr>\n",
              "      <th>5699</th>\n",
              "      <td>1759.044714</td>\n",
              "      <td>-5266.722291</td>\n",
              "    </tr>\n",
              "  </tbody>\n",
              "</table>\n",
              "<p>5700 rows × 2 columns</p>\n",
              "</div>"
            ],
            "text/plain": [
              "      principal component 1  principal component 2\n",
              "0             -10761.764220           -1293.448573\n",
              "1              -1515.007212           10101.971050\n",
              "2             -10108.414865           -6280.990470\n",
              "3             -10187.796959           -3948.529825\n",
              "4              -9262.236228           -6651.212531\n",
              "...                     ...                    ...\n",
              "5695          -10917.264718            -774.545504\n",
              "5696           -1143.423281            5355.734094\n",
              "5697            1248.678467           12580.409127\n",
              "5698          -14333.096426            2699.126744\n",
              "5699            1759.044714           -5266.722291\n",
              "\n",
              "[5700 rows x 2 columns]"
            ]
          },
          "metadata": {},
          "execution_count": 122
        }
      ]
    },
    {
      "cell_type": "code",
      "metadata": {
        "id": "AZww0sEMq7ov"
      },
      "source": [
        "activation_pca_df = pd.concat([principalDf, activation_df[['actual_class']]], axis = 1)"
      ],
      "execution_count": null,
      "outputs": []
    },
    {
      "cell_type": "code",
      "metadata": {
        "colab": {
          "base_uri": "https://localhost:8080/",
          "height": 204
        },
        "id": "1hOywiMurWmX",
        "outputId": "25d3762d-80e7-4ec1-ea8f-58bded76a489"
      },
      "source": [
        "activation_pca_df.head().round(3)"
      ],
      "execution_count": null,
      "outputs": [
        {
          "output_type": "execute_result",
          "data": {
            "text/html": [
              "<div>\n",
              "<style scoped>\n",
              "    .dataframe tbody tr th:only-of-type {\n",
              "        vertical-align: middle;\n",
              "    }\n",
              "\n",
              "    .dataframe tbody tr th {\n",
              "        vertical-align: top;\n",
              "    }\n",
              "\n",
              "    .dataframe thead th {\n",
              "        text-align: right;\n",
              "    }\n",
              "</style>\n",
              "<table border=\"1\" class=\"dataframe\">\n",
              "  <thead>\n",
              "    <tr style=\"text-align: right;\">\n",
              "      <th></th>\n",
              "      <th>principal component 1</th>\n",
              "      <th>principal component 2</th>\n",
              "      <th>actual_class</th>\n",
              "    </tr>\n",
              "  </thead>\n",
              "  <tbody>\n",
              "    <tr>\n",
              "      <th>0</th>\n",
              "      <td>-10761.764</td>\n",
              "      <td>-1293.449</td>\n",
              "      <td>0</td>\n",
              "    </tr>\n",
              "    <tr>\n",
              "      <th>1</th>\n",
              "      <td>-1515.007</td>\n",
              "      <td>10101.971</td>\n",
              "      <td>1</td>\n",
              "    </tr>\n",
              "    <tr>\n",
              "      <th>2</th>\n",
              "      <td>-10108.415</td>\n",
              "      <td>-6280.990</td>\n",
              "      <td>2</td>\n",
              "    </tr>\n",
              "    <tr>\n",
              "      <th>3</th>\n",
              "      <td>-10187.797</td>\n",
              "      <td>-3948.530</td>\n",
              "      <td>1</td>\n",
              "    </tr>\n",
              "    <tr>\n",
              "      <th>4</th>\n",
              "      <td>-9262.236</td>\n",
              "      <td>-6651.213</td>\n",
              "      <td>3</td>\n",
              "    </tr>\n",
              "  </tbody>\n",
              "</table>\n",
              "</div>"
            ],
            "text/plain": [
              "   principal component 1  principal component 2  actual_class\n",
              "0             -10761.764              -1293.449             0\n",
              "1              -1515.007              10101.971             1\n",
              "2             -10108.415              -6280.990             2\n",
              "3             -10187.797              -3948.530             1\n",
              "4              -9262.236              -6651.213             3"
            ]
          },
          "metadata": {},
          "execution_count": 124
        }
      ]
    },
    {
      "cell_type": "code",
      "metadata": {
        "colab": {
          "base_uri": "https://localhost:8080/"
        },
        "id": "zhokguizrZqf",
        "outputId": "20f2f00e-1d2d-477b-c86f-ec7816945624"
      },
      "source": [
        "pca.explained_variance_ratio_"
      ],
      "execution_count": null,
      "outputs": [
        {
          "output_type": "execute_result",
          "data": {
            "text/plain": [
              "array([0.083, 0.045])"
            ]
          },
          "metadata": {},
          "execution_count": 125
        }
      ]
    },
    {
      "cell_type": "code",
      "metadata": {
        "colab": {
          "base_uri": "https://localhost:8080/",
          "height": 606
        },
        "id": "biVt2ri8sLQG",
        "outputId": "e35f1e89-27ca-4e46-d68c-d3e9bb61d0ad"
      },
      "source": [
        "plt.figure(figsize=(16,10))\n",
        "sns.scatterplot(\n",
        "    x=\"principal component 1\", y=\"principal component 2\",\n",
        "    hue=\"actual_class\",\n",
        "    palette=sns.color_palette(\"hls\", 4),\n",
        "    data=activation_pca_df,\n",
        "    legend=\"full\",\n",
        "    alpha=0.3\n",
        ");"
      ],
      "execution_count": null,
      "outputs": [
        {
          "output_type": "display_data",
          "data": {
            "image/png": "[encoded data removed]",
            "text/plain": [
              "<Figure size 1152x720 with 1 Axes>"
            ]
          },
          "metadata": {
            "needs_background": "light"
          }
        }
      ]
    }
  ]
}