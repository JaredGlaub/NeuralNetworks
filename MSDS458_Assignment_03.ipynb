{
  "nbformat": 4,
  "nbformat_minor": 0,
  "metadata": {
    "accelerator": "GPU",
    "colab": {
      "name": "MSDS458_Assignment_03.ipynb",
      "provenance": [],
      "collapsed_sections": [
        "iKucNfkrsqrP",
        "-mFyXjJmtJ3E",
        "X6s4xhh5ysp6",
        "Bzs2FWbQIf5m",
        "aEPOPb63RNjv",
        "e3ISb8oinPnR",
        "s5eWCo88voPY",
        "bjUqGVBxGw-t",
        "RztlbCugEFaI",
        "zIwH3nto596k",
        "OUZyCyI33fPU",
        "bawulBahPZQq",
        "7g1evcaRpTKm",
        "x44eh6w-SjPa",
        "WoWhNEnKyRRv",
        "eKbuPdQToj06"
      ],
      "toc_visible": true,
      "machine_shape": "hm",
      "include_colab_link": true
    },
    "kernelspec": {
      "display_name": "Python 3",
      "language": "python",
      "name": "python3"
    },
    "language_info": {
      "codemirror_mode": {
        "name": "ipython",
        "version": 3
      },
      "file_extension": ".py",
      "mimetype": "text/x-python",
      "name": "python",
      "nbconvert_exporter": "python",
      "pygments_lexer": "ipython3",
      "version": "3.6.9"
    },
    "toc": {
      "base_numbering": 1,
      "nav_menu": {},
      "number_sections": false,
      "sideBar": true,
      "skip_h1_title": false,
      "title_cell": "Table of Contents",
      "title_sidebar": "Contents",
      "toc_cell": false,
      "toc_position": {},
      "toc_section_display": true,
      "toc_window_display": false
    }
  },
  "cells": [
    {
      "cell_type": "markdown",
      "metadata": {
        "id": "view-in-github",
        "colab_type": "text"
      },
      "source": [
        "<a href=\"https://colab.research.google.com/github/JaredGlaub/NeuralNetworks/blob/main/MSDS458_Assignment_03.ipynb\" target=\"_parent\"><img src=\"https://colab.research.google.com/assets/colab-badge.svg\" alt=\"Open In Colab\"/></a>"
      ]
    },
    {
      "cell_type": "markdown",
      "metadata": {
        "id": "Cfh9kVB-rpjo"
      },
      "source": [
        "<img src=\"https://github.com/djp840/MSDS_458_Public/blob/master/images/NorthwesternHeader.png?raw=1\">"
      ]
    },
    {
      "cell_type": "markdown",
      "metadata": {
        "id": "pRAx1f1ir1St"
      },
      "source": [
        "## MSDS458 Research Assignment 3"
      ]
    },
    {
      "cell_type": "markdown",
      "metadata": {
        "id": "jQnyR1_aFk-t"
      },
      "source": [
        "### Analyze AG_NEWS_SUBSET Data <br>\n",
        "\n",
        "AG is a collection of more than 1 million news articles. News articles have been gathered from more than 2000 news sources by ComeToMyHead in more than 1 year of activity. ComeToMyHead is an academic news search engine which has been running since July, 2004. The dataset is provided by the academic comunity for research purposes in data mining (clustering, classification, etc), information retrieval (ranking, search, etc), xml, data compression, data streaming, and any other non-commercial activity.<br> \n",
        "\n",
        "For more information, please refer to the link http://www.di.unipi.it/~gulli/AG_corpus_of_news_articles.html<br> \n",
        "\n",
        "\n",
        "The AG's news topic classification dataset is constructed by choosing 4 largest classes (**World**, **Sports**, **Business**, and **Sci/Tech**) from the original corpus. Each class contains 30,000 training samples and 1,900 testing samples. The total number of training samples is 120,000 and testing 7,600.<br>\n",
        "\n",
        "Homepage: https://arxiv.org/abs/1509.01626<br>\n",
        "\n",
        "Source code: tfds.text.AGNewsSubset\n",
        "\n",
        "Versions:\n",
        "\n",
        "1.0.0 (default): No release notes.\n",
        "Download size: 11.24 MiB\n",
        "\n",
        "Dataset size: 35.79 MiB"
      ]
    },
    {
      "cell_type": "markdown",
      "metadata": {
        "id": "oGBlk-2-NaCn"
      },
      "source": [
        "<div class=\"alert alert-block alert-success\">\n",
        "    <b>More Technical</b>: Throughout the notebook. This types of boxes provide more technical details and extra references about what you are seeing. They contain helpful tips, but you can safely skip them the first time you run through the code.\n",
        "</div>"
      ]
    },
    {
      "cell_type": "markdown",
      "metadata": {
        "id": "t-Jjr3rNr5PR"
      },
      "source": [
        "## Import packages "
      ]
    },
    {
      "cell_type": "code",
      "metadata": {
        "id": "mbrX9qUZvfs1",
        "colab": {
          "base_uri": "https://localhost:8080/"
        },
        "outputId": "6144106c-72e6-441e-bf7c-cc64cfaa9b4d"
      },
      "source": [
        "import datetime\n",
        "import time\n",
        "from packaging import version\n",
        "from collections import Counter\n",
        "import numpy as np\n",
        "import pandas as pd\n",
        "import matplotlib.pyplot as plt\n",
        "import seaborn as sns\n",
        "\n",
        "# TensorFlow and tf.keras\n",
        "import tensorflow as tf\n",
        "from tensorflow import keras\n",
        "import tensorflow_datasets as tfds\n",
        "\n",
        "!pip install contractions\n",
        "import re\n",
        "import nltk\n",
        "nltk.download('stopwords')\n",
        "nltk.download('wordnet')\n",
        "from nltk.corpus import stopwords\n",
        "from nltk.stem import WordNetLemmatizer\n",
        "\n",
        "import contractions\n",
        "import tensorflow_hub as hub\n",
        "\n",
        "from keras.wrappers.scikit_learn import KerasClassifier\n",
        "from sklearn.model_selection import RandomizedSearchCV"
      ],
      "execution_count": null,
      "outputs": [
        {
          "output_type": "stream",
          "text": [
            "Requirement already satisfied: contractions in /usr/local/lib/python3.7/dist-packages (0.0.52)\n",
            "Requirement already satisfied: textsearch>=0.0.21 in /usr/local/lib/python3.7/dist-packages (from contractions) (0.0.21)\n",
            "Requirement already satisfied: pyahocorasick in /usr/local/lib/python3.7/dist-packages (from textsearch>=0.0.21->contractions) (1.4.2)\n",
            "Requirement already satisfied: anyascii in /usr/local/lib/python3.7/dist-packages (from textsearch>=0.0.21->contractions) (0.2.0)\n",
            "[nltk_data] Downloading package stopwords to /root/nltk_data...\n",
            "[nltk_data]   Package stopwords is already up-to-date!\n",
            "[nltk_data] Downloading package wordnet to /root/nltk_data...\n",
            "[nltk_data]   Package wordnet is already up-to-date!\n"
          ],
          "name": "stdout"
        }
      ]
    },
    {
      "cell_type": "code",
      "metadata": {
        "id": "q0H8HuzHrWwN"
      },
      "source": [
        "%matplotlib inline\n",
        "np.set_printoptions(precision=3, suppress=True)"
      ],
      "execution_count": null,
      "outputs": []
    },
    {
      "cell_type": "markdown",
      "metadata": {
        "id": "b2iqmNYKxw3A"
      },
      "source": [
        "### Create a Helper Function to Plot Graphs:"
      ]
    },
    {
      "cell_type": "code",
      "metadata": {
        "id": "gg13oDZNxxMp"
      },
      "source": [
        "def plot_graphs(history, metric):\n",
        "  plt.plot(history.history[metric])\n",
        "  plt.plot(history.history['val_'+metric], '')\n",
        "  plt.xlabel(\"Epochs\")\n",
        "  plt.ylabel(metric)\n",
        "  plt.legend([metric, 'val_'+metric])"
      ],
      "execution_count": null,
      "outputs": []
    },
    {
      "cell_type": "markdown",
      "metadata": {
        "id": "iKucNfkrsqrP"
      },
      "source": [
        "### Verify TensorFlow Version and Keras Version"
      ]
    },
    {
      "cell_type": "code",
      "metadata": {
        "colab": {
          "base_uri": "https://localhost:8080/"
        },
        "id": "g_BoGg9JrWzj",
        "outputId": "3984d6aa-248f-4652-c16f-82d6d6e17f93"
      },
      "source": [
        "print(\"This notebook requires TensorFlow 2.0 or above\")\n",
        "print(\"TensorFlow version: \", tf.__version__)\n",
        "assert version.parse(tf.__version__).release[0] >=2"
      ],
      "execution_count": null,
      "outputs": [
        {
          "output_type": "stream",
          "text": [
            "This notebook requires TensorFlow 2.0 or above\n",
            "TensorFlow version:  2.5.0\n"
          ],
          "name": "stdout"
        }
      ]
    },
    {
      "cell_type": "code",
      "metadata": {
        "colab": {
          "base_uri": "https://localhost:8080/"
        },
        "id": "U_bLWHP4rW3b",
        "outputId": "71352d5b-e963-4691-f4c7-f1b92eb65d5c"
      },
      "source": [
        "print(\"Keras version: \", keras.__version__)"
      ],
      "execution_count": null,
      "outputs": [
        {
          "output_type": "stream",
          "text": [
            "Keras version:  2.5.0\n"
          ],
          "name": "stdout"
        }
      ]
    },
    {
      "cell_type": "markdown",
      "metadata": {
        "id": "-mFyXjJmtJ3E"
      },
      "source": [
        "### Mount Google Drive to Colab Environment"
      ]
    },
    {
      "cell_type": "code",
      "metadata": {
        "id": "CXm3H81YrW8-"
      },
      "source": [
        "#from google.colab import drive\n",
        "#drive.mount('/content/gdrive')"
      ],
      "execution_count": null,
      "outputs": []
    },
    {
      "cell_type": "markdown",
      "metadata": {
        "id": "X6s4xhh5ysp6"
      },
      "source": [
        "###  TensorFlow Datasets Information<br>\n",
        "<div class=\"alert alert-block alert-info\">\n",
        "    <b> ag_news_subset</b><br>\n",
        "    See https://www.tensorflow.org/datasets/catalog/ag_news_subset\n",
        "    </div>"
      ]
    },
    {
      "cell_type": "markdown",
      "metadata": {
        "id": "cL3ewSkAF4yF"
      },
      "source": [
        "Get all the words in the documents (as well as the number of words in each document) by using the encoder to get the indices associated with each token and then translating the indices to tokens. But first we need to get the \"unpadded\" new articles so that we can get their length."
      ]
    },
    {
      "cell_type": "code",
      "metadata": {
        "colab": {
          "base_uri": "https://localhost:8080/"
        },
        "id": "VNj2HSxNtTNS",
        "scrolled": false,
        "outputId": "c859f274-4cf7-4c91-9d68-4b64a593652f"
      },
      "source": [
        "#register  ag_news_subset so that tfds.load doesn't generate a checksum (mismatch) error\n",
        "!python -m tensorflow_datasets.scripts.download_and_prepare --register_checksums --datasets=ag_news_subset\n",
        "\n",
        "# https://www.tensorflow.org/datasets/splits\n",
        "# The full `train` and `test` splits, interleaved together.\n",
        "ri = tfds.core.ReadInstruction('train') + tfds.core.ReadInstruction('test')\n",
        "dataset_all, info = tfds.load('ag_news_subset', with_info=True,  split=ri, as_supervised=True)"
      ],
      "execution_count": null,
      "outputs": [
        {
          "output_type": "stream",
          "text": [
            "2021-08-07 22:25:19.572747: I tensorflow/stream_executor/platform/default/dso_loader.cc:53] Successfully opened dynamic library libcudart.so.11.0\n",
            "I0807 22:25:21.596404 139726654343040 download_and_prepare.py:200] Running download_and_prepare for dataset(s):\n",
            "ag_news_subset\n",
            "I0807 22:25:21.597107 139726654343040 dataset_info.py:361] Load dataset info from /root/tensorflow_datasets/ag_news_subset/1.0.0\n",
            "I0807 22:25:21.598375 139726654343040 download_and_prepare.py:138] download_and_prepare for dataset ag_news_subset/1.0.0...\n",
            "I0807 22:25:21.598575 139726654343040 dataset_builder.py:299] Reusing dataset ag_news_subset (/root/tensorflow_datasets/ag_news_subset/1.0.0)\n",
            "\u001b[1mname: \"ag_news_subset\"\n",
            "description: \"AG is a collection of more than 1 million news articles.\\nNews articles have been gathered from more than 2000  news sources by ComeToMyHead in more than 1 year of activity.\\nComeToMyHead is an academic news search engine which has been running since July, 2004.\\nThe dataset is provided by the academic comunity for research purposes in data mining (clustering, classification, etc),\\ninformation retrieval (ranking, search, etc), xml, data compression, data streaming,\\nand any other non-commercial activity.\\nFor more information, please refer to the link http://www.di.unipi.it/~gulli/AG_corpus_of_news_articles.html .\\n\\nThe AG\\'s news topic classification dataset is constructed by Xiang Zhang (xiang.zhang@nyu.edu) from the dataset above.\\nIt is used as a text classification benchmark in the following paper:\\nXiang Zhang, Junbo Zhao, Yann LeCun. Character-level Convolutional Networks for Text Classification. Advances in Neural Information Processing Systems 28 (NIPS 2015).\\n\\nThe AG\\'s news topic classification dataset is constructed by choosing 4 largest classes from the original corpus.\\nEach class contains 30,000 training samples and 1,900 testing samples.\\nThe total number of training samples is 120,000 and testing 7,600.\"\n",
            "citation: \"@misc{zhang2015characterlevel,\\n    title={Character-level Convolutional Networks for Text Classification},\\n    author={Xiang Zhang and Junbo Zhao and Yann LeCun},\\n    year={2015},\\n    eprint={1509.01626},\\n    archivePrefix={arXiv},\\n    primaryClass={cs.LG}\\n}\"\n",
            "location {\n",
            "  urls: \"https://arxiv.org/abs/1509.01626\"\n",
            "}\n",
            "splits {\n",
            "  name: \"test\"\n",
            "  shard_lengths: 7600\n",
            "  num_bytes: 2226751\n",
            "}\n",
            "splits {\n",
            "  name: \"train\"\n",
            "  shard_lengths: 120000\n",
            "  num_bytes: 35301386\n",
            "}\n",
            "supervised_keys {\n",
            "  input: \"description\"\n",
            "  output: \"label\"\n",
            "}\n",
            "version: \"1.0.0\"\n",
            "download_size: 11784327\n",
            "\u001b[0m\n"
          ],
          "name": "stdout"
        }
      ]
    },
    {
      "cell_type": "markdown",
      "metadata": {
        "id": "Bzs2FWbQIf5m"
      },
      "source": [
        "###  Exploratory Analysis AG News Subset"
      ]
    },
    {
      "cell_type": "markdown",
      "metadata": {
        "id": "m7514-j4I4B-"
      },
      "source": [
        "**Get information about the ag_news_subset dataset. We combined the training and test data for a total of 127,600 news articles.**"
      ]
    },
    {
      "cell_type": "code",
      "metadata": {
        "colab": {
          "base_uri": "https://localhost:8080/"
        },
        "id": "eJNcnZbRtTQ2",
        "outputId": "976c9f41-2109-4239-d207-13ace73c58a2"
      },
      "source": [
        "print(info)"
      ],
      "execution_count": null,
      "outputs": [
        {
          "output_type": "stream",
          "text": [
            "tfds.core.DatasetInfo(\n",
            "    name='ag_news_subset',\n",
            "    version=1.0.0,\n",
            "    description='AG is a collection of more than 1 million news articles.\n",
            "News articles have been gathered from more than 2000  news sources by ComeToMyHead in more than 1 year of activity.\n",
            "ComeToMyHead is an academic news search engine which has been running since July, 2004.\n",
            "The dataset is provided by the academic comunity for research purposes in data mining (clustering, classification, etc),\n",
            "information retrieval (ranking, search, etc), xml, data compression, data streaming,\n",
            "and any other non-commercial activity.\n",
            "For more information, please refer to the link http://www.di.unipi.it/~gulli/AG_corpus_of_news_articles.html .\n",
            "\n",
            "The AG's news topic classification dataset is constructed by Xiang Zhang (xiang.zhang@nyu.edu) from the dataset above.\n",
            "It is used as a text classification benchmark in the following paper:\n",
            "Xiang Zhang, Junbo Zhao, Yann LeCun. Character-level Convolutional Networks for Text Classification. Advances in Neural Information Processing Systems 28 (NIPS 2015).\n",
            "\n",
            "The AG's news topic classification dataset is constructed by choosing 4 largest classes from the original corpus.\n",
            "Each class contains 30,000 training samples and 1,900 testing samples.\n",
            "The total number of training samples is 120,000 and testing 7,600.',\n",
            "    homepage='https://arxiv.org/abs/1509.01626',\n",
            "    features=FeaturesDict({\n",
            "        'description': Text(shape=(), dtype=tf.string),\n",
            "        'label': ClassLabel(shape=(), dtype=tf.int64, num_classes=4),\n",
            "        'title': Text(shape=(), dtype=tf.string),\n",
            "    }),\n",
            "    total_num_examples=127600,\n",
            "    splits={\n",
            "        'test': 7600,\n",
            "        'train': 120000,\n",
            "    },\n",
            "    supervised_keys=('description', 'label'),\n",
            "    citation=\"\"\"@misc{zhang2015characterlevel,\n",
            "        title={Character-level Convolutional Networks for Text Classification},\n",
            "        author={Xiang Zhang and Junbo Zhao and Yann LeCun},\n",
            "        year={2015},\n",
            "        eprint={1509.01626},\n",
            "        archivePrefix={arXiv},\n",
            "        primaryClass={cs.LG}\n",
            "    }\"\"\",\n",
            "    redistribution_info=,\n",
            ")\n",
            "\n"
          ],
          "name": "stdout"
        }
      ]
    },
    {
      "cell_type": "code",
      "metadata": {
        "colab": {
          "base_uri": "https://localhost:8080/"
        },
        "id": "w6GaSzMRqrIR",
        "outputId": "14b2276e-a7ea-4a29-ab1c-175785e96574"
      },
      "source": [
        "tfds.as_dataframe(dataset_all.take(10),info)"
      ],
      "execution_count": null,
      "outputs": [
        {
          "output_type": "execute_result",
          "data": {
            "text/html": [
              "<style  type=\"text/css\" >\n",
              "</style><table id=\"T_5b17049e_f7ce_11eb_acef_0242ac1c0002\" ><thead>    <tr>        <th class=\"blank level0\" ></th>        <th class=\"col_heading level0 col0\" >description</th>        <th class=\"col_heading level0 col1\" >label</th>    </tr></thead><tbody>\n",
              "                <tr>\n",
              "                        <th id=\"T_5b17049e_f7ce_11eb_acef_0242ac1c0002level0_row0\" class=\"row_heading level0 row0\" >0</th>\n",
              "                        <td id=\"T_5b17049e_f7ce_11eb_acef_0242ac1c0002row0_col0\" class=\"data row0 col0\" >AMD #39;s new dual-core Opteron chip is designed mainly for corporate computing applications, including databases, Web services, and financial transactions.</td>\n",
              "                        <td id=\"T_5b17049e_f7ce_11eb_acef_0242ac1c0002row0_col1\" class=\"data row0 col1\" >3 (Sci/Tech)</td>\n",
              "            </tr>\n",
              "            <tr>\n",
              "                        <th id=\"T_5b17049e_f7ce_11eb_acef_0242ac1c0002level0_row1\" class=\"row_heading level0 row1\" >1</th>\n",
              "                        <td id=\"T_5b17049e_f7ce_11eb_acef_0242ac1c0002row1_col0\" class=\"data row1 col0\" >Reuters - Major League Baseball\\Monday announced a decision on the appeal filed by Chicago Cubs\\pitcher Kerry Wood regarding a suspension stemming from an\\incident earlier this season.</td>\n",
              "                        <td id=\"T_5b17049e_f7ce_11eb_acef_0242ac1c0002row1_col1\" class=\"data row1 col1\" >1 (Sports)</td>\n",
              "            </tr>\n",
              "            <tr>\n",
              "                        <th id=\"T_5b17049e_f7ce_11eb_acef_0242ac1c0002level0_row2\" class=\"row_heading level0 row2\" >2</th>\n",
              "                        <td id=\"T_5b17049e_f7ce_11eb_acef_0242ac1c0002row2_col0\" class=\"data row2 col0\" >President Bush #39;s quot;revenue-neutral quot; tax reform needs losers to balance its winners, and people claiming the federal deduction for state and local taxes may be in administration planners #39; sights, news reports say.</td>\n",
              "                        <td id=\"T_5b17049e_f7ce_11eb_acef_0242ac1c0002row2_col1\" class=\"data row2 col1\" >2 (Business)</td>\n",
              "            </tr>\n",
              "            <tr>\n",
              "                        <th id=\"T_5b17049e_f7ce_11eb_acef_0242ac1c0002level0_row3\" class=\"row_heading level0 row3\" >3</th>\n",
              "                        <td id=\"T_5b17049e_f7ce_11eb_acef_0242ac1c0002row3_col0\" class=\"data row3 col0\" >Britain will run out of leading scientists unless science education is improved, says Professor Colin Pillinger.</td>\n",
              "                        <td id=\"T_5b17049e_f7ce_11eb_acef_0242ac1c0002row3_col1\" class=\"data row3 col1\" >3 (Sci/Tech)</td>\n",
              "            </tr>\n",
              "            <tr>\n",
              "                        <th id=\"T_5b17049e_f7ce_11eb_acef_0242ac1c0002level0_row4\" class=\"row_heading level0 row4\" >4</th>\n",
              "                        <td id=\"T_5b17049e_f7ce_11eb_acef_0242ac1c0002row4_col0\" class=\"data row4 col0\" >London, England (Sports Network) - England midfielder Steven Gerrard injured his groin late in Thursday #39;s training session, but is hopeful he will be ready for Saturday #39;s World Cup qualifier against Austria.</td>\n",
              "                        <td id=\"T_5b17049e_f7ce_11eb_acef_0242ac1c0002row4_col1\" class=\"data row4 col1\" >1 (Sports)</td>\n",
              "            </tr>\n",
              "            <tr>\n",
              "                        <th id=\"T_5b17049e_f7ce_11eb_acef_0242ac1c0002level0_row5\" class=\"row_heading level0 row5\" >5</th>\n",
              "                        <td id=\"T_5b17049e_f7ce_11eb_acef_0242ac1c0002row5_col0\" class=\"data row5 col0\" >TOKYO - Sony Corp. is banking on the \\$3 billion deal to acquire Hollywood studio Metro-Goldwyn-Mayer Inc...</td>\n",
              "                        <td id=\"T_5b17049e_f7ce_11eb_acef_0242ac1c0002row5_col1\" class=\"data row5 col1\" >0 (World)</td>\n",
              "            </tr>\n",
              "            <tr>\n",
              "                        <th id=\"T_5b17049e_f7ce_11eb_acef_0242ac1c0002level0_row6\" class=\"row_heading level0 row6\" >6</th>\n",
              "                        <td id=\"T_5b17049e_f7ce_11eb_acef_0242ac1c0002row6_col0\" class=\"data row6 col0\" >Giant pandas may well prefer bamboo to laptops, but wireless technology is helping researchers in China in their efforts to protect the engandered animals living in the remote Wolong Nature Reserve.</td>\n",
              "                        <td id=\"T_5b17049e_f7ce_11eb_acef_0242ac1c0002row6_col1\" class=\"data row6 col1\" >3 (Sci/Tech)</td>\n",
              "            </tr>\n",
              "            <tr>\n",
              "                        <th id=\"T_5b17049e_f7ce_11eb_acef_0242ac1c0002level0_row7\" class=\"row_heading level0 row7\" >7</th>\n",
              "                        <td id=\"T_5b17049e_f7ce_11eb_acef_0242ac1c0002row7_col0\" class=\"data row7 col0\" >VILNIUS, Lithuania - Lithuania #39;s main parties formed an alliance to try to keep a Russian-born tycoon and his populist promises out of the government in Sunday #39;s second round of parliamentary elections in this Baltic country.</td>\n",
              "                        <td id=\"T_5b17049e_f7ce_11eb_acef_0242ac1c0002row7_col1\" class=\"data row7 col1\" >0 (World)</td>\n",
              "            </tr>\n",
              "            <tr>\n",
              "                        <th id=\"T_5b17049e_f7ce_11eb_acef_0242ac1c0002level0_row8\" class=\"row_heading level0 row8\" >8</th>\n",
              "                        <td id=\"T_5b17049e_f7ce_11eb_acef_0242ac1c0002row8_col0\" class=\"data row8 col0\" >Witnesses in the trial of a US soldier charged with abusing prisoners at Abu Ghraib have told the court that the CIA sometimes directed abuse and orders were received from military command to toughen interrogations.</td>\n",
              "                        <td id=\"T_5b17049e_f7ce_11eb_acef_0242ac1c0002row8_col1\" class=\"data row8 col1\" >0 (World)</td>\n",
              "            </tr>\n",
              "            <tr>\n",
              "                        <th id=\"T_5b17049e_f7ce_11eb_acef_0242ac1c0002level0_row9\" class=\"row_heading level0 row9\" >9</th>\n",
              "                        <td id=\"T_5b17049e_f7ce_11eb_acef_0242ac1c0002row9_col0\" class=\"data row9 col0\" >Dan Olsen of Ponte Vedra Beach, Fla., shot a 7-under 65 Thursday to take a one-shot lead after two rounds of the PGA Tour qualifying tournament.</td>\n",
              "                        <td id=\"T_5b17049e_f7ce_11eb_acef_0242ac1c0002row9_col1\" class=\"data row9 col1\" >1 (Sports)</td>\n",
              "            </tr>\n",
              "    </tbody></table>"
            ],
            "text/plain": [
              "                                         description  label\n",
              "0  b'AMD #39;s new dual-core Opteron chip is desi...      3\n",
              "1  b'Reuters - Major League Baseball\\\\Monday anno...      1\n",
              "2  b'President Bush #39;s  quot;revenue-neutral q...      2\n",
              "3  b'Britain will run out of leading scientists u...      3\n",
              "4  b'London, England (Sports Network) - England m...      1\n",
              "5  b'TOKYO - Sony Corp. is banking on the \\\\$3 bi...      0\n",
              "6  b'Giant pandas may well prefer bamboo to lapto...      3\n",
              "7  b'VILNIUS, Lithuania - Lithuania #39;s main pa...      0\n",
              "8  b'Witnesses in the trial of a US soldier charg...      0\n",
              "9  b'Dan Olsen of Ponte Vedra Beach, Fla., shot a...      1"
            ]
          },
          "metadata": {
            "tags": []
          },
          "execution_count": 8
        }
      ]
    },
    {
      "cell_type": "code",
      "metadata": {
        "colab": {
          "base_uri": "https://localhost:8080/"
        },
        "id": "ehhEDNU1cCgY",
        "outputId": "87031238-3a5d-45b1-87bc-27d5790ed8b2"
      },
      "source": [
        "first100 = pd.DataFrame(tfds.as_dataframe(dataset_all.take(100),info))\n",
        "# first100.loc(['description'])\n",
        "# first100.iloc[:1]\n",
        "first100.iloc[15, 0]"
      ],
      "execution_count": null,
      "outputs": [
        {
          "output_type": "execute_result",
          "data": {
            "text/plain": [
              "b'London, Oct 04 - Thierry Henry scored twice as arsenal easily beat Charlton 4-0 to extend its unbeaten premier league streak to 48 matches and bounce back from alleged team disunity.'"
            ]
          },
          "metadata": {
            "tags": []
          },
          "execution_count": 9
        }
      ]
    },
    {
      "cell_type": "markdown",
      "metadata": {
        "id": "RoG_cOcMMKgC"
      },
      "source": [
        "### Review Labels (Categories) "
      ]
    },
    {
      "cell_type": "code",
      "metadata": {
        "colab": {
          "base_uri": "https://localhost:8080/"
        },
        "id": "4uBCsL_8tTUU",
        "outputId": "5ead63bb-0bac-4046-cc65-6094c30c95e1"
      },
      "source": [
        "print(f'There are {info.features[\"label\"].num_classes} classes in the dataset.')\n",
        "print(f'The class names are {info.features[\"label\"].names}')"
      ],
      "execution_count": null,
      "outputs": [
        {
          "output_type": "stream",
          "text": [
            "There are 4 classes in the dataset.\n",
            "The class names are ['World', 'Sports', 'Business', 'Sci/Tech']\n"
          ],
          "name": "stdout"
        }
      ]
    },
    {
      "cell_type": "code",
      "metadata": {
        "colab": {
          "base_uri": "https://localhost:8080/"
        },
        "id": "fRbULmnCtTXo",
        "outputId": "69dabd8a-fb99-40b3-d78d-005e4d3ed25d"
      },
      "source": [
        "# classes dictionary\n",
        "categories =dict(enumerate(info.features[\"label\"].names))\n",
        "categories"
      ],
      "execution_count": null,
      "outputs": [
        {
          "output_type": "execute_result",
          "data": {
            "text/plain": [
              "{0: 'World', 1: 'Sports', 2: 'Business', 3: 'Sci/Tech'}"
            ]
          },
          "metadata": {
            "tags": []
          },
          "execution_count": 11
        }
      ]
    },
    {
      "cell_type": "markdown",
      "metadata": {
        "id": "xXQzudk9MmOs"
      },
      "source": [
        "The 127,600 news articles are evenly distributed among the 4 categories"
      ]
    },
    {
      "cell_type": "code",
      "metadata": {
        "colab": {
          "base_uri": "https://localhost:8080/"
        },
        "id": "PRtOaULstTbJ",
        "outputId": "2d6c8852-c92e-45db-c45c-be0c655efccb"
      },
      "source": [
        "train_categories = [categories[label] for label in dataset_all.map(lambda text, label: label).as_numpy_iterator()]\n",
        "Counter(train_categories).most_common()"
      ],
      "execution_count": null,
      "outputs": [
        {
          "output_type": "execute_result",
          "data": {
            "text/plain": [
              "[('Sci/Tech', 31900), ('Sports', 31900), ('Business', 31900), ('World', 31900)]"
            ]
          },
          "metadata": {
            "tags": []
          },
          "execution_count": 12
        }
      ]
    },
    {
      "cell_type": "code",
      "metadata": {
        "id": "W4FD0cuhjq5x"
      },
      "source": [
        "# create new dataset_all with \" 39#s\" replaced by \"'s\""
      ],
      "execution_count": null,
      "outputs": []
    },
    {
      "cell_type": "markdown",
      "metadata": {
        "id": "k6-1-zvxdS8f"
      },
      "source": [
        "We will use the tf.keras.layers.experimental.preprocessing.TextVectorization layer to transform each news article into a \"list\" of non-negative integers representing the tokens in the news article.\n",
        "\n",
        "For the purpose of training our models each such \"encoding\" will have a fixed length corresponding to the news article(s) with the most tokens. Shorter articles will be right-padded with zeros in the encoding. Also to speed up the training process, we will set max_tokens = 1000 so that words not in the vabulary set of top 1000 most common tokes are encoded as 1. But first we set max_tokens = None (which is the default value) in order to get the vocabulary size of the corpus.\n"
      ]
    },
    {
      "cell_type": "code",
      "metadata": {
        "colab": {
          "base_uri": "https://localhost:8080/"
        },
        "id": "WYY7P-aaeU4Z",
        "outputId": "cf5c4a32-aa52-4192-9170-044e54a63dad"
      },
      "source": [
        "%%time\n",
        "encoder = tf.keras.layers.experimental.preprocessing.TextVectorization(max_tokens=None)\n",
        "encoder.adapt(dataset_all.map(lambda text, label: text))\n",
        "vocab = np.array(encoder.get_vocabulary())"
      ],
      "execution_count": null,
      "outputs": [
        {
          "output_type": "stream",
          "text": [
            "WARNING:tensorflow:AutoGraph could not transform <function <lambda> at 0x7fe0600820e0> and will run it as-is.\n",
            "Cause: could not parse the source code of <function <lambda> at 0x7fe0600820e0>: no matching AST found\n",
            "To silence this warning, decorate the function with @tf.autograph.experimental.do_not_convert\n"
          ],
          "name": "stdout"
        },
        {
          "output_type": "stream",
          "text": [
            "WARNING:tensorflow:AutoGraph could not transform <function <lambda> at 0x7fe0600820e0> and will run it as-is.\n",
            "Cause: could not parse the source code of <function <lambda> at 0x7fe0600820e0>: no matching AST found\n",
            "To silence this warning, decorate the function with @tf.autograph.experimental.do_not_convert\n"
          ],
          "name": "stderr"
        },
        {
          "output_type": "stream",
          "text": [
            "WARNING: AutoGraph could not transform <function <lambda> at 0x7fe0600820e0> and will run it as-is.\n",
            "Cause: could not parse the source code of <function <lambda> at 0x7fe0600820e0>: no matching AST found\n",
            "To silence this warning, decorate the function with @tf.autograph.experimental.do_not_convert\n",
            "CPU times: user 1min 29s, sys: 16.5 s, total: 1min 46s\n",
            "Wall time: 1min 22s\n"
          ],
          "name": "stdout"
        }
      ]
    },
    {
      "cell_type": "code",
      "metadata": {
        "colab": {
          "base_uri": "https://localhost:8080/"
        },
        "id": "iKGVb8_Jeyig",
        "outputId": "b4f1d33e-df90-4086-e501-ca520ef17f6e"
      },
      "source": [
        "print(f\"There are {len(vocab)} vocabulary words in the corpus.\")"
      ],
      "execution_count": null,
      "outputs": [
        {
          "output_type": "stream",
          "text": [
            "There are 95976 vocabulary words in the corpus.\n"
          ],
          "name": "stdout"
        }
      ]
    },
    {
      "cell_type": "markdown",
      "metadata": {
        "id": "PlQ3s9QUe3CX"
      },
      "source": [
        "There are 95976 vocabulary words in the corpus.\n",
        "\n",
        "The .adapt method sets the layer's vocabulary. Here are the first 20 tokens. After the padding and unknown tokens they're sorted by frequency:"
      ]
    },
    {
      "cell_type": "code",
      "metadata": {
        "colab": {
          "base_uri": "https://localhost:8080/"
        },
        "id": "_Z2Io_yoe8zW",
        "outputId": "019f87dd-8fa9-4607-83ac-c7da84477945"
      },
      "source": [
        "vocab[:20]"
      ],
      "execution_count": null,
      "outputs": [
        {
          "output_type": "execute_result",
          "data": {
            "text/plain": [
              "array(['', '[UNK]', 'the', 'a', 'to', 'of', 'in', 'and', 'on', 'for',\n",
              "       'that', '39s', 'with', 'its', 'as', 'at', 'is', 'said', 'by', 'it'],\n",
              "      dtype='<U150')"
            ]
          },
          "metadata": {
            "tags": []
          },
          "execution_count": 16
        }
      ]
    },
    {
      "cell_type": "markdown",
      "metadata": {
        "id": "wJ0MQCTAfdCL"
      },
      "source": [
        "Let us get the total number of words in the corpus and the sizes of the news articles"
      ]
    },
    {
      "cell_type": "code",
      "metadata": {
        "colab": {
          "base_uri": "https://localhost:8080/"
        },
        "id": "l3TlBRwMfXde",
        "outputId": "6d07526f-616d-4692-a447-1ee51f366432"
      },
      "source": [
        "%%time\n",
        "doc_sizes = []\n",
        "corpus = []\n",
        "for example, _ in dataset_all.as_numpy_iterator():\n",
        "  enc_example = encoder(example)\n",
        "  doc_sizes.append(len(enc_example))\n",
        "  corpus+=list(enc_example.numpy())"
      ],
      "execution_count": null,
      "outputs": [
        {
          "output_type": "stream",
          "text": [
            "CPU times: user 10min 42s, sys: 1min 3s, total: 11min 45s\n",
            "Wall time: 9min 9s\n"
          ],
          "name": "stdout"
        }
      ]
    },
    {
      "cell_type": "code",
      "metadata": {
        "colab": {
          "base_uri": "https://localhost:8080/"
        },
        "id": "XEbVpRHyfXqU",
        "outputId": "ad2ac57e-da03-44f7-8da9-5d1b0256a4b7"
      },
      "source": [
        "print(f\"There are {len(corpus)} words in the corpus of {len(doc_sizes)} news articles.\")\n",
        "print(f\"Each news article has between {min(doc_sizes)} and {max(doc_sizes)} tokens in it.\")"
      ],
      "execution_count": null,
      "outputs": [
        {
          "output_type": "stream",
          "text": [
            "There are 3909695 words in the corpus of 127600 news articles.\n",
            "Each news article has between 3 and 173 tokens in it.\n"
          ],
          "name": "stdout"
        }
      ]
    },
    {
      "cell_type": "code",
      "metadata": {
        "colab": {
          "base_uri": "https://localhost:8080/",
          "height": 551
        },
        "id": "mgtVVxL-i8Uo",
        "outputId": "3a0c0991-9ea1-4ddb-dfb0-0ba28f0b3557"
      },
      "source": [
        "plt.figure(figsize=(15,9))\n",
        "plt.hist(doc_sizes, bins=20,range = (0,120))\n",
        "plt.xlabel(\"Tokens Per Document\")\n",
        "plt.ylabel(\"Number of AG News Articles\");"
      ],
      "execution_count": null,
      "outputs": [
        {
          "output_type": "display_data",
          "data": {
            "image/png": "[encoded data removed]",
            "text/plain": [
              "<Figure size 1080x648 with 1 Axes>"
            ]
          },
          "metadata": {
            "tags": [],
            "needs_background": "light"
          }
        }
      ]
    },
    {
      "cell_type": "markdown",
      "metadata": {
        "id": "gu7roRaAjDYH"
      },
      "source": [
        "Encode the news articles using the top 1000 most common words in the corpus"
      ]
    },
    {
      "cell_type": "code",
      "metadata": {
        "colab": {
          "base_uri": "https://localhost:8080/"
        },
        "id": "Z4fN-QeAjCFZ",
        "outputId": "7888ab5d-dba1-465e-9e00-f1bf05037c05"
      },
      "source": [
        "%%time\n",
        "encoder_1000 = tf.keras.layers.experimental.preprocessing.TextVectorization(max_tokens=1000)\n",
        "encoder_1000.adapt(dataset_all.map(lambda text, label: text))\n",
        "vocab_1000 = np.array(encoder_1000.get_vocabulary());"
      ],
      "execution_count": null,
      "outputs": [
        {
          "output_type": "stream",
          "text": [
            "WARNING:tensorflow:AutoGraph could not transform <function <lambda> at 0x7fe00629e0e0> and will run it as-is.\n",
            "Cause: could not parse the source code of <function <lambda> at 0x7fe00629e0e0>: no matching AST found\n",
            "To silence this warning, decorate the function with @tf.autograph.experimental.do_not_convert\n"
          ],
          "name": "stdout"
        },
        {
          "output_type": "stream",
          "text": [
            "WARNING:tensorflow:AutoGraph could not transform <function <lambda> at 0x7fe00629e0e0> and will run it as-is.\n",
            "Cause: could not parse the source code of <function <lambda> at 0x7fe00629e0e0>: no matching AST found\n",
            "To silence this warning, decorate the function with @tf.autograph.experimental.do_not_convert\n"
          ],
          "name": "stderr"
        },
        {
          "output_type": "stream",
          "text": [
            "WARNING: AutoGraph could not transform <function <lambda> at 0x7fe00629e0e0> and will run it as-is.\n",
            "Cause: could not parse the source code of <function <lambda> at 0x7fe00629e0e0>: no matching AST found\n",
            "To silence this warning, decorate the function with @tf.autograph.experimental.do_not_convert\n",
            "CPU times: user 1min 29s, sys: 16.6 s, total: 1min 45s\n",
            "Wall time: 47.9 s\n"
          ],
          "name": "stdout"
        }
      ]
    },
    {
      "cell_type": "markdown",
      "metadata": {
        "id": "M65FlO5QjeFb"
      },
      "source": [
        "The .adapt method sets the layer's vocabulary. Here are the first 20 tokens. After the padding and unknown tokens they're sorted by frequency:"
      ]
    },
    {
      "cell_type": "code",
      "metadata": {
        "id": "BBTFJ-RUjcug",
        "colab": {
          "base_uri": "https://localhost:8080/"
        },
        "outputId": "cde8e291-14ff-4d20-cffa-ca7ecbd9ec97"
      },
      "source": [
        "vocab_1000[:20]"
      ],
      "execution_count": null,
      "outputs": [
        {
          "output_type": "execute_result",
          "data": {
            "text/plain": [
              "array(['', '[UNK]', 'the', 'a', 'to', 'of', 'in', 'and', 'on', 'for',\n",
              "       'that', '39s', 'with', 'its', 'as', 'at', 'is', 'said', 'by', 'it'],\n",
              "      dtype='<U14')"
            ]
          },
          "metadata": {
            "tags": []
          },
          "execution_count": 21
        }
      ]
    },
    {
      "cell_type": "markdown",
      "metadata": {
        "id": "pejvLRAMjlZJ"
      },
      "source": [
        "In particular, 0 is use for padding, 1 for the unknown words, 2 for the common word, i.e. 'the', etc. Let us look at the same example we encoded previously using the encoder for all the vocabulary words. Note that there are now five 1's denoting words that are not in the top 1000 in frequency.\n",
        "\n",
        "We encode the same example as before using the new encoder. Note that there are now 5 out of vocabulary words."
      ]
    },
    {
      "cell_type": "code",
      "metadata": {
        "id": "4Am3_fw5jqBV",
        "colab": {
          "base_uri": "https://localhost:8080/"
        },
        "outputId": "950b575a-8bc7-4c32-b205-359d2e80569f"
      },
      "source": [
        "example = \"the dog ran after a red ball as it rolled by the hat on the ground.\"\n",
        "encoder_1000(example)"
      ],
      "execution_count": null,
      "outputs": [
        {
          "output_type": "execute_result",
          "data": {
            "text/plain": [
              "<tf.Tensor: shape=(16,), dtype=int64, numpy=\n",
              "array([  2,   1,   1,  29,   3, 232,   1,  14,  19,   1,  18,   2,   1,\n",
              "         8,   2, 999])>"
            ]
          },
          "metadata": {
            "tags": []
          },
          "execution_count": 22
        }
      ]
    },
    {
      "cell_type": "code",
      "metadata": {
        "id": "J4OtDWMxjuos",
        "colab": {
          "base_uri": "https://localhost:8080/"
        },
        "outputId": "71bd70af-2192-4da4-eb2e-2cffa09c01e3"
      },
      "source": [
        "for word in example.split():\n",
        "  print(f'\"{word}\" is {\"*not* \" if word not in vocab_1000  else \"\"}in the vocabulary.')"
      ],
      "execution_count": null,
      "outputs": [
        {
          "output_type": "stream",
          "text": [
            "\"the\" is in the vocabulary.\n",
            "\"dog\" is *not* in the vocabulary.\n",
            "\"ran\" is *not* in the vocabulary.\n",
            "\"after\" is in the vocabulary.\n",
            "\"a\" is in the vocabulary.\n",
            "\"red\" is in the vocabulary.\n",
            "\"ball\" is *not* in the vocabulary.\n",
            "\"as\" is in the vocabulary.\n",
            "\"it\" is in the vocabulary.\n",
            "\"rolled\" is *not* in the vocabulary.\n",
            "\"by\" is in the vocabulary.\n",
            "\"the\" is in the vocabulary.\n",
            "\"hat\" is *not* in the vocabulary.\n",
            "\"on\" is in the vocabulary.\n",
            "\"the\" is in the vocabulary.\n",
            "\"ground.\" is *not* in the vocabulary.\n"
          ],
          "name": "stdout"
        }
      ]
    },
    {
      "cell_type": "markdown",
      "metadata": {
        "id": "DbrBW9_zjzOA"
      },
      "source": [
        "We want to determine the number of non-vocabulary words in each news articles (denoted by 1s in the encoding)"
      ]
    },
    {
      "cell_type": "code",
      "metadata": {
        "id": "JoPf9hvsj5h0",
        "colab": {
          "base_uri": "https://localhost:8080/"
        },
        "outputId": "8a71def1-3203-4d50-efde-67770b67cda4"
      },
      "source": [
        "%%time\n",
        "doc1000_sizes = []\n",
        "corpus1000 = []\n",
        "count1000=0\n",
        "useless = 0\n",
        "# stop = 0\n",
        "percents = []\n",
        "for example, _ in dataset_all.as_numpy_iterator():\n",
        "  # stop+=1\n",
        "  # if stop > 5: break\n",
        "  enc_example = encoder_1000(example)\n",
        "  num_ones = tf.math.count_nonzero(enc_example==1).numpy()\n",
        "  percent_ones = round(num_ones*100/len(enc_example))\n",
        "  # print(f\"{percent_ones}%\")\n",
        "  percents.append(percent_ones)\n",
        "\n",
        "  s = set(list(enc_example.numpy()))\n",
        "  if s == {1}: useless+=1\n",
        "\n",
        "  doc1000_sizes.append(len(enc_example))\n",
        "  corpus1000+=list(enc_example.numpy())\n",
        "\n",
        "  count1000 += tf.math.count_nonzero(enc_example>1)"
      ],
      "execution_count": null,
      "outputs": [
        {
          "output_type": "stream",
          "text": [
            "CPU times: user 12min 41s, sys: 1min 11s, total: 13min 53s\n",
            "Wall time: 10min 59s\n"
          ],
          "name": "stdout"
        }
      ]
    },
    {
      "cell_type": "code",
      "metadata": {
        "colab": {
          "base_uri": "https://localhost:8080/"
        },
        "id": "2vy5wpoAkHCQ",
        "outputId": "25df08bb-f527-441a-940d-0c1d5cbd21e7"
      },
      "source": [
        "print(f\"Each news article has between {min(doc1000_sizes)} and {max(doc1000_sizes)} tokens in it.\")"
      ],
      "execution_count": null,
      "outputs": [
        {
          "output_type": "stream",
          "text": [
            "Each news article has between 3 and 173 tokens in it.\n"
          ],
          "name": "stdout"
        }
      ]
    },
    {
      "cell_type": "code",
      "metadata": {
        "id": "IZFeEWE0kXE5",
        "colab": {
          "base_uri": "https://localhost:8080/"
        },
        "outputId": "f6a92584-2553-43ed-f9c7-4c49b4093334"
      },
      "source": [
        "Counter(percents).most_common(10)\n",
        "np.unique(percents, return_counts=True) "
      ],
      "execution_count": null,
      "outputs": [
        {
          "output_type": "execute_result",
          "data": {
            "text/plain": [
              "(array([  0,   3,   4,   5,   6,   7,   8,   9,  10,  11,  12,  13,  14,\n",
              "         15,  16,  17,  18,  19,  20,  21,  22,  23,  24,  25,  26,  27,\n",
              "         28,  29,  30,  31,  32,  33,  34,  35,  36,  37,  38,  39,  40,\n",
              "         41,  42,  43,  44,  45,  46,  47,  48,  49,  50,  51,  52,  53,\n",
              "         54,  55,  56,  57,  58,  59,  60,  61,  62,  63,  64,  65,  66,\n",
              "         67,  68,  69,  70,  71,  72,  73,  74,  75,  76,  77,  78,  79,\n",
              "         80,  81,  82,  83,  84,  85,  86,  87,  88,  89,  90,  91,  92,\n",
              "         93,  95,  97, 100]),\n",
              " array([  12,    5,   20,   29,   49,   71,  120,  137,  172,  274,  486,\n",
              "         368,  682,  777,  828, 1346, 1376, 2123, 1610, 2863, 2687, 3018,\n",
              "        3957, 3315, 4605, 3934, 4148, 5737, 4954, 5072, 6123, 6165, 3255,\n",
              "        5095, 4596, 3438, 5880, 4205, 3109, 4063, 3555, 3030, 2904, 2294,\n",
              "        1967, 1716, 2174,  368, 2486,  234, 1246,  747,  573,  547,  520,\n",
              "         441,  348,  217,  250,  135,  234,   49,  131,  101,   11,  135,\n",
              "          40,   62,   33,   53,    8,   34,   10,   55,   10,    8,   15,\n",
              "           3,   27,    9,    5,   19,    1,    8,   12,    6,   16,   11,\n",
              "           5,    4,    2,    3,    1,    1,   22]))"
            ]
          },
          "metadata": {
            "tags": []
          },
          "execution_count": 26
        }
      ]
    },
    {
      "cell_type": "code",
      "metadata": {
        "colab": {
          "base_uri": "https://localhost:8080/"
        },
        "id": "PPJDd74Hljwz",
        "outputId": "98b3c461-290d-4121-fcc6-c188183657ee"
      },
      "source": [
        "plt.figure(figsize=(15,9))\n",
        "plt.hist(percents, 20)\n",
        "plt.ylabel('Number of Documents')\n",
        "plt.xlabel('Percent of Non-Vocabulary Words in a Document');"
      ],
      "execution_count": null,
      "outputs": [
        {
          "output_type": "display_data",
          "data": {
            "image/png": "[encoded data removed]",
            "text/plain": [
              "<Figure size 1080x648 with 1 Axes>"
            ]
          },
          "metadata": {
            "tags": [],
            "needs_background": "light"
          }
        }
      ]
    },
    {
      "cell_type": "code",
      "metadata": {
        "colab": {
          "base_uri": "https://localhost:8080/"
        },
        "id": "AXb2Q-gVlo08",
        "outputId": "fc715f33-9e7d-4233-daee-0fde23c4af9e"
      },
      "source": [
        "print(f\"There are {count1000} top {len(vocab_1000)} vocabulary words in the corpus.\")"
      ],
      "execution_count": null,
      "outputs": [
        {
          "output_type": "stream",
          "text": [
            "There are 2602670 top 1000 vocabulary words in the corpus.\n"
          ],
          "name": "stdout"
        }
      ]
    },
    {
      "cell_type": "markdown",
      "metadata": {
        "id": "aEPOPb63RNjv"
      },
      "source": [
        "### Preprocessing Data Create Input Pipeline"
      ]
    },
    {
      "cell_type": "code",
      "metadata": {
        "id": "0_tU6cH0ncl0",
        "colab": {
          "base_uri": "https://localhost:8080/"
        },
        "outputId": "4d812561-fb49-4ae0-a714-9657b018d1ac"
      },
      "source": [
        "# register  ag_news_subset so that tfds.load doesn't generate a checksum (mismatch) error\n",
        "!python -m tensorflow_datasets.scripts.download_and_prepare --register_checksums --datasets=ag_news_subset\n",
        "\n",
        "dataset, info = tfds.load('ag_news_subset', with_info=True,  split=['train[:95%]','train[95%:]', 'test[:]'],\n",
        "                          as_supervised=True)\n",
        "train_dataset, validation_dataset, test_dataset = dataset"
      ],
      "execution_count": null,
      "outputs": [
        {
          "output_type": "stream",
          "text": [
            "2021-08-07 22:48:03.163113: I tensorflow/stream_executor/platform/default/dso_loader.cc:53] Successfully opened dynamic library libcudart.so.11.0\n",
            "I0807 22:48:05.097481 140450629269376 download_and_prepare.py:200] Running download_and_prepare for dataset(s):\n",
            "ag_news_subset\n",
            "I0807 22:48:05.098100 140450629269376 dataset_info.py:361] Load dataset info from /root/tensorflow_datasets/ag_news_subset/1.0.0\n",
            "I0807 22:48:05.099294 140450629269376 download_and_prepare.py:138] download_and_prepare for dataset ag_news_subset/1.0.0...\n",
            "I0807 22:48:05.099468 140450629269376 dataset_builder.py:299] Reusing dataset ag_news_subset (/root/tensorflow_datasets/ag_news_subset/1.0.0)\n",
            "\u001b[1mname: \"ag_news_subset\"\n",
            "description: \"AG is a collection of more than 1 million news articles.\\nNews articles have been gathered from more than 2000  news sources by ComeToMyHead in more than 1 year of activity.\\nComeToMyHead is an academic news search engine which has been running since July, 2004.\\nThe dataset is provided by the academic comunity for research purposes in data mining (clustering, classification, etc),\\ninformation retrieval (ranking, search, etc), xml, data compression, data streaming,\\nand any other non-commercial activity.\\nFor more information, please refer to the link http://www.di.unipi.it/~gulli/AG_corpus_of_news_articles.html .\\n\\nThe AG\\'s news topic classification dataset is constructed by Xiang Zhang (xiang.zhang@nyu.edu) from the dataset above.\\nIt is used as a text classification benchmark in the following paper:\\nXiang Zhang, Junbo Zhao, Yann LeCun. Character-level Convolutional Networks for Text Classification. Advances in Neural Information Processing Systems 28 (NIPS 2015).\\n\\nThe AG\\'s news topic classification dataset is constructed by choosing 4 largest classes from the original corpus.\\nEach class contains 30,000 training samples and 1,900 testing samples.\\nThe total number of training samples is 120,000 and testing 7,600.\"\n",
            "citation: \"@misc{zhang2015characterlevel,\\n    title={Character-level Convolutional Networks for Text Classification},\\n    author={Xiang Zhang and Junbo Zhao and Yann LeCun},\\n    year={2015},\\n    eprint={1509.01626},\\n    archivePrefix={arXiv},\\n    primaryClass={cs.LG}\\n}\"\n",
            "location {\n",
            "  urls: \"https://arxiv.org/abs/1509.01626\"\n",
            "}\n",
            "splits {\n",
            "  name: \"test\"\n",
            "  shard_lengths: 7600\n",
            "  num_bytes: 2226751\n",
            "}\n",
            "splits {\n",
            "  name: \"train\"\n",
            "  shard_lengths: 120000\n",
            "  num_bytes: 35301386\n",
            "}\n",
            "supervised_keys {\n",
            "  input: \"description\"\n",
            "  output: \"label\"\n",
            "}\n",
            "version: \"1.0.0\"\n",
            "download_size: 11784327\n",
            "\u001b[0m\n"
          ],
          "name": "stdout"
        }
      ]
    },
    {
      "cell_type": "code",
      "metadata": {
        "id": "3TXXMh7Hdr47",
        "colab": {
          "base_uri": "https://localhost:8080/"
        },
        "outputId": "f355385d-a859-430b-9a58-af8abad298ff"
      },
      "source": [
        "len(train_dataset),len(validation_dataset),len(test_dataset)"
      ],
      "execution_count": null,
      "outputs": [
        {
          "output_type": "execute_result",
          "data": {
            "text/plain": [
              "(114000, 6000, 7600)"
            ]
          },
          "metadata": {
            "tags": []
          },
          "execution_count": 30
        }
      ]
    },
    {
      "cell_type": "markdown",
      "metadata": {
        "id": "e3ISb8oinPnR"
      },
      "source": [
        "### Review Distribution of Categorical Labels for the 114000 training data (news articles)"
      ]
    },
    {
      "cell_type": "code",
      "metadata": {
        "id": "Itjr5Erroxv9",
        "colab": {
          "base_uri": "https://localhost:8080/"
        },
        "outputId": "c9c8a9e8-097f-4f26-a6b6-9ee8ac51b960"
      },
      "source": [
        "from collections import Counter\n",
        "train_categories = [categories[label] for label in train_dataset.map(lambda text, label: label).as_numpy_iterator()]\n",
        "Counter(train_categories).most_common()"
      ],
      "execution_count": null,
      "outputs": [
        {
          "output_type": "execute_result",
          "data": {
            "text/plain": [
              "[('Business', 28531), ('Sports', 28495), ('World', 28491), ('Sci/Tech', 28483)]"
            ]
          },
          "metadata": {
            "tags": []
          },
          "execution_count": 31
        }
      ]
    },
    {
      "cell_type": "markdown",
      "metadata": {
        "id": "nWA4c2ir7g6p"
      },
      "source": [
        "Review Example with Interger Label(text, label pairs):"
      ]
    },
    {
      "cell_type": "markdown",
      "metadata": {
        "id": "icCNaXSirCnm"
      },
      "source": [
        "Review Example with Interger Label Encoded Classification(text, label pairs):"
      ]
    },
    {
      "cell_type": "code",
      "metadata": {
        "id": "g469sP9PYbQT",
        "colab": {
          "base_uri": "https://localhost:8080/"
        },
        "outputId": "37ff7a8f-fba2-4200-e4f5-0617960124a0"
      },
      "source": [
        "for example, label in train_dataset.take(1):\n",
        "  print('text: ', example.numpy())\n",
        "  print('class: ', categories[label.numpy()])"
      ],
      "execution_count": null,
      "outputs": [
        {
          "output_type": "stream",
          "text": [
            "text:  b'AMD #39;s new dual-core Opteron chip is designed mainly for corporate computing applications, including databases, Web services, and financial transactions.'\n",
            "class:  Sci/Tech\n"
          ],
          "name": "stdout"
        }
      ]
    },
    {
      "cell_type": "markdown",
      "metadata": {
        "id": "z2qVJzcEluH_"
      },
      "source": [
        "#### Preprocessing Shuffle Data for Training and Create Batches of `(text, label)` pairs:"
      ]
    },
    {
      "cell_type": "code",
      "metadata": {
        "id": "dDsCaZCDYZgm"
      },
      "source": [
        "BUFFER_SIZE = 10000\n",
        "BATCH_SIZE = 64"
      ],
      "execution_count": null,
      "outputs": []
    },
    {
      "cell_type": "code",
      "metadata": {
        "id": "VznrltNOnUc5"
      },
      "source": [
        "train_dataset = train_dataset.shuffle(BUFFER_SIZE).batch(BATCH_SIZE).prefetch(tf.data.experimental.AUTOTUNE)\n",
        "validation_dataset = validation_dataset.shuffle(BUFFER_SIZE).batch(BATCH_SIZE).prefetch(tf.data.experimental.AUTOTUNE)\n",
        "test_dataset = test_dataset.batch(BATCH_SIZE).prefetch(tf.data.experimental.AUTOTUNE)"
      ],
      "execution_count": null,
      "outputs": []
    },
    {
      "cell_type": "code",
      "metadata": {
        "id": "jqkvdcFv41wC",
        "colab": {
          "base_uri": "https://localhost:8080/"
        },
        "outputId": "8bd1894d-13bd-4bce-dc5b-8ace0dc1e3a4"
      },
      "source": [
        "for example, label in train_dataset.take(2):\n",
        "  print('texts: ', example.numpy()[:3])\n",
        "  print()\n",
        "  print('labels: ', label.numpy()[:3])"
      ],
      "execution_count": null,
      "outputs": [
        {
          "output_type": "stream",
          "text": [
            "texts:  [b'Singapore Telecommunications Ltd., Southeast Asia #39;s largest phone company, said the popularity of cut-rate calling plans offered by its Australian mobile-phone unit may limit the impact of lower prices on profit.'\n",
            " b'Australia #39;s unemployment rate dropped for the second straight month to 5.6 percent in September, the government said Thursday.'\n",
            " b'PRINCETON, NJ (CP) - Philadelphia Flyers head coach Ken Hitchcock is joining the coaching staff of Princeton #39;s men #39;s hockey team during the NHL lockout.']\n",
            "\n",
            "labels:  [2 2 1]\n",
            "texts:  [b'Reuters - Mount St. Helens spewed more steam and\\\\ash on Monday, raising concerns about a larger eruption at the\\\\Washington state volcano that woke last week after 18 years of\\\\slumber.'\n",
            " b'MOSCOW -- Tens of thousands of demonstrators -- many waving banners and flags -- gathered in Moscow #39;s Red Square Tuesday in a show of unity against terrorism after last week #39;s hostage-taking at a school in Beslan in southern Russia.'\n",
            " b'Eleven African countries have signed a UN-backed peace deal for the Great Lakes region, pledging an end to the genocide, war, hunger and disease that has killed 3 million over more than a decade.']\n",
            "\n",
            "labels:  [3 0 0]\n"
          ],
          "name": "stdout"
        }
      ]
    },
    {
      "cell_type": "code",
      "metadata": {
        "id": "HQ_8Srl7Yi2Y",
        "colab": {
          "base_uri": "https://localhost:8080/"
        },
        "outputId": "86b4df8a-244d-44c1-e8f0-1c13df2cf9d0"
      },
      "source": [
        "for example, label in train_dataset.take(2):\n",
        "  print('texts: ', example.numpy()[:3])\n",
        "  print()\n",
        "  print('labels: ', [categories[n] for n in label.numpy()[:3]])\n",
        "  print()"
      ],
      "execution_count": null,
      "outputs": [
        {
          "output_type": "stream",
          "text": [
            "texts:  [b' MOSCOW (Reuters) - Explosive of a kind used by Chechen  rebels has been found in one of two airliners that crashed  simultaneously, Russian investigators said, making it look ever  likelier that the disaster was a political attack.'\n",
            " b'HOUSE prices are falling at their fastest rate for nine years, according to one of the country #39;s most influential property studies.'\n",
            " b'STOLLBERG, Germany If Chancellor Gerhard Schrder wants to understand why his governing Social Democrats will lose votes Sunday in elections in the eastern German states of Brandenburg and Saxony, he need only visit the small town of Stollberg.']\n",
            "\n",
            "labels:  ['World', 'Business', 'World']\n",
            "\n",
            "texts:  [b'A federal judge ruled yesterday that Long Term Capital Management, the giant investment fund that nearly imploded in 1998 and received a \\\\$3.'\n",
            " b'CEO Michael Robertson says the Linux company \"won\\'t be forced into a cut-rate IPO.\"'\n",
            " b\"The Google Playboy Interview In Its Entirety\\\\\\\\The infamous Playboy Interview of Sergey Brin and Larry Page, the Google Guys, is now not only available on newsstands all over the country, but also on the Security Exchange Commission's website because of a possible SEC violation. Now, it will be more difficult ...\"]\n",
            "\n",
            "labels:  ['Business', 'Sci/Tech', 'Sci/Tech']\n",
            "\n"
          ],
          "name": "stdout"
        }
      ]
    },
    {
      "cell_type": "markdown",
      "metadata": {
        "id": "s5eWCo88voPY"
      },
      "source": [
        "## Create the Text Encoder"
      ]
    },
    {
      "cell_type": "markdown",
      "metadata": {
        "id": "TFevcItw15P_"
      },
      "source": [
        "The raw text loaded by `tfds` needs to be processed before it can be used in a model. The simplest way to process text for training is using the `experimental.preprocessing.TextVectorization` layer. This layer has many capabilities, but this tutorial sticks to the default behavior."
      ]
    },
    {
      "cell_type": "markdown",
      "metadata": {
        "id": "UalGMKAzyRRf"
      },
      "source": [
        "Create the layer, and pass the dataset's text to the layer's `.adapt` method:\n",
        "The processing of each sample contains the following steps:\n",
        "\n",
        "    standardize each sample (usually lowercasing + punctuation stripping)\n",
        "    split each sample into substrings (usually words)\n",
        "    recombine substrings into tokens (usually ngrams)\n",
        "    index tokens (associate a unique int value with each token)\n",
        "    transform each sample using this index, either into a vector of ints or a dense float vector.\n"
      ]
    },
    {
      "cell_type": "markdown",
      "metadata": {
        "id": "BLaLcPcXsY95"
      },
      "source": [
        "The `.adapt` method sets the layer's vocabulary. Here are the first 20 tokens. After the padding and unknown tokens they're sorted by frequency: "
      ]
    },
    {
      "cell_type": "code",
      "metadata": {
        "id": "uC25Lu1Yvuqy"
      },
      "source": [
        "VOCAB_SIZE=1000\n",
        "encoder = tf.keras.layers.experimental.preprocessing.TextVectorization(\n",
        "    max_tokens=VOCAB_SIZE)\n",
        "encoder.adapt(train_dataset.map(lambda text, label: text))"
      ],
      "execution_count": null,
      "outputs": []
    },
    {
      "cell_type": "code",
      "metadata": {
        "id": "s5tP4VcSkTvY",
        "colab": {
          "base_uri": "https://localhost:8080/"
        },
        "outputId": "550133ba-807b-4513-e771-0bcf4aaf2078"
      },
      "source": [
        "vocab = np.array(encoder.get_vocabulary())\n",
        "len(vocab)"
      ],
      "execution_count": null,
      "outputs": [
        {
          "output_type": "execute_result",
          "data": {
            "text/plain": [
              "1000"
            ]
          },
          "metadata": {
            "tags": []
          },
          "execution_count": 38
        }
      ]
    },
    {
      "cell_type": "code",
      "metadata": {
        "id": "tBoyjjWg0Ac9",
        "colab": {
          "base_uri": "https://localhost:8080/"
        },
        "outputId": "fd1540a4-e959-4452-c520-827decdebf28"
      },
      "source": [
        "vocab = np.array(encoder.get_vocabulary())\n",
        "vocab[:20]"
      ],
      "execution_count": null,
      "outputs": [
        {
          "output_type": "execute_result",
          "data": {
            "text/plain": [
              "array(['', '[UNK]', 'the', 'a', 'to', 'of', 'in', 'and', 'on', 'for',\n",
              "       'that', '39s', 'with', 'its', 'as', 'at', 'is', 'said', 'by', 'it'],\n",
              "      dtype='<U14')"
            ]
          },
          "metadata": {
            "tags": []
          },
          "execution_count": 39
        }
      ]
    },
    {
      "cell_type": "markdown",
      "metadata": {
        "id": "-rPfbSyoruu3"
      },
      "source": [
        "Here are the 20 least frequent words."
      ]
    },
    {
      "cell_type": "code",
      "metadata": {
        "id": "O6tWoBiwrzyX",
        "colab": {
          "base_uri": "https://localhost:8080/"
        },
        "outputId": "f12be649-28df-4ef5-8c8d-484cc6b4b692"
      },
      "source": [
        "vocab[-20:]"
      ],
      "execution_count": null,
      "outputs": [
        {
          "output_type": "execute_result",
          "data": {
            "text/plain": [
              "array(['black', 'turn', 'build', 'countrys', 'advanced', 'whose',\n",
              "       'crisis', 'create', '23', 'sources', 'body', 'militant', 'hope',\n",
              "       'event', 'started', 'ready', 'jones', 'lawsuit', 'focus',\n",
              "       'singapore'], dtype='<U14')"
            ]
          },
          "metadata": {
            "tags": []
          },
          "execution_count": 40
        }
      ]
    },
    {
      "cell_type": "markdown",
      "metadata": {
        "id": "mjId5pua3jHQ"
      },
      "source": [
        "Once the vocabulary is set, the layer can encode text into indices. The tensors of indices are 0-padded to the longest sequence in the batch (unless you set a fixed `output_sequence_length`):<br>\n",
        "Default Batch Size = 32"
      ]
    },
    {
      "cell_type": "code",
      "metadata": {
        "id": "RGc7C9WiwRWs",
        "colab": {
          "base_uri": "https://localhost:8080/"
        },
        "outputId": "10a6942c-a9bf-47f5-e2b4-199e2e2cf6aa"
      },
      "source": [
        "encoded_example = encoder(example)[:3].numpy()\n",
        "encoded_example"
      ],
      "execution_count": null,
      "outputs": [
        {
          "output_type": "execute_result",
          "data": {
            "text/plain": [
              "array([[  3, 142, 611,   1,  52,  10, 371,   1, 395, 474,   2, 202, 694,\n",
              "        759,  10, 302,   1,   6,   1,   7, 920,   3, 565,   0,   0,   0,\n",
              "          0,   0,   0,   0,   0,   0,   0,   0,   0,   0,   0,   0,   0,\n",
              "          0,   0,   0,   0,   0,   0,   0,   0,   0,   0,   0,   0,   0,\n",
              "          0,   0,   0,   0,   0,   0],\n",
              "       [909, 425,   1, 122,   2, 559,  46,   1,  31,   1,  62,   3,   1,\n",
              "          1,   0,   0,   0,   0,   0,   0,   0,   0,   0,   0,   0,   0,\n",
              "          0,   0,   0,   0,   0,   0,   0,   0,   0,   0,   0,   0,   0,\n",
              "          0,   0,   0,   0,   0,   0,   0,   0,   0,   0,   0,   0,   0,\n",
              "          0,   0,   0,   0,   0,   0],\n",
              "       [  2, 286,   1,   1,   6,  13,   1,   1,   1,   1,   5,   1,   1,\n",
              "          7,   1,   1,   2, 286,   1,  16, 163,  60, 226, 825,   8,   1,\n",
              "        108,  34,   2, 167,  37, 334,   8,   2,  96, 552,   1,   1, 220,\n",
              "          5,   3, 601,   1,   1, 163,  19,  26,  31,  41,   1,   0,   0,\n",
              "          0,   0,   0,   0,   0,   0]])"
            ]
          },
          "metadata": {
            "tags": []
          },
          "execution_count": 41
        }
      ]
    },
    {
      "cell_type": "markdown",
      "metadata": {
        "id": "F5cjz0bS39IN"
      },
      "source": [
        "With the default settings, the process is not completely reversible. There are three main reasons for that:\n",
        "\n",
        "1. The default value for `preprocessing.TextVectorization`'s `standardize` argument is `\"lower_and_strip_punctuation\"`.\n",
        "2. The limited vocabulary size and lack of character-based fallback results in some unknown tokens."
      ]
    },
    {
      "cell_type": "code",
      "metadata": {
        "id": "N_tD0QY5wXaK",
        "colab": {
          "base_uri": "https://localhost:8080/"
        },
        "outputId": "312e4662-6ff7-497d-c01e-46aa3f8148d9"
      },
      "source": [
        "for n in range(3):\n",
        "  print(\"Original: \", example[n].numpy())\n",
        "  print(\"Round-trip: \", \" \".join(vocab[encoded_example[n]]))\n",
        "  print()"
      ],
      "execution_count": null,
      "outputs": [
        {
          "output_type": "stream",
          "text": [
            "Original:  b'A federal judge ruled yesterday that Long Term Capital Management, the giant investment fund that nearly imploded in 1998 and received a \\\\$3.'\n",
            "Round-trip:  a federal judge [UNK] yesterday that long [UNK] capital management the giant investment fund that nearly [UNK] in [UNK] and received a 3                                   \n",
            "\n",
            "Original:  b'CEO Michael Robertson says the Linux company \"won\\'t be forced into a cut-rate IPO.\"'\n",
            "Round-trip:  ceo michael [UNK] says the linux company [UNK] be [UNK] into a [UNK] [UNK]                                            \n",
            "\n",
            "Original:  b\"The Google Playboy Interview In Its Entirety\\\\\\\\The infamous Playboy Interview of Sergey Brin and Larry Page, the Google Guys, is now not only available on newsstands all over the country, but also on the Security Exchange Commission's website because of a possible SEC violation. Now, it will be more difficult ...\"\n",
            "Round-trip:  the google [UNK] [UNK] in its [UNK] [UNK] [UNK] [UNK] of [UNK] [UNK] and [UNK] [UNK] the google [UNK] is now not only available on [UNK] all over the country but also on the security exchange [UNK] [UNK] because of a possible [UNK] [UNK] now it will be more [UNK]        \n",
            "\n"
          ],
          "name": "stdout"
        }
      ]
    },
    {
      "cell_type": "markdown",
      "metadata": {
        "id": "bjUqGVBxGw-t"
      },
      "source": [
        "## Create the model"
      ]
    },
    {
      "cell_type": "markdown",
      "metadata": {
        "id": "W7zsmInBOCPO"
      },
      "source": [
        "![A drawing of the information flow in the model](https://github.com/tensorflow/docs/blob/master/site/en/tutorials/text/images/bidirectional.png?raw=1)"
      ]
    },
    {
      "cell_type": "markdown",
      "metadata": {
        "id": "bgs6nnSTGw-t"
      },
      "source": [
        "Above is a diagram of the model. \n",
        "\n",
        "1. This model can be build as a `tf.keras.Sequential`.\n",
        "\n",
        "1. The first layer is the `encoder`, which converts the text to a sequence of token indices.\n",
        "\n",
        "2. After the encoder is an embedding layer. An embedding layer stores one vector per word. When called, it converts the sequences of word indices to sequences of vectors. These vectors are trainable. After training (on enough data), words with similar meanings often have similar vectors.\n",
        "\n",
        "  This index-lookup is much more efficient than the equivalent operation of passing a one-hot encoded vector through a `tf.keras.layers.Dense` layer.\n",
        "\n",
        "3. A recurrent neural network (RNN) processes sequence input by iterating through the elements. RNNs pass the outputs from one timestep to their input on the next timestep.\n",
        "\n",
        "  The `tf.keras.layers.Bidirectional` wrapper can also be used with an RNN layer. This propagates the input forward and backwards through the RNN layer and then concatenates the final output. \n",
        "\n",
        "  * The main advantage to a bidirectional RNN is that the signal from the beginning of the input doesn't need to be processed all the way through every timestep to affect the output.  \n",
        "\n",
        "  * The main disadvantage of a bidirectional RNN is that you can't efficiently stream predictions as words are being added to the end.\n",
        "\n",
        "1. After the RNN has converted the sequence to a single vector the two `layers.Dense` do some final processing, and convert from this vector representation to a single logit as the classification output. \n"
      ]
    },
    {
      "cell_type": "markdown",
      "metadata": {
        "id": "9EODAFUjNaDC"
      },
      "source": [
        "<div class=\"alert alert-block alert-info\">\n",
        "    <b>tf.keras.layers.Bidirectional</b><br>\n",
        "    https://www.tensorflow.org/api_docs/python/tf/keras/layers/Bidirectional\n",
        "    </div>"
      ]
    },
    {
      "cell_type": "markdown",
      "metadata": {
        "id": "-6Qzwsj5QH0S"
      },
      "source": [
        "<img src=\"https://github.com/djp840/MSDS_458_Public/blob/master/images/BidirectionalRNN.png?raw=1\">"
      ]
    },
    {
      "cell_type": "code",
      "metadata": {
        "id": "LwfoBkmRYcP3"
      },
      "source": [
        "num_classes = 4\n",
        "model = tf.keras.Sequential([\n",
        "                              encoder\n",
        "                              ,tf.keras.layers.Embedding(input_dim=len(encoder.get_vocabulary())\n",
        "                              ,output_dim=64\n",
        "                                # Use masking to handle the variable sequence lengths\n",
        "                              ,mask_zero=True)\n",
        "                              ,tf.keras.layers.Bidirectional(tf.keras.layers.LSTM(64))\n",
        "                              ,tf.keras.layers.Dense(64, activation='relu')\n",
        "                              ,tf.keras.layers.Dense(num_classes,activation='softmax')   # num_classes = 4\n",
        "])"
      ],
      "execution_count": null,
      "outputs": []
    },
    {
      "cell_type": "markdown",
      "metadata": {
        "id": "dfNGE58PNaDD"
      },
      "source": [
        "<div class=\"alert alert-block alert-success\"> \n",
        "Please note that we choose to Keras sequential model here since all the layers in the model only have single input and produce single output. </div>"
      ]
    },
    {
      "cell_type": "markdown",
      "metadata": {
        "id": "KTqE1NQXNaDD"
      },
      "source": [
        "<div class=\"alert alert-block alert-info\"> \n",
        "<b>tf.keras.Model</b><br>\n",
        "https://www.tensorflow.org/api_docs/python/tf/keras/Model\n",
        "</div>  "
      ]
    },
    {
      "cell_type": "markdown",
      "metadata": {
        "id": "RztlbCugEFaI"
      },
      "source": [
        "## Compile Model "
      ]
    },
    {
      "cell_type": "markdown",
      "metadata": {
        "id": "aNazQp3lEDv7"
      },
      "source": [
        "<div class=\"alert alert-block alert-info\">\n",
        "<b>tf.keras.losses.SparseCategoricalCrossentropy</b><br>\n",
        "https://www.tensorflow.org/api_docs/python/tf/keras/losses/SparseCategoricalCrossentropy</div>"
      ]
    },
    {
      "cell_type": "code",
      "metadata": {
        "id": "ZmWbBazIDe_-"
      },
      "source": [
        "model.compile(optimizer=tf.keras.optimizers.Adam(1e-4)\n",
        "              ,loss=tf.keras.losses.SparseCategoricalCrossentropy() # if we set from_logits=True we don not have specify a softmax activation function in the last layer\n",
        "              ,metrics=['accuracy'])"
      ],
      "execution_count": null,
      "outputs": []
    },
    {
      "cell_type": "markdown",
      "metadata": {
        "id": "QIGmIGkkouUb"
      },
      "source": [
        "Please note that Keras sequential model is used here since all the layers in the model only have single input and produce single output. In case you want to use stateful RNN layer, you might want to build your model with Keras functional API or model subclassing so that you can retrieve and reuse the RNN layer states. Please check [Keras RNN guide](https://www.tensorflow.org/guide/keras/rnn#rnn_state_reuse) for more details."
      ]
    },
    {
      "cell_type": "markdown",
      "metadata": {
        "id": "kF-PsCk1LwjY"
      },
      "source": [
        "The embedding layer [uses masking](../../guide/keras/masking_and_padding) to handle the varying sequence-lengths. All the layers after the `Embedding` support masking:"
      ]
    },
    {
      "cell_type": "code",
      "metadata": {
        "id": "87a8-CwfKebw",
        "colab": {
          "base_uri": "https://localhost:8080/"
        },
        "outputId": "b1b8ec9e-35fc-4c43-94ef-4f05347d22d6"
      },
      "source": [
        "print([layer.supports_masking for layer in model.layers])"
      ],
      "execution_count": null,
      "outputs": [
        {
          "output_type": "stream",
          "text": [
            "[False, True, True, True, True]\n"
          ],
          "name": "stdout"
        }
      ]
    },
    {
      "cell_type": "markdown",
      "metadata": {
        "id": "zIwH3nto596k"
      },
      "source": [
        "## Train the model"
      ]
    },
    {
      "cell_type": "markdown",
      "metadata": {
        "id": "7oHB6X8i0u2H"
      },
      "source": [
        "<div class=\"alert alert-block alert-success\">\n",
        "    <b>Module: tf.keras.callbacks</b></div>"
      ]
    },
    {
      "cell_type": "markdown",
      "metadata": {
        "id": "th1k9Dha0vCl"
      },
      "source": [
        "<div class=\"alert alert-block alert-info\">\n",
        "<b>tf.keras.callbacks.EarlyStopping</b><br>\n",
        "https://www.tensorflow.org/api_docs/python/tf/keras/callbacks/EarlyStopping</div>\n",
        "\n",
        "<div class=\"alert alert-block alert-info\">\n",
        "<b>tf.keras.callbacks.ModelCheckpoint</b><br>\n",
        "https://www.tensorflow.org/api_docs/python/tf/keras/callbacks/ModelCheckpoint</div>"
      ]
    },
    {
      "cell_type": "code",
      "metadata": {
        "colab": {
          "base_uri": "https://localhost:8080/"
        },
        "id": "hw86wWS4YgR2",
        "outputId": "22e0e1db-2614-4d7b-bcbd-074bade3d274"
      },
      "source": [
        "history = model.fit(train_dataset\n",
        "                    ,epochs = 200\n",
        "                    ,validation_data=validation_dataset\n",
        "                    ,callbacks=[tf.keras.callbacks.EarlyStopping(monitor='val_accuracy', patience=2)]\n",
        "                    )"
      ],
      "execution_count": null,
      "outputs": [
        {
          "output_type": "stream",
          "text": [
            "Epoch 1/200\n",
            "1782/1782 [==============================] - 34s 15ms/step - loss: 0.7444 - accuracy: 0.7179 - val_loss: 0.5050 - val_accuracy: 0.8188\n",
            "Epoch 2/200\n",
            "1782/1782 [==============================] - 24s 13ms/step - loss: 0.4643 - accuracy: 0.8349 - val_loss: 0.4418 - val_accuracy: 0.8472\n",
            "Epoch 3/200\n",
            "1782/1782 [==============================] - 24s 13ms/step - loss: 0.4208 - accuracy: 0.8494 - val_loss: 0.4099 - val_accuracy: 0.8548\n",
            "Epoch 4/200\n",
            "1782/1782 [==============================] - 24s 14ms/step - loss: 0.4013 - accuracy: 0.8554 - val_loss: 0.3964 - val_accuracy: 0.8618\n",
            "Epoch 5/200\n",
            "1782/1782 [==============================] - 24s 13ms/step - loss: 0.3906 - accuracy: 0.8581 - val_loss: 0.4189 - val_accuracy: 0.8497\n",
            "Epoch 6/200\n",
            "1782/1782 [==============================] - 24s 13ms/step - loss: 0.3834 - accuracy: 0.8608 - val_loss: 0.3847 - val_accuracy: 0.8615\n"
          ],
          "name": "stdout"
        }
      ]
    },
    {
      "cell_type": "code",
      "metadata": {
        "colab": {
          "base_uri": "https://localhost:8080/"
        },
        "id": "BaNbXi43YgUT",
        "outputId": "c23defbb-74ce-466f-d1b6-30cff36aa4d4"
      },
      "source": [
        "test_loss, test_acc = model.evaluate(test_dataset)\n",
        "\n",
        "print('Test Loss: {}'.format(test_loss))\n",
        "print('Test Accuracy: {}'.format(test_acc))"
      ],
      "execution_count": null,
      "outputs": [
        {
          "output_type": "stream",
          "text": [
            "119/119 [==============================] - 1s 7ms/step - loss: 0.4055 - accuracy: 0.8501\n",
            "Test Loss: 0.4055027663707733\n",
            "Test Accuracy: 0.8501315712928772\n"
          ],
          "name": "stdout"
        }
      ]
    },
    {
      "cell_type": "markdown",
      "metadata": {
        "id": "OUZyCyI33fPU"
      },
      "source": [
        "## Plotting Performance Metrics - Single Layer Bidirectional RNN"
      ]
    },
    {
      "cell_type": "markdown",
      "metadata": {
        "id": "uFK6utDG3fjX"
      },
      "source": [
        "We use Matplotlib to create 2 plots--displaying the training and validation loss (resp. accuracy) for each (training) epoch side by side."
      ]
    },
    {
      "cell_type": "code",
      "metadata": {
        "colab": {
          "base_uri": "https://localhost:8080/"
        },
        "id": "HzEOTxsc1JTJ",
        "outputId": "1e2c9f7e-395f-44f5-ca5a-e186162d6f2c"
      },
      "source": [
        "history_dict = history.history\n",
        "history_dict.keys()"
      ],
      "execution_count": null,
      "outputs": [
        {
          "output_type": "execute_result",
          "data": {
            "text/plain": [
              "dict_keys(['loss', 'accuracy', 'val_loss', 'val_accuracy'])"
            ]
          },
          "metadata": {
            "tags": []
          },
          "execution_count": 48
        }
      ]
    },
    {
      "cell_type": "code",
      "metadata": {
        "colab": {
          "base_uri": "https://localhost:8080/"
        },
        "id": "2VV8VwoA1Je1",
        "outputId": "b9dd66cd-e6a7-4be2-ab46-97ddd092a98a"
      },
      "source": [
        "history_df=pd.DataFrame(history_dict)\n",
        "history_df.tail(10).round(3)"
      ],
      "execution_count": null,
      "outputs": [
        {
          "output_type": "execute_result",
          "data": {
            "text/html": [
              "<div>\n",
              "<style scoped>\n",
              "    .dataframe tbody tr th:only-of-type {\n",
              "        vertical-align: middle;\n",
              "    }\n",
              "\n",
              "    .dataframe tbody tr th {\n",
              "        vertical-align: top;\n",
              "    }\n",
              "\n",
              "    .dataframe thead th {\n",
              "        text-align: right;\n",
              "    }\n",
              "</style>\n",
              "<table border=\"1\" class=\"dataframe\">\n",
              "  <thead>\n",
              "    <tr style=\"text-align: right;\">\n",
              "      <th></th>\n",
              "      <th>loss</th>\n",
              "      <th>accuracy</th>\n",
              "      <th>val_loss</th>\n",
              "      <th>val_accuracy</th>\n",
              "    </tr>\n",
              "  </thead>\n",
              "  <tbody>\n",
              "    <tr>\n",
              "      <th>0</th>\n",
              "      <td>0.744</td>\n",
              "      <td>0.718</td>\n",
              "      <td>0.505</td>\n",
              "      <td>0.819</td>\n",
              "    </tr>\n",
              "    <tr>\n",
              "      <th>1</th>\n",
              "      <td>0.464</td>\n",
              "      <td>0.835</td>\n",
              "      <td>0.442</td>\n",
              "      <td>0.847</td>\n",
              "    </tr>\n",
              "    <tr>\n",
              "      <th>2</th>\n",
              "      <td>0.421</td>\n",
              "      <td>0.849</td>\n",
              "      <td>0.410</td>\n",
              "      <td>0.855</td>\n",
              "    </tr>\n",
              "    <tr>\n",
              "      <th>3</th>\n",
              "      <td>0.401</td>\n",
              "      <td>0.855</td>\n",
              "      <td>0.396</td>\n",
              "      <td>0.862</td>\n",
              "    </tr>\n",
              "    <tr>\n",
              "      <th>4</th>\n",
              "      <td>0.391</td>\n",
              "      <td>0.858</td>\n",
              "      <td>0.419</td>\n",
              "      <td>0.850</td>\n",
              "    </tr>\n",
              "    <tr>\n",
              "      <th>5</th>\n",
              "      <td>0.383</td>\n",
              "      <td>0.861</td>\n",
              "      <td>0.385</td>\n",
              "      <td>0.862</td>\n",
              "    </tr>\n",
              "  </tbody>\n",
              "</table>\n",
              "</div>"
            ],
            "text/plain": [
              "    loss  accuracy  val_loss  val_accuracy\n",
              "0  0.744     0.718     0.505         0.819\n",
              "1  0.464     0.835     0.442         0.847\n",
              "2  0.421     0.849     0.410         0.855\n",
              "3  0.401     0.855     0.396         0.862\n",
              "4  0.391     0.858     0.419         0.850\n",
              "5  0.383     0.861     0.385         0.862"
            ]
          },
          "metadata": {
            "tags": []
          },
          "execution_count": 49
        }
      ]
    },
    {
      "cell_type": "code",
      "metadata": {
        "id": "NvA2u5do1JqA"
      },
      "source": [
        "losses = history.history['loss']\n",
        "accs = history.history['accuracy']\n",
        "val_losses = history.history['val_loss']\n",
        "val_accs = history.history['val_accuracy']\n",
        "epochs = len(losses)"
      ],
      "execution_count": null,
      "outputs": []
    },
    {
      "cell_type": "code",
      "metadata": {
        "colab": {
          "base_uri": "https://localhost:8080/"
        },
        "id": "JGoRjq2T1SUp",
        "outputId": "9e315e36-a621-4043-b42c-cc5167c4c33a"
      },
      "source": [
        "plt.figure(figsize=(16, 4))\n",
        "for i, metrics in enumerate(zip([losses, accs], [val_losses, val_accs], ['Loss', 'Accuracy'])):\n",
        "    plt.subplot(1, 2, i + 1)\n",
        "    plt.plot(range(epochs), metrics[0], label='Training {}'.format(metrics[2]))\n",
        "    plt.plot(range(epochs), metrics[1], label='Validation {}'.format(metrics[2]))\n",
        "    plt.legend()\n",
        "plt.show()"
      ],
      "execution_count": null,
      "outputs": [
        {
          "output_type": "display_data",
          "data": {
            "image/png": "[encoded data removed]",
            "text/plain": [
              "<Figure size 1152x288 with 2 Axes>"
            ]
          },
          "metadata": {
            "tags": [],
            "needs_background": "light"
          }
        }
      ]
    },
    {
      "cell_type": "markdown",
      "metadata": {
        "id": "bawulBahPZQq"
      },
      "source": [
        "## Model Architecture Summary Single Layer Bidirectional RNN"
      ]
    },
    {
      "cell_type": "code",
      "metadata": {
        "id": "KVd7MMCoOjMp",
        "colab": {
          "base_uri": "https://localhost:8080/"
        },
        "outputId": "515da617-adaa-4970-9742-8e50843f01ed"
      },
      "source": [
        "model.summary()"
      ],
      "execution_count": null,
      "outputs": [
        {
          "output_type": "stream",
          "text": [
            "Model: \"sequential\"\n",
            "_________________________________________________________________\n",
            "Layer (type)                 Output Shape              Param #   \n",
            "=================================================================\n",
            "text_vectorization_2 (TextVe (None, None)              0         \n",
            "_________________________________________________________________\n",
            "embedding (Embedding)        (None, None, 64)          64000     \n",
            "_________________________________________________________________\n",
            "bidirectional (Bidirectional (None, 128)               66048     \n",
            "_________________________________________________________________\n",
            "dense (Dense)                (None, 64)                8256      \n",
            "_________________________________________________________________\n",
            "dense_1 (Dense)              (None, 4)                 260       \n",
            "=================================================================\n",
            "Total params: 138,564\n",
            "Trainable params: 138,564\n",
            "Non-trainable params: 0\n",
            "_________________________________________________________________\n"
          ],
          "name": "stdout"
        }
      ]
    },
    {
      "cell_type": "code",
      "metadata": {
        "id": "2o0oUFPAOjht",
        "colab": {
          "base_uri": "https://localhost:8080/"
        },
        "outputId": "34a188eb-4e7b-4cac-d07f-ab23d90c06ee"
      },
      "source": [
        "keras.utils.plot_model(model, \"BiDirectionalLSTM.png\", show_shapes=True)"
      ],
      "execution_count": null,
      "outputs": [
        {
          "output_type": "execute_result",
          "data": {
            "image/png": "[encoded data removed]",
            "text/plain": [
              "<IPython.core.display.Image object>"
            ]
          },
          "metadata": {
            "tags": []
          },
          "execution_count": 53
        }
      ]
    },
    {
      "cell_type": "markdown",
      "metadata": {
        "id": "7g1evcaRpTKm"
      },
      "source": [
        "## Stack two or more LSTM layers\n",
        "\n",
        "Keras recurrent layers have two available modes that are controlled by the `return_sequences` constructor argument:\n",
        "\n",
        "* If `False` it returns only the last output for each input sequence (a 2D tensor of shape (batch_size, output_features)). This is the default, used in the previous model.\n",
        "\n",
        "* If `True` the full sequences of successive outputs for each timestep is returned (a 3D tensor of shape `(batch_size, timesteps, output_features)`)."
      ]
    },
    {
      "cell_type": "markdown",
      "metadata": {
        "id": "wbSClCrG1z8l"
      },
      "source": [
        "The interesting thing about using an `RNN` with `return_sequences=True` is that the output still has 3-axes, like the input, so it can be passed to another RNN layer, like this:"
      ]
    },
    {
      "cell_type": "markdown",
      "metadata": {
        "id": "TJTx1dsTRUtW"
      },
      "source": [
        "<img src=\"https://github.com/djp840/MSDS_458_Public/blob/master/images/multilayerBidirectionalLSTM.png?raw=1\">"
      ]
    },
    {
      "cell_type": "code",
      "metadata": {
        "id": "jo1jjO3vn0jo"
      },
      "source": [
        "model2 = tf.keras.Sequential([\n",
        "                              encoder\n",
        "                              ,tf.keras.layers.Embedding(len(encoder.get_vocabulary()), 64, mask_zero=True)\n",
        "                              ,tf.keras.layers.Bidirectional(tf.keras.layers.LSTM(64, dropout= 0.5,  return_sequences=True))\n",
        "                              ,tf.keras.layers.Bidirectional(tf.keras.layers.LSTM(32, dropout=0.5))\n",
        "                              ,tf.keras.layers.Dense(64, activation='relu')\n",
        "                              ,tf.keras.layers.Dropout(0.5)\n",
        "                              ,tf.keras.layers.Dense(num_classes,activation='softmax')   # not binary since there are num_classes categories\n",
        "])"
      ],
      "execution_count": null,
      "outputs": []
    },
    {
      "cell_type": "markdown",
      "metadata": {
        "id": "iukhoA9vR7gx"
      },
      "source": [
        "<div class=\"alert alert-block alert-info\">\n",
        "<b>tf.keras.losses.SparseCategoricalCrossentropy</b><br>\n",
        "https://www.tensorflow.org/api_docs/python/tf/keras/losses/SparseCategoricalCrossentropy</div>"
      ]
    },
    {
      "cell_type": "code",
      "metadata": {
        "id": "_zjWuJesR72x"
      },
      "source": [
        "model2.compile(optimizer='adam'\n",
        "              ,loss=tf.keras.losses.SparseCategoricalCrossentropy() # if we set from_logits=True we do not have specify a softmax activation function in the last layer\n",
        "              ,metrics=['accuracy'])"
      ],
      "execution_count": null,
      "outputs": []
    },
    {
      "cell_type": "code",
      "metadata": {
        "colab": {
          "base_uri": "https://localhost:8080/"
        },
        "id": "LeSE-YjdqAeN",
        "outputId": "6755a1ab-e8d7-4cb4-f32b-42ef0bf36263"
      },
      "source": [
        "history2 = model2.fit(train_dataset\n",
        "                    ,epochs=200\n",
        "                    ,validation_data=validation_dataset\n",
        "                    ,validation_steps=30\n",
        "                    ,callbacks=[tf.keras.callbacks.EarlyStopping(monitor='val_accuracy', patience=2)]\n",
        "                    )"
      ],
      "execution_count": null,
      "outputs": [
        {
          "output_type": "stream",
          "text": [
            "Epoch 1/200\n",
            "1782/1782 [==============================] - 59s 25ms/step - loss: 0.5403 - accuracy: 0.8053 - val_loss: 0.3818 - val_accuracy: 0.8651\n",
            "Epoch 2/200\n",
            "1782/1782 [==============================] - 40s 22ms/step - loss: 0.4434 - accuracy: 0.8458 - val_loss: 0.4245 - val_accuracy: 0.8552\n",
            "Epoch 3/200\n",
            "1782/1782 [==============================] - 40s 22ms/step - loss: 0.4281 - accuracy: 0.8501 - val_loss: 0.4017 - val_accuracy: 0.8599\n"
          ],
          "name": "stdout"
        }
      ]
    },
    {
      "cell_type": "code",
      "metadata": {
        "id": "EuK0bnjl2g9f"
      },
      "source": [
        "# model.fit(x_nyha, y_nyha, batch_size=batch_size, epochs=num_epochs, verbose=1)\n",
        "# prediction = np.round(model.predict(x_nyha))\n",
        "# wrong_predictions = x_nyha[prediction != y_nyha]"
      ],
      "execution_count": null,
      "outputs": []
    },
    {
      "cell_type": "code",
      "metadata": {
        "colab": {
          "base_uri": "https://localhost:8080/"
        },
        "id": "_LdwilM1qPM3",
        "outputId": "f9959b85-b788-47b1-b6ec-0d75a9f75e97"
      },
      "source": [
        "test_loss, test_acc = model2.evaluate(test_dataset)\n",
        "\n",
        "print('Test Loss: {}'.format(test_loss))\n",
        "print('Test Accuracy: {}'.format(test_acc))"
      ],
      "execution_count": null,
      "outputs": [
        {
          "output_type": "stream",
          "text": [
            "119/119 [==============================] - 1s 9ms/step - loss: 0.4149 - accuracy: 0.8530\n",
            "Test Loss: 0.4149487018585205\n",
            "Test Accuracy: 0.8530263304710388\n"
          ],
          "name": "stdout"
        }
      ]
    },
    {
      "cell_type": "markdown",
      "metadata": {
        "id": "x44eh6w-SjPa"
      },
      "source": [
        "## Plotting Performance Metrics - Multi-Layer Bidirectional RNN"
      ]
    },
    {
      "cell_type": "markdown",
      "metadata": {
        "id": "7YwGAxu3SjbG"
      },
      "source": [
        "We use Matplotlib to create 2 plots--displaying the training and validation loss (resp. accuracy) for each (training) epoch side by side."
      ]
    },
    {
      "cell_type": "code",
      "metadata": {
        "colab": {
          "base_uri": "https://localhost:8080/"
        },
        "id": "l5Wa2bx7Suny",
        "outputId": "ec4d9f53-9376-4b9c-f4c7-06f7238264f9"
      },
      "source": [
        "history_dict2 = history2.history\n",
        "history_dict2.keys()"
      ],
      "execution_count": null,
      "outputs": [
        {
          "output_type": "execute_result",
          "data": {
            "text/plain": [
              "dict_keys(['loss', 'accuracy', 'val_loss', 'val_accuracy'])"
            ]
          },
          "metadata": {
            "tags": []
          },
          "execution_count": 59
        }
      ]
    },
    {
      "cell_type": "code",
      "metadata": {
        "colab": {
          "base_uri": "https://localhost:8080/",
          "height": 142
        },
        "id": "cwzqjLbrSurM",
        "outputId": "d1331bbd-0a07-4996-ae11-57688e45afe9"
      },
      "source": [
        "history2_df=pd.DataFrame(history_dict2)\n",
        "history2_df.tail().round(3)"
      ],
      "execution_count": null,
      "outputs": [
        {
          "output_type": "execute_result",
          "data": {
            "text/html": [
              "<div>\n",
              "<style scoped>\n",
              "    .dataframe tbody tr th:only-of-type {\n",
              "        vertical-align: middle;\n",
              "    }\n",
              "\n",
              "    .dataframe tbody tr th {\n",
              "        vertical-align: top;\n",
              "    }\n",
              "\n",
              "    .dataframe thead th {\n",
              "        text-align: right;\n",
              "    }\n",
              "</style>\n",
              "<table border=\"1\" class=\"dataframe\">\n",
              "  <thead>\n",
              "    <tr style=\"text-align: right;\">\n",
              "      <th></th>\n",
              "      <th>loss</th>\n",
              "      <th>accuracy</th>\n",
              "      <th>val_loss</th>\n",
              "      <th>val_accuracy</th>\n",
              "    </tr>\n",
              "  </thead>\n",
              "  <tbody>\n",
              "    <tr>\n",
              "      <th>0</th>\n",
              "      <td>0.540</td>\n",
              "      <td>0.805</td>\n",
              "      <td>0.382</td>\n",
              "      <td>0.865</td>\n",
              "    </tr>\n",
              "    <tr>\n",
              "      <th>1</th>\n",
              "      <td>0.443</td>\n",
              "      <td>0.846</td>\n",
              "      <td>0.424</td>\n",
              "      <td>0.855</td>\n",
              "    </tr>\n",
              "    <tr>\n",
              "      <th>2</th>\n",
              "      <td>0.428</td>\n",
              "      <td>0.850</td>\n",
              "      <td>0.402</td>\n",
              "      <td>0.860</td>\n",
              "    </tr>\n",
              "  </tbody>\n",
              "</table>\n",
              "</div>"
            ],
            "text/plain": [
              "    loss  accuracy  val_loss  val_accuracy\n",
              "0  0.540     0.805     0.382         0.865\n",
              "1  0.443     0.846     0.424         0.855\n",
              "2  0.428     0.850     0.402         0.860"
            ]
          },
          "metadata": {
            "tags": []
          },
          "execution_count": 60
        }
      ]
    },
    {
      "cell_type": "code",
      "metadata": {
        "id": "5CrnwjN7Suu5"
      },
      "source": [
        "losses = history2.history['loss']\n",
        "accs = history2.history['accuracy']\n",
        "val_losses = history2.history['val_loss']\n",
        "val_accs = history2.history['val_accuracy']\n",
        "epochs = len(losses)"
      ],
      "execution_count": null,
      "outputs": []
    },
    {
      "cell_type": "code",
      "metadata": {
        "id": "Uw20TBZxSuye",
        "colab": {
          "base_uri": "https://localhost:8080/",
          "height": 265
        },
        "outputId": "5342aca0-762c-49aa-9137-79a598955a69"
      },
      "source": [
        "plt.figure(figsize=(16, 4))\n",
        "for i, metrics in enumerate(zip([losses, accs], [val_losses, val_accs], ['Loss', 'Accuracy'])):\n",
        "    plt.subplot(1, 2, i + 1)\n",
        "    plt.plot(range(epochs), metrics[0], label='Training {}'.format(metrics[2]))\n",
        "    plt.plot(range(epochs), metrics[1], label='Validation {}'.format(metrics[2]))\n",
        "    plt.legend()\n",
        "plt.show()"
      ],
      "execution_count": null,
      "outputs": [
        {
          "output_type": "display_data",
          "data": {
            "image/png": "[encoded data removed]",
            "text/plain": [
              "<Figure size 1152x288 with 2 Axes>"
            ]
          },
          "metadata": {
            "tags": [],
            "needs_background": "light"
          }
        }
      ]
    },
    {
      "cell_type": "markdown",
      "metadata": {
        "id": "WoWhNEnKyRRv"
      },
      "source": [
        "### Confusion Matrix"
      ]
    },
    {
      "cell_type": "code",
      "metadata": {
        "id": "TaRFsKvJyRRv"
      },
      "source": [
        "preds = model2.predict(test_dataset)"
      ],
      "execution_count": null,
      "outputs": []
    },
    {
      "cell_type": "code",
      "metadata": {
        "id": "38sM3BdNyRRv",
        "colab": {
          "base_uri": "https://localhost:8080/"
        },
        "outputId": "db67489a-0f73-439b-b57f-aa6b5af37db8"
      },
      "source": [
        "preds.shape"
      ],
      "execution_count": null,
      "outputs": [
        {
          "output_type": "execute_result",
          "data": {
            "text/plain": [
              "(7600, 4)"
            ]
          },
          "metadata": {
            "tags": []
          },
          "execution_count": 64
        }
      ]
    },
    {
      "cell_type": "code",
      "metadata": {
        "id": "HLEVza9CyRRw"
      },
      "source": [
        "cm = sns.light_palette((260, 75, 60), input=\"husl\", as_cmap=True)"
      ],
      "execution_count": null,
      "outputs": []
    },
    {
      "cell_type": "code",
      "metadata": {
        "id": "QJ4Zct-xyRRw",
        "colab": {
          "base_uri": "https://localhost:8080/",
          "height": 1000
        },
        "outputId": "845eee25-7806-4a11-a7eb-ac952cbc92b9"
      },
      "source": [
        "df = pd.DataFrame(preds[0:64]\n",
        "                  ,columns = ['World','Sports','Business','Sci/Tech'])\n",
        "df.style.format(\"{:.2%}\").background_gradient(cmap=cm)"
      ],
      "execution_count": null,
      "outputs": [
        {
          "output_type": "execute_result",
          "data": {
            "text/html": [
              "<style  type=\"text/css\" >\n",
              "#T_1d0c2382_f7d3_11eb_acef_0242ac1c0002row0_col0,#T_1d0c2382_f7d3_11eb_acef_0242ac1c0002row0_col2,#T_1d0c2382_f7d3_11eb_acef_0242ac1c0002row0_col3,#T_1d0c2382_f7d3_11eb_acef_0242ac1c0002row1_col1,#T_1d0c2382_f7d3_11eb_acef_0242ac1c0002row1_col2,#T_1d0c2382_f7d3_11eb_acef_0242ac1c0002row1_col3,#T_1d0c2382_f7d3_11eb_acef_0242ac1c0002row2_col0,#T_1d0c2382_f7d3_11eb_acef_0242ac1c0002row2_col1,#T_1d0c2382_f7d3_11eb_acef_0242ac1c0002row3_col2,#T_1d0c2382_f7d3_11eb_acef_0242ac1c0002row3_col3,#T_1d0c2382_f7d3_11eb_acef_0242ac1c0002row4_col1,#T_1d0c2382_f7d3_11eb_acef_0242ac1c0002row4_col2,#T_1d0c2382_f7d3_11eb_acef_0242ac1c0002row4_col3,#T_1d0c2382_f7d3_11eb_acef_0242ac1c0002row5_col0,#T_1d0c2382_f7d3_11eb_acef_0242ac1c0002row5_col1,#T_1d0c2382_f7d3_11eb_acef_0242ac1c0002row6_col2,#T_1d0c2382_f7d3_11eb_acef_0242ac1c0002row6_col3,#T_1d0c2382_f7d3_11eb_acef_0242ac1c0002row7_col2,#T_1d0c2382_f7d3_11eb_acef_0242ac1c0002row8_col1,#T_1d0c2382_f7d3_11eb_acef_0242ac1c0002row9_col1,#T_1d0c2382_f7d3_11eb_acef_0242ac1c0002row10_col1,#T_1d0c2382_f7d3_11eb_acef_0242ac1c0002row10_col2,#T_1d0c2382_f7d3_11eb_acef_0242ac1c0002row10_col3,#T_1d0c2382_f7d3_11eb_acef_0242ac1c0002row12_col0,#T_1d0c2382_f7d3_11eb_acef_0242ac1c0002row12_col1,#T_1d0c2382_f7d3_11eb_acef_0242ac1c0002row14_col1,#T_1d0c2382_f7d3_11eb_acef_0242ac1c0002row14_col2,#T_1d0c2382_f7d3_11eb_acef_0242ac1c0002row14_col3,#T_1d0c2382_f7d3_11eb_acef_0242ac1c0002row15_col0,#T_1d0c2382_f7d3_11eb_acef_0242ac1c0002row15_col2,#T_1d0c2382_f7d3_11eb_acef_0242ac1c0002row15_col3,#T_1d0c2382_f7d3_11eb_acef_0242ac1c0002row16_col0,#T_1d0c2382_f7d3_11eb_acef_0242ac1c0002row16_col2,#T_1d0c2382_f7d3_11eb_acef_0242ac1c0002row16_col3,#T_1d0c2382_f7d3_11eb_acef_0242ac1c0002row17_col1,#T_1d0c2382_f7d3_11eb_acef_0242ac1c0002row18_col0,#T_1d0c2382_f7d3_11eb_acef_0242ac1c0002row18_col1,#T_1d0c2382_f7d3_11eb_acef_0242ac1c0002row19_col1,#T_1d0c2382_f7d3_11eb_acef_0242ac1c0002row21_col1,#T_1d0c2382_f7d3_11eb_acef_0242ac1c0002row22_col1,#T_1d0c2382_f7d3_11eb_acef_0242ac1c0002row22_col2,#T_1d0c2382_f7d3_11eb_acef_0242ac1c0002row22_col3,#T_1d0c2382_f7d3_11eb_acef_0242ac1c0002row23_col0,#T_1d0c2382_f7d3_11eb_acef_0242ac1c0002row23_col1,#T_1d0c2382_f7d3_11eb_acef_0242ac1c0002row24_col1,#T_1d0c2382_f7d3_11eb_acef_0242ac1c0002row26_col0,#T_1d0c2382_f7d3_11eb_acef_0242ac1c0002row26_col1,#T_1d0c2382_f7d3_11eb_acef_0242ac1c0002row27_col1,#T_1d0c2382_f7d3_11eb_acef_0242ac1c0002row27_col2,#T_1d0c2382_f7d3_11eb_acef_0242ac1c0002row29_col1,#T_1d0c2382_f7d3_11eb_acef_0242ac1c0002row30_col1,#T_1d0c2382_f7d3_11eb_acef_0242ac1c0002row32_col1,#T_1d0c2382_f7d3_11eb_acef_0242ac1c0002row32_col3,#T_1d0c2382_f7d3_11eb_acef_0242ac1c0002row34_col0,#T_1d0c2382_f7d3_11eb_acef_0242ac1c0002row34_col1,#T_1d0c2382_f7d3_11eb_acef_0242ac1c0002row36_col1,#T_1d0c2382_f7d3_11eb_acef_0242ac1c0002row38_col2,#T_1d0c2382_f7d3_11eb_acef_0242ac1c0002row38_col3,#T_1d0c2382_f7d3_11eb_acef_0242ac1c0002row41_col1,#T_1d0c2382_f7d3_11eb_acef_0242ac1c0002row42_col1,#T_1d0c2382_f7d3_11eb_acef_0242ac1c0002row43_col2,#T_1d0c2382_f7d3_11eb_acef_0242ac1c0002row43_col3,#T_1d0c2382_f7d3_11eb_acef_0242ac1c0002row44_col1,#T_1d0c2382_f7d3_11eb_acef_0242ac1c0002row45_col0,#T_1d0c2382_f7d3_11eb_acef_0242ac1c0002row45_col2,#T_1d0c2382_f7d3_11eb_acef_0242ac1c0002row45_col3,#T_1d0c2382_f7d3_11eb_acef_0242ac1c0002row46_col1,#T_1d0c2382_f7d3_11eb_acef_0242ac1c0002row46_col2,#T_1d0c2382_f7d3_11eb_acef_0242ac1c0002row46_col3,#T_1d0c2382_f7d3_11eb_acef_0242ac1c0002row47_col0,#T_1d0c2382_f7d3_11eb_acef_0242ac1c0002row47_col2,#T_1d0c2382_f7d3_11eb_acef_0242ac1c0002row47_col3,#T_1d0c2382_f7d3_11eb_acef_0242ac1c0002row48_col1,#T_1d0c2382_f7d3_11eb_acef_0242ac1c0002row50_col1,#T_1d0c2382_f7d3_11eb_acef_0242ac1c0002row50_col2,#T_1d0c2382_f7d3_11eb_acef_0242ac1c0002row50_col3,#T_1d0c2382_f7d3_11eb_acef_0242ac1c0002row51_col1,#T_1d0c2382_f7d3_11eb_acef_0242ac1c0002row52_col2,#T_1d0c2382_f7d3_11eb_acef_0242ac1c0002row52_col3,#T_1d0c2382_f7d3_11eb_acef_0242ac1c0002row53_col1,#T_1d0c2382_f7d3_11eb_acef_0242ac1c0002row54_col2,#T_1d0c2382_f7d3_11eb_acef_0242ac1c0002row54_col3,#T_1d0c2382_f7d3_11eb_acef_0242ac1c0002row55_col0,#T_1d0c2382_f7d3_11eb_acef_0242ac1c0002row55_col1,#T_1d0c2382_f7d3_11eb_acef_0242ac1c0002row56_col0,#T_1d0c2382_f7d3_11eb_acef_0242ac1c0002row56_col1,#T_1d0c2382_f7d3_11eb_acef_0242ac1c0002row57_col1,#T_1d0c2382_f7d3_11eb_acef_0242ac1c0002row58_col1,#T_1d0c2382_f7d3_11eb_acef_0242ac1c0002row59_col1,#T_1d0c2382_f7d3_11eb_acef_0242ac1c0002row60_col1,#T_1d0c2382_f7d3_11eb_acef_0242ac1c0002row60_col2,#T_1d0c2382_f7d3_11eb_acef_0242ac1c0002row60_col3,#T_1d0c2382_f7d3_11eb_acef_0242ac1c0002row61_col0,#T_1d0c2382_f7d3_11eb_acef_0242ac1c0002row61_col2,#T_1d0c2382_f7d3_11eb_acef_0242ac1c0002row61_col3,#T_1d0c2382_f7d3_11eb_acef_0242ac1c0002row62_col2,#T_1d0c2382_f7d3_11eb_acef_0242ac1c0002row62_col3{\n",
              "            background-color:  #f0f1f2;\n",
              "            color:  #000000;\n",
              "        }#T_1d0c2382_f7d3_11eb_acef_0242ac1c0002row0_col1,#T_1d0c2382_f7d3_11eb_acef_0242ac1c0002row1_col0,#T_1d0c2382_f7d3_11eb_acef_0242ac1c0002row3_col1,#T_1d0c2382_f7d3_11eb_acef_0242ac1c0002row4_col0,#T_1d0c2382_f7d3_11eb_acef_0242ac1c0002row6_col1,#T_1d0c2382_f7d3_11eb_acef_0242ac1c0002row10_col0,#T_1d0c2382_f7d3_11eb_acef_0242ac1c0002row11_col3,#T_1d0c2382_f7d3_11eb_acef_0242ac1c0002row12_col2,#T_1d0c2382_f7d3_11eb_acef_0242ac1c0002row14_col0,#T_1d0c2382_f7d3_11eb_acef_0242ac1c0002row15_col1,#T_1d0c2382_f7d3_11eb_acef_0242ac1c0002row16_col1,#T_1d0c2382_f7d3_11eb_acef_0242ac1c0002row22_col0,#T_1d0c2382_f7d3_11eb_acef_0242ac1c0002row27_col0,#T_1d0c2382_f7d3_11eb_acef_0242ac1c0002row30_col3,#T_1d0c2382_f7d3_11eb_acef_0242ac1c0002row38_col1,#T_1d0c2382_f7d3_11eb_acef_0242ac1c0002row43_col1,#T_1d0c2382_f7d3_11eb_acef_0242ac1c0002row45_col1,#T_1d0c2382_f7d3_11eb_acef_0242ac1c0002row46_col0,#T_1d0c2382_f7d3_11eb_acef_0242ac1c0002row47_col1,#T_1d0c2382_f7d3_11eb_acef_0242ac1c0002row50_col0,#T_1d0c2382_f7d3_11eb_acef_0242ac1c0002row52_col1,#T_1d0c2382_f7d3_11eb_acef_0242ac1c0002row60_col0,#T_1d0c2382_f7d3_11eb_acef_0242ac1c0002row61_col1{\n",
              "            background-color:  #778ce4;\n",
              "            color:  #000000;\n",
              "        }#T_1d0c2382_f7d3_11eb_acef_0242ac1c0002row2_col2,#T_1d0c2382_f7d3_11eb_acef_0242ac1c0002row35_col1,#T_1d0c2382_f7d3_11eb_acef_0242ac1c0002row36_col2{\n",
              "            background-color:  #eaebf1;\n",
              "            color:  #000000;\n",
              "        }#T_1d0c2382_f7d3_11eb_acef_0242ac1c0002row2_col3,#T_1d0c2382_f7d3_11eb_acef_0242ac1c0002row8_col0,#T_1d0c2382_f7d3_11eb_acef_0242ac1c0002row44_col2,#T_1d0c2382_f7d3_11eb_acef_0242ac1c0002row58_col3{\n",
              "            background-color:  #7b8fe4;\n",
              "            color:  #000000;\n",
              "        }#T_1d0c2382_f7d3_11eb_acef_0242ac1c0002row3_col0,#T_1d0c2382_f7d3_11eb_acef_0242ac1c0002row6_col0,#T_1d0c2382_f7d3_11eb_acef_0242ac1c0002row7_col3,#T_1d0c2382_f7d3_11eb_acef_0242ac1c0002row8_col2,#T_1d0c2382_f7d3_11eb_acef_0242ac1c0002row9_col0,#T_1d0c2382_f7d3_11eb_acef_0242ac1c0002row11_col0,#T_1d0c2382_f7d3_11eb_acef_0242ac1c0002row11_col1,#T_1d0c2382_f7d3_11eb_acef_0242ac1c0002row12_col3,#T_1d0c2382_f7d3_11eb_acef_0242ac1c0002row13_col1,#T_1d0c2382_f7d3_11eb_acef_0242ac1c0002row13_col2,#T_1d0c2382_f7d3_11eb_acef_0242ac1c0002row20_col1,#T_1d0c2382_f7d3_11eb_acef_0242ac1c0002row21_col0,#T_1d0c2382_f7d3_11eb_acef_0242ac1c0002row27_col3,#T_1d0c2382_f7d3_11eb_acef_0242ac1c0002row28_col1,#T_1d0c2382_f7d3_11eb_acef_0242ac1c0002row29_col0,#T_1d0c2382_f7d3_11eb_acef_0242ac1c0002row38_col0,#T_1d0c2382_f7d3_11eb_acef_0242ac1c0002row41_col0,#T_1d0c2382_f7d3_11eb_acef_0242ac1c0002row43_col0,#T_1d0c2382_f7d3_11eb_acef_0242ac1c0002row44_col3,#T_1d0c2382_f7d3_11eb_acef_0242ac1c0002row52_col0,#T_1d0c2382_f7d3_11eb_acef_0242ac1c0002row53_col3,#T_1d0c2382_f7d3_11eb_acef_0242ac1c0002row57_col0,#T_1d0c2382_f7d3_11eb_acef_0242ac1c0002row58_col0,#T_1d0c2382_f7d3_11eb_acef_0242ac1c0002row59_col0{\n",
              "            background-color:  #f0f0f2;\n",
              "            color:  #000000;\n",
              "        }#T_1d0c2382_f7d3_11eb_acef_0242ac1c0002row5_col2,#T_1d0c2382_f7d3_11eb_acef_0242ac1c0002row55_col2{\n",
              "            background-color:  #dee1f0;\n",
              "            color:  #000000;\n",
              "        }#T_1d0c2382_f7d3_11eb_acef_0242ac1c0002row5_col3{\n",
              "            background-color:  #8899e6;\n",
              "            color:  #000000;\n",
              "        }#T_1d0c2382_f7d3_11eb_acef_0242ac1c0002row7_col0,#T_1d0c2382_f7d3_11eb_acef_0242ac1c0002row44_col0{\n",
              "            background-color:  #ecedf2;\n",
              "            color:  #000000;\n",
              "        }#T_1d0c2382_f7d3_11eb_acef_0242ac1c0002row7_col1,#T_1d0c2382_f7d3_11eb_acef_0242ac1c0002row21_col3,#T_1d0c2382_f7d3_11eb_acef_0242ac1c0002row32_col2,#T_1d0c2382_f7d3_11eb_acef_0242ac1c0002row48_col2,#T_1d0c2382_f7d3_11eb_acef_0242ac1c0002row51_col3{\n",
              "            background-color:  #7c90e4;\n",
              "            color:  #000000;\n",
              "        }#T_1d0c2382_f7d3_11eb_acef_0242ac1c0002row8_col3,#T_1d0c2382_f7d3_11eb_acef_0242ac1c0002row63_col0,#T_1d0c2382_f7d3_11eb_acef_0242ac1c0002row63_col2{\n",
              "            background-color:  #edeef2;\n",
              "            color:  #000000;\n",
              "        }#T_1d0c2382_f7d3_11eb_acef_0242ac1c0002row9_col2{\n",
              "            background-color:  #8a9be6;\n",
              "            color:  #000000;\n",
              "        }#T_1d0c2382_f7d3_11eb_acef_0242ac1c0002row9_col3{\n",
              "            background-color:  #dde0f0;\n",
              "            color:  #000000;\n",
              "        }#T_1d0c2382_f7d3_11eb_acef_0242ac1c0002row11_col2,#T_1d0c2382_f7d3_11eb_acef_0242ac1c0002row23_col3,#T_1d0c2382_f7d3_11eb_acef_0242ac1c0002row24_col3,#T_1d0c2382_f7d3_11eb_acef_0242ac1c0002row30_col0,#T_1d0c2382_f7d3_11eb_acef_0242ac1c0002row30_col2,#T_1d0c2382_f7d3_11eb_acef_0242ac1c0002row40_col1,#T_1d0c2382_f7d3_11eb_acef_0242ac1c0002row51_col0,#T_1d0c2382_f7d3_11eb_acef_0242ac1c0002row53_col0,#T_1d0c2382_f7d3_11eb_acef_0242ac1c0002row62_col0{\n",
              "            background-color:  #efeff2;\n",
              "            color:  #000000;\n",
              "        }#T_1d0c2382_f7d3_11eb_acef_0242ac1c0002row13_col0{\n",
              "            background-color:  #7a8ee4;\n",
              "            color:  #000000;\n",
              "        }#T_1d0c2382_f7d3_11eb_acef_0242ac1c0002row13_col3,#T_1d0c2382_f7d3_11eb_acef_0242ac1c0002row20_col0,#T_1d0c2382_f7d3_11eb_acef_0242ac1c0002row25_col1,#T_1d0c2382_f7d3_11eb_acef_0242ac1c0002row25_col2,#T_1d0c2382_f7d3_11eb_acef_0242ac1c0002row28_col0,#T_1d0c2382_f7d3_11eb_acef_0242ac1c0002row42_col3,#T_1d0c2382_f7d3_11eb_acef_0242ac1c0002row49_col1{\n",
              "            background-color:  #eeeff2;\n",
              "            color:  #000000;\n",
              "        }#T_1d0c2382_f7d3_11eb_acef_0242ac1c0002row17_col0,#T_1d0c2382_f7d3_11eb_acef_0242ac1c0002row21_col2{\n",
              "            background-color:  #e9ebf1;\n",
              "            color:  #000000;\n",
              "        }#T_1d0c2382_f7d3_11eb_acef_0242ac1c0002row17_col2{\n",
              "            background-color:  #dadef0;\n",
              "            color:  #000000;\n",
              "        }#T_1d0c2382_f7d3_11eb_acef_0242ac1c0002row17_col3{\n",
              "            background-color:  #93a3e7;\n",
              "            color:  #000000;\n",
              "        }#T_1d0c2382_f7d3_11eb_acef_0242ac1c0002row18_col2{\n",
              "            background-color:  #a7b4e9;\n",
              "            color:  #000000;\n",
              "        }#T_1d0c2382_f7d3_11eb_acef_0242ac1c0002row18_col3{\n",
              "            background-color:  #bfc7ec;\n",
              "            color:  #000000;\n",
              "        }#T_1d0c2382_f7d3_11eb_acef_0242ac1c0002row19_col0{\n",
              "            background-color:  #a6b2e9;\n",
              "            color:  #000000;\n",
              "        }#T_1d0c2382_f7d3_11eb_acef_0242ac1c0002row19_col2,#T_1d0c2382_f7d3_11eb_acef_0242ac1c0002row32_col0,#T_1d0c2382_f7d3_11eb_acef_0242ac1c0002row49_col2,#T_1d0c2382_f7d3_11eb_acef_0242ac1c0002row51_col2,#T_1d0c2382_f7d3_11eb_acef_0242ac1c0002row58_col2{\n",
              "            background-color:  #ebecf2;\n",
              "            color:  #000000;\n",
              "        }#T_1d0c2382_f7d3_11eb_acef_0242ac1c0002row19_col3{\n",
              "            background-color:  #c7ceed;\n",
              "            color:  #000000;\n",
              "        }#T_1d0c2382_f7d3_11eb_acef_0242ac1c0002row20_col2,#T_1d0c2382_f7d3_11eb_acef_0242ac1c0002row34_col3{\n",
              "            background-color:  #899be6;\n",
              "            color:  #000000;\n",
              "        }#T_1d0c2382_f7d3_11eb_acef_0242ac1c0002row20_col3,#T_1d0c2382_f7d3_11eb_acef_0242ac1c0002row31_col0{\n",
              "            background-color:  #e0e3f0;\n",
              "            color:  #000000;\n",
              "        }#T_1d0c2382_f7d3_11eb_acef_0242ac1c0002row23_col2{\n",
              "            background-color:  #788ce4;\n",
              "            color:  #000000;\n",
              "        }#T_1d0c2382_f7d3_11eb_acef_0242ac1c0002row24_col0,#T_1d0c2382_f7d3_11eb_acef_0242ac1c0002row48_col3,#T_1d0c2382_f7d3_11eb_acef_0242ac1c0002row54_col0{\n",
              "            background-color:  #eff0f2;\n",
              "            color:  #000000;\n",
              "        }#T_1d0c2382_f7d3_11eb_acef_0242ac1c0002row24_col2{\n",
              "            background-color:  #798de4;\n",
              "            color:  #000000;\n",
              "        }#T_1d0c2382_f7d3_11eb_acef_0242ac1c0002row25_col0{\n",
              "            background-color:  #8496e5;\n",
              "            color:  #000000;\n",
              "        }#T_1d0c2382_f7d3_11eb_acef_0242ac1c0002row25_col3,#T_1d0c2382_f7d3_11eb_acef_0242ac1c0002row29_col2,#T_1d0c2382_f7d3_11eb_acef_0242ac1c0002row40_col2{\n",
              "            background-color:  #e8e9f1;\n",
              "            color:  #000000;\n",
              "        }#T_1d0c2382_f7d3_11eb_acef_0242ac1c0002row26_col2,#T_1d0c2382_f7d3_11eb_acef_0242ac1c0002row31_col2,#T_1d0c2382_f7d3_11eb_acef_0242ac1c0002row33_col2{\n",
              "            background-color:  #e7e9f1;\n",
              "            color:  #000000;\n",
              "        }#T_1d0c2382_f7d3_11eb_acef_0242ac1c0002row26_col3,#T_1d0c2382_f7d3_11eb_acef_0242ac1c0002row29_col3{\n",
              "            background-color:  #7e92e4;\n",
              "            color:  #000000;\n",
              "        }#T_1d0c2382_f7d3_11eb_acef_0242ac1c0002row28_col2{\n",
              "            background-color:  #9fade8;\n",
              "            color:  #000000;\n",
              "        }#T_1d0c2382_f7d3_11eb_acef_0242ac1c0002row28_col3{\n",
              "            background-color:  #cad0ee;\n",
              "            color:  #000000;\n",
              "        }#T_1d0c2382_f7d3_11eb_acef_0242ac1c0002row31_col1{\n",
              "            background-color:  #bdc6ec;\n",
              "            color:  #000000;\n",
              "        }#T_1d0c2382_f7d3_11eb_acef_0242ac1c0002row31_col3{\n",
              "            background-color:  #c3cbed;\n",
              "            color:  #000000;\n",
              "        }#T_1d0c2382_f7d3_11eb_acef_0242ac1c0002row33_col0{\n",
              "            background-color:  #dfe2f0;\n",
              "            color:  #000000;\n",
              "        }#T_1d0c2382_f7d3_11eb_acef_0242ac1c0002row33_col1{\n",
              "            background-color:  #afbaea;\n",
              "            color:  #000000;\n",
              "        }#T_1d0c2382_f7d3_11eb_acef_0242ac1c0002row33_col3{\n",
              "            background-color:  #d3d8ef;\n",
              "            color:  #000000;\n",
              "        }#T_1d0c2382_f7d3_11eb_acef_0242ac1c0002row34_col2{\n",
              "            background-color:  #dce0f0;\n",
              "            color:  #000000;\n",
              "        }#T_1d0c2382_f7d3_11eb_acef_0242ac1c0002row35_col0,#T_1d0c2382_f7d3_11eb_acef_0242ac1c0002row57_col3{\n",
              "            background-color:  #e4e7f1;\n",
              "            color:  #000000;\n",
              "        }#T_1d0c2382_f7d3_11eb_acef_0242ac1c0002row35_col2{\n",
              "            background-color:  #cfd5ee;\n",
              "            color:  #000000;\n",
              "        }#T_1d0c2382_f7d3_11eb_acef_0242ac1c0002row35_col3{\n",
              "            background-color:  #a9b5ea;\n",
              "            color:  #000000;\n",
              "        }#T_1d0c2382_f7d3_11eb_acef_0242ac1c0002row36_col0,#T_1d0c2382_f7d3_11eb_acef_0242ac1c0002row59_col2{\n",
              "            background-color:  #98a7e8;\n",
              "            color:  #000000;\n",
              "        }#T_1d0c2382_f7d3_11eb_acef_0242ac1c0002row36_col3{\n",
              "            background-color:  #d6daef;\n",
              "            color:  #000000;\n",
              "        }#T_1d0c2382_f7d3_11eb_acef_0242ac1c0002row37_col0,#T_1d0c2382_f7d3_11eb_acef_0242ac1c0002row42_col0{\n",
              "            background-color:  #94a4e7;\n",
              "            color:  #000000;\n",
              "        }#T_1d0c2382_f7d3_11eb_acef_0242ac1c0002row37_col1{\n",
              "            background-color:  #e3e5f1;\n",
              "            color:  #000000;\n",
              "        }#T_1d0c2382_f7d3_11eb_acef_0242ac1c0002row37_col2,#T_1d0c2382_f7d3_11eb_acef_0242ac1c0002row48_col0{\n",
              "            background-color:  #ebedf2;\n",
              "            color:  #000000;\n",
              "        }#T_1d0c2382_f7d3_11eb_acef_0242ac1c0002row37_col3{\n",
              "            background-color:  #e6e8f1;\n",
              "            color:  #000000;\n",
              "        }#T_1d0c2382_f7d3_11eb_acef_0242ac1c0002row39_col0{\n",
              "            background-color:  #e3e6f1;\n",
              "            color:  #000000;\n",
              "        }#T_1d0c2382_f7d3_11eb_acef_0242ac1c0002row39_col1,#T_1d0c2382_f7d3_11eb_acef_0242ac1c0002row49_col0{\n",
              "            background-color:  #e1e4f0;\n",
              "            color:  #000000;\n",
              "        }#T_1d0c2382_f7d3_11eb_acef_0242ac1c0002row39_col2{\n",
              "            background-color:  #c0c9ec;\n",
              "            color:  #000000;\n",
              "        }#T_1d0c2382_f7d3_11eb_acef_0242ac1c0002row39_col3{\n",
              "            background-color:  #c2caed;\n",
              "            color:  #000000;\n",
              "        }#T_1d0c2382_f7d3_11eb_acef_0242ac1c0002row40_col0{\n",
              "            background-color:  #c6cded;\n",
              "            color:  #000000;\n",
              "        }#T_1d0c2382_f7d3_11eb_acef_0242ac1c0002row40_col3{\n",
              "            background-color:  #aab6ea;\n",
              "            color:  #000000;\n",
              "        }#T_1d0c2382_f7d3_11eb_acef_0242ac1c0002row41_col2,#T_1d0c2382_f7d3_11eb_acef_0242ac1c0002row56_col3{\n",
              "            background-color:  #99a8e8;\n",
              "            color:  #000000;\n",
              "        }#T_1d0c2382_f7d3_11eb_acef_0242ac1c0002row41_col3,#T_1d0c2382_f7d3_11eb_acef_0242ac1c0002row59_col3{\n",
              "            background-color:  #ced4ee;\n",
              "            color:  #000000;\n",
              "        }#T_1d0c2382_f7d3_11eb_acef_0242ac1c0002row42_col2{\n",
              "            background-color:  #d6dbef;\n",
              "            color:  #000000;\n",
              "        }#T_1d0c2382_f7d3_11eb_acef_0242ac1c0002row49_col3{\n",
              "            background-color:  #8a9ce6;\n",
              "            color:  #000000;\n",
              "        }#T_1d0c2382_f7d3_11eb_acef_0242ac1c0002row53_col2,#T_1d0c2382_f7d3_11eb_acef_0242ac1c0002row54_col1,#T_1d0c2382_f7d3_11eb_acef_0242ac1c0002row62_col1{\n",
              "            background-color:  #788de4;\n",
              "            color:  #000000;\n",
              "        }#T_1d0c2382_f7d3_11eb_acef_0242ac1c0002row55_col3{\n",
              "            background-color:  #8799e5;\n",
              "            color:  #000000;\n",
              "        }#T_1d0c2382_f7d3_11eb_acef_0242ac1c0002row56_col2{\n",
              "            background-color:  #ccd2ee;\n",
              "            color:  #000000;\n",
              "        }#T_1d0c2382_f7d3_11eb_acef_0242ac1c0002row57_col2{\n",
              "            background-color:  #8395e5;\n",
              "            color:  #000000;\n",
              "        }#T_1d0c2382_f7d3_11eb_acef_0242ac1c0002row63_col1{\n",
              "            background-color:  #dbdff0;\n",
              "            color:  #000000;\n",
              "        }#T_1d0c2382_f7d3_11eb_acef_0242ac1c0002row63_col3{\n",
              "            background-color:  #91a1e7;\n",
              "            color:  #000000;\n",
              "        }</style><table id=\"T_1d0c2382_f7d3_11eb_acef_0242ac1c0002\" ><thead>    <tr>        <th class=\"blank level0\" ></th>        <th class=\"col_heading level0 col0\" >World</th>        <th class=\"col_heading level0 col1\" >Sports</th>        <th class=\"col_heading level0 col2\" >Business</th>        <th class=\"col_heading level0 col3\" >Sci/Tech</th>    </tr></thead><tbody>\n",
              "                <tr>\n",
              "                        <th id=\"T_1d0c2382_f7d3_11eb_acef_0242ac1c0002level0_row0\" class=\"row_heading level0 row0\" >0</th>\n",
              "                        <td id=\"T_1d0c2382_f7d3_11eb_acef_0242ac1c0002row0_col0\" class=\"data row0 col0\" >0.18%</td>\n",
              "                        <td id=\"T_1d0c2382_f7d3_11eb_acef_0242ac1c0002row0_col1\" class=\"data row0 col1\" >99.82%</td>\n",
              "                        <td id=\"T_1d0c2382_f7d3_11eb_acef_0242ac1c0002row0_col2\" class=\"data row0 col2\" >0.00%</td>\n",
              "                        <td id=\"T_1d0c2382_f7d3_11eb_acef_0242ac1c0002row0_col3\" class=\"data row0 col3\" >0.00%</td>\n",
              "            </tr>\n",
              "            <tr>\n",
              "                        <th id=\"T_1d0c2382_f7d3_11eb_acef_0242ac1c0002level0_row1\" class=\"row_heading level0 row1\" >1</th>\n",
              "                        <td id=\"T_1d0c2382_f7d3_11eb_acef_0242ac1c0002row1_col0\" class=\"data row1 col0\" >99.93%</td>\n",
              "                        <td id=\"T_1d0c2382_f7d3_11eb_acef_0242ac1c0002row1_col1\" class=\"data row1 col1\" >0.01%</td>\n",
              "                        <td id=\"T_1d0c2382_f7d3_11eb_acef_0242ac1c0002row1_col2\" class=\"data row1 col2\" >0.04%</td>\n",
              "                        <td id=\"T_1d0c2382_f7d3_11eb_acef_0242ac1c0002row1_col3\" class=\"data row1 col3\" >0.03%</td>\n",
              "            </tr>\n",
              "            <tr>\n",
              "                        <th id=\"T_1d0c2382_f7d3_11eb_acef_0242ac1c0002level0_row2\" class=\"row_heading level0 row2\" >2</th>\n",
              "                        <td id=\"T_1d0c2382_f7d3_11eb_acef_0242ac1c0002row2_col0\" class=\"data row2 col0\" >0.18%</td>\n",
              "                        <td id=\"T_1d0c2382_f7d3_11eb_acef_0242ac1c0002row2_col1\" class=\"data row2 col1\" >0.04%</td>\n",
              "                        <td id=\"T_1d0c2382_f7d3_11eb_acef_0242ac1c0002row2_col2\" class=\"data row2 col2\" >5.32%</td>\n",
              "                        <td id=\"T_1d0c2382_f7d3_11eb_acef_0242ac1c0002row2_col3\" class=\"data row2 col3\" >94.45%</td>\n",
              "            </tr>\n",
              "            <tr>\n",
              "                        <th id=\"T_1d0c2382_f7d3_11eb_acef_0242ac1c0002level0_row3\" class=\"row_heading level0 row3\" >3</th>\n",
              "                        <td id=\"T_1d0c2382_f7d3_11eb_acef_0242ac1c0002row3_col0\" class=\"data row3 col0\" >0.79%</td>\n",
              "                        <td id=\"T_1d0c2382_f7d3_11eb_acef_0242ac1c0002row3_col1\" class=\"data row3 col1\" >99.17%</td>\n",
              "                        <td id=\"T_1d0c2382_f7d3_11eb_acef_0242ac1c0002row3_col2\" class=\"data row3 col2\" >0.02%</td>\n",
              "                        <td id=\"T_1d0c2382_f7d3_11eb_acef_0242ac1c0002row3_col3\" class=\"data row3 col3\" >0.02%</td>\n",
              "            </tr>\n",
              "            <tr>\n",
              "                        <th id=\"T_1d0c2382_f7d3_11eb_acef_0242ac1c0002level0_row4\" class=\"row_heading level0 row4\" >4</th>\n",
              "                        <td id=\"T_1d0c2382_f7d3_11eb_acef_0242ac1c0002row4_col0\" class=\"data row4 col0\" >99.92%</td>\n",
              "                        <td id=\"T_1d0c2382_f7d3_11eb_acef_0242ac1c0002row4_col1\" class=\"data row4 col1\" >0.00%</td>\n",
              "                        <td id=\"T_1d0c2382_f7d3_11eb_acef_0242ac1c0002row4_col2\" class=\"data row4 col2\" >0.04%</td>\n",
              "                        <td id=\"T_1d0c2382_f7d3_11eb_acef_0242ac1c0002row4_col3\" class=\"data row4 col3\" >0.04%</td>\n",
              "            </tr>\n",
              "            <tr>\n",
              "                        <th id=\"T_1d0c2382_f7d3_11eb_acef_0242ac1c0002level0_row5\" class=\"row_heading level0 row5\" >5</th>\n",
              "                        <td id=\"T_1d0c2382_f7d3_11eb_acef_0242ac1c0002row5_col0\" class=\"data row5 col0\" >0.49%</td>\n",
              "                        <td id=\"T_1d0c2382_f7d3_11eb_acef_0242ac1c0002row5_col1\" class=\"data row5 col1\" >0.17%</td>\n",
              "                        <td id=\"T_1d0c2382_f7d3_11eb_acef_0242ac1c0002row5_col2\" class=\"data row5 col2\" >15.28%</td>\n",
              "                        <td id=\"T_1d0c2382_f7d3_11eb_acef_0242ac1c0002row5_col3\" class=\"data row5 col3\" >84.07%</td>\n",
              "            </tr>\n",
              "            <tr>\n",
              "                        <th id=\"T_1d0c2382_f7d3_11eb_acef_0242ac1c0002level0_row6\" class=\"row_heading level0 row6\" >6</th>\n",
              "                        <td id=\"T_1d0c2382_f7d3_11eb_acef_0242ac1c0002row6_col0\" class=\"data row6 col0\" >0.61%</td>\n",
              "                        <td id=\"T_1d0c2382_f7d3_11eb_acef_0242ac1c0002row6_col1\" class=\"data row6 col1\" >99.35%</td>\n",
              "                        <td id=\"T_1d0c2382_f7d3_11eb_acef_0242ac1c0002row6_col2\" class=\"data row6 col2\" >0.02%</td>\n",
              "                        <td id=\"T_1d0c2382_f7d3_11eb_acef_0242ac1c0002row6_col3\" class=\"data row6 col3\" >0.03%</td>\n",
              "            </tr>\n",
              "            <tr>\n",
              "                        <th id=\"T_1d0c2382_f7d3_11eb_acef_0242ac1c0002level0_row7\" class=\"row_heading level0 row7\" >7</th>\n",
              "                        <td id=\"T_1d0c2382_f7d3_11eb_acef_0242ac1c0002row7_col0\" class=\"data row7 col0\" >3.85%</td>\n",
              "                        <td id=\"T_1d0c2382_f7d3_11eb_acef_0242ac1c0002row7_col1\" class=\"data row7 col1\" >95.70%</td>\n",
              "                        <td id=\"T_1d0c2382_f7d3_11eb_acef_0242ac1c0002row7_col2\" class=\"data row7 col2\" >0.05%</td>\n",
              "                        <td id=\"T_1d0c2382_f7d3_11eb_acef_0242ac1c0002row7_col3\" class=\"data row7 col3\" >0.40%</td>\n",
              "            </tr>\n",
              "            <tr>\n",
              "                        <th id=\"T_1d0c2382_f7d3_11eb_acef_0242ac1c0002level0_row8\" class=\"row_heading level0 row8\" >8</th>\n",
              "                        <td id=\"T_1d0c2382_f7d3_11eb_acef_0242ac1c0002row8_col0\" class=\"data row8 col0\" >96.23%</td>\n",
              "                        <td id=\"T_1d0c2382_f7d3_11eb_acef_0242ac1c0002row8_col1\" class=\"data row8 col1\" >0.34%</td>\n",
              "                        <td id=\"T_1d0c2382_f7d3_11eb_acef_0242ac1c0002row8_col2\" class=\"data row8 col2\" >0.76%</td>\n",
              "                        <td id=\"T_1d0c2382_f7d3_11eb_acef_0242ac1c0002row8_col3\" class=\"data row8 col3\" >2.68%</td>\n",
              "            </tr>\n",
              "            <tr>\n",
              "                        <th id=\"T_1d0c2382_f7d3_11eb_acef_0242ac1c0002level0_row9\" class=\"row_heading level0 row9\" >9</th>\n",
              "                        <td id=\"T_1d0c2382_f7d3_11eb_acef_0242ac1c0002row9_col0\" class=\"data row9 col0\" >0.65%</td>\n",
              "                        <td id=\"T_1d0c2382_f7d3_11eb_acef_0242ac1c0002row9_col1\" class=\"data row9 col1\" >0.03%</td>\n",
              "                        <td id=\"T_1d0c2382_f7d3_11eb_acef_0242ac1c0002row9_col2\" class=\"data row9 col2\" >83.34%</td>\n",
              "                        <td id=\"T_1d0c2382_f7d3_11eb_acef_0242ac1c0002row9_col3\" class=\"data row9 col3\" >15.98%</td>\n",
              "            </tr>\n",
              "            <tr>\n",
              "                        <th id=\"T_1d0c2382_f7d3_11eb_acef_0242ac1c0002level0_row10\" class=\"row_heading level0 row10\" >10</th>\n",
              "                        <td id=\"T_1d0c2382_f7d3_11eb_acef_0242ac1c0002row10_col0\" class=\"data row10 col0\" >99.95%</td>\n",
              "                        <td id=\"T_1d0c2382_f7d3_11eb_acef_0242ac1c0002row10_col1\" class=\"data row10 col1\" >0.00%</td>\n",
              "                        <td id=\"T_1d0c2382_f7d3_11eb_acef_0242ac1c0002row10_col2\" class=\"data row10 col2\" >0.02%</td>\n",
              "                        <td id=\"T_1d0c2382_f7d3_11eb_acef_0242ac1c0002row10_col3\" class=\"data row10 col3\" >0.02%</td>\n",
              "            </tr>\n",
              "            <tr>\n",
              "                        <th id=\"T_1d0c2382_f7d3_11eb_acef_0242ac1c0002level0_row11\" class=\"row_heading level0 row11\" >11</th>\n",
              "                        <td id=\"T_1d0c2382_f7d3_11eb_acef_0242ac1c0002row11_col0\" class=\"data row11 col0\" >0.61%</td>\n",
              "                        <td id=\"T_1d0c2382_f7d3_11eb_acef_0242ac1c0002row11_col1\" class=\"data row11 col1\" >0.52%</td>\n",
              "                        <td id=\"T_1d0c2382_f7d3_11eb_acef_0242ac1c0002row11_col2\" class=\"data row11 col2\" >1.32%</td>\n",
              "                        <td id=\"T_1d0c2382_f7d3_11eb_acef_0242ac1c0002row11_col3\" class=\"data row11 col3\" >97.55%</td>\n",
              "            </tr>\n",
              "            <tr>\n",
              "                        <th id=\"T_1d0c2382_f7d3_11eb_acef_0242ac1c0002level0_row12\" class=\"row_heading level0 row12\" >12</th>\n",
              "                        <td id=\"T_1d0c2382_f7d3_11eb_acef_0242ac1c0002row12_col0\" class=\"data row12 col0\" >0.34%</td>\n",
              "                        <td id=\"T_1d0c2382_f7d3_11eb_acef_0242ac1c0002row12_col1\" class=\"data row12 col1\" >0.00%</td>\n",
              "                        <td id=\"T_1d0c2382_f7d3_11eb_acef_0242ac1c0002row12_col2\" class=\"data row12 col2\" >99.18%</td>\n",
              "                        <td id=\"T_1d0c2382_f7d3_11eb_acef_0242ac1c0002row12_col3\" class=\"data row12 col3\" >0.48%</td>\n",
              "            </tr>\n",
              "            <tr>\n",
              "                        <th id=\"T_1d0c2382_f7d3_11eb_acef_0242ac1c0002level0_row13\" class=\"row_heading level0 row13\" >13</th>\n",
              "                        <td id=\"T_1d0c2382_f7d3_11eb_acef_0242ac1c0002row13_col0\" class=\"data row13 col0\" >97.46%</td>\n",
              "                        <td id=\"T_1d0c2382_f7d3_11eb_acef_0242ac1c0002row13_col1\" class=\"data row13 col1\" >0.46%</td>\n",
              "                        <td id=\"T_1d0c2382_f7d3_11eb_acef_0242ac1c0002row13_col2\" class=\"data row13 col2\" >0.44%</td>\n",
              "                        <td id=\"T_1d0c2382_f7d3_11eb_acef_0242ac1c0002row13_col3\" class=\"data row13 col3\" >1.63%</td>\n",
              "            </tr>\n",
              "            <tr>\n",
              "                        <th id=\"T_1d0c2382_f7d3_11eb_acef_0242ac1c0002level0_row14\" class=\"row_heading level0 row14\" >14</th>\n",
              "                        <td id=\"T_1d0c2382_f7d3_11eb_acef_0242ac1c0002row14_col0\" class=\"data row14 col0\" >99.96%</td>\n",
              "                        <td id=\"T_1d0c2382_f7d3_11eb_acef_0242ac1c0002row14_col1\" class=\"data row14 col1\" >0.00%</td>\n",
              "                        <td id=\"T_1d0c2382_f7d3_11eb_acef_0242ac1c0002row14_col2\" class=\"data row14 col2\" >0.02%</td>\n",
              "                        <td id=\"T_1d0c2382_f7d3_11eb_acef_0242ac1c0002row14_col3\" class=\"data row14 col3\" >0.02%</td>\n",
              "            </tr>\n",
              "            <tr>\n",
              "                        <th id=\"T_1d0c2382_f7d3_11eb_acef_0242ac1c0002level0_row15\" class=\"row_heading level0 row15\" >15</th>\n",
              "                        <td id=\"T_1d0c2382_f7d3_11eb_acef_0242ac1c0002row15_col0\" class=\"data row15 col0\" >0.52%</td>\n",
              "                        <td id=\"T_1d0c2382_f7d3_11eb_acef_0242ac1c0002row15_col1\" class=\"data row15 col1\" >99.47%</td>\n",
              "                        <td id=\"T_1d0c2382_f7d3_11eb_acef_0242ac1c0002row15_col2\" class=\"data row15 col2\" >0.00%</td>\n",
              "                        <td id=\"T_1d0c2382_f7d3_11eb_acef_0242ac1c0002row15_col3\" class=\"data row15 col3\" >0.00%</td>\n",
              "            </tr>\n",
              "            <tr>\n",
              "                        <th id=\"T_1d0c2382_f7d3_11eb_acef_0242ac1c0002level0_row16\" class=\"row_heading level0 row16\" >16</th>\n",
              "                        <td id=\"T_1d0c2382_f7d3_11eb_acef_0242ac1c0002row16_col0\" class=\"data row16 col0\" >0.28%</td>\n",
              "                        <td id=\"T_1d0c2382_f7d3_11eb_acef_0242ac1c0002row16_col1\" class=\"data row16 col1\" >99.70%</td>\n",
              "                        <td id=\"T_1d0c2382_f7d3_11eb_acef_0242ac1c0002row16_col2\" class=\"data row16 col2\" >0.00%</td>\n",
              "                        <td id=\"T_1d0c2382_f7d3_11eb_acef_0242ac1c0002row16_col3\" class=\"data row16 col3\" >0.02%</td>\n",
              "            </tr>\n",
              "            <tr>\n",
              "                        <th id=\"T_1d0c2382_f7d3_11eb_acef_0242ac1c0002level0_row17\" class=\"row_heading level0 row17\" >17</th>\n",
              "                        <td id=\"T_1d0c2382_f7d3_11eb_acef_0242ac1c0002row17_col0\" class=\"data row17 col0\" >6.37%</td>\n",
              "                        <td id=\"T_1d0c2382_f7d3_11eb_acef_0242ac1c0002row17_col1\" class=\"data row17 col1\" >0.32%</td>\n",
              "                        <td id=\"T_1d0c2382_f7d3_11eb_acef_0242ac1c0002row17_col2\" class=\"data row17 col2\" >18.46%</td>\n",
              "                        <td id=\"T_1d0c2382_f7d3_11eb_acef_0242ac1c0002row17_col3\" class=\"data row17 col3\" >74.85%</td>\n",
              "            </tr>\n",
              "            <tr>\n",
              "                        <th id=\"T_1d0c2382_f7d3_11eb_acef_0242ac1c0002level0_row18\" class=\"row_heading level0 row18\" >18</th>\n",
              "                        <td id=\"T_1d0c2382_f7d3_11eb_acef_0242ac1c0002row18_col0\" class=\"data row18 col0\" >0.31%</td>\n",
              "                        <td id=\"T_1d0c2382_f7d3_11eb_acef_0242ac1c0002row18_col1\" class=\"data row18 col1\" >0.03%</td>\n",
              "                        <td id=\"T_1d0c2382_f7d3_11eb_acef_0242ac1c0002row18_col2\" class=\"data row18 col2\" >60.03%</td>\n",
              "                        <td id=\"T_1d0c2382_f7d3_11eb_acef_0242ac1c0002row18_col3\" class=\"data row18 col3\" >39.63%</td>\n",
              "            </tr>\n",
              "            <tr>\n",
              "                        <th id=\"T_1d0c2382_f7d3_11eb_acef_0242ac1c0002level0_row19\" class=\"row_heading level0 row19\" >19</th>\n",
              "                        <td id=\"T_1d0c2382_f7d3_11eb_acef_0242ac1c0002row19_col0\" class=\"data row19 col0\" >61.71%</td>\n",
              "                        <td id=\"T_1d0c2382_f7d3_11eb_acef_0242ac1c0002row19_col1\" class=\"data row19 col1\" >0.03%</td>\n",
              "                        <td id=\"T_1d0c2382_f7d3_11eb_acef_0242ac1c0002row19_col2\" class=\"data row19 col2\" >4.81%</td>\n",
              "                        <td id=\"T_1d0c2382_f7d3_11eb_acef_0242ac1c0002row19_col3\" class=\"data row19 col3\" >33.44%</td>\n",
              "            </tr>\n",
              "            <tr>\n",
              "                        <th id=\"T_1d0c2382_f7d3_11eb_acef_0242ac1c0002level0_row20\" class=\"row_heading level0 row20\" >20</th>\n",
              "                        <td id=\"T_1d0c2382_f7d3_11eb_acef_0242ac1c0002row20_col0\" class=\"data row20 col0\" >2.05%</td>\n",
              "                        <td id=\"T_1d0c2382_f7d3_11eb_acef_0242ac1c0002row20_col1\" class=\"data row20 col1\" >0.42%</td>\n",
              "                        <td id=\"T_1d0c2382_f7d3_11eb_acef_0242ac1c0002row20_col2\" class=\"data row20 col2\" >84.27%</td>\n",
              "                        <td id=\"T_1d0c2382_f7d3_11eb_acef_0242ac1c0002row20_col3\" class=\"data row20 col3\" >13.26%</td>\n",
              "            </tr>\n",
              "            <tr>\n",
              "                        <th id=\"T_1d0c2382_f7d3_11eb_acef_0242ac1c0002level0_row21\" class=\"row_heading level0 row21\" >21</th>\n",
              "                        <td id=\"T_1d0c2382_f7d3_11eb_acef_0242ac1c0002row21_col0\" class=\"data row21 col0\" >0.77%</td>\n",
              "                        <td id=\"T_1d0c2382_f7d3_11eb_acef_0242ac1c0002row21_col1\" class=\"data row21 col1\" >0.07%</td>\n",
              "                        <td id=\"T_1d0c2382_f7d3_11eb_acef_0242ac1c0002row21_col2\" class=\"data row21 col2\" >6.11%</td>\n",
              "                        <td id=\"T_1d0c2382_f7d3_11eb_acef_0242ac1c0002row21_col3\" class=\"data row21 col3\" >93.06%</td>\n",
              "            </tr>\n",
              "            <tr>\n",
              "                        <th id=\"T_1d0c2382_f7d3_11eb_acef_0242ac1c0002level0_row22\" class=\"row_heading level0 row22\" >22</th>\n",
              "                        <td id=\"T_1d0c2382_f7d3_11eb_acef_0242ac1c0002row22_col0\" class=\"data row22 col0\" >99.72%</td>\n",
              "                        <td id=\"T_1d0c2382_f7d3_11eb_acef_0242ac1c0002row22_col1\" class=\"data row22 col1\" >0.01%</td>\n",
              "                        <td id=\"T_1d0c2382_f7d3_11eb_acef_0242ac1c0002row22_col2\" class=\"data row22 col2\" >0.10%</td>\n",
              "                        <td id=\"T_1d0c2382_f7d3_11eb_acef_0242ac1c0002row22_col3\" class=\"data row22 col3\" >0.17%</td>\n",
              "            </tr>\n",
              "            <tr>\n",
              "                        <th id=\"T_1d0c2382_f7d3_11eb_acef_0242ac1c0002level0_row23\" class=\"row_heading level0 row23\" >23</th>\n",
              "                        <td id=\"T_1d0c2382_f7d3_11eb_acef_0242ac1c0002row23_col0\" class=\"data row23 col0\" >0.51%</td>\n",
              "                        <td id=\"T_1d0c2382_f7d3_11eb_acef_0242ac1c0002row23_col1\" class=\"data row23 col1\" >0.01%</td>\n",
              "                        <td id=\"T_1d0c2382_f7d3_11eb_acef_0242ac1c0002row23_col2\" class=\"data row23 col2\" >98.24%</td>\n",
              "                        <td id=\"T_1d0c2382_f7d3_11eb_acef_0242ac1c0002row23_col3\" class=\"data row23 col3\" >1.24%</td>\n",
              "            </tr>\n",
              "            <tr>\n",
              "                        <th id=\"T_1d0c2382_f7d3_11eb_acef_0242ac1c0002level0_row24\" class=\"row_heading level0 row24\" >24</th>\n",
              "                        <td id=\"T_1d0c2382_f7d3_11eb_acef_0242ac1c0002row24_col0\" class=\"data row24 col0\" >1.11%</td>\n",
              "                        <td id=\"T_1d0c2382_f7d3_11eb_acef_0242ac1c0002row24_col1\" class=\"data row24 col1\" >0.01%</td>\n",
              "                        <td id=\"T_1d0c2382_f7d3_11eb_acef_0242ac1c0002row24_col2\" class=\"data row24 col2\" >97.45%</td>\n",
              "                        <td id=\"T_1d0c2382_f7d3_11eb_acef_0242ac1c0002row24_col3\" class=\"data row24 col3\" >1.43%</td>\n",
              "            </tr>\n",
              "            <tr>\n",
              "                        <th id=\"T_1d0c2382_f7d3_11eb_acef_0242ac1c0002level0_row25\" class=\"row_heading level0 row25\" >25</th>\n",
              "                        <td id=\"T_1d0c2382_f7d3_11eb_acef_0242ac1c0002row25_col0\" class=\"data row25 col0\" >89.37%</td>\n",
              "                        <td id=\"T_1d0c2382_f7d3_11eb_acef_0242ac1c0002row25_col1\" class=\"data row25 col1\" >2.03%</td>\n",
              "                        <td id=\"T_1d0c2382_f7d3_11eb_acef_0242ac1c0002row25_col2\" class=\"data row25 col2\" >1.66%</td>\n",
              "                        <td id=\"T_1d0c2382_f7d3_11eb_acef_0242ac1c0002row25_col3\" class=\"data row25 col3\" >6.94%</td>\n",
              "            </tr>\n",
              "            <tr>\n",
              "                        <th id=\"T_1d0c2382_f7d3_11eb_acef_0242ac1c0002level0_row26\" class=\"row_heading level0 row26\" >26</th>\n",
              "                        <td id=\"T_1d0c2382_f7d3_11eb_acef_0242ac1c0002row26_col0\" class=\"data row26 col0\" >0.23%</td>\n",
              "                        <td id=\"T_1d0c2382_f7d3_11eb_acef_0242ac1c0002row26_col1\" class=\"data row26 col1\" >0.02%</td>\n",
              "                        <td id=\"T_1d0c2382_f7d3_11eb_acef_0242ac1c0002row26_col2\" class=\"data row26 col2\" >7.99%</td>\n",
              "                        <td id=\"T_1d0c2382_f7d3_11eb_acef_0242ac1c0002row26_col3\" class=\"data row26 col3\" >91.76%</td>\n",
              "            </tr>\n",
              "            <tr>\n",
              "                        <th id=\"T_1d0c2382_f7d3_11eb_acef_0242ac1c0002level0_row27\" class=\"row_heading level0 row27\" >27</th>\n",
              "                        <td id=\"T_1d0c2382_f7d3_11eb_acef_0242ac1c0002row27_col0\" class=\"data row27 col0\" >99.45%</td>\n",
              "                        <td id=\"T_1d0c2382_f7d3_11eb_acef_0242ac1c0002row27_col1\" class=\"data row27 col1\" >0.02%</td>\n",
              "                        <td id=\"T_1d0c2382_f7d3_11eb_acef_0242ac1c0002row27_col2\" class=\"data row27 col2\" >0.14%</td>\n",
              "                        <td id=\"T_1d0c2382_f7d3_11eb_acef_0242ac1c0002row27_col3\" class=\"data row27 col3\" >0.39%</td>\n",
              "            </tr>\n",
              "            <tr>\n",
              "                        <th id=\"T_1d0c2382_f7d3_11eb_acef_0242ac1c0002level0_row28\" class=\"row_heading level0 row28\" >28</th>\n",
              "                        <td id=\"T_1d0c2382_f7d3_11eb_acef_0242ac1c0002row28_col0\" class=\"data row28 col0\" >1.90%</td>\n",
              "                        <td id=\"T_1d0c2382_f7d3_11eb_acef_0242ac1c0002row28_col1\" class=\"data row28 col1\" >0.76%</td>\n",
              "                        <td id=\"T_1d0c2382_f7d3_11eb_acef_0242ac1c0002row28_col2\" class=\"data row28 col2\" >66.22%</td>\n",
              "                        <td id=\"T_1d0c2382_f7d3_11eb_acef_0242ac1c0002row28_col3\" class=\"data row28 col3\" >31.11%</td>\n",
              "            </tr>\n",
              "            <tr>\n",
              "                        <th id=\"T_1d0c2382_f7d3_11eb_acef_0242ac1c0002level0_row29\" class=\"row_heading level0 row29\" >29</th>\n",
              "                        <td id=\"T_1d0c2382_f7d3_11eb_acef_0242ac1c0002row29_col0\" class=\"data row29 col0\" >0.85%</td>\n",
              "                        <td id=\"T_1d0c2382_f7d3_11eb_acef_0242ac1c0002row29_col1\" class=\"data row29 col1\" >0.01%</td>\n",
              "                        <td id=\"T_1d0c2382_f7d3_11eb_acef_0242ac1c0002row29_col2\" class=\"data row29 col2\" >7.36%</td>\n",
              "                        <td id=\"T_1d0c2382_f7d3_11eb_acef_0242ac1c0002row29_col3\" class=\"data row29 col3\" >91.78%</td>\n",
              "            </tr>\n",
              "            <tr>\n",
              "                        <th id=\"T_1d0c2382_f7d3_11eb_acef_0242ac1c0002level0_row30\" class=\"row_heading level0 row30\" >30</th>\n",
              "                        <td id=\"T_1d0c2382_f7d3_11eb_acef_0242ac1c0002row30_col0\" class=\"data row30 col0\" >1.59%</td>\n",
              "                        <td id=\"T_1d0c2382_f7d3_11eb_acef_0242ac1c0002row30_col1\" class=\"data row30 col1\" >0.06%</td>\n",
              "                        <td id=\"T_1d0c2382_f7d3_11eb_acef_0242ac1c0002row30_col2\" class=\"data row30 col2\" >1.54%</td>\n",
              "                        <td id=\"T_1d0c2382_f7d3_11eb_acef_0242ac1c0002row30_col3\" class=\"data row30 col3\" >96.81%</td>\n",
              "            </tr>\n",
              "            <tr>\n",
              "                        <th id=\"T_1d0c2382_f7d3_11eb_acef_0242ac1c0002level0_row31\" class=\"row_heading level0 row31\" >31</th>\n",
              "                        <td id=\"T_1d0c2382_f7d3_11eb_acef_0242ac1c0002row31_col0\" class=\"data row31 col0\" >13.85%</td>\n",
              "                        <td id=\"T_1d0c2382_f7d3_11eb_acef_0242ac1c0002row31_col1\" class=\"data row31 col1\" >42.12%</td>\n",
              "                        <td id=\"T_1d0c2382_f7d3_11eb_acef_0242ac1c0002row31_col2\" class=\"data row31 col2\" >7.67%</td>\n",
              "                        <td id=\"T_1d0c2382_f7d3_11eb_acef_0242ac1c0002row31_col3\" class=\"data row31 col3\" >36.37%</td>\n",
              "            </tr>\n",
              "            <tr>\n",
              "                        <th id=\"T_1d0c2382_f7d3_11eb_acef_0242ac1c0002level0_row32\" class=\"row_heading level0 row32\" >32</th>\n",
              "                        <td id=\"T_1d0c2382_f7d3_11eb_acef_0242ac1c0002row32_col0\" class=\"data row32 col0\" >4.82%</td>\n",
              "                        <td id=\"T_1d0c2382_f7d3_11eb_acef_0242ac1c0002row32_col1\" class=\"data row32 col1\" >0.00%</td>\n",
              "                        <td id=\"T_1d0c2382_f7d3_11eb_acef_0242ac1c0002row32_col2\" class=\"data row32 col2\" >95.11%</td>\n",
              "                        <td id=\"T_1d0c2382_f7d3_11eb_acef_0242ac1c0002row32_col3\" class=\"data row32 col3\" >0.07%</td>\n",
              "            </tr>\n",
              "            <tr>\n",
              "                        <th id=\"T_1d0c2382_f7d3_11eb_acef_0242ac1c0002level0_row33\" class=\"row_heading level0 row33\" >33</th>\n",
              "                        <td id=\"T_1d0c2382_f7d3_11eb_acef_0242ac1c0002row33_col0\" class=\"data row33 col0\" >14.20%</td>\n",
              "                        <td id=\"T_1d0c2382_f7d3_11eb_acef_0242ac1c0002row33_col1\" class=\"data row33 col1\" >54.16%</td>\n",
              "                        <td id=\"T_1d0c2382_f7d3_11eb_acef_0242ac1c0002row33_col2\" class=\"data row33 col2\" >7.98%</td>\n",
              "                        <td id=\"T_1d0c2382_f7d3_11eb_acef_0242ac1c0002row33_col3\" class=\"data row33 col3\" >23.67%</td>\n",
              "            </tr>\n",
              "            <tr>\n",
              "                        <th id=\"T_1d0c2382_f7d3_11eb_acef_0242ac1c0002level0_row34\" class=\"row_heading level0 row34\" >34</th>\n",
              "                        <td id=\"T_1d0c2382_f7d3_11eb_acef_0242ac1c0002row34_col0\" class=\"data row34 col0\" >0.37%</td>\n",
              "                        <td id=\"T_1d0c2382_f7d3_11eb_acef_0242ac1c0002row34_col1\" class=\"data row34 col1\" >0.02%</td>\n",
              "                        <td id=\"T_1d0c2382_f7d3_11eb_acef_0242ac1c0002row34_col2\" class=\"data row34 col2\" >16.79%</td>\n",
              "                        <td id=\"T_1d0c2382_f7d3_11eb_acef_0242ac1c0002row34_col3\" class=\"data row34 col3\" >82.82%</td>\n",
              "            </tr>\n",
              "            <tr>\n",
              "                        <th id=\"T_1d0c2382_f7d3_11eb_acef_0242ac1c0002level0_row35\" class=\"row_heading level0 row35\" >35</th>\n",
              "                        <td id=\"T_1d0c2382_f7d3_11eb_acef_0242ac1c0002row35_col0\" class=\"data row35 col0\" >10.29%</td>\n",
              "                        <td id=\"T_1d0c2382_f7d3_11eb_acef_0242ac1c0002row35_col1\" class=\"data row35 col1\" >5.07%</td>\n",
              "                        <td id=\"T_1d0c2382_f7d3_11eb_acef_0242ac1c0002row35_col2\" class=\"data row35 col2\" >27.32%</td>\n",
              "                        <td id=\"T_1d0c2382_f7d3_11eb_acef_0242ac1c0002row35_col3\" class=\"data row35 col3\" >57.32%</td>\n",
              "            </tr>\n",
              "            <tr>\n",
              "                        <th id=\"T_1d0c2382_f7d3_11eb_acef_0242ac1c0002level0_row36\" class=\"row_heading level0 row36\" >36</th>\n",
              "                        <td id=\"T_1d0c2382_f7d3_11eb_acef_0242ac1c0002row36_col0\" class=\"data row36 col0\" >72.91%</td>\n",
              "                        <td id=\"T_1d0c2382_f7d3_11eb_acef_0242ac1c0002row36_col1\" class=\"data row36 col1\" >0.32%</td>\n",
              "                        <td id=\"T_1d0c2382_f7d3_11eb_acef_0242ac1c0002row36_col2\" class=\"data row36 col2\" >5.15%</td>\n",
              "                        <td id=\"T_1d0c2382_f7d3_11eb_acef_0242ac1c0002row36_col3\" class=\"data row36 col3\" >21.63%</td>\n",
              "            </tr>\n",
              "            <tr>\n",
              "                        <th id=\"T_1d0c2382_f7d3_11eb_acef_0242ac1c0002level0_row37\" class=\"row_heading level0 row37\" >37</th>\n",
              "                        <td id=\"T_1d0c2382_f7d3_11eb_acef_0242ac1c0002row37_col0\" class=\"data row37 col0\" >75.97%</td>\n",
              "                        <td id=\"T_1d0c2382_f7d3_11eb_acef_0242ac1c0002row37_col1\" class=\"data row37 col1\" >11.23%</td>\n",
              "                        <td id=\"T_1d0c2382_f7d3_11eb_acef_0242ac1c0002row37_col2\" class=\"data row37 col2\" >4.10%</td>\n",
              "                        <td id=\"T_1d0c2382_f7d3_11eb_acef_0242ac1c0002row37_col3\" class=\"data row37 col3\" >8.69%</td>\n",
              "            </tr>\n",
              "            <tr>\n",
              "                        <th id=\"T_1d0c2382_f7d3_11eb_acef_0242ac1c0002level0_row38\" class=\"row_heading level0 row38\" >38</th>\n",
              "                        <td id=\"T_1d0c2382_f7d3_11eb_acef_0242ac1c0002row38_col0\" class=\"data row38 col0\" >0.61%</td>\n",
              "                        <td id=\"T_1d0c2382_f7d3_11eb_acef_0242ac1c0002row38_col1\" class=\"data row38 col1\" >99.34%</td>\n",
              "                        <td id=\"T_1d0c2382_f7d3_11eb_acef_0242ac1c0002row38_col2\" class=\"data row38 col2\" >0.02%</td>\n",
              "                        <td id=\"T_1d0c2382_f7d3_11eb_acef_0242ac1c0002row38_col3\" class=\"data row38 col3\" >0.03%</td>\n",
              "            </tr>\n",
              "            <tr>\n",
              "                        <th id=\"T_1d0c2382_f7d3_11eb_acef_0242ac1c0002level0_row39\" class=\"row_heading level0 row39\" >39</th>\n",
              "                        <td id=\"T_1d0c2382_f7d3_11eb_acef_0242ac1c0002row39_col0\" class=\"data row39 col0\" >10.87%</td>\n",
              "                        <td id=\"T_1d0c2382_f7d3_11eb_acef_0242ac1c0002row39_col1\" class=\"data row39 col1\" >12.54%</td>\n",
              "                        <td id=\"T_1d0c2382_f7d3_11eb_acef_0242ac1c0002row39_col2\" class=\"data row39 col2\" >39.26%</td>\n",
              "                        <td id=\"T_1d0c2382_f7d3_11eb_acef_0242ac1c0002row39_col3\" class=\"data row39 col3\" >37.33%</td>\n",
              "            </tr>\n",
              "            <tr>\n",
              "                        <th id=\"T_1d0c2382_f7d3_11eb_acef_0242ac1c0002level0_row40\" class=\"row_heading level0 row40\" >40</th>\n",
              "                        <td id=\"T_1d0c2382_f7d3_11eb_acef_0242ac1c0002row40_col0\" class=\"data row40 col0\" >34.98%</td>\n",
              "                        <td id=\"T_1d0c2382_f7d3_11eb_acef_0242ac1c0002row40_col1\" class=\"data row40 col1\" >1.48%</td>\n",
              "                        <td id=\"T_1d0c2382_f7d3_11eb_acef_0242ac1c0002row40_col2\" class=\"data row40 col2\" >7.26%</td>\n",
              "                        <td id=\"T_1d0c2382_f7d3_11eb_acef_0242ac1c0002row40_col3\" class=\"data row40 col3\" >56.28%</td>\n",
              "            </tr>\n",
              "            <tr>\n",
              "                        <th id=\"T_1d0c2382_f7d3_11eb_acef_0242ac1c0002level0_row41\" class=\"row_heading level0 row41\" >41</th>\n",
              "                        <td id=\"T_1d0c2382_f7d3_11eb_acef_0242ac1c0002row41_col0\" class=\"data row41 col0\" >0.84%</td>\n",
              "                        <td id=\"T_1d0c2382_f7d3_11eb_acef_0242ac1c0002row41_col1\" class=\"data row41 col1\" >0.02%</td>\n",
              "                        <td id=\"T_1d0c2382_f7d3_11eb_acef_0242ac1c0002row41_col2\" class=\"data row41 col2\" >71.42%</td>\n",
              "                        <td id=\"T_1d0c2382_f7d3_11eb_acef_0242ac1c0002row41_col3\" class=\"data row41 col3\" >27.72%</td>\n",
              "            </tr>\n",
              "            <tr>\n",
              "                        <th id=\"T_1d0c2382_f7d3_11eb_acef_0242ac1c0002level0_row42\" class=\"row_heading level0 row42\" >42</th>\n",
              "                        <td id=\"T_1d0c2382_f7d3_11eb_acef_0242ac1c0002row42_col0\" class=\"data row42 col0\" >76.15%</td>\n",
              "                        <td id=\"T_1d0c2382_f7d3_11eb_acef_0242ac1c0002row42_col1\" class=\"data row42 col1\" >0.18%</td>\n",
              "                        <td id=\"T_1d0c2382_f7d3_11eb_acef_0242ac1c0002row42_col2\" class=\"data row42 col2\" >21.49%</td>\n",
              "                        <td id=\"T_1d0c2382_f7d3_11eb_acef_0242ac1c0002row42_col3\" class=\"data row42 col3\" >2.19%</td>\n",
              "            </tr>\n",
              "            <tr>\n",
              "                        <th id=\"T_1d0c2382_f7d3_11eb_acef_0242ac1c0002level0_row43\" class=\"row_heading level0 row43\" >43</th>\n",
              "                        <td id=\"T_1d0c2382_f7d3_11eb_acef_0242ac1c0002row43_col0\" class=\"data row43 col0\" >0.65%</td>\n",
              "                        <td id=\"T_1d0c2382_f7d3_11eb_acef_0242ac1c0002row43_col1\" class=\"data row43 col1\" >99.33%</td>\n",
              "                        <td id=\"T_1d0c2382_f7d3_11eb_acef_0242ac1c0002row43_col2\" class=\"data row43 col2\" >0.00%</td>\n",
              "                        <td id=\"T_1d0c2382_f7d3_11eb_acef_0242ac1c0002row43_col3\" class=\"data row43 col3\" >0.01%</td>\n",
              "            </tr>\n",
              "            <tr>\n",
              "                        <th id=\"T_1d0c2382_f7d3_11eb_acef_0242ac1c0002level0_row44\" class=\"row_heading level0 row44\" >44</th>\n",
              "                        <td id=\"T_1d0c2382_f7d3_11eb_acef_0242ac1c0002row44_col0\" class=\"data row44 col0\" >3.94%</td>\n",
              "                        <td id=\"T_1d0c2382_f7d3_11eb_acef_0242ac1c0002row44_col1\" class=\"data row44 col1\" >0.02%</td>\n",
              "                        <td id=\"T_1d0c2382_f7d3_11eb_acef_0242ac1c0002row44_col2\" class=\"data row44 col2\" >95.33%</td>\n",
              "                        <td id=\"T_1d0c2382_f7d3_11eb_acef_0242ac1c0002row44_col3\" class=\"data row44 col3\" >0.71%</td>\n",
              "            </tr>\n",
              "            <tr>\n",
              "                        <th id=\"T_1d0c2382_f7d3_11eb_acef_0242ac1c0002level0_row45\" class=\"row_heading level0 row45\" >45</th>\n",
              "                        <td id=\"T_1d0c2382_f7d3_11eb_acef_0242ac1c0002row45_col0\" class=\"data row45 col0\" >0.54%</td>\n",
              "                        <td id=\"T_1d0c2382_f7d3_11eb_acef_0242ac1c0002row45_col1\" class=\"data row45 col1\" >99.45%</td>\n",
              "                        <td id=\"T_1d0c2382_f7d3_11eb_acef_0242ac1c0002row45_col2\" class=\"data row45 col2\" >0.01%</td>\n",
              "                        <td id=\"T_1d0c2382_f7d3_11eb_acef_0242ac1c0002row45_col3\" class=\"data row45 col3\" >0.01%</td>\n",
              "            </tr>\n",
              "            <tr>\n",
              "                        <th id=\"T_1d0c2382_f7d3_11eb_acef_0242ac1c0002level0_row46\" class=\"row_heading level0 row46\" >46</th>\n",
              "                        <td id=\"T_1d0c2382_f7d3_11eb_acef_0242ac1c0002row46_col0\" class=\"data row46 col0\" >99.74%</td>\n",
              "                        <td id=\"T_1d0c2382_f7d3_11eb_acef_0242ac1c0002row46_col1\" class=\"data row46 col1\" >0.03%</td>\n",
              "                        <td id=\"T_1d0c2382_f7d3_11eb_acef_0242ac1c0002row46_col2\" class=\"data row46 col2\" >0.07%</td>\n",
              "                        <td id=\"T_1d0c2382_f7d3_11eb_acef_0242ac1c0002row46_col3\" class=\"data row46 col3\" >0.15%</td>\n",
              "            </tr>\n",
              "            <tr>\n",
              "                        <th id=\"T_1d0c2382_f7d3_11eb_acef_0242ac1c0002level0_row47\" class=\"row_heading level0 row47\" >47</th>\n",
              "                        <td id=\"T_1d0c2382_f7d3_11eb_acef_0242ac1c0002row47_col0\" class=\"data row47 col0\" >0.47%</td>\n",
              "                        <td id=\"T_1d0c2382_f7d3_11eb_acef_0242ac1c0002row47_col1\" class=\"data row47 col1\" >99.53%</td>\n",
              "                        <td id=\"T_1d0c2382_f7d3_11eb_acef_0242ac1c0002row47_col2\" class=\"data row47 col2\" >0.00%</td>\n",
              "                        <td id=\"T_1d0c2382_f7d3_11eb_acef_0242ac1c0002row47_col3\" class=\"data row47 col3\" >0.00%</td>\n",
              "            </tr>\n",
              "            <tr>\n",
              "                        <th id=\"T_1d0c2382_f7d3_11eb_acef_0242ac1c0002level0_row48\" class=\"row_heading level0 row48\" >48</th>\n",
              "                        <td id=\"T_1d0c2382_f7d3_11eb_acef_0242ac1c0002row48_col0\" class=\"data row48 col0\" >4.18%</td>\n",
              "                        <td id=\"T_1d0c2382_f7d3_11eb_acef_0242ac1c0002row48_col1\" class=\"data row48 col1\" >0.03%</td>\n",
              "                        <td id=\"T_1d0c2382_f7d3_11eb_acef_0242ac1c0002row48_col2\" class=\"data row48 col2\" >94.81%</td>\n",
              "                        <td id=\"T_1d0c2382_f7d3_11eb_acef_0242ac1c0002row48_col3\" class=\"data row48 col3\" >0.98%</td>\n",
              "            </tr>\n",
              "            <tr>\n",
              "                        <th id=\"T_1d0c2382_f7d3_11eb_acef_0242ac1c0002level0_row49\" class=\"row_heading level0 row49\" >49</th>\n",
              "                        <td id=\"T_1d0c2382_f7d3_11eb_acef_0242ac1c0002row49_col0\" class=\"data row49 col0\" >12.31%</td>\n",
              "                        <td id=\"T_1d0c2382_f7d3_11eb_acef_0242ac1c0002row49_col1\" class=\"data row49 col1\" >1.80%</td>\n",
              "                        <td id=\"T_1d0c2382_f7d3_11eb_acef_0242ac1c0002row49_col2\" class=\"data row49 col2\" >4.27%</td>\n",
              "                        <td id=\"T_1d0c2382_f7d3_11eb_acef_0242ac1c0002row49_col3\" class=\"data row49 col3\" >81.63%</td>\n",
              "            </tr>\n",
              "            <tr>\n",
              "                        <th id=\"T_1d0c2382_f7d3_11eb_acef_0242ac1c0002level0_row50\" class=\"row_heading level0 row50\" >50</th>\n",
              "                        <td id=\"T_1d0c2382_f7d3_11eb_acef_0242ac1c0002row50_col0\" class=\"data row50 col0\" >99.84%</td>\n",
              "                        <td id=\"T_1d0c2382_f7d3_11eb_acef_0242ac1c0002row50_col1\" class=\"data row50 col1\" >0.03%</td>\n",
              "                        <td id=\"T_1d0c2382_f7d3_11eb_acef_0242ac1c0002row50_col2\" class=\"data row50 col2\" >0.06%</td>\n",
              "                        <td id=\"T_1d0c2382_f7d3_11eb_acef_0242ac1c0002row50_col3\" class=\"data row50 col3\" >0.08%</td>\n",
              "            </tr>\n",
              "            <tr>\n",
              "                        <th id=\"T_1d0c2382_f7d3_11eb_acef_0242ac1c0002level0_row51\" class=\"row_heading level0 row51\" >51</th>\n",
              "                        <td id=\"T_1d0c2382_f7d3_11eb_acef_0242ac1c0002row51_col0\" class=\"data row51 col0\" >1.45%</td>\n",
              "                        <td id=\"T_1d0c2382_f7d3_11eb_acef_0242ac1c0002row51_col1\" class=\"data row51 col1\" >0.19%</td>\n",
              "                        <td id=\"T_1d0c2382_f7d3_11eb_acef_0242ac1c0002row51_col2\" class=\"data row51 col2\" >4.82%</td>\n",
              "                        <td id=\"T_1d0c2382_f7d3_11eb_acef_0242ac1c0002row51_col3\" class=\"data row51 col3\" >93.55%</td>\n",
              "            </tr>\n",
              "            <tr>\n",
              "                        <th id=\"T_1d0c2382_f7d3_11eb_acef_0242ac1c0002level0_row52\" class=\"row_heading level0 row52\" >52</th>\n",
              "                        <td id=\"T_1d0c2382_f7d3_11eb_acef_0242ac1c0002row52_col0\" class=\"data row52 col0\" >0.84%</td>\n",
              "                        <td id=\"T_1d0c2382_f7d3_11eb_acef_0242ac1c0002row52_col1\" class=\"data row52 col1\" >99.15%</td>\n",
              "                        <td id=\"T_1d0c2382_f7d3_11eb_acef_0242ac1c0002row52_col2\" class=\"data row52 col2\" >0.01%</td>\n",
              "                        <td id=\"T_1d0c2382_f7d3_11eb_acef_0242ac1c0002row52_col3\" class=\"data row52 col3\" >0.01%</td>\n",
              "            </tr>\n",
              "            <tr>\n",
              "                        <th id=\"T_1d0c2382_f7d3_11eb_acef_0242ac1c0002level0_row53\" class=\"row_heading level0 row53\" >53</th>\n",
              "                        <td id=\"T_1d0c2382_f7d3_11eb_acef_0242ac1c0002row53_col0\" class=\"data row53 col0\" >1.62%</td>\n",
              "                        <td id=\"T_1d0c2382_f7d3_11eb_acef_0242ac1c0002row53_col1\" class=\"data row53 col1\" >0.03%</td>\n",
              "                        <td id=\"T_1d0c2382_f7d3_11eb_acef_0242ac1c0002row53_col2\" class=\"data row53 col2\" >97.96%</td>\n",
              "                        <td id=\"T_1d0c2382_f7d3_11eb_acef_0242ac1c0002row53_col3\" class=\"data row53 col3\" >0.38%</td>\n",
              "            </tr>\n",
              "            <tr>\n",
              "                        <th id=\"T_1d0c2382_f7d3_11eb_acef_0242ac1c0002level0_row54\" class=\"row_heading level0 row54\" >54</th>\n",
              "                        <td id=\"T_1d0c2382_f7d3_11eb_acef_0242ac1c0002row54_col0\" class=\"data row54 col0\" >1.27%</td>\n",
              "                        <td id=\"T_1d0c2382_f7d3_11eb_acef_0242ac1c0002row54_col1\" class=\"data row54 col1\" >98.54%</td>\n",
              "                        <td id=\"T_1d0c2382_f7d3_11eb_acef_0242ac1c0002row54_col2\" class=\"data row54 col2\" >0.09%</td>\n",
              "                        <td id=\"T_1d0c2382_f7d3_11eb_acef_0242ac1c0002row54_col3\" class=\"data row54 col3\" >0.10%</td>\n",
              "            </tr>\n",
              "            <tr>\n",
              "                        <th id=\"T_1d0c2382_f7d3_11eb_acef_0242ac1c0002level0_row55\" class=\"row_heading level0 row55\" >55</th>\n",
              "                        <td id=\"T_1d0c2382_f7d3_11eb_acef_0242ac1c0002row55_col0\" class=\"data row55 col0\" >0.22%</td>\n",
              "                        <td id=\"T_1d0c2382_f7d3_11eb_acef_0242ac1c0002row55_col1\" class=\"data row55 col1\" >0.01%</td>\n",
              "                        <td id=\"T_1d0c2382_f7d3_11eb_acef_0242ac1c0002row55_col2\" class=\"data row55 col2\" >14.94%</td>\n",
              "                        <td id=\"T_1d0c2382_f7d3_11eb_acef_0242ac1c0002row55_col3\" class=\"data row55 col3\" >84.82%</td>\n",
              "            </tr>\n",
              "            <tr>\n",
              "                        <th id=\"T_1d0c2382_f7d3_11eb_acef_0242ac1c0002level0_row56\" class=\"row_heading level0 row56\" >56</th>\n",
              "                        <td id=\"T_1d0c2382_f7d3_11eb_acef_0242ac1c0002row56_col0\" class=\"data row56 col0\" >0.16%</td>\n",
              "                        <td id=\"T_1d0c2382_f7d3_11eb_acef_0242ac1c0002row56_col1\" class=\"data row56 col1\" >0.03%</td>\n",
              "                        <td id=\"T_1d0c2382_f7d3_11eb_acef_0242ac1c0002row56_col2\" class=\"data row56 col2\" >29.89%</td>\n",
              "                        <td id=\"T_1d0c2382_f7d3_11eb_acef_0242ac1c0002row56_col3\" class=\"data row56 col3\" >69.92%</td>\n",
              "            </tr>\n",
              "            <tr>\n",
              "                        <th id=\"T_1d0c2382_f7d3_11eb_acef_0242ac1c0002level0_row57\" class=\"row_heading level0 row57\" >57</th>\n",
              "                        <td id=\"T_1d0c2382_f7d3_11eb_acef_0242ac1c0002row57_col0\" class=\"data row57 col0\" >0.78%</td>\n",
              "                        <td id=\"T_1d0c2382_f7d3_11eb_acef_0242ac1c0002row57_col1\" class=\"data row57 col1\" >0.05%</td>\n",
              "                        <td id=\"T_1d0c2382_f7d3_11eb_acef_0242ac1c0002row57_col2\" class=\"data row57 col2\" >89.32%</td>\n",
              "                        <td id=\"T_1d0c2382_f7d3_11eb_acef_0242ac1c0002row57_col3\" class=\"data row57 col3\" >9.84%</td>\n",
              "            </tr>\n",
              "            <tr>\n",
              "                        <th id=\"T_1d0c2382_f7d3_11eb_acef_0242ac1c0002level0_row58\" class=\"row_heading level0 row58\" >58</th>\n",
              "                        <td id=\"T_1d0c2382_f7d3_11eb_acef_0242ac1c0002row58_col0\" class=\"data row58 col0\" >0.87%</td>\n",
              "                        <td id=\"T_1d0c2382_f7d3_11eb_acef_0242ac1c0002row58_col1\" class=\"data row58 col1\" >0.03%</td>\n",
              "                        <td id=\"T_1d0c2382_f7d3_11eb_acef_0242ac1c0002row58_col2\" class=\"data row58 col2\" >4.84%</td>\n",
              "                        <td id=\"T_1d0c2382_f7d3_11eb_acef_0242ac1c0002row58_col3\" class=\"data row58 col3\" >94.27%</td>\n",
              "            </tr>\n",
              "            <tr>\n",
              "                        <th id=\"T_1d0c2382_f7d3_11eb_acef_0242ac1c0002level0_row59\" class=\"row_heading level0 row59\" >59</th>\n",
              "                        <td id=\"T_1d0c2382_f7d3_11eb_acef_0242ac1c0002row59_col0\" class=\"data row59 col0\" >0.57%</td>\n",
              "                        <td id=\"T_1d0c2382_f7d3_11eb_acef_0242ac1c0002row59_col1\" class=\"data row59 col1\" >0.02%</td>\n",
              "                        <td id=\"T_1d0c2382_f7d3_11eb_acef_0242ac1c0002row59_col2\" class=\"data row59 col2\" >72.25%</td>\n",
              "                        <td id=\"T_1d0c2382_f7d3_11eb_acef_0242ac1c0002row59_col3\" class=\"data row59 col3\" >27.16%</td>\n",
              "            </tr>\n",
              "            <tr>\n",
              "                        <th id=\"T_1d0c2382_f7d3_11eb_acef_0242ac1c0002level0_row60\" class=\"row_heading level0 row60\" >60</th>\n",
              "                        <td id=\"T_1d0c2382_f7d3_11eb_acef_0242ac1c0002row60_col0\" class=\"data row60 col0\" >99.94%</td>\n",
              "                        <td id=\"T_1d0c2382_f7d3_11eb_acef_0242ac1c0002row60_col1\" class=\"data row60 col1\" >0.01%</td>\n",
              "                        <td id=\"T_1d0c2382_f7d3_11eb_acef_0242ac1c0002row60_col2\" class=\"data row60 col2\" >0.02%</td>\n",
              "                        <td id=\"T_1d0c2382_f7d3_11eb_acef_0242ac1c0002row60_col3\" class=\"data row60 col3\" >0.03%</td>\n",
              "            </tr>\n",
              "            <tr>\n",
              "                        <th id=\"T_1d0c2382_f7d3_11eb_acef_0242ac1c0002level0_row61\" class=\"row_heading level0 row61\" >61</th>\n",
              "                        <td id=\"T_1d0c2382_f7d3_11eb_acef_0242ac1c0002row61_col0\" class=\"data row61 col0\" >0.47%</td>\n",
              "                        <td id=\"T_1d0c2382_f7d3_11eb_acef_0242ac1c0002row61_col1\" class=\"data row61 col1\" >99.48%</td>\n",
              "                        <td id=\"T_1d0c2382_f7d3_11eb_acef_0242ac1c0002row61_col2\" class=\"data row61 col2\" >0.02%</td>\n",
              "                        <td id=\"T_1d0c2382_f7d3_11eb_acef_0242ac1c0002row61_col3\" class=\"data row61 col3\" >0.04%</td>\n",
              "            </tr>\n",
              "            <tr>\n",
              "                        <th id=\"T_1d0c2382_f7d3_11eb_acef_0242ac1c0002level0_row62\" class=\"row_heading level0 row62\" >62</th>\n",
              "                        <td id=\"T_1d0c2382_f7d3_11eb_acef_0242ac1c0002row62_col0\" class=\"data row62 col0\" >1.39%</td>\n",
              "                        <td id=\"T_1d0c2382_f7d3_11eb_acef_0242ac1c0002row62_col1\" class=\"data row62 col1\" >98.44%</td>\n",
              "                        <td id=\"T_1d0c2382_f7d3_11eb_acef_0242ac1c0002row62_col2\" class=\"data row62 col2\" >0.07%</td>\n",
              "                        <td id=\"T_1d0c2382_f7d3_11eb_acef_0242ac1c0002row62_col3\" class=\"data row62 col3\" >0.10%</td>\n",
              "            </tr>\n",
              "            <tr>\n",
              "                        <th id=\"T_1d0c2382_f7d3_11eb_acef_0242ac1c0002level0_row63\" class=\"row_heading level0 row63\" >63</th>\n",
              "                        <td id=\"T_1d0c2382_f7d3_11eb_acef_0242ac1c0002row63_col0\" class=\"data row63 col0\" >2.51%</td>\n",
              "                        <td id=\"T_1d0c2382_f7d3_11eb_acef_0242ac1c0002row63_col1\" class=\"data row63 col1\" >17.82%</td>\n",
              "                        <td id=\"T_1d0c2382_f7d3_11eb_acef_0242ac1c0002row63_col2\" class=\"data row63 col2\" >2.82%</td>\n",
              "                        <td id=\"T_1d0c2382_f7d3_11eb_acef_0242ac1c0002row63_col3\" class=\"data row63 col3\" >76.85%</td>\n",
              "            </tr>\n",
              "    </tbody></table>"
            ],
            "text/plain": [
              "<pandas.io.formats.style.Styler at 0x7fdfc4bae490>"
            ]
          },
          "metadata": {
            "tags": []
          },
          "execution_count": 66
        }
      ]
    },
    {
      "cell_type": "code",
      "metadata": {
        "id": "u1fTL7lU4QnF",
        "colab": {
          "base_uri": "https://localhost:8080/",
          "height": 419
        },
        "outputId": "d8d190d0-4c72-4546-d3ea-14e10ada932a"
      },
      "source": [
        "# df[1].max\n",
        "\n",
        "df['Max Value'] = df.apply(np.max,axis=1)\n",
        "df['Max ID'] = df.idxmax(axis=1)\n",
        "\n",
        "df"
      ],
      "execution_count": null,
      "outputs": [
        {
          "output_type": "execute_result",
          "data": {
            "text/html": [
              "<div>\n",
              "<style scoped>\n",
              "    .dataframe tbody tr th:only-of-type {\n",
              "        vertical-align: middle;\n",
              "    }\n",
              "\n",
              "    .dataframe tbody tr th {\n",
              "        vertical-align: top;\n",
              "    }\n",
              "\n",
              "    .dataframe thead th {\n",
              "        text-align: right;\n",
              "    }\n",
              "</style>\n",
              "<table border=\"1\" class=\"dataframe\">\n",
              "  <thead>\n",
              "    <tr style=\"text-align: right;\">\n",
              "      <th></th>\n",
              "      <th>World</th>\n",
              "      <th>Sports</th>\n",
              "      <th>Business</th>\n",
              "      <th>Sci/Tech</th>\n",
              "      <th>Max Value</th>\n",
              "      <th>Max ID</th>\n",
              "    </tr>\n",
              "  </thead>\n",
              "  <tbody>\n",
              "    <tr>\n",
              "      <th>0</th>\n",
              "      <td>0.001778</td>\n",
              "      <td>0.998163</td>\n",
              "      <td>0.000021</td>\n",
              "      <td>0.000038</td>\n",
              "      <td>0.998163</td>\n",
              "      <td>Sports</td>\n",
              "    </tr>\n",
              "    <tr>\n",
              "      <th>1</th>\n",
              "      <td>0.999304</td>\n",
              "      <td>0.000077</td>\n",
              "      <td>0.000351</td>\n",
              "      <td>0.000268</td>\n",
              "      <td>0.999304</td>\n",
              "      <td>World</td>\n",
              "    </tr>\n",
              "    <tr>\n",
              "      <th>2</th>\n",
              "      <td>0.001820</td>\n",
              "      <td>0.000430</td>\n",
              "      <td>0.053244</td>\n",
              "      <td>0.944506</td>\n",
              "      <td>0.944506</td>\n",
              "      <td>Sci/Tech</td>\n",
              "    </tr>\n",
              "    <tr>\n",
              "      <th>3</th>\n",
              "      <td>0.007925</td>\n",
              "      <td>0.991673</td>\n",
              "      <td>0.000157</td>\n",
              "      <td>0.000245</td>\n",
              "      <td>0.991673</td>\n",
              "      <td>Sports</td>\n",
              "    </tr>\n",
              "    <tr>\n",
              "      <th>4</th>\n",
              "      <td>0.999182</td>\n",
              "      <td>0.000041</td>\n",
              "      <td>0.000361</td>\n",
              "      <td>0.000416</td>\n",
              "      <td>0.999182</td>\n",
              "      <td>World</td>\n",
              "    </tr>\n",
              "    <tr>\n",
              "      <th>...</th>\n",
              "      <td>...</td>\n",
              "      <td>...</td>\n",
              "      <td>...</td>\n",
              "      <td>...</td>\n",
              "      <td>...</td>\n",
              "      <td>...</td>\n",
              "    </tr>\n",
              "    <tr>\n",
              "      <th>59</th>\n",
              "      <td>0.005740</td>\n",
              "      <td>0.000159</td>\n",
              "      <td>0.722525</td>\n",
              "      <td>0.271576</td>\n",
              "      <td>0.722525</td>\n",
              "      <td>Business</td>\n",
              "    </tr>\n",
              "    <tr>\n",
              "      <th>60</th>\n",
              "      <td>0.999408</td>\n",
              "      <td>0.000067</td>\n",
              "      <td>0.000223</td>\n",
              "      <td>0.000302</td>\n",
              "      <td>0.999408</td>\n",
              "      <td>World</td>\n",
              "    </tr>\n",
              "    <tr>\n",
              "      <th>61</th>\n",
              "      <td>0.004676</td>\n",
              "      <td>0.994782</td>\n",
              "      <td>0.000156</td>\n",
              "      <td>0.000387</td>\n",
              "      <td>0.994782</td>\n",
              "      <td>Sports</td>\n",
              "    </tr>\n",
              "    <tr>\n",
              "      <th>62</th>\n",
              "      <td>0.013854</td>\n",
              "      <td>0.984389</td>\n",
              "      <td>0.000744</td>\n",
              "      <td>0.001013</td>\n",
              "      <td>0.984389</td>\n",
              "      <td>Sports</td>\n",
              "    </tr>\n",
              "    <tr>\n",
              "      <th>63</th>\n",
              "      <td>0.025106</td>\n",
              "      <td>0.178196</td>\n",
              "      <td>0.028203</td>\n",
              "      <td>0.768495</td>\n",
              "      <td>0.768495</td>\n",
              "      <td>Sci/Tech</td>\n",
              "    </tr>\n",
              "  </tbody>\n",
              "</table>\n",
              "<p>64 rows × 6 columns</p>\n",
              "</div>"
            ],
            "text/plain": [
              "       World    Sports  Business  Sci/Tech  Max Value    Max ID\n",
              "0   0.001778  0.998163  0.000021  0.000038   0.998163    Sports\n",
              "1   0.999304  0.000077  0.000351  0.000268   0.999304     World\n",
              "2   0.001820  0.000430  0.053244  0.944506   0.944506  Sci/Tech\n",
              "3   0.007925  0.991673  0.000157  0.000245   0.991673    Sports\n",
              "4   0.999182  0.000041  0.000361  0.000416   0.999182     World\n",
              "..       ...       ...       ...       ...        ...       ...\n",
              "59  0.005740  0.000159  0.722525  0.271576   0.722525  Business\n",
              "60  0.999408  0.000067  0.000223  0.000302   0.999408     World\n",
              "61  0.004676  0.994782  0.000156  0.000387   0.994782    Sports\n",
              "62  0.013854  0.984389  0.000744  0.001013   0.984389    Sports\n",
              "63  0.025106  0.178196  0.028203  0.768495   0.768495  Sci/Tech\n",
              "\n",
              "[64 rows x 6 columns]"
            ]
          },
          "metadata": {
            "tags": []
          },
          "execution_count": 67
        }
      ]
    },
    {
      "cell_type": "code",
      "metadata": {
        "id": "7rROJcPU638k",
        "colab": {
          "base_uri": "https://localhost:8080/",
          "height": 545
        },
        "outputId": "86171444-1f15-4c69-c8e6-bce521ac221e"
      },
      "source": [
        "result_threshold = df[df['Max Value'] < 0.80]\n",
        "result_threshold"
      ],
      "execution_count": null,
      "outputs": [
        {
          "output_type": "execute_result",
          "data": {
            "text/html": [
              "<div>\n",
              "<style scoped>\n",
              "    .dataframe tbody tr th:only-of-type {\n",
              "        vertical-align: middle;\n",
              "    }\n",
              "\n",
              "    .dataframe tbody tr th {\n",
              "        vertical-align: top;\n",
              "    }\n",
              "\n",
              "    .dataframe thead th {\n",
              "        text-align: right;\n",
              "    }\n",
              "</style>\n",
              "<table border=\"1\" class=\"dataframe\">\n",
              "  <thead>\n",
              "    <tr style=\"text-align: right;\">\n",
              "      <th></th>\n",
              "      <th>World</th>\n",
              "      <th>Sports</th>\n",
              "      <th>Business</th>\n",
              "      <th>Sci/Tech</th>\n",
              "      <th>Max Value</th>\n",
              "      <th>Max ID</th>\n",
              "    </tr>\n",
              "  </thead>\n",
              "  <tbody>\n",
              "    <tr>\n",
              "      <th>17</th>\n",
              "      <td>0.063682</td>\n",
              "      <td>0.003183</td>\n",
              "      <td>0.184599</td>\n",
              "      <td>0.748536</td>\n",
              "      <td>0.748536</td>\n",
              "      <td>Sci/Tech</td>\n",
              "    </tr>\n",
              "    <tr>\n",
              "      <th>18</th>\n",
              "      <td>0.003088</td>\n",
              "      <td>0.000282</td>\n",
              "      <td>0.600323</td>\n",
              "      <td>0.396308</td>\n",
              "      <td>0.600323</td>\n",
              "      <td>Business</td>\n",
              "    </tr>\n",
              "    <tr>\n",
              "      <th>19</th>\n",
              "      <td>0.617146</td>\n",
              "      <td>0.000334</td>\n",
              "      <td>0.048126</td>\n",
              "      <td>0.334394</td>\n",
              "      <td>0.617146</td>\n",
              "      <td>World</td>\n",
              "    </tr>\n",
              "    <tr>\n",
              "      <th>28</th>\n",
              "      <td>0.019041</td>\n",
              "      <td>0.007598</td>\n",
              "      <td>0.662249</td>\n",
              "      <td>0.311112</td>\n",
              "      <td>0.662249</td>\n",
              "      <td>Business</td>\n",
              "    </tr>\n",
              "    <tr>\n",
              "      <th>31</th>\n",
              "      <td>0.138478</td>\n",
              "      <td>0.421152</td>\n",
              "      <td>0.076663</td>\n",
              "      <td>0.363707</td>\n",
              "      <td>0.421152</td>\n",
              "      <td>Sports</td>\n",
              "    </tr>\n",
              "    <tr>\n",
              "      <th>33</th>\n",
              "      <td>0.141997</td>\n",
              "      <td>0.541552</td>\n",
              "      <td>0.079752</td>\n",
              "      <td>0.236700</td>\n",
              "      <td>0.541552</td>\n",
              "      <td>Sports</td>\n",
              "    </tr>\n",
              "    <tr>\n",
              "      <th>35</th>\n",
              "      <td>0.102915</td>\n",
              "      <td>0.050726</td>\n",
              "      <td>0.273206</td>\n",
              "      <td>0.573154</td>\n",
              "      <td>0.573154</td>\n",
              "      <td>Sci/Tech</td>\n",
              "    </tr>\n",
              "    <tr>\n",
              "      <th>36</th>\n",
              "      <td>0.729055</td>\n",
              "      <td>0.003158</td>\n",
              "      <td>0.051493</td>\n",
              "      <td>0.216294</td>\n",
              "      <td>0.729055</td>\n",
              "      <td>World</td>\n",
              "    </tr>\n",
              "    <tr>\n",
              "      <th>37</th>\n",
              "      <td>0.759708</td>\n",
              "      <td>0.112336</td>\n",
              "      <td>0.041025</td>\n",
              "      <td>0.086931</td>\n",
              "      <td>0.759708</td>\n",
              "      <td>World</td>\n",
              "    </tr>\n",
              "    <tr>\n",
              "      <th>39</th>\n",
              "      <td>0.108715</td>\n",
              "      <td>0.125361</td>\n",
              "      <td>0.392597</td>\n",
              "      <td>0.373327</td>\n",
              "      <td>0.392597</td>\n",
              "      <td>Business</td>\n",
              "    </tr>\n",
              "    <tr>\n",
              "      <th>40</th>\n",
              "      <td>0.349816</td>\n",
              "      <td>0.014815</td>\n",
              "      <td>0.072554</td>\n",
              "      <td>0.562814</td>\n",
              "      <td>0.562814</td>\n",
              "      <td>Sci/Tech</td>\n",
              "    </tr>\n",
              "    <tr>\n",
              "      <th>41</th>\n",
              "      <td>0.008396</td>\n",
              "      <td>0.000238</td>\n",
              "      <td>0.714173</td>\n",
              "      <td>0.277193</td>\n",
              "      <td>0.714173</td>\n",
              "      <td>Business</td>\n",
              "    </tr>\n",
              "    <tr>\n",
              "      <th>42</th>\n",
              "      <td>0.761489</td>\n",
              "      <td>0.001764</td>\n",
              "      <td>0.214897</td>\n",
              "      <td>0.021850</td>\n",
              "      <td>0.761489</td>\n",
              "      <td>World</td>\n",
              "    </tr>\n",
              "    <tr>\n",
              "      <th>56</th>\n",
              "      <td>0.001599</td>\n",
              "      <td>0.000269</td>\n",
              "      <td>0.298910</td>\n",
              "      <td>0.699222</td>\n",
              "      <td>0.699222</td>\n",
              "      <td>Sci/Tech</td>\n",
              "    </tr>\n",
              "    <tr>\n",
              "      <th>59</th>\n",
              "      <td>0.005740</td>\n",
              "      <td>0.000159</td>\n",
              "      <td>0.722525</td>\n",
              "      <td>0.271576</td>\n",
              "      <td>0.722525</td>\n",
              "      <td>Business</td>\n",
              "    </tr>\n",
              "    <tr>\n",
              "      <th>63</th>\n",
              "      <td>0.025106</td>\n",
              "      <td>0.178196</td>\n",
              "      <td>0.028203</td>\n",
              "      <td>0.768495</td>\n",
              "      <td>0.768495</td>\n",
              "      <td>Sci/Tech</td>\n",
              "    </tr>\n",
              "  </tbody>\n",
              "</table>\n",
              "</div>"
            ],
            "text/plain": [
              "       World    Sports  Business  Sci/Tech  Max Value    Max ID\n",
              "17  0.063682  0.003183  0.184599  0.748536   0.748536  Sci/Tech\n",
              "18  0.003088  0.000282  0.600323  0.396308   0.600323  Business\n",
              "19  0.617146  0.000334  0.048126  0.334394   0.617146     World\n",
              "28  0.019041  0.007598  0.662249  0.311112   0.662249  Business\n",
              "31  0.138478  0.421152  0.076663  0.363707   0.421152    Sports\n",
              "33  0.141997  0.541552  0.079752  0.236700   0.541552    Sports\n",
              "35  0.102915  0.050726  0.273206  0.573154   0.573154  Sci/Tech\n",
              "36  0.729055  0.003158  0.051493  0.216294   0.729055     World\n",
              "37  0.759708  0.112336  0.041025  0.086931   0.759708     World\n",
              "39  0.108715  0.125361  0.392597  0.373327   0.392597  Business\n",
              "40  0.349816  0.014815  0.072554  0.562814   0.562814  Sci/Tech\n",
              "41  0.008396  0.000238  0.714173  0.277193   0.714173  Business\n",
              "42  0.761489  0.001764  0.214897  0.021850   0.761489     World\n",
              "56  0.001599  0.000269  0.298910  0.699222   0.699222  Sci/Tech\n",
              "59  0.005740  0.000159  0.722525  0.271576   0.722525  Business\n",
              "63  0.025106  0.178196  0.028203  0.768495   0.768495  Sci/Tech"
            ]
          },
          "metadata": {
            "tags": []
          },
          "execution_count": 68
        }
      ]
    },
    {
      "cell_type": "code",
      "metadata": {
        "id": "RwqQ6q0wCzZ9",
        "colab": {
          "base_uri": "https://localhost:8080/"
        },
        "outputId": "eb4feffb-5e9c-417e-a791-50103eeb7eac"
      },
      "source": [
        "# for example, label in test_dataset.take(1):\n",
        "#   print('text: ', example.numpy())\n",
        "example.numpy()[48]\n",
        "# commonality of buzzwords for both section, consider allowing multiple categories if article max val < threshold"
      ],
      "execution_count": null,
      "outputs": [
        {
          "output_type": "execute_result",
          "data": {
            "text/plain": [
              "b\"Reuters - Refugee camps in Chad housing\\\\200,000 Sudanese fleeing fighting in Darfur are near capacity\\\\and placing a huge burden on Sudan's impoverished western\\\\neighbor, the United Nations said Friday.\""
            ]
          },
          "metadata": {
            "tags": []
          },
          "execution_count": 69
        }
      ]
    },
    {
      "cell_type": "markdown",
      "metadata": {
        "id": "A3RlxHyPTCrD"
      },
      "source": [
        "#### Model Architecture Summary Single Layer Bidirectional RNN"
      ]
    },
    {
      "cell_type": "code",
      "metadata": {
        "id": "idRIHfoySu12",
        "colab": {
          "base_uri": "https://localhost:8080/"
        },
        "outputId": "63706f98-0a29-447e-f139-eeaf0f44691c"
      },
      "source": [
        "model2.summary()"
      ],
      "execution_count": null,
      "outputs": [
        {
          "output_type": "stream",
          "text": [
            "Model: \"sequential_1\"\n",
            "_________________________________________________________________\n",
            "Layer (type)                 Output Shape              Param #   \n",
            "=================================================================\n",
            "text_vectorization_2 (TextVe (None, None)              0         \n",
            "_________________________________________________________________\n",
            "embedding_1 (Embedding)      (None, None, 64)          64000     \n",
            "_________________________________________________________________\n",
            "bidirectional_1 (Bidirection (None, None, 128)         66048     \n",
            "_________________________________________________________________\n",
            "bidirectional_2 (Bidirection (None, 64)                41216     \n",
            "_________________________________________________________________\n",
            "dense_2 (Dense)              (None, 64)                4160      \n",
            "_________________________________________________________________\n",
            "dropout (Dropout)            (None, 64)                0         \n",
            "_________________________________________________________________\n",
            "dense_3 (Dense)              (None, 4)                 260       \n",
            "=================================================================\n",
            "Total params: 175,684\n",
            "Trainable params: 175,684\n",
            "Non-trainable params: 0\n",
            "_________________________________________________________________\n"
          ],
          "name": "stdout"
        }
      ]
    },
    {
      "cell_type": "code",
      "metadata": {
        "id": "o01y6ZMVTF8J",
        "scrolled": false,
        "colab": {
          "base_uri": "https://localhost:8080/",
          "height": 865
        },
        "outputId": "74c728a1-d356-430c-b123-63623db5ee84"
      },
      "source": [
        "keras.utils.plot_model(model2, \"2Layer_BiDirectionalLSTM.png\", show_shapes=True)"
      ],
      "execution_count": null,
      "outputs": [
        {
          "output_type": "execute_result",
          "data": {
            "image/png": "[encoded data removed]",
            "text/plain": [
              "<IPython.core.display.Image object>"
            ]
          },
          "metadata": {
            "tags": []
          },
          "execution_count": 71
        }
      ]
    },
    {
      "cell_type": "markdown",
      "metadata": {
        "id": "9xvpE3BaGw_V"
      },
      "source": [
        "Check out other existing recurrent layers such as [GRU layers](https://www.tensorflow.org/api_docs/python/tf/keras/layers/GRU).\n",
        "\n",
        "If you're interestied in building custom RNNs, see the [Keras RNN Guide](../../guide/keras/rnn.ipynb).\n"
      ]
    },
    {
      "cell_type": "markdown",
      "metadata": {
        "id": "jiti-igsZlmK"
      },
      "source": [
        "## Experiments"
      ]
    },
    {
      "cell_type": "markdown",
      "metadata": {
        "id": "IvEk0080snBH"
      },
      "source": [
        "### Data Pre-processing"
      ]
    },
    {
      "cell_type": "code",
      "metadata": {
        "colab": {
          "base_uri": "https://localhost:8080/"
        },
        "id": "ahhhRq1BsnBI",
        "outputId": "edc89732-fea7-4e00-9b08-34dc5792c14b"
      },
      "source": [
        "# view strings\n",
        "first100 = pd.DataFrame(tfds.as_dataframe(train_dataset.take(10),info))\n",
        "first100['description']"
      ],
      "execution_count": null,
      "outputs": [
        {
          "output_type": "execute_result",
          "data": {
            "text/plain": [
              "0    [b\"AP - This year's presidential election bega...\n",
              "1    [b'Dell gets set to roll out its PowerEdge 185...\n",
              "2    [b'SAN FRANCISCO - Researchers on Monday unvei...\n",
              "3    [b'p2pnet.net News:- Windows XP users should c...\n",
              "4    [b'Friday product launch will count on music p...\n",
              "5    [b\"NEW YORK - CBS News appointed former U.S. A...\n",
              "6    [b'Electronic Arts on Friday began shipping th...\n",
              "7    [b'WE stand on the brink of a historic agreeme...\n",
              "8    [b'Eric Shelton ran for three touchdowns and N...\n",
              "9    [b'Worried about spyware? spam? \"spim\"? AOL wa...\n",
              "Name: description, dtype: object"
            ]
          },
          "metadata": {
            "tags": []
          },
          "execution_count": 72
        }
      ]
    },
    {
      "cell_type": "code",
      "metadata": {
        "colab": {
          "base_uri": "https://localhost:8080/"
        },
        "id": "z9kgiQUJsnBI",
        "outputId": "5c93a95f-030a-42ca-c77d-29bca4d1aef1"
      },
      "source": [
        "# create example\n",
        "text = '''I'll be there within 5 min. Shouldn't you be there too? \n",
        "          I'd love to see u there my dear. It's awesome to meet new friends.\n",
        "          We've been waiting for this day for so long.'''\n",
        "  \n",
        "# creating an empty list\n",
        "expanded_words = []    \n",
        "for word in text.split():\n",
        "  # expand the shortened words\n",
        "  expanded_words.append(contractions.fix(word))   \n",
        "    \n",
        "expanded_text = ' '.join(expanded_words)\n",
        "print('Original text: ' + text)\n",
        "print('Expanded_text: ' + expanded_text)"
      ],
      "execution_count": null,
      "outputs": [
        {
          "output_type": "stream",
          "text": [
            "Original text: I'll be there within 5 min. Shouldn't you be there too? \n",
            "          I'd love to see u there my dear. It's awesome to meet new friends.\n",
            "          We've been waiting for this day for so long.\n",
            "Expanded_text: I will be there within 5 min. should not you be there too? I would love to see you there my dear. it is awesome to meet new friends. we have been waiting for this day for so long.\n"
          ],
          "name": "stdout"
        }
      ]
    },
    {
      "cell_type": "code",
      "metadata": {
        "colab": {
          "base_uri": "https://localhost:8080/"
        },
        "id": "sjHnVdLtsnBI",
        "outputId": "bb4153fc-209f-4cd8-b26a-1f14ca2437eb"
      },
      "source": [
        "# re-download dataset for new cleaning\n",
        "!python -m tensorflow_datasets.scripts.download_and_prepare --register_checksums --datasets=ag_news_subset\n",
        "\n",
        "dataset, info = tfds.load('ag_news_subset', with_info=True,  split=['train[:95%]','train[95%:]', 'test[:]'],\n",
        "                          as_supervised=True)\n",
        "train_dataset, validation_dataset, test_dataset = dataset"
      ],
      "execution_count": null,
      "outputs": [
        {
          "output_type": "stream",
          "text": [
            "2021-08-08 19:38:20.132945: I tensorflow/stream_executor/platform/default/dso_loader.cc:53] Successfully opened dynamic library libcudart.so.11.0\n",
            "I0808 19:38:22.070483 140461561911168 download_and_prepare.py:200] Running download_and_prepare for dataset(s):\n",
            "ag_news_subset\n",
            "2021-08-08 19:38:22.080982: I tensorflow/core/platform/cloud/google_auth_provider.cc:180] Attempting an empty bearer token since no token was retrieved from files, and GCE metadata check was skipped.\n",
            "2021-08-08 19:38:22.168847: I tensorflow/core/platform/cloud/google_auth_provider.cc:180] Attempting an empty bearer token since no token was retrieved from files, and GCE metadata check was skipped.\n",
            "2021-08-08 19:38:22.240954: I tensorflow/core/platform/cloud/google_auth_provider.cc:180] Attempting an empty bearer token since no token was retrieved from files, and GCE metadata check was skipped.\n",
            "I0808 19:38:22.313605 140461561911168 dataset_info.py:434] Load pre-computed DatasetInfo (eg: splits, num examples,...) from GCS: ag_news_subset/1.0.0\n",
            "2021-08-08 19:38:22.328201: I tensorflow/core/platform/cloud/google_auth_provider.cc:180] Attempting an empty bearer token since no token was retrieved from files, and GCE metadata check was skipped.\n",
            "2021-08-08 19:38:22.516058: I tensorflow/core/platform/cloud/google_auth_provider.cc:180] Attempting an empty bearer token since no token was retrieved from files, and GCE metadata check was skipped.\n",
            "I0808 19:38:22.723518 140461561911168 dataset_info.py:361] Load dataset info from /tmp/tmpnh7cst7ptfds\n",
            "I0808 19:38:22.725361 140461561911168 download_and_prepare.py:138] download_and_prepare for dataset ag_news_subset/1.0.0...\n",
            "I0808 19:38:22.725717 140461561911168 dataset_builder.py:357] Generating dataset ag_news_subset (/root/tensorflow_datasets/ag_news_subset/1.0.0)\n",
            "\u001b[1mDownloading and preparing dataset ag_news_subset/1.0.0 (download: 11.24 MiB, generated: 35.79 MiB, total: 47.03 MiB) to /root/tensorflow_datasets/ag_news_subset/1.0.0...\u001b[0m\n",
            "2021-08-08 19:38:22.877848: I tensorflow/core/platform/cloud/google_auth_provider.cc:180] Attempting an empty bearer token since no token was retrieved from files, and GCE metadata check was skipped.\n",
            "2021-08-08 19:38:22.949342: I tensorflow/core/platform/cloud/google_auth_provider.cc:180] Attempting an empty bearer token since no token was retrieved from files, and GCE metadata check was skipped.\n",
            "Dl Completed...: 0 url [00:00, ? url/s]\n",
            "Dl Size...: 0 MiB [00:00, ? MiB/s]\u001b[A\n",
            "\n",
            "Extraction completed...: 0 file [00:00, ? file/s]\u001b[A\u001b[AI0808 19:38:23.023360 140461561911168 download_manager.py:476] Downloading https://drive.google.com/uc?export=download&id=0Bz8a_Dbh9QhbUDNpeUdjb0wxRms into /root/tensorflow_datasets/downloads/ucexport_download_id_0Bz8a_Dbh9QhbUDNpeUdjb0wxj4g1umFAV8OV-uDwxSJR0LdxO_k1jxMuFWwAfNX9jos.tmp.0cb4d305f0d54bfaa72ea2d8ba44f32c...\n",
            "Dl Completed...:   0% 0/1 [00:00<?, ? url/s]\n",
            "Dl Size...: 0 MiB [00:00, ? MiB/s]\u001b[A\n",
            "\n",
            "Dl Completed...:   0% 0/1 [00:06<?, ? url/s]\n",
            "Dl Size...: 0 MiB [00:06, ? MiB/s]\u001b[A\n",
            "\n",
            "Extraction completed...: 0 file [00:06, ? file/s]\u001b[A\u001b[A\n",
            "Dl Completed...:   0% 0/1 [00:06<?, ? url/s]\n",
            "Dl Size...: 1 MiB [00:06,  6.61s/ MiB]\u001b[A\n",
            "\n",
            "Dl Completed...:   0% 0/1 [00:06<?, ? url/s]\n",
            "Dl Size...: 2 MiB [00:06,  6.61s/ MiB]\u001b[A\n",
            "\n",
            "Dl Completed...:   0% 0/1 [00:06<?, ? url/s]\n",
            "Dl Size...: 3 MiB [00:06,  6.61s/ MiB]\u001b[A\n",
            "\n",
            "Dl Completed...:   0% 0/1 [00:06<?, ? url/s]\n",
            "Dl Size...: 4 MiB [00:06,  6.61s/ MiB]\u001b[A\n",
            "\n",
            "Dl Completed...:   0% 0/1 [00:06<?, ? url/s]\n",
            "Dl Size...: 5 MiB [00:06,  6.61s/ MiB]\u001b[A\n",
            "\n",
            "Dl Completed...:   0% 0/1 [00:06<?, ? url/s]\n",
            "Dl Size...: 6 MiB [00:06,  6.61s/ MiB]\u001b[A\n",
            "\n",
            "Dl Completed...:   0% 0/1 [00:06<?, ? url/s]\n",
            "Dl Size...: 7 MiB [00:06,  6.61s/ MiB]\u001b[A\n",
            "\n",
            "Dl Completed...:   0% 0/1 [00:06<?, ? url/s]\n",
            "Dl Size...: 8 MiB [00:06,  6.61s/ MiB]\u001b[A\n",
            "\n",
            "Dl Completed...:   0% 0/1 [00:06<?, ? url/s]\n",
            "Dl Size...: 9 MiB [00:06,  6.61s/ MiB]\u001b[A\n",
            "\n",
            "Dl Completed...:   0% 0/1 [00:06<?, ? url/s]\n",
            "Dl Size...: 10 MiB [00:06,  6.61s/ MiB]\u001b[A\n",
            "\n",
            "Dl Completed...:   0% 0/1 [00:06<?, ? url/s]\n",
            "Dl Size...: 11 MiB [00:06,  6.61s/ MiB]\u001b[A\n",
            "\n",
            "Dl Completed...: 100% 1/1 [00:06<00:00,  6.68s/ url]\n",
            "Dl Size...: 11 MiB [00:06,  6.61s/ MiB]\u001b[A\n",
            "\n",
            "Dl Completed...: 100% 1/1 [00:06<00:00,  6.68s/ url]\n",
            "Dl Size...: 11 MiB [00:06,  6.61s/ MiB]\u001b[A\n",
            "\n",
            "Extraction completed...:   0% 0/1 [00:06<?, ? file/s]\u001b[A\u001b[A\n",
            "\n",
            "Dl Completed...: 100% 1/1 [00:06<00:00,  6.68s/ url]\n",
            "Dl Size...: 11 MiB [00:06,  6.61s/ MiB]\u001b[A\n",
            "\n",
            "Extraction completed...: 100% 1/1 [00:06<00:00,  6.98s/ file]\u001b[A\u001b[A\n",
            "Extraction completed...: 100% 1/1 [00:06<00:00,  6.98s/ file]\n",
            "\n",
            "Dl Size...: 11 MiB [00:06,  1.58 MiB/s]\n",
            "\n",
            "Dl Completed...: 100% 1/1 [00:06<00:00,  6.98s/ url]\n",
            "I0808 19:38:30.003505 140461561911168 dataset_builder.py:970] Generating split train\n",
            "Shuffling and writing examples to /root/tensorflow_datasets/ag_news_subset/1.0.0.incompleteJ71QQF/ag_news_subset-train.tfrecord\n",
            " 79% 95393/120000 [00:00<21:19, 19.24 examples/s]  I0808 19:38:51.354902 140461561911168 tfrecords_writer.py:226] Done writing /root/tensorflow_datasets/ag_news_subset/1.0.0.incompleteJ71QQF/ag_news_subset-train.tfrecord. Shard lengths: [120000]\n",
            "I0808 19:38:51.370795 140461561911168 dataset_builder.py:970] Generating split test\n",
            "Shuffling and writing examples to /root/tensorflow_datasets/ag_news_subset/1.0.0.incompleteJ71QQF/ag_news_subset-test.tfrecord\n",
            "  0% 0/7600 [00:00<?, ? examples/s]I0808 19:38:52.747509 140461561911168 tfrecords_writer.py:226] Done writing /root/tensorflow_datasets/ag_news_subset/1.0.0.incompleteJ71QQF/ag_news_subset-test.tfrecord. Shard lengths: [7600]\n",
            "I0808 19:38:52.749088 140461561911168 dataset_builder.py:412] Skipping computing stats for mode ComputeStatsMode.SKIP.\n",
            "\u001b[1mDataset ag_news_subset downloaded and prepared to /root/tensorflow_datasets/ag_news_subset/1.0.0. Subsequent calls will reuse this data.\u001b[0m\n",
            "\u001b[1mname: \"ag_news_subset\"\n",
            "description: \"AG is a collection of more than 1 million news articles.\\nNews articles have been gathered from more than 2000  news sources by ComeToMyHead in more than 1 year of activity.\\nComeToMyHead is an academic news search engine which has been running since July, 2004.\\nThe dataset is provided by the academic comunity for research purposes in data mining (clustering, classification, etc),\\ninformation retrieval (ranking, search, etc), xml, data compression, data streaming,\\nand any other non-commercial activity.\\nFor more information, please refer to the link http://www.di.unipi.it/~gulli/AG_corpus_of_news_articles.html .\\n\\nThe AG\\'s news topic classification dataset is constructed by Xiang Zhang (xiang.zhang@nyu.edu) from the dataset above.\\nIt is used as a text classification benchmark in the following paper:\\nXiang Zhang, Junbo Zhao, Yann LeCun. Character-level Convolutional Networks for Text Classification. Advances in Neural Information Processing Systems 28 (NIPS 2015).\\n\\nThe AG\\'s news topic classification dataset is constructed by choosing 4 largest classes from the original corpus.\\nEach class contains 30,000 training samples and 1,900 testing samples.\\nThe total number of training samples is 120,000 and testing 7,600.\"\n",
            "citation: \"@misc{zhang2015characterlevel,\\n    title={Character-level Convolutional Networks for Text Classification},\\n    author={Xiang Zhang and Junbo Zhao and Yann LeCun},\\n    year={2015},\\n    eprint={1509.01626},\\n    archivePrefix={arXiv},\\n    primaryClass={cs.LG}\\n}\"\n",
            "location {\n",
            "  urls: \"https://arxiv.org/abs/1509.01626\"\n",
            "}\n",
            "splits {\n",
            "  name: \"test\"\n",
            "  shard_lengths: 7600\n",
            "  num_bytes: 2226751\n",
            "}\n",
            "splits {\n",
            "  name: \"train\"\n",
            "  shard_lengths: 120000\n",
            "  num_bytes: 35301386\n",
            "}\n",
            "supervised_keys {\n",
            "  input: \"description\"\n",
            "  output: \"label\"\n",
            "}\n",
            "version: \"1.0.0\"\n",
            "download_size: 11784327\n",
            "\u001b[0m\n"
          ],
          "name": "stdout"
        }
      ]
    },
    {
      "cell_type": "code",
      "metadata": {
        "id": "ZgMdOayLsnBI"
      },
      "source": [
        "# create dataframes from pre-fetched dataset\n",
        "train = pd.DataFrame(tfds.as_dataframe(train_dataset.take(len(train_dataset)),info))\n",
        "valid = pd.DataFrame(tfds.as_dataframe(validation_dataset.take(len(validation_dataset)),info))\n",
        "test = pd.DataFrame(tfds.as_dataframe(test_dataset.take(len(test_dataset)),info))"
      ],
      "execution_count": null,
      "outputs": []
    },
    {
      "cell_type": "code",
      "metadata": {
        "colab": {
          "base_uri": "https://localhost:8080/",
          "height": 204
        },
        "id": "ovnSasBrwR6-",
        "outputId": "4f4d3cdf-f03a-4b77-f120-b9555aacb592"
      },
      "source": [
        "test.head(5)"
      ],
      "execution_count": null,
      "outputs": [
        {
          "output_type": "execute_result",
          "data": {
            "text/html": [
              "<div>\n",
              "<style scoped>\n",
              "    .dataframe tbody tr th:only-of-type {\n",
              "        vertical-align: middle;\n",
              "    }\n",
              "\n",
              "    .dataframe tbody tr th {\n",
              "        vertical-align: top;\n",
              "    }\n",
              "\n",
              "    .dataframe thead th {\n",
              "        text-align: right;\n",
              "    }\n",
              "</style>\n",
              "<table border=\"1\" class=\"dataframe\">\n",
              "  <thead>\n",
              "    <tr style=\"text-align: right;\">\n",
              "      <th></th>\n",
              "      <th>description</th>\n",
              "      <th>label</th>\n",
              "    </tr>\n",
              "  </thead>\n",
              "  <tbody>\n",
              "    <tr>\n",
              "      <th>0</th>\n",
              "      <td>b' CHARLOTTE, N.C. (Sports Network) - Carolina...</td>\n",
              "      <td>1</td>\n",
              "    </tr>\n",
              "    <tr>\n",
              "      <th>1</th>\n",
              "      <td>b' PRESENTACION, Philippines (Reuters) - Phili...</td>\n",
              "      <td>0</td>\n",
              "    </tr>\n",
              "    <tr>\n",
              "      <th>2</th>\n",
              "      <td>b'SAN FRANCISCO, CA - November 30, 2004 -Ubiso...</td>\n",
              "      <td>3</td>\n",
              "    </tr>\n",
              "    <tr>\n",
              "      <th>3</th>\n",
              "      <td>b'DANIEL VETTORI spun New Zealand to the brink...</td>\n",
              "      <td>1</td>\n",
              "    </tr>\n",
              "    <tr>\n",
              "      <th>4</th>\n",
              "      <td>b\"AFP - Georgian and South Ossetian forces ove...</td>\n",
              "      <td>0</td>\n",
              "    </tr>\n",
              "  </tbody>\n",
              "</table>\n",
              "</div>"
            ],
            "text/plain": [
              "                                         description  label\n",
              "0  b' CHARLOTTE, N.C. (Sports Network) - Carolina...      1\n",
              "1  b' PRESENTACION, Philippines (Reuters) - Phili...      0\n",
              "2  b'SAN FRANCISCO, CA - November 30, 2004 -Ubiso...      3\n",
              "3  b'DANIEL VETTORI spun New Zealand to the brink...      1\n",
              "4  b\"AFP - Georgian and South Ossetian forces ove...      0"
            ]
          },
          "metadata": {
            "tags": []
          },
          "execution_count": 80
        }
      ]
    },
    {
      "cell_type": "code",
      "metadata": {
        "id": "58CIPkGhsnBJ"
      },
      "source": [
        "# manipulate descriptions into more usable strings\n",
        "# training set\n",
        "documents = []\n",
        "stemmer = WordNetLemmatizer()\n",
        "length = len(train['description'])\n",
        "\n",
        "for sen in range(0, length):\n",
        "    # Remove all the special characters\n",
        "    document = re.sub(r'\\W', ' ', str(train['description'][sen]))\n",
        "    \n",
        "    # remove all single characters\n",
        "    document = re.sub(r'\\s+[a-zA-Z]\\s+', ' ', document)\n",
        "    \n",
        "    # Remove single characters from the start\n",
        "    document = re.sub(r'\\^[a-zA-Z]\\s+', ' ', document) \n",
        "    \n",
        "    # Substituting multiple spaces with single space\n",
        "    document = re.sub(r'\\s+', ' ', document, flags=re.I)\n",
        "    \n",
        "    # Removing prefixed 'b'\n",
        "    document = re.sub(r'^b\\s+', '', document)\n",
        "    \n",
        "    # Removing quot\n",
        "    document = re.sub(r'quot', '', document)\n",
        "\n",
        "    # Removing 39\n",
        "    document = re.sub(r'39', '', document)\n",
        "\n",
        "    # Converting to Lowercase\n",
        "    document = document.lower()\n",
        "    \n",
        "    # Lemmatization\n",
        "    document = document.split()\n",
        "\n",
        "    document = [stemmer.lemmatize(word) for word in document]\n",
        "    document = ' '.join(document)\n",
        "    \n",
        "    documents.append(document)"
      ],
      "execution_count": null,
      "outputs": []
    },
    {
      "cell_type": "code",
      "metadata": {
        "id": "4N0KXONUsnBJ"
      },
      "source": [
        "clean_train = pd.DataFrame(documents)\n",
        "clean_train['label'] = train['label']\n",
        "clean_train.rename(columns = {0:'description'}, inplace = True)"
      ],
      "execution_count": null,
      "outputs": []
    },
    {
      "cell_type": "code",
      "metadata": {
        "id": "uCNKuE1hsnBJ"
      },
      "source": [
        "# validation\n",
        "documents = []\n",
        "stemmer = WordNetLemmatizer()\n",
        "length = len(valid['description'])\n",
        "\n",
        "for sen in range(0, length):\n",
        "    # Remove all the special characters\n",
        "    document = re.sub(r'\\W', ' ', str(valid['description'][sen]))\n",
        "    \n",
        "    # remove all single characters\n",
        "    document = re.sub(r'\\s+[a-zA-Z]\\s+', ' ', document)\n",
        "    \n",
        "    # Remove single characters from the start\n",
        "    document = re.sub(r'\\^[a-zA-Z]\\s+', ' ', document) \n",
        "    \n",
        "    # Substituting multiple spaces with single space\n",
        "    document = re.sub(r'\\s+', ' ', document, flags=re.I)\n",
        "    \n",
        "    # Removing prefixed 'b'\n",
        "    document = re.sub(r'^b\\s+', '', document)\n",
        "    \n",
        "    # Removing quot\n",
        "    document = re.sub(r'quot', '', document)\n",
        "\n",
        "    # Removing 39\n",
        "    document = re.sub(r'39', '', document)\n",
        "\n",
        "    # Converting to Lowercase\n",
        "    document = document.lower()\n",
        "    \n",
        "    # Lemmatization\n",
        "    document = document.split()\n",
        "\n",
        "    document = [stemmer.lemmatize(word) for word in document]\n",
        "    document = ' '.join(document)\n",
        "    \n",
        "    documents.append(document)"
      ],
      "execution_count": null,
      "outputs": []
    },
    {
      "cell_type": "code",
      "metadata": {
        "id": "I8NwqXN4snBJ"
      },
      "source": [
        "clean_valid = pd.DataFrame(documents)\n",
        "clean_valid['label'] = valid['label']\n",
        "clean_valid.rename(columns = {0:'description'}, inplace = True)"
      ],
      "execution_count": null,
      "outputs": []
    },
    {
      "cell_type": "code",
      "metadata": {
        "id": "L3JxC6iosnBJ"
      },
      "source": [
        "# test\n",
        "documents = []\n",
        "stemmer = WordNetLemmatizer()\n",
        "length = len(test['description'])\n",
        "\n",
        "for sen in range(0, length):\n",
        "    # Remove all the special characters\n",
        "    document = re.sub(r'\\W', ' ', str(test['description'][sen]))\n",
        "    \n",
        "    # remove all single characters\n",
        "    document = re.sub(r'\\s+[a-zA-Z]\\s+', ' ', document)\n",
        "    \n",
        "    # Remove single characters from the start\n",
        "    document = re.sub(r'\\^[a-zA-Z]\\s+', ' ', document) \n",
        "    \n",
        "    # Substituting multiple spaces with single space\n",
        "    document = re.sub(r'\\s+', ' ', document, flags=re.I)\n",
        "    \n",
        "    # Removing prefixed 'b'\n",
        "    document = re.sub(r'^b\\s+', '', document)\n",
        "    \n",
        "    # Removing quot\n",
        "    document = re.sub(r'quot', '', document)\n",
        "\n",
        "    # Removing 39\n",
        "    document = re.sub(r'39', '', document)\n",
        "\n",
        "    # Converting to Lowercase\n",
        "    document = document.lower()\n",
        "    \n",
        "    # Lemmatization\n",
        "    document = document.split()\n",
        "\n",
        "    document = [stemmer.lemmatize(word) for word in document]\n",
        "    document = ' '.join(document)\n",
        "    \n",
        "    documents.append(document)"
      ],
      "execution_count": null,
      "outputs": []
    },
    {
      "cell_type": "code",
      "metadata": {
        "id": "h24cBO4nsnBJ"
      },
      "source": [
        "clean_test = pd.DataFrame(documents)\n",
        "clean_test['label'] = test['label']\n",
        "clean_test.rename(columns = {0:'description'}, inplace = True)"
      ],
      "execution_count": null,
      "outputs": []
    },
    {
      "cell_type": "code",
      "metadata": {
        "id": "iElNQeM_snBJ"
      },
      "source": [
        "train_examples = clean_train['description']\n",
        "train_labels = clean_train['label']\n",
        "\n",
        "valid_examples = clean_valid['description']\n",
        "valid_labels = clean_valid['label']\n",
        "\n",
        "test_examples = clean_test['description']\n",
        "test_labels = clean_test['label']"
      ],
      "execution_count": null,
      "outputs": []
    },
    {
      "cell_type": "code",
      "metadata": {
        "id": "8qqWzde6snBJ"
      },
      "source": [
        "# combine into a cleaned dataset\n",
        "frames = [clean_train, clean_valid, clean_test]\n",
        "clean_dataset = pd.concat(frames)"
      ],
      "execution_count": null,
      "outputs": []
    },
    {
      "cell_type": "code",
      "metadata": {
        "colab": {
          "base_uri": "https://localhost:8080/",
          "height": 52
        },
        "id": "Xu4NCCuGsnBJ",
        "outputId": "d12d65fd-a7de-49df-8ac9-4e04e5e00d50"
      },
      "source": [
        "clean_dataset.iloc[len(train)][0] #check that positions are correct"
      ],
      "execution_count": null,
      "outputs": [
        {
          "output_type": "execute_result",
          "data": {
            "application/vnd.google.colaboratory.intrinsic+json": {
              "type": "string"
            },
            "text/plain": [
              "'bm plan to announce today that it will invest 250 million over the next five year and employ 1 000 people in new business unit to support product and service related to sensor network'"
            ]
          },
          "metadata": {
            "tags": []
          },
          "execution_count": 89
        }
      ]
    },
    {
      "cell_type": "markdown",
      "metadata": {
        "id": "AcoEUrOOlumf"
      },
      "source": [
        "### Initial Benchmark"
      ]
    },
    {
      "cell_type": "code",
      "metadata": {
        "id": "RTTRoRPRY9up"
      },
      "source": [
        "# initialize list for training times\n",
        "train_times = []"
      ],
      "execution_count": null,
      "outputs": []
    },
    {
      "cell_type": "code",
      "metadata": {
        "id": "GPZAjBR1Zqvk"
      },
      "source": [
        "# get text embeddings from tensorflow hub, use as first layer in networks\n",
        "hub_model = \"https://tfhub.dev/google/nnlm-en-dim50/2\"\n",
        "hub_layer = hub.KerasLayer(hub_model, input_shape=[], dtype=tf.string, trainable=True)\n",
        "\n",
        "benchmark = tf.keras.Sequential([\n",
        "                            hub_layer\n",
        "                            ,tf.keras.layers.Dense(4,activation='softmax')\n",
        "])"
      ],
      "execution_count": null,
      "outputs": []
    },
    {
      "cell_type": "code",
      "metadata": {
        "id": "vXCQAoO8gLec"
      },
      "source": [
        "benchmark.compile(optimizer='adam'\n",
        "              ,loss=tf.keras.losses.SparseCategoricalCrossentropy() # if we set from_logits=True we do not have specify a softmax activation function in the last layer\n",
        "              ,metrics=['accuracy'])"
      ],
      "execution_count": null,
      "outputs": []
    },
    {
      "cell_type": "code",
      "metadata": {
        "colab": {
          "base_uri": "https://localhost:8080/"
        },
        "id": "3ZSi1J04gN8I",
        "outputId": "716bc86f-afd2-4041-ca23-35704c810c4f"
      },
      "source": [
        "start = time.process_time()\n",
        "\n",
        "benchmark_history = benchmark.fit(train_examples\n",
        "                    ,train_labels                \n",
        "                    ,epochs=20\n",
        "                    ,validation_data=(valid_examples, valid_labels)\n",
        "                    ,batch_size = 500\n",
        "                    ,callbacks=[tf.keras.callbacks.EarlyStopping(monitor='val_accuracy', patience=2)]\n",
        "                    )\n",
        "\n",
        "stop = time.process_time()\n",
        "runtime = stop - start\n",
        "train_times.append(runtime)"
      ],
      "execution_count": null,
      "outputs": [
        {
          "output_type": "stream",
          "text": [
            "Epoch 1/20\n",
            "228/228 [==============================] - 4s 17ms/step - loss: 0.6967 - accuracy: 0.8077 - val_loss: 0.3983 - val_accuracy: 0.8845\n",
            "Epoch 2/20\n",
            "228/228 [==============================] - 4s 16ms/step - loss: 0.3303 - accuracy: 0.9021 - val_loss: 0.3140 - val_accuracy: 0.8985\n",
            "Epoch 3/20\n",
            "228/228 [==============================] - 4s 17ms/step - loss: 0.2620 - accuracy: 0.9186 - val_loss: 0.2894 - val_accuracy: 0.9058\n",
            "Epoch 4/20\n",
            "228/228 [==============================] - 4s 16ms/step - loss: 0.2252 - accuracy: 0.9288 - val_loss: 0.2810 - val_accuracy: 0.9083\n",
            "Epoch 5/20\n",
            "228/228 [==============================] - 4s 16ms/step - loss: 0.1993 - accuracy: 0.9369 - val_loss: 0.2790 - val_accuracy: 0.9080\n",
            "Epoch 6/20\n",
            "228/228 [==============================] - 4s 16ms/step - loss: 0.1793 - accuracy: 0.9429 - val_loss: 0.2824 - val_accuracy: 0.9062\n"
          ],
          "name": "stdout"
        }
      ]
    },
    {
      "cell_type": "code",
      "metadata": {
        "colab": {
          "base_uri": "https://localhost:8080/"
        },
        "id": "ZeeZcsnJgPzY",
        "outputId": "ccf7780f-86d3-44ec-d735-1c21453a86be"
      },
      "source": [
        "test_loss, test_acc = benchmark.evaluate(test_examples,test_labels)\n",
        "\n",
        "print('Test Loss: {}'.format(test_loss))\n",
        "print('Test Accuracy: {}'.format(test_acc))\n",
        "\n",
        "benchmarkacc = test_acc\n",
        "benchmarkloss = test_loss"
      ],
      "execution_count": null,
      "outputs": [
        {
          "output_type": "stream",
          "text": [
            "238/238 [==============================] - 1s 3ms/step - loss: 0.2896 - accuracy: 0.9057\n",
            "Test Loss: 0.2896190881729126\n",
            "Test Accuracy: 0.9056578874588013\n"
          ],
          "name": "stdout"
        }
      ]
    },
    {
      "cell_type": "markdown",
      "metadata": {
        "id": "D4zw3ieClNL5"
      },
      "source": [
        "### Experiment Set 1"
      ]
    },
    {
      "cell_type": "code",
      "metadata": {
        "id": "_vvsGdC5rDiU"
      },
      "source": [
        "hub_model = \"https://tfhub.dev/google/nnlm-en-dim50/2\"\n",
        "hub_layer = hub.KerasLayer(hub_model, input_shape = [], dtype = tf.string, trainable = True)\n",
        "\n",
        "# Parameter grid for grid search\n",
        "param_grid = dict(num_filters=[32, 64, 128],\n",
        "                  kernelSize=[3, 5, 7],\n",
        "                  poolSize = [3, 5, 7]\n",
        "                  )\n",
        "\n",
        "def create_model(num_filters, kernelSize, poolSize):\n",
        "  model = tf.keras.Sequential([\n",
        "                        hub_layer\n",
        "                        ,tf.keras.layers.Reshape((1,50)) \n",
        "                        ,tf.keras.layers.Conv1D(num_filters, kernel_size = kernelSize, padding = \"same\", activation = 'tanh')\n",
        "                        ,tf.keras.layers.MaxPooling1D(pool_size = poolSize, padding = \"same\", strides = 3)\n",
        "                        ,tf.keras.layers.Conv1D(num_filters, kernel_size = kernelSize, padding = \"same\", activation = 'tanh')\n",
        "                        ,tf.keras.layers.MaxPooling1D(pool_size = poolSize, padding = \"same\", strides = 3)              \n",
        "                        ,tf.keras.layers.Dense(512, activation = 'tanh')\n",
        "                        ,tf.keras.layers.Dropout(0.7)\n",
        "                        ,tf.keras.layers.Dense(4,activation='softmax')\n",
        "                        ])\n",
        "  model.compile(optimizer = 'adam', loss = tf.keras.losses.SparseCategoricalCrossentropy(), metrics = ['accuracy'])\n",
        "  return model"
      ],
      "execution_count": null,
      "outputs": []
    },
    {
      "cell_type": "code",
      "metadata": {
        "colab": {
          "base_uri": "https://localhost:8080/",
          "height": 1000
        },
        "id": "-rKfJy0Hq2bb",
        "outputId": "c61efdc4-01ef-4bd2-d5ec-f5b5d7cc020b"
      },
      "source": [
        "# Main settings\n",
        "epochs = 10\n",
        "output_file = 'output.txt'\n",
        "\n",
        "\n",
        "# Parameter grid for grid search\n",
        "param_grid = dict(num_filters=[64, 128, 256],\n",
        "                  kernelSize=[3, 5, 7],\n",
        "                  poolSize = [3, 5, 7]\n",
        "                  )\n",
        "\n",
        "model = KerasClassifier(build_fn=create_model,\n",
        "                        epochs=epochs,\n",
        "                        verbose=False)\n",
        "\n",
        "grid = RandomizedSearchCV(estimator=model, param_distributions=param_grid, n_iter=9)\n",
        "grid_result = grid.fit(train_examples\n",
        "                ,train_labels                \n",
        "                ,epochs=epochs\n",
        "                ,validation_data=(valid_examples, valid_labels)\n",
        "                ,batch_size = 500\n",
        "                ,callbacks=[tf.keras.callbacks.EarlyStopping(monitor='val_accuracy', patience=2)]\n",
        "                )\n",
        "\n",
        "# Evaluate testing set\n",
        "test_accuracy = grid.score(test_examples, test_labels)\n",
        "\n",
        "# Save and evaluate results\n",
        "with open(output_file, 'a') as f:\n",
        "    s = ('Best Accuracy : '\n",
        "        '{:.4f}\\n{}\\nTest Accuracy : {:.4f}\\n\\n')\n",
        "    output_string = s.format(\n",
        "        grid_result.best_score_,\n",
        "        grid_result.best_params_,\n",
        "        test_accuracy)\n",
        "    print(output_string)\n",
        "    f.write(output_string)\n",
        "\n",
        "paramSearch1 = pd.DataFrame(grid.cv_results_)\n",
        "paramSearch1"
      ],
      "execution_count": null,
      "outputs": [
        {
          "output_type": "stream",
          "text": [
            "Best Accuracy : 0.9835\n",
            "{'poolSize': 3, 'num_filters': 64, 'kernelSize': 7}\n",
            "Test Accuracy : 0.8405\n",
            "\n",
            "\n"
          ],
          "name": "stdout"
        },
        {
          "output_type": "execute_result",
          "data": {
            "text/html": [
              "<div>\n",
              "<style scoped>\n",
              "    .dataframe tbody tr th:only-of-type {\n",
              "        vertical-align: middle;\n",
              "    }\n",
              "\n",
              "    .dataframe tbody tr th {\n",
              "        vertical-align: top;\n",
              "    }\n",
              "\n",
              "    .dataframe thead th {\n",
              "        text-align: right;\n",
              "    }\n",
              "</style>\n",
              "<table border=\"1\" class=\"dataframe\">\n",
              "  <thead>\n",
              "    <tr style=\"text-align: right;\">\n",
              "      <th></th>\n",
              "      <th>mean_fit_time</th>\n",
              "      <th>std_fit_time</th>\n",
              "      <th>mean_score_time</th>\n",
              "      <th>std_score_time</th>\n",
              "      <th>param_poolSize</th>\n",
              "      <th>param_num_filters</th>\n",
              "      <th>param_kernelSize</th>\n",
              "      <th>params</th>\n",
              "      <th>split0_test_score</th>\n",
              "      <th>split1_test_score</th>\n",
              "      <th>split2_test_score</th>\n",
              "      <th>split3_test_score</th>\n",
              "      <th>split4_test_score</th>\n",
              "      <th>mean_test_score</th>\n",
              "      <th>std_test_score</th>\n",
              "      <th>rank_test_score</th>\n",
              "    </tr>\n",
              "  </thead>\n",
              "  <tbody>\n",
              "    <tr>\n",
              "      <th>0</th>\n",
              "      <td>13.418956</td>\n",
              "      <td>1.707214</td>\n",
              "      <td>3.706452</td>\n",
              "      <td>2.548630</td>\n",
              "      <td>5</td>\n",
              "      <td>256</td>\n",
              "      <td>7</td>\n",
              "      <td>{'poolSize': 5, 'num_filters': 256, 'kernelSiz...</td>\n",
              "      <td>0.898377</td>\n",
              "      <td>0.930965</td>\n",
              "      <td>0.931842</td>\n",
              "      <td>0.950526</td>\n",
              "      <td>0.951140</td>\n",
              "      <td>0.932570</td>\n",
              "      <td>0.019181</td>\n",
              "      <td>9</td>\n",
              "    </tr>\n",
              "    <tr>\n",
              "      <th>1</th>\n",
              "      <td>13.263046</td>\n",
              "      <td>3.038037</td>\n",
              "      <td>4.399380</td>\n",
              "      <td>4.011250</td>\n",
              "      <td>5</td>\n",
              "      <td>256</td>\n",
              "      <td>3</td>\n",
              "      <td>{'poolSize': 5, 'num_filters': 256, 'kernelSiz...</td>\n",
              "      <td>0.958421</td>\n",
              "      <td>0.955132</td>\n",
              "      <td>0.961403</td>\n",
              "      <td>0.953377</td>\n",
              "      <td>0.967588</td>\n",
              "      <td>0.959184</td>\n",
              "      <td>0.005025</td>\n",
              "      <td>8</td>\n",
              "    </tr>\n",
              "    <tr>\n",
              "      <th>2</th>\n",
              "      <td>10.824486</td>\n",
              "      <td>1.224631</td>\n",
              "      <td>2.462303</td>\n",
              "      <td>0.296811</td>\n",
              "      <td>5</td>\n",
              "      <td>64</td>\n",
              "      <td>5</td>\n",
              "      <td>{'poolSize': 5, 'num_filters': 64, 'kernelSize...</td>\n",
              "      <td>0.968860</td>\n",
              "      <td>0.970307</td>\n",
              "      <td>0.969868</td>\n",
              "      <td>0.970044</td>\n",
              "      <td>0.970746</td>\n",
              "      <td>0.969965</td>\n",
              "      <td>0.000627</td>\n",
              "      <td>7</td>\n",
              "    </tr>\n",
              "    <tr>\n",
              "      <th>3</th>\n",
              "      <td>11.638548</td>\n",
              "      <td>1.552270</td>\n",
              "      <td>2.477931</td>\n",
              "      <td>0.215977</td>\n",
              "      <td>3</td>\n",
              "      <td>128</td>\n",
              "      <td>3</td>\n",
              "      <td>{'poolSize': 3, 'num_filters': 128, 'kernelSiz...</td>\n",
              "      <td>0.971140</td>\n",
              "      <td>0.971009</td>\n",
              "      <td>0.973860</td>\n",
              "      <td>0.974123</td>\n",
              "      <td>0.976667</td>\n",
              "      <td>0.973360</td>\n",
              "      <td>0.002108</td>\n",
              "      <td>5</td>\n",
              "    </tr>\n",
              "    <tr>\n",
              "      <th>4</th>\n",
              "      <td>16.704987</td>\n",
              "      <td>4.676997</td>\n",
              "      <td>2.475609</td>\n",
              "      <td>0.014786</td>\n",
              "      <td>3</td>\n",
              "      <td>256</td>\n",
              "      <td>5</td>\n",
              "      <td>{'poolSize': 3, 'num_filters': 256, 'kernelSiz...</td>\n",
              "      <td>0.975307</td>\n",
              "      <td>0.970746</td>\n",
              "      <td>0.965482</td>\n",
              "      <td>0.974561</td>\n",
              "      <td>0.978640</td>\n",
              "      <td>0.972947</td>\n",
              "      <td>0.004498</td>\n",
              "      <td>6</td>\n",
              "    </tr>\n",
              "    <tr>\n",
              "      <th>5</th>\n",
              "      <td>10.904021</td>\n",
              "      <td>0.668398</td>\n",
              "      <td>2.481711</td>\n",
              "      <td>0.176889</td>\n",
              "      <td>7</td>\n",
              "      <td>128</td>\n",
              "      <td>3</td>\n",
              "      <td>{'poolSize': 7, 'num_filters': 128, 'kernelSiz...</td>\n",
              "      <td>0.982544</td>\n",
              "      <td>0.981974</td>\n",
              "      <td>0.979079</td>\n",
              "      <td>0.978947</td>\n",
              "      <td>0.983289</td>\n",
              "      <td>0.981167</td>\n",
              "      <td>0.001808</td>\n",
              "      <td>3</td>\n",
              "    </tr>\n",
              "    <tr>\n",
              "      <th>6</th>\n",
              "      <td>18.118498</td>\n",
              "      <td>4.900602</td>\n",
              "      <td>2.470591</td>\n",
              "      <td>0.053751</td>\n",
              "      <td>7</td>\n",
              "      <td>256</td>\n",
              "      <td>3</td>\n",
              "      <td>{'poolSize': 7, 'num_filters': 256, 'kernelSiz...</td>\n",
              "      <td>0.982544</td>\n",
              "      <td>0.975702</td>\n",
              "      <td>0.970789</td>\n",
              "      <td>0.978640</td>\n",
              "      <td>0.976623</td>\n",
              "      <td>0.976860</td>\n",
              "      <td>0.003840</td>\n",
              "      <td>4</td>\n",
              "    </tr>\n",
              "    <tr>\n",
              "      <th>7</th>\n",
              "      <td>10.832964</td>\n",
              "      <td>1.239725</td>\n",
              "      <td>2.369377</td>\n",
              "      <td>0.052639</td>\n",
              "      <td>3</td>\n",
              "      <td>64</td>\n",
              "      <td>3</td>\n",
              "      <td>{'poolSize': 3, 'num_filters': 64, 'kernelSize...</td>\n",
              "      <td>0.982895</td>\n",
              "      <td>0.982018</td>\n",
              "      <td>0.978202</td>\n",
              "      <td>0.982895</td>\n",
              "      <td>0.983553</td>\n",
              "      <td>0.981912</td>\n",
              "      <td>0.001918</td>\n",
              "      <td>2</td>\n",
              "    </tr>\n",
              "    <tr>\n",
              "      <th>8</th>\n",
              "      <td>10.915240</td>\n",
              "      <td>1.230623</td>\n",
              "      <td>3.952497</td>\n",
              "      <td>3.109041</td>\n",
              "      <td>3</td>\n",
              "      <td>64</td>\n",
              "      <td>7</td>\n",
              "      <td>{'poolSize': 3, 'num_filters': 64, 'kernelSize...</td>\n",
              "      <td>0.984781</td>\n",
              "      <td>0.981272</td>\n",
              "      <td>0.982939</td>\n",
              "      <td>0.983026</td>\n",
              "      <td>0.985263</td>\n",
              "      <td>0.983456</td>\n",
              "      <td>0.001431</td>\n",
              "      <td>1</td>\n",
              "    </tr>\n",
              "  </tbody>\n",
              "</table>\n",
              "</div>"
            ],
            "text/plain": [
              "   mean_fit_time  std_fit_time  ...  std_test_score  rank_test_score\n",
              "0      13.418956      1.707214  ...        0.019181                9\n",
              "1      13.263046      3.038037  ...        0.005025                8\n",
              "2      10.824486      1.224631  ...        0.000627                7\n",
              "3      11.638548      1.552270  ...        0.002108                5\n",
              "4      16.704987      4.676997  ...        0.004498                6\n",
              "5      10.904021      0.668398  ...        0.001808                3\n",
              "6      18.118498      4.900602  ...        0.003840                4\n",
              "7      10.832964      1.239725  ...        0.001918                2\n",
              "8      10.915240      1.230623  ...        0.001431                1\n",
              "\n",
              "[9 rows x 16 columns]"
            ]
          },
          "metadata": {
            "tags": []
          },
          "execution_count": 128
        }
      ]
    },
    {
      "cell_type": "markdown",
      "metadata": {
        "id": "ctaXPlYQQEh_"
      },
      "source": [
        "### Experiment Set 2"
      ]
    },
    {
      "cell_type": "code",
      "metadata": {
        "id": "P5QwrZBIQHLc"
      },
      "source": [
        "hub_model = \"https://tfhub.dev/google/nnlm-en-dim50/2\"\n",
        "hub_layer = hub.KerasLayer(hub_model, input_shape = [], dtype = tf.string, trainable = True)\n",
        "\n",
        "# Parameter grid for grid search\n",
        "param_grid = dict(num_filters=[64, 128, 256],\n",
        "                  kernelSize=[3, 5, 7],\n",
        "                  poolSize = [3, 5, 7]\n",
        "                  )\n",
        "\n",
        "def create_model_2(num_filters, kernelSize, poolSize):\n",
        "  model = tf.keras.Sequential([\n",
        "                        hub_layer\n",
        "                        ,tf.keras.layers.Reshape((1,50)) \n",
        "                        ,tf.keras.layers.Conv1D(num_filters, kernel_size = kernelSize, padding = \"same\", activation='relu')\n",
        "                        ,tf.keras.layers.MaxPooling1D(pool_size = poolSize, padding = \"same\", strides = 3)\n",
        "                        ,tf.keras.layers.Conv1D(num_filters, kernel_size = kernelSize, padding = \"same\", activation='relu')\n",
        "                        ,tf.keras.layers.MaxPooling1D(pool_size = poolSize, padding = \"same\", strides = 3)              \n",
        "                        ,tf.keras.layers.Dense(512, activation = 'relu')\n",
        "                        ,tf.keras.layers.Dropout(0.7)\n",
        "                        ,tf.keras.layers.Dense(4,activation='softmax')\n",
        "                        ])\n",
        "  model.compile(optimizer = 'adam', loss = tf.keras.losses.SparseCategoricalCrossentropy(), metrics = ['accuracy'])\n",
        "  return model"
      ],
      "execution_count": null,
      "outputs": []
    },
    {
      "cell_type": "code",
      "metadata": {
        "colab": {
          "base_uri": "https://localhost:8080/",
          "height": 1000
        },
        "id": "lq-3t5TPbLEL",
        "outputId": "dc0b9787-ef28-4f6a-d9b6-f5d23cbf1f39"
      },
      "source": [
        "# Main settings\n",
        "output_file = 'output2.txt'\n",
        "\n",
        "model = KerasClassifier(build_fn = create_model_2,\n",
        "                        epochs = epochs,\n",
        "                        verbose = False)\n",
        "\n",
        "grid = RandomizedSearchCV(estimator = model, param_distributions = param_grid, n_iter = 9)\n",
        "grid_result = grid.fit(train_examples\n",
        "                ,train_labels                \n",
        "                ,epochs = epochs\n",
        "                ,validation_data = (valid_examples, valid_labels)\n",
        "                ,batch_size = 500\n",
        "                ,callbacks=[tf.keras.callbacks.EarlyStopping(monitor='val_accuracy', patience=2)]\n",
        "                )\n",
        "\n",
        "# Evaluate testing set\n",
        "test_accuracy = grid.score(test_examples, test_labels)\n",
        "\n",
        "# Save and evaluate results\n",
        "with open(output_file, 'a') as f:\n",
        "    s = ('Best Accuracy : '\n",
        "        '{:.4f}\\n{}\\nTest Accuracy : {:.4f}\\n\\n')\n",
        "    output_string = s.format(\n",
        "        grid_result.best_score_,\n",
        "        grid_result.best_params_,\n",
        "        test_accuracy)\n",
        "    print(output_string)\n",
        "    f.write(output_string)\n",
        "\n",
        "paramSearch2 = pd.DataFrame(grid.cv_results_)\n",
        "paramSearch2"
      ],
      "execution_count": null,
      "outputs": [
        {
          "output_type": "stream",
          "text": [
            "Best Accuracy : 0.9934\n",
            "{'poolSize': 3, 'num_filters': 64, 'kernelSize': 5}\n",
            "Test Accuracy : 0.8643\n",
            "\n",
            "\n"
          ],
          "name": "stdout"
        },
        {
          "output_type": "execute_result",
          "data": {
            "text/html": [
              "<div>\n",
              "<style scoped>\n",
              "    .dataframe tbody tr th:only-of-type {\n",
              "        vertical-align: middle;\n",
              "    }\n",
              "\n",
              "    .dataframe tbody tr th {\n",
              "        vertical-align: top;\n",
              "    }\n",
              "\n",
              "    .dataframe thead th {\n",
              "        text-align: right;\n",
              "    }\n",
              "</style>\n",
              "<table border=\"1\" class=\"dataframe\">\n",
              "  <thead>\n",
              "    <tr style=\"text-align: right;\">\n",
              "      <th></th>\n",
              "      <th>mean_fit_time</th>\n",
              "      <th>std_fit_time</th>\n",
              "      <th>mean_score_time</th>\n",
              "      <th>std_score_time</th>\n",
              "      <th>param_poolSize</th>\n",
              "      <th>param_num_filters</th>\n",
              "      <th>param_kernelSize</th>\n",
              "      <th>params</th>\n",
              "      <th>split0_test_score</th>\n",
              "      <th>split1_test_score</th>\n",
              "      <th>split2_test_score</th>\n",
              "      <th>split3_test_score</th>\n",
              "      <th>split4_test_score</th>\n",
              "      <th>mean_test_score</th>\n",
              "      <th>std_test_score</th>\n",
              "      <th>rank_test_score</th>\n",
              "    </tr>\n",
              "  </thead>\n",
              "  <tbody>\n",
              "    <tr>\n",
              "      <th>0</th>\n",
              "      <td>11.494299</td>\n",
              "      <td>1.349912</td>\n",
              "      <td>2.374992</td>\n",
              "      <td>0.013082</td>\n",
              "      <td>5</td>\n",
              "      <td>128</td>\n",
              "      <td>5</td>\n",
              "      <td>{'poolSize': 5, 'num_filters': 128, 'kernelSiz...</td>\n",
              "      <td>0.904123</td>\n",
              "      <td>0.935789</td>\n",
              "      <td>0.944781</td>\n",
              "      <td>0.952061</td>\n",
              "      <td>0.959254</td>\n",
              "      <td>0.939202</td>\n",
              "      <td>0.019187</td>\n",
              "      <td>9</td>\n",
              "    </tr>\n",
              "    <tr>\n",
              "      <th>1</th>\n",
              "      <td>15.024718</td>\n",
              "      <td>5.396521</td>\n",
              "      <td>4.471368</td>\n",
              "      <td>4.059380</td>\n",
              "      <td>3</td>\n",
              "      <td>256</td>\n",
              "      <td>3</td>\n",
              "      <td>{'poolSize': 3, 'num_filters': 256, 'kernelSiz...</td>\n",
              "      <td>0.945175</td>\n",
              "      <td>0.971974</td>\n",
              "      <td>0.968640</td>\n",
              "      <td>0.974693</td>\n",
              "      <td>0.974868</td>\n",
              "      <td>0.967070</td>\n",
              "      <td>0.011179</td>\n",
              "      <td>8</td>\n",
              "    </tr>\n",
              "    <tr>\n",
              "      <th>2</th>\n",
              "      <td>10.156056</td>\n",
              "      <td>0.023333</td>\n",
              "      <td>2.813899</td>\n",
              "      <td>0.359740</td>\n",
              "      <td>5</td>\n",
              "      <td>64</td>\n",
              "      <td>3</td>\n",
              "      <td>{'poolSize': 5, 'num_filters': 64, 'kernelSize...</td>\n",
              "      <td>0.974605</td>\n",
              "      <td>0.977412</td>\n",
              "      <td>0.977763</td>\n",
              "      <td>0.978553</td>\n",
              "      <td>0.981491</td>\n",
              "      <td>0.977965</td>\n",
              "      <td>0.002210</td>\n",
              "      <td>7</td>\n",
              "    </tr>\n",
              "    <tr>\n",
              "      <th>3</th>\n",
              "      <td>16.713540</td>\n",
              "      <td>3.503178</td>\n",
              "      <td>2.429615</td>\n",
              "      <td>0.018789</td>\n",
              "      <td>5</td>\n",
              "      <td>256</td>\n",
              "      <td>5</td>\n",
              "      <td>{'poolSize': 5, 'num_filters': 256, 'kernelSiz...</td>\n",
              "      <td>0.976491</td>\n",
              "      <td>0.984956</td>\n",
              "      <td>0.981491</td>\n",
              "      <td>0.985658</td>\n",
              "      <td>0.986184</td>\n",
              "      <td>0.982956</td>\n",
              "      <td>0.003624</td>\n",
              "      <td>6</td>\n",
              "    </tr>\n",
              "    <tr>\n",
              "      <th>4</th>\n",
              "      <td>13.406868</td>\n",
              "      <td>4.891213</td>\n",
              "      <td>6.550782</td>\n",
              "      <td>7.330866</td>\n",
              "      <td>3</td>\n",
              "      <td>64</td>\n",
              "      <td>7</td>\n",
              "      <td>{'poolSize': 3, 'num_filters': 64, 'kernelSize...</td>\n",
              "      <td>0.986097</td>\n",
              "      <td>0.987632</td>\n",
              "      <td>0.985833</td>\n",
              "      <td>0.986009</td>\n",
              "      <td>0.983772</td>\n",
              "      <td>0.985868</td>\n",
              "      <td>0.001231</td>\n",
              "      <td>5</td>\n",
              "    </tr>\n",
              "    <tr>\n",
              "      <th>5</th>\n",
              "      <td>14.487099</td>\n",
              "      <td>4.170550</td>\n",
              "      <td>3.041735</td>\n",
              "      <td>0.886723</td>\n",
              "      <td>3</td>\n",
              "      <td>64</td>\n",
              "      <td>3</td>\n",
              "      <td>{'poolSize': 3, 'num_filters': 64, 'kernelSize...</td>\n",
              "      <td>0.989868</td>\n",
              "      <td>0.985877</td>\n",
              "      <td>0.989035</td>\n",
              "      <td>0.988684</td>\n",
              "      <td>0.991360</td>\n",
              "      <td>0.988965</td>\n",
              "      <td>0.001798</td>\n",
              "      <td>4</td>\n",
              "    </tr>\n",
              "    <tr>\n",
              "      <th>6</th>\n",
              "      <td>13.849810</td>\n",
              "      <td>3.954391</td>\n",
              "      <td>2.420670</td>\n",
              "      <td>0.030654</td>\n",
              "      <td>7</td>\n",
              "      <td>256</td>\n",
              "      <td>3</td>\n",
              "      <td>{'poolSize': 7, 'num_filters': 256, 'kernelSiz...</td>\n",
              "      <td>0.992939</td>\n",
              "      <td>0.988596</td>\n",
              "      <td>0.990044</td>\n",
              "      <td>0.992412</td>\n",
              "      <td>0.990614</td>\n",
              "      <td>0.990921</td>\n",
              "      <td>0.001585</td>\n",
              "      <td>3</td>\n",
              "    </tr>\n",
              "    <tr>\n",
              "      <th>7</th>\n",
              "      <td>17.465072</td>\n",
              "      <td>2.605093</td>\n",
              "      <td>2.456451</td>\n",
              "      <td>0.022648</td>\n",
              "      <td>3</td>\n",
              "      <td>256</td>\n",
              "      <td>7</td>\n",
              "      <td>{'poolSize': 3, 'num_filters': 256, 'kernelSiz...</td>\n",
              "      <td>0.992675</td>\n",
              "      <td>0.991316</td>\n",
              "      <td>0.992193</td>\n",
              "      <td>0.992632</td>\n",
              "      <td>0.993465</td>\n",
              "      <td>0.992456</td>\n",
              "      <td>0.000702</td>\n",
              "      <td>2</td>\n",
              "    </tr>\n",
              "    <tr>\n",
              "      <th>8</th>\n",
              "      <td>10.207431</td>\n",
              "      <td>0.038387</td>\n",
              "      <td>2.667675</td>\n",
              "      <td>0.619186</td>\n",
              "      <td>3</td>\n",
              "      <td>64</td>\n",
              "      <td>5</td>\n",
              "      <td>{'poolSize': 3, 'num_filters': 64, 'kernelSize...</td>\n",
              "      <td>0.994386</td>\n",
              "      <td>0.993070</td>\n",
              "      <td>0.992368</td>\n",
              "      <td>0.993202</td>\n",
              "      <td>0.993728</td>\n",
              "      <td>0.993351</td>\n",
              "      <td>0.000675</td>\n",
              "      <td>1</td>\n",
              "    </tr>\n",
              "  </tbody>\n",
              "</table>\n",
              "</div>"
            ],
            "text/plain": [
              "   mean_fit_time  std_fit_time  ...  std_test_score  rank_test_score\n",
              "0      11.494299      1.349912  ...        0.019187                9\n",
              "1      15.024718      5.396521  ...        0.011179                8\n",
              "2      10.156056      0.023333  ...        0.002210                7\n",
              "3      16.713540      3.503178  ...        0.003624                6\n",
              "4      13.406868      4.891213  ...        0.001231                5\n",
              "5      14.487099      4.170550  ...        0.001798                4\n",
              "6      13.849810      3.954391  ...        0.001585                3\n",
              "7      17.465072      2.605093  ...        0.000702                2\n",
              "8      10.207431      0.038387  ...        0.000675                1\n",
              "\n",
              "[9 rows x 16 columns]"
            ]
          },
          "metadata": {
            "tags": []
          },
          "execution_count": 130
        }
      ]
    },
    {
      "cell_type": "markdown",
      "metadata": {
        "id": "l5CJ4yuFbrj5"
      },
      "source": [
        "### Experiment Set 3"
      ]
    },
    {
      "cell_type": "code",
      "metadata": {
        "id": "bGJrMTjIbtwU"
      },
      "source": [
        "hub_model = \"https://tfhub.dev/google/nnlm-en-dim50/2\"\n",
        "hub_layer = hub.KerasLayer(hub_model, input_shape = [], dtype = tf.string, trainable = True)\n",
        "\n",
        "param_grid = dict(num_filters=[32, 64, 128],\n",
        "                  dropoutPercent = [0.6, 0.7, 0.8]\n",
        "                  )\n",
        "\n",
        "def create_model_3(num_filters, dropoutPercent):\n",
        "    model = tf.keras.Sequential([\n",
        "                          hub_layer\n",
        "                          ,tf.keras.layers.Reshape((1,50)) \n",
        "                          ,tf.keras.layers.Bidirectional(tf.keras.layers.LSTM(num_filters, dropout = dropoutPercent,  return_sequences=True))\n",
        "                          ,tf.keras.layers.Bidirectional(tf.keras.layers.LSTM(num_filters, dropout = dropoutPercent))          \n",
        "                          ,tf.keras.layers.Dense(512, activation = 'relu')\n",
        "                          ,tf.keras.layers.Dropout(dropoutPercent)\n",
        "                          ,tf.keras.layers.Dense(4,activation = 'softmax')\n",
        "                          ])\n",
        "    model.compile(optimizer = 'adam', loss = tf.keras.losses.SparseCategoricalCrossentropy(), metrics = ['accuracy'])\n",
        "    return model"
      ],
      "execution_count": null,
      "outputs": []
    },
    {
      "cell_type": "code",
      "metadata": {
        "colab": {
          "base_uri": "https://localhost:8080/",
          "height": 892
        },
        "id": "oCWTLcYQcNGI",
        "outputId": "d0ea98d2-c45c-4f8c-a7e4-9f5b20cb43f9"
      },
      "source": [
        "output_file = 'output3.txt'\n",
        "\n",
        "model = KerasClassifier(build_fn = create_model_3,\n",
        "                        epochs = epochs,\n",
        "                        verbose = False)\n",
        "\n",
        "grid = RandomizedSearchCV(estimator = model, param_distributions = param_grid, n_iter=9)\n",
        "grid_result = grid.fit(train_examples\n",
        "                ,train_labels                \n",
        "                ,epochs = epochs\n",
        "                ,validation_data = (valid_examples, valid_labels)\n",
        "                ,batch_size = 500\n",
        "                ,callbacks = [tf.keras.callbacks.EarlyStopping(monitor = 'val_accuracy', patience = 2)]\n",
        "                )\n",
        "\n",
        "# Evaluate testing set\n",
        "test_accuracy = grid.score(test_examples, test_labels)\n",
        "\n",
        "# Save and evaluate results\n",
        "with open(output_file, 'a') as f:\n",
        "    s = ('Best Accuracy : '\n",
        "        '{:.4f}\\n{}\\nTest Accuracy : {:.4f}\\n\\n')\n",
        "    output_string = s.format(\n",
        "        grid_result.best_score_,\n",
        "        grid_result.best_params_,\n",
        "        test_accuracy)\n",
        "    print(output_string)\n",
        "    f.write(output_string)\n",
        "\n",
        "paramSearch3 = pd.DataFrame(grid.cv_results_)\n",
        "paramSearch3"
      ],
      "execution_count": null,
      "outputs": [
        {
          "output_type": "stream",
          "text": [
            "Best Accuracy : 0.9761\n",
            "{'num_filters': 128, 'dropoutPercent': 0.8}\n",
            "Test Accuracy : 0.8878\n",
            "\n",
            "\n"
          ],
          "name": "stdout"
        },
        {
          "output_type": "execute_result",
          "data": {
            "text/html": [
              "<div>\n",
              "<style scoped>\n",
              "    .dataframe tbody tr th:only-of-type {\n",
              "        vertical-align: middle;\n",
              "    }\n",
              "\n",
              "    .dataframe tbody tr th {\n",
              "        vertical-align: top;\n",
              "    }\n",
              "\n",
              "    .dataframe thead th {\n",
              "        text-align: right;\n",
              "    }\n",
              "</style>\n",
              "<table border=\"1\" class=\"dataframe\">\n",
              "  <thead>\n",
              "    <tr style=\"text-align: right;\">\n",
              "      <th></th>\n",
              "      <th>mean_fit_time</th>\n",
              "      <th>std_fit_time</th>\n",
              "      <th>mean_score_time</th>\n",
              "      <th>std_score_time</th>\n",
              "      <th>param_num_filters</th>\n",
              "      <th>param_dropoutPercent</th>\n",
              "      <th>params</th>\n",
              "      <th>split0_test_score</th>\n",
              "      <th>split1_test_score</th>\n",
              "      <th>split2_test_score</th>\n",
              "      <th>split3_test_score</th>\n",
              "      <th>split4_test_score</th>\n",
              "      <th>mean_test_score</th>\n",
              "      <th>std_test_score</th>\n",
              "      <th>rank_test_score</th>\n",
              "    </tr>\n",
              "  </thead>\n",
              "  <tbody>\n",
              "    <tr>\n",
              "      <th>0</th>\n",
              "      <td>21.529477</td>\n",
              "      <td>5.378400</td>\n",
              "      <td>6.785394</td>\n",
              "      <td>6.323656</td>\n",
              "      <td>32</td>\n",
              "      <td>0.6</td>\n",
              "      <td>{'num_filters': 32, 'dropoutPercent': 0.6}</td>\n",
              "      <td>0.911009</td>\n",
              "      <td>0.935088</td>\n",
              "      <td>0.948070</td>\n",
              "      <td>0.952456</td>\n",
              "      <td>0.956184</td>\n",
              "      <td>0.940561</td>\n",
              "      <td>0.016403</td>\n",
              "      <td>9</td>\n",
              "    </tr>\n",
              "    <tr>\n",
              "      <th>1</th>\n",
              "      <td>17.459497</td>\n",
              "      <td>0.712308</td>\n",
              "      <td>3.648646</td>\n",
              "      <td>0.060985</td>\n",
              "      <td>64</td>\n",
              "      <td>0.6</td>\n",
              "      <td>{'num_filters': 64, 'dropoutPercent': 0.6}</td>\n",
              "      <td>0.953947</td>\n",
              "      <td>0.956754</td>\n",
              "      <td>0.959956</td>\n",
              "      <td>0.962632</td>\n",
              "      <td>0.963728</td>\n",
              "      <td>0.959404</td>\n",
              "      <td>0.003639</td>\n",
              "      <td>8</td>\n",
              "    </tr>\n",
              "    <tr>\n",
              "      <th>2</th>\n",
              "      <td>18.514998</td>\n",
              "      <td>2.082393</td>\n",
              "      <td>3.903596</td>\n",
              "      <td>0.545663</td>\n",
              "      <td>128</td>\n",
              "      <td>0.6</td>\n",
              "      <td>{'num_filters': 128, 'dropoutPercent': 0.6}</td>\n",
              "      <td>0.960044</td>\n",
              "      <td>0.967412</td>\n",
              "      <td>0.967018</td>\n",
              "      <td>0.966930</td>\n",
              "      <td>0.971447</td>\n",
              "      <td>0.966570</td>\n",
              "      <td>0.003672</td>\n",
              "      <td>7</td>\n",
              "    </tr>\n",
              "    <tr>\n",
              "      <th>3</th>\n",
              "      <td>17.651502</td>\n",
              "      <td>0.712003</td>\n",
              "      <td>3.614769</td>\n",
              "      <td>0.047155</td>\n",
              "      <td>32</td>\n",
              "      <td>0.7</td>\n",
              "      <td>{'num_filters': 32, 'dropoutPercent': 0.7}</td>\n",
              "      <td>0.970219</td>\n",
              "      <td>0.973114</td>\n",
              "      <td>0.970000</td>\n",
              "      <td>0.969342</td>\n",
              "      <td>0.972544</td>\n",
              "      <td>0.971044</td>\n",
              "      <td>0.001497</td>\n",
              "      <td>6</td>\n",
              "    </tr>\n",
              "    <tr>\n",
              "      <th>4</th>\n",
              "      <td>17.485863</td>\n",
              "      <td>0.685235</td>\n",
              "      <td>7.149455</td>\n",
              "      <td>4.316060</td>\n",
              "      <td>64</td>\n",
              "      <td>0.7</td>\n",
              "      <td>{'num_filters': 64, 'dropoutPercent': 0.7}</td>\n",
              "      <td>0.972719</td>\n",
              "      <td>0.974518</td>\n",
              "      <td>0.972281</td>\n",
              "      <td>0.971447</td>\n",
              "      <td>0.974781</td>\n",
              "      <td>0.973149</td>\n",
              "      <td>0.001294</td>\n",
              "      <td>5</td>\n",
              "    </tr>\n",
              "    <tr>\n",
              "      <th>5</th>\n",
              "      <td>18.554957</td>\n",
              "      <td>2.108419</td>\n",
              "      <td>6.780899</td>\n",
              "      <td>3.543154</td>\n",
              "      <td>128</td>\n",
              "      <td>0.7</td>\n",
              "      <td>{'num_filters': 128, 'dropoutPercent': 0.7}</td>\n",
              "      <td>0.975833</td>\n",
              "      <td>0.976140</td>\n",
              "      <td>0.974123</td>\n",
              "      <td>0.972939</td>\n",
              "      <td>0.975395</td>\n",
              "      <td>0.974886</td>\n",
              "      <td>0.001192</td>\n",
              "      <td>4</td>\n",
              "    </tr>\n",
              "    <tr>\n",
              "      <th>6</th>\n",
              "      <td>17.163949</td>\n",
              "      <td>0.492841</td>\n",
              "      <td>5.705897</td>\n",
              "      <td>3.489791</td>\n",
              "      <td>32</td>\n",
              "      <td>0.8</td>\n",
              "      <td>{'num_filters': 32, 'dropoutPercent': 0.8}</td>\n",
              "      <td>0.976535</td>\n",
              "      <td>0.978158</td>\n",
              "      <td>0.974211</td>\n",
              "      <td>0.973246</td>\n",
              "      <td>0.974649</td>\n",
              "      <td>0.975360</td>\n",
              "      <td>0.001761</td>\n",
              "      <td>3</td>\n",
              "    </tr>\n",
              "    <tr>\n",
              "      <th>7</th>\n",
              "      <td>18.195243</td>\n",
              "      <td>1.247377</td>\n",
              "      <td>3.647213</td>\n",
              "      <td>0.082972</td>\n",
              "      <td>64</td>\n",
              "      <td>0.8</td>\n",
              "      <td>{'num_filters': 64, 'dropoutPercent': 0.8}</td>\n",
              "      <td>0.975526</td>\n",
              "      <td>0.977588</td>\n",
              "      <td>0.974605</td>\n",
              "      <td>0.974123</td>\n",
              "      <td>0.976272</td>\n",
              "      <td>0.975623</td>\n",
              "      <td>0.001231</td>\n",
              "      <td>2</td>\n",
              "    </tr>\n",
              "    <tr>\n",
              "      <th>8</th>\n",
              "      <td>17.800024</td>\n",
              "      <td>0.850048</td>\n",
              "      <td>3.673770</td>\n",
              "      <td>0.024375</td>\n",
              "      <td>128</td>\n",
              "      <td>0.8</td>\n",
              "      <td>{'num_filters': 128, 'dropoutPercent': 0.8}</td>\n",
              "      <td>0.975833</td>\n",
              "      <td>0.977061</td>\n",
              "      <td>0.975921</td>\n",
              "      <td>0.974605</td>\n",
              "      <td>0.976886</td>\n",
              "      <td>0.976061</td>\n",
              "      <td>0.000880</td>\n",
              "      <td>1</td>\n",
              "    </tr>\n",
              "  </tbody>\n",
              "</table>\n",
              "</div>"
            ],
            "text/plain": [
              "   mean_fit_time  std_fit_time  ...  std_test_score  rank_test_score\n",
              "0      21.529477      5.378400  ...        0.016403                9\n",
              "1      17.459497      0.712308  ...        0.003639                8\n",
              "2      18.514998      2.082393  ...        0.003672                7\n",
              "3      17.651502      0.712003  ...        0.001497                6\n",
              "4      17.485863      0.685235  ...        0.001294                5\n",
              "5      18.554957      2.108419  ...        0.001192                4\n",
              "6      17.163949      0.492841  ...        0.001761                3\n",
              "7      18.195243      1.247377  ...        0.001231                2\n",
              "8      17.800024      0.850048  ...        0.000880                1\n",
              "\n",
              "[9 rows x 15 columns]"
            ]
          },
          "metadata": {
            "tags": []
          },
          "execution_count": 132
        }
      ]
    },
    {
      "cell_type": "markdown",
      "metadata": {
        "id": "wkJzd5drs4fa"
      },
      "source": [
        "### Confusion Matrix for Best Model"
      ]
    },
    {
      "cell_type": "code",
      "metadata": {
        "id": "mJ0TbfkTs4fa"
      },
      "source": [
        "preds = exp1.predict((test_examples,test_labels))"
      ],
      "execution_count": null,
      "outputs": []
    },
    {
      "cell_type": "code",
      "metadata": {
        "colab": {
          "base_uri": "https://localhost:8080/"
        },
        "id": "MMsS1PuFs4fa",
        "outputId": "3fc3a546-d8f7-4629-fe75-a12176fb9f5d"
      },
      "source": [
        "preds.shape"
      ],
      "execution_count": null,
      "outputs": [
        {
          "output_type": "execute_result",
          "data": {
            "text/plain": [
              "(7600, 4)"
            ]
          },
          "metadata": {
            "tags": []
          },
          "execution_count": 134
        }
      ]
    },
    {
      "cell_type": "code",
      "metadata": {
        "id": "FYCajkofs4fb"
      },
      "source": [
        "cm = sns.light_palette((260, 75, 60), input=\"husl\", as_cmap=True)"
      ],
      "execution_count": null,
      "outputs": []
    },
    {
      "cell_type": "code",
      "metadata": {
        "colab": {
          "base_uri": "https://localhost:8080/",
          "height": 1000
        },
        "id": "et57UL-ks4fb",
        "outputId": "ac7f934b-8cdc-458d-c6a7-ad9f228132aa"
      },
      "source": [
        "df = pd.DataFrame(preds[0:64]\n",
        "                  ,columns = ['World','Sports','Business','Sci/Tech'])\n",
        "df.style.format(\"{:.2%}\").background_gradient(cmap=cm)"
      ],
      "execution_count": null,
      "outputs": [
        {
          "output_type": "execute_result",
          "data": {
            "text/html": [
              "<style  type=\"text/css\" >\n",
              "#T_c20e23ec_f7da_11eb_acef_0242ac1c0002row0_col0,#T_c20e23ec_f7da_11eb_acef_0242ac1c0002row0_col2,#T_c20e23ec_f7da_11eb_acef_0242ac1c0002row0_col3,#T_c20e23ec_f7da_11eb_acef_0242ac1c0002row1_col1,#T_c20e23ec_f7da_11eb_acef_0242ac1c0002row1_col2,#T_c20e23ec_f7da_11eb_acef_0242ac1c0002row1_col3,#T_c20e23ec_f7da_11eb_acef_0242ac1c0002row2_col0,#T_c20e23ec_f7da_11eb_acef_0242ac1c0002row2_col1,#T_c20e23ec_f7da_11eb_acef_0242ac1c0002row2_col2,#T_c20e23ec_f7da_11eb_acef_0242ac1c0002row3_col2,#T_c20e23ec_f7da_11eb_acef_0242ac1c0002row3_col3,#T_c20e23ec_f7da_11eb_acef_0242ac1c0002row4_col1,#T_c20e23ec_f7da_11eb_acef_0242ac1c0002row5_col0,#T_c20e23ec_f7da_11eb_acef_0242ac1c0002row5_col1,#T_c20e23ec_f7da_11eb_acef_0242ac1c0002row6_col0,#T_c20e23ec_f7da_11eb_acef_0242ac1c0002row6_col2,#T_c20e23ec_f7da_11eb_acef_0242ac1c0002row6_col3,#T_c20e23ec_f7da_11eb_acef_0242ac1c0002row7_col0,#T_c20e23ec_f7da_11eb_acef_0242ac1c0002row7_col2,#T_c20e23ec_f7da_11eb_acef_0242ac1c0002row7_col3,#T_c20e23ec_f7da_11eb_acef_0242ac1c0002row8_col1,#T_c20e23ec_f7da_11eb_acef_0242ac1c0002row8_col2,#T_c20e23ec_f7da_11eb_acef_0242ac1c0002row8_col3,#T_c20e23ec_f7da_11eb_acef_0242ac1c0002row10_col1,#T_c20e23ec_f7da_11eb_acef_0242ac1c0002row10_col2,#T_c20e23ec_f7da_11eb_acef_0242ac1c0002row10_col3,#T_c20e23ec_f7da_11eb_acef_0242ac1c0002row11_col0,#T_c20e23ec_f7da_11eb_acef_0242ac1c0002row11_col1,#T_c20e23ec_f7da_11eb_acef_0242ac1c0002row11_col2,#T_c20e23ec_f7da_11eb_acef_0242ac1c0002row12_col0,#T_c20e23ec_f7da_11eb_acef_0242ac1c0002row12_col1,#T_c20e23ec_f7da_11eb_acef_0242ac1c0002row13_col1,#T_c20e23ec_f7da_11eb_acef_0242ac1c0002row14_col1,#T_c20e23ec_f7da_11eb_acef_0242ac1c0002row14_col2,#T_c20e23ec_f7da_11eb_acef_0242ac1c0002row14_col3,#T_c20e23ec_f7da_11eb_acef_0242ac1c0002row15_col2,#T_c20e23ec_f7da_11eb_acef_0242ac1c0002row15_col3,#T_c20e23ec_f7da_11eb_acef_0242ac1c0002row16_col2,#T_c20e23ec_f7da_11eb_acef_0242ac1c0002row16_col3,#T_c20e23ec_f7da_11eb_acef_0242ac1c0002row17_col1,#T_c20e23ec_f7da_11eb_acef_0242ac1c0002row18_col0,#T_c20e23ec_f7da_11eb_acef_0242ac1c0002row18_col1,#T_c20e23ec_f7da_11eb_acef_0242ac1c0002row19_col1,#T_c20e23ec_f7da_11eb_acef_0242ac1c0002row20_col0,#T_c20e23ec_f7da_11eb_acef_0242ac1c0002row20_col1,#T_c20e23ec_f7da_11eb_acef_0242ac1c0002row20_col3,#T_c20e23ec_f7da_11eb_acef_0242ac1c0002row21_col0,#T_c20e23ec_f7da_11eb_acef_0242ac1c0002row21_col1,#T_c20e23ec_f7da_11eb_acef_0242ac1c0002row22_col1,#T_c20e23ec_f7da_11eb_acef_0242ac1c0002row22_col2,#T_c20e23ec_f7da_11eb_acef_0242ac1c0002row22_col3,#T_c20e23ec_f7da_11eb_acef_0242ac1c0002row23_col0,#T_c20e23ec_f7da_11eb_acef_0242ac1c0002row23_col1,#T_c20e23ec_f7da_11eb_acef_0242ac1c0002row23_col3,#T_c20e23ec_f7da_11eb_acef_0242ac1c0002row24_col1,#T_c20e23ec_f7da_11eb_acef_0242ac1c0002row25_col1,#T_c20e23ec_f7da_11eb_acef_0242ac1c0002row25_col3,#T_c20e23ec_f7da_11eb_acef_0242ac1c0002row26_col0,#T_c20e23ec_f7da_11eb_acef_0242ac1c0002row26_col1,#T_c20e23ec_f7da_11eb_acef_0242ac1c0002row26_col2,#T_c20e23ec_f7da_11eb_acef_0242ac1c0002row27_col1,#T_c20e23ec_f7da_11eb_acef_0242ac1c0002row27_col2,#T_c20e23ec_f7da_11eb_acef_0242ac1c0002row29_col1,#T_c20e23ec_f7da_11eb_acef_0242ac1c0002row30_col0,#T_c20e23ec_f7da_11eb_acef_0242ac1c0002row30_col1,#T_c20e23ec_f7da_11eb_acef_0242ac1c0002row30_col2,#T_c20e23ec_f7da_11eb_acef_0242ac1c0002row32_col1,#T_c20e23ec_f7da_11eb_acef_0242ac1c0002row32_col3,#T_c20e23ec_f7da_11eb_acef_0242ac1c0002row34_col0,#T_c20e23ec_f7da_11eb_acef_0242ac1c0002row34_col1,#T_c20e23ec_f7da_11eb_acef_0242ac1c0002row35_col1,#T_c20e23ec_f7da_11eb_acef_0242ac1c0002row36_col1,#T_c20e23ec_f7da_11eb_acef_0242ac1c0002row38_col0,#T_c20e23ec_f7da_11eb_acef_0242ac1c0002row38_col2,#T_c20e23ec_f7da_11eb_acef_0242ac1c0002row38_col3,#T_c20e23ec_f7da_11eb_acef_0242ac1c0002row40_col1,#T_c20e23ec_f7da_11eb_acef_0242ac1c0002row41_col1,#T_c20e23ec_f7da_11eb_acef_0242ac1c0002row43_col2,#T_c20e23ec_f7da_11eb_acef_0242ac1c0002row43_col3,#T_c20e23ec_f7da_11eb_acef_0242ac1c0002row44_col0,#T_c20e23ec_f7da_11eb_acef_0242ac1c0002row44_col1,#T_c20e23ec_f7da_11eb_acef_0242ac1c0002row44_col3,#T_c20e23ec_f7da_11eb_acef_0242ac1c0002row45_col2,#T_c20e23ec_f7da_11eb_acef_0242ac1c0002row45_col3,#T_c20e23ec_f7da_11eb_acef_0242ac1c0002row46_col1,#T_c20e23ec_f7da_11eb_acef_0242ac1c0002row46_col2,#T_c20e23ec_f7da_11eb_acef_0242ac1c0002row46_col3,#T_c20e23ec_f7da_11eb_acef_0242ac1c0002row47_col0,#T_c20e23ec_f7da_11eb_acef_0242ac1c0002row47_col2,#T_c20e23ec_f7da_11eb_acef_0242ac1c0002row47_col3,#T_c20e23ec_f7da_11eb_acef_0242ac1c0002row49_col1,#T_c20e23ec_f7da_11eb_acef_0242ac1c0002row50_col1,#T_c20e23ec_f7da_11eb_acef_0242ac1c0002row50_col2,#T_c20e23ec_f7da_11eb_acef_0242ac1c0002row50_col3,#T_c20e23ec_f7da_11eb_acef_0242ac1c0002row52_col0,#T_c20e23ec_f7da_11eb_acef_0242ac1c0002row52_col2,#T_c20e23ec_f7da_11eb_acef_0242ac1c0002row52_col3,#T_c20e23ec_f7da_11eb_acef_0242ac1c0002row53_col0,#T_c20e23ec_f7da_11eb_acef_0242ac1c0002row53_col1,#T_c20e23ec_f7da_11eb_acef_0242ac1c0002row53_col3,#T_c20e23ec_f7da_11eb_acef_0242ac1c0002row54_col0,#T_c20e23ec_f7da_11eb_acef_0242ac1c0002row54_col2,#T_c20e23ec_f7da_11eb_acef_0242ac1c0002row54_col3,#T_c20e23ec_f7da_11eb_acef_0242ac1c0002row55_col0,#T_c20e23ec_f7da_11eb_acef_0242ac1c0002row55_col1,#T_c20e23ec_f7da_11eb_acef_0242ac1c0002row56_col0,#T_c20e23ec_f7da_11eb_acef_0242ac1c0002row56_col1,#T_c20e23ec_f7da_11eb_acef_0242ac1c0002row57_col1,#T_c20e23ec_f7da_11eb_acef_0242ac1c0002row58_col0,#T_c20e23ec_f7da_11eb_acef_0242ac1c0002row58_col1,#T_c20e23ec_f7da_11eb_acef_0242ac1c0002row58_col2,#T_c20e23ec_f7da_11eb_acef_0242ac1c0002row59_col1,#T_c20e23ec_f7da_11eb_acef_0242ac1c0002row60_col1,#T_c20e23ec_f7da_11eb_acef_0242ac1c0002row60_col2,#T_c20e23ec_f7da_11eb_acef_0242ac1c0002row60_col3,#T_c20e23ec_f7da_11eb_acef_0242ac1c0002row61_col2,#T_c20e23ec_f7da_11eb_acef_0242ac1c0002row61_col3,#T_c20e23ec_f7da_11eb_acef_0242ac1c0002row62_col3,#T_c20e23ec_f7da_11eb_acef_0242ac1c0002row63_col0,#T_c20e23ec_f7da_11eb_acef_0242ac1c0002row63_col1,#T_c20e23ec_f7da_11eb_acef_0242ac1c0002row63_col2{\n",
              "            background-color:  #f0f1f2;\n",
              "            color:  #000000;\n",
              "        }#T_c20e23ec_f7da_11eb_acef_0242ac1c0002row0_col1,#T_c20e23ec_f7da_11eb_acef_0242ac1c0002row1_col0,#T_c20e23ec_f7da_11eb_acef_0242ac1c0002row2_col3,#T_c20e23ec_f7da_11eb_acef_0242ac1c0002row6_col1,#T_c20e23ec_f7da_11eb_acef_0242ac1c0002row7_col1,#T_c20e23ec_f7da_11eb_acef_0242ac1c0002row8_col0,#T_c20e23ec_f7da_11eb_acef_0242ac1c0002row10_col0,#T_c20e23ec_f7da_11eb_acef_0242ac1c0002row11_col3,#T_c20e23ec_f7da_11eb_acef_0242ac1c0002row14_col0,#T_c20e23ec_f7da_11eb_acef_0242ac1c0002row15_col1,#T_c20e23ec_f7da_11eb_acef_0242ac1c0002row20_col2,#T_c20e23ec_f7da_11eb_acef_0242ac1c0002row22_col0,#T_c20e23ec_f7da_11eb_acef_0242ac1c0002row23_col2,#T_c20e23ec_f7da_11eb_acef_0242ac1c0002row26_col3,#T_c20e23ec_f7da_11eb_acef_0242ac1c0002row30_col3,#T_c20e23ec_f7da_11eb_acef_0242ac1c0002row38_col1,#T_c20e23ec_f7da_11eb_acef_0242ac1c0002row43_col1,#T_c20e23ec_f7da_11eb_acef_0242ac1c0002row44_col2,#T_c20e23ec_f7da_11eb_acef_0242ac1c0002row46_col0,#T_c20e23ec_f7da_11eb_acef_0242ac1c0002row47_col1,#T_c20e23ec_f7da_11eb_acef_0242ac1c0002row50_col0,#T_c20e23ec_f7da_11eb_acef_0242ac1c0002row52_col1,#T_c20e23ec_f7da_11eb_acef_0242ac1c0002row53_col2,#T_c20e23ec_f7da_11eb_acef_0242ac1c0002row54_col1,#T_c20e23ec_f7da_11eb_acef_0242ac1c0002row58_col3,#T_c20e23ec_f7da_11eb_acef_0242ac1c0002row60_col0,#T_c20e23ec_f7da_11eb_acef_0242ac1c0002row63_col3{\n",
              "            background-color:  #778ce4;\n",
              "            color:  #000000;\n",
              "        }#T_c20e23ec_f7da_11eb_acef_0242ac1c0002row3_col0,#T_c20e23ec_f7da_11eb_acef_0242ac1c0002row4_col2,#T_c20e23ec_f7da_11eb_acef_0242ac1c0002row9_col1,#T_c20e23ec_f7da_11eb_acef_0242ac1c0002row13_col2,#T_c20e23ec_f7da_11eb_acef_0242ac1c0002row13_col3,#T_c20e23ec_f7da_11eb_acef_0242ac1c0002row15_col0,#T_c20e23ec_f7da_11eb_acef_0242ac1c0002row17_col0,#T_c20e23ec_f7da_11eb_acef_0242ac1c0002row17_col2,#T_c20e23ec_f7da_11eb_acef_0242ac1c0002row33_col1,#T_c20e23ec_f7da_11eb_acef_0242ac1c0002row35_col0,#T_c20e23ec_f7da_11eb_acef_0242ac1c0002row41_col0,#T_c20e23ec_f7da_11eb_acef_0242ac1c0002row42_col1,#T_c20e23ec_f7da_11eb_acef_0242ac1c0002row42_col3,#T_c20e23ec_f7da_11eb_acef_0242ac1c0002row43_col0,#T_c20e23ec_f7da_11eb_acef_0242ac1c0002row49_col0,#T_c20e23ec_f7da_11eb_acef_0242ac1c0002row51_col1,#T_c20e23ec_f7da_11eb_acef_0242ac1c0002row59_col0{\n",
              "            background-color:  #f0f0f2;\n",
              "            color:  #000000;\n",
              "        }#T_c20e23ec_f7da_11eb_acef_0242ac1c0002row3_col1{\n",
              "            background-color:  #788ce4;\n",
              "            color:  #000000;\n",
              "        }#T_c20e23ec_f7da_11eb_acef_0242ac1c0002row4_col0,#T_c20e23ec_f7da_11eb_acef_0242ac1c0002row41_col2,#T_c20e23ec_f7da_11eb_acef_0242ac1c0002row45_col1{\n",
              "            background-color:  #798ee4;\n",
              "            color:  #000000;\n",
              "        }#T_c20e23ec_f7da_11eb_acef_0242ac1c0002row4_col3,#T_c20e23ec_f7da_11eb_acef_0242ac1c0002row28_col3,#T_c20e23ec_f7da_11eb_acef_0242ac1c0002row31_col0,#T_c20e23ec_f7da_11eb_acef_0242ac1c0002row32_col0,#T_c20e23ec_f7da_11eb_acef_0242ac1c0002row33_col2,#T_c20e23ec_f7da_11eb_acef_0242ac1c0002row35_col2,#T_c20e23ec_f7da_11eb_acef_0242ac1c0002row41_col3,#T_c20e23ec_f7da_11eb_acef_0242ac1c0002row45_col0,#T_c20e23ec_f7da_11eb_acef_0242ac1c0002row57_col3{\n",
              "            background-color:  #eeeff2;\n",
              "            color:  #000000;\n",
              "        }#T_c20e23ec_f7da_11eb_acef_0242ac1c0002row5_col2,#T_c20e23ec_f7da_11eb_acef_0242ac1c0002row36_col3{\n",
              "            background-color:  #e8eaf1;\n",
              "            color:  #000000;\n",
              "        }#T_c20e23ec_f7da_11eb_acef_0242ac1c0002row5_col3,#T_c20e23ec_f7da_11eb_acef_0242ac1c0002row24_col2{\n",
              "            background-color:  #7f92e5;\n",
              "            color:  #000000;\n",
              "        }#T_c20e23ec_f7da_11eb_acef_0242ac1c0002row9_col0{\n",
              "            background-color:  #e7e9f1;\n",
              "            color:  #000000;\n",
              "        }#T_c20e23ec_f7da_11eb_acef_0242ac1c0002row9_col2{\n",
              "            background-color:  #8497e5;\n",
              "            color:  #000000;\n",
              "        }#T_c20e23ec_f7da_11eb_acef_0242ac1c0002row9_col3,#T_c20e23ec_f7da_11eb_acef_0242ac1c0002row27_col3{\n",
              "            background-color:  #edeef2;\n",
              "            color:  #000000;\n",
              "        }#T_c20e23ec_f7da_11eb_acef_0242ac1c0002row12_col2,#T_c20e23ec_f7da_11eb_acef_0242ac1c0002row13_col0,#T_c20e23ec_f7da_11eb_acef_0242ac1c0002row16_col1,#T_c20e23ec_f7da_11eb_acef_0242ac1c0002row17_col3,#T_c20e23ec_f7da_11eb_acef_0242ac1c0002row49_col3,#T_c20e23ec_f7da_11eb_acef_0242ac1c0002row61_col1{\n",
              "            background-color:  #788de4;\n",
              "            color:  #000000;\n",
              "        }#T_c20e23ec_f7da_11eb_acef_0242ac1c0002row12_col3,#T_c20e23ec_f7da_11eb_acef_0242ac1c0002row16_col0,#T_c20e23ec_f7da_11eb_acef_0242ac1c0002row25_col2,#T_c20e23ec_f7da_11eb_acef_0242ac1c0002row29_col0{\n",
              "            background-color:  #efeff2;\n",
              "            color:  #000000;\n",
              "        }#T_c20e23ec_f7da_11eb_acef_0242ac1c0002row18_col2{\n",
              "            background-color:  #bac3ec;\n",
              "            color:  #000000;\n",
              "        }#T_c20e23ec_f7da_11eb_acef_0242ac1c0002row18_col3{\n",
              "            background-color:  #aeb9ea;\n",
              "            color:  #000000;\n",
              "        }#T_c20e23ec_f7da_11eb_acef_0242ac1c0002row19_col0{\n",
              "            background-color:  #9dace8;\n",
              "            color:  #000000;\n",
              "        }#T_c20e23ec_f7da_11eb_acef_0242ac1c0002row19_col2{\n",
              "            background-color:  #d0d6ee;\n",
              "            color:  #000000;\n",
              "        }#T_c20e23ec_f7da_11eb_acef_0242ac1c0002row19_col3{\n",
              "            background-color:  #eaebf1;\n",
              "            color:  #000000;\n",
              "        }#T_c20e23ec_f7da_11eb_acef_0242ac1c0002row21_col2,#T_c20e23ec_f7da_11eb_acef_0242ac1c0002row37_col3{\n",
              "            background-color:  #e9eaf1;\n",
              "            color:  #000000;\n",
              "        }#T_c20e23ec_f7da_11eb_acef_0242ac1c0002row21_col3{\n",
              "            background-color:  #7e92e5;\n",
              "            color:  #000000;\n",
              "        }#T_c20e23ec_f7da_11eb_acef_0242ac1c0002row24_col0,#T_c20e23ec_f7da_11eb_acef_0242ac1c0002row24_col3,#T_c20e23ec_f7da_11eb_acef_0242ac1c0002row28_col1,#T_c20e23ec_f7da_11eb_acef_0242ac1c0002row37_col1,#T_c20e23ec_f7da_11eb_acef_0242ac1c0002row51_col0,#T_c20e23ec_f7da_11eb_acef_0242ac1c0002row57_col0{\n",
              "            background-color:  #ecedf2;\n",
              "            color:  #000000;\n",
              "        }#T_c20e23ec_f7da_11eb_acef_0242ac1c0002row25_col0{\n",
              "            background-color:  #798de4;\n",
              "            color:  #000000;\n",
              "        }#T_c20e23ec_f7da_11eb_acef_0242ac1c0002row27_col0{\n",
              "            background-color:  #7b8fe4;\n",
              "            color:  #000000;\n",
              "        }#T_c20e23ec_f7da_11eb_acef_0242ac1c0002row28_col0,#T_c20e23ec_f7da_11eb_acef_0242ac1c0002row48_col1,#T_c20e23ec_f7da_11eb_acef_0242ac1c0002row49_col2,#T_c20e23ec_f7da_11eb_acef_0242ac1c0002row61_col0{\n",
              "            background-color:  #eff0f2;\n",
              "            color:  #000000;\n",
              "        }#T_c20e23ec_f7da_11eb_acef_0242ac1c0002row28_col2{\n",
              "            background-color:  #7e92e4;\n",
              "            color:  #000000;\n",
              "        }#T_c20e23ec_f7da_11eb_acef_0242ac1c0002row29_col2{\n",
              "            background-color:  #dbdff0;\n",
              "            color:  #000000;\n",
              "        }#T_c20e23ec_f7da_11eb_acef_0242ac1c0002row29_col3,#T_c20e23ec_f7da_11eb_acef_0242ac1c0002row34_col2{\n",
              "            background-color:  #8e9fe6;\n",
              "            color:  #000000;\n",
              "        }#T_c20e23ec_f7da_11eb_acef_0242ac1c0002row31_col1,#T_c20e23ec_f7da_11eb_acef_0242ac1c0002row48_col0{\n",
              "            background-color:  #b7c1eb;\n",
              "            color:  #000000;\n",
              "        }#T_c20e23ec_f7da_11eb_acef_0242ac1c0002row31_col2{\n",
              "            background-color:  #cdd3ee;\n",
              "            color:  #000000;\n",
              "        }#T_c20e23ec_f7da_11eb_acef_0242ac1c0002row31_col3{\n",
              "            background-color:  #d6dbef;\n",
              "            color:  #000000;\n",
              "        }#T_c20e23ec_f7da_11eb_acef_0242ac1c0002row32_col2,#T_c20e23ec_f7da_11eb_acef_0242ac1c0002row35_col3{\n",
              "            background-color:  #7a8ee4;\n",
              "            color:  #000000;\n",
              "        }#T_c20e23ec_f7da_11eb_acef_0242ac1c0002row33_col0{\n",
              "            background-color:  #d5daef;\n",
              "            color:  #000000;\n",
              "        }#T_c20e23ec_f7da_11eb_acef_0242ac1c0002row33_col3{\n",
              "            background-color:  #94a4e7;\n",
              "            color:  #000000;\n",
              "        }#T_c20e23ec_f7da_11eb_acef_0242ac1c0002row34_col3{\n",
              "            background-color:  #d9ddef;\n",
              "            color:  #000000;\n",
              "        }#T_c20e23ec_f7da_11eb_acef_0242ac1c0002row36_col0,#T_c20e23ec_f7da_11eb_acef_0242ac1c0002row37_col0{\n",
              "            background-color:  #b1bceb;\n",
              "            color:  #000000;\n",
              "        }#T_c20e23ec_f7da_11eb_acef_0242ac1c0002row36_col2,#T_c20e23ec_f7da_11eb_acef_0242ac1c0002row48_col2{\n",
              "            background-color:  #bfc7ec;\n",
              "            color:  #000000;\n",
              "        }#T_c20e23ec_f7da_11eb_acef_0242ac1c0002row37_col2{\n",
              "            background-color:  #c3cbed;\n",
              "            color:  #000000;\n",
              "        }#T_c20e23ec_f7da_11eb_acef_0242ac1c0002row39_col0{\n",
              "            background-color:  #cdd4ee;\n",
              "            color:  #000000;\n",
              "        }#T_c20e23ec_f7da_11eb_acef_0242ac1c0002row39_col1,#T_c20e23ec_f7da_11eb_acef_0242ac1c0002row40_col2{\n",
              "            background-color:  #e6e8f1;\n",
              "            color:  #000000;\n",
              "        }#T_c20e23ec_f7da_11eb_acef_0242ac1c0002row39_col2{\n",
              "            background-color:  #b3bdeb;\n",
              "            color:  #000000;\n",
              "        }#T_c20e23ec_f7da_11eb_acef_0242ac1c0002row39_col3{\n",
              "            background-color:  #e1e4f0;\n",
              "            color:  #000000;\n",
              "        }#T_c20e23ec_f7da_11eb_acef_0242ac1c0002row40_col0{\n",
              "            background-color:  #a6b3e9;\n",
              "            color:  #000000;\n",
              "        }#T_c20e23ec_f7da_11eb_acef_0242ac1c0002row40_col3{\n",
              "            background-color:  #ccd2ee;\n",
              "            color:  #000000;\n",
              "        }#T_c20e23ec_f7da_11eb_acef_0242ac1c0002row42_col0{\n",
              "            background-color:  #a9b5ea;\n",
              "            color:  #000000;\n",
              "        }#T_c20e23ec_f7da_11eb_acef_0242ac1c0002row42_col2{\n",
              "            background-color:  #c0c8ec;\n",
              "            color:  #000000;\n",
              "        }#T_c20e23ec_f7da_11eb_acef_0242ac1c0002row48_col3{\n",
              "            background-color:  #e3e6f1;\n",
              "            color:  #000000;\n",
              "        }#T_c20e23ec_f7da_11eb_acef_0242ac1c0002row51_col2{\n",
              "            background-color:  #c8cfed;\n",
              "            color:  #000000;\n",
              "        }#T_c20e23ec_f7da_11eb_acef_0242ac1c0002row51_col3{\n",
              "            background-color:  #a4b1e9;\n",
              "            color:  #000000;\n",
              "        }#T_c20e23ec_f7da_11eb_acef_0242ac1c0002row55_col2{\n",
              "            background-color:  #d7dcef;\n",
              "            color:  #000000;\n",
              "        }#T_c20e23ec_f7da_11eb_acef_0242ac1c0002row55_col3{\n",
              "            background-color:  #90a0e7;\n",
              "            color:  #000000;\n",
              "        }#T_c20e23ec_f7da_11eb_acef_0242ac1c0002row56_col2{\n",
              "            background-color:  #a6b2e9;\n",
              "            color:  #000000;\n",
              "        }#T_c20e23ec_f7da_11eb_acef_0242ac1c0002row56_col3{\n",
              "            background-color:  #c2caed;\n",
              "            color:  #000000;\n",
              "        }#T_c20e23ec_f7da_11eb_acef_0242ac1c0002row57_col2{\n",
              "            background-color:  #7e91e4;\n",
              "            color:  #000000;\n",
              "        }#T_c20e23ec_f7da_11eb_acef_0242ac1c0002row59_col2{\n",
              "            background-color:  #99a8e8;\n",
              "            color:  #000000;\n",
              "        }#T_c20e23ec_f7da_11eb_acef_0242ac1c0002row59_col3{\n",
              "            background-color:  #cfd5ee;\n",
              "            color:  #000000;\n",
              "        }#T_c20e23ec_f7da_11eb_acef_0242ac1c0002row62_col0{\n",
              "            background-color:  #dadef0;\n",
              "            color:  #000000;\n",
              "        }#T_c20e23ec_f7da_11eb_acef_0242ac1c0002row62_col1{\n",
              "            background-color:  #adb8ea;\n",
              "            color:  #000000;\n",
              "        }#T_c20e23ec_f7da_11eb_acef_0242ac1c0002row62_col2{\n",
              "            background-color:  #d1d7ee;\n",
              "            color:  #000000;\n",
              "        }</style><table id=\"T_c20e23ec_f7da_11eb_acef_0242ac1c0002\" ><thead>    <tr>        <th class=\"blank level0\" ></th>        <th class=\"col_heading level0 col0\" >World</th>        <th class=\"col_heading level0 col1\" >Sports</th>        <th class=\"col_heading level0 col2\" >Business</th>        <th class=\"col_heading level0 col3\" >Sci/Tech</th>    </tr></thead><tbody>\n",
              "                <tr>\n",
              "                        <th id=\"T_c20e23ec_f7da_11eb_acef_0242ac1c0002level0_row0\" class=\"row_heading level0 row0\" >0</th>\n",
              "                        <td id=\"T_c20e23ec_f7da_11eb_acef_0242ac1c0002row0_col0\" class=\"data row0 col0\" >0.00%</td>\n",
              "                        <td id=\"T_c20e23ec_f7da_11eb_acef_0242ac1c0002row0_col1\" class=\"data row0 col1\" >99.99%</td>\n",
              "                        <td id=\"T_c20e23ec_f7da_11eb_acef_0242ac1c0002row0_col2\" class=\"data row0 col2\" >0.01%</td>\n",
              "                        <td id=\"T_c20e23ec_f7da_11eb_acef_0242ac1c0002row0_col3\" class=\"data row0 col3\" >0.00%</td>\n",
              "            </tr>\n",
              "            <tr>\n",
              "                        <th id=\"T_c20e23ec_f7da_11eb_acef_0242ac1c0002level0_row1\" class=\"row_heading level0 row1\" >1</th>\n",
              "                        <td id=\"T_c20e23ec_f7da_11eb_acef_0242ac1c0002row1_col0\" class=\"data row1 col0\" >99.97%</td>\n",
              "                        <td id=\"T_c20e23ec_f7da_11eb_acef_0242ac1c0002row1_col1\" class=\"data row1 col1\" >0.01%</td>\n",
              "                        <td id=\"T_c20e23ec_f7da_11eb_acef_0242ac1c0002row1_col2\" class=\"data row1 col2\" >0.01%</td>\n",
              "                        <td id=\"T_c20e23ec_f7da_11eb_acef_0242ac1c0002row1_col3\" class=\"data row1 col3\" >0.01%</td>\n",
              "            </tr>\n",
              "            <tr>\n",
              "                        <th id=\"T_c20e23ec_f7da_11eb_acef_0242ac1c0002level0_row2\" class=\"row_heading level0 row2\" >2</th>\n",
              "                        <td id=\"T_c20e23ec_f7da_11eb_acef_0242ac1c0002row2_col0\" class=\"data row2 col0\" >0.00%</td>\n",
              "                        <td id=\"T_c20e23ec_f7da_11eb_acef_0242ac1c0002row2_col1\" class=\"data row2 col1\" >0.00%</td>\n",
              "                        <td id=\"T_c20e23ec_f7da_11eb_acef_0242ac1c0002row2_col2\" class=\"data row2 col2\" >0.11%</td>\n",
              "                        <td id=\"T_c20e23ec_f7da_11eb_acef_0242ac1c0002row2_col3\" class=\"data row2 col3\" >99.89%</td>\n",
              "            </tr>\n",
              "            <tr>\n",
              "                        <th id=\"T_c20e23ec_f7da_11eb_acef_0242ac1c0002level0_row3\" class=\"row_heading level0 row3\" >3</th>\n",
              "                        <td id=\"T_c20e23ec_f7da_11eb_acef_0242ac1c0002row3_col0\" class=\"data row3 col0\" >0.77%</td>\n",
              "                        <td id=\"T_c20e23ec_f7da_11eb_acef_0242ac1c0002row3_col1\" class=\"data row3 col1\" >99.16%</td>\n",
              "                        <td id=\"T_c20e23ec_f7da_11eb_acef_0242ac1c0002row3_col2\" class=\"data row3 col2\" >0.06%</td>\n",
              "                        <td id=\"T_c20e23ec_f7da_11eb_acef_0242ac1c0002row3_col3\" class=\"data row3 col3\" >0.01%</td>\n",
              "            </tr>\n",
              "            <tr>\n",
              "                        <th id=\"T_c20e23ec_f7da_11eb_acef_0242ac1c0002level0_row4\" class=\"row_heading level0 row4\" >4</th>\n",
              "                        <td id=\"T_c20e23ec_f7da_11eb_acef_0242ac1c0002row4_col0\" class=\"data row4 col0\" >97.73%</td>\n",
              "                        <td id=\"T_c20e23ec_f7da_11eb_acef_0242ac1c0002row4_col1\" class=\"data row4 col1\" >0.18%</td>\n",
              "                        <td id=\"T_c20e23ec_f7da_11eb_acef_0242ac1c0002row4_col2\" class=\"data row4 col2\" >0.48%</td>\n",
              "                        <td id=\"T_c20e23ec_f7da_11eb_acef_0242ac1c0002row4_col3\" class=\"data row4 col3\" >1.61%</td>\n",
              "            </tr>\n",
              "            <tr>\n",
              "                        <th id=\"T_c20e23ec_f7da_11eb_acef_0242ac1c0002level0_row5\" class=\"row_heading level0 row5\" >5</th>\n",
              "                        <td id=\"T_c20e23ec_f7da_11eb_acef_0242ac1c0002row5_col0\" class=\"data row5 col0\" >0.13%</td>\n",
              "                        <td id=\"T_c20e23ec_f7da_11eb_acef_0242ac1c0002row5_col1\" class=\"data row5 col1\" >0.05%</td>\n",
              "                        <td id=\"T_c20e23ec_f7da_11eb_acef_0242ac1c0002row5_col2\" class=\"data row5 col2\" >6.65%</td>\n",
              "                        <td id=\"T_c20e23ec_f7da_11eb_acef_0242ac1c0002row5_col3\" class=\"data row5 col3\" >93.17%</td>\n",
              "            </tr>\n",
              "            <tr>\n",
              "                        <th id=\"T_c20e23ec_f7da_11eb_acef_0242ac1c0002level0_row6\" class=\"row_heading level0 row6\" >6</th>\n",
              "                        <td id=\"T_c20e23ec_f7da_11eb_acef_0242ac1c0002row6_col0\" class=\"data row6 col0\" >0.04%</td>\n",
              "                        <td id=\"T_c20e23ec_f7da_11eb_acef_0242ac1c0002row6_col1\" class=\"data row6 col1\" >99.84%</td>\n",
              "                        <td id=\"T_c20e23ec_f7da_11eb_acef_0242ac1c0002row6_col2\" class=\"data row6 col2\" >0.06%</td>\n",
              "                        <td id=\"T_c20e23ec_f7da_11eb_acef_0242ac1c0002row6_col3\" class=\"data row6 col3\" >0.06%</td>\n",
              "            </tr>\n",
              "            <tr>\n",
              "                        <th id=\"T_c20e23ec_f7da_11eb_acef_0242ac1c0002level0_row7\" class=\"row_heading level0 row7\" >7</th>\n",
              "                        <td id=\"T_c20e23ec_f7da_11eb_acef_0242ac1c0002row7_col0\" class=\"data row7 col0\" >0.32%</td>\n",
              "                        <td id=\"T_c20e23ec_f7da_11eb_acef_0242ac1c0002row7_col1\" class=\"data row7 col1\" >99.68%</td>\n",
              "                        <td id=\"T_c20e23ec_f7da_11eb_acef_0242ac1c0002row7_col2\" class=\"data row7 col2\" >0.00%</td>\n",
              "                        <td id=\"T_c20e23ec_f7da_11eb_acef_0242ac1c0002row7_col3\" class=\"data row7 col3\" >0.00%</td>\n",
              "            </tr>\n",
              "            <tr>\n",
              "                        <th id=\"T_c20e23ec_f7da_11eb_acef_0242ac1c0002level0_row8\" class=\"row_heading level0 row8\" >8</th>\n",
              "                        <td id=\"T_c20e23ec_f7da_11eb_acef_0242ac1c0002row8_col0\" class=\"data row8 col0\" >99.89%</td>\n",
              "                        <td id=\"T_c20e23ec_f7da_11eb_acef_0242ac1c0002row8_col1\" class=\"data row8 col1\" >0.01%</td>\n",
              "                        <td id=\"T_c20e23ec_f7da_11eb_acef_0242ac1c0002row8_col2\" class=\"data row8 col2\" >0.04%</td>\n",
              "                        <td id=\"T_c20e23ec_f7da_11eb_acef_0242ac1c0002row8_col3\" class=\"data row8 col3\" >0.07%</td>\n",
              "            </tr>\n",
              "            <tr>\n",
              "                        <th id=\"T_c20e23ec_f7da_11eb_acef_0242ac1c0002level0_row9\" class=\"row_heading level0 row9\" >9</th>\n",
              "                        <td id=\"T_c20e23ec_f7da_11eb_acef_0242ac1c0002row9_col0\" class=\"data row9 col0\" >8.18%</td>\n",
              "                        <td id=\"T_c20e23ec_f7da_11eb_acef_0242ac1c0002row9_col1\" class=\"data row9 col1\" >0.52%</td>\n",
              "                        <td id=\"T_c20e23ec_f7da_11eb_acef_0242ac1c0002row9_col2\" class=\"data row9 col2\" >88.73%</td>\n",
              "                        <td id=\"T_c20e23ec_f7da_11eb_acef_0242ac1c0002row9_col3\" class=\"data row9 col3\" >2.57%</td>\n",
              "            </tr>\n",
              "            <tr>\n",
              "                        <th id=\"T_c20e23ec_f7da_11eb_acef_0242ac1c0002level0_row10\" class=\"row_heading level0 row10\" >10</th>\n",
              "                        <td id=\"T_c20e23ec_f7da_11eb_acef_0242ac1c0002row10_col0\" class=\"data row10 col0\" >100.00%</td>\n",
              "                        <td id=\"T_c20e23ec_f7da_11eb_acef_0242ac1c0002row10_col1\" class=\"data row10 col1\" >0.00%</td>\n",
              "                        <td id=\"T_c20e23ec_f7da_11eb_acef_0242ac1c0002row10_col2\" class=\"data row10 col2\" >0.00%</td>\n",
              "                        <td id=\"T_c20e23ec_f7da_11eb_acef_0242ac1c0002row10_col3\" class=\"data row10 col3\" >0.00%</td>\n",
              "            </tr>\n",
              "            <tr>\n",
              "                        <th id=\"T_c20e23ec_f7da_11eb_acef_0242ac1c0002level0_row11\" class=\"row_heading level0 row11\" >11</th>\n",
              "                        <td id=\"T_c20e23ec_f7da_11eb_acef_0242ac1c0002row11_col0\" class=\"data row11 col0\" >0.00%</td>\n",
              "                        <td id=\"T_c20e23ec_f7da_11eb_acef_0242ac1c0002row11_col1\" class=\"data row11 col1\" >0.00%</td>\n",
              "                        <td id=\"T_c20e23ec_f7da_11eb_acef_0242ac1c0002row11_col2\" class=\"data row11 col2\" >0.00%</td>\n",
              "                        <td id=\"T_c20e23ec_f7da_11eb_acef_0242ac1c0002row11_col3\" class=\"data row11 col3\" >100.00%</td>\n",
              "            </tr>\n",
              "            <tr>\n",
              "                        <th id=\"T_c20e23ec_f7da_11eb_acef_0242ac1c0002level0_row12\" class=\"row_heading level0 row12\" >12</th>\n",
              "                        <td id=\"T_c20e23ec_f7da_11eb_acef_0242ac1c0002row12_col0\" class=\"data row12 col0\" >0.23%</td>\n",
              "                        <td id=\"T_c20e23ec_f7da_11eb_acef_0242ac1c0002row12_col1\" class=\"data row12 col1\" >0.11%</td>\n",
              "                        <td id=\"T_c20e23ec_f7da_11eb_acef_0242ac1c0002row12_col2\" class=\"data row12 col2\" >98.49%</td>\n",
              "                        <td id=\"T_c20e23ec_f7da_11eb_acef_0242ac1c0002row12_col3\" class=\"data row12 col3\" >1.18%</td>\n",
              "            </tr>\n",
              "            <tr>\n",
              "                        <th id=\"T_c20e23ec_f7da_11eb_acef_0242ac1c0002level0_row13\" class=\"row_heading level0 row13\" >13</th>\n",
              "                        <td id=\"T_c20e23ec_f7da_11eb_acef_0242ac1c0002row13_col0\" class=\"data row13 col0\" >98.50%</td>\n",
              "                        <td id=\"T_c20e23ec_f7da_11eb_acef_0242ac1c0002row13_col1\" class=\"data row13 col1\" >0.13%</td>\n",
              "                        <td id=\"T_c20e23ec_f7da_11eb_acef_0242ac1c0002row13_col2\" class=\"data row13 col2\" >0.75%</td>\n",
              "                        <td id=\"T_c20e23ec_f7da_11eb_acef_0242ac1c0002row13_col3\" class=\"data row13 col3\" >0.61%</td>\n",
              "            </tr>\n",
              "            <tr>\n",
              "                        <th id=\"T_c20e23ec_f7da_11eb_acef_0242ac1c0002level0_row14\" class=\"row_heading level0 row14\" >14</th>\n",
              "                        <td id=\"T_c20e23ec_f7da_11eb_acef_0242ac1c0002row14_col0\" class=\"data row14 col0\" >99.99%</td>\n",
              "                        <td id=\"T_c20e23ec_f7da_11eb_acef_0242ac1c0002row14_col1\" class=\"data row14 col1\" >0.00%</td>\n",
              "                        <td id=\"T_c20e23ec_f7da_11eb_acef_0242ac1c0002row14_col2\" class=\"data row14 col2\" >0.00%</td>\n",
              "                        <td id=\"T_c20e23ec_f7da_11eb_acef_0242ac1c0002row14_col3\" class=\"data row14 col3\" >0.01%</td>\n",
              "            </tr>\n",
              "            <tr>\n",
              "                        <th id=\"T_c20e23ec_f7da_11eb_acef_0242ac1c0002level0_row15\" class=\"row_heading level0 row15\" >15</th>\n",
              "                        <td id=\"T_c20e23ec_f7da_11eb_acef_0242ac1c0002row15_col0\" class=\"data row15 col0\" >0.66%</td>\n",
              "                        <td id=\"T_c20e23ec_f7da_11eb_acef_0242ac1c0002row15_col1\" class=\"data row15 col1\" >99.31%</td>\n",
              "                        <td id=\"T_c20e23ec_f7da_11eb_acef_0242ac1c0002row15_col2\" class=\"data row15 col2\" >0.02%</td>\n",
              "                        <td id=\"T_c20e23ec_f7da_11eb_acef_0242ac1c0002row15_col3\" class=\"data row15 col3\" >0.01%</td>\n",
              "            </tr>\n",
              "            <tr>\n",
              "                        <th id=\"T_c20e23ec_f7da_11eb_acef_0242ac1c0002level0_row16\" class=\"row_heading level0 row16\" >16</th>\n",
              "                        <td id=\"T_c20e23ec_f7da_11eb_acef_0242ac1c0002row16_col0\" class=\"data row16 col0\" >1.46%</td>\n",
              "                        <td id=\"T_c20e23ec_f7da_11eb_acef_0242ac1c0002row16_col1\" class=\"data row16 col1\" >98.52%</td>\n",
              "                        <td id=\"T_c20e23ec_f7da_11eb_acef_0242ac1c0002row16_col2\" class=\"data row16 col2\" >0.00%</td>\n",
              "                        <td id=\"T_c20e23ec_f7da_11eb_acef_0242ac1c0002row16_col3\" class=\"data row16 col3\" >0.02%</td>\n",
              "            </tr>\n",
              "            <tr>\n",
              "                        <th id=\"T_c20e23ec_f7da_11eb_acef_0242ac1c0002level0_row17\" class=\"row_heading level0 row17\" >17</th>\n",
              "                        <td id=\"T_c20e23ec_f7da_11eb_acef_0242ac1c0002row17_col0\" class=\"data row17 col0\" >0.65%</td>\n",
              "                        <td id=\"T_c20e23ec_f7da_11eb_acef_0242ac1c0002row17_col1\" class=\"data row17 col1\" >0.04%</td>\n",
              "                        <td id=\"T_c20e23ec_f7da_11eb_acef_0242ac1c0002row17_col2\" class=\"data row17 col2\" >0.67%</td>\n",
              "                        <td id=\"T_c20e23ec_f7da_11eb_acef_0242ac1c0002row17_col3\" class=\"data row17 col3\" >98.64%</td>\n",
              "            </tr>\n",
              "            <tr>\n",
              "                        <th id=\"T_c20e23ec_f7da_11eb_acef_0242ac1c0002level0_row18\" class=\"row_heading level0 row18\" >18</th>\n",
              "                        <td id=\"T_c20e23ec_f7da_11eb_acef_0242ac1c0002row18_col0\" class=\"data row18 col0\" >0.02%</td>\n",
              "                        <td id=\"T_c20e23ec_f7da_11eb_acef_0242ac1c0002row18_col1\" class=\"data row18 col1\" >0.03%</td>\n",
              "                        <td id=\"T_c20e23ec_f7da_11eb_acef_0242ac1c0002row18_col2\" class=\"data row18 col2\" >45.08%</td>\n",
              "                        <td id=\"T_c20e23ec_f7da_11eb_acef_0242ac1c0002row18_col3\" class=\"data row18 col3\" >54.88%</td>\n",
              "            </tr>\n",
              "            <tr>\n",
              "                        <th id=\"T_c20e23ec_f7da_11eb_acef_0242ac1c0002level0_row19\" class=\"row_heading level0 row19\" >19</th>\n",
              "                        <td id=\"T_c20e23ec_f7da_11eb_acef_0242ac1c0002row19_col0\" class=\"data row19 col0\" >68.05%</td>\n",
              "                        <td id=\"T_c20e23ec_f7da_11eb_acef_0242ac1c0002row19_col1\" class=\"data row19 col1\" >0.23%</td>\n",
              "                        <td id=\"T_c20e23ec_f7da_11eb_acef_0242ac1c0002row19_col2\" class=\"data row19 col2\" >26.42%</td>\n",
              "                        <td id=\"T_c20e23ec_f7da_11eb_acef_0242ac1c0002row19_col3\" class=\"data row19 col3\" >5.30%</td>\n",
              "            </tr>\n",
              "            <tr>\n",
              "                        <th id=\"T_c20e23ec_f7da_11eb_acef_0242ac1c0002level0_row20\" class=\"row_heading level0 row20\" >20</th>\n",
              "                        <td id=\"T_c20e23ec_f7da_11eb_acef_0242ac1c0002row20_col0\" class=\"data row20 col0\" >0.26%</td>\n",
              "                        <td id=\"T_c20e23ec_f7da_11eb_acef_0242ac1c0002row20_col1\" class=\"data row20 col1\" >0.02%</td>\n",
              "                        <td id=\"T_c20e23ec_f7da_11eb_acef_0242ac1c0002row20_col2\" class=\"data row20 col2\" >99.43%</td>\n",
              "                        <td id=\"T_c20e23ec_f7da_11eb_acef_0242ac1c0002row20_col3\" class=\"data row20 col3\" >0.29%</td>\n",
              "            </tr>\n",
              "            <tr>\n",
              "                        <th id=\"T_c20e23ec_f7da_11eb_acef_0242ac1c0002level0_row21\" class=\"row_heading level0 row21\" >21</th>\n",
              "                        <td id=\"T_c20e23ec_f7da_11eb_acef_0242ac1c0002row21_col0\" class=\"data row21 col0\" >0.04%</td>\n",
              "                        <td id=\"T_c20e23ec_f7da_11eb_acef_0242ac1c0002row21_col1\" class=\"data row21 col1\" >0.00%</td>\n",
              "                        <td id=\"T_c20e23ec_f7da_11eb_acef_0242ac1c0002row21_col2\" class=\"data row21 col2\" >6.44%</td>\n",
              "                        <td id=\"T_c20e23ec_f7da_11eb_acef_0242ac1c0002row21_col3\" class=\"data row21 col3\" >93.51%</td>\n",
              "            </tr>\n",
              "            <tr>\n",
              "                        <th id=\"T_c20e23ec_f7da_11eb_acef_0242ac1c0002level0_row22\" class=\"row_heading level0 row22\" >22</th>\n",
              "                        <td id=\"T_c20e23ec_f7da_11eb_acef_0242ac1c0002row22_col0\" class=\"data row22 col0\" >99.86%</td>\n",
              "                        <td id=\"T_c20e23ec_f7da_11eb_acef_0242ac1c0002row22_col1\" class=\"data row22 col1\" >0.06%</td>\n",
              "                        <td id=\"T_c20e23ec_f7da_11eb_acef_0242ac1c0002row22_col2\" class=\"data row22 col2\" >0.06%</td>\n",
              "                        <td id=\"T_c20e23ec_f7da_11eb_acef_0242ac1c0002row22_col3\" class=\"data row22 col3\" >0.02%</td>\n",
              "            </tr>\n",
              "            <tr>\n",
              "                        <th id=\"T_c20e23ec_f7da_11eb_acef_0242ac1c0002level0_row23\" class=\"row_heading level0 row23\" >23</th>\n",
              "                        <td id=\"T_c20e23ec_f7da_11eb_acef_0242ac1c0002row23_col0\" class=\"data row23 col0\" >0.03%</td>\n",
              "                        <td id=\"T_c20e23ec_f7da_11eb_acef_0242ac1c0002row23_col1\" class=\"data row23 col1\" >0.00%</td>\n",
              "                        <td id=\"T_c20e23ec_f7da_11eb_acef_0242ac1c0002row23_col2\" class=\"data row23 col2\" >99.95%</td>\n",
              "                        <td id=\"T_c20e23ec_f7da_11eb_acef_0242ac1c0002row23_col3\" class=\"data row23 col3\" >0.02%</td>\n",
              "            </tr>\n",
              "            <tr>\n",
              "                        <th id=\"T_c20e23ec_f7da_11eb_acef_0242ac1c0002level0_row24\" class=\"row_heading level0 row24\" >24</th>\n",
              "                        <td id=\"T_c20e23ec_f7da_11eb_acef_0242ac1c0002row24_col0\" class=\"data row24 col0\" >3.41%</td>\n",
              "                        <td id=\"T_c20e23ec_f7da_11eb_acef_0242ac1c0002row24_col1\" class=\"data row24 col1\" >0.00%</td>\n",
              "                        <td id=\"T_c20e23ec_f7da_11eb_acef_0242ac1c0002row24_col2\" class=\"data row24 col2\" >93.24%</td>\n",
              "                        <td id=\"T_c20e23ec_f7da_11eb_acef_0242ac1c0002row24_col3\" class=\"data row24 col3\" >3.35%</td>\n",
              "            </tr>\n",
              "            <tr>\n",
              "                        <th id=\"T_c20e23ec_f7da_11eb_acef_0242ac1c0002level0_row25\" class=\"row_heading level0 row25\" >25</th>\n",
              "                        <td id=\"T_c20e23ec_f7da_11eb_acef_0242ac1c0002row25_col0\" class=\"data row25 col0\" >98.28%</td>\n",
              "                        <td id=\"T_c20e23ec_f7da_11eb_acef_0242ac1c0002row25_col1\" class=\"data row25 col1\" >0.27%</td>\n",
              "                        <td id=\"T_c20e23ec_f7da_11eb_acef_0242ac1c0002row25_col2\" class=\"data row25 col2\" >1.23%</td>\n",
              "                        <td id=\"T_c20e23ec_f7da_11eb_acef_0242ac1c0002row25_col3\" class=\"data row25 col3\" >0.22%</td>\n",
              "            </tr>\n",
              "            <tr>\n",
              "                        <th id=\"T_c20e23ec_f7da_11eb_acef_0242ac1c0002level0_row26\" class=\"row_heading level0 row26\" >26</th>\n",
              "                        <td id=\"T_c20e23ec_f7da_11eb_acef_0242ac1c0002row26_col0\" class=\"data row26 col0\" >0.01%</td>\n",
              "                        <td id=\"T_c20e23ec_f7da_11eb_acef_0242ac1c0002row26_col1\" class=\"data row26 col1\" >0.00%</td>\n",
              "                        <td id=\"T_c20e23ec_f7da_11eb_acef_0242ac1c0002row26_col2\" class=\"data row26 col2\" >0.06%</td>\n",
              "                        <td id=\"T_c20e23ec_f7da_11eb_acef_0242ac1c0002row26_col3\" class=\"data row26 col3\" >99.93%</td>\n",
              "            </tr>\n",
              "            <tr>\n",
              "                        <th id=\"T_c20e23ec_f7da_11eb_acef_0242ac1c0002level0_row27\" class=\"row_heading level0 row27\" >27</th>\n",
              "                        <td id=\"T_c20e23ec_f7da_11eb_acef_0242ac1c0002row27_col0\" class=\"data row27 col0\" >96.48%</td>\n",
              "                        <td id=\"T_c20e23ec_f7da_11eb_acef_0242ac1c0002row27_col1\" class=\"data row27 col1\" >0.05%</td>\n",
              "                        <td id=\"T_c20e23ec_f7da_11eb_acef_0242ac1c0002row27_col2\" class=\"data row27 col2\" >0.39%</td>\n",
              "                        <td id=\"T_c20e23ec_f7da_11eb_acef_0242ac1c0002row27_col3\" class=\"data row27 col3\" >3.08%</td>\n",
              "            </tr>\n",
              "            <tr>\n",
              "                        <th id=\"T_c20e23ec_f7da_11eb_acef_0242ac1c0002level0_row28\" class=\"row_heading level0 row28\" >28</th>\n",
              "                        <td id=\"T_c20e23ec_f7da_11eb_acef_0242ac1c0002row28_col0\" class=\"data row28 col0\" >1.02%</td>\n",
              "                        <td id=\"T_c20e23ec_f7da_11eb_acef_0242ac1c0002row28_col1\" class=\"data row28 col1\" >3.31%</td>\n",
              "                        <td id=\"T_c20e23ec_f7da_11eb_acef_0242ac1c0002row28_col2\" class=\"data row28 col2\" >93.84%</td>\n",
              "                        <td id=\"T_c20e23ec_f7da_11eb_acef_0242ac1c0002row28_col3\" class=\"data row28 col3\" >1.84%</td>\n",
              "            </tr>\n",
              "            <tr>\n",
              "                        <th id=\"T_c20e23ec_f7da_11eb_acef_0242ac1c0002level0_row29\" class=\"row_heading level0 row29\" >29</th>\n",
              "                        <td id=\"T_c20e23ec_f7da_11eb_acef_0242ac1c0002row29_col0\" class=\"data row29 col0\" >1.54%</td>\n",
              "                        <td id=\"T_c20e23ec_f7da_11eb_acef_0242ac1c0002row29_col1\" class=\"data row29 col1\" >0.00%</td>\n",
              "                        <td id=\"T_c20e23ec_f7da_11eb_acef_0242ac1c0002row29_col2\" class=\"data row29 col2\" >17.41%</td>\n",
              "                        <td id=\"T_c20e23ec_f7da_11eb_acef_0242ac1c0002row29_col3\" class=\"data row29 col3\" >81.05%</td>\n",
              "            </tr>\n",
              "            <tr>\n",
              "                        <th id=\"T_c20e23ec_f7da_11eb_acef_0242ac1c0002level0_row30\" class=\"row_heading level0 row30\" >30</th>\n",
              "                        <td id=\"T_c20e23ec_f7da_11eb_acef_0242ac1c0002row30_col0\" class=\"data row30 col0\" >0.06%</td>\n",
              "                        <td id=\"T_c20e23ec_f7da_11eb_acef_0242ac1c0002row30_col1\" class=\"data row30 col1\" >0.00%</td>\n",
              "                        <td id=\"T_c20e23ec_f7da_11eb_acef_0242ac1c0002row30_col2\" class=\"data row30 col2\" >0.15%</td>\n",
              "                        <td id=\"T_c20e23ec_f7da_11eb_acef_0242ac1c0002row30_col3\" class=\"data row30 col3\" >99.79%</td>\n",
              "            </tr>\n",
              "            <tr>\n",
              "                        <th id=\"T_c20e23ec_f7da_11eb_acef_0242ac1c0002level0_row31\" class=\"row_heading level0 row31\" >31</th>\n",
              "                        <td id=\"T_c20e23ec_f7da_11eb_acef_0242ac1c0002row31_col0\" class=\"data row31 col0\" >2.02%</td>\n",
              "                        <td id=\"T_c20e23ec_f7da_11eb_acef_0242ac1c0002row31_col1\" class=\"data row31 col1\" >47.36%</td>\n",
              "                        <td id=\"T_c20e23ec_f7da_11eb_acef_0242ac1c0002row31_col2\" class=\"data row31 col2\" >29.12%</td>\n",
              "                        <td id=\"T_c20e23ec_f7da_11eb_acef_0242ac1c0002row31_col3\" class=\"data row31 col3\" >21.50%</td>\n",
              "            </tr>\n",
              "            <tr>\n",
              "                        <th id=\"T_c20e23ec_f7da_11eb_acef_0242ac1c0002level0_row32\" class=\"row_heading level0 row32\" >32</th>\n",
              "                        <td id=\"T_c20e23ec_f7da_11eb_acef_0242ac1c0002row32_col0\" class=\"data row32 col0\" >2.33%</td>\n",
              "                        <td id=\"T_c20e23ec_f7da_11eb_acef_0242ac1c0002row32_col1\" class=\"data row32 col1\" >0.00%</td>\n",
              "                        <td id=\"T_c20e23ec_f7da_11eb_acef_0242ac1c0002row32_col2\" class=\"data row32 col2\" >97.61%</td>\n",
              "                        <td id=\"T_c20e23ec_f7da_11eb_acef_0242ac1c0002row32_col3\" class=\"data row32 col3\" >0.06%</td>\n",
              "            </tr>\n",
              "            <tr>\n",
              "                        <th id=\"T_c20e23ec_f7da_11eb_acef_0242ac1c0002level0_row33\" class=\"row_heading level0 row33\" >33</th>\n",
              "                        <td id=\"T_c20e23ec_f7da_11eb_acef_0242ac1c0002row33_col0\" class=\"data row33 col0\" >22.30%</td>\n",
              "                        <td id=\"T_c20e23ec_f7da_11eb_acef_0242ac1c0002row33_col1\" class=\"data row33 col1\" >0.59%</td>\n",
              "                        <td id=\"T_c20e23ec_f7da_11eb_acef_0242ac1c0002row33_col2\" class=\"data row33 col2\" >1.59%</td>\n",
              "                        <td id=\"T_c20e23ec_f7da_11eb_acef_0242ac1c0002row33_col3\" class=\"data row33 col3\" >75.52%</td>\n",
              "            </tr>\n",
              "            <tr>\n",
              "                        <th id=\"T_c20e23ec_f7da_11eb_acef_0242ac1c0002level0_row34\" class=\"row_heading level0 row34\" >34</th>\n",
              "                        <td id=\"T_c20e23ec_f7da_11eb_acef_0242ac1c0002row34_col0\" class=\"data row34 col0\" >0.26%</td>\n",
              "                        <td id=\"T_c20e23ec_f7da_11eb_acef_0242ac1c0002row34_col1\" class=\"data row34 col1\" >0.05%</td>\n",
              "                        <td id=\"T_c20e23ec_f7da_11eb_acef_0242ac1c0002row34_col2\" class=\"data row34 col2\" >80.48%</td>\n",
              "                        <td id=\"T_c20e23ec_f7da_11eb_acef_0242ac1c0002row34_col3\" class=\"data row34 col3\" >19.20%</td>\n",
              "            </tr>\n",
              "            <tr>\n",
              "                        <th id=\"T_c20e23ec_f7da_11eb_acef_0242ac1c0002level0_row35\" class=\"row_heading level0 row35\" >35</th>\n",
              "                        <td id=\"T_c20e23ec_f7da_11eb_acef_0242ac1c0002row35_col0\" class=\"data row35 col0\" >0.71%</td>\n",
              "                        <td id=\"T_c20e23ec_f7da_11eb_acef_0242ac1c0002row35_col1\" class=\"data row35 col1\" >0.06%</td>\n",
              "                        <td id=\"T_c20e23ec_f7da_11eb_acef_0242ac1c0002row35_col2\" class=\"data row35 col2\" >2.05%</td>\n",
              "                        <td id=\"T_c20e23ec_f7da_11eb_acef_0242ac1c0002row35_col3\" class=\"data row35 col3\" >97.18%</td>\n",
              "            </tr>\n",
              "            <tr>\n",
              "                        <th id=\"T_c20e23ec_f7da_11eb_acef_0242ac1c0002level0_row36\" class=\"row_heading level0 row36\" >36</th>\n",
              "                        <td id=\"T_c20e23ec_f7da_11eb_acef_0242ac1c0002row36_col0\" class=\"data row36 col0\" >52.00%</td>\n",
              "                        <td id=\"T_c20e23ec_f7da_11eb_acef_0242ac1c0002row36_col1\" class=\"data row36 col1\" >0.15%</td>\n",
              "                        <td id=\"T_c20e23ec_f7da_11eb_acef_0242ac1c0002row36_col2\" class=\"data row36 col2\" >40.91%</td>\n",
              "                        <td id=\"T_c20e23ec_f7da_11eb_acef_0242ac1c0002row36_col3\" class=\"data row36 col3\" >6.94%</td>\n",
              "            </tr>\n",
              "            <tr>\n",
              "                        <th id=\"T_c20e23ec_f7da_11eb_acef_0242ac1c0002level0_row37\" class=\"row_heading level0 row37\" >37</th>\n",
              "                        <td id=\"T_c20e23ec_f7da_11eb_acef_0242ac1c0002row37_col0\" class=\"data row37 col0\" >52.11%</td>\n",
              "                        <td id=\"T_c20e23ec_f7da_11eb_acef_0242ac1c0002row37_col1\" class=\"data row37 col1\" >3.77%</td>\n",
              "                        <td id=\"T_c20e23ec_f7da_11eb_acef_0242ac1c0002row37_col2\" class=\"data row37 col2\" >37.60%</td>\n",
              "                        <td id=\"T_c20e23ec_f7da_11eb_acef_0242ac1c0002row37_col3\" class=\"data row37 col3\" >6.52%</td>\n",
              "            </tr>\n",
              "            <tr>\n",
              "                        <th id=\"T_c20e23ec_f7da_11eb_acef_0242ac1c0002level0_row38\" class=\"row_heading level0 row38\" >38</th>\n",
              "                        <td id=\"T_c20e23ec_f7da_11eb_acef_0242ac1c0002row38_col0\" class=\"data row38 col0\" >0.17%</td>\n",
              "                        <td id=\"T_c20e23ec_f7da_11eb_acef_0242ac1c0002row38_col1\" class=\"data row38 col1\" >99.82%</td>\n",
              "                        <td id=\"T_c20e23ec_f7da_11eb_acef_0242ac1c0002row38_col2\" class=\"data row38 col2\" >0.01%</td>\n",
              "                        <td id=\"T_c20e23ec_f7da_11eb_acef_0242ac1c0002row38_col3\" class=\"data row38 col3\" >0.00%</td>\n",
              "            </tr>\n",
              "            <tr>\n",
              "                        <th id=\"T_c20e23ec_f7da_11eb_acef_0242ac1c0002level0_row39\" class=\"row_heading level0 row39\" >39</th>\n",
              "                        <td id=\"T_c20e23ec_f7da_11eb_acef_0242ac1c0002row39_col0\" class=\"data row39 col0\" >28.55%</td>\n",
              "                        <td id=\"T_c20e23ec_f7da_11eb_acef_0242ac1c0002row39_col1\" class=\"data row39 col1\" >8.28%</td>\n",
              "                        <td id=\"T_c20e23ec_f7da_11eb_acef_0242ac1c0002row39_col2\" class=\"data row39 col2\" >50.71%</td>\n",
              "                        <td id=\"T_c20e23ec_f7da_11eb_acef_0242ac1c0002row39_col3\" class=\"data row39 col3\" >12.46%</td>\n",
              "            </tr>\n",
              "            <tr>\n",
              "                        <th id=\"T_c20e23ec_f7da_11eb_acef_0242ac1c0002level0_row40\" class=\"row_heading level0 row40\" >40</th>\n",
              "                        <td id=\"T_c20e23ec_f7da_11eb_acef_0242ac1c0002row40_col0\" class=\"data row40 col0\" >60.74%</td>\n",
              "                        <td id=\"T_c20e23ec_f7da_11eb_acef_0242ac1c0002row40_col1\" class=\"data row40 col1\" >0.34%</td>\n",
              "                        <td id=\"T_c20e23ec_f7da_11eb_acef_0242ac1c0002row40_col2\" class=\"data row40 col2\" >8.75%</td>\n",
              "                        <td id=\"T_c20e23ec_f7da_11eb_acef_0242ac1c0002row40_col3\" class=\"data row40 col3\" >30.17%</td>\n",
              "            </tr>\n",
              "            <tr>\n",
              "                        <th id=\"T_c20e23ec_f7da_11eb_acef_0242ac1c0002level0_row41\" class=\"row_heading level0 row41\" >41</th>\n",
              "                        <td id=\"T_c20e23ec_f7da_11eb_acef_0242ac1c0002row41_col0\" class=\"data row41 col0\" >0.52%</td>\n",
              "                        <td id=\"T_c20e23ec_f7da_11eb_acef_0242ac1c0002row41_col1\" class=\"data row41 col1\" >0.03%</td>\n",
              "                        <td id=\"T_c20e23ec_f7da_11eb_acef_0242ac1c0002row41_col2\" class=\"data row41 col2\" >97.79%</td>\n",
              "                        <td id=\"T_c20e23ec_f7da_11eb_acef_0242ac1c0002row41_col3\" class=\"data row41 col3\" >1.66%</td>\n",
              "            </tr>\n",
              "            <tr>\n",
              "                        <th id=\"T_c20e23ec_f7da_11eb_acef_0242ac1c0002level0_row42\" class=\"row_heading level0 row42\" >42</th>\n",
              "                        <td id=\"T_c20e23ec_f7da_11eb_acef_0242ac1c0002row42_col0\" class=\"data row42 col0\" >58.80%</td>\n",
              "                        <td id=\"T_c20e23ec_f7da_11eb_acef_0242ac1c0002row42_col1\" class=\"data row42 col1\" >0.73%</td>\n",
              "                        <td id=\"T_c20e23ec_f7da_11eb_acef_0242ac1c0002row42_col2\" class=\"data row42 col2\" >40.08%</td>\n",
              "                        <td id=\"T_c20e23ec_f7da_11eb_acef_0242ac1c0002row42_col3\" class=\"data row42 col3\" >0.40%</td>\n",
              "            </tr>\n",
              "            <tr>\n",
              "                        <th id=\"T_c20e23ec_f7da_11eb_acef_0242ac1c0002level0_row43\" class=\"row_heading level0 row43\" >43</th>\n",
              "                        <td id=\"T_c20e23ec_f7da_11eb_acef_0242ac1c0002row43_col0\" class=\"data row43 col0\" >0.53%</td>\n",
              "                        <td id=\"T_c20e23ec_f7da_11eb_acef_0242ac1c0002row43_col1\" class=\"data row43 col1\" >99.38%</td>\n",
              "                        <td id=\"T_c20e23ec_f7da_11eb_acef_0242ac1c0002row43_col2\" class=\"data row43 col2\" >0.06%</td>\n",
              "                        <td id=\"T_c20e23ec_f7da_11eb_acef_0242ac1c0002row43_col3\" class=\"data row43 col3\" >0.03%</td>\n",
              "            </tr>\n",
              "            <tr>\n",
              "                        <th id=\"T_c20e23ec_f7da_11eb_acef_0242ac1c0002level0_row44\" class=\"row_heading level0 row44\" >44</th>\n",
              "                        <td id=\"T_c20e23ec_f7da_11eb_acef_0242ac1c0002row44_col0\" class=\"data row44 col0\" >0.07%</td>\n",
              "                        <td id=\"T_c20e23ec_f7da_11eb_acef_0242ac1c0002row44_col1\" class=\"data row44 col1\" >0.00%</td>\n",
              "                        <td id=\"T_c20e23ec_f7da_11eb_acef_0242ac1c0002row44_col2\" class=\"data row44 col2\" >99.56%</td>\n",
              "                        <td id=\"T_c20e23ec_f7da_11eb_acef_0242ac1c0002row44_col3\" class=\"data row44 col3\" >0.37%</td>\n",
              "            </tr>\n",
              "            <tr>\n",
              "                        <th id=\"T_c20e23ec_f7da_11eb_acef_0242ac1c0002level0_row45\" class=\"row_heading level0 row45\" >45</th>\n",
              "                        <td id=\"T_c20e23ec_f7da_11eb_acef_0242ac1c0002row45_col0\" class=\"data row45 col0\" >2.22%</td>\n",
              "                        <td id=\"T_c20e23ec_f7da_11eb_acef_0242ac1c0002row45_col1\" class=\"data row45 col1\" >97.74%</td>\n",
              "                        <td id=\"T_c20e23ec_f7da_11eb_acef_0242ac1c0002row45_col2\" class=\"data row45 col2\" >0.04%</td>\n",
              "                        <td id=\"T_c20e23ec_f7da_11eb_acef_0242ac1c0002row45_col3\" class=\"data row45 col3\" >0.01%</td>\n",
              "            </tr>\n",
              "            <tr>\n",
              "                        <th id=\"T_c20e23ec_f7da_11eb_acef_0242ac1c0002level0_row46\" class=\"row_heading level0 row46\" >46</th>\n",
              "                        <td id=\"T_c20e23ec_f7da_11eb_acef_0242ac1c0002row46_col0\" class=\"data row46 col0\" >99.99%</td>\n",
              "                        <td id=\"T_c20e23ec_f7da_11eb_acef_0242ac1c0002row46_col1\" class=\"data row46 col1\" >0.00%</td>\n",
              "                        <td id=\"T_c20e23ec_f7da_11eb_acef_0242ac1c0002row46_col2\" class=\"data row46 col2\" >0.00%</td>\n",
              "                        <td id=\"T_c20e23ec_f7da_11eb_acef_0242ac1c0002row46_col3\" class=\"data row46 col3\" >0.01%</td>\n",
              "            </tr>\n",
              "            <tr>\n",
              "                        <th id=\"T_c20e23ec_f7da_11eb_acef_0242ac1c0002level0_row47\" class=\"row_heading level0 row47\" >47</th>\n",
              "                        <td id=\"T_c20e23ec_f7da_11eb_acef_0242ac1c0002row47_col0\" class=\"data row47 col0\" >0.00%</td>\n",
              "                        <td id=\"T_c20e23ec_f7da_11eb_acef_0242ac1c0002row47_col1\" class=\"data row47 col1\" >99.99%</td>\n",
              "                        <td id=\"T_c20e23ec_f7da_11eb_acef_0242ac1c0002row47_col2\" class=\"data row47 col2\" >0.00%</td>\n",
              "                        <td id=\"T_c20e23ec_f7da_11eb_acef_0242ac1c0002row47_col3\" class=\"data row47 col3\" >0.00%</td>\n",
              "            </tr>\n",
              "            <tr>\n",
              "                        <th id=\"T_c20e23ec_f7da_11eb_acef_0242ac1c0002level0_row48\" class=\"row_heading level0 row48\" >48</th>\n",
              "                        <td id=\"T_c20e23ec_f7da_11eb_acef_0242ac1c0002row48_col0\" class=\"data row48 col0\" >47.56%</td>\n",
              "                        <td id=\"T_c20e23ec_f7da_11eb_acef_0242ac1c0002row48_col1\" class=\"data row48 col1\" >0.80%</td>\n",
              "                        <td id=\"T_c20e23ec_f7da_11eb_acef_0242ac1c0002row48_col2\" class=\"data row48 col2\" >40.81%</td>\n",
              "                        <td id=\"T_c20e23ec_f7da_11eb_acef_0242ac1c0002row48_col3\" class=\"data row48 col3\" >10.84%</td>\n",
              "            </tr>\n",
              "            <tr>\n",
              "                        <th id=\"T_c20e23ec_f7da_11eb_acef_0242ac1c0002level0_row49\" class=\"row_heading level0 row49\" >49</th>\n",
              "                        <td id=\"T_c20e23ec_f7da_11eb_acef_0242ac1c0002row49_col0\" class=\"data row49 col0\" >0.51%</td>\n",
              "                        <td id=\"T_c20e23ec_f7da_11eb_acef_0242ac1c0002row49_col1\" class=\"data row49 col1\" >0.03%</td>\n",
              "                        <td id=\"T_c20e23ec_f7da_11eb_acef_0242ac1c0002row49_col2\" class=\"data row49 col2\" >1.03%</td>\n",
              "                        <td id=\"T_c20e23ec_f7da_11eb_acef_0242ac1c0002row49_col3\" class=\"data row49 col3\" >98.44%</td>\n",
              "            </tr>\n",
              "            <tr>\n",
              "                        <th id=\"T_c20e23ec_f7da_11eb_acef_0242ac1c0002level0_row50\" class=\"row_heading level0 row50\" >50</th>\n",
              "                        <td id=\"T_c20e23ec_f7da_11eb_acef_0242ac1c0002row50_col0\" class=\"data row50 col0\" >99.98%</td>\n",
              "                        <td id=\"T_c20e23ec_f7da_11eb_acef_0242ac1c0002row50_col1\" class=\"data row50 col1\" >0.00%</td>\n",
              "                        <td id=\"T_c20e23ec_f7da_11eb_acef_0242ac1c0002row50_col2\" class=\"data row50 col2\" >0.01%</td>\n",
              "                        <td id=\"T_c20e23ec_f7da_11eb_acef_0242ac1c0002row50_col3\" class=\"data row50 col3\" >0.00%</td>\n",
              "            </tr>\n",
              "            <tr>\n",
              "                        <th id=\"T_c20e23ec_f7da_11eb_acef_0242ac1c0002level0_row51\" class=\"row_heading level0 row51\" >51</th>\n",
              "                        <td id=\"T_c20e23ec_f7da_11eb_acef_0242ac1c0002row51_col0\" class=\"data row51 col0\" >3.68%</td>\n",
              "                        <td id=\"T_c20e23ec_f7da_11eb_acef_0242ac1c0002row51_col1\" class=\"data row51 col1\" >0.57%</td>\n",
              "                        <td id=\"T_c20e23ec_f7da_11eb_acef_0242ac1c0002row51_col2\" class=\"data row51 col2\" >32.83%</td>\n",
              "                        <td id=\"T_c20e23ec_f7da_11eb_acef_0242ac1c0002row51_col3\" class=\"data row51 col3\" >62.92%</td>\n",
              "            </tr>\n",
              "            <tr>\n",
              "                        <th id=\"T_c20e23ec_f7da_11eb_acef_0242ac1c0002level0_row52\" class=\"row_heading level0 row52\" >52</th>\n",
              "                        <td id=\"T_c20e23ec_f7da_11eb_acef_0242ac1c0002row52_col0\" class=\"data row52 col0\" >0.01%</td>\n",
              "                        <td id=\"T_c20e23ec_f7da_11eb_acef_0242ac1c0002row52_col1\" class=\"data row52 col1\" >99.99%</td>\n",
              "                        <td id=\"T_c20e23ec_f7da_11eb_acef_0242ac1c0002row52_col2\" class=\"data row52 col2\" >0.00%</td>\n",
              "                        <td id=\"T_c20e23ec_f7da_11eb_acef_0242ac1c0002row52_col3\" class=\"data row52 col3\" >0.00%</td>\n",
              "            </tr>\n",
              "            <tr>\n",
              "                        <th id=\"T_c20e23ec_f7da_11eb_acef_0242ac1c0002level0_row53\" class=\"row_heading level0 row53\" >53</th>\n",
              "                        <td id=\"T_c20e23ec_f7da_11eb_acef_0242ac1c0002row53_col0\" class=\"data row53 col0\" >0.04%</td>\n",
              "                        <td id=\"T_c20e23ec_f7da_11eb_acef_0242ac1c0002row53_col1\" class=\"data row53 col1\" >0.00%</td>\n",
              "                        <td id=\"T_c20e23ec_f7da_11eb_acef_0242ac1c0002row53_col2\" class=\"data row53 col2\" >99.89%</td>\n",
              "                        <td id=\"T_c20e23ec_f7da_11eb_acef_0242ac1c0002row53_col3\" class=\"data row53 col3\" >0.07%</td>\n",
              "            </tr>\n",
              "            <tr>\n",
              "                        <th id=\"T_c20e23ec_f7da_11eb_acef_0242ac1c0002level0_row54\" class=\"row_heading level0 row54\" >54</th>\n",
              "                        <td id=\"T_c20e23ec_f7da_11eb_acef_0242ac1c0002row54_col0\" class=\"data row54 col0\" >0.25%</td>\n",
              "                        <td id=\"T_c20e23ec_f7da_11eb_acef_0242ac1c0002row54_col1\" class=\"data row54 col1\" >99.70%</td>\n",
              "                        <td id=\"T_c20e23ec_f7da_11eb_acef_0242ac1c0002row54_col2\" class=\"data row54 col2\" >0.03%</td>\n",
              "                        <td id=\"T_c20e23ec_f7da_11eb_acef_0242ac1c0002row54_col3\" class=\"data row54 col3\" >0.01%</td>\n",
              "            </tr>\n",
              "            <tr>\n",
              "                        <th id=\"T_c20e23ec_f7da_11eb_acef_0242ac1c0002level0_row55\" class=\"row_heading level0 row55\" >55</th>\n",
              "                        <td id=\"T_c20e23ec_f7da_11eb_acef_0242ac1c0002row55_col0\" class=\"data row55 col0\" >0.01%</td>\n",
              "                        <td id=\"T_c20e23ec_f7da_11eb_acef_0242ac1c0002row55_col1\" class=\"data row55 col1\" >0.00%</td>\n",
              "                        <td id=\"T_c20e23ec_f7da_11eb_acef_0242ac1c0002row55_col2\" class=\"data row55 col2\" >20.55%</td>\n",
              "                        <td id=\"T_c20e23ec_f7da_11eb_acef_0242ac1c0002row55_col3\" class=\"data row55 col3\" >79.44%</td>\n",
              "            </tr>\n",
              "            <tr>\n",
              "                        <th id=\"T_c20e23ec_f7da_11eb_acef_0242ac1c0002level0_row56\" class=\"row_heading level0 row56\" >56</th>\n",
              "                        <td id=\"T_c20e23ec_f7da_11eb_acef_0242ac1c0002row56_col0\" class=\"data row56 col0\" >0.27%</td>\n",
              "                        <td id=\"T_c20e23ec_f7da_11eb_acef_0242ac1c0002row56_col1\" class=\"data row56 col1\" >0.27%</td>\n",
              "                        <td id=\"T_c20e23ec_f7da_11eb_acef_0242ac1c0002row56_col2\" class=\"data row56 col2\" >61.48%</td>\n",
              "                        <td id=\"T_c20e23ec_f7da_11eb_acef_0242ac1c0002row56_col3\" class=\"data row56 col3\" >37.97%</td>\n",
              "            </tr>\n",
              "            <tr>\n",
              "                        <th id=\"T_c20e23ec_f7da_11eb_acef_0242ac1c0002level0_row57\" class=\"row_heading level0 row57\" >57</th>\n",
              "                        <td id=\"T_c20e23ec_f7da_11eb_acef_0242ac1c0002row57_col0\" class=\"data row57 col0\" >3.83%</td>\n",
              "                        <td id=\"T_c20e23ec_f7da_11eb_acef_0242ac1c0002row57_col1\" class=\"data row57 col1\" >0.19%</td>\n",
              "                        <td id=\"T_c20e23ec_f7da_11eb_acef_0242ac1c0002row57_col2\" class=\"data row57 col2\" >94.13%</td>\n",
              "                        <td id=\"T_c20e23ec_f7da_11eb_acef_0242ac1c0002row57_col3\" class=\"data row57 col3\" >1.85%</td>\n",
              "            </tr>\n",
              "            <tr>\n",
              "                        <th id=\"T_c20e23ec_f7da_11eb_acef_0242ac1c0002level0_row58\" class=\"row_heading level0 row58\" >58</th>\n",
              "                        <td id=\"T_c20e23ec_f7da_11eb_acef_0242ac1c0002row58_col0\" class=\"data row58 col0\" >0.01%</td>\n",
              "                        <td id=\"T_c20e23ec_f7da_11eb_acef_0242ac1c0002row58_col1\" class=\"data row58 col1\" >0.00%</td>\n",
              "                        <td id=\"T_c20e23ec_f7da_11eb_acef_0242ac1c0002row58_col2\" class=\"data row58 col2\" >0.01%</td>\n",
              "                        <td id=\"T_c20e23ec_f7da_11eb_acef_0242ac1c0002row58_col3\" class=\"data row58 col3\" >99.98%</td>\n",
              "            </tr>\n",
              "            <tr>\n",
              "                        <th id=\"T_c20e23ec_f7da_11eb_acef_0242ac1c0002level0_row59\" class=\"row_heading level0 row59\" >59</th>\n",
              "                        <td id=\"T_c20e23ec_f7da_11eb_acef_0242ac1c0002row59_col0\" class=\"data row59 col0\" >0.50%</td>\n",
              "                        <td id=\"T_c20e23ec_f7da_11eb_acef_0242ac1c0002row59_col1\" class=\"data row59 col1\" >0.14%</td>\n",
              "                        <td id=\"T_c20e23ec_f7da_11eb_acef_0242ac1c0002row59_col2\" class=\"data row59 col2\" >71.66%</td>\n",
              "                        <td id=\"T_c20e23ec_f7da_11eb_acef_0242ac1c0002row59_col3\" class=\"data row59 col3\" >27.70%</td>\n",
              "            </tr>\n",
              "            <tr>\n",
              "                        <th id=\"T_c20e23ec_f7da_11eb_acef_0242ac1c0002level0_row60\" class=\"row_heading level0 row60\" >60</th>\n",
              "                        <td id=\"T_c20e23ec_f7da_11eb_acef_0242ac1c0002row60_col0\" class=\"data row60 col0\" >99.99%</td>\n",
              "                        <td id=\"T_c20e23ec_f7da_11eb_acef_0242ac1c0002row60_col1\" class=\"data row60 col1\" >0.01%</td>\n",
              "                        <td id=\"T_c20e23ec_f7da_11eb_acef_0242ac1c0002row60_col2\" class=\"data row60 col2\" >0.00%</td>\n",
              "                        <td id=\"T_c20e23ec_f7da_11eb_acef_0242ac1c0002row60_col3\" class=\"data row60 col3\" >0.00%</td>\n",
              "            </tr>\n",
              "            <tr>\n",
              "                        <th id=\"T_c20e23ec_f7da_11eb_acef_0242ac1c0002level0_row61\" class=\"row_heading level0 row61\" >61</th>\n",
              "                        <td id=\"T_c20e23ec_f7da_11eb_acef_0242ac1c0002row61_col0\" class=\"data row61 col0\" >0.79%</td>\n",
              "                        <td id=\"T_c20e23ec_f7da_11eb_acef_0242ac1c0002row61_col1\" class=\"data row61 col1\" >98.77%</td>\n",
              "                        <td id=\"T_c20e23ec_f7da_11eb_acef_0242ac1c0002row61_col2\" class=\"data row61 col2\" >0.06%</td>\n",
              "                        <td id=\"T_c20e23ec_f7da_11eb_acef_0242ac1c0002row61_col3\" class=\"data row61 col3\" >0.39%</td>\n",
              "            </tr>\n",
              "            <tr>\n",
              "                        <th id=\"T_c20e23ec_f7da_11eb_acef_0242ac1c0002level0_row62\" class=\"row_heading level0 row62\" >62</th>\n",
              "                        <td id=\"T_c20e23ec_f7da_11eb_acef_0242ac1c0002row62_col0\" class=\"data row62 col0\" >18.61%</td>\n",
              "                        <td id=\"T_c20e23ec_f7da_11eb_acef_0242ac1c0002row62_col1\" class=\"data row62 col1\" >55.68%</td>\n",
              "                        <td id=\"T_c20e23ec_f7da_11eb_acef_0242ac1c0002row62_col2\" class=\"data row62 col2\" >25.39%</td>\n",
              "                        <td id=\"T_c20e23ec_f7da_11eb_acef_0242ac1c0002row62_col3\" class=\"data row62 col3\" >0.32%</td>\n",
              "            </tr>\n",
              "            <tr>\n",
              "                        <th id=\"T_c20e23ec_f7da_11eb_acef_0242ac1c0002level0_row63\" class=\"row_heading level0 row63\" >63</th>\n",
              "                        <td id=\"T_c20e23ec_f7da_11eb_acef_0242ac1c0002row63_col0\" class=\"data row63 col0\" >0.00%</td>\n",
              "                        <td id=\"T_c20e23ec_f7da_11eb_acef_0242ac1c0002row63_col1\" class=\"data row63 col1\" >0.00%</td>\n",
              "                        <td id=\"T_c20e23ec_f7da_11eb_acef_0242ac1c0002row63_col2\" class=\"data row63 col2\" >0.01%</td>\n",
              "                        <td id=\"T_c20e23ec_f7da_11eb_acef_0242ac1c0002row63_col3\" class=\"data row63 col3\" >99.99%</td>\n",
              "            </tr>\n",
              "    </tbody></table>"
            ],
            "text/plain": [
              "<pandas.io.formats.style.Styler at 0x7fdfbd313350>"
            ]
          },
          "metadata": {
            "tags": []
          },
          "execution_count": 136
        }
      ]
    },
    {
      "cell_type": "code",
      "metadata": {
        "colab": {
          "base_uri": "https://localhost:8080/",
          "height": 419
        },
        "id": "XkGh-0QTs4fb",
        "outputId": "0df9f416-6968-4892-8f29-181c308005ad"
      },
      "source": [
        "# df[1].max\n",
        "\n",
        "df['Max Value'] = df.apply(np.max,axis=1)\n",
        "df['Max ID'] = df.idxmax(axis=1)\n",
        "\n",
        "df"
      ],
      "execution_count": null,
      "outputs": [
        {
          "output_type": "execute_result",
          "data": {
            "text/html": [
              "<div>\n",
              "<style scoped>\n",
              "    .dataframe tbody tr th:only-of-type {\n",
              "        vertical-align: middle;\n",
              "    }\n",
              "\n",
              "    .dataframe tbody tr th {\n",
              "        vertical-align: top;\n",
              "    }\n",
              "\n",
              "    .dataframe thead th {\n",
              "        text-align: right;\n",
              "    }\n",
              "</style>\n",
              "<table border=\"1\" class=\"dataframe\">\n",
              "  <thead>\n",
              "    <tr style=\"text-align: right;\">\n",
              "      <th></th>\n",
              "      <th>World</th>\n",
              "      <th>Sports</th>\n",
              "      <th>Business</th>\n",
              "      <th>Sci/Tech</th>\n",
              "      <th>Max Value</th>\n",
              "      <th>Max ID</th>\n",
              "    </tr>\n",
              "  </thead>\n",
              "  <tbody>\n",
              "    <tr>\n",
              "      <th>0</th>\n",
              "      <td>2.781609e-05</td>\n",
              "      <td>0.999880</td>\n",
              "      <td>0.000086</td>\n",
              "      <td>0.000007</td>\n",
              "      <td>0.999880</td>\n",
              "      <td>Sports</td>\n",
              "    </tr>\n",
              "    <tr>\n",
              "      <th>1</th>\n",
              "      <td>9.996980e-01</td>\n",
              "      <td>0.000067</td>\n",
              "      <td>0.000131</td>\n",
              "      <td>0.000103</td>\n",
              "      <td>0.999698</td>\n",
              "      <td>World</td>\n",
              "    </tr>\n",
              "    <tr>\n",
              "      <th>2</th>\n",
              "      <td>2.710044e-06</td>\n",
              "      <td>0.000004</td>\n",
              "      <td>0.001119</td>\n",
              "      <td>0.998874</td>\n",
              "      <td>0.998874</td>\n",
              "      <td>Sci/Tech</td>\n",
              "    </tr>\n",
              "    <tr>\n",
              "      <th>3</th>\n",
              "      <td>7.686416e-03</td>\n",
              "      <td>0.991649</td>\n",
              "      <td>0.000570</td>\n",
              "      <td>0.000095</td>\n",
              "      <td>0.991649</td>\n",
              "      <td>Sports</td>\n",
              "    </tr>\n",
              "    <tr>\n",
              "      <th>4</th>\n",
              "      <td>9.772832e-01</td>\n",
              "      <td>0.001826</td>\n",
              "      <td>0.004795</td>\n",
              "      <td>0.016096</td>\n",
              "      <td>0.977283</td>\n",
              "      <td>World</td>\n",
              "    </tr>\n",
              "    <tr>\n",
              "      <th>...</th>\n",
              "      <td>...</td>\n",
              "      <td>...</td>\n",
              "      <td>...</td>\n",
              "      <td>...</td>\n",
              "      <td>...</td>\n",
              "      <td>...</td>\n",
              "    </tr>\n",
              "    <tr>\n",
              "      <th>59</th>\n",
              "      <td>4.997788e-03</td>\n",
              "      <td>0.001392</td>\n",
              "      <td>0.716582</td>\n",
              "      <td>0.277029</td>\n",
              "      <td>0.716582</td>\n",
              "      <td>Business</td>\n",
              "    </tr>\n",
              "    <tr>\n",
              "      <th>60</th>\n",
              "      <td>9.999062e-01</td>\n",
              "      <td>0.000077</td>\n",
              "      <td>0.000005</td>\n",
              "      <td>0.000013</td>\n",
              "      <td>0.999906</td>\n",
              "      <td>World</td>\n",
              "    </tr>\n",
              "    <tr>\n",
              "      <th>61</th>\n",
              "      <td>7.859763e-03</td>\n",
              "      <td>0.987679</td>\n",
              "      <td>0.000593</td>\n",
              "      <td>0.003869</td>\n",
              "      <td>0.987679</td>\n",
              "      <td>Sports</td>\n",
              "    </tr>\n",
              "    <tr>\n",
              "      <th>62</th>\n",
              "      <td>1.860864e-01</td>\n",
              "      <td>0.556803</td>\n",
              "      <td>0.253866</td>\n",
              "      <td>0.003244</td>\n",
              "      <td>0.556803</td>\n",
              "      <td>Sports</td>\n",
              "    </tr>\n",
              "    <tr>\n",
              "      <th>63</th>\n",
              "      <td>8.251615e-07</td>\n",
              "      <td>0.000001</td>\n",
              "      <td>0.000112</td>\n",
              "      <td>0.999886</td>\n",
              "      <td>0.999886</td>\n",
              "      <td>Sci/Tech</td>\n",
              "    </tr>\n",
              "  </tbody>\n",
              "</table>\n",
              "<p>64 rows × 6 columns</p>\n",
              "</div>"
            ],
            "text/plain": [
              "           World    Sports  Business  Sci/Tech  Max Value    Max ID\n",
              "0   2.781609e-05  0.999880  0.000086  0.000007   0.999880    Sports\n",
              "1   9.996980e-01  0.000067  0.000131  0.000103   0.999698     World\n",
              "2   2.710044e-06  0.000004  0.001119  0.998874   0.998874  Sci/Tech\n",
              "3   7.686416e-03  0.991649  0.000570  0.000095   0.991649    Sports\n",
              "4   9.772832e-01  0.001826  0.004795  0.016096   0.977283     World\n",
              "..           ...       ...       ...       ...        ...       ...\n",
              "59  4.997788e-03  0.001392  0.716582  0.277029   0.716582  Business\n",
              "60  9.999062e-01  0.000077  0.000005  0.000013   0.999906     World\n",
              "61  7.859763e-03  0.987679  0.000593  0.003869   0.987679    Sports\n",
              "62  1.860864e-01  0.556803  0.253866  0.003244   0.556803    Sports\n",
              "63  8.251615e-07  0.000001  0.000112  0.999886   0.999886  Sci/Tech\n",
              "\n",
              "[64 rows x 6 columns]"
            ]
          },
          "metadata": {
            "tags": []
          },
          "execution_count": 137
        }
      ]
    },
    {
      "cell_type": "code",
      "metadata": {
        "colab": {
          "base_uri": "https://localhost:8080/",
          "height": 390
        },
        "id": "iHDk92FAs4fb",
        "outputId": "a26a1b86-cbd7-4b22-b8e9-5ee1ac31715e"
      },
      "source": [
        "result_threshold = df[df['Max Value'] < 0.65]\n",
        "result_threshold"
      ],
      "execution_count": null,
      "outputs": [
        {
          "output_type": "execute_result",
          "data": {
            "text/html": [
              "<div>\n",
              "<style scoped>\n",
              "    .dataframe tbody tr th:only-of-type {\n",
              "        vertical-align: middle;\n",
              "    }\n",
              "\n",
              "    .dataframe tbody tr th {\n",
              "        vertical-align: top;\n",
              "    }\n",
              "\n",
              "    .dataframe thead th {\n",
              "        text-align: right;\n",
              "    }\n",
              "</style>\n",
              "<table border=\"1\" class=\"dataframe\">\n",
              "  <thead>\n",
              "    <tr style=\"text-align: right;\">\n",
              "      <th></th>\n",
              "      <th>World</th>\n",
              "      <th>Sports</th>\n",
              "      <th>Business</th>\n",
              "      <th>Sci/Tech</th>\n",
              "      <th>Max Value</th>\n",
              "      <th>Max ID</th>\n",
              "    </tr>\n",
              "  </thead>\n",
              "  <tbody>\n",
              "    <tr>\n",
              "      <th>18</th>\n",
              "      <td>0.000161</td>\n",
              "      <td>0.000272</td>\n",
              "      <td>0.450762</td>\n",
              "      <td>0.548805</td>\n",
              "      <td>0.548805</td>\n",
              "      <td>Sci/Tech</td>\n",
              "    </tr>\n",
              "    <tr>\n",
              "      <th>31</th>\n",
              "      <td>0.020207</td>\n",
              "      <td>0.473564</td>\n",
              "      <td>0.291213</td>\n",
              "      <td>0.215016</td>\n",
              "      <td>0.473564</td>\n",
              "      <td>Sports</td>\n",
              "    </tr>\n",
              "    <tr>\n",
              "      <th>36</th>\n",
              "      <td>0.520034</td>\n",
              "      <td>0.001476</td>\n",
              "      <td>0.409108</td>\n",
              "      <td>0.069381</td>\n",
              "      <td>0.520034</td>\n",
              "      <td>World</td>\n",
              "    </tr>\n",
              "    <tr>\n",
              "      <th>37</th>\n",
              "      <td>0.521106</td>\n",
              "      <td>0.037675</td>\n",
              "      <td>0.376015</td>\n",
              "      <td>0.065204</td>\n",
              "      <td>0.521106</td>\n",
              "      <td>World</td>\n",
              "    </tr>\n",
              "    <tr>\n",
              "      <th>39</th>\n",
              "      <td>0.285482</td>\n",
              "      <td>0.082813</td>\n",
              "      <td>0.507130</td>\n",
              "      <td>0.124575</td>\n",
              "      <td>0.507130</td>\n",
              "      <td>Business</td>\n",
              "    </tr>\n",
              "    <tr>\n",
              "      <th>40</th>\n",
              "      <td>0.607362</td>\n",
              "      <td>0.003411</td>\n",
              "      <td>0.087506</td>\n",
              "      <td>0.301722</td>\n",
              "      <td>0.607362</td>\n",
              "      <td>World</td>\n",
              "    </tr>\n",
              "    <tr>\n",
              "      <th>42</th>\n",
              "      <td>0.587955</td>\n",
              "      <td>0.007321</td>\n",
              "      <td>0.400764</td>\n",
              "      <td>0.003960</td>\n",
              "      <td>0.587955</td>\n",
              "      <td>World</td>\n",
              "    </tr>\n",
              "    <tr>\n",
              "      <th>48</th>\n",
              "      <td>0.475558</td>\n",
              "      <td>0.008001</td>\n",
              "      <td>0.408069</td>\n",
              "      <td>0.108373</td>\n",
              "      <td>0.475558</td>\n",
              "      <td>World</td>\n",
              "    </tr>\n",
              "    <tr>\n",
              "      <th>51</th>\n",
              "      <td>0.036797</td>\n",
              "      <td>0.005676</td>\n",
              "      <td>0.328303</td>\n",
              "      <td>0.629225</td>\n",
              "      <td>0.629225</td>\n",
              "      <td>Sci/Tech</td>\n",
              "    </tr>\n",
              "    <tr>\n",
              "      <th>56</th>\n",
              "      <td>0.002725</td>\n",
              "      <td>0.002689</td>\n",
              "      <td>0.614840</td>\n",
              "      <td>0.379746</td>\n",
              "      <td>0.614840</td>\n",
              "      <td>Business</td>\n",
              "    </tr>\n",
              "    <tr>\n",
              "      <th>62</th>\n",
              "      <td>0.186086</td>\n",
              "      <td>0.556803</td>\n",
              "      <td>0.253866</td>\n",
              "      <td>0.003244</td>\n",
              "      <td>0.556803</td>\n",
              "      <td>Sports</td>\n",
              "    </tr>\n",
              "  </tbody>\n",
              "</table>\n",
              "</div>"
            ],
            "text/plain": [
              "       World    Sports  Business  Sci/Tech  Max Value    Max ID\n",
              "18  0.000161  0.000272  0.450762  0.548805   0.548805  Sci/Tech\n",
              "31  0.020207  0.473564  0.291213  0.215016   0.473564    Sports\n",
              "36  0.520034  0.001476  0.409108  0.069381   0.520034     World\n",
              "37  0.521106  0.037675  0.376015  0.065204   0.521106     World\n",
              "39  0.285482  0.082813  0.507130  0.124575   0.507130  Business\n",
              "40  0.607362  0.003411  0.087506  0.301722   0.607362     World\n",
              "42  0.587955  0.007321  0.400764  0.003960   0.587955     World\n",
              "48  0.475558  0.008001  0.408069  0.108373   0.475558     World\n",
              "51  0.036797  0.005676  0.328303  0.629225   0.629225  Sci/Tech\n",
              "56  0.002725  0.002689  0.614840  0.379746   0.614840  Business\n",
              "62  0.186086  0.556803  0.253866  0.003244   0.556803    Sports"
            ]
          },
          "metadata": {
            "tags": []
          },
          "execution_count": 143
        }
      ]
    },
    {
      "cell_type": "code",
      "metadata": {
        "colab": {
          "base_uri": "https://localhost:8080/"
        },
        "id": "wA0zxcvBs4fb",
        "outputId": "fa9047ce-4b1b-4a14-d861-9785e964fdf1"
      },
      "source": [
        "test_examples[31], test_labels[31]\n",
        "#unstoppable, legend, winner typical to sport, \"dot com burst may not be part of dictionary or appears differently\""
      ],
      "execution_count": null,
      "outputs": [
        {
          "output_type": "execute_result",
          "data": {
            "text/plain": [
              "('individually theyve been unstoppable in their respective industry theyre both legend that have survived the dot com burst and came out winner',\n",
              " 3)"
            ]
          },
          "metadata": {
            "tags": []
          },
          "execution_count": 144
        }
      ]
    },
    {
      "cell_type": "code",
      "metadata": {
        "colab": {
          "base_uri": "https://localhost:8080/"
        },
        "id": "QmyZQUgjs4fb",
        "outputId": "2bc3f516-87d4-43ea-8201-f9a6c90ad685"
      },
      "source": [
        "test_labels[18], test_labels[31], test_labels[36], test_labels[37], test_labels[39], test_labels[40], test_labels[42], test_labels[48], test_labels[51], test_labels[56], test_labels[62]"
      ],
      "execution_count": null,
      "outputs": [
        {
          "output_type": "execute_result",
          "data": {
            "text/plain": [
              "(2, 3, 0, 3, 3, 0, 0, 2, 3, 2, 1)"
            ]
          },
          "metadata": {
            "tags": []
          },
          "execution_count": 146
        }
      ]
    },
    {
      "cell_type": "code",
      "metadata": {
        "colab": {
          "base_uri": "https://localhost:8080/"
        },
        "id": "rjOAbi8Vs4fb",
        "outputId": "e6dced0c-849a-4704-db70-3d4003595248"
      },
      "source": [
        "categories\n",
        "# x: business not sci/tech\n",
        "# x: sci/tech not sports\n",
        "# o\n",
        "# x: sci/tech not world\n",
        "# x: sci/Tech not business\n",
        "# o\n",
        "# o\n",
        "# x: business not world\n",
        "# o\n",
        "# o\n",
        "# o"
      ],
      "execution_count": null,
      "outputs": [
        {
          "output_type": "execute_result",
          "data": {
            "text/plain": [
              "{0: 'World', 1: 'Sports', 2: 'Business', 3: 'Sci/Tech'}"
            ]
          },
          "metadata": {
            "tags": []
          },
          "execution_count": 147
        }
      ]
    },
    {
      "cell_type": "markdown",
      "metadata": {
        "id": "hcQ9w06zHjQo"
      },
      "source": [
        "### Benchmark Performance Plotted"
      ]
    },
    {
      "cell_type": "code",
      "metadata": {
        "colab": {
          "base_uri": "https://localhost:8080/"
        },
        "id": "Gsyy5GjXHmN-",
        "outputId": "98481970-b0ef-4351-e0d2-0e96e443cb1b"
      },
      "source": [
        "history_dictionary = exp1_history.history\n",
        "history_dictionary.keys()"
      ],
      "execution_count": null,
      "outputs": [
        {
          "output_type": "execute_result",
          "data": {
            "text/plain": [
              "dict_keys(['loss', 'accuracy', 'val_loss', 'val_accuracy'])"
            ]
          },
          "metadata": {
            "tags": []
          },
          "execution_count": 148
        }
      ]
    },
    {
      "cell_type": "code",
      "metadata": {
        "colab": {
          "base_uri": "https://localhost:8080/",
          "height": 204
        },
        "id": "d8rnDpMOHuAB",
        "outputId": "d0f29b46-2b81-4268-caee-bd7ba0e70a2f"
      },
      "source": [
        "history_dictionary_df=pd.DataFrame(history_dictionary)\n",
        "history_dictionary_df.tail().round(3)"
      ],
      "execution_count": null,
      "outputs": [
        {
          "output_type": "execute_result",
          "data": {
            "text/html": [
              "<div>\n",
              "<style scoped>\n",
              "    .dataframe tbody tr th:only-of-type {\n",
              "        vertical-align: middle;\n",
              "    }\n",
              "\n",
              "    .dataframe tbody tr th {\n",
              "        vertical-align: top;\n",
              "    }\n",
              "\n",
              "    .dataframe thead th {\n",
              "        text-align: right;\n",
              "    }\n",
              "</style>\n",
              "<table border=\"1\" class=\"dataframe\">\n",
              "  <thead>\n",
              "    <tr style=\"text-align: right;\">\n",
              "      <th></th>\n",
              "      <th>loss</th>\n",
              "      <th>accuracy</th>\n",
              "      <th>val_loss</th>\n",
              "      <th>val_accuracy</th>\n",
              "    </tr>\n",
              "  </thead>\n",
              "  <tbody>\n",
              "    <tr>\n",
              "      <th>2</th>\n",
              "      <td>0.264</td>\n",
              "      <td>0.918</td>\n",
              "      <td>0.292</td>\n",
              "      <td>0.908</td>\n",
              "    </tr>\n",
              "    <tr>\n",
              "      <th>3</th>\n",
              "      <td>0.227</td>\n",
              "      <td>0.928</td>\n",
              "      <td>0.284</td>\n",
              "      <td>0.908</td>\n",
              "    </tr>\n",
              "    <tr>\n",
              "      <th>4</th>\n",
              "      <td>0.201</td>\n",
              "      <td>0.936</td>\n",
              "      <td>0.281</td>\n",
              "      <td>0.909</td>\n",
              "    </tr>\n",
              "    <tr>\n",
              "      <th>5</th>\n",
              "      <td>0.181</td>\n",
              "      <td>0.942</td>\n",
              "      <td>0.283</td>\n",
              "      <td>0.908</td>\n",
              "    </tr>\n",
              "    <tr>\n",
              "      <th>6</th>\n",
              "      <td>0.165</td>\n",
              "      <td>0.948</td>\n",
              "      <td>0.288</td>\n",
              "      <td>0.904</td>\n",
              "    </tr>\n",
              "  </tbody>\n",
              "</table>\n",
              "</div>"
            ],
            "text/plain": [
              "    loss  accuracy  val_loss  val_accuracy\n",
              "2  0.264     0.918     0.292         0.908\n",
              "3  0.227     0.928     0.284         0.908\n",
              "4  0.201     0.936     0.281         0.909\n",
              "5  0.181     0.942     0.283         0.908\n",
              "6  0.165     0.948     0.288         0.904"
            ]
          },
          "metadata": {
            "tags": []
          },
          "execution_count": 149
        }
      ]
    },
    {
      "cell_type": "code",
      "metadata": {
        "id": "svn90lbvH3aQ"
      },
      "source": [
        "losses = exp1_history.history['loss']\n",
        "accs = exp1_history.history['accuracy']\n",
        "val_losses = exp1_history.history['val_loss']\n",
        "val_accs = exp1_history.history['val_accuracy']\n",
        "epochs = len(losses)"
      ],
      "execution_count": null,
      "outputs": []
    },
    {
      "cell_type": "code",
      "metadata": {
        "colab": {
          "base_uri": "https://localhost:8080/",
          "height": 265
        },
        "id": "oG9fmqSGH9-J",
        "outputId": "1bd6dbaf-39d5-427e-8d9a-45814e7831c8"
      },
      "source": [
        "plt.figure(figsize=(16, 4))\n",
        "for i, metrics in enumerate(zip([losses, accs], [val_losses, val_accs], ['Loss', 'Accuracy'])):\n",
        "    plt.subplot(1, 2, i + 1)\n",
        "    plt.plot(range(epochs), metrics[0], label='Training {}'.format(metrics[2]))\n",
        "    plt.plot(range(epochs), metrics[1], label='Validation {}'.format(metrics[2]))\n",
        "    plt.legend()\n",
        "plt.show()"
      ],
      "execution_count": null,
      "outputs": [
        {
          "output_type": "display_data",
          "data": {
            "image/png": "[encoded data removed]",
            "text/plain": [
              "<Figure size 1152x288 with 2 Axes>"
            ]
          },
          "metadata": {
            "tags": [],
            "needs_background": "light"
          }
        }
      ]
    },
    {
      "cell_type": "markdown",
      "metadata": {
        "id": "JaWPwLHPQ7e2"
      },
      "source": [
        "#### Final Plot"
      ]
    },
    {
      "cell_type": "code",
      "metadata": {
        "colab": {
          "base_uri": "https://localhost:8080/"
        },
        "id": "M2_b3SGFRBEO",
        "outputId": "30530be4-0934-4779-b174-7536205f566f"
      },
      "source": [
        "# for comparing individual networks from experimental sets\n",
        "hub_model = \"https://tfhub.dev/google/nnlm-en-dim50/2\"\n",
        "hub_layer = hub.KerasLayer(hub_model, input_shape=[], dtype=tf.string, trainable=True)\n",
        "\n",
        "expset1 = tf.keras.Sequential([\n",
        "                          hub_layer\n",
        "                          ,tf.keras.layers.Reshape((1,50)) \n",
        "                          ,tf.keras.layers.Conv1D(64, kernel_size= 7, padding = \"same\", activation='tanh')\n",
        "                          ,tf.keras.layers.MaxPooling1D(pool_size=3, padding = \"same\",strides=3)\n",
        "                          ,tf.keras.layers.Conv1D(64, kernel_size= 7, padding = \"same\", activation='tanh')\n",
        "                          ,tf.keras.layers.MaxPooling1D(pool_size=3, padding = \"same\",strides=3)    \n",
        "                          ,tf.keras.layers.Dense(500, activation='tanh')\n",
        "                          ,tf.keras.layers.Dropout(0.7)\n",
        "                          ,tf.keras.layers.Dense(4,activation='softmax')\n",
        "                          ])\n",
        "expset1.summary()"
      ],
      "execution_count": null,
      "outputs": [
        {
          "output_type": "stream",
          "text": [
            "Model: \"sequential_3\"\n",
            "_________________________________________________________________\n",
            "Layer (type)                 Output Shape              Param #   \n",
            "=================================================================\n",
            "keras_layer_3 (KerasLayer)   (None, 50)                48190600  \n",
            "_________________________________________________________________\n",
            "reshape_3 (Reshape)          (None, 1, 50)             0         \n",
            "_________________________________________________________________\n",
            "conv1d_6 (Conv1D)            (None, 1, 64)             22464     \n",
            "_________________________________________________________________\n",
            "max_pooling1d_6 (MaxPooling1 (None, 1, 64)             0         \n",
            "_________________________________________________________________\n",
            "conv1d_7 (Conv1D)            (None, 1, 64)             28736     \n",
            "_________________________________________________________________\n",
            "max_pooling1d_7 (MaxPooling1 (None, 1, 64)             0         \n",
            "_________________________________________________________________\n",
            "dense_3 (Dense)              (None, 1, 500)            32500     \n",
            "_________________________________________________________________\n",
            "dropout (Dropout)            (None, 1, 500)            0         \n",
            "_________________________________________________________________\n",
            "dense_4 (Dense)              (None, 1, 4)              2004      \n",
            "=================================================================\n",
            "Total params: 48,276,304\n",
            "Trainable params: 48,276,304\n",
            "Non-trainable params: 0\n",
            "_________________________________________________________________\n"
          ],
          "name": "stdout"
        }
      ]
    },
    {
      "cell_type": "code",
      "metadata": {
        "id": "sV92SUfWRBEO"
      },
      "source": [
        "expset1.compile(optimizer='adam'\n",
        "              ,loss=tf.keras.losses.SparseCategoricalCrossentropy() # if we set from_logits=True we do not have specify a softmax activation function in the last layer\n",
        "              ,metrics=['accuracy'])"
      ],
      "execution_count": null,
      "outputs": []
    },
    {
      "cell_type": "code",
      "metadata": {
        "colab": {
          "base_uri": "https://localhost:8080/"
        },
        "id": "660TtsI6RBEO",
        "outputId": "ccef8080-7e2c-46e0-9411-80ebe10bd0e1"
      },
      "source": [
        "start = time.process_time()\n",
        "\n",
        "expset1_history = expset1.fit(train_examples\n",
        "                    ,train_labels                \n",
        "                    ,epochs=20\n",
        "                    ,validation_data=(valid_examples, valid_labels)\n",
        "                    ,batch_size = 500\n",
        "                    ,callbacks=[tf.keras.callbacks.EarlyStopping(monitor='val_accuracy', patience=2)]\n",
        "                    )\n",
        "\n",
        "stop = time.process_time()\n",
        "runtime = stop - start\n",
        "train_times.append(runtime)"
      ],
      "execution_count": null,
      "outputs": [
        {
          "output_type": "stream",
          "text": [
            "Epoch 1/20\n",
            "228/228 [==============================] - 5s 19ms/step - loss: 0.4282 - accuracy: 0.8600 - val_loss: 0.3014 - val_accuracy: 0.9008\n",
            "Epoch 2/20\n",
            "228/228 [==============================] - 4s 18ms/step - loss: 0.2521 - accuracy: 0.9166 - val_loss: 0.2840 - val_accuracy: 0.9072\n",
            "Epoch 3/20\n",
            "228/228 [==============================] - 4s 18ms/step - loss: 0.2008 - accuracy: 0.9329 - val_loss: 0.2932 - val_accuracy: 0.9053\n",
            "Epoch 4/20\n",
            "228/228 [==============================] - 4s 18ms/step - loss: 0.1677 - accuracy: 0.9446 - val_loss: 0.3128 - val_accuracy: 0.9005\n"
          ],
          "name": "stdout"
        }
      ]
    },
    {
      "cell_type": "code",
      "metadata": {
        "colab": {
          "base_uri": "https://localhost:8080/"
        },
        "id": "tOH2uLaxRBEO",
        "outputId": "a6fbd2f7-14aa-4f7d-fb5b-b17e209f2933"
      },
      "source": [
        "test_loss, test_acc = expset1.evaluate(test_examples,test_labels)\n",
        "\n",
        "print('Test Loss: {}'.format(test_loss))\n",
        "print('Test Accuracy: {}'.format(test_acc))\n",
        "expset1loss = test_loss\n",
        "expset1acc = test_acc"
      ],
      "execution_count": null,
      "outputs": [
        {
          "output_type": "stream",
          "text": [
            "238/238 [==============================] - 1s 4ms/step - loss: 0.3214 - accuracy: 0.8984\n",
            "Test Loss: 0.3213789463043213\n",
            "Test Accuracy: 0.898421049118042\n"
          ],
          "name": "stdout"
        }
      ]
    },
    {
      "cell_type": "code",
      "metadata": {
        "colab": {
          "base_uri": "https://localhost:8080/"
        },
        "id": "OmdSNTwUVA9m",
        "outputId": "ad9041b7-eba7-40e6-c091-a07bee01bd60"
      },
      "source": [
        "# for comparing individual networks from experimental sets\n",
        "hub_model = \"https://tfhub.dev/google/nnlm-en-dim50/2\"\n",
        "hub_layer = hub.KerasLayer(hub_model, input_shape=[], dtype=tf.string, trainable=True)\n",
        "\n",
        "expset2 = tf.keras.Sequential([\n",
        "                          hub_layer\n",
        "                          ,tf.keras.layers.Reshape((1,50)) \n",
        "                          ,tf.keras.layers.Conv1D(64, kernel_size= 7, padding = \"same\", activation='relu')\n",
        "                          ,tf.keras.layers.MaxPooling1D(pool_size=3, padding = \"same\",strides=3)\n",
        "                          ,tf.keras.layers.Conv1D(64, kernel_size= 7, padding = \"same\", activation='relu')\n",
        "                          ,tf.keras.layers.MaxPooling1D(pool_size=3, padding = \"same\",strides=3)    \n",
        "                          ,tf.keras.layers.Dense(500, activation='relu')\n",
        "                          ,tf.keras.layers.Dropout(0.7)\n",
        "                          ,tf.keras.layers.Dense(4,activation='softmax')\n",
        "                          ])\n",
        "expset2.summary()"
      ],
      "execution_count": null,
      "outputs": [
        {
          "output_type": "stream",
          "text": [
            "Model: \"sequential_5\"\n",
            "_________________________________________________________________\n",
            "Layer (type)                 Output Shape              Param #   \n",
            "=================================================================\n",
            "keras_layer_5 (KerasLayer)   (None, 50)                48190600  \n",
            "_________________________________________________________________\n",
            "reshape_5 (Reshape)          (None, 1, 50)             0         \n",
            "_________________________________________________________________\n",
            "conv1d_10 (Conv1D)           (None, 1, 64)             22464     \n",
            "_________________________________________________________________\n",
            "max_pooling1d_10 (MaxPooling (None, 1, 64)             0         \n",
            "_________________________________________________________________\n",
            "conv1d_11 (Conv1D)           (None, 1, 64)             28736     \n",
            "_________________________________________________________________\n",
            "max_pooling1d_11 (MaxPooling (None, 1, 64)             0         \n",
            "_________________________________________________________________\n",
            "dense_7 (Dense)              (None, 1, 500)            32500     \n",
            "_________________________________________________________________\n",
            "dropout_2 (Dropout)          (None, 1, 500)            0         \n",
            "_________________________________________________________________\n",
            "dense_8 (Dense)              (None, 1, 4)              2004      \n",
            "=================================================================\n",
            "Total params: 48,276,304\n",
            "Trainable params: 48,276,304\n",
            "Non-trainable params: 0\n",
            "_________________________________________________________________\n"
          ],
          "name": "stdout"
        }
      ]
    },
    {
      "cell_type": "code",
      "metadata": {
        "id": "FxVQu0FcWiSp"
      },
      "source": [
        "expset2.compile(optimizer='adam'\n",
        "              ,loss=tf.keras.losses.SparseCategoricalCrossentropy() # if we set from_logits=True we do not have specify a softmax activation function in the last layer\n",
        "              ,metrics=['accuracy'])"
      ],
      "execution_count": null,
      "outputs": []
    },
    {
      "cell_type": "code",
      "metadata": {
        "colab": {
          "base_uri": "https://localhost:8080/"
        },
        "id": "-dQOnpJ0Vg6I",
        "outputId": "faf683c0-60ee-41bd-c0b6-fdf6aa8213b2"
      },
      "source": [
        "start = time.process_time()\n",
        "\n",
        "expset2_history = expset2.fit(train_examples\n",
        "                    ,train_labels                \n",
        "                    ,epochs=20\n",
        "                    ,validation_data=(valid_examples, valid_labels)\n",
        "                    ,batch_size = 500\n",
        "                    ,callbacks=[tf.keras.callbacks.EarlyStopping(monitor='val_accuracy', patience=2)]\n",
        "                    )\n",
        "\n",
        "stop = time.process_time()\n",
        "runtime = stop - start\n",
        "train_times.append(runtime)"
      ],
      "execution_count": null,
      "outputs": [
        {
          "output_type": "stream",
          "text": [
            "Epoch 1/20\n",
            "228/228 [==============================] - 5s 20ms/step - loss: 0.4730 - accuracy: 0.8411 - val_loss: 0.2916 - val_accuracy: 0.9040\n",
            "Epoch 2/20\n",
            "228/228 [==============================] - 4s 19ms/step - loss: 0.2513 - accuracy: 0.9182 - val_loss: 0.2723 - val_accuracy: 0.9083\n",
            "Epoch 3/20\n",
            "228/228 [==============================] - 4s 19ms/step - loss: 0.2001 - accuracy: 0.9350 - val_loss: 0.2787 - val_accuracy: 0.9082\n",
            "Epoch 4/20\n",
            "228/228 [==============================] - 4s 19ms/step - loss: 0.1640 - accuracy: 0.9463 - val_loss: 0.3000 - val_accuracy: 0.9038\n"
          ],
          "name": "stdout"
        }
      ]
    },
    {
      "cell_type": "code",
      "metadata": {
        "colab": {
          "base_uri": "https://localhost:8080/"
        },
        "id": "O34OvehSVsY3",
        "outputId": "c00f06d4-5ca2-43d9-804b-cc664795a9d8"
      },
      "source": [
        "test_loss, test_acc = expset2.evaluate(test_examples,test_labels)\n",
        "\n",
        "print('Test Loss: {}'.format(test_loss))\n",
        "print('Test Accuracy: {}'.format(test_acc))\n",
        "expset2loss = test_loss\n",
        "expset2acc = test_acc"
      ],
      "execution_count": null,
      "outputs": [
        {
          "output_type": "stream",
          "text": [
            "238/238 [==============================] - 1s 4ms/step - loss: 0.3058 - accuracy: 0.9053\n",
            "Test Loss: 0.3058261275291443\n",
            "Test Accuracy: 0.9052631855010986\n"
          ],
          "name": "stdout"
        }
      ]
    },
    {
      "cell_type": "code",
      "metadata": {
        "colab": {
          "base_uri": "https://localhost:8080/"
        },
        "id": "uLIuZw0dVxa5",
        "outputId": "0cf015ab-a562-4ab1-9404-2de1a94759c8"
      },
      "source": [
        "# for comparing individual networks from experimental sets\n",
        "hub_model = \"https://tfhub.dev/google/nnlm-en-dim50/2\"\n",
        "hub_layer = hub.KerasLayer(hub_model, input_shape=[], dtype=tf.string, trainable=True)\n",
        "\n",
        "expset3 = tf.keras.Sequential([\n",
        "                      hub_layer\n",
        "                      ,tf.keras.layers.Reshape((1,50)) \n",
        "                      ,tf.keras.layers.Bidirectional(tf.keras.layers.LSTM(128, dropout = 0.8,  return_sequences=True))\n",
        "                      ,tf.keras.layers.Bidirectional(tf.keras.layers.LSTM(128, dropout = 0.8))          \n",
        "                      ,tf.keras.layers.Dense(512, activation='relu')\n",
        "                      ,tf.keras.layers.Dropout(0.8)\n",
        "                      ,tf.keras.layers.Dense(4,activation='softmax')\n",
        "                      ])\n",
        "expset3.summary()"
      ],
      "execution_count": null,
      "outputs": [
        {
          "output_type": "stream",
          "text": [
            "Model: \"sequential_6\"\n",
            "_________________________________________________________________\n",
            "Layer (type)                 Output Shape              Param #   \n",
            "=================================================================\n",
            "keras_layer_6 (KerasLayer)   (None, 50)                48190600  \n",
            "_________________________________________________________________\n",
            "reshape_6 (Reshape)          (None, 1, 50)             0         \n",
            "_________________________________________________________________\n",
            "bidirectional (Bidirectional (None, 1, 256)            183296    \n",
            "_________________________________________________________________\n",
            "bidirectional_1 (Bidirection (None, 256)               394240    \n",
            "_________________________________________________________________\n",
            "dense_9 (Dense)              (None, 512)               131584    \n",
            "_________________________________________________________________\n",
            "dropout_3 (Dropout)          (None, 512)               0         \n",
            "_________________________________________________________________\n",
            "dense_10 (Dense)             (None, 4)                 2052      \n",
            "=================================================================\n",
            "Total params: 48,901,772\n",
            "Trainable params: 48,901,772\n",
            "Non-trainable params: 0\n",
            "_________________________________________________________________\n"
          ],
          "name": "stdout"
        }
      ]
    },
    {
      "cell_type": "code",
      "metadata": {
        "id": "2M3CwnXaWqB5"
      },
      "source": [
        "expset3.compile(optimizer='adam'\n",
        "              ,loss=tf.keras.losses.SparseCategoricalCrossentropy() # if we set from_logits=True we do not have specify a softmax activation function in the last layer\n",
        "              ,metrics=['accuracy'])"
      ],
      "execution_count": null,
      "outputs": []
    },
    {
      "cell_type": "code",
      "metadata": {
        "colab": {
          "base_uri": "https://localhost:8080/"
        },
        "id": "R8qr_zsQV9fc",
        "outputId": "06eefe36-be92-44fa-c7bd-da733c0dcd7d"
      },
      "source": [
        "start = time.process_time()\n",
        "\n",
        "expset3_history = expset3.fit(train_examples\n",
        "                    ,train_labels                \n",
        "                    ,epochs=20\n",
        "                    ,validation_data=(valid_examples, valid_labels)\n",
        "                    ,batch_size = 500\n",
        "                    ,callbacks=[tf.keras.callbacks.EarlyStopping(monitor='val_accuracy', patience=2)]\n",
        "                    )\n",
        "\n",
        "stop = time.process_time()\n",
        "runtime = stop - start\n",
        "train_times.append(runtime)"
      ],
      "execution_count": null,
      "outputs": [
        {
          "output_type": "stream",
          "text": [
            "Epoch 1/20\n",
            "228/228 [==============================] - 11s 26ms/step - loss: 0.7107 - accuracy: 0.7289 - val_loss: 0.3435 - val_accuracy: 0.8832\n",
            "Epoch 2/20\n",
            "228/228 [==============================] - 5s 21ms/step - loss: 0.4313 - accuracy: 0.8552 - val_loss: 0.3084 - val_accuracy: 0.8963\n",
            "Epoch 3/20\n",
            "228/228 [==============================] - 5s 21ms/step - loss: 0.3722 - accuracy: 0.8780 - val_loss: 0.2921 - val_accuracy: 0.9042\n",
            "Epoch 4/20\n",
            "228/228 [==============================] - 5s 21ms/step - loss: 0.3368 - accuracy: 0.8913 - val_loss: 0.2827 - val_accuracy: 0.9075\n",
            "Epoch 5/20\n",
            "228/228 [==============================] - 5s 21ms/step - loss: 0.3123 - accuracy: 0.8996 - val_loss: 0.2794 - val_accuracy: 0.9097\n",
            "Epoch 6/20\n",
            "228/228 [==============================] - 5s 20ms/step - loss: 0.2935 - accuracy: 0.9074 - val_loss: 0.2743 - val_accuracy: 0.9112\n",
            "Epoch 7/20\n",
            "228/228 [==============================] - 5s 20ms/step - loss: 0.2749 - accuracy: 0.9129 - val_loss: 0.2771 - val_accuracy: 0.9120\n",
            "Epoch 8/20\n",
            "228/228 [==============================] - 5s 20ms/step - loss: 0.2625 - accuracy: 0.9162 - val_loss: 0.2751 - val_accuracy: 0.9148\n",
            "Epoch 9/20\n",
            "228/228 [==============================] - 5s 20ms/step - loss: 0.2512 - accuracy: 0.9208 - val_loss: 0.2741 - val_accuracy: 0.9148\n",
            "Epoch 10/20\n",
            "228/228 [==============================] - 5s 20ms/step - loss: 0.2409 - accuracy: 0.9241 - val_loss: 0.2732 - val_accuracy: 0.9152\n",
            "Epoch 11/20\n",
            "228/228 [==============================] - 5s 20ms/step - loss: 0.2301 - accuracy: 0.9271 - val_loss: 0.2790 - val_accuracy: 0.9143\n",
            "Epoch 12/20\n",
            "228/228 [==============================] - 5s 20ms/step - loss: 0.2221 - accuracy: 0.9306 - val_loss: 0.2787 - val_accuracy: 0.9135\n"
          ],
          "name": "stdout"
        }
      ]
    },
    {
      "cell_type": "code",
      "metadata": {
        "colab": {
          "base_uri": "https://localhost:8080/"
        },
        "id": "z6M9E9N9V9qn",
        "outputId": "ee37f1b9-1d29-4447-fba1-99f9157ae310"
      },
      "source": [
        "test_loss, test_acc = expset3.evaluate(test_examples,test_labels)\n",
        "\n",
        "print('Test Loss: {}'.format(test_loss))\n",
        "print('Test Accuracy: {}'.format(test_acc))\n",
        "expset3loss = test_loss\n",
        "expset3acc = test_acc"
      ],
      "execution_count": null,
      "outputs": [
        {
          "output_type": "stream",
          "text": [
            "238/238 [==============================] - 2s 4ms/step - loss: 0.2872 - accuracy: 0.9109\n",
            "Test Loss: 0.2871600389480591\n",
            "Test Accuracy: 0.910921037197113\n"
          ],
          "name": "stdout"
        }
      ]
    },
    {
      "cell_type": "code",
      "metadata": {
        "id": "d0H_wEsQTcA2"
      },
      "source": [
        "history_df = pd.DataFrame(expset1_history.history)\n",
        "history_df = pd.DataFrame(history_df.tail(1).round(3))\n",
        "#experiment set 2 best\n",
        "expset2_history_df = pd.DataFrame(expset2_history.history)\n",
        "expset2_history_df = pd.DataFrame(expset2_history_df.tail(1).round(3))\n",
        "history_df = history_df.append(expset2_history_df)\n",
        "#experiment set 3 best\n",
        "expset3_history_df = pd.DataFrame(expset3_history.history)\n",
        "expset3_history_df = pd.DataFrame(expset3_history_df.tail(1).round(3))\n",
        "history_df = history_df.append(expset3_history_df)\n",
        "#benchmark\n",
        "benchmark_history_df = pd.DataFrame(benchmark_history.history)\n",
        "benchmark_history_df = pd.DataFrame(benchmark_history_df.tail(1).round(3))\n",
        "history_df = history_df.append(benchmark_history_df)"
      ],
      "execution_count": null,
      "outputs": []
    },
    {
      "cell_type": "code",
      "metadata": {
        "id": "OsQfBwkETc5W"
      },
      "source": [
        "times = np.zeros(4)\n",
        "for i in range(0, len(train_times)):\n",
        "  times[i] = round(train_times[i],2)"
      ],
      "execution_count": null,
      "outputs": []
    },
    {
      "cell_type": "code",
      "metadata": {
        "id": "rVtsyUShTnMH"
      },
      "source": [
        "history_df['trainingTime(s)'] = times"
      ],
      "execution_count": null,
      "outputs": []
    },
    {
      "cell_type": "code",
      "metadata": {
        "id": "96lE2cM5TpfI"
      },
      "source": [
        "condensed = history_df.iloc[[0,1,2,3],:]\n",
        "condensed = condensed.reset_index()"
      ],
      "execution_count": null,
      "outputs": []
    },
    {
      "cell_type": "code",
      "metadata": {
        "colab": {
          "base_uri": "https://localhost:8080/",
          "height": 173
        },
        "id": "Vvrk7FNVTwO6",
        "outputId": "37bca633-1b27-45c6-c067-75944f14c4bc"
      },
      "source": [
        "model = [\"1D CNN\",\"1D CNN\", \"Bidirectional RNN\", \"input + output\"]\n",
        "description = [\"tanh\", \"relu\", \"0.8 dropout\", \"only hub layer\"]\n",
        "test_accuracy = [expset1acc, expset2acc, expset3acc, benchmarkacc]\n",
        "\n",
        "test_loss = [expset1loss, expset2loss, expset3loss, benchmarkloss]\n",
        "\n",
        "condensed.insert(0, \"model\", model, allow_duplicates=True)\n",
        "condensed.insert(1, \"description\", description, allow_duplicates=True)\n",
        "condensed = condensed.rename(columns={\"index\": \"epochs\"})\n",
        "condensed.insert(8, \"test accuracy\", test_accuracy, allow_duplicates=True)\n",
        "condensed.insert(9, \"test loss\", test_loss, allow_duplicates=True)\n",
        "condensed['test accuracy'] = condensed['test accuracy'].round(3)\n",
        "condensed['test loss'] = condensed['test loss'].round(3)\n",
        "condensed"
      ],
      "execution_count": null,
      "outputs": [
        {
          "output_type": "execute_result",
          "data": {
            "text/html": [
              "<div>\n",
              "<style scoped>\n",
              "    .dataframe tbody tr th:only-of-type {\n",
              "        vertical-align: middle;\n",
              "    }\n",
              "\n",
              "    .dataframe tbody tr th {\n",
              "        vertical-align: top;\n",
              "    }\n",
              "\n",
              "    .dataframe thead th {\n",
              "        text-align: right;\n",
              "    }\n",
              "</style>\n",
              "<table border=\"1\" class=\"dataframe\">\n",
              "  <thead>\n",
              "    <tr style=\"text-align: right;\">\n",
              "      <th></th>\n",
              "      <th>model</th>\n",
              "      <th>description</th>\n",
              "      <th>epochs</th>\n",
              "      <th>loss</th>\n",
              "      <th>accuracy</th>\n",
              "      <th>val_loss</th>\n",
              "      <th>val_accuracy</th>\n",
              "      <th>trainingTime(s)</th>\n",
              "      <th>test accuracy</th>\n",
              "      <th>test loss</th>\n",
              "    </tr>\n",
              "  </thead>\n",
              "  <tbody>\n",
              "    <tr>\n",
              "      <th>0</th>\n",
              "      <td>1D CNN</td>\n",
              "      <td>tanh</td>\n",
              "      <td>3</td>\n",
              "      <td>0.168</td>\n",
              "      <td>0.945</td>\n",
              "      <td>0.313</td>\n",
              "      <td>0.900</td>\n",
              "      <td>22.21</td>\n",
              "      <td>0.898</td>\n",
              "      <td>0.321</td>\n",
              "    </tr>\n",
              "    <tr>\n",
              "      <th>1</th>\n",
              "      <td>1D CNN</td>\n",
              "      <td>relu</td>\n",
              "      <td>3</td>\n",
              "      <td>0.164</td>\n",
              "      <td>0.946</td>\n",
              "      <td>0.300</td>\n",
              "      <td>0.904</td>\n",
              "      <td>23.12</td>\n",
              "      <td>0.905</td>\n",
              "      <td>0.306</td>\n",
              "    </tr>\n",
              "    <tr>\n",
              "      <th>2</th>\n",
              "      <td>Bidirectional RNN</td>\n",
              "      <td>0.8 dropout</td>\n",
              "      <td>11</td>\n",
              "      <td>0.222</td>\n",
              "      <td>0.931</td>\n",
              "      <td>0.279</td>\n",
              "      <td>0.914</td>\n",
              "      <td>82.45</td>\n",
              "      <td>0.911</td>\n",
              "      <td>0.287</td>\n",
              "    </tr>\n",
              "    <tr>\n",
              "      <th>3</th>\n",
              "      <td>input + output</td>\n",
              "      <td>only hub layer</td>\n",
              "      <td>5</td>\n",
              "      <td>0.179</td>\n",
              "      <td>0.943</td>\n",
              "      <td>0.282</td>\n",
              "      <td>0.906</td>\n",
              "      <td>28.29</td>\n",
              "      <td>0.906</td>\n",
              "      <td>0.290</td>\n",
              "    </tr>\n",
              "  </tbody>\n",
              "</table>\n",
              "</div>"
            ],
            "text/plain": [
              "               model     description  ...  test accuracy  test loss\n",
              "0             1D CNN            tanh  ...          0.898      0.321\n",
              "1             1D CNN            relu  ...          0.905      0.306\n",
              "2  Bidirectional RNN     0.8 dropout  ...          0.911      0.287\n",
              "3     input + output  only hub layer  ...          0.906      0.290\n",
              "\n",
              "[4 rows x 10 columns]"
            ]
          },
          "metadata": {
            "tags": []
          },
          "execution_count": 67
        }
      ]
    }
  ]
}